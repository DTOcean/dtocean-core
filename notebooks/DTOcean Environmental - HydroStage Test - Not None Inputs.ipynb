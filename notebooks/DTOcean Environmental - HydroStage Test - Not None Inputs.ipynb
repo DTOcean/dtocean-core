{
 "cells": [
  {
   "cell_type": "markdown",
   "metadata": {},
   "source": [
    "# DTOcean Environmental Impact (Hydro Stage) Test"
   ]
  },
  {
   "cell_type": "code",
   "execution_count": 1,
   "metadata": {
    "collapsed": true
   },
   "outputs": [],
   "source": [
    "%matplotlib inline"
   ]
  },
  {
   "cell_type": "code",
   "execution_count": 2,
   "metadata": {
    "collapsed": true
   },
   "outputs": [],
   "source": [
    "from IPython.display import display, HTML"
   ]
  },
  {
   "cell_type": "code",
   "execution_count": 3,
   "metadata": {
    "collapsed": false
   },
   "outputs": [],
   "source": [
    "import matplotlib.pyplot as plt\n",
    "plt.rcParams['figure.figsize'] = (14.0, 8.0)"
   ]
  },
  {
   "cell_type": "code",
   "execution_count": 4,
   "metadata": {
    "collapsed": true
   },
   "outputs": [],
   "source": [
    "import numpy as np"
   ]
  },
  {
   "cell_type": "code",
   "execution_count": 5,
   "metadata": {
    "collapsed": false
   },
   "outputs": [],
   "source": [
    "from dtocean_core import start_logging\n",
    "from dtocean_core.core import Core\n",
    "from dtocean_core.menu import ModuleMenu, ProjectMenu, ThemeMenu\n",
    "from dtocean_core.pipeline import Tree"
   ]
  },
  {
   "cell_type": "code",
   "execution_count": 6,
   "metadata": {
    "collapsed": true
   },
   "outputs": [],
   "source": [
    "def html_list(x):\n",
    "    message = \"<ul>\"\n",
    "    for name in x:\n",
    "        message += \"<li>{}</li>\".format(name)\n",
    "    message += \"</ul>\"\n",
    "    return message\n",
    "def html_dict(x):\n",
    "    message = \"<ul>\"\n",
    "    for name, status in x.iteritems():\n",
    "        message += \"<li>{}: <b>{}</b></li>\".format(name, status)\n",
    "    message += \"</ul>\"\n",
    "    return message"
   ]
  },
  {
   "cell_type": "code",
   "execution_count": 7,
   "metadata": {
    "collapsed": false
   },
   "outputs": [
    {
     "name": "stdout",
     "output_type": "stream",
     "text": [
      "2016-12-08 11:40:20,078 - INFO - dtocean_core - Begin logging for dtocean_core.\n"
     ]
    }
   ],
   "source": [
    "# Bring up the logger\n",
    "start_logging()"
   ]
  },
  {
   "cell_type": "markdown",
   "metadata": {},
   "source": [
    "## Create the core, menus and pipeline tree\n",
    "\n",
    "The core object carrys all the system information and is operated on by the other classes"
   ]
  },
  {
   "cell_type": "code",
   "execution_count": 8,
   "metadata": {
    "collapsed": false
   },
   "outputs": [],
   "source": [
    "new_core = Core()\n",
    "project_menu = ProjectMenu()\n",
    "theme_menu = ThemeMenu()\n",
    "pipe_tree = Tree()"
   ]
  },
  {
   "cell_type": "markdown",
   "metadata": {},
   "source": [
    "## Create a new project"
   ]
  },
  {
   "cell_type": "code",
   "execution_count": 9,
   "metadata": {
    "collapsed": false
   },
   "outputs": [
    {
     "name": "stdout",
     "output_type": "stream",
     "text": [
      "2016-12-08 11:40:25,892 - INFO - aneris.entity.simulation - Created new Simulation with title \"Default\"\n",
      "2016-12-08 11:40:25,894 - INFO - aneris.control.simulation - Datastate with level \"initial\" stored\n",
      "2016-12-08 11:40:25,894 - INFO - aneris.control.pipeline - New Hub created for interface ProjectInterface.\n"
     ]
    }
   ],
   "source": [
    "project_title = \"DTOcean\"  \n",
    "new_project = project_menu.new_project(new_core, project_title)"
   ]
  },
  {
   "cell_type": "markdown",
   "metadata": {},
   "source": [
    "## Set the device type"
   ]
  },
  {
   "cell_type": "code",
   "execution_count": 10,
   "metadata": {
    "collapsed": false
   },
   "outputs": [
    {
     "name": "stdout",
     "output_type": "stream",
     "text": [
      "2016-12-08 11:40:25,921 - INFO - aneris.control.data - New \"device.system_type\" data stored with index 64FOWM\n",
      "2016-12-08 11:40:25,923 - INFO - aneris.control.simulation - Datastate stored\n"
     ]
    }
   ],
   "source": [
    "options_branch = pipe_tree.get_branch(new_core, new_project, \"System Type Selection\")\n",
    "variable_id = \"device.system_type\"\n",
    "my_var = options_branch.get_input_variable(new_core, new_project, variable_id)\n",
    "my_var.set_raw_interface(new_core, \"Wave Floating\")\n",
    "my_var.read(new_core, new_project)"
   ]
  },
  {
   "cell_type": "markdown",
   "metadata": {},
   "source": [
    "## Initiate the pipeline\n",
    "This step will be important when the database is incorporated into the system as it will effect the operation of the pipeline."
   ]
  },
  {
   "cell_type": "code",
   "execution_count": 11,
   "metadata": {
    "collapsed": false
   },
   "outputs": [
    {
     "name": "stdout",
     "output_type": "stream",
     "text": [
      "2016-12-08 11:40:25,934 - INFO - aneris.control.simulation - Datastate with level \"system type selection start\" stored\n",
      "2016-12-08 11:40:25,947 - INFO - aneris.control.data - New \"hidden.pipeline_active\" data stored with index 9UOTQI\n",
      "2016-12-08 11:40:25,948 - INFO - aneris.control.simulation - Datastate with level \"system type selection output\" stored\n",
      "2016-12-08 11:40:25,950 - INFO - aneris.control.pipeline - New Pipeline created for interface ModuleInterface.\n",
      "2016-12-08 11:40:25,951 - INFO - aneris.control.pipeline - New Hub created for interface ThemeInterface.\n"
     ]
    }
   ],
   "source": [
    "project_menu.initiate_pipeline(new_core, new_project)"
   ]
  },
  {
   "cell_type": "markdown",
   "metadata": {},
   "source": [
    "## Discover available modules"
   ]
  },
  {
   "cell_type": "code",
   "execution_count": 12,
   "metadata": {
    "collapsed": false
   },
   "outputs": [
    {
     "data": {
      "text/html": [
       "<ul><li>Economics</li><li>Reliability</li><li>Environmental Impact Assessment</li></ul>"
      ],
      "text/plain": [
       "<IPython.core.display.HTML object>"
      ]
     },
     "execution_count": 12,
     "metadata": {},
     "output_type": "execute_result"
    }
   ],
   "source": [
    "names_themes = theme_menu.get_available(new_core, new_project)\n",
    "message = html_list(names_themes)\n",
    "HTML(message)\n"
   ]
  },
  {
   "cell_type": "markdown",
   "metadata": {},
   "source": [
    "## Activate a module\n",
    "\n",
    "Note that the order of activation is important and that we can't deactivate yet!"
   ]
  },
  {
   "cell_type": "code",
   "execution_count": 13,
   "metadata": {
    "collapsed": false
   },
   "outputs": [],
   "source": [
    "theme_name = 'Environmental Impact Assessment'\n",
    "theme_menu.activate(new_core, new_project, theme_name)\n"
   ]
  },
  {
   "cell_type": "markdown",
   "metadata": {},
   "source": [
    "## Check the status of the module inputs"
   ]
  },
  {
   "cell_type": "code",
   "execution_count": 14,
   "metadata": {
    "collapsed": false
   },
   "outputs": [
    {
     "data": {
      "text/html": [
       "<ul><li>farm.operat_chemical_pollution_weight: <b>optional</b></li><li>farm.receptor_species: <b>optional</b></li><li>farm.elec_footprint_weight: <b>optional</b></li><li>farm.operation_journeys: <b>optional</b></li><li>farm.install_measured_turbidity: <b>optional</b></li><li>farm.elec_measured_noise: <b>optional</b></li><li>device.system_height: <b>optional</b></li><li>farm.operat_measured_turbidity: <b>optional</b></li><li>farm.substation_props: <b>optional</b></li><li>farm.initial_magnetic_field: <b>optional</b></li><li>farm.direction_of_max_surface_current: <b>optional</b></li><li>farm.moorings_dimensions: <b>optional</b></li><li>farm.hydro_measured_noise: <b>optional</b></li><li>farm.substation_layout: <b>optional</b></li><li>farm.number_of_devices: <b>optional</b></li><li>farm.install_footprint_weight: <b>optional</b></li><li>farm.moor_reef_effect_weight: <b>optional</b></li><li>farm.resource_reduction: <b>optional</b></li><li>device.system_width: <b>optional</b></li><li>farm.install_import_chem_pollutant: <b>optional</b></li><li>farm.elec_collision_risk_weight: <b>optional</b></li><li>farm.initial_temperature: <b>optional</b></li><li>farm.elec_reserve_effect_weight: <b>optional</b></li><li>farm.initial_noise: <b>optional</b></li><li>farm.hydro_collision_risk_weight: <b>optional</b></li><li>farm.moor_underwater_noise_risk_weight: <b>optional</b></li><li>farm.elec_measured_temperature: <b>optional</b></li><li>farm.hydro_reef_effect_weight: <b>optional</b></li><li>farm.hydro_underwater_noise_risk_weight: <b>optional</b></li><li>farm.elec_measured_elec_field: <b>optional</b></li><li>device.system_length: <b>optional</b></li><li>farm.hydro_energy_modif_weight: <b>optional</b></li><li>farm.operat_underwater_noise_risk_weight: <b>optional</b></li><li>farm.protected_species: <b>optional</b></li><li>farm.elec_resting_place_weight: <b>optional</b></li><li>farm.moor_collision_risk_weight: <b>optional</b></li><li>farm.operat_turbidity_risk_weight: <b>optional</b></li><li>farm.install_collision_risk_weight: <b>optional</b></li><li>farm.hydro_measured_turbidity: <b>optional</b></li><li>farm.elec_measured_magnetic_field: <b>optional</b></li><li>farm.elec_elec_field_weight: <b>optional</b></li><li>farm.install_turbidity_risk_weight: <b>optional</b></li><li>farm.operat_import_chem_pollutant: <b>optional</b></li><li>farm.hydro_turbidity_risk_weight: <b>optional</b></li><li>farm.elec_magnetic_field_weight: <b>optional</b></li><li>farm.install_chemical_pollution_weight: <b>optional</b></li><li>farm.hydro_reserve_effect_weight: <b>optional</b></li><li>farm.moor_footprint_weight: <b>optional</b></li><li>farm.operat_footprint_weight: <b>optional</b></li><li>farm.moor_measured_noise: <b>optional</b></li><li>farm.operat_collision_risk_weight: <b>optional</b></li><li>farm.layout: <b>required</b></li><li>farm.fishery_restricted_area: <b>optional</b></li><li>farm.installation_journeys: <b>optional</b></li><li>site.lease_boundary: <b>optional</b></li><li>farm.install_underwater_noise_risk_weight: <b>optional</b></li><li>farm.operation_vessel_average_size: <b>optional</b></li><li>device.system_draft: <b>optional</b></li><li>farm.install_measured_noise: <b>optional</b></li><li>device.system_type: <b>satisfied</b></li><li>farm.elec_reef_effect_weight: <b>optional</b></li><li>farm.hydro_resting_place_weight: <b>optional</b></li><li>bathymetry.layers: <b>optional</b></li><li>farm.elec_temp_modif_weight: <b>optional</b></li><li>farm.initial_turbidity: <b>optional</b></li><li>farm.installation_vessel_average_size: <b>optional</b></li><li>farm.operat_measured_noise: <b>optional</b></li><li>farm.initial_elec_field: <b>optional</b></li><li>farm.elec_underwater_noise_risk_weight: <b>optional</b></li></ul>"
      ],
      "text/plain": [
       "<IPython.core.display.HTML object>"
      ]
     },
     "execution_count": 14,
     "metadata": {},
     "output_type": "execute_result"
    }
   ],
   "source": [
    "environmental_branch = pipe_tree.get_branch(new_core, new_project, 'Environmental Impact Assessment')\n",
    "input_status = environmental_branch.get_input_status(new_core, new_project)\n",
    "message = html_dict(input_status)\n",
    "HTML(message)"
   ]
  },
  {
   "cell_type": "markdown",
   "metadata": {},
   "source": [
    "## Initiate the dataflow\n",
    "This indicates that the filtering and module / theme selections are complete"
   ]
  },
  {
   "cell_type": "code",
   "execution_count": 15,
   "metadata": {
    "collapsed": false
   },
   "outputs": [
    {
     "name": "stdout",
     "output_type": "stream",
     "text": [
      "2016-12-08 11:40:26,012 - INFO - aneris.control.data - New \"hidden.dataflow_active\" data stored with index TN37GC\n",
      "2016-12-08 11:40:26,013 - INFO - aneris.control.simulation - Datastate stored\n",
      "2016-12-08 11:40:26,016 - INFO - aneris.control.simulation - Datastate with level \"modules initial\" stored\n"
     ]
    }
   ],
   "source": [
    "project_menu.initiate_dataflow(new_core, new_project)"
   ]
  },
  {
   "cell_type": "markdown",
   "metadata": {},
   "source": [
    "## Load test data"
   ]
  },
  {
   "cell_type": "markdown",
   "metadata": {},
   "source": [
    "Prepare the test data for loading. The files required can be found in the test_data directory of the source code and should be copied to the directory that the notebook is running. When the python file is run a pickle file is generated containing a dictionary of inputs."
   ]
  },
  {
   "cell_type": "code",
   "execution_count": 16,
   "metadata": {
    "collapsed": false
   },
   "outputs": [
    {
     "name": "stdout",
     "output_type": "stream",
     "text": [
      "generate test data: d:\\Users\\108386\\Desktop\\notebooks\\inputs_environmental_not_none.pkl\n"
     ]
    }
   ],
   "source": [
    "%run inputs_environmental_not_none.py"
   ]
  },
  {
   "cell_type": "code",
   "execution_count": 17,
   "metadata": {
    "collapsed": false
   },
   "outputs": [
    {
     "name": "stdout",
     "output_type": "stream",
     "text": [
      "2016-12-08 11:41:12,529 - INFO - aneris.control.data - New \"farm.hydro_measured_turbidity\" data stored with index N5VD16\n",
      "2016-12-08 11:41:12,530 - INFO - aneris.control.data - New \"site.lease_boundary\" data stored with index TYJK6F\n",
      "2016-12-08 11:41:12,532 - INFO - aneris.control.data - New \"farm.hydro_reserve_effect_weight\" data stored with index N6VN0Q\n",
      "2016-12-08 11:41:12,536 - INFO - aneris.control.data - New \"farm.receptor_species\" data stored with index RXBITM\n",
      "2016-12-08 11:41:12,539 - INFO - aneris.control.data - New \"farm.hydro_measured_noise\" data stored with index 0AJ847\n",
      "2016-12-08 11:41:12,546 - INFO - aneris.control.data - New \"bathymetry.layers\" data stored with index BB9KSG\n",
      "2016-12-08 11:41:12,548 - INFO - aneris.control.data - New \"farm.hydro_underwater_noise_risk_weight\" data stored with index PSPF5N\n",
      "2016-12-08 11:41:12,549 - INFO - aneris.control.data - New \"farm.hydro_energy_modif_weight\" data stored with index K1IMXC\n",
      "2016-12-08 11:41:12,549 - INFO - aneris.control.data - New \"farm.initial_noise\" data stored with index 4BIIY5\n",
      "2016-12-08 11:41:12,551 - INFO - aneris.control.data - New \"farm.hydro_collision_risk_weight\" data stored with index 7O6YSI\n",
      "2016-12-08 11:41:12,552 - INFO - aneris.control.data - New \"farm.hydro_resting_place_weight\" data stored with index 19H8LX\n",
      "2016-12-08 11:41:12,555 - INFO - aneris.control.data - New \"farm.layout\" data stored with index 1WW7X6\n",
      "2016-12-08 11:41:12,555 - INFO - aneris.control.data - New \"farm.fishery_restricted_area\" data stored with index W9R3C5\n",
      "2016-12-08 11:41:12,558 - INFO - aneris.control.data - New \"farm.initial_turbidity\" data stored with index YTXN8W\n",
      "2016-12-08 11:41:12,559 - INFO - aneris.control.data - New \"farm.number_of_devices\" data stored with index BNGPPZ\n",
      "2016-12-08 11:41:12,559 - INFO - aneris.control.data - New \"farm.hydro_reef_effect_weight\" data stored with index TOW9KA\n",
      "2016-12-08 11:41:12,561 - INFO - aneris.control.simulation - Datastate stored\n"
     ]
    }
   ],
   "source": [
    "environmental_branch.read_test_data(new_core,\n",
    "                            new_project,\n",
    "                            \"inputs_environmental_not_none.pkl\")"
   ]
  },
  {
   "cell_type": "markdown",
   "metadata": {},
   "source": [
    "## Check if the module can be executed"
   ]
  },
  {
   "cell_type": "code",
   "execution_count": 18,
   "metadata": {
    "collapsed": false
   },
   "outputs": [
    {
     "data": {
      "text/plain": [
       "True"
      ]
     },
     "metadata": {},
     "output_type": "display_data"
    }
   ],
   "source": [
    "can_execute = theme_menu.is_executable(new_core, new_project, theme_name)\n",
    "display(can_execute)"
   ]
  },
  {
   "cell_type": "code",
   "execution_count": 19,
   "metadata": {
    "collapsed": false
   },
   "outputs": [
    {
     "data": {
      "text/html": [
       "<ul><li>farm.operat_chemical_pollution_weight: <b>optional</b></li><li>farm.receptor_species: <b>satisfied</b></li><li>farm.elec_footprint_weight: <b>optional</b></li><li>farm.operation_journeys: <b>optional</b></li><li>farm.install_measured_turbidity: <b>optional</b></li><li>farm.elec_measured_noise: <b>optional</b></li><li>device.system_height: <b>optional</b></li><li>farm.operat_measured_turbidity: <b>optional</b></li><li>farm.substation_props: <b>optional</b></li><li>farm.initial_magnetic_field: <b>optional</b></li><li>farm.direction_of_max_surface_current: <b>optional</b></li><li>farm.moorings_dimensions: <b>optional</b></li><li>farm.hydro_measured_noise: <b>satisfied</b></li><li>farm.substation_layout: <b>optional</b></li><li>farm.number_of_devices: <b>satisfied</b></li><li>farm.install_footprint_weight: <b>optional</b></li><li>farm.moor_reef_effect_weight: <b>optional</b></li><li>farm.resource_reduction: <b>optional</b></li><li>device.system_width: <b>optional</b></li><li>farm.install_import_chem_pollutant: <b>optional</b></li><li>farm.elec_collision_risk_weight: <b>optional</b></li><li>farm.initial_temperature: <b>optional</b></li><li>farm.elec_reserve_effect_weight: <b>optional</b></li><li>farm.initial_noise: <b>satisfied</b></li><li>farm.hydro_collision_risk_weight: <b>satisfied</b></li><li>farm.moor_underwater_noise_risk_weight: <b>optional</b></li><li>farm.elec_measured_temperature: <b>optional</b></li><li>farm.hydro_reef_effect_weight: <b>satisfied</b></li><li>farm.hydro_underwater_noise_risk_weight: <b>satisfied</b></li><li>farm.elec_measured_elec_field: <b>optional</b></li><li>device.system_length: <b>optional</b></li><li>farm.hydro_energy_modif_weight: <b>satisfied</b></li><li>farm.operat_underwater_noise_risk_weight: <b>optional</b></li><li>farm.protected_species: <b>optional</b></li><li>farm.elec_resting_place_weight: <b>optional</b></li><li>farm.moor_collision_risk_weight: <b>optional</b></li><li>farm.operat_turbidity_risk_weight: <b>optional</b></li><li>farm.install_collision_risk_weight: <b>optional</b></li><li>farm.hydro_measured_turbidity: <b>satisfied</b></li><li>farm.elec_measured_magnetic_field: <b>optional</b></li><li>farm.elec_elec_field_weight: <b>optional</b></li><li>farm.install_turbidity_risk_weight: <b>optional</b></li><li>farm.operat_import_chem_pollutant: <b>optional</b></li><li>farm.hydro_turbidity_risk_weight: <b>optional</b></li><li>farm.elec_magnetic_field_weight: <b>optional</b></li><li>farm.install_chemical_pollution_weight: <b>optional</b></li><li>farm.hydro_reserve_effect_weight: <b>satisfied</b></li><li>farm.moor_footprint_weight: <b>optional</b></li><li>farm.operat_footprint_weight: <b>optional</b></li><li>farm.moor_measured_noise: <b>optional</b></li><li>farm.operat_collision_risk_weight: <b>optional</b></li><li>farm.layout: <b>satisfied</b></li><li>farm.fishery_restricted_area: <b>satisfied</b></li><li>farm.installation_journeys: <b>optional</b></li><li>site.lease_boundary: <b>satisfied</b></li><li>farm.install_underwater_noise_risk_weight: <b>optional</b></li><li>farm.operation_vessel_average_size: <b>optional</b></li><li>device.system_draft: <b>optional</b></li><li>farm.install_measured_noise: <b>optional</b></li><li>device.system_type: <b>satisfied</b></li><li>farm.elec_reef_effect_weight: <b>optional</b></li><li>farm.hydro_resting_place_weight: <b>satisfied</b></li><li>bathymetry.layers: <b>satisfied</b></li><li>farm.elec_temp_modif_weight: <b>optional</b></li><li>farm.initial_turbidity: <b>satisfied</b></li><li>farm.installation_vessel_average_size: <b>optional</b></li><li>farm.operat_measured_noise: <b>optional</b></li><li>farm.initial_elec_field: <b>optional</b></li><li>farm.elec_underwater_noise_risk_weight: <b>optional</b></li></ul>"
      ],
      "text/plain": [
       "<IPython.core.display.HTML object>"
      ]
     },
     "execution_count": 19,
     "metadata": {},
     "output_type": "execute_result"
    }
   ],
   "source": [
    "input_status = environmental_branch.get_input_status(new_core, new_project)\n",
    "message = html_dict(input_status)\n",
    "HTML(message)"
   ]
  },
  {
   "cell_type": "markdown",
   "metadata": {},
   "source": [
    "## Execute the current module\n",
    "\n",
    "The \"current\" module refers to the next module to be executed in the chain (pipeline) of modules. This command will only execute that module and another will be used for executing all of the modules at once.\n",
    "\n",
    "Note, any data supplied by the module will be automatically copied into the active data state."
   ]
  },
  {
   "cell_type": "code",
   "execution_count": 20,
   "metadata": {
    "collapsed": false
   },
   "outputs": [
    {
     "name": "stdout",
     "output_type": "stream",
     "text": [
      "2016-12-08 11:41:12,631 - INFO - dtocean_core.core - Auto executing interface Environmental Impact Assessment\n",
      "2016-12-08 11:41:12,632 - INFO - aneris.control.simulation - Datastate with level \"themes start\" stored\n",
      "2016-12-08 11:41:12,892 - INFO - aneris.control.data - New \"farm.global_eis\" data stored with index EYBJKA\n",
      "2016-12-08 11:41:12,894 - INFO - aneris.control.data - New \"farm.hydro_global_eis\" data stored with index P3VTYT\n",
      "2016-12-08 11:41:12,895 - INFO - aneris.control.data - New \"farm.hydro_eis\" data stored with index NOG9NK\n",
      "2016-12-08 11:41:12,898 - INFO - aneris.control.data - New \"farm.hydro_confidence\" data stored with index H367LJ\n",
      "2016-12-08 11:41:12,901 - INFO - aneris.control.data - New \"farm.hydro_season\" data stored with index RQU7TM\n",
      "2016-12-08 11:41:12,904 - INFO - aneris.control.data - New \"farm.hydro_recommendation_dict\" data stored with index MDPD2U\n",
      "2016-12-08 11:41:12,904 - INFO - aneris.control.data - New \"farm.elec_global_eis\" data stored with index UI4FHG\n",
      "2016-12-08 11:41:12,907 - INFO - aneris.control.data - New \"farm.elec_eis\" data stored with index YRT84Z\n",
      "2016-12-08 11:41:12,907 - INFO - aneris.control.data - New \"farm.elec_confidence\" data stored with index Q5GGTU\n",
      "2016-12-08 11:41:12,911 - INFO - aneris.control.data - New \"farm.elec_season\" data stored with index 83YQ57\n",
      "2016-12-08 11:41:12,913 - INFO - aneris.control.data - New \"farm.elec_recommendation_dict\" data stored with index FWVF26\n",
      "2016-12-08 11:41:12,918 - INFO - aneris.control.simulation - Datastate with level \"themes output\" stored\n"
     ]
    },
    {
     "name": "stderr",
     "output_type": "stream",
     "text": [
      "C:\\Anaconda\\envs\\dtocean\\lib\\site-packages\\numpy\\lib\\nanfunctions.py:675: RuntimeWarning: Mean of empty slice\n",
      "  warnings.warn(\"Mean of empty slice\", RuntimeWarning)\n",
      "C:\\Anaconda\\envs\\dtocean\\lib\\site-packages\\numpy\\lib\\nanfunctions.py:227: RuntimeWarning: All-NaN axis encountered\n",
      "  warnings.warn(\"All-NaN axis encountered\", RuntimeWarning)\n",
      "C:\\Anaconda\\envs\\dtocean\\lib\\site-packages\\numpy\\lib\\nanfunctions.py:326: RuntimeWarning: All-NaN slice encountered\n",
      "  warnings.warn(\"All-NaN slice encountered\", RuntimeWarning)\n"
     ]
    }
   ],
   "source": [
    "theme_menu.execute_all(new_core, new_project)"
   ]
  },
  {
   "cell_type": "markdown",
   "metadata": {},
   "source": [
    "## Examine the results\n",
    "\n",
    "Currently, there is no robustness built into the core, so the assumption is that the module executed successfully. This will have to be improved towards deployment of the final software.\n",
    "\n",
    "Let's check the number of devices and annual output of the farm, using just information in the data object."
   ]
  },
  {
   "cell_type": "code",
   "execution_count": null,
   "metadata": {
    "collapsed": false
   },
   "outputs": [],
   "source": [
    "\n"
   ]
  },
  {
   "cell_type": "code",
   "execution_count": 21,
   "metadata": {
    "collapsed": false
   },
   "outputs": [
    {
     "data": {
      "text/html": [
       "<ul><li>farm.operat_recommendation_dict: <b>unavailable</b></li><li>farm.operat_season: <b>unavailable</b></li><li>farm.operat_global_eis: <b>unavailable</b></li><li>farm.global_eis: <b>satisfied</b></li><li>farm.hydro_season: <b>satisfied</b></li><li>farm.install_season: <b>unavailable</b></li><li>farm.install_eis: <b>unavailable</b></li><li>farm.moor_eis: <b>unavailable</b></li><li>farm.elec_global_eis: <b>satisfied</b></li><li>farm.install_confidence: <b>unavailable</b></li><li>farm.hydro_global_eis: <b>satisfied</b></li><li>farm.moor_confidence: <b>unavailable</b></li><li>farm.hydro_recommendation_dict: <b>satisfied</b></li><li>farm.operat_eis: <b>unavailable</b></li><li>farm.operat_confidence: <b>unavailable</b></li><li>farm.elec_recommendation_dict: <b>satisfied</b></li><li>farm.elec_eis: <b>satisfied</b></li><li>farm.moor_global_eis: <b>unavailable</b></li><li>farm.install_global_eis: <b>unavailable</b></li><li>farm.hydro_eis: <b>satisfied</b></li><li>farm.moor_recommendation_dict: <b>unavailable</b></li><li>farm.install_recommendation_dict: <b>unavailable</b></li><li>farm.elec_season: <b>satisfied</b></li><li>farm.elec_confidence: <b>satisfied</b></li><li>farm.hydro_confidence: <b>satisfied</b></li><li>farm.moor_season: <b>unavailable</b></li></ul>"
      ],
      "text/plain": [
       "<IPython.core.display.HTML object>"
      ]
     },
     "execution_count": 21,
     "metadata": {},
     "output_type": "execute_result"
    }
   ],
   "source": [
    "output_status = environmental_branch.get_output_status(new_core, new_project)\n",
    "message = html_dict(output_status)\n",
    "HTML(message)"
   ]
  },
  {
   "cell_type": "code",
   "execution_count": 22,
   "metadata": {
    "collapsed": false
   },
   "outputs": [
    {
     "data": {
      "text/plain": [
       "{'Max Negative Impact': -61.200000000000003,\n",
       " 'Max Positive Impact': 10.004636,\n",
       " 'Min Negative Impact': -10.0,\n",
       " 'Min Positive Impact': 10.004636,\n",
       " 'Negative Impact': -35.600000000000001,\n",
       " 'Positive Impact': 10.004636}"
      ]
     },
     "execution_count": 22,
     "metadata": {},
     "output_type": "execute_result"
    }
   ],
   "source": [
    "hydro_global_eis = new_core.get_data_value(new_project, \"farm.hydro_global_eis\")\n",
    "\n",
    "hydro_global_eis\n"
   ]
  },
  {
   "cell_type": "code",
   "execution_count": 23,
   "metadata": {
    "collapsed": false
   },
   "outputs": [
    {
     "data": {
      "text/plain": [
       "False"
      ]
     },
     "execution_count": 23,
     "metadata": {},
     "output_type": "execute_result"
    }
   ],
   "source": [
    "import math\n",
    "math.isnan(hydro_global_eis[\"Negative Impact\"])"
   ]
  },
  {
   "cell_type": "markdown",
   "metadata": {},
   "source": []
  },
  {
   "cell_type": "markdown",
   "metadata": {},
   "source": [
    "## Plotting some graphs\n",
    "\n",
    "By having data objects with set formats it should be possible to create automated plot generation. However, some plots may be too complex and some special cases may need defined."
   ]
  },
  {
   "cell_type": "code",
   "execution_count": 24,
   "metadata": {
    "collapsed": false
   },
   "outputs": [
    {
     "ename": "ValueError",
     "evalue": "Variable ID \"farm.annual_energy_per_device\" is not contained in the active data state.",
     "output_type": "error",
     "traceback": [
      "\u001b[1;31m---------------------------------------------------------------------------\u001b[0m",
      "\u001b[1;31mValueError\u001b[0m                                Traceback (most recent call last)",
      "\u001b[1;32m<ipython-input-24-757d0bc36212>\u001b[0m in \u001b[0;36m<module>\u001b[1;34m()\u001b[0m\n\u001b[0;32m      1\u001b[0m annual_energy_per_dev_value = new_core.get_data_value(new_project, \n\u001b[1;32m----> 2\u001b[1;33m                                                      \"farm.annual_energy_per_device\")\n\u001b[0m\u001b[0;32m      3\u001b[0m \u001b[0mmeta\u001b[0m \u001b[1;33m=\u001b[0m \u001b[0mnew_core\u001b[0m\u001b[1;33m.\u001b[0m\u001b[0mget_metadata\u001b[0m\u001b[1;33m(\u001b[0m\u001b[1;34m\"farm.annual_energy_per_device\"\u001b[0m\u001b[1;33m)\u001b[0m\u001b[1;33m\u001b[0m\u001b[0m\n\u001b[0;32m      4\u001b[0m \u001b[1;33m\u001b[0m\u001b[0m\n\u001b[0;32m      5\u001b[0m \u001b[0mchart_values\u001b[0m \u001b[1;33m=\u001b[0m \u001b[0mnp\u001b[0m\u001b[1;33m.\u001b[0m\u001b[0marray\u001b[0m\u001b[1;33m(\u001b[0m\u001b[0mannual_energy_per_dev_value\u001b[0m\u001b[1;33m.\u001b[0m\u001b[0mvalues\u001b[0m\u001b[1;33m(\u001b[0m\u001b[1;33m)\u001b[0m\u001b[1;33m)\u001b[0m\u001b[1;33m\u001b[0m\u001b[0m\n",
      "\u001b[1;32mC:\\Anaconda\\envs\\dtocean\\lib\\site-packages\\dtocean_core-0.8.3.dev0-py2.7.egg\\dtocean_core\\core.pyc\u001b[0m in \u001b[0;36mget_data_value\u001b[1;34m(self, project, identifier)\u001b[0m\n\u001b[0;32m    885\u001b[0m             errStr = ('Variable ID \"{}\" is not contained in the active data '\n\u001b[0;32m    886\u001b[0m                       'state.').format(identifier)\n\u001b[1;32m--> 887\u001b[1;33m             \u001b[1;32mraise\u001b[0m \u001b[0mValueError\u001b[0m\u001b[1;33m(\u001b[0m\u001b[0merrStr\u001b[0m\u001b[1;33m)\u001b[0m\u001b[1;33m\u001b[0m\u001b[0m\n\u001b[0m\u001b[0;32m    888\u001b[0m \u001b[1;33m\u001b[0m\u001b[0m\n\u001b[0;32m    889\u001b[0m         data_value = self.control.get_data_value(pool,\n",
      "\u001b[1;31mValueError\u001b[0m: Variable ID \"farm.annual_energy_per_device\" is not contained in the active data state."
     ]
    }
   ],
   "source": [
    "annual_energy_per_dev_value = new_core.get_data_value(new_project, \n",
    "                                                     \"farm.annual_energy_per_device\")\n",
    "meta = new_core.get_metadata(\"farm.annual_energy_per_device\")\n",
    "\n",
    "chart_values = np.array(annual_energy_per_dev_value.values())"
   ]
  },
  {
   "cell_type": "code",
   "execution_count": null,
   "metadata": {
    "collapsed": false
   },
   "outputs": [],
   "source": [
    "plt.bar(range(len(annual_energy_per_dev_value)),\n",
    "        chart_values,\n",
    "        align='center')\n",
    "            \n",
    "plt.xticks(range(len(annual_energy_per_dev_value)),\n",
    "           annual_energy_per_dev_value.keys())\n",
    "plt.title(meta.title)\n",
    "\n",
    "plt.ylabel(meta.units[0])\n",
    "\n",
    "plt.tight_layout()\n",
    "# plt.savefig('annual_energy_per_device.png')\n",
    "plt.show()"
   ]
  },
  {
   "cell_type": "markdown",
   "metadata": {},
   "source": [
    "## Plotting the Layout\n",
    "\n",
    "This may require such a special case. It is not clear is a new data type is required or just special plots associated to variable IDs."
   ]
  },
  {
   "cell_type": "code",
   "execution_count": null,
   "metadata": {
    "collapsed": true
   },
   "outputs": [],
   "source": [
    "layout_value = new_core.get_data_value(new_project, \"farm.layout\")\n",
    "layout_meta = new_core.get_metadata(\"farm.layout\")"
   ]
  },
  {
   "cell_type": "code",
   "execution_count": null,
   "metadata": {
    "collapsed": false,
    "scrolled": false
   },
   "outputs": [],
   "source": [
    "x = []\n",
    "y = []\n",
    "\n",
    "for coords in layout_value.itervalues():\n",
    "    \n",
    "    x.append(coords.x)\n",
    "    y.append(coords.y)\n",
    "\n",
    "fig = plt.figure()\n",
    "ax1 = fig.add_subplot(1,1,1, axisbg='lightskyblue')\n",
    "ax1.plot(x,y,'k+', mew=2, markersize=10)\n",
    "plt.title(layout_meta.title)\n",
    "plt.axis('equal')\n",
    "plt.show()"
   ]
  },
  {
   "cell_type": "code",
   "execution_count": null,
   "metadata": {
    "collapsed": true
   },
   "outputs": [],
   "source": []
  }
 ],
 "metadata": {
  "kernelspec": {
   "display_name": "Python 2",
   "language": "python",
   "name": "python2"
  },
  "language_info": {
   "codemirror_mode": {
    "name": "ipython",
    "version": 2
   },
   "file_extension": ".py",
   "mimetype": "text/x-python",
   "name": "python",
   "nbconvert_exporter": "python",
   "pygments_lexer": "ipython2",
   "version": "2.7.12"
  }
 },
 "nbformat": 4,
 "nbformat_minor": 0
}
