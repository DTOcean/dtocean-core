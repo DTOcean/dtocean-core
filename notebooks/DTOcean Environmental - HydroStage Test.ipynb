{
 "cells": [
  {
   "cell_type": "markdown",
   "metadata": {},
   "source": [
    "# DTOcean Environmental Impact (Hydro Stage) Test"
   ]
  },
  {
   "cell_type": "code",
   "execution_count": 1,
   "metadata": {
    "collapsed": true
   },
   "outputs": [],
   "source": [
    "%matplotlib inline"
   ]
  },
  {
   "cell_type": "code",
   "execution_count": 2,
   "metadata": {
    "collapsed": true
   },
   "outputs": [],
   "source": [
    "from IPython.display import display, HTML"
   ]
  },
  {
   "cell_type": "code",
   "execution_count": 3,
   "metadata": {
    "collapsed": false
   },
   "outputs": [],
   "source": [
    "import matplotlib.pyplot as plt\n",
    "plt.rcParams['figure.figsize'] = (14.0, 8.0)"
   ]
  },
  {
   "cell_type": "code",
   "execution_count": 4,
   "metadata": {
    "collapsed": true
   },
   "outputs": [],
   "source": [
    "import numpy as np"
   ]
  },
  {
   "cell_type": "code",
   "execution_count": 5,
   "metadata": {
    "collapsed": false
   },
   "outputs": [],
   "source": [
    "from dtocean_core import start_logging\n",
    "from dtocean_core.core import Core\n",
    "from dtocean_core.menu import ModuleMenu, ProjectMenu, ThemeMenu\n",
    "from dtocean_core.pipeline import Tree"
   ]
  },
  {
   "cell_type": "code",
   "execution_count": 6,
   "metadata": {
    "collapsed": true
   },
   "outputs": [],
   "source": [
    "def html_list(x):\n",
    "    message = \"<ul>\"\n",
    "    for name in x:\n",
    "        message += \"<li>{}</li>\".format(name)\n",
    "    message += \"</ul>\"\n",
    "    return message\n",
    "def html_dict(x):\n",
    "    message = \"<ul>\"\n",
    "    for name, status in x.iteritems():\n",
    "        message += \"<li>{}: <b>{}</b></li>\".format(name, status)\n",
    "    message += \"</ul>\"\n",
    "    return message"
   ]
  },
  {
   "cell_type": "code",
   "execution_count": 7,
   "metadata": {
    "collapsed": false
   },
   "outputs": [
    {
     "name": "stdout",
     "output_type": "stream",
     "text": [
      "2016-12-07 16:00:31,740 - INFO - dtocean_core - Begin logging for dtocean_core.\n"
     ]
    }
   ],
   "source": [
    "# Bring up the logger\n",
    "start_logging()"
   ]
  },
  {
   "cell_type": "markdown",
   "metadata": {},
   "source": [
    "## Create the core, menus and pipeline tree\n",
    "\n",
    "The core object carrys all the system information and is operated on by the other classes"
   ]
  },
  {
   "cell_type": "code",
   "execution_count": 8,
   "metadata": {
    "collapsed": false
   },
   "outputs": [],
   "source": [
    "new_core = Core()\n",
    "project_menu = ProjectMenu()\n",
    "theme_menu = ThemeMenu()\n",
    "pipe_tree = Tree()"
   ]
  },
  {
   "cell_type": "markdown",
   "metadata": {},
   "source": [
    "## Create a new project"
   ]
  },
  {
   "cell_type": "code",
   "execution_count": 9,
   "metadata": {
    "collapsed": false
   },
   "outputs": [
    {
     "name": "stdout",
     "output_type": "stream",
     "text": [
      "2016-12-07 16:00:37,125 - INFO - aneris.entity.simulation - Created new Simulation with title \"Default\"\n",
      "2016-12-07 16:00:37,127 - INFO - aneris.control.simulation - Datastate with level \"initial\" stored\n",
      "2016-12-07 16:00:37,128 - INFO - aneris.control.pipeline - New Hub created for interface ProjectInterface.\n"
     ]
    }
   ],
   "source": [
    "project_title = \"DTOcean\"  \n",
    "new_project = project_menu.new_project(new_core, project_title)"
   ]
  },
  {
   "cell_type": "markdown",
   "metadata": {},
   "source": [
    "## Set the device type"
   ]
  },
  {
   "cell_type": "code",
   "execution_count": 10,
   "metadata": {
    "collapsed": false
   },
   "outputs": [
    {
     "name": "stdout",
     "output_type": "stream",
     "text": [
      "2016-12-07 16:00:37,155 - INFO - aneris.control.data - New \"device.system_type\" data stored with index JFRARE\n",
      "2016-12-07 16:00:37,157 - INFO - aneris.control.simulation - Datastate stored\n"
     ]
    }
   ],
   "source": [
    "options_branch = pipe_tree.get_branch(new_core, new_project, \"System Type Selection\")\n",
    "variable_id = \"device.system_type\"\n",
    "my_var = options_branch.get_input_variable(new_core, new_project, variable_id)\n",
    "my_var.set_raw_interface(new_core, \"Wave Floating\")\n",
    "my_var.read(new_core, new_project)"
   ]
  },
  {
   "cell_type": "markdown",
   "metadata": {},
   "source": [
    "## Initiate the pipeline\n",
    "This step will be important when the database is incorporated into the system as it will effect the operation of the pipeline."
   ]
  },
  {
   "cell_type": "code",
   "execution_count": 11,
   "metadata": {
    "collapsed": false
   },
   "outputs": [
    {
     "name": "stdout",
     "output_type": "stream",
     "text": [
      "2016-12-07 16:00:37,176 - INFO - aneris.control.simulation - Datastate with level \"system type selection start\" stored\n",
      "2016-12-07 16:00:37,187 - INFO - aneris.control.data - New \"hidden.pipeline_active\" data stored with index 5DDSA6\n",
      "2016-12-07 16:00:37,188 - INFO - aneris.control.simulation - Datastate with level \"system type selection output\" stored\n",
      "2016-12-07 16:00:37,190 - INFO - aneris.control.pipeline - New Pipeline created for interface ModuleInterface.\n",
      "2016-12-07 16:00:37,193 - INFO - aneris.control.pipeline - New Hub created for interface ThemeInterface.\n"
     ]
    }
   ],
   "source": [
    "project_menu.initiate_pipeline(new_core, new_project)"
   ]
  },
  {
   "cell_type": "markdown",
   "metadata": {},
   "source": [
    "## Discover available modules"
   ]
  },
  {
   "cell_type": "code",
   "execution_count": 12,
   "metadata": {
    "collapsed": false
   },
   "outputs": [
    {
     "data": {
      "text/html": [
       "<ul><li>Economics</li><li>Reliability</li><li>Environmental Impact Assessment</li></ul>"
      ],
      "text/plain": [
       "<IPython.core.display.HTML object>"
      ]
     },
     "execution_count": 12,
     "metadata": {},
     "output_type": "execute_result"
    }
   ],
   "source": [
    "names_themes = theme_menu.get_available(new_core, new_project)\n",
    "message = html_list(names_themes)\n",
    "HTML(message)\n"
   ]
  },
  {
   "cell_type": "markdown",
   "metadata": {},
   "source": [
    "## Activate a module\n",
    "\n",
    "Note that the order of activation is important and that we can't deactivate yet!"
   ]
  },
  {
   "cell_type": "code",
   "execution_count": 13,
   "metadata": {
    "collapsed": false
   },
   "outputs": [],
   "source": [
    "theme_name = 'Environmental Impact Assessment'\n",
    "theme_menu.activate(new_core, new_project, theme_name)\n"
   ]
  },
  {
   "cell_type": "markdown",
   "metadata": {},
   "source": [
    "## Check the status of the module inputs"
   ]
  },
  {
   "cell_type": "code",
   "execution_count": 14,
   "metadata": {
    "collapsed": false
   },
   "outputs": [
    {
     "data": {
      "text/html": [
       "<ul><li>farm.operat_chemical_pollution_weight: <b>optional</b></li><li>farm.receptor_species: <b>optional</b></li><li>farm.elec_footprint_weight: <b>optional</b></li><li>farm.operation_journeys: <b>optional</b></li><li>farm.install_measured_turbidity: <b>optional</b></li><li>farm.elec_measured_noise: <b>optional</b></li><li>device.system_height: <b>optional</b></li><li>farm.operat_measured_turbidity: <b>optional</b></li><li>farm.substation_props: <b>optional</b></li><li>farm.initial_magnetic_field: <b>optional</b></li><li>farm.direction_of_max_surface_current: <b>optional</b></li><li>farm.moorings_dimensions: <b>optional</b></li><li>farm.hydro_measured_noise: <b>optional</b></li><li>farm.substation_layout: <b>optional</b></li><li>farm.number_of_devices: <b>optional</b></li><li>farm.install_footprint_weight: <b>optional</b></li><li>farm.moor_reef_effect_weight: <b>optional</b></li><li>farm.resource_reduction: <b>optional</b></li><li>device.system_width: <b>optional</b></li><li>farm.install_import_chem_pollutant: <b>optional</b></li><li>farm.elec_collision_risk_weight: <b>optional</b></li><li>farm.initial_temperature: <b>optional</b></li><li>farm.elec_reserve_effect_weight: <b>optional</b></li><li>farm.initial_noise: <b>optional</b></li><li>farm.hydro_collision_risk_weight: <b>optional</b></li><li>farm.moor_underwater_noise_risk_weight: <b>optional</b></li><li>farm.elec_measured_temperature: <b>optional</b></li><li>farm.hydro_reef_effect_weight: <b>optional</b></li><li>farm.hydro_underwater_noise_risk_weight: <b>optional</b></li><li>farm.elec_measured_elec_field: <b>optional</b></li><li>device.system_length: <b>optional</b></li><li>farm.hydro_energy_modif_weight: <b>optional</b></li><li>farm.operat_underwater_noise_risk_weight: <b>optional</b></li><li>farm.protected_species: <b>optional</b></li><li>farm.elec_resting_place_weight: <b>optional</b></li><li>farm.moor_collision_risk_weight: <b>optional</b></li><li>farm.operat_turbidity_risk_weight: <b>optional</b></li><li>farm.install_collision_risk_weight: <b>optional</b></li><li>farm.hydro_measured_turbidity: <b>optional</b></li><li>farm.elec_measured_magnetic_field: <b>optional</b></li><li>farm.elec_elec_field_weight: <b>optional</b></li><li>farm.install_turbidity_risk_weight: <b>optional</b></li><li>farm.operat_import_chem_pollutant: <b>optional</b></li><li>farm.hydro_turbidity_risk_weight: <b>optional</b></li><li>farm.elec_magnetic_field_weight: <b>optional</b></li><li>farm.install_chemical_pollution_weight: <b>optional</b></li><li>farm.hydro_reserve_effect_weight: <b>optional</b></li><li>farm.moor_footprint_weight: <b>optional</b></li><li>farm.operat_footprint_weight: <b>optional</b></li><li>farm.moor_measured_noise: <b>optional</b></li><li>farm.operat_collision_risk_weight: <b>optional</b></li><li>farm.layout: <b>required</b></li><li>farm.fishery_restricted_area: <b>optional</b></li><li>farm.installation_journeys: <b>optional</b></li><li>site.lease_boundary: <b>optional</b></li><li>farm.install_underwater_noise_risk_weight: <b>optional</b></li><li>farm.operation_vessel_average_size: <b>optional</b></li><li>device.system_draft: <b>optional</b></li><li>farm.install_measured_noise: <b>optional</b></li><li>device.system_type: <b>satisfied</b></li><li>farm.elec_reef_effect_weight: <b>optional</b></li><li>farm.hydro_resting_place_weight: <b>optional</b></li><li>bathymetry.layers: <b>optional</b></li><li>farm.elec_temp_modif_weight: <b>optional</b></li><li>farm.initial_turbidity: <b>optional</b></li><li>farm.installation_vessel_average_size: <b>optional</b></li><li>farm.operat_measured_noise: <b>optional</b></li><li>farm.initial_elec_field: <b>optional</b></li><li>farm.elec_underwater_noise_risk_weight: <b>optional</b></li></ul>"
      ],
      "text/plain": [
       "<IPython.core.display.HTML object>"
      ]
     },
     "execution_count": 14,
     "metadata": {},
     "output_type": "execute_result"
    }
   ],
   "source": [
    "environmental_branch = pipe_tree.get_branch(new_core, new_project, 'Environmental Impact Assessment')\n",
    "input_status = environmental_branch.get_input_status(new_core, new_project)\n",
    "message = html_dict(input_status)\n",
    "HTML(message)"
   ]
  },
  {
   "cell_type": "markdown",
   "metadata": {},
   "source": [
    "## Initiate the dataflow\n",
    "This indicates that the filtering and module / theme selections are complete"
   ]
  },
  {
   "cell_type": "code",
   "execution_count": null,
   "metadata": {
    "collapsed": false
   },
   "outputs": [
    {
     "name": "stdout",
     "output_type": "stream",
     "text": [
      "2016-12-07 16:00:37,265 - INFO - aneris.control.data - New \"hidden.dataflow_active\" data stored with index KLJIN7\n",
      "2016-12-07 16:00:37,266 - INFO - aneris.control.simulation - Datastate stored\n",
      "2016-12-07 16:00:37,269 - INFO - aneris.control.simulation - Datastate with level \"modules initial\" stored\n"
     ]
    }
   ],
   "source": [
    "project_menu.initiate_dataflow(new_core, new_project)"
   ]
  },
  {
   "cell_type": "markdown",
   "metadata": {},
   "source": [
    "## Load test data"
   ]
  },
  {
   "cell_type": "markdown",
   "metadata": {},
   "source": [
    "Prepare the test data for loading. The files required can be found in the test_data directory of the source code and should be copied to the directory that the notebook is running. When the python file is run a pickle file is generated containing a dictionary of inputs."
   ]
  },
  {
   "cell_type": "code",
   "execution_count": null,
   "metadata": {
    "collapsed": false
   },
   "outputs": [],
   "source": [
    "%run inputs_environmental.py"
   ]
  },
  {
   "cell_type": "code",
   "execution_count": null,
   "metadata": {
    "collapsed": false
   },
   "outputs": [],
   "source": [
    "environmental_branch.read_test_data(new_core,\n",
    "                            new_project,\n",
    "                            \"inputs_environmental.pkl\")"
   ]
  },
  {
   "cell_type": "markdown",
   "metadata": {},
   "source": [
    "## Check if the module can be executed"
   ]
  },
  {
   "cell_type": "code",
   "execution_count": null,
   "metadata": {
    "collapsed": false
   },
   "outputs": [],
   "source": [
    "can_execute = theme_menu.is_executable(new_core, new_project, theme_name)\n",
    "display(can_execute)"
   ]
  },
  {
   "cell_type": "code",
   "execution_count": null,
   "metadata": {
    "collapsed": false
   },
   "outputs": [],
   "source": [
    "input_status = environmental_branch.get_input_status(new_core, new_project)\n",
    "message = html_dict(input_status)\n",
    "HTML(message)"
   ]
  },
  {
   "cell_type": "markdown",
   "metadata": {},
   "source": [
    "## Execute the current module\n",
    "\n",
    "The \"current\" module refers to the next module to be executed in the chain (pipeline) of modules. This command will only execute that module and another will be used for executing all of the modules at once.\n",
    "\n",
    "Note, any data supplied by the module will be automatically copied into the active data state."
   ]
  },
  {
   "cell_type": "code",
   "execution_count": null,
   "metadata": {
    "collapsed": false
   },
   "outputs": [],
   "source": [
    "theme_menu.execute_all(new_core, new_project)"
   ]
  },
  {
   "cell_type": "markdown",
   "metadata": {},
   "source": [
    "## Examine the results\n",
    "\n",
    "Currently, there is no robustness built into the core, so the assumption is that the module executed successfully. This will have to be improved towards deployment of the final software.\n",
    "\n",
    "Let's check the number of devices and annual output of the farm, using just information in the data object."
   ]
  },
  {
   "cell_type": "code",
   "execution_count": null,
   "metadata": {
    "collapsed": false
   },
   "outputs": [],
   "source": [
    "\n"
   ]
  },
  {
   "cell_type": "code",
   "execution_count": null,
   "metadata": {
    "collapsed": false
   },
   "outputs": [],
   "source": [
    "output_status = environmental_branch.get_output_status(new_core, new_project)\n",
    "message = html_dict(output_status)\n",
    "HTML(message)"
   ]
  },
  {
   "cell_type": "code",
   "execution_count": null,
   "metadata": {
    "collapsed": false
   },
   "outputs": [],
   "source": [
    "global_eis= new_core.get_data_value(new_project, \"farm.global_eis\")\n",
    "\n",
    "global_eis\n"
   ]
  },
  {
   "cell_type": "code",
   "execution_count": null,
   "metadata": {
    "collapsed": false
   },
   "outputs": [],
   "source": [
    "import math\n",
    "math.isnan(hydro_global_eis[\"Negative Impact\"])"
   ]
  },
  {
   "cell_type": "markdown",
   "metadata": {},
   "source": []
  },
  {
   "cell_type": "markdown",
   "metadata": {},
   "source": [
    "## Plotting some graphs\n",
    "\n",
    "By having data objects with set formats it should be possible to create automated plot generation. However, some plots may be too complex and some special cases may need defined."
   ]
  },
  {
   "cell_type": "code",
   "execution_count": null,
   "metadata": {
    "collapsed": false
   },
   "outputs": [],
   "source": [
    "annual_energy_per_dev_value = new_core.get_data_value(new_project, \n",
    "                                                     \"farm.annual_energy_per_device\")\n",
    "meta = new_core.get_metadata(\"farm.annual_energy_per_device\")\n",
    "\n",
    "chart_values = np.array(annual_energy_per_dev_value.values())"
   ]
  },
  {
   "cell_type": "code",
   "execution_count": null,
   "metadata": {
    "collapsed": false
   },
   "outputs": [],
   "source": [
    "plt.bar(range(len(annual_energy_per_dev_value)),\n",
    "        chart_values,\n",
    "        align='center')\n",
    "            \n",
    "plt.xticks(range(len(annual_energy_per_dev_value)),\n",
    "           annual_energy_per_dev_value.keys())\n",
    "plt.title(meta.title)\n",
    "\n",
    "plt.ylabel(meta.units[0])\n",
    "\n",
    "plt.tight_layout()\n",
    "# plt.savefig('annual_energy_per_device.png')\n",
    "plt.show()"
   ]
  },
  {
   "cell_type": "markdown",
   "metadata": {},
   "source": [
    "## Plotting the Layout\n",
    "\n",
    "This may require such a special case. It is not clear is a new data type is required or just special plots associated to variable IDs."
   ]
  },
  {
   "cell_type": "code",
   "execution_count": null,
   "metadata": {
    "collapsed": true
   },
   "outputs": [],
   "source": [
    "layout_value = new_core.get_data_value(new_project, \"farm.layout\")\n",
    "layout_meta = new_core.get_metadata(\"farm.layout\")"
   ]
  },
  {
   "cell_type": "code",
   "execution_count": null,
   "metadata": {
    "collapsed": false,
    "scrolled": false
   },
   "outputs": [],
   "source": [
    "x = []\n",
    "y = []\n",
    "\n",
    "for coords in layout_value.itervalues():\n",
    "    \n",
    "    x.append(coords.x)\n",
    "    y.append(coords.y)\n",
    "\n",
    "fig = plt.figure()\n",
    "ax1 = fig.add_subplot(1,1,1, axisbg='lightskyblue')\n",
    "ax1.plot(x,y,'k+', mew=2, markersize=10)\n",
    "plt.title(layout_meta.title)\n",
    "plt.axis('equal')\n",
    "plt.show()"
   ]
  },
  {
   "cell_type": "code",
   "execution_count": null,
   "metadata": {
    "collapsed": true
   },
   "outputs": [],
   "source": []
  }
 ],
 "metadata": {
  "kernelspec": {
   "display_name": "Python 2",
   "language": "python",
   "name": "python2"
  },
  "language_info": {
   "codemirror_mode": {
    "name": "ipython",
    "version": 2
   },
   "file_extension": ".py",
   "mimetype": "text/x-python",
   "name": "python",
   "nbconvert_exporter": "python",
   "pygments_lexer": "ipython2",
   "version": "2.7.12"
  }
 },
 "nbformat": 4,
 "nbformat_minor": 0
}
