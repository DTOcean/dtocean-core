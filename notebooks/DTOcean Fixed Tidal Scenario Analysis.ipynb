{
 "cells": [
  {
   "cell_type": "markdown",
   "metadata": {
    "collapsed": true
   },
   "source": [
    "# Fixed Tidal Scenario Analysis"
   ]
  },
  {
   "cell_type": "code",
   "execution_count": 3,
   "metadata": {
    "collapsed": true
   },
   "outputs": [],
   "source": [
    "%matplotlib inline"
   ]
  },
  {
   "cell_type": "code",
   "execution_count": 4,
   "metadata": {
    "collapsed": true
   },
   "outputs": [],
   "source": [
    "from IPython.display import display, HTML"
   ]
  },
  {
   "cell_type": "code",
   "execution_count": 5,
   "metadata": {
    "collapsed": false
   },
   "outputs": [],
   "source": [
    "import matplotlib.pyplot as plt\n",
    "plt.rcParams['figure.figsize'] = (14.0, 8.0)"
   ]
  },
  {
   "cell_type": "code",
   "execution_count": 6,
   "metadata": {
    "collapsed": true
   },
   "outputs": [],
   "source": [
    "import numpy as np\n",
    "from datetime import datetime"
   ]
  },
  {
   "cell_type": "code",
   "execution_count": 7,
   "metadata": {
    "collapsed": false
   },
   "outputs": [],
   "source": [
    "from dtocean_core import start_logging\n",
    "from dtocean_core.core import Core\n",
    "from dtocean_core.menu import DataMenu, ModuleMenu, ProjectMenu, ThemeMenu\n",
    "from dtocean_core.pipeline import Tree, _get_connector\n",
    "from dtocean_core.extensions import StrategyManager"
   ]
  },
  {
   "cell_type": "code",
   "execution_count": 8,
   "metadata": {
    "collapsed": false
   },
   "outputs": [
    {
     "name": "stdout",
     "output_type": "stream",
     "text": [
      "2016-09-12 11:54:19,348 - INFO - dtocean_core - Begin logging for dtocean_core.\n"
     ]
    }
   ],
   "source": [
    "# Bring up the logger\n",
    "start_logging()"
   ]
  },
  {
   "cell_type": "code",
   "execution_count": 9,
   "metadata": {
    "collapsed": true
   },
   "outputs": [],
   "source": [
    "def html_list(x):\n",
    "    message = \"<ul>\"\n",
    "    for name in x:\n",
    "        message += \"<li>{}</li>\".format(name)\n",
    "    message += \"</ul>\"\n",
    "    return message\n",
    "def html_dict(x):\n",
    "    message = \"<ul>\"\n",
    "    for name, status in x.iteritems():\n",
    "        message += \"<li>{}: <b>{}</b></li>\".format(name, status)\n",
    "    message += \"</ul>\"\n",
    "    return message\n",
    "def html_variable(core, project, variable):\n",
    "    value = variable.get_value(core, project)\n",
    "    metadata = variable.get_metadata(core)\n",
    "    name = metadata.title\n",
    "    units = metadata.units\n",
    "    message = \"<b>{}:</b> {}\".format(name, value)\n",
    "    if units:\n",
    "        message += \" ({})\".format(units[0])\n",
    "    return message"
   ]
  },
  {
   "cell_type": "markdown",
   "metadata": {},
   "source": [
    "## Create the core, menus and pipeline tree\n",
    "\n",
    "The core object carrys all the system information and is operated on by the other classes"
   ]
  },
  {
   "cell_type": "code",
   "execution_count": 10,
   "metadata": {
    "collapsed": false
   },
   "outputs": [],
   "source": [
    "new_core = Core()\n",
    "project_menu = ProjectMenu()\n",
    "module_menu = ModuleMenu()\n",
    "theme_menu = ThemeMenu()\n",
    "data_menu = DataMenu()\n",
    "pipe_tree = Tree()"
   ]
  },
  {
   "cell_type": "markdown",
   "metadata": {},
   "source": [
    "## Create a new project and tree"
   ]
  },
  {
   "cell_type": "code",
   "execution_count": 11,
   "metadata": {
    "collapsed": false
   },
   "outputs": [
    {
     "name": "stdout",
     "output_type": "stream",
     "text": [
      "2016-09-12 11:54:24,607 - INFO - aneris.entity.simulation - Created new Simulation with title \"Default\"\n",
      "2016-09-12 11:54:24,608 - INFO - aneris.control.simulation - Datastate with level \"initial\" stored\n",
      "2016-09-12 11:54:24,608 - INFO - aneris.control.pipeline - New Hub created for interface ProjectInterface.\n"
     ]
    }
   ],
   "source": [
    "project_title = \"DTOcean\"  \n",
    "new_project = project_menu.new_project(new_core, project_title)"
   ]
  },
  {
   "cell_type": "markdown",
   "metadata": {},
   "source": [
    "## Set the device type"
   ]
  },
  {
   "cell_type": "code",
   "execution_count": 12,
   "metadata": {
    "collapsed": false
   },
   "outputs": [
    {
     "name": "stdout",
     "output_type": "stream",
     "text": [
      "2016-09-12 11:54:24,634 - INFO - aneris.control.data - New \"device.system_type\" data stored with index 34MUD5\n",
      "2016-09-12 11:54:24,634 - INFO - aneris.control.simulation - Datastate stored\n"
     ]
    }
   ],
   "source": [
    "options_branch = pipe_tree.get_branch(new_core, new_project, \"System Type Selection\")\n",
    "variable_id = \"device.system_type\"\n",
    "my_var = options_branch.get_input_variable(new_core, new_project, variable_id)\n",
    "my_var.set_raw_interface(new_core, \"Tidal Fixed\")\n",
    "my_var.read(new_core, new_project)"
   ]
  },
  {
   "cell_type": "markdown",
   "metadata": {},
   "source": [
    "## Initiate the pipeline\n",
    "This step will be important when the database is incorporated into the system as it will effect the operation of the pipeline."
   ]
  },
  {
   "cell_type": "code",
   "execution_count": 13,
   "metadata": {
    "collapsed": false
   },
   "outputs": [
    {
     "name": "stdout",
     "output_type": "stream",
     "text": [
      "2016-09-12 11:54:24,650 - INFO - aneris.control.simulation - Datastate with level \"system type selection start\" stored\n",
      "2016-09-12 11:54:24,653 - INFO - aneris.control.data - New \"hidden.pipeline_active\" data stored with index YA6ZZW\n",
      "2016-09-12 11:54:24,654 - INFO - aneris.control.simulation - Datastate with level \"system type selection output\" stored\n",
      "2016-09-12 11:54:24,654 - INFO - aneris.control.pipeline - New Pipeline created for interface ModuleInterface.\n",
      "2016-09-12 11:54:24,655 - INFO - aneris.control.pipeline - New Hub created for interface ThemeInterface.\n"
     ]
    }
   ],
   "source": [
    "project_menu.initiate_pipeline(new_core, new_project)"
   ]
  },
  {
   "cell_type": "markdown",
   "metadata": {},
   "source": [
    "## Discover available modules"
   ]
  },
  {
   "cell_type": "code",
   "execution_count": 14,
   "metadata": {
    "collapsed": false
   },
   "outputs": [
    {
     "data": {
      "text/html": [
       "<ul><li>Hydrodynamics</li><li>Electrical Sub Systems</li><li>Mooring and Foundations</li></ul>"
      ],
      "text/plain": [
       "<IPython.core.display.HTML object>"
      ]
     },
     "execution_count": 14,
     "metadata": {},
     "output_type": "execute_result"
    }
   ],
   "source": [
    "names = module_menu.get_available(new_core, new_project)\n",
    "message = html_list(names)\n",
    "HTML(message)"
   ]
  },
  {
   "cell_type": "markdown",
   "metadata": {},
   "source": [
    "## Activate some modules\n",
    "\n",
    "Note that the order of activation is important and that we can't deactivate yet!"
   ]
  },
  {
   "cell_type": "code",
   "execution_count": 15,
   "metadata": {
    "collapsed": false
   },
   "outputs": [],
   "source": [
    "module_menu.activate(new_core, new_project, 'Hydrodynamics')\n",
    "module_menu.activate(new_core, new_project, 'Electrical Sub Systems')\n",
    "module_menu.activate(new_core, new_project, 'Mooring and Foundations')"
   ]
  },
  {
   "cell_type": "markdown",
   "metadata": {
    "collapsed": true
   },
   "source": [
    "## Activate the Economics and Reliability themes"
   ]
  },
  {
   "cell_type": "code",
   "execution_count": 16,
   "metadata": {
    "collapsed": false
   },
   "outputs": [
    {
     "data": {
      "text/html": [
       "<ul><li>Reliability</li><li>Economics</li><li>Environmental Impact Assessment</li></ul>"
      ],
      "text/plain": [
       "<IPython.core.display.HTML object>"
      ]
     },
     "execution_count": 16,
     "metadata": {},
     "output_type": "execute_result"
    }
   ],
   "source": [
    "names = theme_menu.get_available(new_core, new_project)\n",
    "message = html_list(names)\n",
    "HTML(message)"
   ]
  },
  {
   "cell_type": "code",
   "execution_count": 17,
   "metadata": {
    "collapsed": false
   },
   "outputs": [],
   "source": [
    "theme_menu.activate(new_core, new_project, \"Economics\")"
   ]
  },
  {
   "cell_type": "code",
   "execution_count": 18,
   "metadata": {
    "collapsed": false
   },
   "outputs": [],
   "source": [
    "# Here we are expecting Hydrodynamics\n",
    "assert _get_connector(new_project, \"modules\").get_current_interface_name(new_core, new_project) == \"Hydrodynamics\""
   ]
  },
  {
   "cell_type": "code",
   "execution_count": 19,
   "metadata": {
    "collapsed": true
   },
   "outputs": [],
   "source": [
    "from aneris.utilities.analysis import get_variable_network, count_atomic_variables"
   ]
  },
  {
   "cell_type": "code",
   "execution_count": 20,
   "metadata": {
    "collapsed": false
   },
   "outputs": [],
   "source": [
    "req_inputs, opt_inputs, outputs, req_inter, opt_inter = get_variable_network(new_core.control,\n",
    "                                                                             new_project.get_pool(),\n",
    "                                                                             new_project.get_simulation(),\n",
    "                                                                             \"modules\")"
   ]
  },
  {
   "cell_type": "code",
   "execution_count": 21,
   "metadata": {
    "collapsed": false
   },
   "outputs": [
    {
     "data": {
      "text/html": [
       "<div>\n",
       "<table border=\"1\" class=\"dataframe\">\n",
       "  <thead>\n",
       "    <tr style=\"text-align: right;\">\n",
       "      <th></th>\n",
       "      <th>index</th>\n",
       "      <th>Type</th>\n",
       "      <th>Interface</th>\n",
       "      <th>Identifier</th>\n",
       "    </tr>\n",
       "  </thead>\n",
       "  <tbody>\n",
       "    <tr>\n",
       "      <th>0</th>\n",
       "      <td>0</td>\n",
       "      <td>Shared</td>\n",
       "      <td>Hydrodynamics</td>\n",
       "      <td>bathymetry.layers</td>\n",
       "    </tr>\n",
       "    <tr>\n",
       "      <th>1</th>\n",
       "      <td>1</td>\n",
       "      <td>Shared</td>\n",
       "      <td>Hydrodynamics</td>\n",
       "      <td>corridor.landing_point</td>\n",
       "    </tr>\n",
       "    <tr>\n",
       "      <th>2</th>\n",
       "      <td>2</td>\n",
       "      <td>Shared</td>\n",
       "      <td>Hydrodynamics</td>\n",
       "      <td>device.coordinate_system</td>\n",
       "    </tr>\n",
       "    <tr>\n",
       "      <th>3</th>\n",
       "      <td>7</td>\n",
       "      <td>Shared</td>\n",
       "      <td>Hydrodynamics</td>\n",
       "      <td>device.power_rating</td>\n",
       "    </tr>\n",
       "    <tr>\n",
       "      <th>4</th>\n",
       "      <td>8</td>\n",
       "      <td>Shared</td>\n",
       "      <td>Hydrodynamics</td>\n",
       "      <td>device.system_type</td>\n",
       "    </tr>\n",
       "    <tr>\n",
       "      <th>5</th>\n",
       "      <td>18</td>\n",
       "      <td>Shared</td>\n",
       "      <td>Hydrodynamics</td>\n",
       "      <td>device.turbine_diameter</td>\n",
       "    </tr>\n",
       "    <tr>\n",
       "      <th>6</th>\n",
       "      <td>19</td>\n",
       "      <td>Shared</td>\n",
       "      <td>Hydrodynamics</td>\n",
       "      <td>device.turbine_performance</td>\n",
       "    </tr>\n",
       "    <tr>\n",
       "      <th>7</th>\n",
       "      <td>25</td>\n",
       "      <td>Shared</td>\n",
       "      <td>Electrical Sub Systems</td>\n",
       "      <td>bathymetry.layers</td>\n",
       "    </tr>\n",
       "    <tr>\n",
       "      <th>8</th>\n",
       "      <td>26</td>\n",
       "      <td>Shared</td>\n",
       "      <td>Electrical Sub Systems</td>\n",
       "      <td>farm.direction_of_max_surface_current</td>\n",
       "    </tr>\n",
       "    <tr>\n",
       "      <th>9</th>\n",
       "      <td>27</td>\n",
       "      <td>Shared</td>\n",
       "      <td>Electrical Sub Systems</td>\n",
       "      <td>farm.max_surface_current_10_year</td>\n",
       "    </tr>\n",
       "    <tr>\n",
       "      <th>10</th>\n",
       "      <td>28</td>\n",
       "      <td>Shared</td>\n",
       "      <td>Electrical Sub Systems</td>\n",
       "      <td>farm.wave_direction_100_year</td>\n",
       "    </tr>\n",
       "    <tr>\n",
       "      <th>11</th>\n",
       "      <td>29</td>\n",
       "      <td>Shared</td>\n",
       "      <td>Electrical Sub Systems</td>\n",
       "      <td>device.power_rating</td>\n",
       "    </tr>\n",
       "    <tr>\n",
       "      <th>12</th>\n",
       "      <td>30</td>\n",
       "      <td>Shared</td>\n",
       "      <td>Electrical Sub Systems</td>\n",
       "      <td>device.system_type</td>\n",
       "    </tr>\n",
       "    <tr>\n",
       "      <th>13</th>\n",
       "      <td>50</td>\n",
       "      <td>Shared</td>\n",
       "      <td>Electrical Sub Systems</td>\n",
       "      <td>corridor.landing_point</td>\n",
       "    </tr>\n",
       "    <tr>\n",
       "      <th>14</th>\n",
       "      <td>70</td>\n",
       "      <td>Shared</td>\n",
       "      <td>Mooring and Foundations</td>\n",
       "      <td>bathymetry.layers</td>\n",
       "    </tr>\n",
       "    <tr>\n",
       "      <th>15</th>\n",
       "      <td>71</td>\n",
       "      <td>Shared</td>\n",
       "      <td>Mooring and Foundations</td>\n",
       "      <td>device.coordinate_system</td>\n",
       "    </tr>\n",
       "    <tr>\n",
       "      <th>16</th>\n",
       "      <td>88</td>\n",
       "      <td>Shared</td>\n",
       "      <td>Mooring and Foundations</td>\n",
       "      <td>device.system_type</td>\n",
       "    </tr>\n",
       "    <tr>\n",
       "      <th>17</th>\n",
       "      <td>90</td>\n",
       "      <td>Shared</td>\n",
       "      <td>Mooring and Foundations</td>\n",
       "      <td>device.turbine_performance</td>\n",
       "    </tr>\n",
       "    <tr>\n",
       "      <th>18</th>\n",
       "      <td>91</td>\n",
       "      <td>Shared</td>\n",
       "      <td>Mooring and Foundations</td>\n",
       "      <td>device.turbine_diameter</td>\n",
       "    </tr>\n",
       "    <tr>\n",
       "      <th>19</th>\n",
       "      <td>95</td>\n",
       "      <td>Shared</td>\n",
       "      <td>Mooring and Foundations</td>\n",
       "      <td>farm.direction_of_max_surface_current</td>\n",
       "    </tr>\n",
       "    <tr>\n",
       "      <th>20</th>\n",
       "      <td>99</td>\n",
       "      <td>Shared</td>\n",
       "      <td>Mooring and Foundations</td>\n",
       "      <td>farm.max_surface_current_10_year</td>\n",
       "    </tr>\n",
       "    <tr>\n",
       "      <th>21</th>\n",
       "      <td>106</td>\n",
       "      <td>Shared</td>\n",
       "      <td>Mooring and Foundations</td>\n",
       "      <td>farm.wave_direction_100_year</td>\n",
       "    </tr>\n",
       "  </tbody>\n",
       "</table>\n",
       "</div>"
      ],
      "text/plain": [
       "    index    Type                Interface  \\\n",
       "0       0  Shared            Hydrodynamics   \n",
       "1       1  Shared            Hydrodynamics   \n",
       "2       2  Shared            Hydrodynamics   \n",
       "3       7  Shared            Hydrodynamics   \n",
       "4       8  Shared            Hydrodynamics   \n",
       "5      18  Shared            Hydrodynamics   \n",
       "6      19  Shared            Hydrodynamics   \n",
       "7      25  Shared   Electrical Sub Systems   \n",
       "8      26  Shared   Electrical Sub Systems   \n",
       "9      27  Shared   Electrical Sub Systems   \n",
       "10     28  Shared   Electrical Sub Systems   \n",
       "11     29  Shared   Electrical Sub Systems   \n",
       "12     30  Shared   Electrical Sub Systems   \n",
       "13     50  Shared   Electrical Sub Systems   \n",
       "14     70  Shared  Mooring and Foundations   \n",
       "15     71  Shared  Mooring and Foundations   \n",
       "16     88  Shared  Mooring and Foundations   \n",
       "17     90  Shared  Mooring and Foundations   \n",
       "18     91  Shared  Mooring and Foundations   \n",
       "19     95  Shared  Mooring and Foundations   \n",
       "20     99  Shared  Mooring and Foundations   \n",
       "21    106  Shared  Mooring and Foundations   \n",
       "\n",
       "                               Identifier  \n",
       "0                       bathymetry.layers  \n",
       "1                  corridor.landing_point  \n",
       "2                device.coordinate_system  \n",
       "3                     device.power_rating  \n",
       "4                      device.system_type  \n",
       "5                 device.turbine_diameter  \n",
       "6              device.turbine_performance  \n",
       "7                       bathymetry.layers  \n",
       "8   farm.direction_of_max_surface_current  \n",
       "9        farm.max_surface_current_10_year  \n",
       "10           farm.wave_direction_100_year  \n",
       "11                    device.power_rating  \n",
       "12                     device.system_type  \n",
       "13                 corridor.landing_point  \n",
       "14                      bathymetry.layers  \n",
       "15               device.coordinate_system  \n",
       "16                     device.system_type  \n",
       "17             device.turbine_performance  \n",
       "18                device.turbine_diameter  \n",
       "19  farm.direction_of_max_surface_current  \n",
       "20       farm.max_surface_current_10_year  \n",
       "21           farm.wave_direction_100_year  "
      ]
     },
     "execution_count": 21,
     "metadata": {},
     "output_type": "execute_result"
    }
   ],
   "source": [
    "req_inputs[req_inputs.Type==\"Shared\"].reset_index()"
   ]
  },
  {
   "cell_type": "code",
   "execution_count": 45,
   "metadata": {
    "collapsed": false
   },
   "outputs": [
    {
     "data": {
      "text/plain": [
       "10"
      ]
     },
     "execution_count": 45,
     "metadata": {},
     "output_type": "execute_result"
    }
   ],
   "source": [
    "shared_req_inputs = req_inputs[req_inputs.Type==\"Shared\"]\n",
    "len(shared_req_inputs[\"Identifier\"].unique())"
   ]
  },
  {
   "cell_type": "code",
   "execution_count": 46,
   "metadata": {
    "collapsed": false
   },
   "outputs": [
    {
     "data": {
      "text/plain": [
       "12"
      ]
     },
     "execution_count": 46,
     "metadata": {},
     "output_type": "execute_result"
    }
   ],
   "source": [
    "count_atomic_variables(shared_req_inputs[\"Identifier\"].unique(),\n",
    "                       new_core.data_catalog,\n",
    "                       \"labels\",\n",
    "                       [\"TableData\",\n",
    "                        \"TableDataColumn\",\n",
    "                        \"IndexTable\",\n",
    "                        \"LineTable\",\n",
    "                        \"LineTableColumn\",\n",
    "                        \"TimeTable\",\n",
    "                        \"TimeTableColumn\"])"
   ]
  },
  {
   "cell_type": "code",
   "execution_count": 23,
   "metadata": {
    "collapsed": false
   },
   "outputs": [
    {
     "data": {
      "text/html": [
       "<div>\n",
       "<table border=\"1\" class=\"dataframe\">\n",
       "  <thead>\n",
       "    <tr style=\"text-align: right;\">\n",
       "      <th></th>\n",
       "      <th>index</th>\n",
       "      <th>Type</th>\n",
       "      <th>Interface</th>\n",
       "      <th>Identifier</th>\n",
       "    </tr>\n",
       "  </thead>\n",
       "  <tbody>\n",
       "    <tr>\n",
       "      <th>0</th>\n",
       "      <td>1</td>\n",
       "      <td>Shared</td>\n",
       "      <td>Hydrodynamics</td>\n",
       "      <td>farm.nogo_areas</td>\n",
       "    </tr>\n",
       "    <tr>\n",
       "      <th>1</th>\n",
       "      <td>5</td>\n",
       "      <td>Shared</td>\n",
       "      <td>Hydrodynamics</td>\n",
       "      <td>device.turbine_interdistance</td>\n",
       "    </tr>\n",
       "    <tr>\n",
       "      <th>2</th>\n",
       "      <td>7</td>\n",
       "      <td>Shared</td>\n",
       "      <td>Electrical Sub Systems</td>\n",
       "      <td>farm.nogo_areas</td>\n",
       "    </tr>\n",
       "    <tr>\n",
       "      <th>3</th>\n",
       "      <td>28</td>\n",
       "      <td>Shared</td>\n",
       "      <td>Electrical Sub Systems</td>\n",
       "      <td>device.prescribed_footprint_radius</td>\n",
       "    </tr>\n",
       "    <tr>\n",
       "      <th>4</th>\n",
       "      <td>33</td>\n",
       "      <td>Shared</td>\n",
       "      <td>Mooring and Foundations</td>\n",
       "      <td>device.prescribed_footprint_radius</td>\n",
       "    </tr>\n",
       "    <tr>\n",
       "      <th>5</th>\n",
       "      <td>34</td>\n",
       "      <td>Shared</td>\n",
       "      <td>Mooring and Foundations</td>\n",
       "      <td>device.turbine_interdistance</td>\n",
       "    </tr>\n",
       "  </tbody>\n",
       "</table>\n",
       "</div>"
      ],
      "text/plain": [
       "   index    Type                Interface                          Identifier\n",
       "0      1  Shared            Hydrodynamics                     farm.nogo_areas\n",
       "1      5  Shared            Hydrodynamics        device.turbine_interdistance\n",
       "2      7  Shared   Electrical Sub Systems                     farm.nogo_areas\n",
       "3     28  Shared   Electrical Sub Systems  device.prescribed_footprint_radius\n",
       "4     33  Shared  Mooring and Foundations  device.prescribed_footprint_radius\n",
       "5     34  Shared  Mooring and Foundations        device.turbine_interdistance"
      ]
     },
     "execution_count": 23,
     "metadata": {},
     "output_type": "execute_result"
    }
   ],
   "source": [
    "opt_inputs[opt_inputs.Type==\"Shared\"].reset_index()"
   ]
  },
  {
   "cell_type": "code",
   "execution_count": 49,
   "metadata": {
    "collapsed": false
   },
   "outputs": [
    {
     "data": {
      "text/plain": [
       "3"
      ]
     },
     "execution_count": 49,
     "metadata": {},
     "output_type": "execute_result"
    }
   ],
   "source": [
    "shared_opt_inputs = opt_inputs[opt_inputs.Type==\"Shared\"]\n",
    "len(shared_opt_inputs[\"Identifier\"].unique())"
   ]
  },
  {
   "cell_type": "code",
   "execution_count": 50,
   "metadata": {
    "collapsed": false
   },
   "outputs": [
    {
     "data": {
      "text/plain": [
       "3"
      ]
     },
     "execution_count": 50,
     "metadata": {},
     "output_type": "execute_result"
    }
   ],
   "source": [
    "count_atomic_variables(shared_opt_inputs[\"Identifier\"].unique(),\n",
    "                       new_core.data_catalog,\n",
    "                       \"labels\",\n",
    "                       [\"TableData\",\n",
    "                        \"TableDataColumn\",\n",
    "                        \"IndexTable\",\n",
    "                        \"LineTable\",\n",
    "                        \"LineTableColumn\",\n",
    "                        \"TimeTable\",\n",
    "                        \"TimeTableColumn\"])"
   ]
  },
  {
   "cell_type": "code",
   "execution_count": 25,
   "metadata": {
    "collapsed": false
   },
   "outputs": [
    {
     "data": {
      "text/html": [
       "<div>\n",
       "<table border=\"1\" class=\"dataframe\">\n",
       "  <thead>\n",
       "    <tr style=\"text-align: right;\">\n",
       "      <th></th>\n",
       "      <th>Source</th>\n",
       "      <th>Destination</th>\n",
       "      <th>Identifier</th>\n",
       "    </tr>\n",
       "  </thead>\n",
       "  <tbody>\n",
       "    <tr>\n",
       "      <th>0</th>\n",
       "      <td>Hydrodynamics</td>\n",
       "      <td>Electrical Sub Systems</td>\n",
       "      <td>farm.annual_energy</td>\n",
       "    </tr>\n",
       "    <tr>\n",
       "      <th>1</th>\n",
       "      <td>Hydrodynamics</td>\n",
       "      <td>Electrical Sub Systems</td>\n",
       "      <td>farm.layout</td>\n",
       "    </tr>\n",
       "    <tr>\n",
       "      <th>2</th>\n",
       "      <td>Hydrodynamics</td>\n",
       "      <td>Electrical Sub Systems</td>\n",
       "      <td>farm.mean_power_hist_per_device</td>\n",
       "    </tr>\n",
       "    <tr>\n",
       "      <th>3</th>\n",
       "      <td>Hydrodynamics</td>\n",
       "      <td>Mooring and Foundations</td>\n",
       "      <td>farm.main_direction</td>\n",
       "    </tr>\n",
       "    <tr>\n",
       "      <th>4</th>\n",
       "      <td>Hydrodynamics</td>\n",
       "      <td>Mooring and Foundations</td>\n",
       "      <td>farm.layout</td>\n",
       "    </tr>\n",
       "  </tbody>\n",
       "</table>\n",
       "</div>"
      ],
      "text/plain": [
       "          Source              Destination                       Identifier\n",
       "0  Hydrodynamics   Electrical Sub Systems               farm.annual_energy\n",
       "1  Hydrodynamics   Electrical Sub Systems                      farm.layout\n",
       "2  Hydrodynamics   Electrical Sub Systems  farm.mean_power_hist_per_device\n",
       "3  Hydrodynamics  Mooring and Foundations              farm.main_direction\n",
       "4  Hydrodynamics  Mooring and Foundations                      farm.layout"
      ]
     },
     "execution_count": 25,
     "metadata": {},
     "output_type": "execute_result"
    }
   ],
   "source": [
    "req_inter"
   ]
  },
  {
   "cell_type": "code",
   "execution_count": 26,
   "metadata": {
    "collapsed": false
   },
   "outputs": [
    {
     "data": {
      "text/plain": [
       "4"
      ]
     },
     "execution_count": 26,
     "metadata": {},
     "output_type": "execute_result"
    }
   ],
   "source": [
    "len(req_inter[\"Identifier\"].unique())"
   ]
  },
  {
   "cell_type": "code",
   "execution_count": 51,
   "metadata": {
    "collapsed": false
   },
   "outputs": [
    {
     "data": {
      "text/plain": [
       "4"
      ]
     },
     "execution_count": 51,
     "metadata": {},
     "output_type": "execute_result"
    }
   ],
   "source": [
    "count_atomic_variables(req_inter[\"Identifier\"].unique(),\n",
    "                       new_core.data_catalog,\n",
    "                       \"labels\",\n",
    "                       [\"TableData\",\n",
    "                        \"TableDataColumn\",\n",
    "                        \"IndexTable\",\n",
    "                        \"LineTable\",\n",
    "                        \"LineTableColumn\",\n",
    "                        \"TimeTable\",\n",
    "                        \"TimeTableColumn\"])"
   ]
  },
  {
   "cell_type": "code",
   "execution_count": 27,
   "metadata": {
    "collapsed": false
   },
   "outputs": [
    {
     "data": {
      "text/html": [
       "<div>\n",
       "<table border=\"1\" class=\"dataframe\">\n",
       "  <thead>\n",
       "    <tr style=\"text-align: right;\">\n",
       "      <th></th>\n",
       "      <th>Source</th>\n",
       "      <th>Destination</th>\n",
       "      <th>Identifier</th>\n",
       "    </tr>\n",
       "  </thead>\n",
       "  <tbody>\n",
       "    <tr>\n",
       "      <th>0</th>\n",
       "      <td>Hydrodynamics</td>\n",
       "      <td>Electrical Sub Systems</td>\n",
       "      <td>farm.main_direction</td>\n",
       "    </tr>\n",
       "    <tr>\n",
       "      <th>1</th>\n",
       "      <td>Hydrodynamics</td>\n",
       "      <td>Mooring and Foundations</td>\n",
       "      <td>device.external_forces</td>\n",
       "    </tr>\n",
       "    <tr>\n",
       "      <th>2</th>\n",
       "      <td>Electrical Sub Systems</td>\n",
       "      <td>Mooring and Foundations</td>\n",
       "      <td>farm.substation_props</td>\n",
       "    </tr>\n",
       "    <tr>\n",
       "      <th>3</th>\n",
       "      <td>Electrical Sub Systems</td>\n",
       "      <td>Mooring and Foundations</td>\n",
       "      <td>farm.substation_layout</td>\n",
       "    </tr>\n",
       "    <tr>\n",
       "      <th>4</th>\n",
       "      <td>Electrical Sub Systems</td>\n",
       "      <td>Mooring and Foundations</td>\n",
       "      <td>farm.substation_cog</td>\n",
       "    </tr>\n",
       "    <tr>\n",
       "      <th>5</th>\n",
       "      <td>Electrical Sub Systems</td>\n",
       "      <td>Mooring and Foundations</td>\n",
       "      <td>farm.substation_foundation_location</td>\n",
       "    </tr>\n",
       "  </tbody>\n",
       "</table>\n",
       "</div>"
      ],
      "text/plain": [
       "                   Source              Destination  \\\n",
       "0           Hydrodynamics   Electrical Sub Systems   \n",
       "1           Hydrodynamics  Mooring and Foundations   \n",
       "2  Electrical Sub Systems  Mooring and Foundations   \n",
       "3  Electrical Sub Systems  Mooring and Foundations   \n",
       "4  Electrical Sub Systems  Mooring and Foundations   \n",
       "5  Electrical Sub Systems  Mooring and Foundations   \n",
       "\n",
       "                            Identifier  \n",
       "0                  farm.main_direction  \n",
       "1               device.external_forces  \n",
       "2                farm.substation_props  \n",
       "3               farm.substation_layout  \n",
       "4                  farm.substation_cog  \n",
       "5  farm.substation_foundation_location  "
      ]
     },
     "execution_count": 27,
     "metadata": {},
     "output_type": "execute_result"
    }
   ],
   "source": [
    "opt_inter"
   ]
  },
  {
   "cell_type": "code",
   "execution_count": 28,
   "metadata": {
    "collapsed": false
   },
   "outputs": [
    {
     "data": {
      "text/plain": [
       "6"
      ]
     },
     "execution_count": 28,
     "metadata": {},
     "output_type": "execute_result"
    }
   ],
   "source": [
    "len(opt_inter[\"Identifier\"].unique())"
   ]
  },
  {
   "cell_type": "code",
   "execution_count": 52,
   "metadata": {
    "collapsed": false
   },
   "outputs": [
    {
     "data": {
      "text/plain": [
       "20"
      ]
     },
     "execution_count": 52,
     "metadata": {},
     "output_type": "execute_result"
    }
   ],
   "source": [
    "count_atomic_variables(opt_inter[\"Identifier\"].unique(),\n",
    "                       new_core.data_catalog,\n",
    "                       \"labels\",\n",
    "                       [\"TableData\",\n",
    "                        \"TableDataColumn\",\n",
    "                        \"IndexTable\",\n",
    "                        \"LineTable\",\n",
    "                        \"LineTableColumn\",\n",
    "                        \"TimeTable\",\n",
    "                        \"TimeTableColumn\"])"
   ]
  },
  {
   "cell_type": "code",
   "execution_count": 32,
   "metadata": {
    "collapsed": false
   },
   "outputs": [
    {
     "data": {
      "text/plain": [
       "25"
      ]
     },
     "execution_count": 32,
     "metadata": {},
     "output_type": "execute_result"
    }
   ],
   "source": [
    "hyrdo_req_inputs = req_inputs.loc[req_inputs['Interface'] == 'Hydrodynamics']\n",
    "len(hyrdo_req_inputs[\"Identifier\"].unique())"
   ]
  },
  {
   "cell_type": "code",
   "execution_count": 33,
   "metadata": {
    "collapsed": false
   },
   "outputs": [
    {
     "data": {
      "text/plain": [
       "27"
      ]
     },
     "execution_count": 33,
     "metadata": {},
     "output_type": "execute_result"
    }
   ],
   "source": [
    "count_atomic_variables(hyrdo_req_inputs[\"Identifier\"].unique(),\n",
    "                       new_core.data_catalog,\n",
    "                       \"labels\",\n",
    "                       [\"TableData\",\n",
    "                        \"TableDataColumn\",\n",
    "                        \"IndexTable\",\n",
    "                        \"LineTable\",\n",
    "                        \"LineTableColumn\",\n",
    "                        \"TimeTable\",\n",
    "                        \"TimeTableColumn\"])"
   ]
  },
  {
   "cell_type": "code",
   "execution_count": 34,
   "metadata": {
    "collapsed": false
   },
   "outputs": [
    {
     "data": {
      "text/plain": [
       "7"
      ]
     },
     "execution_count": 34,
     "metadata": {},
     "output_type": "execute_result"
    }
   ],
   "source": [
    "hyrdo_opt_inputs = opt_inputs.loc[opt_inputs['Interface'] == 'Hydrodynamics']\n",
    "len(hyrdo_opt_inputs[\"Identifier\"].unique())"
   ]
  },
  {
   "cell_type": "code",
   "execution_count": 35,
   "metadata": {
    "collapsed": false
   },
   "outputs": [
    {
     "data": {
      "text/plain": [
       "7"
      ]
     },
     "execution_count": 35,
     "metadata": {},
     "output_type": "execute_result"
    }
   ],
   "source": [
    "count_atomic_variables(hyrdo_opt_inputs[\"Identifier\"].unique(),\n",
    "                       new_core.data_catalog,\n",
    "                       \"labels\",\n",
    "                       [\"TableData\",\n",
    "                        \"TableDataColumn\",\n",
    "                        \"IndexTable\",\n",
    "                        \"LineTable\",\n",
    "                        \"LineTableColumn\",\n",
    "                        \"TimeTable\",\n",
    "                        \"TimeTableColumn\"])"
   ]
  },
  {
   "cell_type": "code",
   "execution_count": 36,
   "metadata": {
    "collapsed": false
   },
   "outputs": [
    {
     "data": {
      "text/plain": [
       "29"
      ]
     },
     "execution_count": 36,
     "metadata": {},
     "output_type": "execute_result"
    }
   ],
   "source": [
    "electro_req_inputs = req_inputs.loc[req_inputs['Interface'] == 'Electrical Sub Systems']\n",
    "len(electro_req_inputs[\"Identifier\"].unique())"
   ]
  },
  {
   "cell_type": "code",
   "execution_count": 37,
   "metadata": {
    "collapsed": false
   },
   "outputs": [
    {
     "data": {
      "text/plain": [
       "183"
      ]
     },
     "execution_count": 37,
     "metadata": {},
     "output_type": "execute_result"
    }
   ],
   "source": [
    "count_atomic_variables(electro_req_inputs[\"Identifier\"].unique(),\n",
    "                       new_core.data_catalog,\n",
    "                       \"labels\",\n",
    "                       [\"TableData\",\n",
    "                        \"TableDataColumn\",\n",
    "                        \"IndexTable\",\n",
    "                        \"LineTable\",\n",
    "                        \"LineTableColumn\",\n",
    "                        \"TimeTable\",\n",
    "                        \"TimeTableColumn\"])"
   ]
  },
  {
   "cell_type": "code",
   "execution_count": 38,
   "metadata": {
    "collapsed": false
   },
   "outputs": [
    {
     "data": {
      "text/plain": [
       "25"
      ]
     },
     "execution_count": 38,
     "metadata": {},
     "output_type": "execute_result"
    }
   ],
   "source": [
    "electro_opt_inputs = opt_inputs.loc[opt_inputs['Interface'] == 'Electrical Sub Systems']\n",
    "len(electro_opt_inputs[\"Identifier\"].unique())"
   ]
  },
  {
   "cell_type": "code",
   "execution_count": 39,
   "metadata": {
    "collapsed": false
   },
   "outputs": [
    {
     "data": {
      "text/plain": [
       "37"
      ]
     },
     "execution_count": 39,
     "metadata": {},
     "output_type": "execute_result"
    }
   ],
   "source": [
    "count_atomic_variables(electro_opt_inputs[\"Identifier\"].unique(),\n",
    "                       new_core.data_catalog,\n",
    "                       \"labels\",\n",
    "                       [\"TableData\",\n",
    "                        \"TableDataColumn\",\n",
    "                        \"IndexTable\",\n",
    "                        \"LineTable\",\n",
    "                        \"LineTableColumn\",\n",
    "                        \"TimeTable\",\n",
    "                        \"TimeTableColumn\"])"
   ]
  },
  {
   "cell_type": "code",
   "execution_count": 41,
   "metadata": {
    "collapsed": false
   },
   "outputs": [
    {
     "data": {
      "text/plain": [
       "63"
      ]
     },
     "execution_count": 41,
     "metadata": {},
     "output_type": "execute_result"
    }
   ],
   "source": [
    "moorings_req_inputs = req_inputs.loc[req_inputs['Interface'] == 'Mooring and Foundations']\n",
    "len(moorings_req_inputs[\"Identifier\"].unique())"
   ]
  },
  {
   "cell_type": "code",
   "execution_count": 42,
   "metadata": {
    "collapsed": false
   },
   "outputs": [
    {
     "data": {
      "text/plain": [
       "150"
      ]
     },
     "execution_count": 42,
     "metadata": {},
     "output_type": "execute_result"
    }
   ],
   "source": [
    "count_atomic_variables(moorings_req_inputs[\"Identifier\"].unique(),\n",
    "                       new_core.data_catalog,\n",
    "                       \"labels\",\n",
    "                       [\"TableData\",\n",
    "                        \"TableDataColumn\",\n",
    "                        \"IndexTable\",\n",
    "                        \"LineTable\",\n",
    "                        \"LineTableColumn\",\n",
    "                        \"TimeTable\",\n",
    "                        \"TimeTableColumn\"])"
   ]
  },
  {
   "cell_type": "code",
   "execution_count": 43,
   "metadata": {
    "collapsed": false
   },
   "outputs": [
    {
     "data": {
      "text/plain": [
       "5"
      ]
     },
     "execution_count": 43,
     "metadata": {},
     "output_type": "execute_result"
    }
   ],
   "source": [
    "moorings_opt_inputs = opt_inputs.loc[opt_inputs['Interface'] == 'Mooring and Foundations']\n",
    "len(moorings_opt_inputs[\"Identifier\"].unique())"
   ]
  },
  {
   "cell_type": "code",
   "execution_count": 44,
   "metadata": {
    "collapsed": false
   },
   "outputs": [
    {
     "data": {
      "text/plain": [
       "5"
      ]
     },
     "execution_count": 44,
     "metadata": {},
     "output_type": "execute_result"
    }
   ],
   "source": [
    "count_atomic_variables(moorings_opt_inputs[\"Identifier\"].unique(),\n",
    "                       new_core.data_catalog,\n",
    "                       \"labels\",\n",
    "                       [\"TableData\",\n",
    "                        \"TableDataColumn\",\n",
    "                        \"IndexTable\",\n",
    "                        \"LineTable\",\n",
    "                        \"LineTableColumn\",\n",
    "                        \"TimeTable\",\n",
    "                        \"TimeTableColumn\"])"
   ]
  },
  {
   "cell_type": "code",
   "execution_count": null,
   "metadata": {
    "collapsed": true
   },
   "outputs": [],
   "source": []
  }
 ],
 "metadata": {
  "kernelspec": {
   "display_name": "Python 2",
   "language": "python",
   "name": "python2"
  },
  "language_info": {
   "codemirror_mode": {
    "name": "ipython",
    "version": 2
   },
   "file_extension": ".py",
   "mimetype": "text/x-python",
   "name": "python",
   "nbconvert_exporter": "python",
   "pygments_lexer": "ipython2",
   "version": "2.7.12"
  }
 },
 "nbformat": 4,
 "nbformat_minor": 0
}
