{
 "cells": [
  {
   "cell_type": "markdown",
   "metadata": {},
   "source": [
    "# DTOcean Electrical Sub-Systems Test"
   ]
  },
  {
   "cell_type": "code",
   "execution_count": 1,
   "metadata": {
    "collapsed": true
   },
   "outputs": [],
   "source": [
    "%matplotlib inline"
   ]
  },
  {
   "cell_type": "code",
   "execution_count": 2,
   "metadata": {
    "collapsed": true
   },
   "outputs": [],
   "source": [
    "from IPython.display import display, HTML"
   ]
  },
  {
   "cell_type": "code",
   "execution_count": 3,
   "metadata": {
    "collapsed": false
   },
   "outputs": [],
   "source": [
    "import matplotlib.pyplot as plt\n",
    "plt.rcParams['figure.figsize'] = (14.0, 8.0)"
   ]
  },
  {
   "cell_type": "code",
   "execution_count": 4,
   "metadata": {
    "collapsed": true
   },
   "outputs": [],
   "source": [
    "import numpy as np"
   ]
  },
  {
   "cell_type": "code",
   "execution_count": 5,
   "metadata": {
    "collapsed": false
   },
   "outputs": [],
   "source": [
    "from dtocean_core import start_logging\n",
    "from dtocean_core.core import Core\n",
    "from dtocean_core.menu import ModuleMenu, ProjectMenu\n",
    "from dtocean_core.pipeline import Tree"
   ]
  },
  {
   "cell_type": "code",
   "execution_count": 6,
   "metadata": {
    "collapsed": true
   },
   "outputs": [],
   "source": [
    "def html_list(x):\n",
    "    message = \"<ul>\"\n",
    "    for name in x:\n",
    "        message += \"<li>{}</li>\".format(name)\n",
    "    message += \"</ul>\"\n",
    "    return message\n",
    "def html_dict(x):\n",
    "    message = \"<ul>\"\n",
    "    for name, status in x.iteritems():\n",
    "        message += \"<li>{}: <b>{}</b></li>\".format(name, status)\n",
    "    message += \"</ul>\"\n",
    "    return message"
   ]
  },
  {
   "cell_type": "code",
   "execution_count": 7,
   "metadata": {
    "collapsed": false
   },
   "outputs": [
    {
     "name": "stdout",
     "output_type": "stream",
     "text": [
      "2016-09-09 22:45:20,565 - INFO - dtocean_core - Begin logging for dtocean_core.\n"
     ]
    }
   ],
   "source": [
    "# Bring up the logger\n",
    "start_logging()"
   ]
  },
  {
   "cell_type": "markdown",
   "metadata": {},
   "source": [
    "## Create the core, menus and pipeline tree\n",
    "\n",
    "The core object carrys all the system information and is operated on by the other classes"
   ]
  },
  {
   "cell_type": "code",
   "execution_count": 8,
   "metadata": {
    "collapsed": false
   },
   "outputs": [],
   "source": [
    "new_core = Core()\n",
    "project_menu = ProjectMenu()\n",
    "module_menu = ModuleMenu()\n",
    "pipe_tree = Tree()"
   ]
  },
  {
   "cell_type": "markdown",
   "metadata": {},
   "source": [
    "## Create a new project"
   ]
  },
  {
   "cell_type": "code",
   "execution_count": 9,
   "metadata": {
    "collapsed": false
   },
   "outputs": [
    {
     "name": "stdout",
     "output_type": "stream",
     "text": [
      "2016-09-09 22:45:23,404 - INFO - aneris.entity.simulation - Created new Simulation with title \"Default\"\n",
      "2016-09-09 22:45:23,404 - INFO - aneris.control.simulation - Datastate with level \"initial\" stored\n",
      "2016-09-09 22:45:23,404 - INFO - aneris.control.pipeline - New Hub created for interface ProjectInterface.\n"
     ]
    }
   ],
   "source": [
    "project_title = \"DTOcean\"  \n",
    "new_project = project_menu.new_project(new_core, project_title)"
   ]
  },
  {
   "cell_type": "markdown",
   "metadata": {},
   "source": [
    "## Set the device type"
   ]
  },
  {
   "cell_type": "code",
   "execution_count": 10,
   "metadata": {
    "collapsed": false
   },
   "outputs": [
    {
     "name": "stdout",
     "output_type": "stream",
     "text": [
      "2016-09-09 22:45:23,420 - INFO - aneris.control.data - New \"device.system_type\" data stored with index RO91ZW\n",
      "2016-09-09 22:45:23,420 - INFO - aneris.control.simulation - Datastate stored\n"
     ]
    }
   ],
   "source": [
    "options_branch = pipe_tree.get_branch(new_core, new_project, \"System Type Selection\")\n",
    "variable_id = \"device.system_type\"\n",
    "my_var = options_branch.get_input_variable(new_core, new_project, variable_id)\n",
    "my_var.set_raw_interface(new_core, \"Wave Floating\")\n",
    "my_var.read(new_core, new_project)"
   ]
  },
  {
   "cell_type": "markdown",
   "metadata": {},
   "source": [
    "## Initiate the pipeline\n",
    "This step will be important when the database is incorporated into the system as it will effect the operation of the pipeline."
   ]
  },
  {
   "cell_type": "code",
   "execution_count": 11,
   "metadata": {
    "collapsed": false
   },
   "outputs": [
    {
     "name": "stdout",
     "output_type": "stream",
     "text": [
      "2016-09-09 22:45:23,434 - INFO - aneris.control.simulation - Datastate with level \"system type selection start\" stored\n",
      "2016-09-09 22:45:23,434 - INFO - aneris.control.data - New \"hidden.pipeline_active\" data stored with index 4UWJB6\n",
      "2016-09-09 22:45:23,434 - INFO - aneris.control.simulation - Datastate with level \"system type selection output\" stored\n",
      "2016-09-09 22:45:23,434 - INFO - aneris.control.pipeline - New Pipeline created for interface ModuleInterface.\n",
      "2016-09-09 22:45:23,434 - INFO - aneris.control.pipeline - New Hub created for interface ThemeInterface.\n"
     ]
    }
   ],
   "source": [
    "project_menu.initiate_pipeline(new_core, new_project)"
   ]
  },
  {
   "cell_type": "markdown",
   "metadata": {},
   "source": [
    "## Discover available modules"
   ]
  },
  {
   "cell_type": "code",
   "execution_count": 12,
   "metadata": {
    "collapsed": false
   },
   "outputs": [
    {
     "data": {
      "text/html": [
       "<ul><li>Hydrodynamics</li><li>Electrical Sub Systems</li><li>Mooring and Foundations</li></ul>"
      ],
      "text/plain": [
       "<IPython.core.display.HTML object>"
      ]
     },
     "execution_count": 12,
     "metadata": {},
     "output_type": "execute_result"
    }
   ],
   "source": [
    "names = module_menu.get_available(new_core, new_project)\n",
    "message = html_list(names)\n",
    "HTML(message)"
   ]
  },
  {
   "cell_type": "markdown",
   "metadata": {},
   "source": [
    "## Activate a module\n",
    "\n",
    "Note that the order of activation is important and that we can't deactivate yet!"
   ]
  },
  {
   "cell_type": "code",
   "execution_count": 13,
   "metadata": {
    "collapsed": false
   },
   "outputs": [],
   "source": [
    "module_name = 'Electrical Sub Systems'\n",
    "module_menu.activate(new_core, new_project, module_name)"
   ]
  },
  {
   "cell_type": "markdown",
   "metadata": {},
   "source": [
    "## Check the status of the module inputs"
   ]
  },
  {
   "cell_type": "code",
   "execution_count": 14,
   "metadata": {
    "collapsed": false
   },
   "outputs": [
    {
     "data": {
      "text/html": [
       "<ul><li>device.constant_power_factor: <b>optional</b></li><li>component.power_quality: <b>required</b></li><li>corridor.shipping_hist: <b>required</b></li><li>component.switchgear: <b>required</b></li><li>component.collection_points: <b>required</b></li><li>component.dry_mate_connectors: <b>required</b></li><li>corridor.nogo_areas: <b>optional</b></li><li>device.voltage: <b>required</b></li><li>farm.shipping_hist: <b>required</b></li><li>corridor.max_seabed_temp: <b>required</b></li><li>farm.target_burial_depth: <b>optional</b></li><li>farm.direction_of_max_surface_current: <b>required</b></li><li>farm.network_configuration: <b>optional</b></li><li>farm.collection_point_type: <b>optional</b></li><li>device.umbilical_safety_factor: <b>required</b></li><li>component.static_cable: <b>required</b></li><li>device.umbilical_connection_point: <b>required</b></li><li>farm.devices_per_string: <b>optional</b></li><li>farm.wave_direction_100_year: <b>required</b></li><li>corridor.target_burial_depth: <b>optional</b></li><li>farm.annual_energy: <b>required</b></li><li>component.transformers: <b>required</b></li><li>component.dynamic_cable: <b>required</b></li><li>corridor.wave_direction: <b>required</b></li><li>component.collection_point_foundations: <b>required</b></li><li>device.connector_type: <b>required</b></li><li>component.installation_soil_compatibility: <b>optional</b></li><li>component.collection_point_cog: <b>required</b></li><li>bathymetry.max_seabed_temp: <b>required</b></li><li>farm.offshore_reactive_limit: <b>optional</b></li><li>farm.control_signal_cable: <b>optional</b></li><li>farm.layout: <b>required</b></li><li>device.power_rating: <b>required</b></li><li>component.wet_mate_connectors: <b>required</b></li><li>farm.nogo_areas: <b>optional</b></li><li>bathymetry.max_soil_resistivity: <b>required</b></li><li>device.system_draft: <b>required</b></li><li>farm.ac_power_flow: <b>optional</b></li><li>corridor.tidal_current_direction: <b>required</b></li><li>device.prescribed_footprint_radius: <b>optional</b></li><li>component.equipment_gradient_constraint: <b>optional</b></li><li>farm.onshore_infrastructure_cost: <b>optional</b></li><li>farm.max_surface_current_10_year: <b>required</b></li><li>device.system_type: <b>satisfied</b></li><li>corridor.tidal_current_flow: <b>required</b></li><li>corridor.landing_point: <b>required</b></li><li>farm.connector_type: <b>optional</b></li><li>farm.main_direction: <b>optional</b></li><li>farm.mean_power_hist_per_device: <b>required</b></li><li>farm.voltage_limit_min: <b>optional</b></li><li>farm.control_signal_channels: <b>optional</b></li><li>bathymetry.layers: <b>required</b></li><li>farm.onshore_losses: <b>optional</b></li><li>corridor.max_soil_resistivity: <b>required</b></li><li>corridor.number_of_export_cables: <b>optional</b></li><li>farm.voltage_limit_max: <b>optional</b></li><li>corridor.voltage: <b>optional</b></li><li>device.power_factor: <b>optional</b></li><li>corridor.layers: <b>required</b></li><li>device.footprint_coords: <b>optional</b></li><li>farm.control_signal_type: <b>optional</b></li></ul>"
      ],
      "text/plain": [
       "<IPython.core.display.HTML object>"
      ]
     },
     "execution_count": 14,
     "metadata": {},
     "output_type": "execute_result"
    }
   ],
   "source": [
    "electrical_branch = pipe_tree.get_branch(new_core, new_project, 'Electrical Sub Systems')\n",
    "input_status = electrical_branch.get_input_status(new_core, new_project)\n",
    "message = html_dict(input_status)\n",
    "HTML(message)"
   ]
  },
  {
   "cell_type": "markdown",
   "metadata": {},
   "source": [
    "## Initiate the dataflow\n",
    "This indicates that the filtering and module / theme selections are complete"
   ]
  },
  {
   "cell_type": "code",
   "execution_count": 15,
   "metadata": {
    "collapsed": false
   },
   "outputs": [
    {
     "name": "stdout",
     "output_type": "stream",
     "text": [
      "2016-09-09 22:45:23,497 - INFO - aneris.control.data - New \"hidden.dataflow_active\" data stored with index JM23A0\n",
      "2016-09-09 22:45:23,497 - INFO - aneris.control.simulation - Datastate stored\n",
      "2016-09-09 22:45:23,497 - INFO - aneris.control.simulation - Datastate with level \"modules initial\" stored\n"
     ]
    }
   ],
   "source": [
    "project_menu.initiate_dataflow(new_core, new_project)"
   ]
  },
  {
   "cell_type": "markdown",
   "metadata": {},
   "source": [
    "## Load test data"
   ]
  },
  {
   "cell_type": "markdown",
   "metadata": {},
   "source": [
    "Prepare the test data for loading. The files required can be found in the test_data directory of the source code and should be copied to the directory that the notebook is running. When the python file is run a pickle file is generated containing a dictionary of inputs."
   ]
  },
  {
   "cell_type": "code",
   "execution_count": 16,
   "metadata": {
    "collapsed": false
   },
   "outputs": [
    {
     "name": "stdout",
     "output_type": "stream",
     "text": [
      "generate test data: E:\\Programming\\Python\\notebooks\\inputs_wp3.pkl\n"
     ]
    }
   ],
   "source": [
    "%run inputs_wp3.py"
   ]
  },
  {
   "cell_type": "code",
   "execution_count": 17,
   "metadata": {
    "collapsed": false
   },
   "outputs": [
    {
     "name": "stdout",
     "output_type": "stream",
     "text": [
      "2016-09-09 22:45:36,236 - DEBUG - dtocean_core.pipeline - Variable farm.number_of_devices is not an input to branch Electrical Sub Systems.\n",
      "2016-09-09 22:45:36,299 - INFO - aneris.control.data - New \"device.constant_power_factor\" data stored with index 7URW9S\n",
      "2016-09-09 22:45:36,301 - INFO - aneris.control.data - New \"component.power_quality\" data stored with index 6ZZ7DP\n",
      "2016-09-09 22:45:36,303 - INFO - aneris.control.data - New \"component.switchgear\" data stored with index FPGKC7\n",
      "2016-09-09 22:45:36,305 - INFO - aneris.control.data - New \"corridor.shipping_hist\" data stored with index 7T4VQL\n",
      "2016-09-09 22:45:36,306 - INFO - aneris.control.data - New \"farm.annual_energy\" data stored with index 0G1K5K\n",
      "2016-09-09 22:45:36,309 - INFO - aneris.control.data - New \"component.collection_points\" data stored with index LP0JPC\n",
      "2016-09-09 22:45:36,309 - INFO - aneris.control.data - New \"component.dry_mate_connectors\" data stored with index 02ONE4\n",
      "2016-09-09 22:45:36,312 - INFO - aneris.control.data - New \"corridor.nogo_areas\" data stored with index GCMMOF\n",
      "2016-09-09 22:45:36,313 - INFO - aneris.control.data - New \"device.voltage\" data stored with index YGBK0T\n",
      "2016-09-09 22:45:36,315 - INFO - aneris.control.data - New \"farm.shipping_hist\" data stored with index 6OYI48\n",
      "2016-09-09 22:45:36,315 - INFO - aneris.control.data - New \"corridor.max_seabed_temp\" data stored with index WAHX0Y\n",
      "2016-09-09 22:45:36,318 - INFO - aneris.control.data - New \"farm.target_burial_depth\" data stored with index S4RB88\n",
      "2016-09-09 22:45:36,319 - INFO - aneris.control.data - New \"component.transformers\" data stored with index C0KEA1\n",
      "2016-09-09 22:45:36,321 - INFO - aneris.control.data - New \"corridor.number_of_export_cables\" data stored with index A2QJFR\n",
      "2016-09-09 22:45:36,322 - INFO - aneris.control.data - New \"farm.network_configuration\" data stored with index BL1OZ0\n",
      "2016-09-09 22:45:36,322 - INFO - aneris.control.data - New \"farm.collection_point_type\" data stored with index G84735\n",
      "2016-09-09 22:45:36,325 - INFO - aneris.control.data - New \"device.umbilical_safety_factor\" data stored with index MJILHL\n",
      "2016-09-09 22:45:36,325 - INFO - aneris.control.data - New \"component.static_cable\" data stored with index 9AP45J\n",
      "2016-09-09 22:45:36,328 - INFO - aneris.control.data - New \"device.umbilical_connection_point\" data stored with index 4LHG4A\n",
      "2016-09-09 22:45:36,328 - INFO - aneris.control.data - New \"farm.devices_per_string\" data stored with index GOT47S\n",
      "2016-09-09 22:45:36,331 - INFO - aneris.control.data - New \"corridor.target_burial_depth\" data stored with index VMZH46\n",
      "2016-09-09 22:45:36,332 - INFO - aneris.control.data - New \"farm.wave_direction_100_year\" data stored with index T57X2L\n",
      "2016-09-09 22:45:36,332 - INFO - aneris.control.data - New \"farm.layout\" data stored with index J24YUX\n",
      "2016-09-09 22:45:36,335 - INFO - aneris.control.data - New \"component.dynamic_cable\" data stored with index FQSIQ5\n",
      "2016-09-09 22:45:36,335 - INFO - aneris.control.data - New \"corridor.wave_direction\" data stored with index JOME7T\n",
      "2016-09-09 22:45:36,338 - INFO - aneris.control.data - New \"component.collection_point_foundations\" data stored with index RDHJZ0\n",
      "2016-09-09 22:45:36,338 - INFO - aneris.control.data - New \"device.connector_type\" data stored with index 8ZLWBI\n",
      "2016-09-09 22:45:36,342 - INFO - aneris.control.data - New \"component.installation_soil_compatibility\" data stored with index X194KG\n",
      "2016-09-09 22:45:36,342 - INFO - aneris.control.data - New \"component.collection_point_cog\" data stored with index MVK6IF\n",
      "2016-09-09 22:45:36,345 - INFO - aneris.control.data - New \"bathymetry.max_seabed_temp\" data stored with index ZKD2VK\n",
      "2016-09-09 22:45:36,346 - INFO - aneris.control.data - New \"farm.control_signal_cable\" data stored with index W447L7\n",
      "2016-09-09 22:45:36,348 - INFO - aneris.control.data - New \"farm.direction_of_max_surface_current\" data stored with index WKG59B\n",
      "2016-09-09 22:45:36,348 - INFO - aneris.control.data - New \"device.power_rating\" data stored with index GAFUKD\n",
      "2016-09-09 22:45:36,351 - INFO - aneris.control.data - New \"farm.nogo_areas\" data stored with index NKCS7R\n",
      "2016-09-09 22:45:36,351 - INFO - aneris.control.data - New \"bathymetry.max_soil_resistivity\" data stored with index 78A4W9\n",
      "2016-09-09 22:45:36,354 - INFO - aneris.control.data - New \"device.system_draft\" data stored with index MGR528\n",
      "2016-09-09 22:45:36,355 - INFO - aneris.control.data - New \"farm.ac_power_flow\" data stored with index 3GGCOL\n",
      "2016-09-09 22:45:36,355 - INFO - aneris.control.data - New \"corridor.voltage\" data stored with index XFA6OB\n",
      "2016-09-09 22:45:36,357 - INFO - aneris.control.data - New \"corridor.tidal_current_direction\" data stored with index 7QCFJ9\n",
      "2016-09-09 22:45:36,358 - INFO - aneris.control.data - New \"device.prescribed_footprint_radius\" data stored with index 18T25F\n",
      "2016-09-09 22:45:36,359 - INFO - aneris.control.data - New \"component.equipment_gradient_constraint\" data stored with index WF8GG6\n",
      "2016-09-09 22:45:36,361 - INFO - aneris.control.data - New \"farm.onshore_infrastructure_cost\" data stored with index XJUQ4U\n",
      "2016-09-09 22:45:36,362 - INFO - aneris.control.data - New \"farm.max_surface_current_10_year\" data stored with index XIU49Q\n",
      "2016-09-09 22:45:36,364 - INFO - aneris.control.data - New \"corridor.tidal_current_flow\" data stored with index UUXBW6\n",
      "2016-09-09 22:45:36,365 - INFO - aneris.control.data - New \"corridor.landing_point\" data stored with index PMIVRR\n",
      "2016-09-09 22:45:36,367 - INFO - aneris.control.data - New \"farm.connector_type\" data stored with index EJXB6J\n",
      "2016-09-09 22:45:36,368 - INFO - aneris.control.data - New \"component.wet_mate_connectors\" data stored with index W1NW38\n",
      "2016-09-09 22:45:36,369 - INFO - aneris.control.data - New \"farm.voltage_limit_min\" data stored with index 747IH9\n",
      "2016-09-09 22:45:36,371 - INFO - aneris.control.data - New \"farm.voltage_limit_max\" data stored with index WW1YS1\n",
      "2016-09-09 22:45:36,372 - INFO - aneris.control.data - New \"farm.control_signal_channels\" data stored with index HLQJT3\n",
      "2016-09-09 22:45:36,451 - INFO - aneris.control.data - New \"bathymetry.layers\" data stored with index Q9GBRR\n",
      "2016-09-09 22:45:36,453 - INFO - aneris.control.data - New \"farm.mean_power_hist_per_device\" data stored with index GTXTCR\n",
      "2016-09-09 22:45:36,454 - INFO - aneris.control.data - New \"corridor.max_soil_resistivity\" data stored with index XTOZYM\n",
      "2016-09-09 22:45:36,461 - INFO - aneris.control.data - New \"corridor.layers\" data stored with index O92Z1S\n",
      "2016-09-09 22:45:36,463 - INFO - aneris.control.data - New \"farm.control_signal_type\" data stored with index H9XSDW\n",
      "2016-09-09 22:45:36,464 - INFO - aneris.control.simulation - Datastate stored\n"
     ]
    }
   ],
   "source": [
    "electrical_branch.read_test_data(new_core,\n",
    "                            new_project,\n",
    "                            \"inputs_wp3.pkl\")"
   ]
  },
  {
   "cell_type": "markdown",
   "metadata": {},
   "source": [
    "## Check if the module can be executed"
   ]
  },
  {
   "cell_type": "code",
   "execution_count": 18,
   "metadata": {
    "collapsed": false
   },
   "outputs": [
    {
     "data": {
      "text/plain": [
       "True"
      ]
     },
     "metadata": {},
     "output_type": "display_data"
    }
   ],
   "source": [
    "can_execute = module_menu.is_executable(new_core, new_project, module_name)\n",
    "display(can_execute)"
   ]
  },
  {
   "cell_type": "code",
   "execution_count": 19,
   "metadata": {
    "collapsed": false
   },
   "outputs": [
    {
     "data": {
      "text/html": [
       "<ul><li>device.constant_power_factor: <b>satisfied</b></li><li>component.power_quality: <b>satisfied</b></li><li>corridor.shipping_hist: <b>satisfied</b></li><li>component.switchgear: <b>satisfied</b></li><li>component.collection_points: <b>satisfied</b></li><li>component.dry_mate_connectors: <b>satisfied</b></li><li>corridor.nogo_areas: <b>satisfied</b></li><li>device.voltage: <b>satisfied</b></li><li>farm.shipping_hist: <b>satisfied</b></li><li>corridor.max_seabed_temp: <b>satisfied</b></li><li>farm.target_burial_depth: <b>satisfied</b></li><li>farm.direction_of_max_surface_current: <b>satisfied</b></li><li>farm.network_configuration: <b>satisfied</b></li><li>farm.collection_point_type: <b>satisfied</b></li><li>device.umbilical_safety_factor: <b>satisfied</b></li><li>component.static_cable: <b>satisfied</b></li><li>device.umbilical_connection_point: <b>satisfied</b></li><li>farm.devices_per_string: <b>satisfied</b></li><li>farm.wave_direction_100_year: <b>satisfied</b></li><li>corridor.target_burial_depth: <b>satisfied</b></li><li>farm.annual_energy: <b>satisfied</b></li><li>component.transformers: <b>satisfied</b></li><li>component.dynamic_cable: <b>satisfied</b></li><li>corridor.wave_direction: <b>satisfied</b></li><li>component.collection_point_foundations: <b>satisfied</b></li><li>device.connector_type: <b>satisfied</b></li><li>component.installation_soil_compatibility: <b>satisfied</b></li><li>component.collection_point_cog: <b>satisfied</b></li><li>bathymetry.max_seabed_temp: <b>satisfied</b></li><li>farm.offshore_reactive_limit: <b>optional</b></li><li>farm.control_signal_cable: <b>satisfied</b></li><li>farm.layout: <b>satisfied</b></li><li>device.power_rating: <b>satisfied</b></li><li>component.wet_mate_connectors: <b>satisfied</b></li><li>farm.nogo_areas: <b>satisfied</b></li><li>bathymetry.max_soil_resistivity: <b>satisfied</b></li><li>device.system_draft: <b>satisfied</b></li><li>farm.ac_power_flow: <b>satisfied</b></li><li>corridor.tidal_current_direction: <b>satisfied</b></li><li>device.prescribed_footprint_radius: <b>satisfied</b></li><li>component.equipment_gradient_constraint: <b>satisfied</b></li><li>farm.onshore_infrastructure_cost: <b>satisfied</b></li><li>farm.max_surface_current_10_year: <b>satisfied</b></li><li>device.system_type: <b>satisfied</b></li><li>corridor.tidal_current_flow: <b>satisfied</b></li><li>corridor.landing_point: <b>satisfied</b></li><li>farm.connector_type: <b>satisfied</b></li><li>farm.main_direction: <b>optional</b></li><li>farm.mean_power_hist_per_device: <b>satisfied</b></li><li>farm.voltage_limit_min: <b>satisfied</b></li><li>farm.control_signal_channels: <b>satisfied</b></li><li>bathymetry.layers: <b>satisfied</b></li><li>farm.onshore_losses: <b>optional</b></li><li>corridor.max_soil_resistivity: <b>satisfied</b></li><li>corridor.number_of_export_cables: <b>satisfied</b></li><li>farm.voltage_limit_max: <b>satisfied</b></li><li>corridor.voltage: <b>satisfied</b></li><li>device.power_factor: <b>optional</b></li><li>corridor.layers: <b>satisfied</b></li><li>device.footprint_coords: <b>optional</b></li><li>farm.control_signal_type: <b>satisfied</b></li></ul>"
      ],
      "text/plain": [
       "<IPython.core.display.HTML object>"
      ]
     },
     "execution_count": 19,
     "metadata": {},
     "output_type": "execute_result"
    }
   ],
   "source": [
    "input_status = electrical_branch.get_input_status(new_core, new_project)\n",
    "message = html_dict(input_status)\n",
    "HTML(message)"
   ]
  },
  {
   "cell_type": "markdown",
   "metadata": {},
   "source": [
    "## Execute the current module\n",
    "\n",
    "The \"current\" module refers to the next module to be executed in the chain (pipeline) of modules. This command will only execute that module and another will be used for executing all of the modules at once.\n",
    "\n",
    "Note, any data supplied by the module will be automatically copied into the active data state."
   ]
  },
  {
   "cell_type": "code",
   "execution_count": 20,
   "metadata": {
    "collapsed": false
   },
   "outputs": [
    {
     "name": "stdout",
     "output_type": "stream",
     "text": [
      "2016-09-09 22:45:36,506 - INFO - aneris.control.simulation - Datastate with level \"electrical sub systems start\" stored\n",
      "2016-09-09 22:45:36,911 - INFO - dtocean_electrical.main - Begin main run...\n",
      "2016-09-09 22:45:36,911 - INFO - dtocean_electrical.main - Merging bathymetry...\n",
      "2016-09-09 22:45:39,756 - INFO - dtocean_electrical.main - Checking neighbours...\n",
      "2016-09-09 22:46:13,328 - INFO - dtocean_electrical.main - Building graph...\n",
      "2016-09-09 22:46:13,566 - INFO - dtocean_electrical.main - Checking for exclusion zones...\n",
      "2016-09-09 22:46:14,200 - INFO - dtocean_electrical.main - Checking equipment soil compatibility...\n",
      "2016-09-09 22:46:17,526 - INFO - dtocean_electrical.main - Building network...\n",
      "2016-09-09 22:46:42,755 - INFO - dtocean_electrical.main - Network design complete...\n",
      "2016-09-09 22:46:42,848 - INFO - aneris.control.data - New \"farm.annual_energy\" data stored with index YGMXCU\n",
      "2016-09-09 22:46:42,848 - INFO - aneris.control.data - New \"farm.electrical_network\" data stored with index H1AFMZ\n",
      "2016-09-09 22:46:42,851 - INFO - aneris.control.data - New \"farm.electrical_component_data\" data stored with index MAFBM5\n",
      "2016-09-09 22:46:42,851 - INFO - aneris.control.data - New \"farm.electrical_economics_data\" data stored with index 0W9CRF\n",
      "2016-09-09 22:46:42,851 - INFO - aneris.control.data - New \"farm.cable_routes\" data stored with index 6XRYJ5\n",
      "2016-09-09 22:46:42,854 - INFO - aneris.control.data - New \"farm.substation_props\" data stored with index LMWO6Y\n",
      "2016-09-09 22:46:42,855 - INFO - aneris.control.data - New \"farm.substation_layout\" data stored with index P96Y5P\n",
      "2016-09-09 22:46:42,857 - INFO - aneris.control.data - New \"farm.substation_cog\" data stored with index MDY9UD\n",
      "2016-09-09 22:46:42,858 - INFO - aneris.control.data - New \"farm.substation_foundation_location\" data stored with index K1Z1NR\n",
      "2016-09-09 22:46:42,861 - INFO - aneris.control.data - New \"farm.umbilical_cable_data\" data stored with index 5RXO2L\n",
      "2016-09-09 22:46:42,861 - INFO - aneris.control.data - New \"farm.umbilical_seabed_connection\" data stored with index TU3RJD\n",
      "2016-09-09 22:46:42,862 - INFO - aneris.control.simulation - Datastate with level \"electrical sub systems output\" stored\n"
     ]
    }
   ],
   "source": [
    "module_menu.execute_current(new_core, new_project)"
   ]
  },
  {
   "cell_type": "markdown",
   "metadata": {},
   "source": [
    "## Examine the results\n",
    "\n",
    "Currently, there is no robustness built into the core, so the assumption is that the module executed successfully. This will have to be improved towards deployment of the final software.\n",
    "\n",
    "Let's check the updated annual output of the farm, using just information in the data object."
   ]
  },
  {
   "cell_type": "code",
   "execution_count": 21,
   "metadata": {
    "collapsed": false
   },
   "outputs": [
    {
     "data": {
      "text/html": [
       "<p><b>Array Annual Energy Production:</b> <i>17954.2582572</i> (MWh)</p>"
      ],
      "text/plain": [
       "<IPython.core.display.HTML object>"
      ]
     },
     "execution_count": 21,
     "metadata": {},
     "output_type": "execute_result"
    }
   ],
   "source": [
    "farm_annual_energy = new_core.get_data_value(new_project, \"farm.annual_energy\")\n",
    "meta = new_core.get_metadata(\"farm.annual_energy\")\n",
    "name = meta.title\n",
    "value = farm_annual_energy\n",
    "units = meta.units[0]\n",
    "message_two = \"<p><b>{}:</b> <i>{}</i> ({})</p>\".format(name, value, units)\n",
    "\n",
    "HTML(message_two)"
   ]
  },
  {
   "cell_type": "code",
   "execution_count": 22,
   "metadata": {
    "collapsed": false
   },
   "outputs": [
    {
     "data": {
      "text/html": [
       "<div>\n",
       "<table border=\"1\" class=\"dataframe\">\n",
       "  <thead>\n",
       "    <tr style=\"text-align: right;\">\n",
       "      <th></th>\n",
       "      <th>Cost</th>\n",
       "      <th>Key Identifier</th>\n",
       "      <th>Quantity</th>\n",
       "      <th>Year</th>\n",
       "    </tr>\n",
       "  </thead>\n",
       "  <tbody>\n",
       "    <tr>\n",
       "      <th>0</th>\n",
       "      <td>600.0</td>\n",
       "      <td>3.0</td>\n",
       "      <td>1546.259437</td>\n",
       "      <td>0</td>\n",
       "    </tr>\n",
       "    <tr>\n",
       "      <th>1</th>\n",
       "      <td>600.0</td>\n",
       "      <td>1.0</td>\n",
       "      <td>1300.000000</td>\n",
       "      <td>0</td>\n",
       "    </tr>\n",
       "    <tr>\n",
       "      <th>2</th>\n",
       "      <td>700.0</td>\n",
       "      <td>2.0</td>\n",
       "      <td>1520.000000</td>\n",
       "      <td>0</td>\n",
       "    </tr>\n",
       "    <tr>\n",
       "      <th>3</th>\n",
       "      <td>150000.0</td>\n",
       "      <td>11.0</td>\n",
       "      <td>1.000000</td>\n",
       "      <td>0</td>\n",
       "    </tr>\n",
       "    <tr>\n",
       "      <th>4</th>\n",
       "      <td>150000.0</td>\n",
       "      <td>5.0</td>\n",
       "      <td>3.000000</td>\n",
       "      <td>0</td>\n",
       "    </tr>\n",
       "    <tr>\n",
       "      <th>5</th>\n",
       "      <td>1000000.0</td>\n",
       "      <td>NaN</td>\n",
       "      <td>1.000000</td>\n",
       "      <td>0</td>\n",
       "    </tr>\n",
       "  </tbody>\n",
       "</table>\n",
       "</div>"
      ],
      "text/plain": [
       "        Cost  Key Identifier     Quantity  Year\n",
       "0      600.0             3.0  1546.259437     0\n",
       "1      600.0             1.0  1300.000000     0\n",
       "2      700.0             2.0  1520.000000     0\n",
       "3   150000.0            11.0     1.000000     0\n",
       "4   150000.0             5.0     3.000000     0\n",
       "5  1000000.0             NaN     1.000000     0"
      ]
     },
     "execution_count": 22,
     "metadata": {},
     "output_type": "execute_result"
    }
   ],
   "source": [
    "electrical_economics = new_core.get_data_value(new_project, \"farm.electrical_economics_data\")\n",
    "electrical_economics"
   ]
  },
  {
   "cell_type": "code",
   "execution_count": 23,
   "metadata": {
    "collapsed": false
   },
   "outputs": [
    {
     "data": {
      "text/html": [
       "<div>\n",
       "<table border=\"1\" class=\"dataframe\">\n",
       "  <thead>\n",
       "    <tr style=\"text-align: right;\">\n",
       "      <th></th>\n",
       "      <th>Key Identifier</th>\n",
       "      <th>Length</th>\n",
       "      <th>Marker</th>\n",
       "      <th>Dry Mass</th>\n",
       "      <th>Required Floatation</th>\n",
       "      <th>Floatation Length</th>\n",
       "    </tr>\n",
       "  </thead>\n",
       "  <tbody>\n",
       "    <tr>\n",
       "      <th>0</th>\n",
       "      <td>3</td>\n",
       "      <td>344.616933</td>\n",
       "      <td>9</td>\n",
       "      <td>NaN</td>\n",
       "      <td>NaN</td>\n",
       "      <td>NaN</td>\n",
       "    </tr>\n",
       "    <tr>\n",
       "      <th>1</th>\n",
       "      <td>3</td>\n",
       "      <td>437.000378</td>\n",
       "      <td>10</td>\n",
       "      <td>NaN</td>\n",
       "      <td>NaN</td>\n",
       "      <td>NaN</td>\n",
       "    </tr>\n",
       "    <tr>\n",
       "      <th>2</th>\n",
       "      <td>3</td>\n",
       "      <td>764.642126</td>\n",
       "      <td>11</td>\n",
       "      <td>NaN</td>\n",
       "      <td>NaN</td>\n",
       "      <td>NaN</td>\n",
       "    </tr>\n",
       "  </tbody>\n",
       "</table>\n",
       "</div>"
      ],
      "text/plain": [
       "   Key Identifier      Length  Marker  Dry Mass  Required Floatation  \\\n",
       "0               3  344.616933       9       NaN                  NaN   \n",
       "1               3  437.000378      10       NaN                  NaN   \n",
       "2               3  764.642126      11       NaN                  NaN   \n",
       "\n",
       "   Floatation Length  \n",
       "0                NaN  \n",
       "1                NaN  \n",
       "2                NaN  "
      ]
     },
     "execution_count": 23,
     "metadata": {},
     "output_type": "execute_result"
    }
   ],
   "source": [
    "umbilicals = new_core.get_data_value(new_project, \"farm.umbilical_cable_data\")\n",
    "umbilicals"
   ]
  },
  {
   "cell_type": "code",
   "execution_count": 24,
   "metadata": {
    "collapsed": false
   },
   "outputs": [
    {
     "data": {
      "image/png": "[encoded data removed]",
      "text/plain": [
       "<matplotlib.figure.Figure at 0x29c3d0b8>"
      ]
     },
     "metadata": {},
     "output_type": "display_data"
    }
   ],
   "source": [
    "power_hist = electrical_branch.get_input_variable(new_core, new_project, \"farm.mean_power_hist_per_device\")\n",
    "power_hist.plot(new_core, new_project)"
   ]
  },
  {
   "cell_type": "code",
   "execution_count": null,
   "metadata": {
    "collapsed": true
   },
   "outputs": [],
   "source": []
  }
 ],
 "metadata": {
  "kernelspec": {
   "display_name": "Python 2",
   "language": "python",
   "name": "python2"
  },
  "language_info": {
   "codemirror_mode": {
    "name": "ipython",
    "version": 2
   },
   "file_extension": ".py",
   "mimetype": "text/x-python",
   "name": "python",
   "nbconvert_exporter": "python",
   "pygments_lexer": "ipython2",
   "version": "2.7.12"
  }
 },
 "nbformat": 4,
 "nbformat_minor": 0
}
