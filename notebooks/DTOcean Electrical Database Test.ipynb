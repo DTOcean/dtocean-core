{
 "cells": [
  {
   "cell_type": "markdown",
   "metadata": {},
   "source": [
    "# DTOcean Wave Hydrodynamics Database Test"
   ]
  },
  {
   "cell_type": "code",
   "execution_count": null,
   "metadata": {
    "collapsed": true
   },
   "outputs": [],
   "source": [
    "%matplotlib inline"
   ]
  },
  {
   "cell_type": "code",
   "execution_count": null,
   "metadata": {
    "collapsed": true
   },
   "outputs": [],
   "source": [
    "from IPython.display import display, HTML"
   ]
  },
  {
   "cell_type": "code",
   "execution_count": null,
   "metadata": {
    "collapsed": false
   },
   "outputs": [],
   "source": [
    "import matplotlib.pyplot as plt\n",
    "plt.rcParams['figure.figsize'] = (14.0, 8.0)"
   ]
  },
  {
   "cell_type": "code",
   "execution_count": null,
   "metadata": {
    "collapsed": true
   },
   "outputs": [],
   "source": [
    "import numpy as np\n",
    "import time"
   ]
  },
  {
   "cell_type": "code",
   "execution_count": null,
   "metadata": {
    "collapsed": false
   },
   "outputs": [],
   "source": [
    "from dtocean_core import start_logging\n",
    "from dtocean_core.core import Core\n",
    "from dtocean_core.menu import DataMenu, ModuleMenu, ProjectMenu\n",
    "from dtocean_core.pipeline import Tree"
   ]
  },
  {
   "cell_type": "code",
   "execution_count": null,
   "metadata": {
    "collapsed": true
   },
   "outputs": [],
   "source": [
    "def html_list(x):\n",
    "    message = \"<ul>\"\n",
    "    for name in x:\n",
    "        message += \"<li>{}</li>\".format(name)\n",
    "    message += \"</ul>\"\n",
    "    return message\n",
    "def html_dict(x):\n",
    "    message = \"<ul>\"\n",
    "    for name, status in x.iteritems():\n",
    "        message += \"<li>{}: <b>{}</b></li>\".format(name, status)\n",
    "    message += \"</ul>\"\n",
    "    return message"
   ]
  },
  {
   "cell_type": "code",
   "execution_count": null,
   "metadata": {
    "collapsed": false
   },
   "outputs": [],
   "source": [
    "# Bring up the logger\n",
    "start_logging()"
   ]
  },
  {
   "cell_type": "code",
   "execution_count": null,
   "metadata": {
    "collapsed": false
   },
   "outputs": [],
   "source": [
    "start_time = time.ctime()\n",
    "print \"Start time is \", start_time"
   ]
  },
  {
   "cell_type": "markdown",
   "metadata": {},
   "source": [
    "## Create the core, menus and pipeline tree\n",
    "\n",
    "The core object carrys all the system information and is operated on by the other classes"
   ]
  },
  {
   "cell_type": "code",
   "execution_count": null,
   "metadata": {
    "collapsed": false
   },
   "outputs": [],
   "source": [
    "new_core = Core()\n",
    "data_menu = DataMenu()\n",
    "project_menu = ProjectMenu()\n",
    "module_menu = ModuleMenu()\n",
    "pipe_tree = Tree()"
   ]
  },
  {
   "cell_type": "markdown",
   "metadata": {},
   "source": [
    "## Create a new project"
   ]
  },
  {
   "cell_type": "code",
   "execution_count": null,
   "metadata": {
    "collapsed": false
   },
   "outputs": [],
   "source": [
    "project_title = \"DTOcean\"  \n",
    "new_project = project_menu.new_project(new_core, project_title)"
   ]
  },
  {
   "cell_type": "markdown",
   "metadata": {},
   "source": [
    "## Connect to a database"
   ]
  },
  {
   "cell_type": "code",
   "execution_count": null,
   "metadata": {
    "collapsed": false
   },
   "outputs": [],
   "source": [
    "data_menu.select_database(new_project, \"local\")"
   ]
  },
  {
   "cell_type": "markdown",
   "metadata": {},
   "source": [
    "## Set the device type"
   ]
  },
  {
   "cell_type": "code",
   "execution_count": null,
   "metadata": {
    "collapsed": false
   },
   "outputs": [],
   "source": [
    "options_branch = pipe_tree.get_branch(new_core, new_project, \"System Type Selection\")\n",
    "variable_id = \"device.system_type\"\n",
    "my_var = options_branch.get_input_variable(new_core, new_project, variable_id)\n",
    "my_var.set_raw_interface(new_core, \"Wave Floating\")\n",
    "my_var.read(new_core, new_project)"
   ]
  },
  {
   "cell_type": "markdown",
   "metadata": {},
   "source": [
    "## Initiate the pipeline\n",
    "This step will be important when the database is incorporated into the system as it will effect the operation of the pipeline."
   ]
  },
  {
   "cell_type": "code",
   "execution_count": null,
   "metadata": {
    "collapsed": false
   },
   "outputs": [],
   "source": [
    "project_menu.initiate_pipeline(new_core, new_project)"
   ]
  },
  {
   "cell_type": "markdown",
   "metadata": {},
   "source": [
    "## Retrieve the available site and technology options from the DB"
   ]
  },
  {
   "cell_type": "code",
   "execution_count": null,
   "metadata": {
    "collapsed": false
   },
   "outputs": [],
   "source": [
    "project_menu.initiate_options(new_core, new_project)"
   ]
  },
  {
   "cell_type": "code",
   "execution_count": null,
   "metadata": {
    "collapsed": false
   },
   "outputs": [],
   "source": [
    "options_branch = pipe_tree.get_branch(new_core, new_project, \"Site and System Options\")\n",
    "input_status = options_branch.get_output_status(new_core, new_project)\n",
    "message = html_dict(input_status)\n",
    "HTML(message)"
   ]
  },
  {
   "cell_type": "markdown",
   "metadata": {},
   "source": [
    "## Check available device names"
   ]
  },
  {
   "cell_type": "code",
   "execution_count": null,
   "metadata": {
    "collapsed": false
   },
   "outputs": [],
   "source": [
    "my_var = options_branch.get_output_variable(new_core, new_project, \"device.available_names\")\n",
    "site_list = my_var.get_value(new_core, new_project)\n",
    "msg = html_list(site_list)\n",
    "HTML(msg)"
   ]
  },
  {
   "cell_type": "markdown",
   "metadata": {},
   "source": [
    "## Select a device"
   ]
  },
  {
   "cell_type": "code",
   "execution_count": null,
   "metadata": {
    "collapsed": false
   },
   "outputs": [],
   "source": [
    "filter_branch = pipe_tree.get_branch(new_core, new_project, 'Database Filtering Interface')\n",
    "new_var = filter_branch.get_input_variable(new_core, new_project,\n",
    "                                            \"device.selected_name\")\n",
    "new_var.set_raw_interface(new_core, \"Pelamis\")\n",
    "new_var.read(new_core, new_project)"
   ]
  },
  {
   "cell_type": "code",
   "execution_count": null,
   "metadata": {
    "collapsed": false
   },
   "outputs": [],
   "source": [
    "input_status = filter_branch.get_input_status(new_core, new_project)\n",
    "message = html_dict(input_status)\n",
    "HTML(message)"
   ]
  },
  {
   "cell_type": "markdown",
   "metadata": {},
   "source": [
    "## Check the available site names"
   ]
  },
  {
   "cell_type": "code",
   "execution_count": null,
   "metadata": {
    "collapsed": false
   },
   "outputs": [],
   "source": [
    "available_locations = options_branch.get_output_variable(new_core, new_project,\n",
    "                                                         \"site.available_names\")\n",
    "message = html_list(available_locations.get_value(new_core, new_project))\n",
    "message = \"<h3>Available Locations</h3>\" + message\n",
    "HTML(message)"
   ]
  },
  {
   "cell_type": "markdown",
   "metadata": {},
   "source": [
    "## Add the site location"
   ]
  },
  {
   "cell_type": "code",
   "execution_count": null,
   "metadata": {
    "collapsed": false
   },
   "outputs": [],
   "source": [
    "new_var = filter_branch.get_input_variable(new_core, new_project,\n",
    "                                           \"site.selected_name\")\n",
    "new_var.set_raw_interface(new_core, \"shetland\")\n",
    "new_var.read(new_core, new_project)"
   ]
  },
  {
   "cell_type": "code",
   "execution_count": null,
   "metadata": {
    "collapsed": false
   },
   "outputs": [],
   "source": [
    "input_status = filter_branch.get_input_status(new_core, new_project)\n",
    "message = html_dict(input_status)\n",
    "HTML(message)"
   ]
  },
  {
   "cell_type": "markdown",
   "metadata": {},
   "source": [
    "## Collect the bathymetric data\n",
    "The lease area polygon may be editied following this step."
   ]
  },
  {
   "cell_type": "code",
   "execution_count": null,
   "metadata": {
    "collapsed": false
   },
   "outputs": [],
   "source": [
    "project_menu.initiate_bathymetry(new_core, new_project)"
   ]
  },
  {
   "cell_type": "markdown",
   "metadata": {},
   "source": [
    "## Filter the database"
   ]
  },
  {
   "cell_type": "code",
   "execution_count": null,
   "metadata": {
    "collapsed": false
   },
   "outputs": [],
   "source": [
    "project_menu.initiate_filter(new_core, new_project)"
   ]
  },
  {
   "cell_type": "markdown",
   "metadata": {},
   "source": [
    "## Discover available modules"
   ]
  },
  {
   "cell_type": "code",
   "execution_count": null,
   "metadata": {
    "collapsed": false
   },
   "outputs": [],
   "source": [
    "names = module_menu.get_available(new_core, new_project)\n",
    "message = html_list(names)\n",
    "HTML(message)"
   ]
  },
  {
   "cell_type": "markdown",
   "metadata": {},
   "source": [
    "## Activate a module\n",
    "\n",
    "Note that the order of activation is important and that we can't deactivate yet!"
   ]
  },
  {
   "cell_type": "code",
   "execution_count": null,
   "metadata": {
    "collapsed": false
   },
   "outputs": [],
   "source": [
    "module_name = 'Electrical Sub Systems'\n",
    "module_menu.activate(new_core, new_project, module_name)"
   ]
  },
  {
   "cell_type": "markdown",
   "metadata": {},
   "source": [
    "## Check the status of the module inputs"
   ]
  },
  {
   "cell_type": "code",
   "execution_count": null,
   "metadata": {
    "collapsed": false
   },
   "outputs": [],
   "source": [
    "electro_branch = pipe_tree.get_branch(new_core, new_project, 'Electrical Sub Systems')\n",
    "input_status = electro_branch.get_input_status(new_core, new_project)\n",
    "message = html_dict(input_status)\n",
    "HTML(message)"
   ]
  },
  {
   "cell_type": "markdown",
   "metadata": {},
   "source": [
    "## Initiate the dataflow\n",
    "This indicates that the filtering and module / theme selections are complete"
   ]
  },
  {
   "cell_type": "code",
   "execution_count": null,
   "metadata": {
    "collapsed": false
   },
   "outputs": [],
   "source": [
    "project_menu.initiate_dataflow(new_core, new_project)"
   ]
  },
  {
   "cell_type": "markdown",
   "metadata": {},
   "source": [
    "## See what state levels are available"
   ]
  },
  {
   "cell_type": "code",
   "execution_count": null,
   "metadata": {
    "collapsed": false
   },
   "outputs": [],
   "source": [
    "message = html_list(new_core.get_levels(new_project))\n",
    "HTML(message)"
   ]
  },
  {
   "cell_type": "markdown",
   "metadata": {},
   "source": [
    "## Move the system to the post-filter state and ready the system"
   ]
  },
  {
   "cell_type": "code",
   "execution_count": null,
   "metadata": {
    "collapsed": false
   },
   "outputs": [],
   "source": [
    "new_core.inspect_level(new_project, \"modules initial\")\n",
    "new_core.reset_level(new_project, preserve_level=True)"
   ]
  },
  {
   "cell_type": "markdown",
   "metadata": {},
   "source": [
    "## Get data using DTOcean DB\n",
    "\n",
    "Using the auto_connect method on a branch, we can pull available variables from the database"
   ]
  },
  {
   "cell_type": "code",
   "execution_count": null,
   "metadata": {
    "collapsed": false
   },
   "outputs": [],
   "source": [
    "electro_branch.read_auto(new_core, new_project)\n",
    "input_status = electro_branch.get_input_status(new_core, new_project)\n",
    "message = html_dict(input_status)\n",
    "HTML(message)\n"
   ]
  },
  {
   "cell_type": "markdown",
   "metadata": {},
   "source": [
    "## Check if the module can be executed"
   ]
  },
  {
   "cell_type": "code",
   "execution_count": null,
   "metadata": {
    "collapsed": false
   },
   "outputs": [],
   "source": [
    "can_execute = module_menu.is_executable(new_core, new_project, module_name)\n",
    "display(can_execute)"
   ]
  },
  {
   "cell_type": "code",
   "execution_count": null,
   "metadata": {
    "collapsed": false
   },
   "outputs": [],
   "source": [
    "input_status = electro_branch.get_input_status(new_core, new_project)\n",
    "message = html_dict(input_status)\n",
    "HTML(message)"
   ]
  },
  {
   "cell_type": "markdown",
   "metadata": {},
   "source": [
    "## Enter user options"
   ]
  },
  {
   "cell_type": "code",
   "execution_count": null,
   "metadata": {
    "collapsed": false
   },
   "outputs": [],
   "source": [
    "user_array_option = electro_branch.get_input_variable(new_core, new_project, \"options.user_array_option\")\n",
    "user_array_option.set_raw_interface(new_core, \"Staggered\")\n",
    "user_array_option.read(new_core, new_project)\n",
    "\n",
    "optimisation_threshold = electro_branch.get_input_variable(new_core, new_project, \"options.optimisation_threshold\")\n",
    "optimisation_threshold.set_raw_interface(new_core, 0.0)\n",
    "optimisation_threshold.read(new_core, new_project)"
   ]
  },
  {
   "cell_type": "markdown",
   "metadata": {},
   "source": [
    "## Check if the module can be executed"
   ]
  },
  {
   "cell_type": "code",
   "execution_count": null,
   "metadata": {
    "collapsed": false
   },
   "outputs": [],
   "source": [
    "can_execute = module_menu.is_executable(new_core, new_project, module_name)\n",
    "display(can_execute)"
   ]
  },
  {
   "cell_type": "code",
   "execution_count": null,
   "metadata": {
    "collapsed": false
   },
   "outputs": [],
   "source": [
    "input_status = electro_branch.get_input_status(new_core, new_project)\n",
    "message = html_dict(input_status)\n",
    "HTML(message)"
   ]
  },
  {
   "cell_type": "markdown",
   "metadata": {},
   "source": [
    "## Execute the current module\n",
    "\n",
    "The \"current\" module refers to the next module to be executed in the chain (pipeline) of modules. This command will only execute that module and another will be used for executing all of the modules at once.\n",
    "\n",
    "Note, any data supplied by the module will be automatically copied into the active data state."
   ]
  },
  {
   "cell_type": "code",
   "execution_count": null,
   "metadata": {
    "collapsed": false,
    "scrolled": true
   },
   "outputs": [],
   "source": [
    "module_menu.execute_current(new_core, new_project)"
   ]
  },
  {
   "cell_type": "markdown",
   "metadata": {},
   "source": [
    "## Examine the results\n",
    "\n",
    "Currently, there is no robustness built into the core, so the assumption is that the module executed successfully. This will have to be improved towards deployment of the final software.\n",
    "\n",
    "Let's check the number of devices and annual output of the farm, using just information in the data object."
   ]
  },
  {
   "cell_type": "code",
   "execution_count": null,
   "metadata": {
    "collapsed": false
   },
   "outputs": [],
   "source": [
    "farm_annual_energy = new_core.get_data_value(new_project, \"farm.annual_energy\")\n",
    "meta = new_core.get_metadata(\"farm.annual_energy\")\n",
    "name = meta.title\n",
    "value = farm_annual_energy\n",
    "units = meta.units[0]\n",
    "message_two = \"<p><b>{}:</b> <i>{}</i> ({})</p>\".format(name, value, units)\n",
    "\n",
    "HTML(message_two)"
   ]
  },
  {
   "cell_type": "code",
   "execution_count": null,
   "metadata": {
    "collapsed": true
   },
   "outputs": [],
   "source": [
    "electrical_economics = new_core.get_data_value(new_project, \"farm.electrical_economics_data\")\n",
    "electrical_economics"
   ]
  },
  {
   "cell_type": "code",
   "execution_count": null,
   "metadata": {
    "collapsed": true
   },
   "outputs": [],
   "source": [
    "umbilicals = new_core.get_data_value(new_project, \"farm.umbilical_cable_data\")\n",
    "umbilicals"
   ]
  },
  {
   "cell_type": "code",
   "execution_count": null,
   "metadata": {
    "collapsed": true
   },
   "outputs": [],
   "source": [
    "power_hist = electrical_branch.get_input_variable(new_core, new_project, \"farm.mean_power_hist_per_device\")\n",
    "power_hist.plot(new_core, new_project)"
   ]
  }
 ],
 "metadata": {
  "kernelspec": {
   "display_name": "Python 2",
   "language": "python",
   "name": "python2"
  },
  "language_info": {
   "codemirror_mode": {
    "name": "ipython",
    "version": 2
   },
   "file_extension": ".py",
   "mimetype": "text/x-python",
   "name": "python",
   "nbconvert_exporter": "python",
   "pygments_lexer": "ipython2",
   "version": "2.7.12"
  }
 },
 "nbformat": 4,
 "nbformat_minor": 0
}
