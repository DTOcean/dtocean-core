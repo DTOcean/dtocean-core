{
 "cells": [
  {
   "cell_type": "markdown",
   "metadata": {},
   "source": [
    "# DTOcean File Input / Output Examples"
   ]
  },
  {
   "cell_type": "code",
   "execution_count": 36,
   "metadata": {
    "collapsed": true
   },
   "outputs": [],
   "source": [
    "%matplotlib inline"
   ]
  },
  {
   "cell_type": "code",
   "execution_count": 37,
   "metadata": {
    "collapsed": true
   },
   "outputs": [],
   "source": [
    "from IPython.display import display, HTML"
   ]
  },
  {
   "cell_type": "code",
   "execution_count": 38,
   "metadata": {
    "collapsed": false
   },
   "outputs": [],
   "source": [
    "import matplotlib.pyplot as plt\n",
    "plt.rcParams['figure.figsize'] = (14.0, 8.0)"
   ]
  },
  {
   "cell_type": "code",
   "execution_count": 39,
   "metadata": {
    "collapsed": true
   },
   "outputs": [],
   "source": [
    "import numpy as np"
   ]
  },
  {
   "cell_type": "code",
   "execution_count": 40,
   "metadata": {
    "collapsed": true
   },
   "outputs": [],
   "source": [
    "from aneris.control.factory import InterfaceFactory"
   ]
  },
  {
   "cell_type": "code",
   "execution_count": 41,
   "metadata": {
    "collapsed": false
   },
   "outputs": [],
   "source": [
    "from dtocean_core import start_logging\n",
    "from dtocean_core.core import Core, AutoFileInput, AutoFileOutput\n",
    "from dtocean_core.menu import DataMenu, ModuleMenu, ProjectMenu\n",
    "from dtocean_core.pipeline import Tree\n",
    "from dtocean_core.data import CoreMetaData"
   ]
  },
  {
   "cell_type": "code",
   "execution_count": 42,
   "metadata": {
    "collapsed": true
   },
   "outputs": [],
   "source": [
    "def html_list(x):\n",
    "    message = \"<ul>\"\n",
    "    for name in x:\n",
    "        message += \"<li>{}</li>\".format(name)\n",
    "    message += \"</ul>\"\n",
    "    return message\n",
    "def html_dict(x):\n",
    "    message = \"<ul>\"\n",
    "    for name, status in x.iteritems():\n",
    "        message += \"<li>{}: <b>{}</b></li>\".format(name, status)\n",
    "    message += \"</ul>\"\n",
    "    return message"
   ]
  },
  {
   "cell_type": "code",
   "execution_count": 43,
   "metadata": {
    "collapsed": false
   },
   "outputs": [
    {
     "name": "stdout",
     "output_type": "stream",
     "text": [
      "2016-10-04 13:23:14,311 - INFO - dtocean_core - Begin logging for dtocean_core.\n"
     ]
    }
   ],
   "source": [
    "# Bring up the logger\n",
    "start_logging()"
   ]
  },
  {
   "cell_type": "markdown",
   "metadata": {},
   "source": [
    "## Create the core, menus and pipeline tree"
   ]
  },
  {
   "cell_type": "code",
   "execution_count": 44,
   "metadata": {
    "collapsed": false
   },
   "outputs": [
    {
     "name": "stdout",
     "output_type": "stream",
     "text": [
      "2016-10-04 13:23:14,858 - DEBUG - aneris.control.data - Searching for Structure classes\n",
      "2016-10-04 13:23:14,859 - DEBUG - aneris.control.sockets - Searching for ProjectInterface classes\n",
      "2016-10-04 13:23:14,861 - DEBUG - aneris.control.sockets - Searching for ModuleInterface classes\n",
      "2016-10-04 13:23:14,864 - DEBUG - aneris.control.sockets - Searching for ThemeInterface classes\n",
      "2016-10-04 13:23:14,867 - DEBUG - aneris.control.sockets - Searching for FileInputInterface classes\n",
      "2016-10-04 13:23:14,869 - DEBUG - aneris.control.sockets - Searching for FileOutputInterface classes\n",
      "2016-10-04 13:23:14,884 - DEBUG - aneris.control.sockets - Searching for QueryInterface classes\n",
      "2016-10-04 13:23:14,887 - DEBUG - aneris.control.sockets - Searching for RawInterface classes\n",
      "2016-10-04 13:23:14,888 - DEBUG - aneris.control.sockets - Searching for PlotInterface classes\n"
     ]
    }
   ],
   "source": [
    "new_core = Core()\n",
    "data_menu = DataMenu()\n",
    "project_menu = ProjectMenu()\n",
    "module_menu = ModuleMenu()\n",
    "pipe_tree = Tree()"
   ]
  },
  {
   "cell_type": "markdown",
   "metadata": {},
   "source": [
    "## Create a new project"
   ]
  },
  {
   "cell_type": "code",
   "execution_count": 45,
   "metadata": {
    "collapsed": false
   },
   "outputs": [
    {
     "name": "stdout",
     "output_type": "stream",
     "text": [
      "2016-10-04 13:23:15,065 - INFO - aneris.entity.simulation - Created new Simulation with title \"Default\"\n",
      "2016-10-04 13:23:15,066 - DEBUG - dtocean_core.core - Setting execution level to initial\n",
      "2016-10-04 13:23:15,069 - DEBUG - dtocean_core.core - Setting inspection level to initial\n",
      "2016-10-04 13:23:15,069 - DEBUG - aneris.control.data - DataState with level \"initial\" created\n",
      "2016-10-04 13:23:15,069 - INFO - aneris.control.simulation - Datastate with level \"initial\" stored\n",
      "2016-10-04 13:23:15,071 - DEBUG - aneris.control.simulation - Merging active DataStates.\n",
      "2016-10-04 13:23:15,072 - INFO - aneris.control.pipeline - New Hub created for interface ProjectInterface.\n",
      "2016-10-04 13:23:15,072 - DEBUG - aneris.control.simulation - Getting output status for interface \"System Type Selection\".\n",
      "2016-10-04 13:23:15,073 - DEBUG - aneris.control.simulation - Getting input status for interface \"System Type Selection\".\n"
     ]
    }
   ],
   "source": [
    "project_title = \"DTOcean\"  \n",
    "new_project = project_menu.new_project(new_core, project_title)"
   ]
  },
  {
   "cell_type": "markdown",
   "metadata": {},
   "source": [
    "## Set the device type"
   ]
  },
  {
   "cell_type": "code",
   "execution_count": 46,
   "metadata": {
    "collapsed": false
   },
   "outputs": [
    {
     "name": "stdout",
     "output_type": "stream",
     "text": [
      "2016-10-04 13:23:15,085 - DEBUG - dtocean_core.pipeline - Reading variables device.system_type\n",
      "2016-10-04 13:23:15,086 - DEBUG - aneris.control.data - DataState created\n",
      "2016-10-04 13:23:15,088 - INFO - aneris.control.data - New \"device.system_type\" data stored with index DSHH1U\n",
      "2016-10-04 13:23:15,088 - INFO - aneris.control.simulation - Datastate stored\n",
      "2016-10-04 13:23:15,091 - DEBUG - aneris.control.simulation - Merging active DataStates.\n",
      "2016-10-04 13:23:15,092 - DEBUG - aneris.control.simulation - Getting output status for interface \"System Type Selection\".\n",
      "2016-10-04 13:23:15,092 - DEBUG - aneris.control.simulation - Getting input status for interface \"System Type Selection\".\n"
     ]
    }
   ],
   "source": [
    "options_branch = pipe_tree.get_branch(new_core, new_project, \"System Type Selection\")\n",
    "variable_id = \"device.system_type\"\n",
    "my_var = options_branch.get_input_variable(new_core, new_project, variable_id)\n",
    "my_var.set_raw_interface(new_core, \"Tidal Fixed\")\n",
    "my_var.read(new_core, new_project)"
   ]
  },
  {
   "cell_type": "markdown",
   "metadata": {},
   "source": [
    "## Initiate the pipeline"
   ]
  },
  {
   "cell_type": "code",
   "execution_count": 47,
   "metadata": {
    "collapsed": false
   },
   "outputs": [
    {
     "name": "stdout",
     "output_type": "stream",
     "text": [
      "2016-10-04 13:23:15,102 - DEBUG - dtocean_core.core - Setting inspection level to system type selection start\n",
      "2016-10-04 13:23:15,105 - DEBUG - aneris.control.data - DataState with level \"system type selection start\" created\n",
      "2016-10-04 13:23:15,107 - INFO - aneris.control.simulation - Datastate with level \"system type selection start\" stored\n",
      "2016-10-04 13:23:15,111 - DEBUG - aneris.control.simulation - Merging active DataStates.\n",
      "2016-10-04 13:23:15,112 - DEBUG - aneris.control.simulation - Retrieving data with identity \"device.system_type\".\n",
      "2016-10-04 13:23:15,114 - DEBUG - aneris.control.data - Retrieving \"device.system_type\" data stored with index DSHH1U from pool\n",
      "2016-10-04 13:23:15,115 - DEBUG - aneris.control.data - DataState with level \"system type selection output\" created\n",
      "2016-10-04 13:23:15,117 - INFO - aneris.control.data - New \"hidden.pipeline_active\" data stored with index SS1XXB\n",
      "2016-10-04 13:23:15,118 - INFO - aneris.control.simulation - Datastate with level \"system type selection output\" stored\n",
      "2016-10-04 13:23:15,119 - DEBUG - aneris.control.simulation - Merging active DataStates.\n",
      "2016-10-04 13:23:15,121 - DEBUG - aneris.control.simulation - Getting output status for interface \"System Type Selection\".\n",
      "2016-10-04 13:23:15,122 - DEBUG - aneris.control.simulation - Getting input status for interface \"System Type Selection\".\n",
      "2016-10-04 13:23:15,124 - DEBUG - dtocean_core.core - Setting execution level to system type selection output\n",
      "2016-10-04 13:23:15,125 - INFO - aneris.control.pipeline - New Pipeline created for interface ModuleInterface.\n",
      "2016-10-04 13:23:15,127 - INFO - aneris.control.pipeline - New Hub created for interface ThemeInterface.\n"
     ]
    }
   ],
   "source": [
    "project_menu.initiate_pipeline(new_core, new_project)"
   ]
  },
  {
   "cell_type": "markdown",
   "metadata": {},
   "source": [
    "## Discover available modules"
   ]
  },
  {
   "cell_type": "code",
   "execution_count": 48,
   "metadata": {
    "collapsed": false
   },
   "outputs": [
    {
     "data": {
      "text/html": [
       "<ul><li>Hydrodynamics</li><li>Electrical Sub-Systems</li><li>Mooring and Foundations</li></ul>"
      ],
      "text/plain": [
       "<IPython.core.display.HTML object>"
      ]
     },
     "execution_count": 48,
     "metadata": {},
     "output_type": "execute_result"
    }
   ],
   "source": [
    "names = module_menu.get_available(new_core, new_project)\n",
    "message = html_list(names)\n",
    "HTML(message)"
   ]
  },
  {
   "cell_type": "markdown",
   "metadata": {},
   "source": [
    "## Activate a module"
   ]
  },
  {
   "cell_type": "code",
   "execution_count": 49,
   "metadata": {
    "collapsed": false
   },
   "outputs": [
    {
     "name": "stdout",
     "output_type": "stream",
     "text": [
      "2016-10-04 13:23:15,148 - DEBUG - aneris.control.simulation - Getting output status for interface \"System Type Selection\".\n",
      "2016-10-04 13:23:15,150 - DEBUG - aneris.control.simulation - Getting output status for interface \"Hydrodynamics\".\n",
      "2016-10-04 13:23:15,151 - DEBUG - aneris.control.simulation - Getting input status for interface \"System Type Selection\".\n",
      "2016-10-04 13:23:15,151 - DEBUG - aneris.control.simulation - Getting input status for interface \"Hydrodynamics\".\n",
      "2016-10-04 13:23:15,154 - DEBUG - aneris.control.simulation - Checking mask status for input \"device.bidirection\".\n",
      "2016-10-04 13:23:15,154 - DEBUG - aneris.control.simulation - Retrieving data with identity \"device.system_type\".\n",
      "2016-10-04 13:23:15,155 - DEBUG - aneris.control.data - Retrieving \"device.system_type\" data stored with index DSHH1U from pool\n",
      "2016-10-04 13:23:15,157 - DEBUG - aneris.control.simulation - Checking mask status for input \"device.cut_in_velocity\".\n",
      "2016-10-04 13:23:15,157 - DEBUG - aneris.control.simulation - Retrieving data with identity \"device.system_type\".\n",
      "2016-10-04 13:23:15,158 - DEBUG - aneris.control.data - Retrieving \"device.system_type\" data stored with index DSHH1U from pool\n",
      "2016-10-04 13:23:15,161 - DEBUG - aneris.control.simulation - Checking mask status for input \"device.cut_out_velocity\".\n",
      "2016-10-04 13:23:15,163 - DEBUG - aneris.control.simulation - Retrieving data with identity \"device.system_type\".\n",
      "2016-10-04 13:23:15,164 - DEBUG - aneris.control.data - Retrieving \"device.system_type\" data stored with index DSHH1U from pool\n",
      "2016-10-04 13:23:15,165 - DEBUG - aneris.control.simulation - Checking mask status for input \"device.turbine_diameter\".\n",
      "2016-10-04 13:23:15,167 - DEBUG - aneris.control.simulation - Retrieving data with identity \"device.system_type\".\n",
      "2016-10-04 13:23:15,167 - DEBUG - aneris.control.data - Retrieving \"device.system_type\" data stored with index DSHH1U from pool\n",
      "2016-10-04 13:23:15,167 - DEBUG - aneris.control.simulation - Checking mask status for input \"device.turbine_interdistance\".\n",
      "2016-10-04 13:23:15,168 - DEBUG - aneris.control.simulation - Retrieving data with identity \"device.system_type\".\n",
      "2016-10-04 13:23:15,171 - DEBUG - aneris.control.data - Retrieving \"device.system_type\" data stored with index DSHH1U from pool\n",
      "2016-10-04 13:23:15,171 - DEBUG - aneris.control.simulation - Checking mask status for input \"device.turbine_performance\".\n",
      "2016-10-04 13:23:15,171 - DEBUG - aneris.control.simulation - Retrieving data with identity \"device.system_type\".\n",
      "2016-10-04 13:23:15,173 - DEBUG - aneris.control.data - Retrieving \"device.system_type\" data stored with index DSHH1U from pool\n",
      "2016-10-04 13:23:15,174 - DEBUG - aneris.control.simulation - Checking mask status for input \"device.wave_data_directory\".\n",
      "2016-10-04 13:23:15,177 - DEBUG - aneris.control.simulation - Retrieving data with identity \"device.system_type\".\n",
      "2016-10-04 13:23:15,177 - DEBUG - aneris.control.data - Retrieving \"device.system_type\" data stored with index DSHH1U from pool\n",
      "2016-10-04 13:23:15,178 - DEBUG - aneris.control.simulation - Checking mask status for input \"farm.blockage_ratio\".\n",
      "2016-10-04 13:23:15,180 - DEBUG - aneris.control.simulation - Retrieving data with identity \"device.system_type\".\n",
      "2016-10-04 13:23:15,180 - DEBUG - aneris.control.data - Retrieving \"device.system_type\" data stored with index DSHH1U from pool\n",
      "2016-10-04 13:23:15,181 - DEBUG - aneris.control.simulation - Checking mask status for input \"farm.point_sea_surface_height\".\n",
      "2016-10-04 13:23:15,183 - DEBUG - aneris.control.simulation - Retrieving data with identity \"device.system_type\".\n",
      "2016-10-04 13:23:15,184 - DEBUG - aneris.control.data - Retrieving \"device.system_type\" data stored with index DSHH1U from pool\n",
      "2016-10-04 13:23:15,184 - DEBUG - aneris.control.simulation - Checking mask status for input \"farm.power_law_exponent\".\n",
      "2016-10-04 13:23:15,186 - DEBUG - aneris.control.simulation - Retrieving data with identity \"device.system_type\".\n",
      "2016-10-04 13:23:15,186 - DEBUG - aneris.control.data - Retrieving \"device.system_type\" data stored with index DSHH1U from pool\n",
      "2016-10-04 13:23:15,187 - DEBUG - aneris.control.simulation - Checking mask status for input \"farm.spectrum_name\".\n",
      "2016-10-04 13:23:15,187 - DEBUG - aneris.control.simulation - Retrieving data with identity \"device.system_type\".\n",
      "2016-10-04 13:23:15,188 - DEBUG - aneris.control.data - Retrieving \"device.system_type\" data stored with index DSHH1U from pool\n",
      "2016-10-04 13:23:15,190 - DEBUG - aneris.control.simulation - Checking mask status for input \"farm.spec_gamma\".\n",
      "2016-10-04 13:23:15,191 - DEBUG - aneris.control.simulation - Retrieving data with identity \"device.system_type\".\n",
      "2016-10-04 13:23:15,193 - DEBUG - aneris.control.data - Retrieving \"device.system_type\" data stored with index DSHH1U from pool\n",
      "2016-10-04 13:23:15,194 - DEBUG - aneris.control.simulation - Checking mask status for input \"farm.spec_spread\".\n",
      "2016-10-04 13:23:15,194 - DEBUG - aneris.control.simulation - Retrieving data with identity \"device.system_type\".\n",
      "2016-10-04 13:23:15,196 - DEBUG - aneris.control.data - Retrieving \"device.system_type\" data stored with index DSHH1U from pool\n",
      "2016-10-04 13:23:15,197 - DEBUG - aneris.control.simulation - Checking mask status for input \"farm.tidal_occurrence_nbins\".\n",
      "2016-10-04 13:23:15,197 - DEBUG - aneris.control.simulation - Retrieving data with identity \"device.system_type\".\n",
      "2016-10-04 13:23:15,198 - DEBUG - aneris.control.data - Retrieving \"device.system_type\" data stored with index DSHH1U from pool\n",
      "2016-10-04 13:23:15,200 - DEBUG - aneris.control.simulation - Checking mask status for input \"farm.tidal_occurrence_point\".\n",
      "2016-10-04 13:23:15,200 - DEBUG - aneris.control.simulation - Retrieving data with identity \"device.system_type\".\n",
      "2016-10-04 13:23:15,201 - DEBUG - aneris.control.data - Retrieving \"device.system_type\" data stored with index DSHH1U from pool\n",
      "2016-10-04 13:23:15,203 - DEBUG - aneris.control.simulation - Checking mask status for input \"farm.tidal_series\".\n",
      "2016-10-04 13:23:15,203 - DEBUG - aneris.control.simulation - Retrieving data with identity \"device.system_type\".\n",
      "2016-10-04 13:23:15,203 - DEBUG - aneris.control.data - Retrieving \"device.system_type\" data stored with index DSHH1U from pool\n",
      "2016-10-04 13:23:15,204 - DEBUG - aneris.control.simulation - Checking mask status for input \"farm.wave_series\".\n",
      "2016-10-04 13:23:15,206 - DEBUG - aneris.control.simulation - Retrieving data with identity \"device.system_type\".\n",
      "2016-10-04 13:23:15,207 - DEBUG - aneris.control.data - Retrieving \"device.system_type\" data stored with index DSHH1U from pool\n",
      "2016-10-04 13:23:15,207 - DEBUG - aneris.control.simulation - Checking mask status for input \"options.tidal_data_directory\".\n",
      "2016-10-04 13:23:15,210 - DEBUG - aneris.control.simulation - Retrieving data with identity \"device.system_type\".\n",
      "2016-10-04 13:23:15,210 - DEBUG - aneris.control.data - Retrieving \"device.system_type\" data stored with index DSHH1U from pool\n"
     ]
    }
   ],
   "source": [
    "module_name = 'Hydrodynamics'\n",
    "module_menu.activate(new_core, new_project, module_name)\n",
    "hydro_branch = pipe_tree.get_branch(new_core, new_project, 'Hydrodynamics')"
   ]
  },
  {
   "cell_type": "markdown",
   "metadata": {},
   "source": [
    "## Initiate the dataflow"
   ]
  },
  {
   "cell_type": "code",
   "execution_count": 50,
   "metadata": {
    "collapsed": false
   },
   "outputs": [
    {
     "name": "stdout",
     "output_type": "stream",
     "text": [
      "2016-10-04 13:23:15,217 - DEBUG - aneris.control.data - DataState created\n",
      "2016-10-04 13:23:15,219 - INFO - aneris.control.data - New \"hidden.dataflow_active\" data stored with index E19NTM\n",
      "2016-10-04 13:23:15,220 - INFO - aneris.control.simulation - Datastate stored\n",
      "2016-10-04 13:23:15,220 - DEBUG - aneris.control.simulation - Merging active DataStates.\n",
      "2016-10-04 13:23:15,221 - DEBUG - aneris.control.simulation - Getting output status for interface \"System Type Selection\".\n",
      "2016-10-04 13:23:15,223 - DEBUG - aneris.control.simulation - Getting output status for interface \"Hydrodynamics\".\n",
      "2016-10-04 13:23:15,224 - DEBUG - aneris.control.simulation - Getting input status for interface \"System Type Selection\".\n",
      "2016-10-04 13:23:15,226 - DEBUG - aneris.control.simulation - Getting input status for interface \"Hydrodynamics\".\n",
      "2016-10-04 13:23:15,227 - DEBUG - aneris.control.simulation - Checking mask status for input \"device.bidirection\".\n",
      "2016-10-04 13:23:15,229 - DEBUG - aneris.control.simulation - Retrieving data with identity \"device.system_type\".\n",
      "2016-10-04 13:23:15,230 - DEBUG - aneris.control.data - Retrieving \"device.system_type\" data stored with index DSHH1U from pool\n",
      "2016-10-04 13:23:15,230 - DEBUG - aneris.control.simulation - Checking mask status for input \"device.cut_in_velocity\".\n",
      "2016-10-04 13:23:15,232 - DEBUG - aneris.control.simulation - Retrieving data with identity \"device.system_type\".\n",
      "2016-10-04 13:23:15,233 - DEBUG - aneris.control.data - Retrieving \"device.system_type\" data stored with index DSHH1U from pool\n",
      "2016-10-04 13:23:15,234 - DEBUG - aneris.control.simulation - Checking mask status for input \"device.cut_out_velocity\".\n",
      "2016-10-04 13:23:15,236 - DEBUG - aneris.control.simulation - Retrieving data with identity \"device.system_type\".\n",
      "2016-10-04 13:23:15,236 - DEBUG - aneris.control.data - Retrieving \"device.system_type\" data stored with index DSHH1U from pool\n",
      "2016-10-04 13:23:15,239 - DEBUG - aneris.control.simulation - Checking mask status for input \"device.turbine_diameter\".\n",
      "2016-10-04 13:23:15,240 - DEBUG - aneris.control.simulation - Retrieving data with identity \"device.system_type\".\n",
      "2016-10-04 13:23:15,240 - DEBUG - aneris.control.data - Retrieving \"device.system_type\" data stored with index DSHH1U from pool\n",
      "2016-10-04 13:23:15,242 - DEBUG - aneris.control.simulation - Checking mask status for input \"device.turbine_interdistance\".\n",
      "2016-10-04 13:23:15,243 - DEBUG - aneris.control.simulation - Retrieving data with identity \"device.system_type\".\n",
      "2016-10-04 13:23:15,243 - DEBUG - aneris.control.data - Retrieving \"device.system_type\" data stored with index DSHH1U from pool\n",
      "2016-10-04 13:23:15,244 - DEBUG - aneris.control.simulation - Checking mask status for input \"device.turbine_performance\".\n",
      "2016-10-04 13:23:15,246 - DEBUG - aneris.control.simulation - Retrieving data with identity \"device.system_type\".\n",
      "2016-10-04 13:23:15,246 - DEBUG - aneris.control.data - Retrieving \"device.system_type\" data stored with index DSHH1U from pool\n",
      "2016-10-04 13:23:15,246 - DEBUG - aneris.control.simulation - Checking mask status for input \"device.wave_data_directory\".\n",
      "2016-10-04 13:23:15,247 - DEBUG - aneris.control.simulation - Retrieving data with identity \"device.system_type\".\n",
      "2016-10-04 13:23:15,249 - DEBUG - aneris.control.data - Retrieving \"device.system_type\" data stored with index DSHH1U from pool\n",
      "2016-10-04 13:23:15,250 - DEBUG - aneris.control.simulation - Checking mask status for input \"farm.blockage_ratio\".\n",
      "2016-10-04 13:23:15,252 - DEBUG - aneris.control.simulation - Retrieving data with identity \"device.system_type\".\n",
      "2016-10-04 13:23:15,253 - DEBUG - aneris.control.data - Retrieving \"device.system_type\" data stored with index DSHH1U from pool\n",
      "2016-10-04 13:23:15,255 - DEBUG - aneris.control.simulation - Checking mask status for input \"farm.point_sea_surface_height\".\n",
      "2016-10-04 13:23:15,256 - DEBUG - aneris.control.simulation - Retrieving data with identity \"device.system_type\".\n",
      "2016-10-04 13:23:15,256 - DEBUG - aneris.control.data - Retrieving \"device.system_type\" data stored with index DSHH1U from pool\n",
      "2016-10-04 13:23:15,259 - DEBUG - aneris.control.simulation - Checking mask status for input \"farm.power_law_exponent\".\n",
      "2016-10-04 13:23:15,260 - DEBUG - aneris.control.simulation - Retrieving data with identity \"device.system_type\".\n",
      "2016-10-04 13:23:15,262 - DEBUG - aneris.control.data - Retrieving \"device.system_type\" data stored with index DSHH1U from pool\n",
      "2016-10-04 13:23:15,263 - DEBUG - aneris.control.simulation - Checking mask status for input \"farm.spectrum_name\".\n",
      "2016-10-04 13:23:15,263 - DEBUG - aneris.control.simulation - Retrieving data with identity \"device.system_type\".\n",
      "2016-10-04 13:23:15,265 - DEBUG - aneris.control.data - Retrieving \"device.system_type\" data stored with index DSHH1U from pool\n",
      "2016-10-04 13:23:15,266 - DEBUG - aneris.control.simulation - Checking mask status for input \"farm.spec_gamma\".\n",
      "2016-10-04 13:23:15,266 - DEBUG - aneris.control.simulation - Retrieving data with identity \"device.system_type\".\n",
      "2016-10-04 13:23:15,267 - DEBUG - aneris.control.data - Retrieving \"device.system_type\" data stored with index DSHH1U from pool\n",
      "2016-10-04 13:23:15,269 - DEBUG - aneris.control.simulation - Checking mask status for input \"farm.spec_spread\".\n",
      "2016-10-04 13:23:15,269 - DEBUG - aneris.control.simulation - Retrieving data with identity \"device.system_type\".\n",
      "2016-10-04 13:23:15,269 - DEBUG - aneris.control.data - Retrieving \"device.system_type\" data stored with index DSHH1U from pool\n",
      "2016-10-04 13:23:15,272 - DEBUG - aneris.control.simulation - Checking mask status for input \"farm.tidal_occurrence_nbins\".\n",
      "2016-10-04 13:23:15,272 - DEBUG - aneris.control.simulation - Retrieving data with identity \"device.system_type\".\n",
      "2016-10-04 13:23:15,273 - DEBUG - aneris.control.data - Retrieving \"device.system_type\" data stored with index DSHH1U from pool\n",
      "2016-10-04 13:23:15,275 - DEBUG - aneris.control.simulation - Checking mask status for input \"farm.tidal_occurrence_point\".\n",
      "2016-10-04 13:23:15,276 - DEBUG - aneris.control.simulation - Retrieving data with identity \"device.system_type\".\n",
      "2016-10-04 13:23:15,276 - DEBUG - aneris.control.data - Retrieving \"device.system_type\" data stored with index DSHH1U from pool\n",
      "2016-10-04 13:23:15,278 - DEBUG - aneris.control.simulation - Checking mask status for input \"farm.tidal_series\".\n",
      "2016-10-04 13:23:15,279 - DEBUG - aneris.control.simulation - Retrieving data with identity \"device.system_type\".\n",
      "2016-10-04 13:23:15,279 - DEBUG - aneris.control.data - Retrieving \"device.system_type\" data stored with index DSHH1U from pool\n",
      "2016-10-04 13:23:15,280 - DEBUG - aneris.control.simulation - Checking mask status for input \"farm.wave_series\".\n",
      "2016-10-04 13:23:15,280 - DEBUG - aneris.control.simulation - Retrieving data with identity \"device.system_type\".\n",
      "2016-10-04 13:23:15,282 - DEBUG - aneris.control.data - Retrieving \"device.system_type\" data stored with index DSHH1U from pool\n",
      "2016-10-04 13:23:15,282 - DEBUG - aneris.control.simulation - Checking mask status for input \"options.tidal_data_directory\".\n",
      "2016-10-04 13:23:15,283 - DEBUG - aneris.control.simulation - Retrieving data with identity \"device.system_type\".\n",
      "2016-10-04 13:23:15,285 - DEBUG - aneris.control.data - Retrieving \"device.system_type\" data stored with index DSHH1U from pool\n",
      "2016-10-04 13:23:15,286 - DEBUG - aneris.control.data - DataState with level \"modules initial\" created\n",
      "2016-10-04 13:23:15,288 - INFO - aneris.control.simulation - Datastate with level \"modules initial\" stored\n",
      "2016-10-04 13:23:15,289 - DEBUG - aneris.control.simulation - Merging active DataStates.\n"
     ]
    }
   ],
   "source": [
    "project_menu.initiate_dataflow(new_core, new_project)"
   ]
  },
  {
   "cell_type": "markdown",
   "metadata": {},
   "source": [
    "## Move the system to the post-filter state and ready the system"
   ]
  },
  {
   "cell_type": "code",
   "execution_count": 51,
   "metadata": {
    "collapsed": false
   },
   "outputs": [
    {
     "name": "stdout",
     "output_type": "stream",
     "text": [
      "2016-10-04 13:23:15,295 - INFO - dtocean_core.core - Inspecting level modules initial\n",
      "2016-10-04 13:23:15,296 - DEBUG - dtocean_core.core - Setting inspection level to modules initial\n",
      "2016-10-04 13:23:15,296 - DEBUG - aneris.control.simulation - Getting output status for interface \"System Type Selection\".\n",
      "2016-10-04 13:23:15,298 - DEBUG - aneris.control.simulation - Getting output status for interface \"Hydrodynamics\".\n",
      "2016-10-04 13:23:15,299 - DEBUG - aneris.control.simulation - Getting input status for interface \"System Type Selection\".\n",
      "2016-10-04 13:23:15,301 - DEBUG - aneris.control.simulation - Getting input status for interface \"Hydrodynamics\".\n",
      "2016-10-04 13:23:15,303 - DEBUG - aneris.control.simulation - Checking mask status for input \"device.bidirection\".\n",
      "2016-10-04 13:23:15,305 - DEBUG - aneris.control.simulation - Retrieving data with identity \"device.system_type\".\n",
      "2016-10-04 13:23:15,305 - DEBUG - aneris.control.data - Retrieving \"device.system_type\" data stored with index DSHH1U from pool\n",
      "2016-10-04 13:23:15,306 - DEBUG - aneris.control.simulation - Checking mask status for input \"device.cut_in_velocity\".\n",
      "2016-10-04 13:23:15,308 - DEBUG - aneris.control.simulation - Retrieving data with identity \"device.system_type\".\n",
      "2016-10-04 13:23:15,309 - DEBUG - aneris.control.data - Retrieving \"device.system_type\" data stored with index DSHH1U from pool\n",
      "2016-10-04 13:23:15,311 - DEBUG - aneris.control.simulation - Checking mask status for input \"device.cut_out_velocity\".\n",
      "2016-10-04 13:23:15,312 - DEBUG - aneris.control.simulation - Retrieving data with identity \"device.system_type\".\n",
      "2016-10-04 13:23:15,312 - DEBUG - aneris.control.data - Retrieving \"device.system_type\" data stored with index DSHH1U from pool\n",
      "2016-10-04 13:23:15,313 - DEBUG - aneris.control.simulation - Checking mask status for input \"device.turbine_diameter\".\n",
      "2016-10-04 13:23:15,315 - DEBUG - aneris.control.simulation - Retrieving data with identity \"device.system_type\".\n",
      "2016-10-04 13:23:15,315 - DEBUG - aneris.control.data - Retrieving \"device.system_type\" data stored with index DSHH1U from pool\n",
      "2016-10-04 13:23:15,316 - DEBUG - aneris.control.simulation - Checking mask status for input \"device.turbine_interdistance\".\n",
      "2016-10-04 13:23:15,318 - DEBUG - aneris.control.simulation - Retrieving data with identity \"device.system_type\".\n",
      "2016-10-04 13:23:15,319 - DEBUG - aneris.control.data - Retrieving \"device.system_type\" data stored with index DSHH1U from pool\n",
      "2016-10-04 13:23:15,319 - DEBUG - aneris.control.simulation - Checking mask status for input \"device.turbine_performance\".\n",
      "2016-10-04 13:23:15,321 - DEBUG - aneris.control.simulation - Retrieving data with identity \"device.system_type\".\n",
      "2016-10-04 13:23:15,321 - DEBUG - aneris.control.data - Retrieving \"device.system_type\" data stored with index DSHH1U from pool\n",
      "2016-10-04 13:23:15,322 - DEBUG - aneris.control.simulation - Checking mask status for input \"device.wave_data_directory\".\n",
      "2016-10-04 13:23:15,322 - DEBUG - aneris.control.simulation - Retrieving data with identity \"device.system_type\".\n",
      "2016-10-04 13:23:15,323 - DEBUG - aneris.control.data - Retrieving \"device.system_type\" data stored with index DSHH1U from pool\n",
      "2016-10-04 13:23:15,325 - DEBUG - aneris.control.simulation - Checking mask status for input \"farm.blockage_ratio\".\n",
      "2016-10-04 13:23:15,325 - DEBUG - aneris.control.simulation - Retrieving data with identity \"device.system_type\".\n",
      "2016-10-04 13:23:15,326 - DEBUG - aneris.control.data - Retrieving \"device.system_type\" data stored with index DSHH1U from pool\n",
      "2016-10-04 13:23:15,328 - DEBUG - aneris.control.simulation - Checking mask status for input \"farm.point_sea_surface_height\".\n",
      "2016-10-04 13:23:15,328 - DEBUG - aneris.control.simulation - Retrieving data with identity \"device.system_type\".\n",
      "2016-10-04 13:23:15,329 - DEBUG - aneris.control.data - Retrieving \"device.system_type\" data stored with index DSHH1U from pool\n",
      "2016-10-04 13:23:15,331 - DEBUG - aneris.control.simulation - Checking mask status for input \"farm.power_law_exponent\".\n",
      "2016-10-04 13:23:15,332 - DEBUG - aneris.control.simulation - Retrieving data with identity \"device.system_type\".\n",
      "2016-10-04 13:23:15,332 - DEBUG - aneris.control.data - Retrieving \"device.system_type\" data stored with index DSHH1U from pool\n",
      "2016-10-04 13:23:15,334 - DEBUG - aneris.control.simulation - Checking mask status for input \"farm.spectrum_name\".\n",
      "2016-10-04 13:23:15,335 - DEBUG - aneris.control.simulation - Retrieving data with identity \"device.system_type\".\n",
      "2016-10-04 13:23:15,335 - DEBUG - aneris.control.data - Retrieving \"device.system_type\" data stored with index DSHH1U from pool\n",
      "2016-10-04 13:23:15,336 - DEBUG - aneris.control.simulation - Checking mask status for input \"farm.spec_gamma\".\n",
      "2016-10-04 13:23:15,338 - DEBUG - aneris.control.simulation - Retrieving data with identity \"device.system_type\".\n",
      "2016-10-04 13:23:15,338 - DEBUG - aneris.control.data - Retrieving \"device.system_type\" data stored with index DSHH1U from pool\n",
      "2016-10-04 13:23:15,339 - DEBUG - aneris.control.simulation - Checking mask status for input \"farm.spec_spread\".\n",
      "2016-10-04 13:23:15,341 - DEBUG - aneris.control.simulation - Retrieving data with identity \"device.system_type\".\n",
      "2016-10-04 13:23:15,342 - DEBUG - aneris.control.data - Retrieving \"device.system_type\" data stored with index DSHH1U from pool\n",
      "2016-10-04 13:23:15,342 - DEBUG - aneris.control.simulation - Checking mask status for input \"farm.tidal_occurrence_nbins\".\n",
      "2016-10-04 13:23:15,342 - DEBUG - aneris.control.simulation - Retrieving data with identity \"device.system_type\".\n",
      "2016-10-04 13:23:15,344 - DEBUG - aneris.control.data - Retrieving \"device.system_type\" data stored with index DSHH1U from pool\n",
      "2016-10-04 13:23:15,345 - DEBUG - aneris.control.simulation - Checking mask status for input \"farm.tidal_occurrence_point\".\n",
      "2016-10-04 13:23:15,345 - DEBUG - aneris.control.simulation - Retrieving data with identity \"device.system_type\".\n",
      "2016-10-04 13:23:15,346 - DEBUG - aneris.control.data - Retrieving \"device.system_type\" data stored with index DSHH1U from pool\n",
      "2016-10-04 13:23:15,348 - DEBUG - aneris.control.simulation - Checking mask status for input \"farm.tidal_series\".\n",
      "2016-10-04 13:23:15,348 - DEBUG - aneris.control.simulation - Retrieving data with identity \"device.system_type\".\n",
      "2016-10-04 13:23:15,349 - DEBUG - aneris.control.data - Retrieving \"device.system_type\" data stored with index DSHH1U from pool\n",
      "2016-10-04 13:23:15,349 - DEBUG - aneris.control.simulation - Checking mask status for input \"farm.wave_series\".\n",
      "2016-10-04 13:23:15,351 - DEBUG - aneris.control.simulation - Retrieving data with identity \"device.system_type\".\n",
      "2016-10-04 13:23:15,351 - DEBUG - aneris.control.data - Retrieving \"device.system_type\" data stored with index DSHH1U from pool\n",
      "2016-10-04 13:23:15,352 - DEBUG - aneris.control.simulation - Checking mask status for input \"options.tidal_data_directory\".\n",
      "2016-10-04 13:23:15,354 - DEBUG - aneris.control.simulation - Retrieving data with identity \"device.system_type\".\n",
      "2016-10-04 13:23:15,355 - DEBUG - aneris.control.data - Retrieving \"device.system_type\" data stored with index DSHH1U from pool\n",
      "2016-10-04 13:23:15,357 - INFO - dtocean_core.core - Inspecting level modules initial\n",
      "2016-10-04 13:23:15,358 - DEBUG - dtocean_core.core - Setting inspection level to modules initial\n",
      "2016-10-04 13:23:15,358 - INFO - dtocean_core.core - Resetting to level modules initial\n",
      "2016-10-04 13:23:15,359 - DEBUG - aneris.control.simulation - Merging active DataStates.\n",
      "2016-10-04 13:23:15,361 - DEBUG - dtocean_core.core - Setting execution level to modules initial\n",
      "2016-10-04 13:23:15,361 - DEBUG - aneris.control.simulation - Getting output status for interface \"System Type Selection\".\n",
      "2016-10-04 13:23:15,362 - DEBUG - aneris.control.simulation - Getting output status for interface \"Hydrodynamics\".\n",
      "2016-10-04 13:23:15,365 - DEBUG - aneris.control.simulation - Getting input status for interface \"System Type Selection\".\n",
      "2016-10-04 13:23:15,365 - DEBUG - aneris.control.simulation - Getting input status for interface \"Hydrodynamics\".\n",
      "2016-10-04 13:23:15,368 - DEBUG - aneris.control.simulation - Checking mask status for input \"device.bidirection\".\n",
      "2016-10-04 13:23:15,369 - DEBUG - aneris.control.simulation - Retrieving data with identity \"device.system_type\".\n",
      "2016-10-04 13:23:15,369 - DEBUG - aneris.control.data - Retrieving \"device.system_type\" data stored with index DSHH1U from pool\n",
      "2016-10-04 13:23:15,371 - DEBUG - aneris.control.simulation - Checking mask status for input \"device.cut_in_velocity\".\n",
      "2016-10-04 13:23:15,371 - DEBUG - aneris.control.simulation - Retrieving data with identity \"device.system_type\".\n",
      "2016-10-04 13:23:15,372 - DEBUG - aneris.control.data - Retrieving \"device.system_type\" data stored with index DSHH1U from pool\n",
      "2016-10-04 13:23:15,374 - DEBUG - aneris.control.simulation - Checking mask status for input \"device.cut_out_velocity\".\n",
      "2016-10-04 13:23:15,375 - DEBUG - aneris.control.simulation - Retrieving data with identity \"device.system_type\".\n",
      "2016-10-04 13:23:15,375 - DEBUG - aneris.control.data - Retrieving \"device.system_type\" data stored with index DSHH1U from pool\n",
      "2016-10-04 13:23:15,378 - DEBUG - aneris.control.simulation - Checking mask status for input \"device.turbine_diameter\".\n",
      "2016-10-04 13:23:15,378 - DEBUG - aneris.control.simulation - Retrieving data with identity \"device.system_type\".\n",
      "2016-10-04 13:23:15,380 - DEBUG - aneris.control.data - Retrieving \"device.system_type\" data stored with index DSHH1U from pool\n",
      "2016-10-04 13:23:15,381 - DEBUG - aneris.control.simulation - Checking mask status for input \"device.turbine_interdistance\".\n",
      "2016-10-04 13:23:15,381 - DEBUG - aneris.control.simulation - Retrieving data with identity \"device.system_type\".\n",
      "2016-10-04 13:23:15,381 - DEBUG - aneris.control.data - Retrieving \"device.system_type\" data stored with index DSHH1U from pool\n",
      "2016-10-04 13:23:15,382 - DEBUG - aneris.control.simulation - Checking mask status for input \"device.turbine_performance\".\n",
      "2016-10-04 13:23:15,384 - DEBUG - aneris.control.simulation - Retrieving data with identity \"device.system_type\".\n",
      "2016-10-04 13:23:15,385 - DEBUG - aneris.control.data - Retrieving \"device.system_type\" data stored with index DSHH1U from pool\n",
      "2016-10-04 13:23:15,387 - DEBUG - aneris.control.simulation - Checking mask status for input \"device.wave_data_directory\".\n",
      "2016-10-04 13:23:15,388 - DEBUG - aneris.control.simulation - Retrieving data with identity \"device.system_type\".\n",
      "2016-10-04 13:23:15,388 - DEBUG - aneris.control.data - Retrieving \"device.system_type\" data stored with index DSHH1U from pool\n",
      "2016-10-04 13:23:15,388 - DEBUG - aneris.control.simulation - Checking mask status for input \"farm.blockage_ratio\".\n",
      "2016-10-04 13:23:15,390 - DEBUG - aneris.control.simulation - Retrieving data with identity \"device.system_type\".\n",
      "2016-10-04 13:23:15,391 - DEBUG - aneris.control.data - Retrieving \"device.system_type\" data stored with index DSHH1U from pool\n",
      "2016-10-04 13:23:15,391 - DEBUG - aneris.control.simulation - Checking mask status for input \"farm.point_sea_surface_height\".\n",
      "2016-10-04 13:23:15,392 - DEBUG - aneris.control.simulation - Retrieving data with identity \"device.system_type\".\n",
      "2016-10-04 13:23:15,394 - DEBUG - aneris.control.data - Retrieving \"device.system_type\" data stored with index DSHH1U from pool\n",
      "2016-10-04 13:23:15,395 - DEBUG - aneris.control.simulation - Checking mask status for input \"farm.power_law_exponent\".\n",
      "2016-10-04 13:23:15,395 - DEBUG - aneris.control.simulation - Retrieving data with identity \"device.system_type\".\n",
      "2016-10-04 13:23:15,397 - DEBUG - aneris.control.data - Retrieving \"device.system_type\" data stored with index DSHH1U from pool\n",
      "2016-10-04 13:23:15,398 - DEBUG - aneris.control.simulation - Checking mask status for input \"farm.spectrum_name\".\n",
      "2016-10-04 13:23:15,398 - DEBUG - aneris.control.simulation - Retrieving data with identity \"device.system_type\".\n",
      "2016-10-04 13:23:15,400 - DEBUG - aneris.control.data - Retrieving \"device.system_type\" data stored with index DSHH1U from pool\n",
      "2016-10-04 13:23:15,401 - DEBUG - aneris.control.simulation - Checking mask status for input \"farm.spec_gamma\".\n",
      "2016-10-04 13:23:15,401 - DEBUG - aneris.control.simulation - Retrieving data with identity \"device.system_type\".\n",
      "2016-10-04 13:23:15,403 - DEBUG - aneris.control.data - Retrieving \"device.system_type\" data stored with index DSHH1U from pool\n",
      "2016-10-04 13:23:15,404 - DEBUG - aneris.control.simulation - Checking mask status for input \"farm.spec_spread\".\n",
      "2016-10-04 13:23:15,404 - DEBUG - aneris.control.simulation - Retrieving data with identity \"device.system_type\".\n",
      "2016-10-04 13:23:15,405 - DEBUG - aneris.control.data - Retrieving \"device.system_type\" data stored with index DSHH1U from pool\n",
      "2016-10-04 13:23:15,407 - DEBUG - aneris.control.simulation - Checking mask status for input \"farm.tidal_occurrence_nbins\".\n",
      "2016-10-04 13:23:15,408 - DEBUG - aneris.control.simulation - Retrieving data with identity \"device.system_type\".\n",
      "2016-10-04 13:23:15,410 - DEBUG - aneris.control.data - Retrieving \"device.system_type\" data stored with index DSHH1U from pool\n",
      "2016-10-04 13:23:15,411 - DEBUG - aneris.control.simulation - Checking mask status for input \"farm.tidal_occurrence_point\".\n",
      "2016-10-04 13:23:15,411 - DEBUG - aneris.control.simulation - Retrieving data with identity \"device.system_type\".\n",
      "2016-10-04 13:23:15,413 - DEBUG - aneris.control.data - Retrieving \"device.system_type\" data stored with index DSHH1U from pool\n",
      "2016-10-04 13:23:15,414 - DEBUG - aneris.control.simulation - Checking mask status for input \"farm.tidal_series\".\n",
      "2016-10-04 13:23:15,414 - DEBUG - aneris.control.simulation - Retrieving data with identity \"device.system_type\".\n",
      "2016-10-04 13:23:15,415 - DEBUG - aneris.control.data - Retrieving \"device.system_type\" data stored with index DSHH1U from pool\n",
      "2016-10-04 13:23:15,417 - DEBUG - aneris.control.simulation - Checking mask status for input \"farm.wave_series\".\n",
      "2016-10-04 13:23:15,417 - DEBUG - aneris.control.simulation - Retrieving data with identity \"device.system_type\".\n",
      "2016-10-04 13:23:15,418 - DEBUG - aneris.control.data - Retrieving \"device.system_type\" data stored with index DSHH1U from pool\n",
      "2016-10-04 13:23:15,420 - DEBUG - aneris.control.simulation - Checking mask status for input \"options.tidal_data_directory\".\n",
      "2016-10-04 13:23:15,421 - DEBUG - aneris.control.simulation - Retrieving data with identity \"device.system_type\".\n",
      "2016-10-04 13:23:15,421 - DEBUG - aneris.control.data - Retrieving \"device.system_type\" data stored with index DSHH1U from pool\n"
     ]
    }
   ],
   "source": [
    "new_core.inspect_level(new_project, \"modules initial\")\n",
    "new_core.reset_level(new_project, preserve_level=True)"
   ]
  },
  {
   "cell_type": "markdown",
   "metadata": {},
   "source": [
    "## Check the status of the inputs\n",
    "\n",
    "* satisfied - data is in the data state\n",
    "* required - data is not in the data state\n",
    "* unavailable - data will come from another source"
   ]
  },
  {
   "cell_type": "code",
   "execution_count": 52,
   "metadata": {
    "collapsed": false
   },
   "outputs": [
    {
     "data": {
      "text/html": [
       "<ul><li>device.cut_in_velocity: <b>required</b></li><li>device.bidirection: <b>required</b></li><li>farm.tidal_series: <b>required</b></li><li>device.installation_depth_max: <b>required</b></li><li>options.user_array_option: <b>required</b></li><li>device.coordinate_system: <b>required</b></li><li>device.turbine_diameter: <b>required</b></li><li>options.power_bin_width: <b>optional</b></li><li>device.minimum_distance_x: <b>required</b></li><li>device.minimum_distance_y: <b>required</b></li><li>options.boundary_padding: <b>optional</b></li><li>device.installation_depth_min: <b>required</b></li><li>options.user_array_layout: <b>optional</b></li><li>farm.tidal_occurrence_nbins: <b>required</b></li><li>site.lease_boundary: <b>required</b></li><li>options.optimisation_threshold: <b>required</b></li><li>device.turbine_performance: <b>required</b></li><li>device.power_rating: <b>required</b></li><li>farm.nogo_areas: <b>optional</b></li><li>device.turbine_interdistance: <b>optional</b></li><li>farm.power_law_exponent: <b>required</b></li><li>farm.tidal_occurrence_point: <b>required</b></li><li>device.yaw: <b>required</b></li><li>device.system_type: <b>satisfied</b></li><li>farm.mannings: <b>required</b></li><li>options.tidal_data_directory: <b>optional</b></li><li>corridor.landing_point: <b>required</b></li><li>farm.blockage_ratio: <b>required</b></li><li>farm.main_direction: <b>optional</b></li><li>bathymetry.layers: <b>required</b></li><li>farm.rated_power: <b>required</b></li><li>device.cut_out_velocity: <b>required</b></li></ul>"
      ],
      "text/plain": [
       "<IPython.core.display.HTML object>"
      ]
     },
     "execution_count": 52,
     "metadata": {},
     "output_type": "execute_result"
    }
   ],
   "source": [
    "input_status = hydro_branch.get_input_status(new_core, new_project)\n",
    "message = html_dict(input_status)\n",
    "HTML(message)"
   ]
  },
  {
   "cell_type": "markdown",
   "metadata": {},
   "source": [
    "## Read TableData Structure (device.turbine_performance)\n",
    "\n",
    "Load a TableData Structure from a file. Note, device.turbine_performance is a LineTable structure, but it is a subclass of TableData so will utilise the same AutoFileInput / AutoFileOutput methods.\n",
    "\n",
    "Only csv files are supported at the moment."
   ]
  },
  {
   "cell_type": "code",
   "execution_count": 53,
   "metadata": {
    "collapsed": false
   },
   "outputs": [],
   "source": [
    "new_var_id = \"device.turbine_performance\"\n",
    "new_var = hydro_branch.get_input_variable(new_core, new_project, new_var_id)"
   ]
  },
  {
   "cell_type": "code",
   "execution_count": 54,
   "metadata": {
    "collapsed": false
   },
   "outputs": [
    {
     "data": {
      "text/plain": [
       "{'device.turbine_performance AutoFileInput Interface': ['.csv',\n",
       "  '.xls',\n",
       "  '.xlsx']}"
      ]
     },
     "execution_count": 54,
     "metadata": {},
     "output_type": "execute_result"
    }
   ],
   "source": [
    "new_var.get_file_input_interfaces(new_core, include_auto=True)"
   ]
  },
  {
   "cell_type": "code",
   "execution_count": 55,
   "metadata": {
    "collapsed": false
   },
   "outputs": [
    {
     "name": "stdout",
     "output_type": "stream",
     "text": [
      "2016-10-04 13:23:15,471 - DEBUG - dtocean_core.pipeline - Reading variables device.turbine_performance\n",
      "2016-10-04 13:23:15,477 - DEBUG - aneris.control.data - DataState created\n",
      "2016-10-04 13:23:15,480 - INFO - aneris.control.data - New \"device.turbine_performance\" data stored with index WN398G\n",
      "2016-10-04 13:23:15,482 - INFO - aneris.control.simulation - Datastate stored\n",
      "2016-10-04 13:23:15,483 - DEBUG - aneris.control.simulation - Merging active DataStates.\n",
      "2016-10-04 13:23:15,484 - DEBUG - aneris.control.simulation - Getting output status for interface \"System Type Selection\".\n",
      "2016-10-04 13:23:15,486 - DEBUG - aneris.control.simulation - Getting output status for interface \"Hydrodynamics\".\n",
      "2016-10-04 13:23:15,487 - DEBUG - aneris.control.simulation - Getting input status for interface \"System Type Selection\".\n",
      "2016-10-04 13:23:15,489 - DEBUG - aneris.control.simulation - Getting input status for interface \"Hydrodynamics\".\n",
      "2016-10-04 13:23:15,492 - DEBUG - aneris.control.simulation - Checking mask status for input \"device.bidirection\".\n",
      "2016-10-04 13:23:15,493 - DEBUG - aneris.control.simulation - Retrieving data with identity \"device.system_type\".\n",
      "2016-10-04 13:23:15,493 - DEBUG - aneris.control.data - Retrieving \"device.system_type\" data stored with index DSHH1U from pool\n",
      "2016-10-04 13:23:15,494 - DEBUG - aneris.control.simulation - Checking mask status for input \"device.cut_in_velocity\".\n",
      "2016-10-04 13:23:15,496 - DEBUG - aneris.control.simulation - Retrieving data with identity \"device.system_type\".\n",
      "2016-10-04 13:23:15,496 - DEBUG - aneris.control.data - Retrieving \"device.system_type\" data stored with index DSHH1U from pool\n",
      "2016-10-04 13:23:15,497 - DEBUG - aneris.control.simulation - Checking mask status for input \"device.cut_out_velocity\".\n",
      "2016-10-04 13:23:15,499 - DEBUG - aneris.control.simulation - Retrieving data with identity \"device.system_type\".\n",
      "2016-10-04 13:23:15,500 - DEBUG - aneris.control.data - Retrieving \"device.system_type\" data stored with index DSHH1U from pool\n",
      "2016-10-04 13:23:15,500 - DEBUG - aneris.control.simulation - Checking mask status for input \"device.turbine_diameter\".\n",
      "2016-10-04 13:23:15,502 - DEBUG - aneris.control.simulation - Retrieving data with identity \"device.system_type\".\n",
      "2016-10-04 13:23:15,503 - DEBUG - aneris.control.data - Retrieving \"device.system_type\" data stored with index DSHH1U from pool\n",
      "2016-10-04 13:23:15,503 - DEBUG - aneris.control.simulation - Checking mask status for input \"device.turbine_interdistance\".\n",
      "2016-10-04 13:23:15,505 - DEBUG - aneris.control.simulation - Retrieving data with identity \"device.system_type\".\n",
      "2016-10-04 13:23:15,506 - DEBUG - aneris.control.data - Retrieving \"device.system_type\" data stored with index DSHH1U from pool\n",
      "2016-10-04 13:23:15,506 - DEBUG - aneris.control.simulation - Checking mask status for input \"device.turbine_performance\".\n",
      "2016-10-04 13:23:15,507 - DEBUG - aneris.control.simulation - Retrieving data with identity \"device.system_type\".\n",
      "2016-10-04 13:23:15,509 - DEBUG - aneris.control.data - Retrieving \"device.system_type\" data stored with index DSHH1U from pool\n",
      "2016-10-04 13:23:15,509 - DEBUG - aneris.control.simulation - Checking mask status for input \"device.wave_data_directory\".\n",
      "2016-10-04 13:23:15,510 - DEBUG - aneris.control.simulation - Retrieving data with identity \"device.system_type\".\n",
      "2016-10-04 13:23:15,512 - DEBUG - aneris.control.data - Retrieving \"device.system_type\" data stored with index DSHH1U from pool\n",
      "2016-10-04 13:23:15,513 - DEBUG - aneris.control.simulation - Checking mask status for input \"farm.blockage_ratio\".\n",
      "2016-10-04 13:23:15,513 - DEBUG - aneris.control.simulation - Retrieving data with identity \"device.system_type\".\n",
      "2016-10-04 13:23:15,515 - DEBUG - aneris.control.data - Retrieving \"device.system_type\" data stored with index DSHH1U from pool\n",
      "2016-10-04 13:23:15,516 - DEBUG - aneris.control.simulation - Checking mask status for input \"farm.point_sea_surface_height\".\n",
      "2016-10-04 13:23:15,516 - DEBUG - aneris.control.simulation - Retrieving data with identity \"device.system_type\".\n",
      "2016-10-04 13:23:15,517 - DEBUG - aneris.control.data - Retrieving \"device.system_type\" data stored with index DSHH1U from pool\n",
      "2016-10-04 13:23:15,519 - DEBUG - aneris.control.simulation - Checking mask status for input \"farm.power_law_exponent\".\n",
      "2016-10-04 13:23:15,519 - DEBUG - aneris.control.simulation - Retrieving data with identity \"device.system_type\".\n",
      "2016-10-04 13:23:15,520 - DEBUG - aneris.control.data - Retrieving \"device.system_type\" data stored with index DSHH1U from pool\n",
      "2016-10-04 13:23:15,522 - DEBUG - aneris.control.simulation - Checking mask status for input \"farm.spectrum_name\".\n",
      "2016-10-04 13:23:15,523 - DEBUG - aneris.control.simulation - Retrieving data with identity \"device.system_type\".\n",
      "2016-10-04 13:23:15,523 - DEBUG - aneris.control.data - Retrieving \"device.system_type\" data stored with index DSHH1U from pool\n",
      "2016-10-04 13:23:15,525 - DEBUG - aneris.control.simulation - Checking mask status for input \"farm.spec_gamma\".\n",
      "2016-10-04 13:23:15,526 - DEBUG - aneris.control.simulation - Retrieving data with identity \"device.system_type\".\n",
      "2016-10-04 13:23:15,526 - DEBUG - aneris.control.data - Retrieving \"device.system_type\" data stored with index DSHH1U from pool\n",
      "2016-10-04 13:23:15,528 - DEBUG - aneris.control.simulation - Checking mask status for input \"farm.spec_spread\".\n",
      "2016-10-04 13:23:15,529 - DEBUG - aneris.control.simulation - Retrieving data with identity \"device.system_type\".\n",
      "2016-10-04 13:23:15,529 - DEBUG - aneris.control.data - Retrieving \"device.system_type\" data stored with index DSHH1U from pool\n",
      "2016-10-04 13:23:15,530 - DEBUG - aneris.control.simulation - Checking mask status for input \"farm.tidal_occurrence_nbins\".\n",
      "2016-10-04 13:23:15,532 - DEBUG - aneris.control.simulation - Retrieving data with identity \"device.system_type\".\n",
      "2016-10-04 13:23:15,532 - DEBUG - aneris.control.data - Retrieving \"device.system_type\" data stored with index DSHH1U from pool\n",
      "2016-10-04 13:23:15,533 - DEBUG - aneris.control.simulation - Checking mask status for input \"farm.tidal_occurrence_point\".\n",
      "2016-10-04 13:23:15,536 - DEBUG - aneris.control.simulation - Retrieving data with identity \"device.system_type\".\n",
      "2016-10-04 13:23:15,536 - DEBUG - aneris.control.data - Retrieving \"device.system_type\" data stored with index DSHH1U from pool\n",
      "2016-10-04 13:23:15,538 - DEBUG - aneris.control.simulation - Checking mask status for input \"farm.tidal_series\".\n",
      "2016-10-04 13:23:15,539 - DEBUG - aneris.control.simulation - Retrieving data with identity \"device.system_type\".\n",
      "2016-10-04 13:23:15,540 - DEBUG - aneris.control.data - Retrieving \"device.system_type\" data stored with index DSHH1U from pool\n",
      "2016-10-04 13:23:15,542 - DEBUG - aneris.control.simulation - Checking mask status for input \"farm.wave_series\".\n",
      "2016-10-04 13:23:15,542 - DEBUG - aneris.control.simulation - Retrieving data with identity \"device.system_type\".\n",
      "2016-10-04 13:23:15,543 - DEBUG - aneris.control.data - Retrieving \"device.system_type\" data stored with index DSHH1U from pool\n",
      "2016-10-04 13:23:15,546 - DEBUG - aneris.control.simulation - Checking mask status for input \"options.tidal_data_directory\".\n",
      "2016-10-04 13:23:15,546 - DEBUG - aneris.control.simulation - Retrieving data with identity \"device.system_type\".\n",
      "2016-10-04 13:23:15,549 - DEBUG - aneris.control.data - Retrieving \"device.system_type\" data stored with index DSHH1U from pool\n"
     ]
    }
   ],
   "source": [
    "new_var.read_file(new_core,\n",
    "                  new_project,\n",
    "                  \"tidal_performance.csv\")"
   ]
  },
  {
   "cell_type": "markdown",
   "metadata": {},
   "source": [
    "## Recheck the status"
   ]
  },
  {
   "cell_type": "code",
   "execution_count": 56,
   "metadata": {
    "collapsed": false
   },
   "outputs": [
    {
     "data": {
      "text/html": [
       "<ul><li>device.turbine_performance: <b>satisfied</b></li></ul>"
      ],
      "text/plain": [
       "<IPython.core.display.HTML object>"
      ]
     },
     "execution_count": 56,
     "metadata": {},
     "output_type": "execute_result"
    }
   ],
   "source": [
    "input_status = hydro_branch.get_input_status(new_core, new_project)\n",
    "var_status = {new_var_id: input_status[new_var_id]}\n",
    "message = html_dict(var_status)\n",
    "HTML(message)"
   ]
  },
  {
   "cell_type": "markdown",
   "metadata": {},
   "source": [
    "## Examine the Data"
   ]
  },
  {
   "cell_type": "code",
   "execution_count": 57,
   "metadata": {
    "collapsed": false
   },
   "outputs": [
    {
     "name": "stdout",
     "output_type": "stream",
     "text": [
      "2016-10-04 13:23:15,576 - DEBUG - aneris.control.simulation - Retrieving data with identity \"device.turbine_performance\".\n",
      "2016-10-04 13:23:15,578 - DEBUG - aneris.control.data - Retrieving \"device.turbine_performance\" data stored with index WN398G from pool\n"
     ]
    },
    {
     "data": {
      "text/html": [
       "<div>\n",
       "<table border=\"1\" class=\"dataframe\">\n",
       "  <thead>\n",
       "    <tr style=\"text-align: right;\">\n",
       "      <th></th>\n",
       "      <th>Coefficient of Power</th>\n",
       "      <th>Coefficient of Thrust</th>\n",
       "    </tr>\n",
       "    <tr>\n",
       "      <th>Velocity</th>\n",
       "      <th></th>\n",
       "      <th></th>\n",
       "    </tr>\n",
       "  </thead>\n",
       "  <tbody>\n",
       "    <tr>\n",
       "      <th>0</th>\n",
       "      <td>0.0</td>\n",
       "      <td>0.0</td>\n",
       "    </tr>\n",
       "    <tr>\n",
       "      <th>1</th>\n",
       "      <td>0.2</td>\n",
       "      <td>0.1</td>\n",
       "    </tr>\n",
       "    <tr>\n",
       "      <th>2</th>\n",
       "      <td>0.4</td>\n",
       "      <td>0.2</td>\n",
       "    </tr>\n",
       "    <tr>\n",
       "      <th>3</th>\n",
       "      <td>0.6</td>\n",
       "      <td>0.4</td>\n",
       "    </tr>\n",
       "    <tr>\n",
       "      <th>4</th>\n",
       "      <td>0.8</td>\n",
       "      <td>0.8</td>\n",
       "    </tr>\n",
       "    <tr>\n",
       "      <th>5</th>\n",
       "      <td>1.0</td>\n",
       "      <td>1.6</td>\n",
       "    </tr>\n",
       "  </tbody>\n",
       "</table>\n",
       "</div>"
      ],
      "text/plain": [
       "          Coefficient of Power  Coefficient of Thrust\n",
       "Velocity                                             \n",
       "0                          0.0                    0.0\n",
       "1                          0.2                    0.1\n",
       "2                          0.4                    0.2\n",
       "3                          0.6                    0.4\n",
       "4                          0.8                    0.8\n",
       "5                          1.0                    1.6"
      ]
     },
     "execution_count": 57,
     "metadata": {},
     "output_type": "execute_result"
    }
   ],
   "source": [
    "new_var.get_value(new_core, new_project)"
   ]
  },
  {
   "cell_type": "markdown",
   "metadata": {},
   "source": [
    "## Write TableData Structure (device.turbine_performance)\n",
    "\n",
    "We can also do the reverse process of writing the data to a file. Again, only CSV file are supported."
   ]
  },
  {
   "cell_type": "code",
   "execution_count": 58,
   "metadata": {
    "collapsed": false
   },
   "outputs": [
    {
     "name": "stdout",
     "output_type": "stream",
     "text": [
      "2016-10-04 13:23:15,596 - DEBUG - aneris.control.simulation - Retrieving data with identity \"device.turbine_performance\".\n",
      "2016-10-04 13:23:15,598 - DEBUG - aneris.control.data - Retrieving \"device.turbine_performance\" data stored with index WN398G from pool\n"
     ]
    }
   ],
   "source": [
    "new_var.write_file(new_core,\n",
    "                   new_project,\n",
    "                   \"tidal_performance_copy.csv\")"
   ]
  },
  {
   "cell_type": "markdown",
   "metadata": {},
   "source": [
    "## TimeTable\n",
    "\n",
    "Fake an AutoFileInput interface for this. First build the necessary metadata (see tests/test_structures.py)"
   ]
  },
  {
   "cell_type": "code",
   "execution_count": 59,
   "metadata": {
    "collapsed": false
   },
   "outputs": [],
   "source": [
    "meta = CoreMetaData({\"identifier\": \"test\",\n",
    "                     \"structure\": \"test\",\n",
    "                     \"title\": \"test\",\n",
    "                     \"labels\": [\"a\", \"b\"],\n",
    "                     \"units\": [\"kg\", None]})"
   ]
  },
  {
   "cell_type": "markdown",
   "metadata": {},
   "source": [
    "Create the Structure object and get the processed data format"
   ]
  },
  {
   "cell_type": "code",
   "execution_count": 60,
   "metadata": {
    "collapsed": true
   },
   "outputs": [],
   "source": [
    "data_obj = new_core.control.get_structure(\"TimeTable\")"
   ]
  },
  {
   "cell_type": "markdown",
   "metadata": {},
   "source": [
    "Build the fake AutoFileInput interface"
   ]
  },
  {
   "cell_type": "code",
   "execution_count": 61,
   "metadata": {
    "collapsed": false
   },
   "outputs": [],
   "source": [
    "interface_factory = InterfaceFactory(AutoFileInput)\n",
    "AutoCls = interface_factory(meta, data_obj)\n",
    "test = AutoCls()"
   ]
  },
  {
   "cell_type": "markdown",
   "metadata": {},
   "source": [
    "Add the file path to the interface's .\\_path attribute and then call the AutoFileInput connect method"
   ]
  },
  {
   "cell_type": "code",
   "execution_count": 62,
   "metadata": {
    "collapsed": true
   },
   "outputs": [],
   "source": [
    "test._path = \"date_test.csv\""
   ]
  },
  {
   "cell_type": "code",
   "execution_count": 63,
   "metadata": {
    "collapsed": false
   },
   "outputs": [],
   "source": [
    "test.connect()"
   ]
  },
  {
   "cell_type": "markdown",
   "metadata": {},
   "source": [
    "Examine the data in the interface"
   ]
  },
  {
   "cell_type": "code",
   "execution_count": 64,
   "metadata": {
    "collapsed": false
   },
   "outputs": [
    {
     "data": {
      "text/html": [
       "<div>\n",
       "<table border=\"1\" class=\"dataframe\">\n",
       "  <thead>\n",
       "    <tr style=\"text-align: right;\">\n",
       "      <th></th>\n",
       "      <th>DateTime</th>\n",
       "      <th>a</th>\n",
       "      <th>b</th>\n",
       "    </tr>\n",
       "  </thead>\n",
       "  <tbody>\n",
       "    <tr>\n",
       "      <th>0</th>\n",
       "      <td>0</td>\n",
       "      <td>0.0</td>\n",
       "      <td>0.0</td>\n",
       "    </tr>\n",
       "    <tr>\n",
       "      <th>1</th>\n",
       "      <td>1</td>\n",
       "      <td>0.2</td>\n",
       "      <td>0.1</td>\n",
       "    </tr>\n",
       "    <tr>\n",
       "      <th>2</th>\n",
       "      <td>2</td>\n",
       "      <td>0.4</td>\n",
       "      <td>0.2</td>\n",
       "    </tr>\n",
       "    <tr>\n",
       "      <th>3</th>\n",
       "      <td>3</td>\n",
       "      <td>0.6</td>\n",
       "      <td>0.4</td>\n",
       "    </tr>\n",
       "    <tr>\n",
       "      <th>4</th>\n",
       "      <td>4</td>\n",
       "      <td>0.8</td>\n",
       "      <td>0.8</td>\n",
       "    </tr>\n",
       "    <tr>\n",
       "      <th>5</th>\n",
       "      <td>5</td>\n",
       "      <td>1.0</td>\n",
       "      <td>1.6</td>\n",
       "    </tr>\n",
       "  </tbody>\n",
       "</table>\n",
       "</div>"
      ],
      "text/plain": [
       "   DateTime    a    b\n",
       "0         0  0.0  0.0\n",
       "1         1  0.2  0.1\n",
       "2         2  0.4  0.2\n",
       "3         3  0.6  0.4\n",
       "4         4  0.8  0.8\n",
       "5         5  1.0  1.6"
      ]
     },
     "execution_count": 64,
     "metadata": {},
     "output_type": "execute_result"
    }
   ],
   "source": [
    "test.data.result"
   ]
  },
  {
   "cell_type": "markdown",
   "metadata": {},
   "source": [
    "Try to load the result into the Structure"
   ]
  },
  {
   "cell_type": "code",
   "execution_count": 65,
   "metadata": {
    "collapsed": false
   },
   "outputs": [
    {
     "data": {
      "text/html": [
       "<div>\n",
       "<table border=\"1\" class=\"dataframe\">\n",
       "  <thead>\n",
       "    <tr style=\"text-align: right;\">\n",
       "      <th></th>\n",
       "      <th>a</th>\n",
       "      <th>b</th>\n",
       "    </tr>\n",
       "    <tr>\n",
       "      <th>DateTime</th>\n",
       "      <th></th>\n",
       "      <th></th>\n",
       "    </tr>\n",
       "  </thead>\n",
       "  <tbody>\n",
       "    <tr>\n",
       "      <th>1970-01-01 00:00:00.000000000</th>\n",
       "      <td>0.0</td>\n",
       "      <td>0.0</td>\n",
       "    </tr>\n",
       "    <tr>\n",
       "      <th>1970-01-01 00:00:00.000000001</th>\n",
       "      <td>0.2</td>\n",
       "      <td>0.1</td>\n",
       "    </tr>\n",
       "    <tr>\n",
       "      <th>1970-01-01 00:00:00.000000002</th>\n",
       "      <td>0.4</td>\n",
       "      <td>0.2</td>\n",
       "    </tr>\n",
       "    <tr>\n",
       "      <th>1970-01-01 00:00:00.000000003</th>\n",
       "      <td>0.6</td>\n",
       "      <td>0.4</td>\n",
       "    </tr>\n",
       "    <tr>\n",
       "      <th>1970-01-01 00:00:00.000000004</th>\n",
       "      <td>0.8</td>\n",
       "      <td>0.8</td>\n",
       "    </tr>\n",
       "    <tr>\n",
       "      <th>1970-01-01 00:00:00.000000005</th>\n",
       "      <td>1.0</td>\n",
       "      <td>1.6</td>\n",
       "    </tr>\n",
       "  </tbody>\n",
       "</table>\n",
       "</div>"
      ],
      "text/plain": [
       "                                 a    b\n",
       "DateTime                               \n",
       "1970-01-01 00:00:00.000000000  0.0  0.0\n",
       "1970-01-01 00:00:00.000000001  0.2  0.1\n",
       "1970-01-01 00:00:00.000000002  0.4  0.2\n",
       "1970-01-01 00:00:00.000000003  0.6  0.4\n",
       "1970-01-01 00:00:00.000000004  0.8  0.8\n",
       "1970-01-01 00:00:00.000000005  1.0  1.6"
      ]
     },
     "execution_count": 65,
     "metadata": {},
     "output_type": "execute_result"
    }
   ],
   "source": [
    "data_value = data_obj.get_data(test.data.result, meta)\n",
    "data_value"
   ]
  },
  {
   "cell_type": "markdown",
   "metadata": {},
   "source": [
    "Build the fake AutoFileOutput interface"
   ]
  },
  {
   "cell_type": "code",
   "execution_count": 66,
   "metadata": {
    "collapsed": false
   },
   "outputs": [],
   "source": [
    "interface_factory = InterfaceFactory(AutoFileOutput)\n",
    "AutoCls = interface_factory(meta, data_obj)\n",
    "test = AutoCls()"
   ]
  },
  {
   "cell_type": "markdown",
   "metadata": {},
   "source": [
    "Add the file path to the interface's .\\_path attribute and then call the AutoFileInput connect method"
   ]
  },
  {
   "cell_type": "code",
   "execution_count": 67,
   "metadata": {
    "collapsed": true
   },
   "outputs": [],
   "source": [
    "test._path = \"date_test_copy.csv\""
   ]
  },
  {
   "cell_type": "code",
   "execution_count": 68,
   "metadata": {
    "collapsed": true
   },
   "outputs": [],
   "source": [
    "test.put_data(\"test\", data_value)"
   ]
  },
  {
   "cell_type": "code",
   "execution_count": 69,
   "metadata": {
    "collapsed": false
   },
   "outputs": [],
   "source": [
    "test.connect()"
   ]
  },
  {
   "cell_type": "code",
   "execution_count": null,
   "metadata": {
    "collapsed": true
   },
   "outputs": [],
   "source": []
  }
 ],
 "metadata": {
  "kernelspec": {
   "display_name": "Python 2",
   "language": "python",
   "name": "python2"
  },
  "language_info": {
   "codemirror_mode": {
    "name": "ipython",
    "version": 2
   },
   "file_extension": ".py",
   "mimetype": "text/x-python",
   "name": "python",
   "nbconvert_exporter": "python",
   "pygments_lexer": "ipython2",
   "version": "2.7.12"
  }
 },
 "nbformat": 4,
 "nbformat_minor": 0
}
