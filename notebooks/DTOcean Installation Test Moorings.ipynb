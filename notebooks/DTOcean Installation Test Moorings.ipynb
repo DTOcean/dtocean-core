{
 "cells": [
  {
   "cell_type": "markdown",
   "metadata": {},
   "source": [
    "# DTOcean Installation Module Test"
   ]
  },
  {
   "cell_type": "code",
   "execution_count": 1,
   "metadata": {
    "collapsed": true
   },
   "outputs": [],
   "source": [
    "%matplotlib inline"
   ]
  },
  {
   "cell_type": "code",
   "execution_count": 2,
   "metadata": {
    "collapsed": true
   },
   "outputs": [],
   "source": [
    "from IPython.display import display, HTML"
   ]
  },
  {
   "cell_type": "code",
   "execution_count": 3,
   "metadata": {
    "collapsed": false
   },
   "outputs": [],
   "source": [
    "import matplotlib.pyplot as plt\n",
    "plt.rcParams['figure.figsize'] = (14.0, 8.0)"
   ]
  },
  {
   "cell_type": "code",
   "execution_count": 4,
   "metadata": {
    "collapsed": true
   },
   "outputs": [],
   "source": [
    "import numpy as np"
   ]
  },
  {
   "cell_type": "code",
   "execution_count": 5,
   "metadata": {
    "collapsed": false
   },
   "outputs": [],
   "source": [
    "from dtocean_core import start_logging\n",
    "from dtocean_core.core import Core\n",
    "from dtocean_core.menu import ModuleMenu, ProjectMenu\n",
    "from dtocean_core.pipeline import Tree"
   ]
  },
  {
   "cell_type": "code",
   "execution_count": 6,
   "metadata": {
    "collapsed": true
   },
   "outputs": [],
   "source": [
    "def html_list(x):\n",
    "    message = \"<ul>\"\n",
    "    for name in x:\n",
    "        message += \"<li>{}</li>\".format(name)\n",
    "    message += \"</ul>\"\n",
    "    return message\n",
    "def html_dict(x):\n",
    "    message = \"<ul>\"\n",
    "    for name, status in x.iteritems():\n",
    "        message += \"<li>{}: <b>{}</b></li>\".format(name, status)\n",
    "    message += \"</ul>\"\n",
    "    return message"
   ]
  },
  {
   "cell_type": "code",
   "execution_count": 7,
   "metadata": {
    "collapsed": false
   },
   "outputs": [
    {
     "name": "stdout",
     "output_type": "stream",
     "text": [
      "2016-11-14 12:34:35,694 - INFO - dtocean_core - Begin logging for dtocean_core.\n"
     ]
    }
   ],
   "source": [
    "# Bring up the logger\n",
    "start_logging()"
   ]
  },
  {
   "cell_type": "markdown",
   "metadata": {},
   "source": [
    "## Create the core, menus and pipeline tree\n",
    "\n",
    "The core object carrys all the system information and is operated on by the other classes"
   ]
  },
  {
   "cell_type": "code",
   "execution_count": 8,
   "metadata": {
    "collapsed": false
   },
   "outputs": [],
   "source": [
    "new_core = Core()\n",
    "project_menu = ProjectMenu()\n",
    "module_menu = ModuleMenu()\n",
    "pipe_tree = Tree()"
   ]
  },
  {
   "cell_type": "markdown",
   "metadata": {},
   "source": [
    "## Create a new project"
   ]
  },
  {
   "cell_type": "code",
   "execution_count": 9,
   "metadata": {
    "collapsed": false
   },
   "outputs": [
    {
     "name": "stdout",
     "output_type": "stream",
     "text": [
      "2016-11-14 12:34:40,608 - INFO - aneris.entity.simulation - Created new Simulation with title \"Default\"\n",
      "2016-11-14 12:34:40,608 - INFO - aneris.control.simulation - Datastate with level \"initial\" stored\n",
      "2016-11-14 12:34:40,608 - INFO - aneris.control.pipeline - New Hub created for interface ProjectInterface.\n"
     ]
    }
   ],
   "source": [
    "project_title = \"DTOcean\"  \n",
    "new_project = project_menu.new_project(new_core, project_title)"
   ]
  },
  {
   "cell_type": "markdown",
   "metadata": {},
   "source": [
    "## Set the device type"
   ]
  },
  {
   "cell_type": "code",
   "execution_count": 10,
   "metadata": {
    "collapsed": false
   },
   "outputs": [
    {
     "name": "stdout",
     "output_type": "stream",
     "text": [
      "2016-11-14 12:34:40,641 - INFO - aneris.control.data - New \"device.system_type\" data stored with index EB1ZP7\n",
      "2016-11-14 12:34:40,641 - INFO - aneris.control.simulation - Datastate stored\n"
     ]
    }
   ],
   "source": [
    "options_branch = pipe_tree.get_branch(new_core, new_project, \"System Type Selection\")\n",
    "variable_id = \"device.system_type\"\n",
    "my_var = options_branch.get_input_variable(new_core, new_project, variable_id)\n",
    "my_var.set_raw_interface(new_core, \"Tidal Floating\")\n",
    "my_var.read(new_core, new_project)"
   ]
  },
  {
   "cell_type": "markdown",
   "metadata": {},
   "source": [
    "## Initiate the pipeline\n",
    "This step will be important when the database is incorporated into the system as it will effect the operation of the pipeline."
   ]
  },
  {
   "cell_type": "code",
   "execution_count": 11,
   "metadata": {
    "collapsed": false
   },
   "outputs": [
    {
     "name": "stdout",
     "output_type": "stream",
     "text": [
      "2016-11-14 12:34:40,655 - INFO - aneris.control.simulation - Datastate with level \"system type selection start\" stored\n",
      "2016-11-14 12:34:40,671 - INFO - aneris.control.data - New \"hidden.pipeline_active\" data stored with index JEZV93\n",
      "2016-11-14 12:34:40,671 - INFO - aneris.control.simulation - Datastate with level \"system type selection output\" stored\n",
      "2016-11-14 12:34:40,671 - INFO - aneris.control.pipeline - New Pipeline created for interface ModuleInterface.\n",
      "2016-11-14 12:34:40,687 - INFO - aneris.control.pipeline - New Hub created for interface ThemeInterface.\n"
     ]
    }
   ],
   "source": [
    "project_menu.initiate_pipeline(new_core, new_project)"
   ]
  },
  {
   "cell_type": "markdown",
   "metadata": {},
   "source": [
    "## Discover available modules"
   ]
  },
  {
   "cell_type": "code",
   "execution_count": 12,
   "metadata": {
    "collapsed": false
   },
   "outputs": [
    {
     "data": {
      "text/html": [
       "<ul><li>Hydrodynamics</li><li>Electrical Sub-Systems</li><li>Mooring and Foundations</li><li>Installation</li></ul>"
      ],
      "text/plain": [
       "<IPython.core.display.HTML object>"
      ]
     },
     "execution_count": 12,
     "metadata": {},
     "output_type": "execute_result"
    }
   ],
   "source": [
    "names = module_menu.get_available(new_core, new_project)\n",
    "message = html_list(names)\n",
    "HTML(message)"
   ]
  },
  {
   "cell_type": "markdown",
   "metadata": {},
   "source": [
    "## Activate a module\n",
    "\n",
    "Note that the order of activation is important and that we can't deactivate yet!"
   ]
  },
  {
   "cell_type": "code",
   "execution_count": 13,
   "metadata": {
    "collapsed": false
   },
   "outputs": [],
   "source": [
    "module_name = 'Installation'\n",
    "module_menu.activate(new_core, new_project, module_name)"
   ]
  },
  {
   "cell_type": "markdown",
   "metadata": {},
   "source": [
    "## Check the status of the module inputs"
   ]
  },
  {
   "cell_type": "code",
   "execution_count": 14,
   "metadata": {
    "collapsed": false
   },
   "outputs": [
    {
     "data": {
      "text/html": [
       "<ul><li>device.transportation_method: <b>required</b></li><li>component.collection_points: <b>optional</b></li><li>component.rov: <b>required</b></li><li>farm.comissioning_time: <b>required</b></li><li>farm.wind_series_installation: <b>required</b></li><li>device.disconnect_duration: <b>required</b></li><li>component.ports: <b>required</b></li><li>component.split_pipe_safety_factors: <b>required</b></li><li>device.system_height: <b>required</b></li><li>farm.substation_props: <b>optional</b></li><li>component.split_pipes_installation: <b>required</b></li><li>device.bollard_pull: <b>required</b></li><li>project.start_date: <b>required</b></li><li>component.static_cable: <b>optional</b></li><li>farm.umbilical_seabed_connection: <b>optional</b></li><li>device.connect_duration: <b>required</b></li><li>device.system_mass: <b>required</b></li><li>component.transformers: <b>optional</b></li><li>device.load_out_method: <b>required</b></li><li>component.drilling_rigs: <b>required</b></li><li>device.system_width: <b>required</b></li><li>site.projection: <b>required</b></li><li>component.vibro_driver_safety_factors: <b>required</b></li><li>component.divers_safety_factors: <b>required</b></li><li>component.vessel_safety_factors: <b>required</b></li><li>farm.wave_series_installation: <b>required</b></li><li>farm.cable_routes: <b>optional</b></li><li>device.installation_limit_Cs: <b>required</b></li><li>farm.foundations_component_data: <b>optional</b></li><li>farm.entry_point: <b>required</b></li><li>component.loading_rate: <b>required</b></li><li>farm.moorings_component_data: <b>optional</b></li><li>device.installation_limit_Hs: <b>required</b></li><li>device.system_length: <b>required</b></li><li>component.installation_soil_compatibility: <b>required</b></li><li>farm.foundations_soil_data: <b>optional</b></li><li>installation_delete.landfall: <b>required</b></li><li>component.hammer: <b>required</b></li><li>farm.cost_contingency: <b>required</b></li><li>corridor.layers: <b>optional</b></li><li>component.grout_rate: <b>required</b></li><li>farm.tidal_series_installation: <b>required</b></li><li>component.excavating: <b>required</b></li><li>device.installation_limit_Tp: <b>required</b></li><li>component.power_quality: <b>optional</b></li><li>component.surface_laying_rate: <b>required</b></li><li>component.switchgear: <b>optional</b></li><li>component.fuel_cost_rate: <b>required</b></li><li>device.sub_systems_installation: <b>required</b></li><li>component.port_safety_factors: <b>required</b></li><li>farm.port_percentage_cost: <b>required</b></li><li>component.vessels: <b>required</b></li><li>farm.moorings_foundations_network: <b>optional</b></li><li>component.split_pipe_laying_rate: <b>required</b></li><li>farm.layout: <b>required</b></li><li>farm.electrical_network: <b>optional</b></li><li>component.dynamic_cable: <b>optional</b></li><li>component.equipment_penetration_rates: <b>required</b></li><li>component.mattress_installation: <b>required</b></li><li>component.vibro_driver: <b>required</b></li><li>component.dry_mate_connectors: <b>optional</b></li><li>device.assembly_duration: <b>required</b></li><li>device.installation_limit_Ws: <b>required</b></li><li>component.rov_safety_factors: <b>required</b></li><li>farm.line_data: <b>optional</b></li><li>device.system_type: <b>satisfied</b></li><li>component.hammer_safety_factors: <b>required</b></li><li>component.cable_burial: <b>required</b></li><li>component.wet_mate_connectors: <b>optional</b></li><li>bathymetry.layers: <b>required</b></li><li>component.rock_bags_installation: <b>required</b></li><li>component.divers: <b>required</b></li><li>farm.electrical_component_data: <b>optional</b></li><li>farm.umbilical_cable_data: <b>optional</b></li><li>component.cable_burial_safety_factors: <b>required</b></li></ul>"
      ],
      "text/plain": [
       "<IPython.core.display.HTML object>"
      ]
     },
     "execution_count": 14,
     "metadata": {},
     "output_type": "execute_result"
    }
   ],
   "source": [
    "installation_branch = pipe_tree.get_branch(new_core, new_project, 'Installation')\n",
    "input_status = installation_branch.get_input_status(new_core, new_project)\n",
    "message = html_dict(input_status)\n",
    "HTML(message)"
   ]
  },
  {
   "cell_type": "markdown",
   "metadata": {},
   "source": [
    "## Initiate the dataflow\n",
    "This indicates that the filtering and module / theme selections are complete"
   ]
  },
  {
   "cell_type": "code",
   "execution_count": 15,
   "metadata": {
    "collapsed": false
   },
   "outputs": [
    {
     "name": "stdout",
     "output_type": "stream",
     "text": [
      "2016-11-14 12:34:40,733 - INFO - aneris.control.data - New \"hidden.dataflow_active\" data stored with index X5GWRA\n",
      "2016-11-14 12:34:40,733 - INFO - aneris.control.simulation - Datastate stored\n",
      "2016-11-14 12:34:40,750 - INFO - aneris.control.simulation - Datastate with level \"modules initial\" stored\n"
     ]
    }
   ],
   "source": [
    "project_menu.initiate_dataflow(new_core, new_project)"
   ]
  },
  {
   "cell_type": "markdown",
   "metadata": {},
   "source": [
    "## Load test data"
   ]
  },
  {
   "cell_type": "markdown",
   "metadata": {},
   "source": [
    "Prepare the test data for loading. The files required can be found in the test_data directory of the source code and should be copied to the directory that the notebook is running. When the python file is run a pickle file is generated containing a dictionary of inputs."
   ]
  },
  {
   "cell_type": "code",
   "execution_count": 16,
   "metadata": {
    "collapsed": false
   },
   "outputs": [
    {
     "name": "stdout",
     "output_type": "stream",
     "text": [
      "generate test data: D:\\Usuarios\\108630\\Programming\\Python\\notebooks\\inputs_wp5_moorings_aegir.pkl\n"
     ]
    }
   ],
   "source": [
    "%run inputs_wp5_moorings_aegir.py"
   ]
  },
  {
   "cell_type": "code",
   "execution_count": 17,
   "metadata": {
    "collapsed": false
   },
   "outputs": [
    {
     "name": "stdout",
     "output_type": "stream",
     "text": [
      "2016-11-14 12:35:05,023 - INFO - aneris.control.data - New \"device.bollard_pull\" data stored with index GNC7UX\n",
      "2016-11-14 12:35:05,023 - INFO - aneris.control.data - New \"device.transportation_method\" data stored with index BD9O25\n",
      "2016-11-14 12:35:05,023 - INFO - aneris.control.data - New \"device.installation_limit_Ws\" data stored with index MTOXI5\n",
      "2016-11-14 12:35:05,039 - INFO - aneris.control.data - New \"component.rov\" data stored with index CU276J\n",
      "2016-11-14 12:35:05,039 - INFO - aneris.control.data - New \"farm.comissioning_time\" data stored with index 90IM9O\n",
      "2016-11-14 12:35:05,273 - INFO - aneris.control.data - New \"farm.wind_series_installation\" data stored with index A6313P\n",
      "2016-11-14 12:35:05,273 - INFO - aneris.control.data - New \"device.disconnect_duration\" data stored with index S5Y9RP\n",
      "2016-11-14 12:35:05,273 - INFO - aneris.control.data - New \"component.ports\" data stored with index RNUHGV\n",
      "2016-11-14 12:35:05,273 - INFO - aneris.control.data - New \"component.split_pipe_safety_factors\" data stored with index YP7R4K\n",
      "2016-11-14 12:35:05,523 - INFO - aneris.control.data - New \"farm.tidal_series_installation\" data stored with index 3S9VEE\n",
      "2016-11-14 12:35:05,523 - INFO - aneris.control.data - New \"component.fuel_cost_rate\" data stored with index T2KR8J\n",
      "2016-11-14 12:35:05,523 - INFO - aneris.control.data - New \"farm.substation_props\" data stored with index XJ02KF\n",
      "2016-11-14 12:35:05,523 - INFO - aneris.control.data - New \"device.sub_systems_installation\" data stored with index 6ABWVX\n",
      "2016-11-14 12:35:05,538 - INFO - aneris.control.data - New \"component.split_pipes_installation\" data stored with index E9WSWR\n",
      "2016-11-14 12:35:05,538 - INFO - aneris.control.data - New \"component.surface_laying_rate\" data stored with index AQIMXH\n",
      "2016-11-14 12:35:05,538 - INFO - aneris.control.data - New \"component.split_pipe_laying_rate\" data stored with index 3IABL6\n",
      "2016-11-14 12:35:05,538 - INFO - aneris.control.data - New \"project.start_date\" data stored with index NJXVN3\n",
      "2016-11-14 12:35:05,538 - INFO - aneris.control.data - New \"farm.port_percentage_cost\" data stored with index QTQ439\n",
      "2016-11-14 12:35:05,538 - INFO - aneris.control.data - New \"component.vessels\" data stored with index YXGVMK\n",
      "2016-11-14 12:35:05,538 - INFO - aneris.control.data - New \"device.connect_duration\" data stored with index AZCB0K\n",
      "2016-11-14 12:35:05,553 - INFO - aneris.control.data - New \"farm.moorings_foundations_network\" data stored with index RSU8TW\n",
      "2016-11-14 12:35:05,553 - INFO - aneris.control.data - New \"device.system_mass\" data stored with index GJKAD1\n",
      "2016-11-14 12:35:05,553 - INFO - aneris.control.data - New \"farm.layout\" data stored with index SVQZDY\n",
      "2016-11-14 12:35:05,553 - INFO - aneris.control.data - New \"device.load_out_method\" data stored with index 4TD36W\n",
      "2016-11-14 12:35:05,553 - INFO - aneris.control.data - New \"component.equipment_penetration_rates\" data stored with index BJI1O9\n",
      "2016-11-14 12:35:05,553 - INFO - aneris.control.data - New \"component.mattress_installation\" data stored with index 46IOJ1\n",
      "2016-11-14 12:35:05,569 - INFO - aneris.control.data - New \"device.system_width\" data stored with index 25CIBG\n",
      "2016-11-14 12:35:05,569 - INFO - aneris.control.data - New \"component.vibro_driver\" data stored with index 72T5N7\n",
      "2016-11-14 12:35:05,569 - INFO - aneris.control.data - New \"site.projection\" data stored with index M3IM3E\n",
      "2016-11-14 12:35:05,569 - INFO - aneris.control.data - New \"device.assembly_duration\" data stored with index QGY678\n",
      "2016-11-14 12:35:05,569 - INFO - aneris.control.data - New \"device.system_height\" data stored with index DEW2RW\n",
      "2016-11-14 12:35:05,569 - INFO - aneris.control.data - New \"component.vibro_driver_safety_factors\" data stored with index B5SQC4\n",
      "2016-11-14 12:35:05,585 - INFO - aneris.control.data - New \"component.vessel_safety_factors\" data stored with index SSWJKK\n",
      "2016-11-14 12:35:05,585 - INFO - aneris.control.data - New \"component.divers_safety_factors\" data stored with index A9SZ8U\n",
      "2016-11-14 12:35:05,585 - INFO - aneris.control.data - New \"component.rov_safety_factors\" data stored with index HM0L5Y\n",
      "2016-11-14 12:35:05,585 - INFO - aneris.control.data - New \"component.port_safety_factors\" data stored with index ZYI0P1\n",
      "2016-11-14 12:35:05,585 - INFO - aneris.control.data - New \"farm.line_data\" data stored with index W68FFD\n",
      "2016-11-14 12:35:05,835 - INFO - aneris.control.data - New \"farm.wave_series_installation\" data stored with index KOBQ48\n",
      "2016-11-14 12:35:05,835 - INFO - aneris.control.data - New \"component.hammer_safety_factors\" data stored with index 740O5C\n",
      "2016-11-14 12:35:05,835 - INFO - aneris.control.data - New \"farm.cable_routes\" data stored with index 07OFP6\n",
      "2016-11-14 12:35:05,835 - INFO - aneris.control.data - New \"device.installation_limit_Cs\" data stored with index TQU7KG\n",
      "2016-11-14 12:35:05,835 - INFO - aneris.control.data - New \"component.cable_burial\" data stored with index VTW6EF\n",
      "2016-11-14 12:35:05,835 - INFO - aneris.control.data - New \"farm.foundations_component_data\" data stored with index O6SOFO\n",
      "2016-11-14 12:35:05,835 - INFO - aneris.control.data - New \"farm.entry_point\" data stored with index CQIXDO\n",
      "2016-11-14 12:35:05,849 - INFO - aneris.control.data - New \"component.loading_rate\" data stored with index 2BU9NV\n",
      "2016-11-14 12:35:05,849 - INFO - aneris.control.data - New \"farm.moorings_component_data\" data stored with index AZHXLP\n",
      "2016-11-14 12:35:05,849 - INFO - aneris.control.data - New \"bathymetry.layers\" data stored with index Z3HLS9\n",
      "2016-11-14 12:35:05,849 - INFO - aneris.control.data - New \"installation_delete.landfall\" data stored with index PYZA8B\n",
      "2016-11-14 12:35:05,849 - INFO - aneris.control.data - New \"device.system_length\" data stored with index JZ4205\n",
      "2016-11-14 12:35:05,849 - INFO - aneris.control.data - New \"component.rock_bags_installation\" data stored with index U62IF7\n",
      "2016-11-14 12:35:05,865 - INFO - aneris.control.data - New \"component.installation_soil_compatibility\" data stored with index 3XN44P\n",
      "2016-11-14 12:35:05,865 - INFO - aneris.control.data - New \"farm.foundations_soil_data\" data stored with index C8TGJY\n",
      "2016-11-14 12:35:05,865 - INFO - aneris.control.data - New \"device.installation_limit_Hs\" data stored with index RV1KWT\n",
      "2016-11-14 12:35:05,865 - INFO - aneris.control.data - New \"component.divers\" data stored with index 269IA3\n",
      "2016-11-14 12:35:05,865 - INFO - aneris.control.data - New \"component.hammer\" data stored with index QG2IBE\n",
      "2016-11-14 12:35:05,865 - INFO - aneris.control.data - New \"farm.cost_contingency\" data stored with index 8W5C0V\n",
      "2016-11-14 12:35:05,865 - INFO - aneris.control.data - New \"farm.electrical_component_data\" data stored with index HNEF9O\n",
      "2016-11-14 12:35:05,881 - INFO - aneris.control.data - New \"farm.umbilical_cable_data\" data stored with index 0GL5AA\n",
      "2016-11-14 12:35:05,881 - INFO - aneris.control.data - New \"component.grout_rate\" data stored with index 26GZ6U\n",
      "2016-11-14 12:35:05,881 - INFO - aneris.control.data - New \"component.excavating\" data stored with index 78WKN7\n",
      "2016-11-14 12:35:05,881 - INFO - aneris.control.data - New \"component.cable_burial_safety_factors\" data stored with index JSVGN9\n",
      "2016-11-14 12:35:05,881 - INFO - aneris.control.data - New \"component.drilling_rigs\" data stored with index V0LFMS\n",
      "2016-11-14 12:35:05,881 - INFO - aneris.control.data - New \"device.installation_limit_Tp\" data stored with index G76YPF\n",
      "2016-11-14 12:35:05,897 - INFO - aneris.control.simulation - Datastate stored\n"
     ]
    }
   ],
   "source": [
    "installation_branch.read_test_data(new_core,\n",
    "                                    new_project,\n",
    "                                    \"inputs_wp5_moorings_aegir.pkl\")"
   ]
  },
  {
   "cell_type": "markdown",
   "metadata": {},
   "source": [
    "## Check if the module can be executed"
   ]
  },
  {
   "cell_type": "code",
   "execution_count": 18,
   "metadata": {
    "collapsed": false
   },
   "outputs": [
    {
     "data": {
      "text/plain": [
       "True"
      ]
     },
     "metadata": {},
     "output_type": "display_data"
    }
   ],
   "source": [
    "can_execute = module_menu.is_executable(new_core, new_project, module_name)\n",
    "display(can_execute)"
   ]
  },
  {
   "cell_type": "code",
   "execution_count": 19,
   "metadata": {
    "collapsed": false
   },
   "outputs": [
    {
     "data": {
      "text/html": [
       "<ul><li>device.transportation_method: <b>satisfied</b></li><li>component.collection_points: <b>optional</b></li><li>component.rov: <b>satisfied</b></li><li>farm.comissioning_time: <b>satisfied</b></li><li>farm.wind_series_installation: <b>satisfied</b></li><li>device.disconnect_duration: <b>satisfied</b></li><li>component.ports: <b>satisfied</b></li><li>component.split_pipe_safety_factors: <b>satisfied</b></li><li>device.system_height: <b>satisfied</b></li><li>farm.substation_props: <b>satisfied</b></li><li>component.split_pipes_installation: <b>satisfied</b></li><li>device.bollard_pull: <b>satisfied</b></li><li>project.start_date: <b>satisfied</b></li><li>component.static_cable: <b>optional</b></li><li>farm.umbilical_seabed_connection: <b>optional</b></li><li>device.connect_duration: <b>satisfied</b></li><li>device.system_mass: <b>satisfied</b></li><li>component.transformers: <b>optional</b></li><li>device.load_out_method: <b>satisfied</b></li><li>component.drilling_rigs: <b>satisfied</b></li><li>device.system_width: <b>satisfied</b></li><li>site.projection: <b>satisfied</b></li><li>component.vibro_driver_safety_factors: <b>satisfied</b></li><li>component.divers_safety_factors: <b>satisfied</b></li><li>component.vessel_safety_factors: <b>satisfied</b></li><li>farm.wave_series_installation: <b>satisfied</b></li><li>farm.cable_routes: <b>satisfied</b></li><li>device.installation_limit_Cs: <b>satisfied</b></li><li>farm.foundations_component_data: <b>satisfied</b></li><li>farm.entry_point: <b>satisfied</b></li><li>component.loading_rate: <b>satisfied</b></li><li>farm.moorings_component_data: <b>satisfied</b></li><li>device.installation_limit_Hs: <b>satisfied</b></li><li>device.system_length: <b>satisfied</b></li><li>component.installation_soil_compatibility: <b>satisfied</b></li><li>farm.foundations_soil_data: <b>satisfied</b></li><li>installation_delete.landfall: <b>satisfied</b></li><li>component.hammer: <b>satisfied</b></li><li>farm.cost_contingency: <b>satisfied</b></li><li>corridor.layers: <b>optional</b></li><li>component.grout_rate: <b>satisfied</b></li><li>farm.tidal_series_installation: <b>satisfied</b></li><li>component.excavating: <b>satisfied</b></li><li>device.installation_limit_Tp: <b>satisfied</b></li><li>component.power_quality: <b>optional</b></li><li>component.surface_laying_rate: <b>satisfied</b></li><li>component.switchgear: <b>optional</b></li><li>component.fuel_cost_rate: <b>satisfied</b></li><li>device.sub_systems_installation: <b>satisfied</b></li><li>component.port_safety_factors: <b>satisfied</b></li><li>farm.port_percentage_cost: <b>satisfied</b></li><li>component.vessels: <b>satisfied</b></li><li>farm.moorings_foundations_network: <b>satisfied</b></li><li>component.split_pipe_laying_rate: <b>satisfied</b></li><li>farm.layout: <b>satisfied</b></li><li>farm.electrical_network: <b>optional</b></li><li>component.dynamic_cable: <b>optional</b></li><li>component.equipment_penetration_rates: <b>satisfied</b></li><li>component.mattress_installation: <b>satisfied</b></li><li>component.vibro_driver: <b>satisfied</b></li><li>component.dry_mate_connectors: <b>optional</b></li><li>device.assembly_duration: <b>satisfied</b></li><li>device.installation_limit_Ws: <b>satisfied</b></li><li>component.rov_safety_factors: <b>satisfied</b></li><li>farm.line_data: <b>satisfied</b></li><li>device.system_type: <b>satisfied</b></li><li>component.hammer_safety_factors: <b>satisfied</b></li><li>component.cable_burial: <b>satisfied</b></li><li>component.wet_mate_connectors: <b>optional</b></li><li>bathymetry.layers: <b>satisfied</b></li><li>component.rock_bags_installation: <b>satisfied</b></li><li>component.divers: <b>satisfied</b></li><li>farm.electrical_component_data: <b>satisfied</b></li><li>farm.umbilical_cable_data: <b>satisfied</b></li><li>component.cable_burial_safety_factors: <b>satisfied</b></li></ul>"
      ],
      "text/plain": [
       "<IPython.core.display.HTML object>"
      ]
     },
     "execution_count": 19,
     "metadata": {},
     "output_type": "execute_result"
    }
   ],
   "source": [
    "input_status = installation_branch.get_input_status(new_core, new_project)\n",
    "message = html_dict(input_status)\n",
    "HTML(message)"
   ]
  },
  {
   "cell_type": "markdown",
   "metadata": {},
   "source": [
    "## Execute the current module\n",
    "\n",
    "The \"current\" module refers to the next module to be executed in the chain (pipeline) of modules. This command will only execute that module and another will be used for executing all of the modules at once.\n",
    "\n",
    "Note, any data supplied by the module will be automatically copied into the active data state."
   ]
  },
  {
   "cell_type": "code",
   "execution_count": 20,
   "metadata": {
    "collapsed": false,
    "scrolled": true
   },
   "outputs": [
    {
     "name": "stdout",
     "output_type": "stream",
     "text": [
      "2016-11-14 12:35:05,927 - INFO - aneris.control.simulation - Datastate with level \"installation start\" stored\n"
     ]
    },
    {
     "name": "stderr",
     "output_type": "stream",
     "text": [
      "C:\\Anaconda2\\envs\\_integration\\lib\\site-packages\\dtocean_logistics-0.2.1.dev0-py2.7.egg\\dtocean_logistics\\phases\\install\\Driven.py:123: UserWarning: Hammering technique inadequate for site soil types!\n",
      "  wn.warn('Hammering technique inadequate for site soil types!')\n",
      "C:\\Anaconda2\\envs\\_integration\\lib\\site-packages\\dtocean_logistics-0.2.1.dev0-py2.7.egg\\dtocean_logistics\\phases\\install\\Driven.py:171: UserWarning: Vibro-Piling technique inadequate for site soil types!\n",
      "  wn.warn('Vibro-Piling technique inadequate for site soil types!')\n",
      "C:\\Anaconda2\\envs\\_integration\\lib\\site-packages\\dtocean_logistics-0.2.1.dev0-py2.7.egg\\dtocean_logistics\\performance\\economic\\eco.py:138: UserWarning: Lack of information on vessel fuel consumption, fuel cost not considered!\n",
      "  wn.warn('Lack of information on vessel fuel consumption, fuel cost not considered!')\n"
     ]
    },
    {
     "name": "stdout",
     "output_type": "stream",
     "text": [
      "2016-11-14 12:35:12,246 - INFO - aneris.control.data - New \"farm.installation_economics_data\" data stored with index N9KLOX\n",
      "2016-11-14 12:35:12,246 - INFO - aneris.control.data - New \"project.end_date\" data stored with index 0LO2V1\n",
      "2016-11-14 12:35:12,246 - INFO - aneris.control.data - New \"farm.port\" data stored with index RPEGWM\n",
      "2016-11-14 12:35:12,246 - INFO - aneris.control.data - New \"farm.port_distance\" data stored with index KIQXG6\n",
      "2016-11-14 12:35:12,246 - INFO - aneris.control.data - New \"farm.total_installation_time\" data stored with index X0WC1P\n",
      "2016-11-14 12:35:12,246 - INFO - aneris.control.data - New \"farm.installation_waiting_time\" data stored with index QOWAFK\n",
      "2016-11-14 12:35:12,246 - INFO - aneris.control.data - New \"farm.installation_preparation_time\" data stored with index 5DBFAS\n",
      "2016-11-14 12:35:12,262 - INFO - aneris.control.data - New \"farm.installation_sea_transit_time\" data stored with index 9JNA33\n",
      "2016-11-14 12:35:12,262 - INFO - aneris.control.data - New \"farm.installation_sea_operation_time\" data stored with index N6HS45\n",
      "2016-11-14 12:35:12,262 - INFO - aneris.control.data - New \"farm.install_support_structure_cost\" data stored with index CD2TU9\n",
      "2016-11-14 12:35:12,262 - INFO - aneris.control.data - New \"farm.install_device_cost\" data stored with index 6O5SAQ\n",
      "2016-11-14 12:35:12,262 - INFO - aneris.control.data - New \"farm.install_driven_piles_cost\" data stored with index U8XL94\n",
      "2016-11-14 12:35:12,262 - INFO - aneris.control.data - New \"farm.install_pile_anchor_cost\" data stored with index MJF7BZ\n",
      "2016-11-14 12:35:12,262 - INFO - aneris.control.data - New \"farm.installation_economics_data_breakdown\" data stored with index DETBWG\n",
      "2016-11-14 12:35:12,262 - INFO - aneris.control.data - New \"farm.installation_time_data_breakdown\" data stored with index EEMVAL\n",
      "2016-11-14 12:35:12,276 - INFO - aneris.control.data - New \"farm.install_support_structure_time\" data stored with index HZ143F\n",
      "2016-11-14 12:35:12,276 - INFO - aneris.control.data - New \"farm.install_device_time\" data stored with index A8RQZO\n",
      "2016-11-14 12:35:12,276 - INFO - aneris.control.data - New \"farm.install_driven_piles_time\" data stored with index EC0YHN\n",
      "2016-11-14 12:35:12,276 - INFO - aneris.control.data - New \"farm.install_pile_anchor_time\" data stored with index RJB3O8\n",
      "2016-11-14 12:35:12,276 - INFO - aneris.control.data - New \"farm.installation_journeys\" data stored with index KFW3I2\n",
      "2016-11-14 12:35:12,276 - INFO - aneris.control.data - New \"farm.installation_vessel_average_size\" data stored with index DC9RPE\n",
      "2016-11-14 12:35:12,276 - INFO - aneris.control.simulation - Datastate with level \"installation output\" stored\n"
     ]
    }
   ],
   "source": [
    "module_menu.execute_current(new_core, new_project)"
   ]
  },
  {
   "cell_type": "markdown",
   "metadata": {},
   "source": [
    "## Examine the results"
   ]
  },
  {
   "cell_type": "code",
   "execution_count": 21,
   "metadata": {
    "collapsed": false
   },
   "outputs": [
    {
     "data": {
      "text/html": [
       "<ul><li>farm.installation_economics_data: <b>satisfied</b></li><li>farm.install_support_structure_cost: <b>satisfied</b></li><li>farm.install_gravity_foundation_time: <b>unavailable</b></li><li>farm.total_installation_time: <b>satisfied</b></li><li>farm.installation_preparation_time: <b>satisfied</b></li><li>farm.installation_sea_operation_time: <b>satisfied</b></li><li>farm.install_cable_protection_cost: <b>unavailable</b></li><li>farm.install_device_time: <b>satisfied</b></li><li>farm.installation_economics_data_breakdown: <b>satisfied</b></li><li>farm.install_driven_piles_cost: <b>satisfied</b></li><li>farm.install_driven_piles_time: <b>satisfied</b></li><li>farm.install_array_cable_cost: <b>unavailable</b></li><li>farm.port_distance: <b>satisfied</b></li><li>farm.installation_waiting_time: <b>satisfied</b></li><li>farm.install_cable_protection_time: <b>unavailable</b></li><li>farm.install_drag_anchor_time: <b>unavailable</b></li><li>farm.install_gravity_foundation_cost: <b>unavailable</b></li><li>farm.installation_journeys: <b>satisfied</b></li><li>farm.install_suction_anchor_time: <b>unavailable</b></li><li>farm.install_support_structure_time: <b>satisfied</b></li><li>farm.install_collection_point_cost: <b>unavailable</b></li><li>farm.install_dynamic_cable_time: <b>unavailable</b></li><li>project.commissioning_date: <b>unavailable</b></li><li>farm.install_direct_anchor_cost: <b>unavailable</b></li><li>farm.install_pile_anchor_time: <b>satisfied</b></li><li>farm.install_device_cost: <b>satisfied</b></li><li>farm.install_array_cable_time: <b>unavailable</b></li><li>farm.install_export_cable_cost: <b>unavailable</b></li><li>farm.install_suction_anchor_cost: <b>unavailable</b></li><li>farm.installation_time_data_breakdown: <b>satisfied</b></li><li>project.end_date: <b>satisfied</b></li><li>farm.port: <b>satisfied</b></li><li>farm.installation_vessel_average_size: <b>satisfied</b></li><li>farm.install_drag_anchor_cost: <b>unavailable</b></li><li>farm.install_dynamic_cable_cost: <b>unavailable</b></li><li>farm.install_export_cable_time: <b>unavailable</b></li><li>farm.install_collection_point_time: <b>unavailable</b></li><li>farm.install_pile_anchor_cost: <b>satisfied</b></li><li>farm.installation_sea_transit_time: <b>satisfied</b></li><li>farm.install_direct_anchor_time: <b>unavailable</b></li></ul>"
      ],
      "text/plain": [
       "<IPython.core.display.HTML object>"
      ]
     },
     "execution_count": 21,
     "metadata": {},
     "output_type": "execute_result"
    }
   ],
   "source": [
    "output_status = installation_branch.get_output_status(new_core, new_project)\n",
    "message = html_dict(output_status)\n",
    "HTML(message)"
   ]
  },
  {
   "cell_type": "code",
   "execution_count": 22,
   "metadata": {
    "collapsed": false
   },
   "outputs": [
    {
     "data": {
      "text/html": [
       "<p><b>Installation Economics Summary:</b> <i>7574679.91389</i> (EURO)</p>"
      ],
      "text/plain": [
       "<IPython.core.display.HTML object>"
      ]
     },
     "execution_count": 22,
     "metadata": {},
     "output_type": "execute_result"
    }
   ],
   "source": [
    "farm_annual_energy = new_core.get_data_value(new_project, \"farm.installation_economics_data\")\n",
    "meta = new_core.get_metadata(\"farm.installation_economics_data\")\n",
    "name = meta.title\n",
    "value = farm_annual_energy\n",
    "units = meta.units[0]\n",
    "message = \"<p><b>{}:</b> <i>{}</i> ({})</p>\".format(name, value, units)\n",
    "\n",
    "HTML(message)"
   ]
  },
  {
   "cell_type": "code",
   "execution_count": 23,
   "metadata": {
    "collapsed": false
   },
   "outputs": [
    {
     "data": {
      "text/plain": [
       "6"
      ]
     },
     "execution_count": 23,
     "metadata": {},
     "output_type": "execute_result"
    }
   ],
   "source": [
    "number_of_journeys = new_core.get_data_value(new_project, \"farm.installation_journeys\")\n",
    "number_of_journeys"
   ]
  },
  {
   "cell_type": "code",
   "execution_count": 24,
   "metadata": {
    "collapsed": false
   },
   "outputs": [
    {
     "data": {
      "image/png": "[encoded data removed]",
      "text/plain": [
       "<matplotlib.figure.Figure at 0x124b0710>"
      ]
     },
     "metadata": {},
     "output_type": "display_data"
    }
   ],
   "source": [
    "f = installation_branch.get_output_variable(new_core, new_project, \"farm.install_device_cost\")\n",
    "f.plot(new_core,new_project)"
   ]
  },
  {
   "cell_type": "code",
   "execution_count": 25,
   "metadata": {
    "collapsed": false
   },
   "outputs": [
    {
     "data": {
      "image/png": "[encoded data removed]",
      "text/plain": [
       "<matplotlib.figure.Figure at 0x12f02630>"
      ]
     },
     "metadata": {},
     "output_type": "display_data"
    }
   ],
   "source": [
    "f = installation_branch.get_output_variable(new_core, new_project, \"farm.install_device_time\")\n",
    "f.plot(new_core,new_project)"
   ]
  },
  {
   "cell_type": "code",
   "execution_count": 26,
   "metadata": {
    "collapsed": false
   },
   "outputs": [
    {
     "data": {
      "text/plain": [
       "{'Equipment': 897105.9720450835,\n",
       " 'Port': 757467.9913886355,\n",
       " 'Vessel': 5920105.950452635}"
      ]
     },
     "execution_count": 26,
     "metadata": {},
     "output_type": "execute_result"
    }
   ],
   "source": [
    "economics_data_breakdown = new_core.get_data_value(new_project, \"farm.installation_economics_data_breakdown\")\n",
    "economics_data_breakdown"
   ]
  },
  {
   "cell_type": "code",
   "execution_count": 27,
   "metadata": {
    "collapsed": false
   },
   "outputs": [
    {
     "data": {
      "text/plain": [
       "{'Equipment': 33311.17125218845,\n",
       " 'Fuel': 79734.18650789789,\n",
       " 'Port': 25357.440054857405,\n",
       " 'Vessel': 194905.78924152817}"
      ]
     },
     "execution_count": 27,
     "metadata": {},
     "output_type": "execute_result"
    }
   ],
   "source": [
    "pile_anchor_cost = new_core.get_data_value(new_project, \"farm.install_pile_anchor_cost\")\n",
    "pile_anchor_cost"
   ]
  },
  {
   "cell_type": "code",
   "execution_count": null,
   "metadata": {
    "collapsed": true
   },
   "outputs": [],
   "source": []
  }
 ],
 "metadata": {
  "kernelspec": {
   "display_name": "Python 2",
   "language": "python",
   "name": "python2"
  },
  "language_info": {
   "codemirror_mode": {
    "name": "ipython",
    "version": 2
   },
   "file_extension": ".py",
   "mimetype": "text/x-python",
   "name": "python",
   "nbconvert_exporter": "python",
   "pygments_lexer": "ipython2",
   "version": "2.7.12"
  }
 },
 "nbformat": 4,
 "nbformat_minor": 0
}
