{
 "cells": [
  {
   "cell_type": "markdown",
   "metadata": {
    "collapsed": true
   },
   "source": [
    "# Fixed Wave with Fixed Layout Scenario Example"
   ]
  },
  {
   "cell_type": "code",
   "execution_count": 1,
   "metadata": {
    "collapsed": true
   },
   "outputs": [],
   "source": [
    "%matplotlib inline"
   ]
  },
  {
   "cell_type": "markdown",
   "metadata": {},
   "source": [
    "Prepare the test data for loading. The files required can be found in the test_data directory of the source code and should be copied to the directory that the notebook is running. When the python file is run a pickle file is generated containing a dictionary of inputs."
   ]
  },
  {
   "cell_type": "code",
   "execution_count": 2,
   "metadata": {
    "collapsed": false,
    "scrolled": false
   },
   "outputs": [
    {
     "name": "stdout",
     "output_type": "stream",
     "text": [
      "generate test data: D:\\Usuarios\\108630\\Programming\\Python\\notebooks\\fixed_wave_fixed_layout_scenario.pkl\n"
     ]
    }
   ],
   "source": [
    "%run fixed_wave_fixed_layout_scenario.py"
   ]
  },
  {
   "cell_type": "code",
   "execution_count": 3,
   "metadata": {
    "collapsed": true
   },
   "outputs": [],
   "source": [
    "from IPython.display import display, HTML"
   ]
  },
  {
   "cell_type": "code",
   "execution_count": 4,
   "metadata": {
    "collapsed": false
   },
   "outputs": [],
   "source": [
    "import matplotlib.pyplot as plt\n",
    "plt.rcParams['figure.figsize'] = (14.0, 8.0)"
   ]
  },
  {
   "cell_type": "code",
   "execution_count": 5,
   "metadata": {
    "collapsed": true
   },
   "outputs": [],
   "source": [
    "import numpy as np\n",
    "from datetime import datetime"
   ]
  },
  {
   "cell_type": "code",
   "execution_count": 6,
   "metadata": {
    "collapsed": false
   },
   "outputs": [],
   "source": [
    "from dtocean_core import start_logging\n",
    "from dtocean_core.core import Core\n",
    "from dtocean_core.menu import DataMenu, ModuleMenu, ProjectMenu, ThemeMenu\n",
    "from dtocean_core.pipeline import Tree, _get_connector\n",
    "from dtocean_core.strategy import StrategyManager"
   ]
  },
  {
   "cell_type": "code",
   "execution_count": 7,
   "metadata": {
    "collapsed": false
   },
   "outputs": [
    {
     "name": "stdout",
     "output_type": "stream",
     "text": [
      "2016-09-23 16:37:57,158 - INFO - dtocean_core - Begin logging for dtocean_core.\n"
     ]
    }
   ],
   "source": [
    "# Bring up the logger\n",
    "start_logging()"
   ]
  },
  {
   "cell_type": "code",
   "execution_count": 8,
   "metadata": {
    "collapsed": true
   },
   "outputs": [],
   "source": [
    "def html_list(x):\n",
    "    message = \"<ul>\"\n",
    "    for name in x:\n",
    "        message += \"<li>{}</li>\".format(name)\n",
    "    message += \"</ul>\"\n",
    "    return message\n",
    "def html_dict(x):\n",
    "    message = \"<ul>\"\n",
    "    for name, status in x.iteritems():\n",
    "        message += \"<li>{}: <b>{}</b></li>\".format(name, status)\n",
    "    message += \"</ul>\"\n",
    "    return message\n",
    "def html_variable(core, project, variable):\n",
    "    value = variable.get_value(core, project)\n",
    "    metadata = variable.get_metadata(core)\n",
    "    name = metadata.title\n",
    "    units = metadata.units\n",
    "    message = \"<b>{}:</b> {}\".format(name, value)\n",
    "    if units:\n",
    "        message += \" ({})\".format(units[0])\n",
    "    return message"
   ]
  },
  {
   "cell_type": "markdown",
   "metadata": {},
   "source": [
    "## Create the core, menus and pipeline tree\n",
    "\n",
    "The core object carrys all the system information and is operated on by the other classes"
   ]
  },
  {
   "cell_type": "code",
   "execution_count": 9,
   "metadata": {
    "collapsed": false
   },
   "outputs": [],
   "source": [
    "new_core = Core()\n",
    "project_menu = ProjectMenu()\n",
    "module_menu = ModuleMenu()\n",
    "theme_menu = ThemeMenu()\n",
    "data_menu = DataMenu()\n",
    "pipe_tree = Tree()"
   ]
  },
  {
   "cell_type": "markdown",
   "metadata": {},
   "source": [
    "## Create a new project and tree"
   ]
  },
  {
   "cell_type": "code",
   "execution_count": 10,
   "metadata": {
    "collapsed": false
   },
   "outputs": [
    {
     "name": "stdout",
     "output_type": "stream",
     "text": [
      "2016-09-23 16:38:01,769 - INFO - aneris.entity.simulation - Created new Simulation with title \"Default\"\n",
      "2016-09-23 16:38:01,769 - INFO - aneris.control.simulation - Datastate with level \"initial\" stored\n",
      "2016-09-23 16:38:01,769 - INFO - aneris.control.pipeline - New Hub created for interface ProjectInterface.\n"
     ]
    }
   ],
   "source": [
    "project_title = \"DTOcean\"  \n",
    "new_project = project_menu.new_project(new_core, project_title)"
   ]
  },
  {
   "cell_type": "markdown",
   "metadata": {},
   "source": [
    "## Set the device type"
   ]
  },
  {
   "cell_type": "code",
   "execution_count": 11,
   "metadata": {
    "collapsed": false
   },
   "outputs": [
    {
     "name": "stdout",
     "output_type": "stream",
     "text": [
      "2016-09-23 16:38:01,769 - INFO - aneris.control.data - New \"device.system_type\" data stored with index IDABER\n",
      "2016-09-23 16:38:01,779 - INFO - aneris.control.simulation - Datastate stored\n"
     ]
    }
   ],
   "source": [
    "options_branch = pipe_tree.get_branch(new_core, new_project, \"System Type Selection\")\n",
    "variable_id = \"device.system_type\"\n",
    "my_var = options_branch.get_input_variable(new_core, new_project, variable_id)\n",
    "my_var.set_raw_interface(new_core, \"Wave Fixed\")\n",
    "my_var.read(new_core, new_project)"
   ]
  },
  {
   "cell_type": "markdown",
   "metadata": {},
   "source": [
    "## Initiate the pipeline\n",
    "This step will be important when the database is incorporated into the system as it will effect the operation of the pipeline."
   ]
  },
  {
   "cell_type": "code",
   "execution_count": 12,
   "metadata": {
    "collapsed": false
   },
   "outputs": [
    {
     "name": "stdout",
     "output_type": "stream",
     "text": [
      "2016-09-23 16:38:01,779 - INFO - aneris.control.simulation - Datastate with level \"system type selection start\" stored\n",
      "2016-09-23 16:38:01,779 - INFO - aneris.control.data - New \"hidden.pipeline_active\" data stored with index ISCJ2W\n",
      "2016-09-23 16:38:01,779 - INFO - aneris.control.simulation - Datastate with level \"system type selection output\" stored\n",
      "2016-09-23 16:38:01,779 - INFO - aneris.control.pipeline - New Pipeline created for interface ModuleInterface.\n",
      "2016-09-23 16:38:01,779 - INFO - aneris.control.pipeline - New Hub created for interface ThemeInterface.\n"
     ]
    }
   ],
   "source": [
    "project_menu.initiate_pipeline(new_core, new_project)"
   ]
  },
  {
   "cell_type": "markdown",
   "metadata": {},
   "source": [
    "## Discover available modules"
   ]
  },
  {
   "cell_type": "code",
   "execution_count": 13,
   "metadata": {
    "collapsed": false
   },
   "outputs": [
    {
     "data": {
      "text/html": [
       "<ul><li>Hydrodynamics</li><li>Electrical Sub Systems</li><li>Mooring and Foundations</li></ul>"
      ],
      "text/plain": [
       "<IPython.core.display.HTML object>"
      ]
     },
     "execution_count": 13,
     "metadata": {},
     "output_type": "execute_result"
    }
   ],
   "source": [
    "names = module_menu.get_available(new_core, new_project)\n",
    "message = html_list(names)\n",
    "HTML(message)"
   ]
  },
  {
   "cell_type": "markdown",
   "metadata": {},
   "source": [
    "## Activate some modules\n",
    "\n",
    "Note that the order of activation is important and that we can't deactivate yet!"
   ]
  },
  {
   "cell_type": "code",
   "execution_count": 14,
   "metadata": {
    "collapsed": false
   },
   "outputs": [],
   "source": [
    "module_menu.activate(new_core, new_project, 'Hydrodynamics')\n",
    "module_menu.activate(new_core, new_project, 'Electrical Sub Systems')\n",
    "module_menu.activate(new_core, new_project, 'Mooring and Foundations')\n"
   ]
  },
  {
   "cell_type": "markdown",
   "metadata": {
    "collapsed": true
   },
   "source": [
    "## Activate the Economics and Reliability themes"
   ]
  },
  {
   "cell_type": "code",
   "execution_count": 15,
   "metadata": {
    "collapsed": false
   },
   "outputs": [
    {
     "data": {
      "text/html": [
       "<ul><li>Reliability</li><li>Economics</li><li>Environmental Impact Assessment</li></ul>"
      ],
      "text/plain": [
       "<IPython.core.display.HTML object>"
      ]
     },
     "execution_count": 15,
     "metadata": {},
     "output_type": "execute_result"
    }
   ],
   "source": [
    "names = theme_menu.get_available(new_core, new_project)\n",
    "message = html_list(names)\n",
    "HTML(message)"
   ]
  },
  {
   "cell_type": "code",
   "execution_count": 16,
   "metadata": {
    "collapsed": false
   },
   "outputs": [],
   "source": [
    "theme_menu.activate(new_core, new_project, \"Economics\")"
   ]
  },
  {
   "cell_type": "code",
   "execution_count": 17,
   "metadata": {
    "collapsed": false
   },
   "outputs": [],
   "source": [
    "# Here we are expecting Hydrodynamics\n",
    "assert _get_connector(new_project, \"modules\").get_current_interface_name(new_core, new_project) == \"Hydrodynamics\""
   ]
  },
  {
   "cell_type": "markdown",
   "metadata": {},
   "source": [
    "## Initiate the dataflow\n",
    "This indicates that the filtering and module / theme selections are complete"
   ]
  },
  {
   "cell_type": "code",
   "execution_count": 18,
   "metadata": {
    "collapsed": false
   },
   "outputs": [
    {
     "name": "stdout",
     "output_type": "stream",
     "text": [
      "2016-09-23 16:38:01,898 - INFO - aneris.control.data - New \"hidden.dataflow_active\" data stored with index 0HFO3E\n",
      "2016-09-23 16:38:01,898 - INFO - aneris.control.simulation - Datastate stored\n",
      "2016-09-23 16:38:01,918 - INFO - aneris.control.simulation - Datastate with level \"modules initial\" stored\n"
     ]
    }
   ],
   "source": [
    "project_menu.initiate_dataflow(new_core, new_project)"
   ]
  },
  {
   "cell_type": "markdown",
   "metadata": {},
   "source": [
    "## Create the branches assosiated to the modules"
   ]
  },
  {
   "cell_type": "code",
   "execution_count": 19,
   "metadata": {
    "collapsed": false
   },
   "outputs": [],
   "source": [
    "hydro_branch = pipe_tree.get_branch(new_core, new_project, \"Hydrodynamics\")\n",
    "electro_branch = pipe_tree.get_branch(new_core, new_project, 'Electrical Sub Systems')\n",
    "moorings_branch = pipe_tree.get_branch(new_core, new_project, 'Mooring and Foundations')\n",
    "eco_branch = pipe_tree.get_branch(new_core, new_project, \"Economics\")"
   ]
  },
  {
   "cell_type": "markdown",
   "metadata": {},
   "source": [
    "## Load test data"
   ]
  },
  {
   "cell_type": "code",
   "execution_count": 20,
   "metadata": {
    "collapsed": false
   },
   "outputs": [
    {
     "name": "stdout",
     "output_type": "stream",
     "text": [
      "2016-09-23 16:38:02,059 - INFO - aneris.control.data - New \"farm.wave_series\" data stored with index PS0VYS\n",
      "2016-09-23 16:38:02,069 - INFO - aneris.control.data - New \"device.installation_depth_max\" data stored with index G9QK0A\n",
      "2016-09-23 16:38:02,069 - INFO - aneris.control.data - New \"device.coordinate_system\" data stored with index V5OMCS\n",
      "2016-09-23 16:38:02,069 - INFO - aneris.control.data - New \"device.minimum_distance_x\" data stored with index ZHSDV8\n",
      "2016-09-23 16:38:02,069 - INFO - aneris.control.data - New \"device.minimum_distance_y\" data stored with index O47VP7\n",
      "2016-09-23 16:38:02,069 - INFO - aneris.control.data - New \"device.installation_depth_min\" data stored with index A3ULRS\n",
      "2016-09-23 16:38:02,069 - INFO - aneris.control.data - New \"device.wave_data_directory\" data stored with index D961X0\n",
      "2016-09-23 16:38:02,069 - INFO - aneris.control.data - New \"site.lease_boundary\" data stored with index FRSD2V\n",
      "2016-09-23 16:38:02,069 - INFO - aneris.control.data - New \"options.optimisation_threshold\" data stored with index LU3VDP\n",
      "2016-09-23 16:38:02,069 - INFO - aneris.control.data - New \"options.user_array_option\" data stored with index N8ULY8\n",
      "2016-09-23 16:38:02,069 - INFO - aneris.control.data - New \"device.power_rating\" data stored with index IX1C0Q\n",
      "2016-09-23 16:38:02,069 - INFO - aneris.control.data - New \"farm.point_sea_surface_height\" data stored with index T1XXFY\n",
      "2016-09-23 16:38:02,069 - INFO - aneris.control.data - New \"farm.spectrum_name\" data stored with index Y3MTPQ\n",
      "2016-09-23 16:38:02,078 - INFO - aneris.control.data - New \"device.yaw\" data stored with index KSQ1HN\n",
      "2016-09-23 16:38:02,078 - INFO - aneris.control.data - New \"farm.mannings\" data stored with index I1G6MW\n",
      "2016-09-23 16:38:02,078 - INFO - aneris.control.data - New \"corridor.landing_point\" data stored with index MK766X\n",
      "2016-09-23 16:38:02,078 - INFO - aneris.control.data - New \"options.user_array_layout\" data stored with index X8CFZD\n",
      "2016-09-23 16:38:02,078 - INFO - aneris.control.data - New \"farm.spec_spread\" data stored with index QUIK0X\n",
      "2016-09-23 16:38:02,078 - INFO - aneris.control.data - New \"farm.spec_gamma\" data stored with index HXBEID\n",
      "2016-09-23 16:38:02,088 - INFO - aneris.control.data - New \"bathymetry.layers\" data stored with index SFOH72\n",
      "2016-09-23 16:38:02,088 - INFO - aneris.control.data - New \"farm.rated_power\" data stored with index GT3ORY\n",
      "2016-09-23 16:38:02,088 - INFO - aneris.control.simulation - Datastate stored\n"
     ]
    }
   ],
   "source": [
    "hydro_branch.read_test_data(new_core,\n",
    "                            new_project,\n",
    "                            \"fixed_wave_fixed_layout_scenario.pkl\")"
   ]
  },
  {
   "cell_type": "code",
   "execution_count": 21,
   "metadata": {
    "collapsed": false
   },
   "outputs": [
    {
     "name": "stdout",
     "output_type": "stream",
     "text": [
      "2016-09-23 16:38:02,309 - INFO - aneris.control.data - New \"device.constant_power_factor\" data stored with index WLTU48\n",
      "2016-09-23 16:38:02,309 - INFO - aneris.control.data - New \"component.power_quality\" data stored with index 46TTEX\n",
      "2016-09-23 16:38:02,309 - INFO - aneris.control.data - New \"corridor.shipping_hist\" data stored with index ILAGE6\n",
      "2016-09-23 16:38:02,309 - INFO - aneris.control.data - New \"component.switchgear\" data stored with index 0740QW\n",
      "2016-09-23 16:38:02,309 - INFO - aneris.control.data - New \"component.collection_points\" data stored with index 3O5WMC\n",
      "2016-09-23 16:38:02,309 - INFO - aneris.control.data - New \"component.dry_mate_connectors\" data stored with index J3Q6GQ\n",
      "2016-09-23 16:38:02,319 - INFO - aneris.control.data - New \"device.voltage\" data stored with index B94VV4\n",
      "2016-09-23 16:38:02,319 - INFO - aneris.control.data - New \"farm.shipping_hist\" data stored with index GZ1RA1\n",
      "2016-09-23 16:38:02,319 - INFO - aneris.control.data - New \"corridor.max_seabed_temp\" data stored with index 967AH6\n",
      "2016-09-23 16:38:02,319 - INFO - aneris.control.data - New \"farm.target_burial_depth\" data stored with index V0A3OB\n",
      "2016-09-23 16:38:02,319 - INFO - aneris.control.data - New \"component.transformers\" data stored with index KAS4QP\n",
      "2016-09-23 16:38:02,319 - INFO - aneris.control.data - New \"farm.network_configuration\" data stored with index SZ5EJX\n",
      "2016-09-23 16:38:02,319 - INFO - aneris.control.data - New \"farm.collection_point_type\" data stored with index CTY47M\n",
      "2016-09-23 16:38:02,319 - INFO - aneris.control.data - New \"component.static_cable\" data stored with index 5BLH28\n",
      "2016-09-23 16:38:02,319 - INFO - aneris.control.data - New \"farm.devices_per_string\" data stored with index O8LLW4\n",
      "2016-09-23 16:38:02,319 - INFO - aneris.control.data - New \"corridor.target_burial_depth\" data stored with index P3CTDW\n",
      "2016-09-23 16:38:02,319 - INFO - aneris.control.data - New \"farm.wave_direction_100_year\" data stored with index 0NRMSK\n",
      "2016-09-23 16:38:02,319 - INFO - aneris.control.data - New \"farm.control_signal_channels\" data stored with index 58005Z\n",
      "2016-09-23 16:38:02,319 - INFO - aneris.control.data - New \"component.dynamic_cable\" data stored with index 7785HQ\n",
      "2016-09-23 16:38:02,319 - INFO - aneris.control.data - New \"corridor.wave_direction\" data stored with index TGOGR1\n",
      "2016-09-23 16:38:02,319 - INFO - aneris.control.data - New \"component.collection_point_foundations\" data stored with index YNTWHC\n",
      "2016-09-23 16:38:02,328 - INFO - aneris.control.data - New \"device.connector_type\" data stored with index RHET4F\n",
      "2016-09-23 16:38:02,328 - INFO - aneris.control.data - New \"component.collection_point_cog\" data stored with index JT53C0\n",
      "2016-09-23 16:38:02,328 - INFO - aneris.control.data - New \"bathymetry.max_seabed_temp\" data stored with index XTY0KK\n",
      "2016-09-23 16:38:02,328 - INFO - aneris.control.data - New \"farm.onshore_infrastructure_cost\" data stored with index 9RWJ12\n",
      "2016-09-23 16:38:02,328 - INFO - aneris.control.data - New \"farm.control_signal_cable\" data stored with index ANZ2H1\n",
      "2016-09-23 16:38:02,328 - INFO - aneris.control.data - New \"farm.direction_of_max_surface_current\" data stored with index KO2FCW\n",
      "2016-09-23 16:38:02,328 - INFO - aneris.control.data - New \"corridor.max_soil_resistivity\" data stored with index 3VPO3C\n",
      "2016-09-23 16:38:02,328 - INFO - aneris.control.data - New \"bathymetry.max_soil_resistivity\" data stored with index BZLKR5\n",
      "2016-09-23 16:38:02,328 - INFO - aneris.control.data - New \"farm.ac_power_flow\" data stored with index 2RK5LE\n",
      "2016-09-23 16:38:02,328 - INFO - aneris.control.data - New \"corridor.tidal_current_direction\" data stored with index QXU23M\n",
      "2016-09-23 16:38:02,328 - INFO - aneris.control.data - New \"device.prescribed_footprint_radius\" data stored with index QNYRAY\n",
      "2016-09-23 16:38:02,328 - INFO - aneris.control.data - New \"component.equipment_gradient_constraint\" data stored with index MTL7BH\n",
      "2016-09-23 16:38:02,328 - INFO - aneris.control.data - New \"farm.max_surface_current_10_year\" data stored with index 2EU56Z\n",
      "2016-09-23 16:38:02,338 - INFO - aneris.control.data - New \"corridor.tidal_current_flow\" data stored with index 289J1R\n",
      "2016-09-23 16:38:02,338 - INFO - aneris.control.data - New \"farm.connector_type\" data stored with index 42ZZDT\n",
      "2016-09-23 16:38:02,338 - INFO - aneris.control.data - New \"component.wet_mate_connectors\" data stored with index SV6WR4\n",
      "2016-09-23 16:38:02,338 - INFO - aneris.control.data - New \"farm.voltage_limit_min\" data stored with index VF8PU8\n",
      "2016-09-23 16:38:02,338 - INFO - aneris.control.data - New \"farm.voltage_limit_max\" data stored with index Z12553\n",
      "2016-09-23 16:38:02,338 - INFO - aneris.control.data - New \"component.installation_soil_compatibility\" data stored with index O19JOC\n",
      "2016-09-23 16:38:02,338 - INFO - aneris.control.data - New \"corridor.voltage\" data stored with index IX98RE\n",
      "2016-09-23 16:38:02,338 - INFO - aneris.control.data - New \"corridor.layers\" data stored with index R1D60V\n",
      "2016-09-23 16:38:02,348 - INFO - aneris.control.data - New \"farm.control_signal_type\" data stored with index GHR91O\n",
      "2016-09-23 16:38:02,348 - INFO - aneris.control.simulation - Datastate stored\n"
     ]
    }
   ],
   "source": [
    "electro_branch.read_test_data(new_core,\n",
    "                              new_project,\n",
    "                              \"fixed_wave_fixed_layout_scenario.pkl\")"
   ]
  },
  {
   "cell_type": "code",
   "execution_count": 22,
   "metadata": {
    "collapsed": false
   },
   "outputs": [
    {
     "name": "stdout",
     "output_type": "stream",
     "text": [
      "2016-09-23 16:38:02,549 - INFO - aneris.control.data - New \"farm.mean_wind_speed_100_year\" data stored with index 90DTJL\n",
      "2016-09-23 16:38:02,549 - INFO - aneris.control.data - New \"device.system_profile\" data stored with index RAMQ9K\n",
      "2016-09-23 16:38:02,549 - INFO - aneris.control.data - New \"farm.wave_gamma_100_year\" data stored with index 4LKIQZ\n",
      "2016-09-23 16:38:02,549 - INFO - aneris.control.data - New \"constants.gravity\" data stored with index EU00S3\n",
      "2016-09-23 16:38:02,549 - INFO - aneris.control.data - New \"constants.cylinder_drag\" data stored with index UHW0ZF\n",
      "2016-09-23 16:38:02,549 - INFO - aneris.control.data - New \"device.dry_beam_area\" data stored with index TXEF3L\n",
      "2016-09-23 16:38:02,559 - INFO - aneris.control.data - New \"device.wet_beam_area\" data stored with index SHHQ1D\n",
      "2016-09-23 16:38:02,559 - INFO - aneris.control.data - New \"farm.max_water_level_50_year\" data stored with index TJ5ACT\n",
      "2016-09-23 16:38:02,559 - INFO - aneris.control.data - New \"device.wet_frontal_area\" data stored with index BD4OYB\n",
      "2016-09-23 16:38:02,559 - INFO - aneris.control.data - New \"farm.mean_wind_direction_100_year\" data stored with index VPQOPH\n",
      "2016-09-23 16:38:02,559 - INFO - aneris.control.data - New \"project.cost_of_steel\" data stored with index 9KOZ8H\n",
      "2016-09-23 16:38:02,559 - INFO - aneris.control.data - New \"bathymetry.soil_sensitivity\" data stored with index 9CW8UT\n",
      "2016-09-23 16:38:02,559 - INFO - aneris.control.data - New \"farm.max_tp_100_year\" data stored with index 47LKJT\n",
      "2016-09-23 16:38:02,559 - INFO - aneris.control.data - New \"device.system_centre_of_gravity\" data stored with index 732HSL\n",
      "2016-09-23 16:38:02,559 - INFO - aneris.control.data - New \"constants.concrete_density\" data stored with index HO7G1I\n",
      "2016-09-23 16:38:02,559 - INFO - aneris.control.data - New \"component.foundations_pile\" data stored with index AM7A8M\n",
      "2016-09-23 16:38:02,569 - INFO - aneris.control.data - New \"constants.rectangular_wave_inertia\" data stored with index HY4C0P\n",
      "2016-09-23 16:38:02,569 - INFO - aneris.control.data - New \"device.system_mass\" data stored with index I2L6DU\n",
      "2016-09-23 16:38:02,569 - INFO - aneris.control.data - New \"constants.rectangular_drift\" data stored with index G1XV3E\n",
      "2016-09-23 16:38:02,569 - INFO - aneris.control.data - New \"device.foundation_location\" data stored with index VL58N3\n",
      "2016-09-23 16:38:02,569 - INFO - aneris.control.data - New \"farm.min_water_level_50_year\" data stored with index 5KVMTE\n",
      "2016-09-23 16:38:02,569 - INFO - aneris.control.data - New \"farm.max_gust_wind_speed_100_year\" data stored with index M8EPR1\n",
      "2016-09-23 16:38:02,569 - INFO - aneris.control.data - New \"device.system_width\" data stored with index SW1P8F\n",
      "2016-09-23 16:38:02,569 - INFO - aneris.control.data - New \"bathymetry.soilprops\" data stored with index X09J88\n",
      "2016-09-23 16:38:02,578 - INFO - aneris.control.data - New \"bathymetry.pile_Bm_moment_coefficient\" data stored with index E8YZHA\n",
      "2016-09-23 16:38:02,578 - INFO - aneris.control.data - New \"bathymetry.line_bearing_capacity_factor\" data stored with index DY2TZN\n",
      "2016-09-23 16:38:02,578 - INFO - aneris.control.data - New \"component.foundations_anchor_soft\" data stored with index KVZ52X\n",
      "2016-09-23 16:38:02,578 - INFO - aneris.control.data - New \"device.system_displaced_volume\" data stored with index 197SJI\n",
      "2016-09-23 16:38:02,578 - INFO - aneris.control.data - New \"constants.cylinder_wake_amplificiation\" data stored with index U82LOP\n",
      "2016-09-23 16:38:02,578 - INFO - aneris.control.data - New \"device.dry_frontal_area\" data stored with index 92KEYB\n",
      "2016-09-23 16:38:02,578 - INFO - aneris.control.data - New \"bathymetry.soil_cohesive_reaction_coefficient\" data stored with index BPR00I\n",
      "2016-09-23 16:38:02,578 - INFO - aneris.control.data - New \"constants.air_density\" data stored with index XJC3S1\n",
      "2016-09-23 16:38:02,588 - INFO - aneris.control.data - New \"component.foundations_anchor_sand\" data stored with index BDXLTT\n",
      "2016-09-23 16:38:02,588 - INFO - aneris.control.data - New \"device.foundation_safety_factor\" data stored with index PFGQMZ\n",
      "2016-09-23 16:38:02,588 - INFO - aneris.control.data - New \"bathymetry.pile_Am_moment_coefficient\" data stored with index LME0YZ\n",
      "2016-09-23 16:38:02,588 - INFO - aneris.control.data - New \"farm.max_gust_wind_direction_100_year\" data stored with index S7BV00\n",
      "2016-09-23 16:38:02,588 - INFO - aneris.control.data - New \"farm.max_hs_100_year\" data stored with index J74L4F\n",
      "2016-09-23 16:38:02,588 - INFO - aneris.control.data - New \"farm.current_profile\" data stored with index UKBN1C\n",
      "2016-09-23 16:38:02,588 - INFO - aneris.control.data - New \"bathymetry.soil_cohesionless_reaction_coefficient\" data stored with index ELPQLI\n",
      "2016-09-23 16:38:02,588 - INFO - aneris.control.data - New \"constants.steel_density\" data stored with index CRKWQ7\n",
      "2016-09-23 16:38:02,588 - INFO - aneris.control.data - New \"device.system_roughness\" data stored with index RY6QIU\n",
      "2016-09-23 16:38:02,598 - INFO - aneris.control.data - New \"bathymetry.pile_skin_friction_end_bearing_capacity\" data stored with index EGWQBX\n",
      "2016-09-23 16:38:02,598 - INFO - aneris.control.data - New \"bathymetry.soil_drained_holding_capacity_factor\" data stored with index FP6PZ2\n",
      "2016-09-23 16:38:02,598 - INFO - aneris.control.data - New \"project.cost_of_grout\" data stored with index NZ0FEP\n",
      "2016-09-23 16:38:02,598 - INFO - aneris.control.data - New \"device.system_length\" data stored with index VX6FY2\n",
      "2016-09-23 16:38:02,598 - INFO - aneris.control.data - New \"constants.grout_density\" data stored with index 2J43PD\n",
      "2016-09-23 16:38:02,598 - INFO - aneris.control.data - New \"project.cost_of_concrete\" data stored with index X5BXHZ\n",
      "2016-09-23 16:38:02,598 - INFO - aneris.control.data - New \"farm.grout_strength_safety_factor\" data stored with index X5E317\n",
      "2016-09-23 16:38:02,598 - INFO - aneris.control.data - New \"constants.grout_compressive_strength\" data stored with index Z8QN9B\n",
      "2016-09-23 16:38:02,598 - INFO - aneris.control.data - New \"device.system_height\" data stored with index XSF51Y\n",
      "2016-09-23 16:38:02,608 - INFO - aneris.control.data - New \"constants.rectangular_wind_drag\" data stored with index 00RSBW\n",
      "2016-09-23 16:38:02,608 - INFO - aneris.control.data - New \"constants.rectangular_current_drag\" data stored with index 6RW8JH\n",
      "2016-09-23 16:38:02,608 - INFO - aneris.control.data - New \"bathymetry.pile_deflection_coefficients\" data stored with index SJWP5D\n",
      "2016-09-23 16:38:02,608 - INFO - aneris.control.data - New \"component.foundations_anchor\" data stored with index IYHHKC\n",
      "2016-09-23 16:38:02,608 - INFO - aneris.control.data - New \"constants.sea_water_density\" data stored with index 4Y3HLN\n",
      "2016-09-23 16:38:02,608 - INFO - aneris.control.simulation - Datastate stored\n"
     ]
    }
   ],
   "source": [
    "moorings_branch.read_test_data(new_core,\n",
    "                               new_project,\n",
    "                               \"fixed_wave_fixed_layout_scenario.pkl\")"
   ]
  },
  {
   "cell_type": "markdown",
   "metadata": {},
   "source": [
    "## Check the status of the inputs\n",
    "\n",
    "* satisfied - data is in the data state\n",
    "* required - data is not in the data state\n",
    "* unavailable - data will come from another source"
   ]
  },
  {
   "cell_type": "code",
   "execution_count": 23,
   "metadata": {
    "collapsed": false
   },
   "outputs": [
    {
     "data": {
      "text/html": [
       "<ul><li>options.user_array_option: <b>satisfied</b></li><li>device.power_rating: <b>satisfied</b></li><li>farm.wave_series: <b>satisfied</b></li><li>farm.nogo_areas: <b>optional</b></li><li>farm.point_sea_surface_height: <b>satisfied</b></li><li>farm.spectrum_name: <b>satisfied</b></li><li>farm.spec_spread: <b>satisfied</b></li><li>device.installation_depth_max: <b>satisfied</b></li><li>device.yaw: <b>satisfied</b></li><li>device.system_type: <b>satisfied</b></li><li>device.coordinate_system: <b>satisfied</b></li><li>corridor.landing_point: <b>satisfied</b></li><li>farm.mannings: <b>satisfied</b></li><li>farm.main_direction: <b>optional</b></li><li>bathymetry.layers: <b>satisfied</b></li><li>options.power_bin_width: <b>optional</b></li><li>farm.spec_gamma: <b>satisfied</b></li><li>device.minimum_distance_x: <b>satisfied</b></li><li>device.minimum_distance_y: <b>satisfied</b></li><li>options.boundary_padding: <b>optional</b></li><li>device.installation_depth_min: <b>satisfied</b></li><li>device.wave_data_directory: <b>satisfied</b></li><li>options.user_array_layout: <b>satisfied</b></li><li>farm.rated_power: <b>satisfied</b></li><li>site.lease_boundary: <b>satisfied</b></li><li>options.optimisation_threshold: <b>satisfied</b></li></ul>"
      ],
      "text/plain": [
       "<IPython.core.display.HTML object>"
      ]
     },
     "execution_count": 23,
     "metadata": {},
     "output_type": "execute_result"
    }
   ],
   "source": [
    "input_status = hydro_branch.get_input_status(new_core, new_project)\n",
    "message = html_dict(input_status)\n",
    "HTML(message)"
   ]
  },
  {
   "cell_type": "code",
   "execution_count": 24,
   "metadata": {
    "collapsed": false,
    "scrolled": true
   },
   "outputs": [
    {
     "data": {
      "text/html": [
       "<ul><li>device.constant_power_factor: <b>satisfied</b></li><li>component.power_quality: <b>satisfied</b></li><li>corridor.shipping_hist: <b>satisfied</b></li><li>component.switchgear: <b>satisfied</b></li><li>component.collection_points: <b>satisfied</b></li><li>component.dry_mate_connectors: <b>satisfied</b></li><li>corridor.nogo_areas: <b>optional</b></li><li>device.voltage: <b>satisfied</b></li><li>farm.shipping_hist: <b>satisfied</b></li><li>corridor.max_seabed_temp: <b>satisfied</b></li><li>farm.target_burial_depth: <b>satisfied</b></li><li>farm.direction_of_max_surface_current: <b>satisfied</b></li><li>farm.network_configuration: <b>satisfied</b></li><li>farm.collection_point_type: <b>satisfied</b></li><li>component.static_cable: <b>satisfied</b></li><li>farm.devices_per_string: <b>satisfied</b></li><li>farm.wave_direction_100_year: <b>satisfied</b></li><li>corridor.target_burial_depth: <b>satisfied</b></li><li>farm.annual_energy: <b>unavailable</b></li><li>component.transformers: <b>satisfied</b></li><li>component.dynamic_cable: <b>satisfied</b></li><li>corridor.wave_direction: <b>satisfied</b></li><li>component.collection_point_foundations: <b>satisfied</b></li><li>device.connector_type: <b>satisfied</b></li><li>component.installation_soil_compatibility: <b>satisfied</b></li><li>component.collection_point_cog: <b>satisfied</b></li><li>bathymetry.max_seabed_temp: <b>satisfied</b></li><li>farm.offshore_reactive_limit: <b>optional</b></li><li>farm.control_signal_cable: <b>satisfied</b></li><li>farm.layout: <b>unavailable</b></li><li>device.power_rating: <b>unavailable</b></li><li>component.wet_mate_connectors: <b>satisfied</b></li><li>farm.nogo_areas: <b>unavailable_option</b></li><li>bathymetry.max_soil_resistivity: <b>satisfied</b></li><li>farm.ac_power_flow: <b>satisfied</b></li><li>corridor.tidal_current_direction: <b>satisfied</b></li><li>device.prescribed_footprint_radius: <b>satisfied</b></li><li>component.equipment_gradient_constraint: <b>satisfied</b></li><li>farm.onshore_infrastructure_cost: <b>satisfied</b></li><li>farm.max_surface_current_10_year: <b>satisfied</b></li><li>device.system_type: <b>unavailable</b></li><li>corridor.tidal_current_flow: <b>satisfied</b></li><li>corridor.landing_point: <b>unavailable</b></li><li>farm.connector_type: <b>satisfied</b></li><li>farm.main_direction: <b>unavailable_option</b></li><li>farm.mean_power_hist_per_device: <b>unavailable</b></li><li>farm.voltage_limit_min: <b>satisfied</b></li><li>farm.control_signal_channels: <b>satisfied</b></li><li>bathymetry.layers: <b>unavailable</b></li><li>farm.onshore_losses: <b>optional</b></li><li>corridor.max_soil_resistivity: <b>satisfied</b></li><li>corridor.number_of_export_cables: <b>optional</b></li><li>farm.voltage_limit_max: <b>satisfied</b></li><li>corridor.voltage: <b>satisfied</b></li><li>device.power_factor: <b>optional</b></li><li>corridor.layers: <b>satisfied</b></li><li>device.footprint_coords: <b>optional</b></li><li>farm.control_signal_type: <b>satisfied</b></li></ul>"
      ],
      "text/plain": [
       "<IPython.core.display.HTML object>"
      ]
     },
     "execution_count": 24,
     "metadata": {},
     "output_type": "execute_result"
    }
   ],
   "source": [
    "input_status = electro_branch.get_input_status(new_core, new_project)\n",
    "message = html_dict(input_status)\n",
    "HTML(message)"
   ]
  },
  {
   "cell_type": "code",
   "execution_count": 25,
   "metadata": {
    "collapsed": false
   },
   "outputs": [
    {
     "data": {
      "text/html": [
       "<ul><li>farm.mean_wind_speed_100_year: <b>satisfied</b></li><li>device.system_profile: <b>satisfied</b></li><li>device.system_type: <b>unavailable</b></li><li>device.wet_beam_area: <b>satisfied</b></li><li>device.system_height: <b>satisfied</b></li><li>device.foundation_type: <b>optional</b></li><li>farm.substation_props: <b>unavailable_option</b></li><li>farm.mean_wind_direction_100_year: <b>satisfied</b></li><li>device.coordinate_system: <b>unavailable</b></li><li>project.cost_of_steel: <b>satisfied</b></li><li>farm.current_profile: <b>satisfied</b></li><li>constants.sea_water_density: <b>satisfied</b></li><li>farm.substation_layout: <b>unavailable_option</b></li><li>constants.rectangular_drift: <b>satisfied</b></li><li>constants.rectangular_wave_inertia: <b>satisfied</b></li><li>device.system_mass: <b>satisfied</b></li><li>bathymetry.pile_Bm_moment_coefficient: <b>satisfied</b></li><li>constants.rectangular_current_drag: <b>satisfied</b></li><li>component.foundations_anchor_soft: <b>satisfied</b></li><li>device.system_displaced_volume: <b>satisfied</b></li><li>farm.substation_foundation_location: <b>unavailable_option</b></li><li>device.dry_frontal_area: <b>satisfied</b></li><li>constants.air_density: <b>satisfied</b></li><li>constants.cylinder_drag: <b>satisfied</b></li><li>device.prescribed_footprint_radius: <b>unavailable_option</b></li><li>farm.max_gust_wind_direction_100_year: <b>satisfied</b></li><li>farm.substation_cog: <b>unavailable_option</b></li><li>constants.steel_density: <b>satisfied</b></li><li>farm.main_direction: <b>unavailable</b></li><li>device.system_roughness: <b>satisfied</b></li><li>bathymetry.layers: <b>unavailable</b></li><li>bathymetry.soil_drained_holding_capacity_factor: <b>satisfied</b></li><li>project.cost_of_grout: <b>satisfied</b></li><li>device.external_forces: <b>unavailable_option</b></li><li>device.system_width: <b>satisfied</b></li><li>farm.max_water_level_50_year: <b>satisfied</b></li><li>farm.grout_strength_safety_factor: <b>satisfied</b></li><li>farm.wave_gamma_100_year: <b>satisfied</b></li><li>constants.gravity: <b>satisfied</b></li><li>component.predefined_mooring_list: <b>optional</b></li><li>device.dry_beam_area: <b>satisfied</b></li><li>device.wet_frontal_area: <b>satisfied</b></li><li>bathymetry.soil_sensitivity: <b>satisfied</b></li><li>farm.max_tp_100_year: <b>satisfied</b></li><li>device.system_centre_of_gravity: <b>satisfied</b></li><li>constants.concrete_density: <b>satisfied</b></li><li>farm.direction_of_max_surface_current: <b>unavailable</b></li><li>farm.wave_direction_100_year: <b>unavailable</b></li><li>component.foundations_pile: <b>satisfied</b></li><li>farm.layout: <b>unavailable</b></li><li>device.foundation_location: <b>satisfied</b></li><li>farm.max_gust_wind_speed_100_year: <b>satisfied</b></li><li>bathymetry.soilprops: <b>satisfied</b></li><li>component.foundations_anchor: <b>satisfied</b></li><li>bathymetry.line_bearing_capacity_factor: <b>satisfied</b></li><li>constants.cylinder_wake_amplificiation: <b>satisfied</b></li><li>bathymetry.soil_cohesive_reaction_coefficient: <b>satisfied</b></li><li>farm.min_water_level_50_year: <b>satisfied</b></li><li>device.system_length: <b>satisfied</b></li><li>component.foundations_anchor_sand: <b>satisfied</b></li><li>device.foundation_safety_factor: <b>satisfied</b></li><li>bathymetry.pile_Am_moment_coefficient: <b>satisfied</b></li><li>farm.max_surface_current_10_year: <b>unavailable</b></li><li>farm.max_hs_100_year: <b>satisfied</b></li><li>bathymetry.soil_cohesionless_reaction_coefficient: <b>satisfied</b></li><li>bathymetry.pile_skin_friction_end_bearing_capacity: <b>satisfied</b></li><li>component.fabrication_cost: <b>optional</b></li><li>constants.grout_density: <b>satisfied</b></li><li>project.cost_of_concrete: <b>satisfied</b></li><li>constants.grout_compressive_strength: <b>satisfied</b></li><li>constants.rectangular_wind_drag: <b>satisfied</b></li><li>bathymetry.pile_deflection_coefficients: <b>satisfied</b></li></ul>"
      ],
      "text/plain": [
       "<IPython.core.display.HTML object>"
      ]
     },
     "execution_count": 25,
     "metadata": {},
     "output_type": "execute_result"
    }
   ],
   "source": [
    "input_status = moorings_branch.get_input_status(new_core, new_project)\n",
    "message = html_dict(input_status)\n",
    "HTML(message)"
   ]
  },
  {
   "cell_type": "markdown",
   "metadata": {},
   "source": [
    "## Prepare the Economics Theme"
   ]
  },
  {
   "cell_type": "code",
   "execution_count": 26,
   "metadata": {
    "collapsed": false
   },
   "outputs": [
    {
     "data": {
      "text/html": [
       "<ul><li>project.annual_opex_estimate: <b>optional</b></li><li>farm.moorings_foundations_economics_data: <b>unavailable_option</b></li><li>project.moorings_cost_estimate: <b>optional</b></li><li>project.electrical_cost_estimate: <b>optional</b></li><li>project.lifetime: <b>optional</b></li><li>farm.electrical_economics_data: <b>unavailable_option</b></li><li>farm.annual_energy: <b>unavailable_option</b></li><li>device.system_cost: <b>optional</b></li><li>project.discount_rate: <b>required</b></li><li>project.installation_cost_estimate: <b>optional</b></li><li>farm.number_of_devices: <b>unavailable_option</b></li></ul>"
      ],
      "text/plain": [
       "<IPython.core.display.HTML object>"
      ]
     },
     "execution_count": 26,
     "metadata": {},
     "output_type": "execute_result"
    }
   ],
   "source": [
    "theme_name = \"Economics\"\n",
    "input_status = eco_branch.get_input_status(new_core, new_project)\n",
    "message = html_dict(input_status)\n",
    "HTML(message)"
   ]
  },
  {
   "cell_type": "markdown",
   "metadata": {},
   "source": [
    "## Set the discount rate, device cost and project lifetime"
   ]
  },
  {
   "cell_type": "code",
   "execution_count": 27,
   "metadata": {
    "collapsed": false
   },
   "outputs": [
    {
     "name": "stdout",
     "output_type": "stream",
     "text": [
      "2016-09-23 16:38:02,698 - INFO - aneris.control.data - New \"project.discount_rate\" data stored with index GKM2HM\n",
      "2016-09-23 16:38:02,698 - INFO - aneris.control.simulation - Datastate stored\n",
      "2016-09-23 16:38:02,719 - INFO - aneris.control.data - New \"device.system_cost\" data stored with index QZIT8D\n",
      "2016-09-23 16:38:02,719 - INFO - aneris.control.simulation - Datastate stored\n"
     ]
    }
   ],
   "source": [
    "discount_rate = 0.05\n",
    "device_cost = 1000000\n",
    "\n",
    "new_var = eco_branch.get_input_variable(new_core, new_project,\n",
    "                                        \"project.discount_rate\")\n",
    "new_var.set_raw_interface(new_core, discount_rate)\n",
    "new_var.read(new_core, new_project)\n",
    "\n",
    "new_var = eco_branch.get_input_variable(new_core, new_project,\n",
    "                                        \"device.system_cost\")\n",
    "new_var.set_raw_interface(new_core, device_cost)\n",
    "new_var.read(new_core, new_project)"
   ]
  },
  {
   "cell_type": "markdown",
   "metadata": {},
   "source": [
    "## Check if the modules can be executed"
   ]
  },
  {
   "cell_type": "code",
   "execution_count": 28,
   "metadata": {
    "collapsed": false
   },
   "outputs": [
    {
     "data": {
      "text/plain": [
       "True"
      ]
     },
     "metadata": {},
     "output_type": "display_data"
    },
    {
     "data": {
      "text/plain": [
       "False"
      ]
     },
     "metadata": {},
     "output_type": "display_data"
    },
    {
     "data": {
      "text/plain": [
       "False"
      ]
     },
     "metadata": {},
     "output_type": "display_data"
    },
    {
     "data": {
      "text/html": [
       "<ul><li>options.user_array_option: <b>satisfied</b></li><li>device.power_rating: <b>satisfied</b></li><li>farm.wave_series: <b>satisfied</b></li><li>farm.nogo_areas: <b>optional</b></li><li>farm.point_sea_surface_height: <b>satisfied</b></li><li>farm.spectrum_name: <b>satisfied</b></li><li>farm.spec_spread: <b>satisfied</b></li><li>device.installation_depth_max: <b>satisfied</b></li><li>device.yaw: <b>satisfied</b></li><li>device.system_type: <b>satisfied</b></li><li>device.coordinate_system: <b>satisfied</b></li><li>corridor.landing_point: <b>satisfied</b></li><li>farm.mannings: <b>satisfied</b></li><li>farm.main_direction: <b>optional</b></li><li>bathymetry.layers: <b>satisfied</b></li><li>options.power_bin_width: <b>optional</b></li><li>farm.spec_gamma: <b>satisfied</b></li><li>device.minimum_distance_x: <b>satisfied</b></li><li>device.minimum_distance_y: <b>satisfied</b></li><li>options.boundary_padding: <b>optional</b></li><li>device.installation_depth_min: <b>satisfied</b></li><li>device.wave_data_directory: <b>satisfied</b></li><li>options.user_array_layout: <b>satisfied</b></li><li>farm.rated_power: <b>satisfied</b></li><li>site.lease_boundary: <b>satisfied</b></li><li>options.optimisation_threshold: <b>satisfied</b></li></ul><ul><li>project.annual_opex_estimate: <b>optional</b></li><li>farm.moorings_foundations_economics_data: <b>unavailable_option</b></li><li>project.moorings_cost_estimate: <b>optional</b></li><li>project.electrical_cost_estimate: <b>optional</b></li><li>project.lifetime: <b>optional</b></li><li>farm.electrical_economics_data: <b>unavailable_option</b></li><li>farm.annual_energy: <b>unavailable_option</b></li><li>device.system_cost: <b>satisfied</b></li><li>project.discount_rate: <b>satisfied</b></li><li>project.installation_cost_estimate: <b>optional</b></li><li>farm.number_of_devices: <b>unavailable_option</b></li></ul>"
      ],
      "text/plain": [
       "<IPython.core.display.HTML object>"
      ]
     },
     "execution_count": 28,
     "metadata": {},
     "output_type": "execute_result"
    }
   ],
   "source": [
    "can_execute = module_menu.is_executable(new_core, new_project, 'Hydrodynamics')\n",
    "display(can_execute)\n",
    "\n",
    "can_execute = module_menu.is_executable(new_core, new_project, 'Electrical Sub Systems')\n",
    "display(can_execute)\n",
    "\n",
    "can_execute = module_menu.is_executable(new_core, new_project, 'Mooring and Foundations')\n",
    "display(can_execute)\n",
    "\n",
    "input_status = hydro_branch.get_input_status(new_core, new_project)\n",
    "message = html_dict(input_status)\n",
    "\n",
    "input_status = eco_branch.get_input_status(new_core, new_project)\n",
    "message += html_dict(input_status)\n",
    "HTML(message)"
   ]
  },
  {
   "cell_type": "markdown",
   "metadata": {},
   "source": [
    "## See what execution strategies are available\n",
    "\n",
    "First the strategy manager in required to collect the strategy plugins."
   ]
  },
  {
   "cell_type": "code",
   "execution_count": 29,
   "metadata": {
    "collapsed": false
   },
   "outputs": [],
   "source": [
    "strategy_manager = StrategyManager()"
   ]
  },
  {
   "cell_type": "code",
   "execution_count": 30,
   "metadata": {
    "collapsed": false
   },
   "outputs": [
    {
     "data": {
      "text/html": [
       "<ul><li>Unit Sensitivity</li><li>Basic</li></ul>"
      ],
      "text/plain": [
       "<IPython.core.display.HTML object>"
      ]
     },
     "execution_count": 30,
     "metadata": {},
     "output_type": "execute_result"
    }
   ],
   "source": [
    "strategy_list = strategy_manager.get_available_strategies()\n",
    "message = html_list(strategy_list)\n",
    "HTML(message)"
   ]
  },
  {
   "cell_type": "markdown",
   "metadata": {},
   "source": [
    "## Execute the Basic strategy\n",
    "\n",
    "The \"basic\" strategy simply exectutes the chosen modules in sequence "
   ]
  },
  {
   "cell_type": "code",
   "execution_count": 31,
   "metadata": {
    "collapsed": false
   },
   "outputs": [
    {
     "name": "stdout",
     "output_type": "stream",
     "text": [
      "2016-09-23 16:38:02,809 - INFO - aneris.control.simulation - Datastate with level \"hydrodynamics start\" stored\n",
      "No NOGO areas related to the machine depthinstallation constraints have been found.\n",
      "2016-09-23 16:38:02,858 - WARNING - dtocean_hydro.input - [Warning] The wave module cannot run with variable bathymetry\n",
      "The bathymetry is reduced to its average value.\n",
      "2016-09-23 16:38:02,858 - INFO - dtocean_hydro.input - The averge bathymetry value is -80.0 m\n",
      "2016-09-23 16:38:03,668 - WARNING - dtocean_hydro.input - ('The rated power specified in the GUI is smaller', 'then the rated power extracted from the machine data!', 'This situation can lead to unexpected/unrealistic high yield.')\n",
      "2016-09-23 16:38:03,678 - WARNING - dtocean_hydro.input - ('The range of Wave Periods specified in the machine power matrix', 'does not cover the given site', 'Due to the model linearity, this situation can bring unexpected/unrealistic results')\n",
      "2016-09-23 16:38:03,678 - WARNING - dtocean_hydro.input - ('The range of Wave Heighs specified in the machine power matrix', 'does not cover the given site', 'Due to the model linearity, this situation can bring unexpected/unrealistic results')\n",
      "2016-09-23 16:38:03,678 - WARNING - dtocean_hydro.input - ('The range of Wave Directions specified in the machine power matrix', 'does not cover the given site', 'Due to the model linearity, this situation can bring unexpected/unrealistic results')\n",
      "2016-09-23 16:38:03,678 - INFO - dtocean_hydro.input - --> MACHINE INPUT SUMMARY:\n",
      "\n",
      "{   'Clen': None,\n",
      "    'Floatflag': False,\n",
      "    'InstalDepth': (-inf, 0.0),\n",
      "    'MaxNumDevices': 5,\n",
      "    'MinDist': (40.0, 40.0),\n",
      "    'OptThreshold': 0.0,\n",
      "    'RatedPowerArray': 1.5,\n",
      "    'RatedPowerDevice': 0.3,\n",
      "    'Type': 'Wave',\n",
      "    'UserArray': {   'Option': 2,\n",
      "                     'Value': array([[ 1250.,   500.],\n",
      "       [ 1750.,   500.],\n",
      "       [ 1500.,  1250.],\n",
      "       [ 1250.,  2000.],\n",
      "       [ 1750.,  2000.]])},\n",
      "    'UserOutputTable': None,\n",
      "    'YawAngle': 360.0,\n",
      "    'lCS': array([ 0.,  0.,  0.]),\n",
      "    'tidalFlag': False,\n",
      "    'tidal_bidirectional': None,\n",
      "    'tidal_cutinout': None,\n",
      "    'tidal_data_folder': None,\n",
      "    'tidal_power_curve': None,\n",
      "    'tidal_thrust_curve': None,\n",
      "    'tidal_velocity_curve': None,\n",
      "    'wave_data_folder': 'D:\\\\Usuarios\\\\108630\\\\Programming\\\\Python\\\\notebooks\\\\rm3'}\n",
      "2016-09-23 16:38:03,698 - INFO - dtocean_hydro.input - --> SITE INPUT SUMMARY:\n",
      "\n",
      "{   'BR': None,\n",
      "    'Bathymetry': array([[ 1000.,     0.,   -80.],\n",
      "       [ 1010.,     0.,   -80.],\n",
      "       [ 1020.,     0.,   -80.],\n",
      "       ..., \n",
      "       [ 1980.,  2500.,   -80.],\n",
      "       [ 1990.,  2500.,   -80.],\n",
      "       [ 2000.,  2500.,   -80.]]),\n",
      "    'Geophysics': array([[  1.00000000e+03,   0.00000000e+00,   3.00000000e-01],\n",
      "       [  1.01000000e+03,   0.00000000e+00,   3.00000000e-01],\n",
      "       [  1.02000000e+03,   0.00000000e+00,   3.00000000e-01],\n",
      "       ..., \n",
      "       [  1.98000000e+03,   2.50000000e+03,   3.00000000e-01],\n",
      "       [  1.99000000e+03,   2.50000000e+03,   3.00000000e-01],\n",
      "       [  2.00000000e+03,   2.50000000e+03,   3.00000000e-01]]),\n",
      "    'LeaseArea': array([[ 1000.,     0.],\n",
      "       [ 1000.,  2500.],\n",
      "       [ 2000.,  2500.],\n",
      "       [ 2000.,     0.],\n",
      "       [ 1000.,     0.]]),\n",
      "    'Main_Direction': array([ 0.80115264,  0.59846007]),\n",
      "    'MeteoceanConditions': {   'B': array([ 4.71238898,  3.69468613,  2.67698328,  1.65928043,  0.64157758,\n",
      "        5.90706004,  4.88935719,  3.87165434]),\n",
      "                               'Hs': array([  0.25,   0.75,   1.25,   1.75,   2.25,   2.75,   3.25,   3.75,\n",
      "         4.25,   4.75,   5.25,   5.75,   6.25,   6.75,   7.25,   7.75,\n",
      "         8.25,   8.75,   9.25,   9.75,  10.25,  10.75,  11.25,  11.75,\n",
      "        12.25,  12.75,  13.25,  13.75,  14.25,  14.75]),\n",
      "                               'SSH': 0.0,\n",
      "                               'Tp': array([  0.55278611,   1.65835834,   2.76393057,   3.8695028 ,\n",
      "         4.97507502,   6.08064725,   7.18621948,   8.29179171,\n",
      "         9.39736393,  10.50293616,  11.60850839,  12.71408062,\n",
      "        13.81965285,  14.92522507,  16.0307973 ,  17.13636953,\n",
      "        18.24194176,  19.34751398,  20.45308621,  21.55865844,\n",
      "        22.66423067,  23.76980289,  24.87537512,  25.98094735,\n",
      "        27.08651958,  28.1920918 ,  29.29766403,  30.40323626]),\n",
      "                               'p': array([[[ 0.   ,  0.   ,  0.   , ...,  0.   ,  0.   ,  0.   ],\n",
      "        [ 0.   ,  0.   ,  0.   , ...,  0.   ,  0.   ,  0.   ],\n",
      "        [ 0.   ,  0.   ,  0.   , ...,  0.   ,  0.   ,  0.   ],\n",
      "        ..., \n",
      "        [ 0.   ,  0.   ,  0.   , ...,  0.   ,  0.   ,  0.   ],\n",
      "        [ 0.   ,  0.   ,  0.   , ...,  0.   ,  0.   ,  0.   ],\n",
      "        [ 0.   ,  0.   ,  0.   , ...,  0.   ,  0.   ,  0.   ]],\n",
      "\n",
      "       [[ 0.   ,  0.   ,  0.   , ...,  0.   ,  0.   ,  0.   ],\n",
      "        [ 0.   ,  0.   ,  0.   , ...,  0.   ,  0.   ,  0.   ],\n",
      "        [ 0.   ,  0.   ,  0.   , ...,  0.001,  0.   ,  0.   ],\n",
      "        ..., \n",
      "        [ 0.   ,  0.   ,  0.   , ...,  0.   ,  0.   ,  0.   ],\n",
      "        [ 0.   ,  0.   ,  0.   , ...,  0.   ,  0.   ,  0.   ],\n",
      "        [ 0.   ,  0.   ,  0.   , ...,  0.   ,  0.   ,  0.   ]],\n",
      "\n",
      "       [[ 0.   ,  0.   ,  0.   , ...,  0.001,  0.   ,  0.   ],\n",
      "        [ 0.   ,  0.   ,  0.   , ...,  0.   ,  0.001,  0.   ],\n",
      "        [ 0.001,  0.   ,  0.   , ...,  0.   ,  0.   ,  0.   ],\n",
      "        ..., \n",
      "        [ 0.   ,  0.   ,  0.   , ...,  0.   ,  0.   ,  0.   ],\n",
      "        [ 0.   ,  0.   ,  0.   , ...,  0.   ,  0.   ,  0.   ],\n",
      "        [ 0.   ,  0.   ,  0.   , ...,  0.   ,  0.   ,  0.   ]],\n",
      "\n",
      "       ..., \n",
      "       [[ 0.   ,  0.   ,  0.   , ...,  0.   ,  0.   ,  0.   ],\n",
      "        [ 0.   ,  0.   ,  0.   , ...,  0.   ,  0.   ,  0.   ],\n",
      "        [ 0.   ,  0.   ,  0.   , ...,  0.   ,  0.   ,  0.   ],\n",
      "        ..., \n",
      "        [ 0.   ,  0.   ,  0.   , ...,  0.   ,  0.   ,  0.   ],\n",
      "        [ 0.   ,  0.   ,  0.   , ...,  0.   ,  0.   ,  0.   ],\n",
      "        [ 0.   ,  0.   ,  0.   , ...,  0.   ,  0.   ,  0.   ]],\n",
      "\n",
      "       [[ 0.   ,  0.   ,  0.   , ...,  0.   ,  0.   ,  0.   ],\n",
      "        [ 0.   ,  0.   ,  0.   , ...,  0.   ,  0.   ,  0.   ],\n",
      "        [ 0.   ,  0.   ,  0.   , ...,  0.   ,  0.   ,  0.   ],\n",
      "        ..., \n",
      "        [ 0.   ,  0.   ,  0.   , ...,  0.   ,  0.   ,  0.   ],\n",
      "        [ 0.   ,  0.   ,  0.   , ...,  0.   ,  0.   ,  0.   ],\n",
      "        [ 0.   ,  0.   ,  0.   , ...,  0.   ,  0.   ,  0.   ]],\n",
      "\n",
      "       [[ 0.   ,  0.   ,  0.   , ...,  0.   ,  0.   ,  0.   ],\n",
      "        [ 0.   ,  0.   ,  0.   , ...,  0.   ,  0.   ,  0.   ],\n",
      "        [ 0.   ,  0.   ,  0.   , ...,  0.   ,  0.   ,  0.   ],\n",
      "        ..., \n",
      "        [ 0.   ,  0.   ,  0.   , ...,  0.   ,  0.   ,  0.   ],\n",
      "        [ 0.   ,  0.   ,  0.   , ...,  0.   ,  0.   ,  0.   ],\n",
      "        [ 0.   ,  0.   ,  0.   , ...,  0.   ,  0.   ,  0.   ]]]),\n",
      "                               'specType': ('Jonswap', 3.3, 0.0)},\n",
      "    'NogoAreas': None,\n",
      "    'NogoAreas_bathymetry': None,\n",
      "    'VelocityShear': None,\n",
      "    '_LeaseArea': array([[ 1000.,     0.],\n",
      "       [ 2000.,     0.],\n",
      "       [ 2000.,  2500.],\n",
      "       [ 1000.,  2500.],\n",
      "       [ 1000.,     0.]]),\n",
      "    '_average_water_depth': -80.0,\n",
      "    'boundary_padding': None,\n",
      "    'electrical_connection_point': array([    0.,  1250.]),\n",
      "    'mainAngle': 0.64157758141311683}\n",
      "2016-09-23 16:38:03,878 - INFO - dtocean_hydro.main - Finishing the WP2 task: Evaluation of the final array layout interaction\n",
      "2016-09-23 16:38:03,878 - WARNING - dtocean_hydro.main - ('The given BEM solution for the isolated device is calculated at a water depth of 50.0m ', 'while the average bathymetry of the lease area minus the input nogo-zones is 80.0m\\n', 'and the average installation depth of the different machines with the given array layout is 80.0m.\\n ', 'The BEM software should be run with a water depth close to the average water depth of ', 'the lease area to minimise the errors itroduced with the flat bathymetry approximation.\\n ', 'With the actual hydrodynamic model the accuracy of the results is reduced. \\n', 'Consider to re-evaluate the hydrodynamic model of the isolated device for the actual average bathymetry [80.0m]\\n', 'This value is calculated by averaging the bathymetry gridpoints that satify the following three conditions:\\n', '\\t --> point inside the lease area\\n', '\\t --> point outside the user-given nogo-zones\\n', '\\t --> point below the considered water level datum.')\n",
      "2016-09-23 16:38:17,959 - INFO - dtocean_hydro.output - \n",
      "\n",
      "2016-09-23 16:38:17,959 - INFO - dtocean_hydro.output - Results Summary\n",
      "2016-09-23 16:38:17,959 - INFO - dtocean_hydro.output - -----------------------------------\n",
      "\n",
      "2016-09-23 16:38:17,959 - INFO - dtocean_hydro.output - Annual Energy Production of the Array\n",
      "2016-09-23 16:38:17,959 - INFO - dtocean_hydro.output - 22615087847.7\n",
      "2016-09-23 16:38:17,959 - INFO - dtocean_hydro.output - Annual Energy Production of each device\n",
      "2016-09-23 16:38:17,959 - INFO - dtocean_hydro.output - Device listed with ascending ID from 0 to Nbody-1\n",
      "2016-09-23 16:38:17,959 - INFO - dtocean_hydro.output - [  4.39517720e+09   4.36946361e+09   4.51914302e+09   4.55481298e+09\n",
      "   4.77649104e+09]\n",
      "2016-09-23 16:38:17,959 - INFO - dtocean_hydro.output - Array Layout\n",
      "2016-09-23 16:38:17,959 - INFO - dtocean_hydro.output - {'Device001': [1250.0, 500.0],\n",
      " 'Device002': [1750.0, 500.0],\n",
      " 'Device003': [1500.0, 1250.0],\n",
      " 'Device004': [1250.0, 2000.0],\n",
      " 'Device005': [1750.0, 2000.0]}\n",
      "2016-09-23 16:38:17,959 - INFO - dtocean_hydro.output - q-factor of the array\n",
      "2016-09-23 16:38:17,959 - INFO - dtocean_hydro.output - 0.846570717662\n",
      "2016-09-23 16:38:17,959 - INFO - dtocean_hydro.output - q-factor of each device\n",
      "2016-09-23 16:38:17,959 - INFO - dtocean_hydro.output - Device listed with ascending ID from 0 to Nbody-1\n",
      "2016-09-23 16:38:17,959 - INFO - dtocean_hydro.output - [ 0.82264291  0.81783011  0.84584552  0.85252185  0.89401321]\n",
      "2016-09-23 16:38:17,969 - INFO - dtocean_hydro.output - Max (normalised) resource reduction\n",
      "2016-09-23 16:38:17,969 - INFO - dtocean_hydro.output - 0.0301185001233\n",
      "2016-09-23 16:38:17,969 - INFO - dtocean_hydro.output - Mean power production of each device for each sea state\n",
      "2016-09-23 16:38:17,969 - INFO - dtocean_hydro.output - Device listed with ascending ID from 0 to Nbody-1\n",
      "2016-09-23 16:38:17,969 - INFO - dtocean_hydro.output - For an array of WECs the sea state are flattened in this order wave period, wave height and wave direction\n",
      "2016-09-23 16:38:17,969 - INFO - dtocean_hydro.output - [[ 0.  0.  0. ...,  0.  0.  0.]\n",
      " [ 0.  0.  0. ...,  0.  0.  0.]\n",
      " [ 0.  0.  0. ...,  0.  0.  0.]\n",
      " [ 0.  0.  0. ...,  0.  0.  0.]\n",
      " [ 0.  0.  0. ...,  0.  0.  0.]]\n",
      "2016-09-23 16:38:17,969 - INFO - dtocean_hydro.output - f_ex dictionary\n",
      "2016-09-23 16:38:17,969 - INFO - dtocean_hydro.output - {'fex': [[(-34.36511215999986-139335.57907771j),\n",
      "          (-193.35160737000075-240988.07786798j),\n",
      "          (-586.1280407199993-339762.73605911003j),\n",
      "          (-1349.9549026300035-434196.17002574995j),\n",
      "          (-2679.68609572-522763.89997364j),\n",
      "          (-4771.771237650001-605202.7051050499j),\n",
      "          (-7986.554280680003-678879.18675757j),\n",
      "          (-12341.380943670003-745276.1379560699j),\n",
      "          (-17107.579211739994-797738.79974357j),\n",
      "          (-20746.475833380002-837199.2247012798j),\n",
      "          (-22286.299864280005-863399.1372878001j),\n",
      "          (-14389.785018610011-861540.50087256j),\n",
      "          (-209.18164573000476-851742.74953517j),\n",
      "          (31050.068472779985-816563.33423118j),\n",
      "          (67116.11353377998-779852.16058653j),\n",
      "          (-2303583.6696354807-1711354.054292102j),\n",
      "          (153547.92736553997-646027.6644665399j),\n",
      "          (249558.76334855-651983.03810628j),\n",
      "          (343718.21183490986-602924.8115130999j),\n",
      "          (430135.4486264799-494667.00941678j),\n",
      "          (398761.73020324-358229.76405038j),\n",
      "          (427702.26306569-253089.82957758996j),\n",
      "          (445639.65623503993-138972.40123752j),\n",
      "          (417805.38723245997-40943.06023865002j),\n",
      "          (377725.20775733003+51263.08112432999j),\n",
      "          (333469.08438038005+146015.69696436994j),\n",
      "          (241971.13013315+200741.52695327994j),\n",
      "          (170301.45978521+243605.20773089j),\n",
      "          (81794.46749649002+253716.43452992j),\n",
      "          (-8116.840488419979+274433.22874086996j),\n",
      "          (-97189.27601132997+215509.18452241j),\n",
      "          (-157639.59756824997+182854.33198452j),\n",
      "          (-236267.49183402993+151126.861256j),\n",
      "          (-212412.70144064995+32060.298198470024j),\n",
      "          (-276399.14389537007-48924.40214046998j),\n",
      "          (-214258.70857136-128164.44162507994j),\n",
      "          (-146541.50525537974-285775.41906042973j),\n",
      "          (-68007.45500835004-173028.8680097701j),\n",
      "          (-266345.8444514694-329617.31202698953j),\n",
      "          (57662.63107782004-217700.64139241006j)],\n",
      "         [(382.91911470000036+1535947.73631168j),\n",
      "          (2118.3496476999985+2605298.6697597504j),\n",
      "          (6274.546772259998+3551606.24210066j),\n",
      "          (13842.02576623+4319408.3602707j),\n",
      "          (25732.196453149998+4846891.449470419j),\n",
      "          (42002.61410739999+5079686.394987129j),\n",
      "          (60873.405945899976+4964344.528574539j),\n",
      "          (77515.61737667+4494941.8040916305j),\n",
      "          (83710.44268783+3714064.66923346j),\n",
      "          (72768.91251789998+2720121.40952387j),\n",
      "          (47037.647062949996+1630586.3862904801j),\n",
      "          (19271.699890689986+593046.0066677302j),\n",
      "          (574.0367943399707-342966.09477898997j),\n",
      "          (54545.84339811998-1047370.6054906j),\n",
      "          (135488.96773287997-1587425.0649252904j),\n",
      "          (-5383938.797043972-3509455.0667204726j),\n",
      "          (517059.80505433-1968778.1661099298j),\n",
      "          (754050.40550899-2111941.6488378104j),\n",
      "          (1145924.37566345-2020051.7229560402j),\n",
      "          (1419721.5928283401-1734429.55893491j),\n",
      "          (1472796.8918545397-1310636.46564413j),\n",
      "          (1673947.5675357198-930697.1196200999j),\n",
      "          (1704300.79297653-515735.19904122j),\n",
      "          (1563254.4967921-113098.35413462002j),\n",
      "          (1500612.42395059+264574.29003193j),\n",
      "          (1283543.9016191298+575118.5136747699j),\n",
      "          (949525.9091656699+798972.9192813899j),\n",
      "          (621011.1354084199+883382.5972963299j),\n",
      "          (314805.8664375+937142.41157115j),\n",
      "          (55314.95217423+865281.9194961301j),\n",
      "          (-180374.61743071+740551.77263783j),\n",
      "          (-335785.47735213+513111.26076649997j),\n",
      "          (-387403.49624867+252928.43278811997j),\n",
      "          (-553482.02563659+160032.66319277j),\n",
      "          (-547793.6577032099-57139.49991865999j),\n",
      "          (-344708.68765906-221501.07864271995j),\n",
      "          (-224892.6046696799-485079.6239121197j),\n",
      "          (-101169.26134840006-150270.1546114201j),\n",
      "          (-324213.2709186994-170780.14486838965j),\n",
      "          (-113558.62132264997+132073.18036171002j)],\n",
      "         [(2559702.5522582997+8867.790598429994j),\n",
      "          (2513754.4815120497+22852.990366179984j),\n",
      "          (2446277.46088703+44412.54407202998j),\n",
      "          (2357929.38938378+74884.68679841j),\n",
      "          (2249344.83162427+115823.39324434997j),\n",
      "          (2121017.70899842+170034.99391850995j),\n",
      "          (1977573.87103705+241474.26805184j),\n",
      "          (1820288.5293080797+328772.93977498997j),\n",
      "          (1653728.76858108+417646.43370510003j),\n",
      "          (1482264.2667991+508668.04791773j),\n",
      "          (1309631.2880360398+604247.53819035j),\n",
      "          (1113079.7102751702+660812.4864537899j),\n",
      "          (942059.7669131501+724911.5380238699j),\n",
      "          (736605.90904501+747857.30117975j),\n",
      "          (573065.6532361999+772695.5507788801j),\n",
      "          (5996885.008063241+2352585.473991292j),\n",
      "          (266516.1715385599+688562.7913224599j),\n",
      "          (47880.09078149001+804484.94326335j),\n",
      "          (-170300.0069112799+809543.0097384j),\n",
      "          (-350040.18982420984+669738.9353656501j),\n",
      "          (-290705.3837117301+473584.32326259j),\n",
      "          (-364656.68748660997+353735.51514403j),\n",
      "          (-414326.37331781996+214651.80859828007j),\n",
      "          (-375952.7770541599+106939.05020782004j),\n",
      "          (-347441.87017591996+10446.363941650026j),\n",
      "          (-318823.05224691-95746.46791147994j),\n",
      "          (-205359.50744756998-133920.46953860993j),\n",
      "          (-143352.72658974-160330.47806336998j),\n",
      "          (-70737.78400788-150726.14729485998j),\n",
      "          (-13711.635489050026-165273.37915033993j),\n",
      "          (43724.55803165996-96967.34720392995j),\n",
      "          (61844.47706185996-52523.11302250999j),\n",
      "          (38981.77922460997-18553.50069660002j),\n",
      "          (247433.63322335994-47396.927182020045j),\n",
      "          (300509.64215292997+50141.17973145995j),\n",
      "          (221860.87967965993+151275.54056746984j),\n",
      "          (196607.76658768958+383177.4349592095j),\n",
      "          (31504.68724201009+85247.91865514021j),\n",
      "          (690352.7250070288+624400.3866977587j),\n",
      "          (-102932.44879032012+325653.2968475202j)]],\n",
      " 'mode_def': [1, 1, 1],\n",
      " 'wave_dir': array([ 0.]),\n",
      " 'wave_fr': array([ 0.01591549,  0.02775009,  0.03958469,  0.05141929,  0.06325389,\n",
      "        0.07508849,  0.08692308,  0.09875768,  0.11059228,  0.12242688,\n",
      "        0.13426148,  0.14609608,  0.15793067,  0.16976527,  0.18159987,\n",
      "        0.19343447,  0.20526907,  0.21710367,  0.22893826,  0.24077286,\n",
      "        0.25260746,  0.26444206,  0.27627666,  0.28811126,  0.29994585,\n",
      "        0.31178045,  0.32361505,  0.33544965,  0.34728425,  0.35911885,\n",
      "        0.37095344,  0.38278804,  0.39462264,  0.40645724,  0.41829184,\n",
      "        0.43012644,  0.44196103,  0.45379563,  0.46563023,  0.47746483])}\n",
      "2016-09-23 16:38:17,969 - INFO - dtocean_hydro.output - Power matrix\n",
      "2016-09-23 16:38:17,969 - INFO - dtocean_hydro.output - [[[  7.39084187e-04]\n",
      "  [  2.05301163e-03]\n",
      "  [  4.02390279e-03]\n",
      "  [  6.65175768e-03]\n",
      "  [  9.93657629e-03]\n",
      "  [  1.38783586e-02]\n",
      "  [  1.84771047e-02]\n",
      "  [  2.37328144e-02]\n",
      "  [  2.96454879e-02]\n",
      "  [  3.62151251e-02]\n",
      "  [  4.34417261e-02]\n",
      "  [  5.13252907e-02]\n",
      "  [  5.98658191e-02]\n",
      "  [  6.90633112e-02]\n",
      "  [  7.89177670e-02]\n",
      "  [  8.94291866e-02]\n",
      "  [  1.00597570e-01]]\n",
      "\n",
      " [[  8.44439405e+01]\n",
      "  [  2.34566501e+02]\n",
      "  [  4.59750342e+02]\n",
      "  [  7.59995464e+02]\n",
      "  [  1.13530187e+03]\n",
      "  [  1.58566955e+03]\n",
      "  [  2.11109851e+03]\n",
      "  [  2.71158875e+03]\n",
      "  [  3.38714028e+03]\n",
      "  [  4.13775308e+03]\n",
      "  [  4.96342717e+03]\n",
      "  [  5.86416253e+03]\n",
      "  [  6.83995918e+03]\n",
      "  [  7.89081710e+03]\n",
      "  [  9.01673631e+03]\n",
      "  [  1.02177168e+04]\n",
      "  [  1.14937586e+04]]\n",
      "\n",
      " [[  1.89767626e+03]\n",
      "  [  5.27132294e+03]\n",
      "  [  1.03317930e+04]\n",
      "  [  1.70790863e+04]\n",
      "  [  2.55132030e+04]\n",
      "  [  3.56341431e+04]\n",
      "  [  4.74419065e+04]\n",
      "  [  6.09364932e+04]\n",
      "  [  7.61179033e+04]\n",
      "  [  9.29861367e+04]\n",
      "  [  1.11541193e+05]\n",
      "  [  1.31783074e+05]\n",
      "  [  1.53711777e+05]\n",
      "  [  1.77327304e+05]\n",
      "  [  2.02629654e+05]\n",
      "  [  2.29618827e+05]\n",
      "  [  2.58294824e+05]]\n",
      "\n",
      " [[  9.89998235e+03]\n",
      "  [  2.74999510e+04]\n",
      "  [  5.38999039e+04]\n",
      "  [  8.90998411e+04]\n",
      "  [  1.33099763e+05]\n",
      "  [  1.85899669e+05]\n",
      "  [  2.47499559e+05]\n",
      "  [  3.17899433e+05]\n",
      "  [  3.97099292e+05]\n",
      "  [  4.85099135e+05]\n",
      "  [  5.81898962e+05]\n",
      "  [  6.87498774e+05]\n",
      "  [  8.01898570e+05]\n",
      "  [  9.25098350e+05]\n",
      "  [  1.05709812e+06]\n",
      "  [  1.19789786e+06]\n",
      "  [  1.34749760e+06]]\n",
      "\n",
      " [[  1.52258972e+04]\n",
      "  [  4.22941588e+04]\n",
      "  [  8.28965513e+04]\n",
      "  [  1.37033075e+05]\n",
      "  [  2.04703729e+05]\n",
      "  [  2.85908514e+05]\n",
      "  [  3.80647429e+05]\n",
      "  [  4.88920476e+05]\n",
      "  [  6.10727653e+05]\n",
      "  [  7.46068962e+05]\n",
      "  [  8.94944401e+05]\n",
      "  [  1.05735397e+06]\n",
      "  [  1.23329767e+06]\n",
      "  [  1.42277550e+06]\n",
      "  [  1.62578746e+06]\n",
      "  [  1.84233356e+06]\n",
      "  [  2.07241378e+06]]\n",
      "\n",
      " [[  1.71227021e+04]\n",
      "  [  4.75630614e+04]\n",
      "  [  9.32236003e+04]\n",
      "  [  1.54104319e+05]\n",
      "  [  2.30205217e+05]\n",
      "  [  3.21526295e+05]\n",
      "  [  4.28067552e+05]\n",
      "  [  5.49828989e+05]\n",
      "  [  6.86810606e+05]\n",
      "  [  8.39012402e+05]\n",
      "  [  1.00643438e+06]\n",
      "  [  1.18907653e+06]\n",
      "  [  1.38693887e+06]\n",
      "  [  1.60002138e+06]\n",
      "  [  1.82832408e+06]\n",
      "  [  2.07184695e+06]\n",
      "  [  2.33059001e+06]]\n",
      "\n",
      " [[  1.69952264e+04]\n",
      "  [  4.72089621e+04]\n",
      "  [  9.25295658e+04]\n",
      "  [  1.52957037e+05]\n",
      "  [  2.28491377e+05]\n",
      "  [  3.19132584e+05]\n",
      "  [  4.24880659e+05]\n",
      "  [  5.45735602e+05]\n",
      "  [  6.81697413e+05]\n",
      "  [  8.32766092e+05]\n",
      "  [  9.98941639e+05]\n",
      "  [  1.18022405e+06]\n",
      "  [  1.37661334e+06]\n",
      "  [  1.58810949e+06]\n",
      "  [  1.81471251e+06]\n",
      "  [  2.05642239e+06]\n",
      "  [  2.31323915e+06]]\n",
      "\n",
      " [[  1.55364895e+04]\n",
      "  [  4.31569153e+04]\n",
      "  [  8.45875540e+04]\n",
      "  [  1.39828406e+05]\n",
      "  [  2.08879470e+05]\n",
      "  [  2.91740748e+05]\n",
      "  [  3.88412238e+05]\n",
      "  [  4.98893941e+05]\n",
      "  [  6.23185857e+05]\n",
      "  [  7.61287986e+05]\n",
      "  [  9.13200328e+05]\n",
      "  [  1.07892288e+06]\n",
      "  [  1.25845565e+06]\n",
      "  [  1.45179863e+06]\n",
      "  [  1.65895183e+06]\n",
      "  [  1.87991523e+06]\n",
      "  [  2.11468885e+06]]\n",
      "\n",
      " [[  1.34895550e+04]\n",
      "  [  3.74709862e+04]\n",
      "  [  7.34431329e+04]\n",
      "  [  1.21405995e+05]\n",
      "  [  1.81359573e+05]\n",
      "  [  2.53303867e+05]\n",
      "  [  3.37238876e+05]\n",
      "  [  4.33164600e+05]\n",
      "  [  5.41081041e+05]\n",
      "  [  6.60988196e+05]\n",
      "  [  7.92886068e+05]\n",
      "  [  9.36774655e+05]\n",
      "  [  1.09265396e+06]\n",
      "  [  1.26052398e+06]\n",
      "  [  1.44038471e+06]\n",
      "  [  1.63223616e+06]\n",
      "  [  1.83607832e+06]]\n",
      "\n",
      " [[  1.13755338e+04]\n",
      "  [  3.15987051e+04]\n",
      "  [  6.19334620e+04]\n",
      "  [  1.02379805e+05]\n",
      "  [  1.52937733e+05]\n",
      "  [  2.13607247e+05]\n",
      "  [  2.84388346e+05]\n",
      "  [  3.65281031e+05]\n",
      "  [  4.56285302e+05]\n",
      "  [  5.57401158e+05]\n",
      "  [  6.68628600e+05]\n",
      "  [  7.89967628e+05]\n",
      "  [  9.21418241e+05]\n",
      "  [  1.06298044e+06]\n",
      "  [  1.21465422e+06]\n",
      "  [  1.37643960e+06]\n",
      "  [  1.54833655e+06]]\n",
      "\n",
      " [[  9.45242479e+03]\n",
      "  [  2.62567355e+04]\n",
      "  [  5.14632016e+04]\n",
      "  [  8.50718231e+04]\n",
      "  [  1.27082600e+05]\n",
      "  [  1.77495532e+05]\n",
      "  [  2.36310620e+05]\n",
      "  [  3.03527863e+05]\n",
      "  [  3.79147261e+05]\n",
      "  [  4.63168814e+05]\n",
      "  [  5.55592523e+05]\n",
      "  [  6.56418388e+05]\n",
      "  [  7.65646408e+05]\n",
      "  [  8.83276583e+05]\n",
      "  [  1.00930891e+06]\n",
      "  [  1.14374340e+06]\n",
      "  [  1.28658004e+06]]\n",
      "\n",
      " [[  7.80640108e+03]\n",
      "  [  2.16844474e+04]\n",
      "  [  4.25015170e+04]\n",
      "  [  7.02576097e+04]\n",
      "  [  1.04952726e+05]\n",
      "  [  1.46586865e+05]\n",
      "  [  1.95160027e+05]\n",
      "  [  2.50672212e+05]\n",
      "  [  3.13123421e+05]\n",
      "  [  3.82513653e+05]\n",
      "  [  4.58842908e+05]\n",
      "  [  5.42111186e+05]\n",
      "  [  6.32318487e+05]\n",
      "  [  7.29464812e+05]\n",
      "  [  8.33550159e+05]\n",
      "  [  9.44574530e+05]\n",
      "  [  1.06253792e+06]]\n",
      "\n",
      " [[  6.44184367e+03]\n",
      "  [  1.78940102e+04]\n",
      "  [  3.50722600e+04]\n",
      "  [  5.79765930e+04]\n",
      "  [  8.66070093e+04]\n",
      "  [  1.20963509e+05]\n",
      "  [  1.61046092e+05]\n",
      "  [  2.06854758e+05]\n",
      "  [  2.58389507e+05]\n",
      "  [  3.15650340e+05]\n",
      "  [  3.78637256e+05]\n",
      "  [  4.47350255e+05]\n",
      "  [  5.21789337e+05]\n",
      "  [  6.01954503e+05]\n",
      "  [  6.87845752e+05]\n",
      "  [  7.79463084e+05]\n",
      "  [  8.76806499e+05]]\n",
      "\n",
      " [[  5.32761294e+03]\n",
      "  [  1.47989248e+04]\n",
      "  [  2.90058927e+04]\n",
      "  [  4.79485165e+04]\n",
      "  [  7.16267962e+04]\n",
      "  [  1.00040732e+05]\n",
      "  [  1.33190324e+05]\n",
      "  [  1.71075571e+05]\n",
      "  [  2.13696475e+05]\n",
      "  [  2.61053034e+05]\n",
      "  [  3.13145250e+05]\n",
      "  [  3.69973121e+05]\n",
      "  [  4.31536648e+05]\n",
      "  [  4.97835832e+05]\n",
      "  [  5.68870671e+05]\n",
      "  [  6.44641166e+05]\n",
      "  [  7.25147317e+05]]]\n",
      "2016-09-23 16:38:17,979 - INFO - dtocean_hydro.output - Main Direction\n",
      "2016-09-23 16:38:17,979 - INFO - dtocean_hydro.output - [ 0.80115264  0.59846007]\n",
      "2016-09-23 16:38:25,519 - INFO - aneris.control.data - New \"farm.annual_energy\" data stored with index V9DY9N\n",
      "2016-09-23 16:38:25,519 - INFO - aneris.control.data - New \"farm.annual_energy_per_device\" data stored with index 3MAKE7\n",
      "2016-09-23 16:38:25,519 - INFO - aneris.control.data - New \"device.external_forces\" data stored with index AO0431\n",
      "2016-09-23 16:38:25,519 - INFO - aneris.control.data - New \"farm.layout\" data stored with index LKNBGK\n",
      "2016-09-23 16:38:25,529 - INFO - aneris.control.data - New \"farm.main_direction\" data stored with index QZC5KD\n",
      "2016-09-23 16:38:25,529 - INFO - aneris.control.data - New \"farm.mean_power_per_device\" data stored with index 20VP3P\n",
      "2016-09-23 16:38:25,529 - INFO - aneris.control.data - New \"farm.mean_power_pmf_per_device\" data stored with index KFTN36\n",
      "2016-09-23 16:38:25,529 - INFO - aneris.control.data - New \"farm.mean_power_hist_per_device\" data stored with index GXIF68\n",
      "2016-09-23 16:38:25,529 - INFO - aneris.control.data - New \"farm.number_of_devices\" data stored with index E3OQQA\n",
      "2016-09-23 16:38:25,529 - INFO - aneris.control.data - New \"farm.q_factor\" data stored with index BDW76L\n",
      "2016-09-23 16:38:25,529 - INFO - aneris.control.data - New \"farm.q_factor_per_device\" data stored with index GIOQVN\n",
      "2016-09-23 16:38:25,529 - INFO - aneris.control.data - New \"farm.resource_reduction\" data stored with index 552GIY\n",
      "2016-09-23 16:38:25,529 - INFO - aneris.control.data - New \"farm.wave_occurrence\" data stored with index HQQOMM\n",
      "2016-09-23 16:38:25,529 - INFO - aneris.control.simulation - Datastate with level \"hydrodynamics output\" stored\n",
      "2016-09-23 16:38:25,549 - INFO - dtocean_core.core - Auto executing interface Economics\n",
      "2016-09-23 16:38:25,559 - INFO - aneris.control.data - New \"project.capex_total\" data stored with index 995SMZ\n",
      "2016-09-23 16:38:25,559 - INFO - aneris.control.data - New \"project.discounted_capex\" data stored with index VZK1EM\n",
      "2016-09-23 16:38:25,559 - INFO - aneris.control.data - New \"project.capex_breakdown\" data stored with index NLRR4B\n",
      "2016-09-23 16:38:25,559 - INFO - aneris.control.simulation - Datastate with level \"hydrodynamics local output\" stored\n",
      "2016-09-23 16:38:25,598 - INFO - dtocean_core.core - Auto executing interface Economics\n",
      "2016-09-23 16:38:25,598 - INFO - aneris.control.data - New \"project.capex_total\" data stored with index T69Q10\n",
      "2016-09-23 16:38:25,598 - INFO - aneris.control.data - New \"project.discounted_capex\" data stored with index 08L81G\n",
      "2016-09-23 16:38:25,608 - INFO - aneris.control.data - New \"project.capex_breakdown\" data stored with index 0CO1RF\n",
      "2016-09-23 16:38:25,608 - INFO - aneris.control.simulation - Datastate with level \"hydrodynamics global output\" stored\n",
      "2016-09-23 16:38:25,658 - INFO - aneris.control.simulation - Datastate with level \"electrical sub systems start\" stored\n",
      "2016-09-23 16:38:26,489 - INFO - dtocean_electrical.main - Begin main run...\n",
      "2016-09-23 16:38:26,489 - INFO - dtocean_electrical.main - Merging bathymetry...\n",
      "2016-09-23 16:38:30,658 - INFO - dtocean_electrical.main - Checking neighbours...\n",
      "2016-09-23 16:41:30,428 - INFO - dtocean_electrical.main - Building graph...\n",
      "2016-09-23 16:41:30,848 - INFO - dtocean_electrical.main - Checking for exclusion zones...\n",
      "2016-09-23 16:41:30,878 - INFO - dtocean_electrical.main - Checking equipment soil compatibility...\n",
      "2016-09-23 16:41:38,418 - INFO - dtocean_electrical.main - Building network...\n",
      "2016-09-23 16:42:47,829 - INFO - dtocean_electrical.main - Network design complete...\n",
      "2016-09-23 16:42:48,029 - INFO - aneris.control.data - New \"farm.annual_energy\" data stored with index AJM1LC\n",
      "2016-09-23 16:42:48,039 - INFO - aneris.control.data - New \"farm.electrical_network\" data stored with index 3QZIKF\n",
      "2016-09-23 16:42:48,039 - INFO - aneris.control.data - New \"farm.electrical_component_data\" data stored with index J1898A\n",
      "2016-09-23 16:42:48,039 - INFO - aneris.control.data - New \"farm.electrical_economics_data\" data stored with index MQ6D6I\n",
      "2016-09-23 16:42:48,039 - INFO - aneris.control.data - New \"farm.cable_routes\" data stored with index AH6GFR\n",
      "2016-09-23 16:42:48,039 - INFO - aneris.control.data - New \"farm.substation_props\" data stored with index H0RWIU\n",
      "2016-09-23 16:42:48,039 - INFO - aneris.control.data - New \"farm.substation_layout\" data stored with index XVE7TM\n",
      "2016-09-23 16:42:48,039 - INFO - aneris.control.data - New \"farm.substation_cog\" data stored with index XRBZMU\n",
      "2016-09-23 16:42:48,039 - INFO - aneris.control.data - New \"farm.substation_foundation_location\" data stored with index ORP44F\n",
      "2016-09-23 16:42:48,039 - INFO - aneris.control.simulation - Datastate with level \"electrical sub systems output\" stored\n",
      "2016-09-23 16:42:48,059 - INFO - dtocean_core.core - Auto executing interface Economics\n",
      "2016-09-23 16:42:48,069 - INFO - aneris.control.data - New \"project.capex_total\" data stored with index 8L20DE\n",
      "2016-09-23 16:42:48,069 - INFO - aneris.control.data - New \"project.discounted_capex\" data stored with index JBXCSR\n",
      "2016-09-23 16:42:48,069 - INFO - aneris.control.data - New \"project.capex_breakdown\" data stored with index OG6OD5\n",
      "2016-09-23 16:42:48,069 - INFO - aneris.control.simulation - Datastate with level \"electrical sub systems local output\" stored\n",
      "2016-09-23 16:42:48,099 - INFO - dtocean_core.core - Auto executing interface Economics\n",
      "2016-09-23 16:42:48,099 - INFO - aneris.control.data - New \"project.capex_total\" data stored with index SAROJ5\n",
      "2016-09-23 16:42:48,099 - INFO - aneris.control.data - New \"project.discounted_capex\" data stored with index PX3GZ2\n",
      "2016-09-23 16:42:48,099 - INFO - aneris.control.data - New \"project.capex_breakdown\" data stored with index XUYMI4\n",
      "2016-09-23 16:42:48,099 - INFO - aneris.control.simulation - Datastate with level \"electrical sub systems global output\" stored\n",
      "2016-09-23 16:42:48,140 - INFO - aneris.control.simulation - Datastate with level \"mooring and foundations start\" stored\n",
      "2016-09-23 16:42:49,730 - INFO - dtocean_moorings.main - ===================================================================\n",
      "2016-09-23 16:42:49,730 - INFO - dtocean_moorings.main - Device ID: device001\n",
      "2016-09-23 16:42:49,730 - INFO - dtocean_moorings.main - ===================================================================\n",
      "2016-09-23 16:42:49,880 - INFO - dtocean_moorings.core - Foundation point coincides with grid line or grid point\n",
      "2016-09-23 16:42:50,059 - INFO - dtocean_moorings.core - Foundation point coincides with grid line or grid point\n",
      "2016-09-23 16:42:50,230 - INFO - dtocean_moorings.core - Foundation point coincides with grid line or grid point\n",
      "2016-09-23 16:42:50,400 - INFO - dtocean_moorings.core - Foundation point coincides with grid line or grid point\n",
      "2016-09-23 16:42:50,460 - WARNING - dtocean_moorings.core - WARNING: Reynolds number out of range for drag coefficient data\n",
      "2016-09-23 16:42:50,460 - WARNING - dtocean_moorings.core - WARNING: Reynolds number out of range for drag coefficient data\n",
      "2016-09-23 16:42:50,460 - WARNING - dtocean_moorings.core - WARNING: Reynolds number out of range for drag coefficient data\n",
      "2016-09-23 16:42:50,460 - WARNING - dtocean_moorings.core - WARNING: Reynolds number out of range for drag coefficient data\n",
      "2016-09-23 16:42:50,460 - WARNING - dtocean_moorings.core - WARNING: Reynolds number out of range for drag coefficient data\n",
      "2016-09-23 16:42:50,470 - WARNING - dtocean_moorings.core - WARNING: Reynolds number out of range for drag coefficient data\n",
      "2016-09-23 16:42:50,470 - WARNING - dtocean_moorings.core - WARNING: Reynolds number out of range for drag coefficient data\n",
      "2016-09-23 16:42:50,470 - WARNING - dtocean_moorings.core - WARNING: Reynolds number out of range for drag coefficient data\n",
      "2016-09-23 16:42:50,470 - WARNING - dtocean_moorings.core - WARNING: Reynolds number out of range for drag coefficient data\n",
      "2016-09-23 16:42:50,470 - WARNING - dtocean_moorings.core - WARNING: Reynolds number out of range for drag coefficient data\n",
      "2016-09-23 16:42:50,470 - INFO - dtocean_moorings.core - \n",
      "WAMIT/NEMOH parameters provided\n",
      "2016-09-23 16:42:50,470 - INFO - dtocean_moorings.core - \n",
      "FEX RAO values [[[  139335.58331554   240988.15543372   339763.24162636   434198.26858622\n",
      "     522770.76795974   605221.51652698   678926.16333582   745378.31434132\n",
      "     797922.21543381   837456.24249863   863686.71949438   861660.66438977\n",
      "     851742.77522189   817153.46512323   782734.92643893  2869709.1180385\n",
      "     664024.6300058    698112.78339703   694017.67807823   655524.18290285\n",
      "     536040.55940411   496974.53422396   466806.20338102   419806.71240724\n",
      "     381187.92748679   364036.00645744   314399.72719684   297230.69228898\n",
      "     266575.25028331   274553.23734506   236410.58348797   241424.8318773\n",
      "     280466.85346157   214818.57101724   280695.71402303   249665.61296209\n",
      "     321157.28685751   185913.96693486   423777.86780867   225207.78913147]]\n",
      "\n",
      " [[ 1535947.78404346  2605299.53096705  3551611.78465011  4319430.53937133\n",
      "    4846959.75523665  5079860.04639982  4964717.73315859  4495610.13580001\n",
      "    3715007.91458958  2721094.59541177  1631264.69446165   593359.05187434\n",
      "     342966.57517343  1048789.98578255  1593196.65990435  6426746.59805763\n",
      "    2035543.73801056  2242518.57119268  2322445.18517819  2241395.83653807\n",
      "    1971521.90698773  1915280.02843655  1780624.60627458  1567340.37766169\n",
      "    1523757.59288043  1406501.42273484  1240950.1109722   1079823.89467323\n",
      "     988604.38655149   867048.17867345   762202.02739845   613216.97035061\n",
      "     462659.9842415    576153.45698117   550765.66148482   409739.92627949\n",
      "     534676.46775395   181152.80513622   366442.49606326   174180.61157189]]\n",
      "\n",
      " [[ 2559717.91292473  2513858.35967156  2446680.58596026  2359118.20849161\n",
      "    2252324.85001108  2127822.36595111  1992262.09057434  1849741.05643435\n",
      "    1705651.60089019  1567115.35618853  1442306.90146447  1294457.25448139\n",
      "    1188685.55236303  1049704.15268679   962009.69699505  6441838.88438453\n",
      "     738342.45935429   805908.51033519   827261.73425965   755697.27803988\n",
      "     555690.31965571   508038.69380483   466628.05590878   390866.28280537\n",
      "     347598.87754557   332889.65853802   245167.73739738   215071.77038547\n",
      "     166499.8665606    165841.18548647   106369.6545018     81138.25697308\n",
      "      43171.88320672   251932.2757338    304664.04929322   268526.60781795\n",
      "     430673.38035281    90883.18300571   930839.79708269   341533.53973165]]]\n",
      "2016-09-23 16:42:50,470 - INFO - dtocean_moorings.core - \n",
      "fexfreqs, math.fabs(x - wavefreqs[tpind]) [array([ 0.01591549,  0.02775009,  0.03958469,  0.05141929,  0.06325389,\n",
      "        0.07508849,  0.08692308,  0.09875768,  0.11059228,  0.12242688,\n",
      "        0.13426148,  0.14609608,  0.15793067,  0.16976527,  0.18159987,\n",
      "        0.19343447,  0.20526907,  0.21710367,  0.22893826,  0.24077286,\n",
      "        0.25260746,  0.26444206,  0.27627666,  0.28811126,  0.29994585,\n",
      "        0.31178045,  0.32361505,  0.33544965,  0.34728425,  0.35911885,\n",
      "        0.37095344,  0.38278804,  0.39462264,  0.40645724,  0.41829184,\n",
      "        0.43012644,  0.44196103,  0.45379563,  0.46563023,  0.47746483]), 0.05]\n",
      "2016-09-23 16:42:50,470 - INFO - dtocean_moorings.core - \n",
      "fexfreqs, math.fabs(x - wavefreqs[tpind]) [array([ 0.01591549,  0.02775009,  0.03958469,  0.05141929,  0.06325389,\n",
      "        0.07508849,  0.08692308,  0.09875768,  0.11059228,  0.12242688,\n",
      "        0.13426148,  0.14609608,  0.15793067,  0.16976527,  0.18159987,\n",
      "        0.19343447,  0.20526907,  0.21710367,  0.22893826,  0.24077286,\n",
      "        0.25260746,  0.26444206,  0.27627666,  0.28811126,  0.29994585,\n",
      "        0.31178045,  0.32361505,  0.33544965,  0.34728425,  0.35911885,\n",
      "        0.37095344,  0.38278804,  0.39462264,  0.40645724,  0.41829184,\n",
      "        0.43012644,  0.44196103,  0.45379563,  0.46563023,  0.47746483]), 0.05]\n",
      "self.syswaveload[tpind]  [41986330.493579194, 4200004.8971866742, 23535231.494258784]\n",
      "2016-09-23 16:42:50,470 - WARNING - dtocean_moorings.core - WARNING: Reynolds number out of range for drag coefficient data\n",
      "2016-09-23 16:42:50,470 - WARNING - dtocean_moorings.core - WARNING: Reynolds number out of range for drag coefficient data\n",
      "2016-09-23 16:42:50,470 - WARNING - dtocean_moorings.core - WARNING: Reynolds number out of range for drag coefficient data\n",
      "2016-09-23 16:42:50,470 - WARNING - dtocean_moorings.core - WARNING: Reynolds number out of range for drag coefficient data\n",
      "2016-09-23 16:42:50,470 - WARNING - dtocean_moorings.core - WARNING: Reynolds number out of range for drag coefficient data\n",
      "2016-09-23 16:42:50,480 - WARNING - dtocean_moorings.core - WARNING: Reynolds number out of range for drag coefficient data\n",
      "2016-09-23 16:42:50,480 - WARNING - dtocean_moorings.core - WARNING: Reynolds number out of range for drag coefficient data\n",
      "2016-09-23 16:42:50,480 - WARNING - dtocean_moorings.core - WARNING: Reynolds number out of range for drag coefficient data\n",
      "2016-09-23 16:42:50,480 - WARNING - dtocean_moorings.core - WARNING: Reynolds number out of range for drag coefficient data\n",
      "2016-09-23 16:42:50,480 - WARNING - dtocean_moorings.core - WARNING: Reynolds number out of range for drag coefficient data\n",
      "2016-09-23 16:42:50,480 - INFO - dtocean_moorings.core - \n",
      "WAMIT/NEMOH parameters provided\n",
      "2016-09-23 16:42:50,490 - INFO - dtocean_moorings.core - \n",
      "FEX RAO values [[[  139335.58331554   240988.15543372   339763.24162636   434198.26858622\n",
      "     522770.76795974   605221.51652698   678926.16333582   745378.31434132\n",
      "     797922.21543381   837456.24249863   863686.71949438   861660.66438977\n",
      "     851742.77522189   817153.46512323   782734.92643893  2869709.1180385\n",
      "     664024.6300058    698112.78339703   694017.67807823   655524.18290285\n",
      "     536040.55940411   496974.53422396   466806.20338102   419806.71240724\n",
      "     381187.92748679   364036.00645744   314399.72719684   297230.69228898\n",
      "     266575.25028331   274553.23734506   236410.58348797   241424.8318773\n",
      "     280466.85346157   214818.57101724   280695.71402303   249665.61296209\n",
      "     321157.28685751   185913.96693486   423777.86780867   225207.78913147]]\n",
      "\n",
      " [[ 1535947.78404346  2605299.53096705  3551611.78465011  4319430.53937133\n",
      "    4846959.75523665  5079860.04639982  4964717.73315859  4495610.13580001\n",
      "    3715007.91458958  2721094.59541177  1631264.69446165   593359.05187434\n",
      "     342966.57517343  1048789.98578255  1593196.65990435  6426746.59805763\n",
      "    2035543.73801056  2242518.57119268  2322445.18517819  2241395.83653807\n",
      "    1971521.90698773  1915280.02843655  1780624.60627458  1567340.37766169\n",
      "    1523757.59288043  1406501.42273484  1240950.1109722   1079823.89467323\n",
      "     988604.38655149   867048.17867345   762202.02739845   613216.97035061\n",
      "     462659.9842415    576153.45698117   550765.66148482   409739.92627949\n",
      "     534676.46775395   181152.80513622   366442.49606326   174180.61157189]]\n",
      "\n",
      " [[ 2559717.91292473  2513858.35967156  2446680.58596026  2359118.20849161\n",
      "    2252324.85001108  2127822.36595111  1992262.09057434  1849741.05643435\n",
      "    1705651.60089019  1567115.35618853  1442306.90146447  1294457.25448139\n",
      "    1188685.55236303  1049704.15268679   962009.69699505  6441838.88438453\n",
      "     738342.45935429   805908.51033519   827261.73425965   755697.27803988\n",
      "     555690.31965571   508038.69380483   466628.05590878   390866.28280537\n",
      "     347598.87754557   332889.65853802   245167.73739738   215071.77038547\n",
      "     166499.8665606    165841.18548647   106369.6545018     81138.25697308\n",
      "      43171.88320672   251932.2757338    304664.04929322   268526.60781795\n",
      "     430673.38035281    90883.18300571   930839.79708269   341533.53973165]]]\n",
      "2016-09-23 16:42:50,490 - INFO - dtocean_moorings.core - \n",
      "fexfreqs, math.fabs(x - wavefreqs[tpind]) [array([ 0.01591549,  0.02775009,  0.03958469,  0.05141929,  0.06325389,\n",
      "        0.07508849,  0.08692308,  0.09875768,  0.11059228,  0.12242688,\n",
      "        0.13426148,  0.14609608,  0.15793067,  0.16976527,  0.18159987,\n",
      "        0.19343447,  0.20526907,  0.21710367,  0.22893826,  0.24077286,\n",
      "        0.25260746,  0.26444206,  0.27627666,  0.28811126,  0.29994585,\n",
      "        0.31178045,  0.32361505,  0.33544965,  0.34728425,  0.35911885,\n",
      "        0.37095344,  0.38278804,  0.39462264,  0.40645724,  0.41829184,\n",
      "        0.43012644,  0.44196103,  0.45379563,  0.46563023,  0.47746483]), 0.05]\n",
      "2016-09-23 16:42:50,490 - INFO - dtocean_moorings.core - \n",
      "fexfreqs, math.fabs(x - wavefreqs[tpind]) [array([ 0.01591549,  0.02775009,  0.03958469,  0.05141929,  0.06325389,\n",
      "        0.07508849,  0.08692308,  0.09875768,  0.11059228,  0.12242688,\n",
      "        0.13426148,  0.14609608,  0.15793067,  0.16976527,  0.18159987,\n",
      "        0.19343447,  0.20526907,  0.21710367,  0.22893826,  0.24077286,\n",
      "        0.25260746,  0.26444206,  0.27627666,  0.28811126,  0.29994585,\n",
      "        0.31178045,  0.32361505,  0.33544965,  0.34728425,  0.35911885,\n",
      "        0.37095344,  0.38278804,  0.39462264,  0.40645724,  0.41829184,\n",
      "        0.43012644,  0.44196103,  0.45379563,  0.46563023,  0.47746483]), 0.05]\n",
      "self.syswaveload[tpind]  [41986330.493579194, 4200004.8971866742, 23535231.494258784]\n",
      "2016-09-23 16:42:50,539 - INFO - dtocean_moorings.core - \n",
      "_______________________________________________________________________\n",
      "Foundation 0\n",
      "_______________________________________________________________________\n",
      "2016-09-23 16:42:50,539 - INFO - dtocean_moorings.core - \n",
      "%%%%%%%%%%%%%%%%%%%%%%%%%%%%%%%%%%%%%%%%%%%%%%%\n",
      "Pile foundation/anchor design\n",
      "%%%%%%%%%%%%%%%%%%%%%%%%%%%%%%%%%%%%%%%%%%%%%%%\n",
      "2016-09-23 16:42:51,569 - INFO - dtocean_moorings.core - \n",
      "%%%%%%%%%%%%%%%%%%%%%%%%%%%%%%%%%%%%%%%%%%%%%%%\n",
      "Gravity foundation/anchor design\n",
      "%%%%%%%%%%%%%%%%%%%%%%%%%%%%%%%%%%%%%%%%%%%%%%%\n",
      "2016-09-23 16:42:51,569 - INFO - dtocean_moorings.core - \n",
      "Solution found [13.25, 13.25, 3.25, 0.0, 0.0, [0, 0], [0, 0], 0, 0]\n",
      "2016-09-23 16:42:51,569 - INFO - dtocean_moorings.core - \n",
      "_______________________________________________________________________\n",
      "Foundation 1\n",
      "_______________________________________________________________________\n",
      "2016-09-23 16:42:51,569 - INFO - dtocean_moorings.core - \n",
      "%%%%%%%%%%%%%%%%%%%%%%%%%%%%%%%%%%%%%%%%%%%%%%%\n",
      "Pile foundation/anchor design\n",
      "%%%%%%%%%%%%%%%%%%%%%%%%%%%%%%%%%%%%%%%%%%%%%%%\n",
      "2016-09-23 16:42:52,579 - INFO - dtocean_moorings.core - \n",
      "%%%%%%%%%%%%%%%%%%%%%%%%%%%%%%%%%%%%%%%%%%%%%%%\n",
      "Gravity foundation/anchor design\n",
      "%%%%%%%%%%%%%%%%%%%%%%%%%%%%%%%%%%%%%%%%%%%%%%%\n",
      "2016-09-23 16:42:52,579 - INFO - dtocean_moorings.core - \n",
      "Solution found [13.0, 13.0, 3.25, 0.0, 0.0, [0, 0], [0, 0], 32.787953883665523, 516.46204611633448]\n",
      "2016-09-23 16:42:52,579 - INFO - dtocean_moorings.core - \n",
      "_______________________________________________________________________\n",
      "Foundation 2\n",
      "_______________________________________________________________________\n",
      "2016-09-23 16:42:52,579 - INFO - dtocean_moorings.core - \n",
      "%%%%%%%%%%%%%%%%%%%%%%%%%%%%%%%%%%%%%%%%%%%%%%%\n",
      "Pile foundation/anchor design\n",
      "%%%%%%%%%%%%%%%%%%%%%%%%%%%%%%%%%%%%%%%%%%%%%%%\n",
      "2016-09-23 16:42:53,579 - INFO - dtocean_moorings.core - \n",
      "%%%%%%%%%%%%%%%%%%%%%%%%%%%%%%%%%%%%%%%%%%%%%%%\n",
      "Gravity foundation/anchor design\n",
      "%%%%%%%%%%%%%%%%%%%%%%%%%%%%%%%%%%%%%%%%%%%%%%%\n",
      "2016-09-23 16:42:53,579 - INFO - dtocean_moorings.core - \n",
      "Solution found [13.0, 13.0, 3.25, 0.0, 0.0, [0, 0], [0, 0], 14.909621470637717, 534.34037852936228]\n",
      "2016-09-23 16:42:53,579 - INFO - dtocean_moorings.core - \n",
      "%%%%%%%%%%%%%%%%%%%%%%%%%%%%%%%%%%%%%%%%%%%%%%%\n",
      "Gravity foundation/anchor design\n",
      "%%%%%%%%%%%%%%%%%%%%%%%%%%%%%%%%%%%%%%%%%%%%%%%\n",
      "self.piledim [[4.0, 0.16, 26.0, 'False', 'id736', 0.0], [4.0, 0.16, 8.0, 'True', 'id736', 0.0], [4.0, 0.16, 8.0, 'True', 'id736', 0.0]]\n",
      "self.pileyld 355000000.0\n",
      "2016-09-23 16:42:53,579 - INFO - dtocean_moorings.core - \n",
      "self.possfoundtyp [[('pile', 5), ('gravity', 6)], [('pile', 5), ('gravity', 6)], [('pile', 5), ('gravity', 6)]]\n",
      "self.selfoundtyp [('gravity', 0.0), ('pile', 315160.0), ('pile', 315160.0)]\n",
      "2016-09-23 16:42:53,589 - INFO - dtocean_moorings.main - ===================================================================\n",
      "2016-09-23 16:42:53,589 - INFO - dtocean_moorings.main - Device ID: device002\n",
      "2016-09-23 16:42:53,589 - INFO - dtocean_moorings.main - ===================================================================\n",
      "2016-09-23 16:42:53,740 - INFO - dtocean_moorings.core - Foundation point coincides with grid line or grid point\n",
      "2016-09-23 16:42:53,920 - INFO - dtocean_moorings.core - Foundation point coincides with grid line or grid point\n",
      "2016-09-23 16:42:54,109 - INFO - dtocean_moorings.core - Foundation point coincides with grid line or grid point\n",
      "2016-09-23 16:42:54,289 - INFO - dtocean_moorings.core - Foundation point coincides with grid line or grid point\n",
      "2016-09-23 16:42:54,339 - WARNING - dtocean_moorings.core - WARNING: Reynolds number out of range for drag coefficient data\n",
      "2016-09-23 16:42:54,339 - WARNING - dtocean_moorings.core - WARNING: Reynolds number out of range for drag coefficient data\n",
      "2016-09-23 16:42:54,339 - WARNING - dtocean_moorings.core - WARNING: Reynolds number out of range for drag coefficient data\n",
      "2016-09-23 16:42:54,349 - WARNING - dtocean_moorings.core - WARNING: Reynolds number out of range for drag coefficient data\n",
      "2016-09-23 16:42:54,349 - WARNING - dtocean_moorings.core - WARNING: Reynolds number out of range for drag coefficient data\n",
      "2016-09-23 16:42:54,349 - WARNING - dtocean_moorings.core - WARNING: Reynolds number out of range for drag coefficient data\n",
      "2016-09-23 16:42:54,349 - WARNING - dtocean_moorings.core - WARNING: Reynolds number out of range for drag coefficient data\n",
      "2016-09-23 16:42:54,349 - WARNING - dtocean_moorings.core - WARNING: Reynolds number out of range for drag coefficient data\n",
      "2016-09-23 16:42:54,349 - WARNING - dtocean_moorings.core - WARNING: Reynolds number out of range for drag coefficient data\n",
      "2016-09-23 16:42:54,349 - WARNING - dtocean_moorings.core - WARNING: Reynolds number out of range for drag coefficient data\n",
      "2016-09-23 16:42:54,349 - INFO - dtocean_moorings.core - \n",
      "WAMIT/NEMOH parameters provided\n",
      "2016-09-23 16:42:54,349 - INFO - dtocean_moorings.core - \n",
      "FEX RAO values [[[  139335.58331554   240988.15543372   339763.24162636   434198.26858622\n",
      "     522770.76795974   605221.51652698   678926.16333582   745378.31434132\n",
      "     797922.21543381   837456.24249863   863686.71949438   861660.66438977\n",
      "     851742.77522189   817153.46512323   782734.92643893  2869709.1180385\n",
      "     664024.6300058    698112.78339703   694017.67807823   655524.18290285\n",
      "     536040.55940411   496974.53422396   466806.20338102   419806.71240724\n",
      "     381187.92748679   364036.00645744   314399.72719684   297230.69228898\n",
      "     266575.25028331   274553.23734506   236410.58348797   241424.8318773\n",
      "     280466.85346157   214818.57101724   280695.71402303   249665.61296209\n",
      "     321157.28685751   185913.96693486   423777.86780867   225207.78913147]]\n",
      "\n",
      " [[ 1535947.78404346  2605299.53096705  3551611.78465011  4319430.53937133\n",
      "    4846959.75523665  5079860.04639982  4964717.73315859  4495610.13580001\n",
      "    3715007.91458958  2721094.59541177  1631264.69446165   593359.05187434\n",
      "     342966.57517343  1048789.98578255  1593196.65990435  6426746.59805763\n",
      "    2035543.73801056  2242518.57119268  2322445.18517819  2241395.83653807\n",
      "    1971521.90698773  1915280.02843655  1780624.60627458  1567340.37766169\n",
      "    1523757.59288043  1406501.42273484  1240950.1109722   1079823.89467323\n",
      "     988604.38655149   867048.17867345   762202.02739845   613216.97035061\n",
      "     462659.9842415    576153.45698117   550765.66148482   409739.92627949\n",
      "     534676.46775395   181152.80513622   366442.49606326   174180.61157189]]\n",
      "\n",
      " [[ 2559717.91292473  2513858.35967156  2446680.58596026  2359118.20849161\n",
      "    2252324.85001108  2127822.36595111  1992262.09057434  1849741.05643435\n",
      "    1705651.60089019  1567115.35618853  1442306.90146447  1294457.25448139\n",
      "    1188685.55236303  1049704.15268679   962009.69699505  6441838.88438453\n",
      "     738342.45935429   805908.51033519   827261.73425965   755697.27803988\n",
      "     555690.31965571   508038.69380483   466628.05590878   390866.28280537\n",
      "     347598.87754557   332889.65853802   245167.73739738   215071.77038547\n",
      "     166499.8665606    165841.18548647   106369.6545018     81138.25697308\n",
      "      43171.88320672   251932.2757338    304664.04929322   268526.60781795\n",
      "     430673.38035281    90883.18300571   930839.79708269   341533.53973165]]]\n",
      "2016-09-23 16:42:54,349 - INFO - dtocean_moorings.core - \n",
      "fexfreqs, math.fabs(x - wavefreqs[tpind]) [array([ 0.01591549,  0.02775009,  0.03958469,  0.05141929,  0.06325389,\n",
      "        0.07508849,  0.08692308,  0.09875768,  0.11059228,  0.12242688,\n",
      "        0.13426148,  0.14609608,  0.15793067,  0.16976527,  0.18159987,\n",
      "        0.19343447,  0.20526907,  0.21710367,  0.22893826,  0.24077286,\n",
      "        0.25260746,  0.26444206,  0.27627666,  0.28811126,  0.29994585,\n",
      "        0.31178045,  0.32361505,  0.33544965,  0.34728425,  0.35911885,\n",
      "        0.37095344,  0.38278804,  0.39462264,  0.40645724,  0.41829184,\n",
      "        0.43012644,  0.44196103,  0.45379563,  0.46563023,  0.47746483]), 0.05]\n",
      "2016-09-23 16:42:54,349 - INFO - dtocean_moorings.core - \n",
      "fexfreqs, math.fabs(x - wavefreqs[tpind]) [array([ 0.01591549,  0.02775009,  0.03958469,  0.05141929,  0.06325389,\n",
      "        0.07508849,  0.08692308,  0.09875768,  0.11059228,  0.12242688,\n",
      "        0.13426148,  0.14609608,  0.15793067,  0.16976527,  0.18159987,\n",
      "        0.19343447,  0.20526907,  0.21710367,  0.22893826,  0.24077286,\n",
      "        0.25260746,  0.26444206,  0.27627666,  0.28811126,  0.29994585,\n",
      "        0.31178045,  0.32361505,  0.33544965,  0.34728425,  0.35911885,\n",
      "        0.37095344,  0.38278804,  0.39462264,  0.40645724,  0.41829184,\n",
      "        0.43012644,  0.44196103,  0.45379563,  0.46563023,  0.47746483]), 0.05]\n",
      "self.syswaveload[tpind]  [41986330.493579194, 4200004.8971866742, 23535231.494258784]\n",
      "2016-09-23 16:42:54,359 - WARNING - dtocean_moorings.core - WARNING: Reynolds number out of range for drag coefficient data\n",
      "2016-09-23 16:42:54,359 - WARNING - dtocean_moorings.core - WARNING: Reynolds number out of range for drag coefficient data\n",
      "2016-09-23 16:42:54,359 - WARNING - dtocean_moorings.core - WARNING: Reynolds number out of range for drag coefficient data\n",
      "2016-09-23 16:42:54,359 - WARNING - dtocean_moorings.core - WARNING: Reynolds number out of range for drag coefficient data\n",
      "2016-09-23 16:42:54,359 - WARNING - dtocean_moorings.core - WARNING: Reynolds number out of range for drag coefficient data\n",
      "2016-09-23 16:42:54,359 - WARNING - dtocean_moorings.core - WARNING: Reynolds number out of range for drag coefficient data\n",
      "2016-09-23 16:42:54,359 - WARNING - dtocean_moorings.core - WARNING: Reynolds number out of range for drag coefficient data\n",
      "2016-09-23 16:42:54,359 - WARNING - dtocean_moorings.core - WARNING: Reynolds number out of range for drag coefficient data\n",
      "2016-09-23 16:42:54,359 - WARNING - dtocean_moorings.core - WARNING: Reynolds number out of range for drag coefficient data\n",
      "2016-09-23 16:42:54,359 - WARNING - dtocean_moorings.core - WARNING: Reynolds number out of range for drag coefficient data\n",
      "2016-09-23 16:42:54,359 - INFO - dtocean_moorings.core - \n",
      "WAMIT/NEMOH parameters provided\n",
      "2016-09-23 16:42:54,359 - INFO - dtocean_moorings.core - \n",
      "FEX RAO values [[[  139335.58331554   240988.15543372   339763.24162636   434198.26858622\n",
      "     522770.76795974   605221.51652698   678926.16333582   745378.31434132\n",
      "     797922.21543381   837456.24249863   863686.71949438   861660.66438977\n",
      "     851742.77522189   817153.46512323   782734.92643893  2869709.1180385\n",
      "     664024.6300058    698112.78339703   694017.67807823   655524.18290285\n",
      "     536040.55940411   496974.53422396   466806.20338102   419806.71240724\n",
      "     381187.92748679   364036.00645744   314399.72719684   297230.69228898\n",
      "     266575.25028331   274553.23734506   236410.58348797   241424.8318773\n",
      "     280466.85346157   214818.57101724   280695.71402303   249665.61296209\n",
      "     321157.28685751   185913.96693486   423777.86780867   225207.78913147]]\n",
      "\n",
      " [[ 1535947.78404346  2605299.53096705  3551611.78465011  4319430.53937133\n",
      "    4846959.75523665  5079860.04639982  4964717.73315859  4495610.13580001\n",
      "    3715007.91458958  2721094.59541177  1631264.69446165   593359.05187434\n",
      "     342966.57517343  1048789.98578255  1593196.65990435  6426746.59805763\n",
      "    2035543.73801056  2242518.57119268  2322445.18517819  2241395.83653807\n",
      "    1971521.90698773  1915280.02843655  1780624.60627458  1567340.37766169\n",
      "    1523757.59288043  1406501.42273484  1240950.1109722   1079823.89467323\n",
      "     988604.38655149   867048.17867345   762202.02739845   613216.97035061\n",
      "     462659.9842415    576153.45698117   550765.66148482   409739.92627949\n",
      "     534676.46775395   181152.80513622   366442.49606326   174180.61157189]]\n",
      "\n",
      " [[ 2559717.91292473  2513858.35967156  2446680.58596026  2359118.20849161\n",
      "    2252324.85001108  2127822.36595111  1992262.09057434  1849741.05643435\n",
      "    1705651.60089019  1567115.35618853  1442306.90146447  1294457.25448139\n",
      "    1188685.55236303  1049704.15268679   962009.69699505  6441838.88438453\n",
      "     738342.45935429   805908.51033519   827261.73425965   755697.27803988\n",
      "     555690.31965571   508038.69380483   466628.05590878   390866.28280537\n",
      "     347598.87754557   332889.65853802   245167.73739738   215071.77038547\n",
      "     166499.8665606    165841.18548647   106369.6545018     81138.25697308\n",
      "      43171.88320672   251932.2757338    304664.04929322   268526.60781795\n",
      "     430673.38035281    90883.18300571   930839.79708269   341533.53973165]]]\n",
      "2016-09-23 16:42:54,359 - INFO - dtocean_moorings.core - \n",
      "fexfreqs, math.fabs(x - wavefreqs[tpind]) [array([ 0.01591549,  0.02775009,  0.03958469,  0.05141929,  0.06325389,\n",
      "        0.07508849,  0.08692308,  0.09875768,  0.11059228,  0.12242688,\n",
      "        0.13426148,  0.14609608,  0.15793067,  0.16976527,  0.18159987,\n",
      "        0.19343447,  0.20526907,  0.21710367,  0.22893826,  0.24077286,\n",
      "        0.25260746,  0.26444206,  0.27627666,  0.28811126,  0.29994585,\n",
      "        0.31178045,  0.32361505,  0.33544965,  0.34728425,  0.35911885,\n",
      "        0.37095344,  0.38278804,  0.39462264,  0.40645724,  0.41829184,\n",
      "        0.43012644,  0.44196103,  0.45379563,  0.46563023,  0.47746483]), 0.05]\n",
      "2016-09-23 16:42:54,359 - INFO - dtocean_moorings.core - \n",
      "fexfreqs, math.fabs(x - wavefreqs[tpind]) [array([ 0.01591549,  0.02775009,  0.03958469,  0.05141929,  0.06325389,\n",
      "        0.07508849,  0.08692308,  0.09875768,  0.11059228,  0.12242688,\n",
      "        0.13426148,  0.14609608,  0.15793067,  0.16976527,  0.18159987,\n",
      "        0.19343447,  0.20526907,  0.21710367,  0.22893826,  0.24077286,\n",
      "        0.25260746,  0.26444206,  0.27627666,  0.28811126,  0.29994585,\n",
      "        0.31178045,  0.32361505,  0.33544965,  0.34728425,  0.35911885,\n",
      "        0.37095344,  0.38278804,  0.39462264,  0.40645724,  0.41829184,\n",
      "        0.43012644,  0.44196103,  0.45379563,  0.46563023,  0.47746483]), 0.05]\n",
      "self.syswaveload[tpind]  [41986330.493579194, 4200004.8971866742, 23535231.494258784]\n",
      "2016-09-23 16:42:54,369 - INFO - dtocean_moorings.core - \n",
      "_______________________________________________________________________\n",
      "Foundation 0\n",
      "_______________________________________________________________________\n",
      "2016-09-23 16:42:54,369 - INFO - dtocean_moorings.core - \n",
      "%%%%%%%%%%%%%%%%%%%%%%%%%%%%%%%%%%%%%%%%%%%%%%%\n",
      "Pile foundation/anchor design\n",
      "%%%%%%%%%%%%%%%%%%%%%%%%%%%%%%%%%%%%%%%%%%%%%%%\n",
      "2016-09-23 16:42:55,430 - INFO - dtocean_moorings.core - \n",
      "%%%%%%%%%%%%%%%%%%%%%%%%%%%%%%%%%%%%%%%%%%%%%%%\n",
      "Gravity foundation/anchor design\n",
      "%%%%%%%%%%%%%%%%%%%%%%%%%%%%%%%%%%%%%%%%%%%%%%%\n",
      "2016-09-23 16:42:55,430 - INFO - dtocean_moorings.core - \n",
      "Solution found [13.25, 13.25, 3.25, 0.0, 0.0, [0, 0], [0, 0], 0, 0]\n",
      "2016-09-23 16:42:55,430 - INFO - dtocean_moorings.core - \n",
      "_______________________________________________________________________\n",
      "Foundation 1\n",
      "_______________________________________________________________________\n",
      "2016-09-23 16:42:55,430 - INFO - dtocean_moorings.core - \n",
      "%%%%%%%%%%%%%%%%%%%%%%%%%%%%%%%%%%%%%%%%%%%%%%%\n",
      "Pile foundation/anchor design\n",
      "%%%%%%%%%%%%%%%%%%%%%%%%%%%%%%%%%%%%%%%%%%%%%%%\n",
      "2016-09-23 16:42:56,450 - INFO - dtocean_moorings.core - \n",
      "%%%%%%%%%%%%%%%%%%%%%%%%%%%%%%%%%%%%%%%%%%%%%%%\n",
      "Gravity foundation/anchor design\n",
      "%%%%%%%%%%%%%%%%%%%%%%%%%%%%%%%%%%%%%%%%%%%%%%%\n",
      "2016-09-23 16:42:56,450 - INFO - dtocean_moorings.core - \n",
      "Solution found [13.0, 13.0, 3.25, 0.0, 0.0, [0, 0], [0, 0], 32.787953883665523, 516.46204611633448]\n",
      "2016-09-23 16:42:56,450 - INFO - dtocean_moorings.core - \n",
      "_______________________________________________________________________\n",
      "Foundation 2\n",
      "_______________________________________________________________________\n",
      "2016-09-23 16:42:56,450 - INFO - dtocean_moorings.core - \n",
      "%%%%%%%%%%%%%%%%%%%%%%%%%%%%%%%%%%%%%%%%%%%%%%%\n",
      "Pile foundation/anchor design\n",
      "%%%%%%%%%%%%%%%%%%%%%%%%%%%%%%%%%%%%%%%%%%%%%%%\n",
      "2016-09-23 16:42:57,450 - INFO - dtocean_moorings.core - \n",
      "%%%%%%%%%%%%%%%%%%%%%%%%%%%%%%%%%%%%%%%%%%%%%%%\n",
      "Gravity foundation/anchor design\n",
      "%%%%%%%%%%%%%%%%%%%%%%%%%%%%%%%%%%%%%%%%%%%%%%%\n",
      "2016-09-23 16:42:57,460 - INFO - dtocean_moorings.core - \n",
      "Solution found [13.0, 13.0, 3.25, 0.0, 0.0, [0, 0], [0, 0], 14.909621470637717, 534.34037852936228]\n",
      "2016-09-23 16:42:57,460 - INFO - dtocean_moorings.core - \n",
      "%%%%%%%%%%%%%%%%%%%%%%%%%%%%%%%%%%%%%%%%%%%%%%%\n",
      "Gravity foundation/anchor design\n",
      "%%%%%%%%%%%%%%%%%%%%%%%%%%%%%%%%%%%%%%%%%%%%%%%\n",
      "self.piledim [[4.0, 0.16, 26.0, 'False', 'id736', 0.0], [4.0, 0.16, 8.0, 'True', 'id736', 0.0], [4.0, 0.16, 8.0, 'True', 'id736', 0.0]]\n",
      "self.pileyld 355000000.0\n",
      "2016-09-23 16:42:57,460 - INFO - dtocean_moorings.core - \n",
      "self.possfoundtyp [[('pile', 5), ('gravity', 6)], [('pile', 5), ('gravity', 6)], [('pile', 5), ('gravity', 6)]]\n",
      "self.selfoundtyp [('gravity', 0.0), ('pile', 315160.0), ('pile', 315160.0)]\n",
      "2016-09-23 16:42:57,460 - INFO - dtocean_moorings.main - ===================================================================\n",
      "2016-09-23 16:42:57,460 - INFO - dtocean_moorings.main - Device ID: device003\n",
      "2016-09-23 16:42:57,460 - INFO - dtocean_moorings.main - ===================================================================\n",
      "2016-09-23 16:42:57,671 - INFO - dtocean_moorings.core - Foundation point coincides with grid line or grid point\n",
      "2016-09-23 16:42:57,841 - INFO - dtocean_moorings.core - Foundation point coincides with grid line or grid point\n",
      "2016-09-23 16:42:58,020 - INFO - dtocean_moorings.core - Foundation point coincides with grid line or grid point\n",
      "2016-09-23 16:42:58,190 - INFO - dtocean_moorings.core - Foundation point coincides with grid line or grid point\n",
      "2016-09-23 16:42:58,250 - WARNING - dtocean_moorings.core - WARNING: Reynolds number out of range for drag coefficient data\n",
      "2016-09-23 16:42:58,250 - WARNING - dtocean_moorings.core - WARNING: Reynolds number out of range for drag coefficient data\n",
      "2016-09-23 16:42:58,250 - WARNING - dtocean_moorings.core - WARNING: Reynolds number out of range for drag coefficient data\n",
      "2016-09-23 16:42:58,250 - WARNING - dtocean_moorings.core - WARNING: Reynolds number out of range for drag coefficient data\n",
      "2016-09-23 16:42:58,250 - WARNING - dtocean_moorings.core - WARNING: Reynolds number out of range for drag coefficient data\n",
      "2016-09-23 16:42:58,250 - WARNING - dtocean_moorings.core - WARNING: Reynolds number out of range for drag coefficient data\n",
      "2016-09-23 16:42:58,250 - WARNING - dtocean_moorings.core - WARNING: Reynolds number out of range for drag coefficient data\n",
      "2016-09-23 16:42:58,250 - WARNING - dtocean_moorings.core - WARNING: Reynolds number out of range for drag coefficient data\n",
      "2016-09-23 16:42:58,250 - WARNING - dtocean_moorings.core - WARNING: Reynolds number out of range for drag coefficient data\n",
      "2016-09-23 16:42:58,250 - WARNING - dtocean_moorings.core - WARNING: Reynolds number out of range for drag coefficient data\n",
      "2016-09-23 16:42:58,260 - INFO - dtocean_moorings.core - \n",
      "WAMIT/NEMOH parameters provided\n",
      "2016-09-23 16:42:58,260 - INFO - dtocean_moorings.core - \n",
      "FEX RAO values [[[  139335.58331554   240988.15543372   339763.24162636   434198.26858622\n",
      "     522770.76795974   605221.51652698   678926.16333582   745378.31434132\n",
      "     797922.21543381   837456.24249863   863686.71949438   861660.66438977\n",
      "     851742.77522189   817153.46512323   782734.92643893  2869709.1180385\n",
      "     664024.6300058    698112.78339703   694017.67807823   655524.18290285\n",
      "     536040.55940411   496974.53422396   466806.20338102   419806.71240724\n",
      "     381187.92748679   364036.00645744   314399.72719684   297230.69228898\n",
      "     266575.25028331   274553.23734506   236410.58348797   241424.8318773\n",
      "     280466.85346157   214818.57101724   280695.71402303   249665.61296209\n",
      "     321157.28685751   185913.96693486   423777.86780867   225207.78913147]]\n",
      "\n",
      " [[ 1535947.78404346  2605299.53096705  3551611.78465011  4319430.53937133\n",
      "    4846959.75523665  5079860.04639982  4964717.73315859  4495610.13580001\n",
      "    3715007.91458958  2721094.59541177  1631264.69446165   593359.05187434\n",
      "     342966.57517343  1048789.98578255  1593196.65990435  6426746.59805763\n",
      "    2035543.73801056  2242518.57119268  2322445.18517819  2241395.83653807\n",
      "    1971521.90698773  1915280.02843655  1780624.60627458  1567340.37766169\n",
      "    1523757.59288043  1406501.42273484  1240950.1109722   1079823.89467323\n",
      "     988604.38655149   867048.17867345   762202.02739845   613216.97035061\n",
      "     462659.9842415    576153.45698117   550765.66148482   409739.92627949\n",
      "     534676.46775395   181152.80513622   366442.49606326   174180.61157189]]\n",
      "\n",
      " [[ 2559717.91292473  2513858.35967156  2446680.58596026  2359118.20849161\n",
      "    2252324.85001108  2127822.36595111  1992262.09057434  1849741.05643435\n",
      "    1705651.60089019  1567115.35618853  1442306.90146447  1294457.25448139\n",
      "    1188685.55236303  1049704.15268679   962009.69699505  6441838.88438453\n",
      "     738342.45935429   805908.51033519   827261.73425965   755697.27803988\n",
      "     555690.31965571   508038.69380483   466628.05590878   390866.28280537\n",
      "     347598.87754557   332889.65853802   245167.73739738   215071.77038547\n",
      "     166499.8665606    165841.18548647   106369.6545018     81138.25697308\n",
      "      43171.88320672   251932.2757338    304664.04929322   268526.60781795\n",
      "     430673.38035281    90883.18300571   930839.79708269   341533.53973165]]]\n",
      "2016-09-23 16:42:58,260 - INFO - dtocean_moorings.core - \n",
      "fexfreqs, math.fabs(x - wavefreqs[tpind]) [array([ 0.01591549,  0.02775009,  0.03958469,  0.05141929,  0.06325389,\n",
      "        0.07508849,  0.08692308,  0.09875768,  0.11059228,  0.12242688,\n",
      "        0.13426148,  0.14609608,  0.15793067,  0.16976527,  0.18159987,\n",
      "        0.19343447,  0.20526907,  0.21710367,  0.22893826,  0.24077286,\n",
      "        0.25260746,  0.26444206,  0.27627666,  0.28811126,  0.29994585,\n",
      "        0.31178045,  0.32361505,  0.33544965,  0.34728425,  0.35911885,\n",
      "        0.37095344,  0.38278804,  0.39462264,  0.40645724,  0.41829184,\n",
      "        0.43012644,  0.44196103,  0.45379563,  0.46563023,  0.47746483]), 0.05]\n",
      "2016-09-23 16:42:58,260 - INFO - dtocean_moorings.core - \n",
      "fexfreqs, math.fabs(x - wavefreqs[tpind]) [array([ 0.01591549,  0.02775009,  0.03958469,  0.05141929,  0.06325389,\n",
      "        0.07508849,  0.08692308,  0.09875768,  0.11059228,  0.12242688,\n",
      "        0.13426148,  0.14609608,  0.15793067,  0.16976527,  0.18159987,\n",
      "        0.19343447,  0.20526907,  0.21710367,  0.22893826,  0.24077286,\n",
      "        0.25260746,  0.26444206,  0.27627666,  0.28811126,  0.29994585,\n",
      "        0.31178045,  0.32361505,  0.33544965,  0.34728425,  0.35911885,\n",
      "        0.37095344,  0.38278804,  0.39462264,  0.40645724,  0.41829184,\n",
      "        0.43012644,  0.44196103,  0.45379563,  0.46563023,  0.47746483]), 0.05]\n",
      "self.syswaveload[tpind]  [41986330.493579194, 4200004.8971866742, 23535231.494258784]\n",
      "2016-09-23 16:42:58,260 - WARNING - dtocean_moorings.core - WARNING: Reynolds number out of range for drag coefficient data\n",
      "2016-09-23 16:42:58,260 - WARNING - dtocean_moorings.core - WARNING: Reynolds number out of range for drag coefficient data\n",
      "2016-09-23 16:42:58,260 - WARNING - dtocean_moorings.core - WARNING: Reynolds number out of range for drag coefficient data\n",
      "2016-09-23 16:42:58,260 - WARNING - dtocean_moorings.core - WARNING: Reynolds number out of range for drag coefficient data\n",
      "2016-09-23 16:42:58,260 - WARNING - dtocean_moorings.core - WARNING: Reynolds number out of range for drag coefficient data\n",
      "2016-09-23 16:42:58,260 - WARNING - dtocean_moorings.core - WARNING: Reynolds number out of range for drag coefficient data\n",
      "2016-09-23 16:42:58,260 - WARNING - dtocean_moorings.core - WARNING: Reynolds number out of range for drag coefficient data\n",
      "2016-09-23 16:42:58,260 - WARNING - dtocean_moorings.core - WARNING: Reynolds number out of range for drag coefficient data\n",
      "2016-09-23 16:42:58,260 - WARNING - dtocean_moorings.core - WARNING: Reynolds number out of range for drag coefficient data\n",
      "2016-09-23 16:42:58,260 - WARNING - dtocean_moorings.core - WARNING: Reynolds number out of range for drag coefficient data\n",
      "2016-09-23 16:42:58,260 - INFO - dtocean_moorings.core - \n",
      "WAMIT/NEMOH parameters provided\n",
      "2016-09-23 16:42:58,270 - INFO - dtocean_moorings.core - \n",
      "FEX RAO values [[[  139335.58331554   240988.15543372   339763.24162636   434198.26858622\n",
      "     522770.76795974   605221.51652698   678926.16333582   745378.31434132\n",
      "     797922.21543381   837456.24249863   863686.71949438   861660.66438977\n",
      "     851742.77522189   817153.46512323   782734.92643893  2869709.1180385\n",
      "     664024.6300058    698112.78339703   694017.67807823   655524.18290285\n",
      "     536040.55940411   496974.53422396   466806.20338102   419806.71240724\n",
      "     381187.92748679   364036.00645744   314399.72719684   297230.69228898\n",
      "     266575.25028331   274553.23734506   236410.58348797   241424.8318773\n",
      "     280466.85346157   214818.57101724   280695.71402303   249665.61296209\n",
      "     321157.28685751   185913.96693486   423777.86780867   225207.78913147]]\n",
      "\n",
      " [[ 1535947.78404346  2605299.53096705  3551611.78465011  4319430.53937133\n",
      "    4846959.75523665  5079860.04639982  4964717.73315859  4495610.13580001\n",
      "    3715007.91458958  2721094.59541177  1631264.69446165   593359.05187434\n",
      "     342966.57517343  1048789.98578255  1593196.65990435  6426746.59805763\n",
      "    2035543.73801056  2242518.57119268  2322445.18517819  2241395.83653807\n",
      "    1971521.90698773  1915280.02843655  1780624.60627458  1567340.37766169\n",
      "    1523757.59288043  1406501.42273484  1240950.1109722   1079823.89467323\n",
      "     988604.38655149   867048.17867345   762202.02739845   613216.97035061\n",
      "     462659.9842415    576153.45698117   550765.66148482   409739.92627949\n",
      "     534676.46775395   181152.80513622   366442.49606326   174180.61157189]]\n",
      "\n",
      " [[ 2559717.91292473  2513858.35967156  2446680.58596026  2359118.20849161\n",
      "    2252324.85001108  2127822.36595111  1992262.09057434  1849741.05643435\n",
      "    1705651.60089019  1567115.35618853  1442306.90146447  1294457.25448139\n",
      "    1188685.55236303  1049704.15268679   962009.69699505  6441838.88438453\n",
      "     738342.45935429   805908.51033519   827261.73425965   755697.27803988\n",
      "     555690.31965571   508038.69380483   466628.05590878   390866.28280537\n",
      "     347598.87754557   332889.65853802   245167.73739738   215071.77038547\n",
      "     166499.8665606    165841.18548647   106369.6545018     81138.25697308\n",
      "      43171.88320672   251932.2757338    304664.04929322   268526.60781795\n",
      "     430673.38035281    90883.18300571   930839.79708269   341533.53973165]]]\n",
      "2016-09-23 16:42:58,270 - INFO - dtocean_moorings.core - \n",
      "fexfreqs, math.fabs(x - wavefreqs[tpind]) [array([ 0.01591549,  0.02775009,  0.03958469,  0.05141929,  0.06325389,\n",
      "        0.07508849,  0.08692308,  0.09875768,  0.11059228,  0.12242688,\n",
      "        0.13426148,  0.14609608,  0.15793067,  0.16976527,  0.18159987,\n",
      "        0.19343447,  0.20526907,  0.21710367,  0.22893826,  0.24077286,\n",
      "        0.25260746,  0.26444206,  0.27627666,  0.28811126,  0.29994585,\n",
      "        0.31178045,  0.32361505,  0.33544965,  0.34728425,  0.35911885,\n",
      "        0.37095344,  0.38278804,  0.39462264,  0.40645724,  0.41829184,\n",
      "        0.43012644,  0.44196103,  0.45379563,  0.46563023,  0.47746483]), 0.05]\n",
      "2016-09-23 16:42:58,270 - INFO - dtocean_moorings.core - \n",
      "fexfreqs, math.fabs(x - wavefreqs[tpind]) [array([ 0.01591549,  0.02775009,  0.03958469,  0.05141929,  0.06325389,\n",
      "        0.07508849,  0.08692308,  0.09875768,  0.11059228,  0.12242688,\n",
      "        0.13426148,  0.14609608,  0.15793067,  0.16976527,  0.18159987,\n",
      "        0.19343447,  0.20526907,  0.21710367,  0.22893826,  0.24077286,\n",
      "        0.25260746,  0.26444206,  0.27627666,  0.28811126,  0.29994585,\n",
      "        0.31178045,  0.32361505,  0.33544965,  0.34728425,  0.35911885,\n",
      "        0.37095344,  0.38278804,  0.39462264,  0.40645724,  0.41829184,\n",
      "        0.43012644,  0.44196103,  0.45379563,  0.46563023,  0.47746483]), 0.05]\n",
      "self.syswaveload[tpind]  [41986330.493579194, 4200004.8971866742, 23535231.494258784]\n",
      "2016-09-23 16:42:58,270 - INFO - dtocean_moorings.core - \n",
      "_______________________________________________________________________\n",
      "Foundation 0\n",
      "_______________________________________________________________________\n",
      "2016-09-23 16:42:58,270 - INFO - dtocean_moorings.core - \n",
      "%%%%%%%%%%%%%%%%%%%%%%%%%%%%%%%%%%%%%%%%%%%%%%%\n",
      "Pile foundation/anchor design\n",
      "%%%%%%%%%%%%%%%%%%%%%%%%%%%%%%%%%%%%%%%%%%%%%%%\n",
      "2016-09-23 16:42:59,341 - INFO - dtocean_moorings.core - \n",
      "%%%%%%%%%%%%%%%%%%%%%%%%%%%%%%%%%%%%%%%%%%%%%%%\n",
      "Gravity foundation/anchor design\n",
      "%%%%%%%%%%%%%%%%%%%%%%%%%%%%%%%%%%%%%%%%%%%%%%%\n",
      "2016-09-23 16:42:59,341 - INFO - dtocean_moorings.core - \n",
      "Solution found [13.25, 13.25, 3.25, 0.0, 0.0, [0, 0], [0, 0], 0, 0]\n",
      "2016-09-23 16:42:59,341 - INFO - dtocean_moorings.core - \n",
      "_______________________________________________________________________\n",
      "Foundation 1\n",
      "_______________________________________________________________________\n",
      "2016-09-23 16:42:59,341 - INFO - dtocean_moorings.core - \n",
      "%%%%%%%%%%%%%%%%%%%%%%%%%%%%%%%%%%%%%%%%%%%%%%%\n",
      "Pile foundation/anchor design\n",
      "%%%%%%%%%%%%%%%%%%%%%%%%%%%%%%%%%%%%%%%%%%%%%%%\n",
      "2016-09-23 16:43:00,371 - INFO - dtocean_moorings.core - \n",
      "%%%%%%%%%%%%%%%%%%%%%%%%%%%%%%%%%%%%%%%%%%%%%%%\n",
      "Gravity foundation/anchor design\n",
      "%%%%%%%%%%%%%%%%%%%%%%%%%%%%%%%%%%%%%%%%%%%%%%%\n",
      "2016-09-23 16:43:00,371 - INFO - dtocean_moorings.core - \n",
      "Solution found [13.0, 13.0, 3.25, 0.0, 0.0, [0, 0], [0, 0], 32.787953883665523, 516.46204611633448]\n",
      "2016-09-23 16:43:00,371 - INFO - dtocean_moorings.core - \n",
      "_______________________________________________________________________\n",
      "Foundation 2\n",
      "_______________________________________________________________________\n",
      "2016-09-23 16:43:00,371 - INFO - dtocean_moorings.core - \n",
      "%%%%%%%%%%%%%%%%%%%%%%%%%%%%%%%%%%%%%%%%%%%%%%%\n",
      "Pile foundation/anchor design\n",
      "%%%%%%%%%%%%%%%%%%%%%%%%%%%%%%%%%%%%%%%%%%%%%%%\n",
      "2016-09-23 16:43:01,371 - INFO - dtocean_moorings.core - \n",
      "%%%%%%%%%%%%%%%%%%%%%%%%%%%%%%%%%%%%%%%%%%%%%%%\n",
      "Gravity foundation/anchor design\n",
      "%%%%%%%%%%%%%%%%%%%%%%%%%%%%%%%%%%%%%%%%%%%%%%%\n",
      "2016-09-23 16:43:01,371 - INFO - dtocean_moorings.core - \n",
      "Solution found [13.0, 13.0, 3.25, 0.0, 0.0, [0, 0], [0, 0], 14.909621470637717, 534.34037852936228]\n",
      "2016-09-23 16:43:01,371 - INFO - dtocean_moorings.core - \n",
      "%%%%%%%%%%%%%%%%%%%%%%%%%%%%%%%%%%%%%%%%%%%%%%%\n",
      "Gravity foundation/anchor design\n",
      "%%%%%%%%%%%%%%%%%%%%%%%%%%%%%%%%%%%%%%%%%%%%%%%\n",
      "self.piledim [[4.0, 0.16, 26.0, 'False', 'id736', 0.0], [4.0, 0.16, 8.0, 'True', 'id736', 0.0], [4.0, 0.16, 8.0, 'True', 'id736', 0.0]]\n",
      "self.pileyld 355000000.0\n",
      "2016-09-23 16:43:01,371 - INFO - dtocean_moorings.core - \n",
      "self.possfoundtyp [[('pile', 5), ('gravity', 6)], [('pile', 5), ('gravity', 6)], [('pile', 5), ('gravity', 6)]]\n",
      "self.selfoundtyp [('gravity', 0.0), ('pile', 315160.0), ('pile', 315160.0)]\n",
      "2016-09-23 16:43:01,381 - INFO - dtocean_moorings.main - ===================================================================\n",
      "2016-09-23 16:43:01,381 - INFO - dtocean_moorings.main - Device ID: device004\n",
      "2016-09-23 16:43:01,381 - INFO - dtocean_moorings.main - ===================================================================\n",
      "2016-09-23 16:43:01,540 - INFO - dtocean_moorings.core - Foundation point coincides with grid line or grid point\n",
      "2016-09-23 16:43:01,710 - INFO - dtocean_moorings.core - Foundation point coincides with grid line or grid point\n",
      "2016-09-23 16:43:01,891 - INFO - dtocean_moorings.core - Foundation point coincides with grid line or grid point\n",
      "2016-09-23 16:43:02,061 - INFO - dtocean_moorings.core - Foundation point coincides with grid line or grid point\n",
      "2016-09-23 16:43:02,121 - WARNING - dtocean_moorings.core - WARNING: Reynolds number out of range for drag coefficient data\n",
      "2016-09-23 16:43:02,121 - WARNING - dtocean_moorings.core - WARNING: Reynolds number out of range for drag coefficient data\n",
      "2016-09-23 16:43:02,121 - WARNING - dtocean_moorings.core - WARNING: Reynolds number out of range for drag coefficient data\n",
      "2016-09-23 16:43:02,121 - WARNING - dtocean_moorings.core - WARNING: Reynolds number out of range for drag coefficient data\n",
      "2016-09-23 16:43:02,121 - WARNING - dtocean_moorings.core - WARNING: Reynolds number out of range for drag coefficient data\n",
      "2016-09-23 16:43:02,121 - WARNING - dtocean_moorings.core - WARNING: Reynolds number out of range for drag coefficient data\n",
      "2016-09-23 16:43:02,121 - WARNING - dtocean_moorings.core - WARNING: Reynolds number out of range for drag coefficient data\n",
      "2016-09-23 16:43:02,121 - WARNING - dtocean_moorings.core - WARNING: Reynolds number out of range for drag coefficient data\n",
      "2016-09-23 16:43:02,121 - WARNING - dtocean_moorings.core - WARNING: Reynolds number out of range for drag coefficient data\n",
      "2016-09-23 16:43:02,121 - WARNING - dtocean_moorings.core - WARNING: Reynolds number out of range for drag coefficient data\n",
      "2016-09-23 16:43:02,121 - INFO - dtocean_moorings.core - \n",
      "WAMIT/NEMOH parameters provided\n",
      "2016-09-23 16:43:02,131 - INFO - dtocean_moorings.core - \n",
      "FEX RAO values [[[  139335.58331554   240988.15543372   339763.24162636   434198.26858622\n",
      "     522770.76795974   605221.51652698   678926.16333582   745378.31434132\n",
      "     797922.21543381   837456.24249863   863686.71949438   861660.66438977\n",
      "     851742.77522189   817153.46512323   782734.92643893  2869709.1180385\n",
      "     664024.6300058    698112.78339703   694017.67807823   655524.18290285\n",
      "     536040.55940411   496974.53422396   466806.20338102   419806.71240724\n",
      "     381187.92748679   364036.00645744   314399.72719684   297230.69228898\n",
      "     266575.25028331   274553.23734506   236410.58348797   241424.8318773\n",
      "     280466.85346157   214818.57101724   280695.71402303   249665.61296209\n",
      "     321157.28685751   185913.96693486   423777.86780867   225207.78913147]]\n",
      "\n",
      " [[ 1535947.78404346  2605299.53096705  3551611.78465011  4319430.53937133\n",
      "    4846959.75523665  5079860.04639982  4964717.73315859  4495610.13580001\n",
      "    3715007.91458958  2721094.59541177  1631264.69446165   593359.05187434\n",
      "     342966.57517343  1048789.98578255  1593196.65990435  6426746.59805763\n",
      "    2035543.73801056  2242518.57119268  2322445.18517819  2241395.83653807\n",
      "    1971521.90698773  1915280.02843655  1780624.60627458  1567340.37766169\n",
      "    1523757.59288043  1406501.42273484  1240950.1109722   1079823.89467323\n",
      "     988604.38655149   867048.17867345   762202.02739845   613216.97035061\n",
      "     462659.9842415    576153.45698117   550765.66148482   409739.92627949\n",
      "     534676.46775395   181152.80513622   366442.49606326   174180.61157189]]\n",
      "\n",
      " [[ 2559717.91292473  2513858.35967156  2446680.58596026  2359118.20849161\n",
      "    2252324.85001108  2127822.36595111  1992262.09057434  1849741.05643435\n",
      "    1705651.60089019  1567115.35618853  1442306.90146447  1294457.25448139\n",
      "    1188685.55236303  1049704.15268679   962009.69699505  6441838.88438453\n",
      "     738342.45935429   805908.51033519   827261.73425965   755697.27803988\n",
      "     555690.31965571   508038.69380483   466628.05590878   390866.28280537\n",
      "     347598.87754557   332889.65853802   245167.73739738   215071.77038547\n",
      "     166499.8665606    165841.18548647   106369.6545018     81138.25697308\n",
      "      43171.88320672   251932.2757338    304664.04929322   268526.60781795\n",
      "     430673.38035281    90883.18300571   930839.79708269   341533.53973165]]]\n",
      "2016-09-23 16:43:02,131 - INFO - dtocean_moorings.core - \n",
      "fexfreqs, math.fabs(x - wavefreqs[tpind]) [array([ 0.01591549,  0.02775009,  0.03958469,  0.05141929,  0.06325389,\n",
      "        0.07508849,  0.08692308,  0.09875768,  0.11059228,  0.12242688,\n",
      "        0.13426148,  0.14609608,  0.15793067,  0.16976527,  0.18159987,\n",
      "        0.19343447,  0.20526907,  0.21710367,  0.22893826,  0.24077286,\n",
      "        0.25260746,  0.26444206,  0.27627666,  0.28811126,  0.29994585,\n",
      "        0.31178045,  0.32361505,  0.33544965,  0.34728425,  0.35911885,\n",
      "        0.37095344,  0.38278804,  0.39462264,  0.40645724,  0.41829184,\n",
      "        0.43012644,  0.44196103,  0.45379563,  0.46563023,  0.47746483]), 0.05]\n",
      "2016-09-23 16:43:02,131 - INFO - dtocean_moorings.core - \n",
      "fexfreqs, math.fabs(x - wavefreqs[tpind]) [array([ 0.01591549,  0.02775009,  0.03958469,  0.05141929,  0.06325389,\n",
      "        0.07508849,  0.08692308,  0.09875768,  0.11059228,  0.12242688,\n",
      "        0.13426148,  0.14609608,  0.15793067,  0.16976527,  0.18159987,\n",
      "        0.19343447,  0.20526907,  0.21710367,  0.22893826,  0.24077286,\n",
      "        0.25260746,  0.26444206,  0.27627666,  0.28811126,  0.29994585,\n",
      "        0.31178045,  0.32361505,  0.33544965,  0.34728425,  0.35911885,\n",
      "        0.37095344,  0.38278804,  0.39462264,  0.40645724,  0.41829184,\n",
      "        0.43012644,  0.44196103,  0.45379563,  0.46563023,  0.47746483]), 0.05]\n",
      "self.syswaveload[tpind]  [41986330.493579194, 4200004.8971866742, 23535231.494258784]\n",
      "2016-09-23 16:43:02,131 - WARNING - dtocean_moorings.core - WARNING: Reynolds number out of range for drag coefficient data\n",
      "2016-09-23 16:43:02,131 - WARNING - dtocean_moorings.core - WARNING: Reynolds number out of range for drag coefficient data\n",
      "2016-09-23 16:43:02,131 - WARNING - dtocean_moorings.core - WARNING: Reynolds number out of range for drag coefficient data\n",
      "2016-09-23 16:43:02,131 - WARNING - dtocean_moorings.core - WARNING: Reynolds number out of range for drag coefficient data\n",
      "2016-09-23 16:43:02,131 - WARNING - dtocean_moorings.core - WARNING: Reynolds number out of range for drag coefficient data\n",
      "2016-09-23 16:43:02,131 - WARNING - dtocean_moorings.core - WARNING: Reynolds number out of range for drag coefficient data\n",
      "2016-09-23 16:43:02,131 - WARNING - dtocean_moorings.core - WARNING: Reynolds number out of range for drag coefficient data\n",
      "2016-09-23 16:43:02,131 - WARNING - dtocean_moorings.core - WARNING: Reynolds number out of range for drag coefficient data\n",
      "2016-09-23 16:43:02,131 - WARNING - dtocean_moorings.core - WARNING: Reynolds number out of range for drag coefficient data\n",
      "2016-09-23 16:43:02,131 - WARNING - dtocean_moorings.core - WARNING: Reynolds number out of range for drag coefficient data\n",
      "2016-09-23 16:43:02,141 - INFO - dtocean_moorings.core - \n",
      "WAMIT/NEMOH parameters provided\n",
      "2016-09-23 16:43:02,141 - INFO - dtocean_moorings.core - \n",
      "FEX RAO values [[[  139335.58331554   240988.15543372   339763.24162636   434198.26858622\n",
      "     522770.76795974   605221.51652698   678926.16333582   745378.31434132\n",
      "     797922.21543381   837456.24249863   863686.71949438   861660.66438977\n",
      "     851742.77522189   817153.46512323   782734.92643893  2869709.1180385\n",
      "     664024.6300058    698112.78339703   694017.67807823   655524.18290285\n",
      "     536040.55940411   496974.53422396   466806.20338102   419806.71240724\n",
      "     381187.92748679   364036.00645744   314399.72719684   297230.69228898\n",
      "     266575.25028331   274553.23734506   236410.58348797   241424.8318773\n",
      "     280466.85346157   214818.57101724   280695.71402303   249665.61296209\n",
      "     321157.28685751   185913.96693486   423777.86780867   225207.78913147]]\n",
      "\n",
      " [[ 1535947.78404346  2605299.53096705  3551611.78465011  4319430.53937133\n",
      "    4846959.75523665  5079860.04639982  4964717.73315859  4495610.13580001\n",
      "    3715007.91458958  2721094.59541177  1631264.69446165   593359.05187434\n",
      "     342966.57517343  1048789.98578255  1593196.65990435  6426746.59805763\n",
      "    2035543.73801056  2242518.57119268  2322445.18517819  2241395.83653807\n",
      "    1971521.90698773  1915280.02843655  1780624.60627458  1567340.37766169\n",
      "    1523757.59288043  1406501.42273484  1240950.1109722   1079823.89467323\n",
      "     988604.38655149   867048.17867345   762202.02739845   613216.97035061\n",
      "     462659.9842415    576153.45698117   550765.66148482   409739.92627949\n",
      "     534676.46775395   181152.80513622   366442.49606326   174180.61157189]]\n",
      "\n",
      " [[ 2559717.91292473  2513858.35967156  2446680.58596026  2359118.20849161\n",
      "    2252324.85001108  2127822.36595111  1992262.09057434  1849741.05643435\n",
      "    1705651.60089019  1567115.35618853  1442306.90146447  1294457.25448139\n",
      "    1188685.55236303  1049704.15268679   962009.69699505  6441838.88438453\n",
      "     738342.45935429   805908.51033519   827261.73425965   755697.27803988\n",
      "     555690.31965571   508038.69380483   466628.05590878   390866.28280537\n",
      "     347598.87754557   332889.65853802   245167.73739738   215071.77038547\n",
      "     166499.8665606    165841.18548647   106369.6545018     81138.25697308\n",
      "      43171.88320672   251932.2757338    304664.04929322   268526.60781795\n",
      "     430673.38035281    90883.18300571   930839.79708269   341533.53973165]]]\n",
      "2016-09-23 16:43:02,141 - INFO - dtocean_moorings.core - \n",
      "fexfreqs, math.fabs(x - wavefreqs[tpind]) [array([ 0.01591549,  0.02775009,  0.03958469,  0.05141929,  0.06325389,\n",
      "        0.07508849,  0.08692308,  0.09875768,  0.11059228,  0.12242688,\n",
      "        0.13426148,  0.14609608,  0.15793067,  0.16976527,  0.18159987,\n",
      "        0.19343447,  0.20526907,  0.21710367,  0.22893826,  0.24077286,\n",
      "        0.25260746,  0.26444206,  0.27627666,  0.28811126,  0.29994585,\n",
      "        0.31178045,  0.32361505,  0.33544965,  0.34728425,  0.35911885,\n",
      "        0.37095344,  0.38278804,  0.39462264,  0.40645724,  0.41829184,\n",
      "        0.43012644,  0.44196103,  0.45379563,  0.46563023,  0.47746483]), 0.05]\n",
      "2016-09-23 16:43:02,141 - INFO - dtocean_moorings.core - \n",
      "fexfreqs, math.fabs(x - wavefreqs[tpind]) [array([ 0.01591549,  0.02775009,  0.03958469,  0.05141929,  0.06325389,\n",
      "        0.07508849,  0.08692308,  0.09875768,  0.11059228,  0.12242688,\n",
      "        0.13426148,  0.14609608,  0.15793067,  0.16976527,  0.18159987,\n",
      "        0.19343447,  0.20526907,  0.21710367,  0.22893826,  0.24077286,\n",
      "        0.25260746,  0.26444206,  0.27627666,  0.28811126,  0.29994585,\n",
      "        0.31178045,  0.32361505,  0.33544965,  0.34728425,  0.35911885,\n",
      "        0.37095344,  0.38278804,  0.39462264,  0.40645724,  0.41829184,\n",
      "        0.43012644,  0.44196103,  0.45379563,  0.46563023,  0.47746483]), 0.05]\n",
      "self.syswaveload[tpind]  [41986330.493579194, 4200004.8971866742, 23535231.494258784]\n",
      "2016-09-23 16:43:02,141 - INFO - dtocean_moorings.core - \n",
      "_______________________________________________________________________\n",
      "Foundation 0\n",
      "_______________________________________________________________________\n",
      "2016-09-23 16:43:02,141 - INFO - dtocean_moorings.core - \n",
      "%%%%%%%%%%%%%%%%%%%%%%%%%%%%%%%%%%%%%%%%%%%%%%%\n",
      "Pile foundation/anchor design\n",
      "%%%%%%%%%%%%%%%%%%%%%%%%%%%%%%%%%%%%%%%%%%%%%%%\n",
      "2016-09-23 16:43:03,260 - INFO - dtocean_moorings.core - \n",
      "%%%%%%%%%%%%%%%%%%%%%%%%%%%%%%%%%%%%%%%%%%%%%%%\n",
      "Gravity foundation/anchor design\n",
      "%%%%%%%%%%%%%%%%%%%%%%%%%%%%%%%%%%%%%%%%%%%%%%%\n",
      "2016-09-23 16:43:03,260 - INFO - dtocean_moorings.core - \n",
      "Solution found [13.25, 13.25, 3.25, 0.0, 0.0, [0, 0], [0, 0], 0, 0]\n",
      "2016-09-23 16:43:03,260 - INFO - dtocean_moorings.core - \n",
      "_______________________________________________________________________\n",
      "Foundation 1\n",
      "_______________________________________________________________________\n",
      "2016-09-23 16:43:03,260 - INFO - dtocean_moorings.core - \n",
      "%%%%%%%%%%%%%%%%%%%%%%%%%%%%%%%%%%%%%%%%%%%%%%%\n",
      "Pile foundation/anchor design\n",
      "%%%%%%%%%%%%%%%%%%%%%%%%%%%%%%%%%%%%%%%%%%%%%%%\n",
      "2016-09-23 16:43:04,270 - INFO - dtocean_moorings.core - \n",
      "%%%%%%%%%%%%%%%%%%%%%%%%%%%%%%%%%%%%%%%%%%%%%%%\n",
      "Gravity foundation/anchor design\n",
      "%%%%%%%%%%%%%%%%%%%%%%%%%%%%%%%%%%%%%%%%%%%%%%%\n",
      "2016-09-23 16:43:04,270 - INFO - dtocean_moorings.core - \n",
      "Solution found [13.0, 13.0, 3.25, 0.0, 0.0, [0, 0], [0, 0], 32.787953883665523, 516.46204611633448]\n",
      "2016-09-23 16:43:04,270 - INFO - dtocean_moorings.core - \n",
      "_______________________________________________________________________\n",
      "Foundation 2\n",
      "_______________________________________________________________________\n",
      "2016-09-23 16:43:04,270 - INFO - dtocean_moorings.core - \n",
      "%%%%%%%%%%%%%%%%%%%%%%%%%%%%%%%%%%%%%%%%%%%%%%%\n",
      "Pile foundation/anchor design\n",
      "%%%%%%%%%%%%%%%%%%%%%%%%%%%%%%%%%%%%%%%%%%%%%%%\n",
      "2016-09-23 16:43:05,280 - INFO - dtocean_moorings.core - \n",
      "%%%%%%%%%%%%%%%%%%%%%%%%%%%%%%%%%%%%%%%%%%%%%%%\n",
      "Gravity foundation/anchor design\n",
      "%%%%%%%%%%%%%%%%%%%%%%%%%%%%%%%%%%%%%%%%%%%%%%%\n",
      "2016-09-23 16:43:05,280 - INFO - dtocean_moorings.core - \n",
      "Solution found [13.0, 13.0, 3.25, 0.0, 0.0, [0, 0], [0, 0], 14.909621470637717, 534.34037852936228]\n",
      "2016-09-23 16:43:05,280 - INFO - dtocean_moorings.core - \n",
      "%%%%%%%%%%%%%%%%%%%%%%%%%%%%%%%%%%%%%%%%%%%%%%%\n",
      "Gravity foundation/anchor design\n",
      "%%%%%%%%%%%%%%%%%%%%%%%%%%%%%%%%%%%%%%%%%%%%%%%\n",
      "self.piledim [[4.0, 0.16, 26.0, 'False', 'id736', 0.0], [4.0, 0.16, 8.0, 'True', 'id736', 0.0], [4.0, 0.16, 8.0, 'True', 'id736', 0.0]]\n",
      "self.pileyld 355000000.0\n",
      "2016-09-23 16:43:05,280 - INFO - dtocean_moorings.core - \n",
      "self.possfoundtyp [[('pile', 5), ('gravity', 6)], [('pile', 5), ('gravity', 6)], [('pile', 5), ('gravity', 6)]]\n",
      "self.selfoundtyp [('gravity', 0.0), ('pile', 315160.0), ('pile', 315160.0)]\n",
      "2016-09-23 16:43:05,290 - INFO - dtocean_moorings.main - ===================================================================\n",
      "2016-09-23 16:43:05,290 - INFO - dtocean_moorings.main - Device ID: device005\n",
      "2016-09-23 16:43:05,290 - INFO - dtocean_moorings.main - ===================================================================\n",
      "2016-09-23 16:43:05,450 - INFO - dtocean_moorings.core - Foundation point coincides with grid line or grid point\n",
      "2016-09-23 16:43:05,631 - INFO - dtocean_moorings.core - Foundation point coincides with grid line or grid point\n",
      "2016-09-23 16:43:05,801 - INFO - dtocean_moorings.core - Foundation point coincides with grid line or grid point\n",
      "2016-09-23 16:43:05,970 - INFO - dtocean_moorings.core - Foundation point coincides with grid line or grid point\n",
      "2016-09-23 16:43:06,030 - WARNING - dtocean_moorings.core - WARNING: Reynolds number out of range for drag coefficient data\n",
      "2016-09-23 16:43:06,030 - WARNING - dtocean_moorings.core - WARNING: Reynolds number out of range for drag coefficient data\n",
      "2016-09-23 16:43:06,030 - WARNING - dtocean_moorings.core - WARNING: Reynolds number out of range for drag coefficient data\n",
      "2016-09-23 16:43:06,030 - WARNING - dtocean_moorings.core - WARNING: Reynolds number out of range for drag coefficient data\n",
      "2016-09-23 16:43:06,030 - WARNING - dtocean_moorings.core - WARNING: Reynolds number out of range for drag coefficient data\n",
      "2016-09-23 16:43:06,030 - WARNING - dtocean_moorings.core - WARNING: Reynolds number out of range for drag coefficient data\n",
      "2016-09-23 16:43:06,040 - WARNING - dtocean_moorings.core - WARNING: Reynolds number out of range for drag coefficient data\n",
      "2016-09-23 16:43:06,040 - WARNING - dtocean_moorings.core - WARNING: Reynolds number out of range for drag coefficient data\n",
      "2016-09-23 16:43:06,040 - WARNING - dtocean_moorings.core - WARNING: Reynolds number out of range for drag coefficient data\n",
      "2016-09-23 16:43:06,040 - WARNING - dtocean_moorings.core - WARNING: Reynolds number out of range for drag coefficient data\n",
      "2016-09-23 16:43:06,040 - INFO - dtocean_moorings.core - \n",
      "WAMIT/NEMOH parameters provided\n",
      "2016-09-23 16:43:06,040 - INFO - dtocean_moorings.core - \n",
      "FEX RAO values [[[  139335.58331554   240988.15543372   339763.24162636   434198.26858622\n",
      "     522770.76795974   605221.51652698   678926.16333582   745378.31434132\n",
      "     797922.21543381   837456.24249863   863686.71949438   861660.66438977\n",
      "     851742.77522189   817153.46512323   782734.92643893  2869709.1180385\n",
      "     664024.6300058    698112.78339703   694017.67807823   655524.18290285\n",
      "     536040.55940411   496974.53422396   466806.20338102   419806.71240724\n",
      "     381187.92748679   364036.00645744   314399.72719684   297230.69228898\n",
      "     266575.25028331   274553.23734506   236410.58348797   241424.8318773\n",
      "     280466.85346157   214818.57101724   280695.71402303   249665.61296209\n",
      "     321157.28685751   185913.96693486   423777.86780867   225207.78913147]]\n",
      "\n",
      " [[ 1535947.78404346  2605299.53096705  3551611.78465011  4319430.53937133\n",
      "    4846959.75523665  5079860.04639982  4964717.73315859  4495610.13580001\n",
      "    3715007.91458958  2721094.59541177  1631264.69446165   593359.05187434\n",
      "     342966.57517343  1048789.98578255  1593196.65990435  6426746.59805763\n",
      "    2035543.73801056  2242518.57119268  2322445.18517819  2241395.83653807\n",
      "    1971521.90698773  1915280.02843655  1780624.60627458  1567340.37766169\n",
      "    1523757.59288043  1406501.42273484  1240950.1109722   1079823.89467323\n",
      "     988604.38655149   867048.17867345   762202.02739845   613216.97035061\n",
      "     462659.9842415    576153.45698117   550765.66148482   409739.92627949\n",
      "     534676.46775395   181152.80513622   366442.49606326   174180.61157189]]\n",
      "\n",
      " [[ 2559717.91292473  2513858.35967156  2446680.58596026  2359118.20849161\n",
      "    2252324.85001108  2127822.36595111  1992262.09057434  1849741.05643435\n",
      "    1705651.60089019  1567115.35618853  1442306.90146447  1294457.25448139\n",
      "    1188685.55236303  1049704.15268679   962009.69699505  6441838.88438453\n",
      "     738342.45935429   805908.51033519   827261.73425965   755697.27803988\n",
      "     555690.31965571   508038.69380483   466628.05590878   390866.28280537\n",
      "     347598.87754557   332889.65853802   245167.73739738   215071.77038547\n",
      "     166499.8665606    165841.18548647   106369.6545018     81138.25697308\n",
      "      43171.88320672   251932.2757338    304664.04929322   268526.60781795\n",
      "     430673.38035281    90883.18300571   930839.79708269   341533.53973165]]]\n",
      "2016-09-23 16:43:06,040 - INFO - dtocean_moorings.core - \n",
      "fexfreqs, math.fabs(x - wavefreqs[tpind]) [array([ 0.01591549,  0.02775009,  0.03958469,  0.05141929,  0.06325389,\n",
      "        0.07508849,  0.08692308,  0.09875768,  0.11059228,  0.12242688,\n",
      "        0.13426148,  0.14609608,  0.15793067,  0.16976527,  0.18159987,\n",
      "        0.19343447,  0.20526907,  0.21710367,  0.22893826,  0.24077286,\n",
      "        0.25260746,  0.26444206,  0.27627666,  0.28811126,  0.29994585,\n",
      "        0.31178045,  0.32361505,  0.33544965,  0.34728425,  0.35911885,\n",
      "        0.37095344,  0.38278804,  0.39462264,  0.40645724,  0.41829184,\n",
      "        0.43012644,  0.44196103,  0.45379563,  0.46563023,  0.47746483]), 0.05]\n",
      "2016-09-23 16:43:06,040 - INFO - dtocean_moorings.core - \n",
      "fexfreqs, math.fabs(x - wavefreqs[tpind]) [array([ 0.01591549,  0.02775009,  0.03958469,  0.05141929,  0.06325389,\n",
      "        0.07508849,  0.08692308,  0.09875768,  0.11059228,  0.12242688,\n",
      "        0.13426148,  0.14609608,  0.15793067,  0.16976527,  0.18159987,\n",
      "        0.19343447,  0.20526907,  0.21710367,  0.22893826,  0.24077286,\n",
      "        0.25260746,  0.26444206,  0.27627666,  0.28811126,  0.29994585,\n",
      "        0.31178045,  0.32361505,  0.33544965,  0.34728425,  0.35911885,\n",
      "        0.37095344,  0.38278804,  0.39462264,  0.40645724,  0.41829184,\n",
      "        0.43012644,  0.44196103,  0.45379563,  0.46563023,  0.47746483]), 0.05]\n",
      "self.syswaveload[tpind]  [41986330.493579194, 4200004.8971866742, 23535231.494258784]\n",
      "2016-09-23 16:43:06,040 - WARNING - dtocean_moorings.core - WARNING: Reynolds number out of range for drag coefficient data\n",
      "2016-09-23 16:43:06,040 - WARNING - dtocean_moorings.core - WARNING: Reynolds number out of range for drag coefficient data\n",
      "2016-09-23 16:43:06,040 - WARNING - dtocean_moorings.core - WARNING: Reynolds number out of range for drag coefficient data\n",
      "2016-09-23 16:43:06,040 - WARNING - dtocean_moorings.core - WARNING: Reynolds number out of range for drag coefficient data\n",
      "2016-09-23 16:43:06,040 - WARNING - dtocean_moorings.core - WARNING: Reynolds number out of range for drag coefficient data\n",
      "2016-09-23 16:43:06,051 - WARNING - dtocean_moorings.core - WARNING: Reynolds number out of range for drag coefficient data\n",
      "2016-09-23 16:43:06,051 - WARNING - dtocean_moorings.core - WARNING: Reynolds number out of range for drag coefficient data\n",
      "2016-09-23 16:43:06,051 - WARNING - dtocean_moorings.core - WARNING: Reynolds number out of range for drag coefficient data\n",
      "2016-09-23 16:43:06,051 - WARNING - dtocean_moorings.core - WARNING: Reynolds number out of range for drag coefficient data\n",
      "2016-09-23 16:43:06,051 - WARNING - dtocean_moorings.core - WARNING: Reynolds number out of range for drag coefficient data\n",
      "2016-09-23 16:43:06,051 - INFO - dtocean_moorings.core - \n",
      "WAMIT/NEMOH parameters provided\n",
      "2016-09-23 16:43:06,051 - INFO - dtocean_moorings.core - \n",
      "FEX RAO values [[[  139335.58331554   240988.15543372   339763.24162636   434198.26858622\n",
      "     522770.76795974   605221.51652698   678926.16333582   745378.31434132\n",
      "     797922.21543381   837456.24249863   863686.71949438   861660.66438977\n",
      "     851742.77522189   817153.46512323   782734.92643893  2869709.1180385\n",
      "     664024.6300058    698112.78339703   694017.67807823   655524.18290285\n",
      "     536040.55940411   496974.53422396   466806.20338102   419806.71240724\n",
      "     381187.92748679   364036.00645744   314399.72719684   297230.69228898\n",
      "     266575.25028331   274553.23734506   236410.58348797   241424.8318773\n",
      "     280466.85346157   214818.57101724   280695.71402303   249665.61296209\n",
      "     321157.28685751   185913.96693486   423777.86780867   225207.78913147]]\n",
      "\n",
      " [[ 1535947.78404346  2605299.53096705  3551611.78465011  4319430.53937133\n",
      "    4846959.75523665  5079860.04639982  4964717.73315859  4495610.13580001\n",
      "    3715007.91458958  2721094.59541177  1631264.69446165   593359.05187434\n",
      "     342966.57517343  1048789.98578255  1593196.65990435  6426746.59805763\n",
      "    2035543.73801056  2242518.57119268  2322445.18517819  2241395.83653807\n",
      "    1971521.90698773  1915280.02843655  1780624.60627458  1567340.37766169\n",
      "    1523757.59288043  1406501.42273484  1240950.1109722   1079823.89467323\n",
      "     988604.38655149   867048.17867345   762202.02739845   613216.97035061\n",
      "     462659.9842415    576153.45698117   550765.66148482   409739.92627949\n",
      "     534676.46775395   181152.80513622   366442.49606326   174180.61157189]]\n",
      "\n",
      " [[ 2559717.91292473  2513858.35967156  2446680.58596026  2359118.20849161\n",
      "    2252324.85001108  2127822.36595111  1992262.09057434  1849741.05643435\n",
      "    1705651.60089019  1567115.35618853  1442306.90146447  1294457.25448139\n",
      "    1188685.55236303  1049704.15268679   962009.69699505  6441838.88438453\n",
      "     738342.45935429   805908.51033519   827261.73425965   755697.27803988\n",
      "     555690.31965571   508038.69380483   466628.05590878   390866.28280537\n",
      "     347598.87754557   332889.65853802   245167.73739738   215071.77038547\n",
      "     166499.8665606    165841.18548647   106369.6545018     81138.25697308\n",
      "      43171.88320672   251932.2757338    304664.04929322   268526.60781795\n",
      "     430673.38035281    90883.18300571   930839.79708269   341533.53973165]]]\n",
      "2016-09-23 16:43:06,051 - INFO - dtocean_moorings.core - \n",
      "fexfreqs, math.fabs(x - wavefreqs[tpind]) [array([ 0.01591549,  0.02775009,  0.03958469,  0.05141929,  0.06325389,\n",
      "        0.07508849,  0.08692308,  0.09875768,  0.11059228,  0.12242688,\n",
      "        0.13426148,  0.14609608,  0.15793067,  0.16976527,  0.18159987,\n",
      "        0.19343447,  0.20526907,  0.21710367,  0.22893826,  0.24077286,\n",
      "        0.25260746,  0.26444206,  0.27627666,  0.28811126,  0.29994585,\n",
      "        0.31178045,  0.32361505,  0.33544965,  0.34728425,  0.35911885,\n",
      "        0.37095344,  0.38278804,  0.39462264,  0.40645724,  0.41829184,\n",
      "        0.43012644,  0.44196103,  0.45379563,  0.46563023,  0.47746483]), 0.05]\n",
      "2016-09-23 16:43:06,051 - INFO - dtocean_moorings.core - \n",
      "fexfreqs, math.fabs(x - wavefreqs[tpind]) [array([ 0.01591549,  0.02775009,  0.03958469,  0.05141929,  0.06325389,\n",
      "        0.07508849,  0.08692308,  0.09875768,  0.11059228,  0.12242688,\n",
      "        0.13426148,  0.14609608,  0.15793067,  0.16976527,  0.18159987,\n",
      "        0.19343447,  0.20526907,  0.21710367,  0.22893826,  0.24077286,\n",
      "        0.25260746,  0.26444206,  0.27627666,  0.28811126,  0.29994585,\n",
      "        0.31178045,  0.32361505,  0.33544965,  0.34728425,  0.35911885,\n",
      "        0.37095344,  0.38278804,  0.39462264,  0.40645724,  0.41829184,\n",
      "        0.43012644,  0.44196103,  0.45379563,  0.46563023,  0.47746483]), 0.05]\n",
      "self.syswaveload[tpind]  [41986330.493579194, 4200004.8971866742, 23535231.494258784]\n",
      "2016-09-23 16:43:06,051 - INFO - dtocean_moorings.core - \n",
      "_______________________________________________________________________\n",
      "Foundation 0\n",
      "_______________________________________________________________________\n",
      "2016-09-23 16:43:06,051 - INFO - dtocean_moorings.core - \n",
      "%%%%%%%%%%%%%%%%%%%%%%%%%%%%%%%%%%%%%%%%%%%%%%%\n",
      "Pile foundation/anchor design\n",
      "%%%%%%%%%%%%%%%%%%%%%%%%%%%%%%%%%%%%%%%%%%%%%%%\n",
      "2016-09-23 16:43:07,250 - INFO - dtocean_moorings.core - \n",
      "%%%%%%%%%%%%%%%%%%%%%%%%%%%%%%%%%%%%%%%%%%%%%%%\n",
      "Gravity foundation/anchor design\n",
      "%%%%%%%%%%%%%%%%%%%%%%%%%%%%%%%%%%%%%%%%%%%%%%%\n",
      "2016-09-23 16:43:07,250 - INFO - dtocean_moorings.core - \n",
      "Solution found [13.25, 13.25, 3.25, 0.0, 0.0, [0, 0], [0, 0], 0, 0]\n",
      "2016-09-23 16:43:07,250 - INFO - dtocean_moorings.core - \n",
      "_______________________________________________________________________\n",
      "Foundation 1\n",
      "_______________________________________________________________________\n",
      "2016-09-23 16:43:07,250 - INFO - dtocean_moorings.core - \n",
      "%%%%%%%%%%%%%%%%%%%%%%%%%%%%%%%%%%%%%%%%%%%%%%%\n",
      "Pile foundation/anchor design\n",
      "%%%%%%%%%%%%%%%%%%%%%%%%%%%%%%%%%%%%%%%%%%%%%%%\n",
      "2016-09-23 16:43:08,280 - INFO - dtocean_moorings.core - \n",
      "%%%%%%%%%%%%%%%%%%%%%%%%%%%%%%%%%%%%%%%%%%%%%%%\n",
      "Gravity foundation/anchor design\n",
      "%%%%%%%%%%%%%%%%%%%%%%%%%%%%%%%%%%%%%%%%%%%%%%%\n",
      "2016-09-23 16:43:08,280 - INFO - dtocean_moorings.core - \n",
      "Solution found [13.0, 13.0, 3.25, 0.0, 0.0, [0, 0], [0, 0], 32.787953883665523, 516.46204611633448]\n",
      "2016-09-23 16:43:08,280 - INFO - dtocean_moorings.core - \n",
      "_______________________________________________________________________\n",
      "Foundation 2\n",
      "_______________________________________________________________________\n",
      "2016-09-23 16:43:08,280 - INFO - dtocean_moorings.core - \n",
      "%%%%%%%%%%%%%%%%%%%%%%%%%%%%%%%%%%%%%%%%%%%%%%%\n",
      "Pile foundation/anchor design\n",
      "%%%%%%%%%%%%%%%%%%%%%%%%%%%%%%%%%%%%%%%%%%%%%%%\n",
      "2016-09-23 16:43:09,280 - INFO - dtocean_moorings.core - \n",
      "%%%%%%%%%%%%%%%%%%%%%%%%%%%%%%%%%%%%%%%%%%%%%%%\n",
      "Gravity foundation/anchor design\n",
      "%%%%%%%%%%%%%%%%%%%%%%%%%%%%%%%%%%%%%%%%%%%%%%%\n",
      "2016-09-23 16:43:09,280 - INFO - dtocean_moorings.core - \n",
      "Solution found [13.0, 13.0, 3.25, 0.0, 0.0, [0, 0], [0, 0], 14.909621470637717, 534.34037852936228]\n",
      "2016-09-23 16:43:09,280 - INFO - dtocean_moorings.core - \n",
      "%%%%%%%%%%%%%%%%%%%%%%%%%%%%%%%%%%%%%%%%%%%%%%%\n",
      "Gravity foundation/anchor design\n",
      "%%%%%%%%%%%%%%%%%%%%%%%%%%%%%%%%%%%%%%%%%%%%%%%\n",
      "self.piledim [[4.0, 0.16, 26.0, 'False', 'id736', 0.0], [4.0, 0.16, 8.0, 'True', 'id736', 0.0], [4.0, 0.16, 8.0, 'True', 'id736', 0.0]]\n",
      "self.pileyld 355000000.0\n",
      "2016-09-23 16:43:09,290 - INFO - dtocean_moorings.core - \n",
      "self.possfoundtyp [[('pile', 5), ('gravity', 6)], [('pile', 5), ('gravity', 6)], [('pile', 5), ('gravity', 6)]]\n",
      "self.selfoundtyp [('gravity', 0.0), ('pile', 315160.0), ('pile', 315160.0)]\n",
      "2016-09-23 16:43:09,290 - INFO - dtocean_moorings.main - ===================================================================\n",
      "2016-09-23 16:43:09,290 - INFO - dtocean_moorings.main - Substation ID: subhub000\n",
      "2016-09-23 16:43:09,290 - INFO - dtocean_moorings.main - ===================================================================\n",
      "2016-09-23 16:43:09,450 - INFO - dtocean_moorings.core - Foundation point coincides with grid line or grid point\n",
      "2016-09-23 16:43:09,641 - INFO - dtocean_moorings.core - Foundation point coincides with grid line or grid point\n",
      "2016-09-23 16:43:09,700 - INFO - dtocean_moorings.core - \n",
      "WAMIT/NEMOH parameters not provided\n",
      "2016-09-23 16:43:09,940 - INFO - dtocean_moorings.core - Mass/viscous loads important, use Morison equation\n",
      "2016-09-23 16:43:10,250 - INFO - dtocean_moorings.core - \n",
      "WAMIT/NEMOH parameters not provided\n",
      "2016-09-23 16:43:10,500 - INFO - dtocean_moorings.core - Mass/viscous loads important, use Morison equation\n",
      "2016-09-23 16:43:10,851 - INFO - dtocean_moorings.core - \n",
      "WAMIT/NEMOH parameters not provided\n",
      "2016-09-23 16:43:11,101 - INFO - dtocean_moorings.core - Mass/viscous loads important, use Morison equation\n",
      "2016-09-23 16:43:11,450 - INFO - dtocean_moorings.core - \n",
      "_______________________________________________________________________\n",
      "Foundation 0\n",
      "_______________________________________________________________________\n",
      "2016-09-23 16:43:11,450 - INFO - dtocean_moorings.core - \n",
      "%%%%%%%%%%%%%%%%%%%%%%%%%%%%%%%%%%%%%%%%%%%%%%%\n",
      "Pile foundation/anchor design\n",
      "%%%%%%%%%%%%%%%%%%%%%%%%%%%%%%%%%%%%%%%%%%%%%%%\n",
      "2016-09-23 16:43:12,301 - INFO - dtocean_moorings.core - \n",
      "%%%%%%%%%%%%%%%%%%%%%%%%%%%%%%%%%%%%%%%%%%%%%%%\n",
      "Pile foundation/anchor design\n",
      "%%%%%%%%%%%%%%%%%%%%%%%%%%%%%%%%%%%%%%%%%%%%%%%\n",
      "self.piledim [[2.0830000000000002, 0.022200000000000001, 4.1660000000000004, 'True', 'id708', 0.0]]\n",
      "self.pileyld 355000000.0\n",
      "2016-09-23 16:43:12,321 - INFO - dtocean_moorings.main - \n",
      "_________________________________________________________________________\n",
      "Array level foundation installation table\n",
      "   devices [-] foundations [-] type [-]                         subtype [-]  \\\n",
      "0    device001   foundation000  gravity  concrete/steel composite structure   \n",
      "1    device001   foundation001     pile                           pipe pile   \n",
      "2    device001   foundation002     pile                           pipe pile   \n",
      "3    device002   foundation000  gravity  concrete/steel composite structure   \n",
      "4    device002   foundation001     pile                           pipe pile   \n",
      "5    device002   foundation002     pile                           pipe pile   \n",
      "6    device003   foundation000  gravity  concrete/steel composite structure   \n",
      "7    device003   foundation001     pile                           pipe pile   \n",
      "8    device003   foundation002     pile                           pipe pile   \n",
      "9    device004   foundation000  gravity  concrete/steel composite structure   \n",
      "10   device004   foundation001     pile                           pipe pile   \n",
      "11   device004   foundation002     pile                           pipe pile   \n",
      "12   device005   foundation000  gravity  concrete/steel composite structure   \n",
      "13   device005   foundation001     pile                           pipe pile   \n",
      "14   device005   foundation002     pile                           pipe pile   \n",
      "15   subhub000   foundation000     pile                           pipe pile   \n",
      "\n",
      "   marker [-]  x coord [m]  y coord [m]  bathymetry at MSL [m]  length [m]  \\\n",
      "0        0000  1130.307986   660.230527                  -85.0      13.250   \n",
      "1        0001  1448.609649   523.541013                  -85.0       4.000   \n",
      "2        0003  1171.082365   316.228460                  -85.0       4.000   \n",
      "3        0005  1630.307986   660.230527                  -85.0      13.250   \n",
      "4        0006  1948.609649   523.541013                  -85.0       4.000   \n",
      "5        0008  1671.082365   316.228460                  -85.0       4.000   \n",
      "6        0010  1380.307986  1410.230527                  -85.0      13.250   \n",
      "7        0011  1698.609649  1273.541013                  -85.0       4.000   \n",
      "8        0013  1421.082365  1066.228460                  -85.0       4.000   \n",
      "9        0015  1130.307986  2160.230527                  -85.0      13.250   \n",
      "10       0016  1448.609649  2023.541013                  -85.0       4.000   \n",
      "11       0018  1171.082365  1816.228460                  -85.0       4.000   \n",
      "12       0020  1630.307986  2160.230527                  -85.0      13.250   \n",
      "13       0021  1948.609649  2023.541013                  -85.0       4.000   \n",
      "14       0023  1671.082365  1816.228460                  -85.0       4.000   \n",
      "15       0025  1500.000000  1270.000000                  -85.0       2.083   \n",
      "\n",
      "    width [m]  height [m] installation depth [m]  \\\n",
      "0      13.250       3.250                    n/a   \n",
      "1       4.000       8.000                      8   \n",
      "2       4.000       8.000                      8   \n",
      "3      13.250       3.250                    n/a   \n",
      "4       4.000       8.000                      8   \n",
      "5       4.000       8.000                      8   \n",
      "6      13.250       3.250                    n/a   \n",
      "7       4.000       8.000                      8   \n",
      "8       4.000       8.000                      8   \n",
      "9      13.250       3.250                    n/a   \n",
      "10      4.000       8.000                      8   \n",
      "11      4.000       8.000                      8   \n",
      "12     13.250       3.250                    n/a   \n",
      "13      4.000       8.000                      8   \n",
      "14      4.000       8.000                      8   \n",
      "15      2.083       4.166                  4.166   \n",
      "\n",
      "   layer information (layer number, soil type, soil depth) [-,-,m]  \\\n",
      "0                                      [(0, ls, inf)]                \n",
      "1                                      [(0, ls, inf)]                \n",
      "2                                      [(0, ls, inf)]                \n",
      "3                                      [(0, ls, inf)]                \n",
      "4                                      [(0, ls, inf)]                \n",
      "5                                      [(0, ls, inf)]                \n",
      "6                                      [(0, ls, inf)]                \n",
      "7                                      [(0, ls, inf)]                \n",
      "8                                      [(0, ls, inf)]                \n",
      "9                                      [(0, ls, inf)]                \n",
      "10                                     [(0, ls, inf)]                \n",
      "11                                     [(0, ls, inf)]                \n",
      "12                                     [(0, ls, inf)]                \n",
      "13                                     [(0, ls, inf)]                \n",
      "14                                     [(0, ls, inf)]                \n",
      "15                                     [(0, ls, inf)]                \n",
      "\n",
      "    dry mass [kg] grout type [-]  grout volume [m3]  \n",
      "0        0.000000            n/a                0.0  \n",
      "1   135254.360196            n/a                0.0  \n",
      "2   135254.360196            n/a                0.0  \n",
      "3        0.000000            n/a                0.0  \n",
      "4   135254.360196            n/a                0.0  \n",
      "5   135254.360196            n/a                0.0  \n",
      "6        0.000000            n/a                0.0  \n",
      "7   135254.360196            n/a                0.0  \n",
      "8   135254.360196            n/a                0.0  \n",
      "9        0.000000            n/a                0.0  \n",
      "10  135254.360196            n/a                0.0  \n",
      "11  135254.360196            n/a                0.0  \n",
      "12       0.000000            n/a                0.0  \n",
      "13  135254.360196            n/a                0.0  \n",
      "14  135254.360196            n/a                0.0  \n",
      "15    5226.749660            n/a                0.0  \n",
      "_________________________________________________________________________\n",
      "Array level economics bill of materials (self.sysecobom)\n",
      "   compid [-]  quantity [-]  component cost [euros] [-]  project year\n",
      "0         n/a           1.0                       0.000             0\n",
      "1       id736           1.0                  315160.000             0\n",
      "2       id736           1.0                  315160.000             0\n",
      "3         n/a           1.0                       0.000             0\n",
      "4       id736           1.0                  315160.000             0\n",
      "5       id736           1.0                  315160.000             0\n",
      "6         n/a           1.0                       0.000             0\n",
      "7       id736           1.0                  315160.000             0\n",
      "8       id736           1.0                  315160.000             0\n",
      "9         n/a           1.0                       0.000             0\n",
      "10      id736           1.0                  315160.000             0\n",
      "11      id736           1.0                  315160.000             0\n",
      "12        n/a           1.0                       0.000             0\n",
      "13      id736           1.0                  315160.000             0\n",
      "14      id736           1.0                  315160.000             0\n",
      "15      id708           1.0                   12214.712             0\n",
      "_________________________________________________________________________\n",
      "Array level RAM bill of materials (self.sysrambom)\n",
      "{'device003': {'Foundation': {'marker': [[10], [11, 12], [13, 14]], 'quantity': Counter({'id736': 2, 'gravity': 1})}}, 'device002': {'Foundation': {'marker': [[5], [6, 7], [8, 9]], 'quantity': Counter({'id736': 2, 'gravity': 1})}}, 'device001': {'Foundation': {'marker': [[0], [1, 2], [3, 4]], 'quantity': Counter({'id736': 2, 'gravity': 1})}}, 'device005': {'Foundation': {'marker': [[20], [21, 22], [23, 24]], 'quantity': Counter({'id736': 2, 'gravity': 1})}}, 'device004': {'Foundation': {'marker': [[15], [16, 17], [18, 19]], 'quantity': Counter({'id736': 2, 'gravity': 1})}}, 'subhub000': {'Substation foundation': {'marker': [[25, 26]], 'quantity': Counter({'id708': 1})}}}\n",
      "_________________________________________________________________________\n",
      "Array level RAM hierarchy (self.syshier)\n",
      "{'device003': {'Foundation': [['gravity'], 'id736', 'id736']}, 'device002': {'Foundation': [['gravity'], 'id736', 'id736']}, 'device001': {'Foundation': [['gravity'], 'id736', 'id736']}, 'device005': {'Foundation': [['gravity'], 'id736', 'id736']}, 'device004': {'Foundation': [['gravity'], 'id736', 'id736']}, 'subhub000': {'Substation foundation': ['id708']}}\n",
      "2016-09-23 16:43:12,351 - INFO - aneris.control.data - New \"farm.moorings_foundations_network\" data stored with index C66PRT\n",
      "2016-09-23 16:43:12,351 - INFO - aneris.control.data - New \"farm.moorings_foundations_economics_data\" data stored with index T4WTL9\n",
      "2016-09-23 16:43:12,351 - INFO - aneris.control.data - New \"farm.foundations_component_data\" data stored with index E86OUX\n",
      "2016-09-23 16:43:12,351 - INFO - aneris.control.data - New \"farm.foundations_soil_data\" data stored with index WX0L7X\n",
      "2016-09-23 16:43:12,351 - INFO - aneris.control.data - New \"farm.moorings_dimensions\" data stored with index M2UBAR\n",
      "2016-09-23 16:43:12,351 - INFO - aneris.control.simulation - Datastate with level \"mooring and foundations output\" stored\n",
      "2016-09-23 16:43:12,371 - INFO - dtocean_core.core - Auto executing interface Economics\n",
      "2016-09-23 16:43:12,371 - INFO - aneris.control.data - New \"project.capex_total\" data stored with index SPLQRZ\n",
      "2016-09-23 16:43:12,381 - INFO - aneris.control.data - New \"project.discounted_capex\" data stored with index 2E745O\n",
      "2016-09-23 16:43:12,381 - INFO - aneris.control.data - New \"project.capex_breakdown\" data stored with index 8HNQJI\n",
      "2016-09-23 16:43:12,381 - INFO - aneris.control.simulation - Datastate with level \"mooring and foundations local output\" stored\n",
      "2016-09-23 16:43:12,411 - INFO - dtocean_core.core - Auto executing interface Economics\n",
      "2016-09-23 16:43:12,421 - INFO - aneris.control.data - New \"project.capex_total\" data stored with index 9CY5DN\n",
      "2016-09-23 16:43:12,421 - INFO - aneris.control.data - New \"project.discounted_capex\" data stored with index YC4UOP\n",
      "2016-09-23 16:43:12,421 - INFO - aneris.control.data - New \"project.capex_breakdown\" data stored with index 46QH1U\n",
      "2016-09-23 16:43:12,421 - INFO - aneris.control.simulation - Datastate with level \"mooring and foundations global output\" stored\n"
     ]
    }
   ],
   "source": [
    "basic_strategy = strategy_manager.get_strategy(\"Basic\")\n",
    "basic_strategy.execute(new_core, new_project)"
   ]
  },
  {
   "cell_type": "markdown",
   "metadata": {},
   "source": [
    "## Examine the Hydrodynamics results\n",
    "\n",
    "Currently, there is no robustness built into the core, so the assumption is that the modules executed successfully. This will have to be improved towards deployment of the final software.\n",
    "\n",
    "Lets see what outputs are available from the Hydrodynamics module."
   ]
  },
  {
   "cell_type": "code",
   "execution_count": 32,
   "metadata": {
    "collapsed": false
   },
   "outputs": [
    {
     "name": "stdout",
     "output_type": "stream",
     "text": [
      "2016-09-23 16:43:12,470 - INFO - dtocean_core.core - Inspecting level hydrodynamics output\n"
     ]
    }
   ],
   "source": [
    "hydro_branch.inspect(new_core, new_project)"
   ]
  },
  {
   "cell_type": "code",
   "execution_count": 33,
   "metadata": {
    "collapsed": false
   },
   "outputs": [
    {
     "data": {
      "text/html": [
       "<ul><li>farm.main_direction: <b>satisfied</b></li><li>farm.mean_power_pmf_per_device: <b>satisfied</b></li><li>farm.annual_energy: <b>satisfied</b></li><li>farm.mean_power_per_device: <b>satisfied</b></li><li>farm.tidal_occurrence: <b>unavailable</b></li><li>device.external_forces: <b>satisfied</b></li><li>farm.mean_power_hist_per_device: <b>satisfied</b></li><li>farm.annual_energy_per_device: <b>satisfied</b></li><li>farm.layout: <b>satisfied</b></li><li>farm.q_factor_per_device: <b>satisfied</b></li><li>farm.q_factor: <b>satisfied</b></li><li>farm.resource_reduction: <b>satisfied</b></li><li>farm.number_of_devices: <b>satisfied</b></li><li>farm.wave_occurrence: <b>satisfied</b></li></ul>"
      ],
      "text/plain": [
       "<IPython.core.display.HTML object>"
      ]
     },
     "execution_count": 33,
     "metadata": {},
     "output_type": "execute_result"
    }
   ],
   "source": [
    "output_status = hydro_branch.get_output_status(new_core, new_project)\n",
    "message = html_dict(output_status)\n",
    "HTML(message)"
   ]
  },
  {
   "cell_type": "markdown",
   "metadata": {},
   "source": [
    "Let's check the number of devices and annual output of the farm, using just information in the data object."
   ]
  },
  {
   "cell_type": "code",
   "execution_count": 34,
   "metadata": {
    "collapsed": false,
    "scrolled": true
   },
   "outputs": [
    {
     "data": {
      "text/html": [
       "<p><b>Number of Devices:</b> 5</p><p><b>Array Annual Energy Production:</b> <i>22615.0878477</i> (MWh)</p><p><b>Mean Power Production Per Device</b> (MW):<ul><li>Device003: <b>426.865366701</b></li><li>Device002: <b>424.594043848</b></li><li>Device001: <b>437.20654172</b></li><li>Device005: <b>439.83097019</b></li><li>Device004: <b>464.899495699</b></li></ul></p>"
      ],
      "text/plain": [
       "<IPython.core.display.HTML object>"
      ]
     },
     "execution_count": 34,
     "metadata": {},
     "output_type": "execute_result"
    }
   ],
   "source": [
    "n_devices = hydro_branch.get_output_variable(new_core, new_project, \"farm.number_of_devices\")\n",
    "meta_data = n_devices.get_metadata(new_core)\n",
    "name = meta_data.title\n",
    "value = n_devices.get_value(new_core, new_project)\n",
    "message_one = \"<p><b>{}:</b> {}</p>\".format(name, value)\n",
    "\n",
    "farm_annual_energy = hydro_branch.get_output_variable(new_core, new_project, \"farm.annual_energy\")\n",
    "meta_data = farm_annual_energy.get_metadata(new_core)\n",
    "name = meta_data.title\n",
    "value = farm_annual_energy.get_value(new_core, new_project)\n",
    "units = meta_data.units[0]\n",
    "message_two = \"<p><b>{}:</b> <i>{}</i> ({})</p>\".format(name, value, units)\n",
    "\n",
    "farm_device_power = hydro_branch.get_output_variable(new_core, new_project, \"farm.mean_power_per_device\")\n",
    "meta_data = farm_device_power.get_metadata(new_core)\n",
    "name = meta_data.title\n",
    "value = farm_device_power.get_value(new_core, new_project)\n",
    "units = meta_data.units[0]\n",
    "message_three = \"<p><b>{}</b> ({}):{}</p>\".format(name, units, html_dict(value))\n",
    "\n",
    "HTML(message_one + message_two + message_three)"
   ]
  },
  {
   "cell_type": "code",
   "execution_count": 35,
   "metadata": {
    "collapsed": false
   },
   "outputs": [
    {
     "data": {
      "text/plain": [
       "{'Device001': <shapely.geometry.point.Point at 0x2a2bb908>,\n",
       " 'Device002': <shapely.geometry.point.Point at 0x2a2bb828>,\n",
       " 'Device003': <shapely.geometry.point.Point at 0x2a2bb208>,\n",
       " 'Device004': <shapely.geometry.point.Point at 0x2a2bb438>,\n",
       " 'Device005': <shapely.geometry.point.Point at 0x2a2bb668>}"
      ]
     },
     "execution_count": 35,
     "metadata": {},
     "output_type": "execute_result"
    }
   ],
   "source": [
    "layout = hydro_branch.get_output_variable(new_core, new_project, \"farm.layout\")\n",
    "layout.get_value(new_core, new_project)"
   ]
  },
  {
   "cell_type": "code",
   "execution_count": 36,
   "metadata": {
    "collapsed": false
   },
   "outputs": [
    {
     "data": {
      "image/png": "[encoded data removed]",
      "text/plain": [
       "<matplotlib.figure.Figure at 0xf7c5e10>"
      ]
     },
     "metadata": {},
     "output_type": "display_data"
    }
   ],
   "source": [
    "layout.plot(new_core, new_project)"
   ]
  },
  {
   "cell_type": "code",
   "execution_count": 37,
   "metadata": {
    "collapsed": false
   },
   "outputs": [
    {
     "data": {
      "image/png": "[encoded data removed]",
      "text/plain": [
       "<matplotlib.figure.Figure at 0x2a2bb0b8>"
      ]
     },
     "metadata": {},
     "output_type": "display_data"
    }
   ],
   "source": [
    "power_pmf = hydro_branch.get_output_variable(new_core, new_project, \"farm.mean_power_pmf_per_device\")\n",
    "power_pmf.plot(new_core, new_project)\n",
    "power_pmf_value = power_pmf.get_value(new_core, new_project)"
   ]
  },
  {
   "cell_type": "code",
   "execution_count": 38,
   "metadata": {
    "collapsed": false
   },
   "outputs": [
    {
     "data": {
      "image/png": "[encoded data removed]",
      "text/plain": [
       "<matplotlib.figure.Figure at 0xf7c56d8>"
      ]
     },
     "metadata": {},
     "output_type": "display_data"
    }
   ],
   "source": [
    "power_hist = electro_branch.get_input_variable(new_core, new_project, \"farm.mean_power_hist_per_device\")\n",
    "power_hist.plot(new_core, new_project)"
   ]
  },
  {
   "cell_type": "markdown",
   "metadata": {},
   "source": [
    "## Examine the Electrical Sub-systems results\n",
    "\n",
    "Lets see what outputs are available from the modules."
   ]
  },
  {
   "cell_type": "code",
   "execution_count": 39,
   "metadata": {
    "collapsed": false
   },
   "outputs": [
    {
     "name": "stdout",
     "output_type": "stream",
     "text": [
      "2016-09-23 16:43:13,510 - INFO - dtocean_core.core - Inspecting level electrical sub systems output\n"
     ]
    }
   ],
   "source": [
    "electro_branch.inspect(new_core, new_project)"
   ]
  },
  {
   "cell_type": "code",
   "execution_count": 40,
   "metadata": {
    "collapsed": false
   },
   "outputs": [
    {
     "data": {
      "text/html": [
       "<ul><li>farm.cable_routes: <b>satisfied</b></li><li>farm.substation_foundation_location: <b>satisfied</b></li><li>farm.annual_energy: <b>overwritten</b></li><li>farm.substation_layout: <b>satisfied</b></li><li>farm.electrical_economics_data: <b>satisfied</b></li><li>farm.electrical_network: <b>satisfied</b></li><li>farm.electrical_component_data: <b>satisfied</b></li><li>farm.substation_props: <b>satisfied</b></li><li>farm.umbilical_cable_data: <b>unavailable</b></li><li>farm.umbilical_seabed_connection: <b>unavailable</b></li><li>farm.substation_cog: <b>satisfied</b></li></ul>"
      ],
      "text/plain": [
       "<IPython.core.display.HTML object>"
      ]
     },
     "execution_count": 40,
     "metadata": {},
     "output_type": "execute_result"
    }
   ],
   "source": [
    "output_status = electro_branch.get_output_status(new_core, new_project)\n",
    "message = html_dict(output_status)\n",
    "HTML(message)"
   ]
  },
  {
   "cell_type": "code",
   "execution_count": 41,
   "metadata": {
    "collapsed": false
   },
   "outputs": [
    {
     "data": {
      "text/html": [
       "<p><b>Array Annual Energy Production:</b> <i>9712.82325545</i> (MWh)</p>"
      ],
      "text/plain": [
       "<IPython.core.display.HTML object>"
      ]
     },
     "execution_count": 41,
     "metadata": {},
     "output_type": "execute_result"
    }
   ],
   "source": [
    "farm_annual_energy = hydro_branch.get_output_variable(new_core, new_project, \"farm.annual_energy\")\n",
    "meta_data = farm_annual_energy.get_metadata(new_core)\n",
    "name = meta_data.title\n",
    "value = farm_annual_energy.get_value(new_core, new_project)\n",
    "units = meta_data.units[0]\n",
    "message_two = \"<p><b>{}:</b> <i>{}</i> ({})</p>\".format(name, value, units)\n",
    "\n",
    "HTML(message_two)"
   ]
  },
  {
   "cell_type": "code",
   "execution_count": 42,
   "metadata": {
    "collapsed": false
   },
   "outputs": [],
   "source": [
    "electrical_cost = electro_branch.get_output_variable(new_core, new_project,\n",
    "                                                     \"farm.electrical_economics_data\")\n",
    "                                            \n",
    "cost_data = electrical_cost.get_value(new_core, new_project)"
   ]
  },
  {
   "cell_type": "code",
   "execution_count": 43,
   "metadata": {
    "collapsed": false
   },
   "outputs": [
    {
     "data": {
      "text/html": [
       "<div>\n",
       "<table border=\"1\" class=\"dataframe\">\n",
       "  <thead>\n",
       "    <tr style=\"text-align: right;\">\n",
       "      <th></th>\n",
       "      <th>Cost</th>\n",
       "      <th>Key Identifier</th>\n",
       "      <th>Quantity</th>\n",
       "      <th>Year</th>\n",
       "    </tr>\n",
       "  </thead>\n",
       "  <tbody>\n",
       "    <tr>\n",
       "      <th>0</th>\n",
       "      <td>600.0</td>\n",
       "      <td>1.0</td>\n",
       "      <td>3000.0</td>\n",
       "      <td>0</td>\n",
       "    </tr>\n",
       "    <tr>\n",
       "      <th>1</th>\n",
       "      <td>700.0</td>\n",
       "      <td>2.0</td>\n",
       "      <td>1520.0</td>\n",
       "      <td>0</td>\n",
       "    </tr>\n",
       "    <tr>\n",
       "      <th>2</th>\n",
       "      <td>150000.0</td>\n",
       "      <td>11.0</td>\n",
       "      <td>1.0</td>\n",
       "      <td>0</td>\n",
       "    </tr>\n",
       "    <tr>\n",
       "      <th>3</th>\n",
       "      <td>150000.0</td>\n",
       "      <td>5.0</td>\n",
       "      <td>5.0</td>\n",
       "      <td>0</td>\n",
       "    </tr>\n",
       "    <tr>\n",
       "      <th>4</th>\n",
       "      <td>1000000.0</td>\n",
       "      <td>NaN</td>\n",
       "      <td>1.0</td>\n",
       "      <td>0</td>\n",
       "    </tr>\n",
       "  </tbody>\n",
       "</table>\n",
       "</div>"
      ],
      "text/plain": [
       "        Cost  Key Identifier  Quantity  Year\n",
       "0      600.0             1.0    3000.0     0\n",
       "1      700.0             2.0    1520.0     0\n",
       "2   150000.0            11.0       1.0     0\n",
       "3   150000.0             5.0       5.0     0\n",
       "4  1000000.0             NaN       1.0     0"
      ]
     },
     "execution_count": 43,
     "metadata": {},
     "output_type": "execute_result"
    }
   ],
   "source": [
    "cost_data"
   ]
  },
  {
   "cell_type": "code",
   "execution_count": 44,
   "metadata": {
    "collapsed": false
   },
   "outputs": [],
   "source": [
    "substations = electro_branch.get_output_variable(new_core, new_project,\n",
    "                                                 \"farm.substation_layout\")\n",
    "if substations.has_value(new_core, new_project): substations.get_value(new_core, new_project)"
   ]
  },
  {
   "cell_type": "markdown",
   "metadata": {},
   "source": [
    "## Examine the Mooring and Foundations results\n",
    "\n",
    "Lets see what outputs are available from the modules."
   ]
  },
  {
   "cell_type": "code",
   "execution_count": 45,
   "metadata": {
    "collapsed": false
   },
   "outputs": [
    {
     "name": "stdout",
     "output_type": "stream",
     "text": [
      "2016-09-23 16:43:13,611 - INFO - dtocean_core.core - Inspecting level mooring and foundations output\n"
     ]
    }
   ],
   "source": [
    "moorings_branch.inspect(new_core, new_project)"
   ]
  },
  {
   "cell_type": "code",
   "execution_count": 46,
   "metadata": {
    "collapsed": false
   },
   "outputs": [
    {
     "data": {
      "text/html": [
       "<ul><li>farm.foundations_component_data: <b>satisfied</b></li><li>farm.moorings_component_data: <b>unavailable</b></li><li>farm.moorings_foundations_network: <b>satisfied</b></li><li>farm.foundations_soil_data: <b>satisfied</b></li><li>farm.moorings_foundations_economics_data: <b>satisfied</b></li><li>farm.line_data: <b>unavailable</b></li><li>farm.umbilical_cable_data: <b>unavailable</b></li><li>farm.moorings_dimensions: <b>satisfied</b></li></ul>"
      ],
      "text/plain": [
       "<IPython.core.display.HTML object>"
      ]
     },
     "execution_count": 46,
     "metadata": {},
     "output_type": "execute_result"
    }
   ],
   "source": [
    "output_status = moorings_branch.get_output_status(new_core, new_project)\n",
    "message = html_dict(output_status)\n",
    "HTML(message)"
   ]
  },
  {
   "cell_type": "markdown",
   "metadata": {},
   "source": [
    "## Examine Economics Results"
   ]
  },
  {
   "cell_type": "code",
   "execution_count": 47,
   "metadata": {
    "collapsed": false
   },
   "outputs": [
    {
     "data": {
      "text/html": [
       "<ul><li>project.lcoe: <b>unavailable</b></li><li>project.discounted_energy: <b>unavailable</b></li><li>project.capex_total: <b>satisfied</b></li><li>project.opex_total: <b>unavailable</b></li><li>project.capex_lcoe: <b>unavailable</b></li><li>project.capex_breakdown: <b>satisfied</b></li><li>project.discounted_capex: <b>satisfied</b></li><li>project.opex_lcoe: <b>unavailable</b></li><li>project.discounted_opex: <b>unavailable</b></li></ul>"
      ],
      "text/plain": [
       "<IPython.core.display.HTML object>"
      ]
     },
     "execution_count": 47,
     "metadata": {},
     "output_type": "execute_result"
    }
   ],
   "source": [
    "output_status = eco_branch.get_output_status(new_core, new_project)\n",
    "message = html_dict(output_status)\n",
    "HTML(message)"
   ]
  },
  {
   "cell_type": "code",
   "execution_count": 50,
   "metadata": {
    "collapsed": false
   },
   "outputs": [],
   "source": [
    "total_cost = eco_branch.get_output_variable(new_core, new_project, \"project.capex_total\")\n",
    "cost_breakdown = eco_branch.get_output_variable(new_core, new_project, \"project.capex_breakdown\")"
   ]
  },
  {
   "cell_type": "code",
   "execution_count": 52,
   "metadata": {
    "collapsed": false
   },
   "outputs": [
    {
     "data": {
      "text/html": [
       "<p><b>CAPEX:</b> 12927814.712 (Euro)</p>"
      ],
      "text/plain": [
       "<IPython.core.display.HTML object>"
      ]
     },
     "execution_count": 52,
     "metadata": {},
     "output_type": "execute_result"
    }
   ],
   "source": [
    "message_cost = html_variable(new_core, new_project, total_cost)\n",
    "message = \"<p>{}</p>\".format(message_cost)\n",
    "HTML(message)"
   ]
  },
  {
   "cell_type": "markdown",
   "metadata": {},
   "source": [
    "## Plot the balance of CAPEX costs"
   ]
  },
  {
   "cell_type": "code",
   "execution_count": 53,
   "metadata": {
    "collapsed": false
   },
   "outputs": [
    {
     "data": {
      "image/png": "[encoded data removed]",
      "text/plain": [
       "<matplotlib.figure.Figure at 0x10ca1400>"
      ]
     },
     "metadata": {},
     "output_type": "display_data"
    }
   ],
   "source": [
    "# The slices will be ordered and plotted counter-clockwise.\n",
    "cost_data = cost_breakdown.get_value(new_core, new_project)\n",
    "labels = cost_data.keys()\n",
    "sizes = cost_data.values()\n",
    "metadata = cost_breakdown.get_metadata(new_core)\n",
    "colors = ['lightblue', 'hotpink']\n",
    "\n",
    "plt.pie(sizes, labels=labels,\n",
    "        autopct='%1.1f%%', shadow=True, startangle=90)\n",
    "# Set aspect ratio to be equal so that pie is drawn as a circle.\n",
    "plt.axis('equal')\n",
    "plt.title(metadata.title)\n",
    "\n",
    "plt.show()\n",
    "\n",
    "# HTML in matplotlib?"
   ]
  },
  {
   "cell_type": "code",
   "execution_count": 54,
   "metadata": {
    "collapsed": false
   },
   "outputs": [
    {
     "data": {
      "text/html": [
       "<ul><li>Electrical Sub Systems: <b>4764000.0</b></li><li>Devices: <b>5000000.0</b></li><li>Mooring and Foundations: <b>3163814.712</b></li></ul>"
      ],
      "text/plain": [
       "<IPython.core.display.HTML object>"
      ]
     },
     "execution_count": 54,
     "metadata": {},
     "output_type": "execute_result"
    }
   ],
   "source": [
    "msg = html_dict(cost_data)\n",
    "HTML(msg)"
   ]
  },
  {
   "cell_type": "code",
   "execution_count": null,
   "metadata": {
    "collapsed": true
   },
   "outputs": [],
   "source": []
  }
 ],
 "metadata": {
  "kernelspec": {
   "display_name": "Python 2",
   "language": "python",
   "name": "python2"
  },
  "language_info": {
   "codemirror_mode": {
    "name": "ipython",
    "version": 2
   },
   "file_extension": ".py",
   "mimetype": "text/x-python",
   "name": "python",
   "nbconvert_exporter": "python",
   "pygments_lexer": "ipython2",
   "version": "2.7.12"
  }
 },
 "nbformat": 4,
 "nbformat_minor": 0
}
