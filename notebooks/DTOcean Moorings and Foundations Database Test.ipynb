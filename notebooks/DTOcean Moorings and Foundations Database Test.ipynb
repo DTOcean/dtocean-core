{
 "cells": [
  {
   "cell_type": "markdown",
   "metadata": {},
   "source": [
    "# DTOcean Electrical Sub-Systems Database Test"
   ]
  },
  {
   "cell_type": "code",
   "execution_count": 1,
   "metadata": {
    "collapsed": true
   },
   "outputs": [],
   "source": [
    "%matplotlib inline"
   ]
  },
  {
   "cell_type": "code",
   "execution_count": 2,
   "metadata": {
    "collapsed": true
   },
   "outputs": [],
   "source": [
    "from IPython.display import display, HTML"
   ]
  },
  {
   "cell_type": "code",
   "execution_count": 3,
   "metadata": {
    "collapsed": false
   },
   "outputs": [],
   "source": [
    "import matplotlib.pyplot as plt\n",
    "plt.rcParams['figure.figsize'] = (14.0, 8.0)"
   ]
  },
  {
   "cell_type": "code",
   "execution_count": 4,
   "metadata": {
    "collapsed": true
   },
   "outputs": [],
   "source": [
    "import numpy as np\n",
    "import pandas as pd\n",
    "pd.options.display.max_columns = 999"
   ]
  },
  {
   "cell_type": "code",
   "execution_count": 5,
   "metadata": {
    "collapsed": true
   },
   "outputs": [],
   "source": [
    "from dtocean_core import start_logging\n",
    "from dtocean_core.core import Core\n",
    "from dtocean_core.menu import DataMenu, ModuleMenu, ProjectMenu\n",
    "from dtocean_core.pipeline import Tree"
   ]
  },
  {
   "cell_type": "code",
   "execution_count": 6,
   "metadata": {
    "collapsed": true
   },
   "outputs": [],
   "source": [
    "def html_list(x):\n",
    "    message = \"<ul>\"\n",
    "    for name in x:\n",
    "        message += \"<li>{}</li>\".format(name)\n",
    "    message += \"</ul>\"\n",
    "    return message\n",
    "def html_dict(x):\n",
    "    message = \"<ul>\"\n",
    "    for name, status in x.iteritems():\n",
    "        message += \"<li>{}: <b>{}</b></li>\".format(name, status)\n",
    "    message += \"</ul>\"\n",
    "    return message"
   ]
  },
  {
   "cell_type": "code",
   "execution_count": 7,
   "metadata": {
    "collapsed": false
   },
   "outputs": [
    {
     "name": "stdout",
     "output_type": "stream",
     "text": [
      "2016-09-12 11:13:26,388 - INFO - dtocean_core - Begin logging for dtocean_core.\n"
     ]
    }
   ],
   "source": [
    "# Bring up the logger\n",
    "start_logging()"
   ]
  },
  {
   "cell_type": "markdown",
   "metadata": {},
   "source": [
    "## Create the core, menus and pipeline tree\n",
    "\n",
    "The core object carrys all the system information and is operated on by the other classes"
   ]
  },
  {
   "cell_type": "code",
   "execution_count": 8,
   "metadata": {
    "collapsed": false
   },
   "outputs": [
    {
     "name": "stdout",
     "output_type": "stream",
     "text": [
      "2016-09-12 11:13:28,818 - DEBUG - aneris.control.data - Searching for Structure classes\n",
      "2016-09-12 11:13:28,874 - DEBUG - aneris.control.sockets - Searching for ProjectInterface classes\n",
      "2016-09-12 11:13:29,029 - DEBUG - aneris.control.sockets - Searching for ModuleInterface classes\n",
      "2016-09-12 11:13:29,473 - DEBUG - aneris.control.sockets - Searching for ThemeInterface classes\n",
      "2016-09-12 11:13:29,483 - DEBUG - aneris.control.sockets - Searching for FileInterface classes\n",
      "2016-09-12 11:13:29,484 - DEBUG - aneris.control.sockets - Searching for QueryInterface classes\n",
      "2016-09-12 11:13:29,484 - DEBUG - aneris.control.sockets - Searching for LeaseInterface classes\n",
      "2016-09-12 11:13:29,484 - DEBUG - aneris.control.sockets - Searching for RawInterface classes\n",
      "2016-09-12 11:13:29,484 - DEBUG - aneris.control.sockets - Searching for PlotInterface classes\n"
     ]
    }
   ],
   "source": [
    "new_core = Core()\n",
    "data_menu = DataMenu()\n",
    "project_menu = ProjectMenu()\n",
    "module_menu = ModuleMenu()\n",
    "pipe_tree = Tree()"
   ]
  },
  {
   "cell_type": "markdown",
   "metadata": {},
   "source": [
    "## Create a new project"
   ]
  },
  {
   "cell_type": "code",
   "execution_count": 9,
   "metadata": {
    "collapsed": false
   },
   "outputs": [
    {
     "name": "stdout",
     "output_type": "stream",
     "text": [
      "2016-09-12 11:13:29,734 - INFO - aneris.entity.simulation - Created new Simulation with title \"Default\"\n",
      "2016-09-12 11:13:29,734 - DEBUG - aneris.control.data - DataState with level \"initial\" created\n",
      "2016-09-12 11:13:29,734 - INFO - aneris.control.simulation - Datastate with level \"initial\" stored\n",
      "2016-09-12 11:13:29,734 - DEBUG - aneris.control.simulation - Merging active DataStates.\n",
      "2016-09-12 11:13:29,736 - INFO - aneris.control.pipeline - New Hub created for interface ProjectInterface.\n",
      "2016-09-12 11:13:29,736 - DEBUG - aneris.control.simulation - Getting output status for interface \"System Type Selection\".\n",
      "2016-09-12 11:13:29,736 - DEBUG - aneris.control.simulation - Getting input status for interface \"System Type Selection\".\n"
     ]
    }
   ],
   "source": [
    "project_title = \"DTOcean\"  \n",
    "new_project = project_menu.new_project(new_core, project_title)"
   ]
  },
  {
   "cell_type": "markdown",
   "metadata": {},
   "source": [
    "## Connect a database"
   ]
  },
  {
   "cell_type": "code",
   "execution_count": 10,
   "metadata": {
    "collapsed": false
   },
   "outputs": [
    {
     "name": "stdout",
     "output_type": "stream",
     "text": [
      "2016-09-12 11:13:29,872 - DEBUG - dtocean_core.menu - Host: 143.239.215.81 Port: 5432 OPEN\n"
     ]
    }
   ],
   "source": [
    "data_menu.select_database(new_project, \"testing\")"
   ]
  },
  {
   "cell_type": "markdown",
   "metadata": {},
   "source": [
    "## Set the device type"
   ]
  },
  {
   "cell_type": "code",
   "execution_count": 11,
   "metadata": {
    "collapsed": false
   },
   "outputs": [
    {
     "name": "stdout",
     "output_type": "stream",
     "text": [
      "2016-09-12 11:13:29,882 - DEBUG - aneris.control.data - DataState created\n",
      "2016-09-12 11:13:29,882 - INFO - aneris.control.data - New \"device.system_type\" data stored with index GBNJAD\n",
      "2016-09-12 11:13:29,892 - INFO - aneris.control.simulation - Datastate stored\n",
      "2016-09-12 11:13:29,892 - DEBUG - aneris.control.simulation - Merging active DataStates.\n",
      "2016-09-12 11:13:29,892 - DEBUG - aneris.control.simulation - Getting output status for interface \"System Type Selection\".\n",
      "2016-09-12 11:13:29,903 - DEBUG - aneris.control.simulation - Getting input status for interface \"System Type Selection\".\n"
     ]
    }
   ],
   "source": [
    "options_branch = pipe_tree.get_branch(new_core, new_project, \"System Type Selection\")\n",
    "variable_id = \"device.system_type\"\n",
    "my_var = options_branch.get_input_variable(new_core, new_project, variable_id)\n",
    "my_var.set_raw_interface(new_core, \"Tidal Fixed\")\n",
    "my_var.read(new_core, new_project)"
   ]
  },
  {
   "cell_type": "markdown",
   "metadata": {},
   "source": [
    "## Initiate the pipeline\n",
    "This step will be important when the database is incorporated into the system as it will effect the operation of the pipeline."
   ]
  },
  {
   "cell_type": "code",
   "execution_count": 12,
   "metadata": {
    "collapsed": false
   },
   "outputs": [
    {
     "name": "stdout",
     "output_type": "stream",
     "text": [
      "2016-09-12 11:13:29,904 - DEBUG - aneris.control.data - DataState with level \"system type selection start\" created\n",
      "2016-09-12 11:13:29,904 - INFO - aneris.control.simulation - Datastate with level \"system type selection start\" stored\n",
      "2016-09-12 11:13:29,904 - DEBUG - aneris.control.simulation - Merging active DataStates.\n",
      "2016-09-12 11:13:29,904 - DEBUG - aneris.control.simulation - Retrieving data with identity \"device.system_type\".\n",
      "2016-09-12 11:13:29,936 - DEBUG - aneris.control.data - DataState with level \"system type selection output\" created\n",
      "2016-09-12 11:13:29,937 - INFO - aneris.control.data - New \"hidden.pipeline_active\" data stored with index KCVM74\n",
      "2016-09-12 11:13:29,938 - INFO - aneris.control.simulation - Datastate with level \"system type selection output\" stored\n",
      "2016-09-12 11:13:29,944 - DEBUG - aneris.control.simulation - Merging active DataStates.\n",
      "2016-09-12 11:13:29,947 - DEBUG - aneris.control.simulation - Getting output status for interface \"System Type Selection\".\n",
      "2016-09-12 11:13:29,947 - DEBUG - aneris.control.simulation - Getting input status for interface \"System Type Selection\".\n",
      "2016-09-12 11:13:29,950 - INFO - aneris.control.pipeline - New Pipeline created for interface ModuleInterface.\n",
      "2016-09-12 11:13:29,950 - INFO - aneris.control.pipeline - New Hub created for interface ThemeInterface.\n",
      "2016-09-12 11:13:29,953 - DEBUG - aneris.control.simulation - Getting output status for interface \"Site and System Options\".\n",
      "2016-09-12 11:13:29,960 - DEBUG - aneris.control.simulation - Getting output status for interface \"System Type Selection\".\n",
      "2016-09-12 11:13:29,963 - DEBUG - aneris.control.simulation - Getting input status for interface \"Site and System Options\".\n",
      "2016-09-12 11:13:29,964 - DEBUG - aneris.control.simulation - Getting input status for interface \"System Type Selection\".\n",
      "2016-09-12 11:13:35,002 - DEBUG - aneris.control.data - DataState created\n",
      "2016-09-12 11:13:35,002 - INFO - aneris.control.data - New \"hidden.available_sites\" data stored with index U67BQT\n",
      "2016-09-12 11:13:35,002 - INFO - aneris.control.data - New \"hidden.available_systems\" data stored with index 0ZAMT8\n",
      "2016-09-12 11:13:35,012 - INFO - aneris.control.data - New \"hidden.site_boundaries\" data stored with index ED0IDO\n",
      "2016-09-12 11:13:35,012 - INFO - aneris.control.data - New \"hidden.lease_boundaries\" data stored with index D8GEAI\n",
      "2016-09-12 11:13:35,012 - INFO - aneris.control.simulation - Datastate stored\n",
      "2016-09-12 11:13:35,013 - DEBUG - aneris.control.simulation - Merging active DataStates.\n",
      "2016-09-12 11:13:35,016 - DEBUG - aneris.control.simulation - Getting output status for interface \"Site and System Options\".\n",
      "2016-09-12 11:13:35,020 - DEBUG - aneris.control.simulation - Getting output status for interface \"System Type Selection\".\n",
      "2016-09-12 11:13:35,023 - DEBUG - aneris.control.simulation - Getting input status for interface \"Site and System Options\".\n",
      "2016-09-12 11:13:35,028 - DEBUG - aneris.control.simulation - Getting input status for interface \"System Type Selection\".\n"
     ]
    }
   ],
   "source": [
    "project_menu.initiate_pipeline(new_core, new_project)"
   ]
  },
  {
   "cell_type": "markdown",
   "metadata": {},
   "source": [
    "## Retrieve the available site and technology options from the DB"
   ]
  },
  {
   "cell_type": "code",
   "execution_count": 13,
   "metadata": {
    "collapsed": false
   },
   "outputs": [
    {
     "name": "stdout",
     "output_type": "stream",
     "text": [
      "2016-09-12 11:13:35,033 - DEBUG - aneris.control.data - DataState with level \"site and system options start\" created\n",
      "2016-09-12 11:13:35,035 - INFO - aneris.control.simulation - Datastate with level \"site and system options start\" stored\n",
      "2016-09-12 11:13:35,036 - DEBUG - aneris.control.simulation - Merging active DataStates.\n",
      "2016-09-12 11:13:35,039 - DEBUG - aneris.control.simulation - Retrieving data with identity \"device.system_type\".\n",
      "2016-09-12 11:13:35,042 - DEBUG - aneris.control.simulation - Retrieving data with identity \"hidden.available_sites\".\n",
      "2016-09-12 11:13:35,043 - DEBUG - aneris.control.simulation - Retrieving data with identity \"hidden.available_systems\".\n",
      "2016-09-12 11:13:35,048 - DEBUG - aneris.control.simulation - Retrieving data with identity \"hidden.lease_boundaries\".\n",
      "2016-09-12 11:13:35,049 - DEBUG - aneris.control.simulation - Retrieving data with identity \"hidden.site_boundaries\".\n",
      "2016-09-12 11:13:35,052 - DEBUG - aneris.control.data - DataState with level \"site and system options output\" created\n",
      "2016-09-12 11:13:35,055 - INFO - aneris.control.data - New \"device.available_names\" data stored with index YQX12O\n",
      "2016-09-12 11:13:35,058 - INFO - aneris.control.data - New \"site.available_names\" data stored with index 8O38TG\n",
      "2016-09-12 11:13:35,061 - INFO - aneris.control.data - New \"hidden.lease_selected\" data stored with index 9QLOXG\n",
      "2016-09-12 11:13:35,062 - INFO - aneris.control.simulation - Datastate with level \"site and system options output\" stored\n",
      "2016-09-12 11:13:35,062 - DEBUG - aneris.control.simulation - Merging active DataStates.\n",
      "2016-09-12 11:13:35,063 - DEBUG - aneris.control.simulation - Getting output status for interface \"Site and System Options\".\n",
      "2016-09-12 11:13:35,069 - DEBUG - aneris.control.simulation - Getting output status for interface \"System Type Selection\".\n",
      "2016-09-12 11:13:35,072 - DEBUG - aneris.control.simulation - Getting input status for interface \"Site and System Options\".\n",
      "2016-09-12 11:13:35,075 - DEBUG - aneris.control.simulation - Getting input status for interface \"System Type Selection\".\n",
      "2016-09-12 11:13:35,075 - DEBUG - aneris.control.simulation - Getting output status for interface \"Site and System Options\".\n",
      "2016-09-12 11:13:35,076 - DEBUG - aneris.control.simulation - Getting output status for interface \"Lease Area Selection\".\n",
      "2016-09-12 11:13:35,078 - DEBUG - aneris.control.simulation - Getting output status for interface \"System Type Selection\".\n",
      "2016-09-12 11:13:35,078 - DEBUG - aneris.control.simulation - Getting input status for interface \"Site and System Options\".\n",
      "2016-09-12 11:13:35,079 - DEBUG - aneris.control.simulation - Getting input status for interface \"Lease Area Selection\".\n",
      "2016-09-12 11:13:35,081 - DEBUG - aneris.control.simulation - Getting input status for interface \"System Type Selection\".\n",
      "2016-09-12 11:13:35,082 - DEBUG - aneris.control.simulation - Getting output status for interface \"Site and System Options\".\n",
      "2016-09-12 11:13:35,084 - DEBUG - aneris.control.simulation - Getting output status for interface \"Lease Area Selection\".\n",
      "2016-09-12 11:13:35,085 - DEBUG - aneris.control.simulation - Getting output status for interface \"Database Filtering Interface\".\n",
      "2016-09-12 11:13:35,086 - DEBUG - aneris.control.simulation - Getting output status for interface \"System Type Selection\".\n",
      "2016-09-12 11:13:35,088 - DEBUG - aneris.control.simulation - Getting input status for interface \"Site and System Options\".\n",
      "2016-09-12 11:13:35,088 - DEBUG - aneris.control.simulation - Getting input status for interface \"Lease Area Selection\".\n",
      "2016-09-12 11:13:35,089 - DEBUG - aneris.control.simulation - Getting input status for interface \"Database Filtering Interface\".\n",
      "2016-09-12 11:13:35,091 - DEBUG - aneris.control.simulation - Getting input status for interface \"System Type Selection\".\n"
     ]
    }
   ],
   "source": [
    "project_menu.initiate_options(new_core, new_project)"
   ]
  },
  {
   "cell_type": "code",
   "execution_count": 14,
   "metadata": {
    "collapsed": false
   },
   "outputs": [
    {
     "name": "stdout",
     "output_type": "stream",
     "text": [
      "2016-09-12 11:13:35,101 - DEBUG - aneris.control.data - DataState created\n",
      "2016-09-12 11:13:35,101 - INFO - aneris.control.simulation - Datastate stored\n",
      "2016-09-12 11:13:35,102 - DEBUG - aneris.control.simulation - Merging active DataStates.\n",
      "2016-09-12 11:13:35,104 - DEBUG - aneris.control.simulation - Getting output status for interface \"Site and System Options\".\n",
      "2016-09-12 11:13:35,105 - DEBUG - aneris.control.simulation - Getting output status for interface \"Lease Area Selection\".\n",
      "2016-09-12 11:13:35,105 - DEBUG - aneris.control.simulation - Getting output status for interface \"Database Filtering Interface\".\n",
      "2016-09-12 11:13:35,107 - DEBUG - aneris.control.simulation - Getting output status for interface \"System Type Selection\".\n",
      "2016-09-12 11:13:35,108 - DEBUG - aneris.control.simulation - Getting input status for interface \"Site and System Options\".\n",
      "2016-09-12 11:13:35,109 - DEBUG - aneris.control.simulation - Getting input status for interface \"Lease Area Selection\".\n",
      "2016-09-12 11:13:35,111 - DEBUG - aneris.control.simulation - Getting input status for interface \"Database Filtering Interface\".\n",
      "2016-09-12 11:13:35,111 - DEBUG - aneris.control.simulation - Getting input status for interface \"System Type Selection\".\n"
     ]
    },
    {
     "data": {
      "text/html": [
       "<ul><li>device.system_type: <b>unavailable</b></li><li>hidden.available_sites: <b>unavailable</b></li><li>hidden.available_systems: <b>unavailable</b></li><li>hidden.site_boundaries: <b>unavailable</b></li><li>hidden.lease_boundaries: <b>unavailable</b></li></ul>"
      ],
      "text/plain": [
       "<IPython.core.display.HTML object>"
      ]
     },
     "execution_count": 14,
     "metadata": {},
     "output_type": "execute_result"
    }
   ],
   "source": [
    "options_branch = pipe_tree.get_branch(new_core, new_project, 'Site and System Options')\n",
    "options_branch.read_auto(new_core, new_project)\n",
    "input_status = options_branch.get_input_status(new_core, new_project)\n",
    "message = html_dict(input_status)\n",
    "HTML(message)"
   ]
  },
  {
   "cell_type": "markdown",
   "metadata": {},
   "source": [
    "## Check available device names"
   ]
  },
  {
   "cell_type": "code",
   "execution_count": 15,
   "metadata": {
    "collapsed": false
   },
   "outputs": [
    {
     "name": "stdout",
     "output_type": "stream",
     "text": [
      "2016-09-12 11:13:35,124 - DEBUG - aneris.control.simulation - Retrieving data with identity \"device.available_names\".\n"
     ]
    },
    {
     "data": {
      "text/html": [
       "<ul><li>Andritz HS1000</li></ul>"
      ],
      "text/plain": [
       "<IPython.core.display.HTML object>"
      ]
     },
     "execution_count": 15,
     "metadata": {},
     "output_type": "execute_result"
    }
   ],
   "source": [
    "my_var = options_branch.get_output_variable(new_core, new_project, \"device.available_names\")\n",
    "site_list = my_var.get_value(new_core, new_project)\n",
    "msg = html_list(site_list)\n",
    "HTML(msg)"
   ]
  },
  {
   "cell_type": "markdown",
   "metadata": {},
   "source": [
    "## Select a device"
   ]
  },
  {
   "cell_type": "code",
   "execution_count": 16,
   "metadata": {
    "collapsed": false
   },
   "outputs": [
    {
     "name": "stdout",
     "output_type": "stream",
     "text": [
      "2016-09-12 11:13:35,141 - DEBUG - aneris.control.data - DataState created\n",
      "2016-09-12 11:13:35,142 - INFO - aneris.control.data - New \"device.selected_name\" data stored with index G69RX8\n",
      "2016-09-12 11:13:35,144 - INFO - aneris.control.simulation - Datastate stored\n",
      "2016-09-12 11:13:35,145 - DEBUG - aneris.control.simulation - Merging active DataStates.\n",
      "2016-09-12 11:13:35,147 - DEBUG - aneris.control.simulation - Getting output status for interface \"Site and System Options\".\n",
      "2016-09-12 11:13:35,148 - DEBUG - aneris.control.simulation - Getting output status for interface \"Lease Area Selection\".\n",
      "2016-09-12 11:13:35,151 - DEBUG - aneris.control.simulation - Getting output status for interface \"Database Filtering Interface\".\n",
      "2016-09-12 11:13:35,153 - DEBUG - aneris.control.simulation - Getting output status for interface \"System Type Selection\".\n",
      "2016-09-12 11:13:35,154 - DEBUG - aneris.control.simulation - Getting input status for interface \"Site and System Options\".\n",
      "2016-09-12 11:13:35,157 - DEBUG - aneris.control.simulation - Getting input status for interface \"Lease Area Selection\".\n",
      "2016-09-12 11:13:35,157 - DEBUG - aneris.control.simulation - Getting input status for interface \"Database Filtering Interface\".\n",
      "2016-09-12 11:13:35,164 - DEBUG - aneris.control.simulation - Getting input status for interface \"System Type Selection\".\n"
     ]
    }
   ],
   "source": [
    "filter_branch = pipe_tree.get_branch(new_core, new_project, 'Database Filtering Interface')\n",
    "new_var = filter_branch.get_input_variable(new_core, new_project,\n",
    "                                            \"device.selected_name\")\n",
    "new_var.set_raw_interface(new_core, \"Andritz HS1000\")\n",
    "new_var.read(new_core, new_project)"
   ]
  },
  {
   "cell_type": "code",
   "execution_count": 17,
   "metadata": {
    "collapsed": false
   },
   "outputs": [
    {
     "data": {
      "text/html": [
       "<ul><li>hidden.available_sites: <b>satisfied</b></li><li>site.selected_name: <b>optional</b></li><li>device.selected_name: <b>satisfied</b></li><li>hidden.available_systems: <b>satisfied</b></li><li>hidden.lease_selected: <b>satisfied</b></li></ul>"
      ],
      "text/plain": [
       "<IPython.core.display.HTML object>"
      ]
     },
     "execution_count": 17,
     "metadata": {},
     "output_type": "execute_result"
    }
   ],
   "source": [
    "input_status = filter_branch.get_input_status(new_core, new_project)\n",
    "message = html_dict(input_status)\n",
    "HTML(message)"
   ]
  },
  {
   "cell_type": "markdown",
   "metadata": {},
   "source": [
    "## Check the available site names"
   ]
  },
  {
   "cell_type": "code",
   "execution_count": 18,
   "metadata": {
    "collapsed": false
   },
   "outputs": [
    {
     "name": "stdout",
     "output_type": "stream",
     "text": [
      "2016-09-12 11:13:35,191 - DEBUG - aneris.control.simulation - Retrieving data with identity \"site.available_names\".\n"
     ]
    },
    {
     "data": {
      "text/html": [
       "<h3>Available Locations</h3><ul><li>First Site</li><li>Second Site</li></ul>"
      ],
      "text/plain": [
       "<IPython.core.display.HTML object>"
      ]
     },
     "execution_count": 18,
     "metadata": {},
     "output_type": "execute_result"
    }
   ],
   "source": [
    "available_locations = options_branch.get_output_variable(new_core, new_project,\n",
    "                                                         \"site.available_names\")\n",
    "message = html_list(available_locations.get_value(new_core, new_project))\n",
    "message = \"<h3>Available Locations</h3>\" + message\n",
    "HTML(message)"
   ]
  },
  {
   "cell_type": "markdown",
   "metadata": {
    "collapsed": false
   },
   "source": [
    "## Add the site location"
   ]
  },
  {
   "cell_type": "code",
   "execution_count": 19,
   "metadata": {
    "collapsed": false
   },
   "outputs": [
    {
     "name": "stdout",
     "output_type": "stream",
     "text": [
      "2016-09-12 11:13:35,206 - DEBUG - aneris.control.data - DataState created\n",
      "2016-09-12 11:13:35,207 - INFO - aneris.control.data - New \"site.selected_name\" data stored with index Z83CFC\n",
      "2016-09-12 11:13:35,207 - INFO - aneris.control.simulation - Datastate stored\n",
      "2016-09-12 11:13:35,209 - DEBUG - aneris.control.simulation - Merging active DataStates.\n",
      "2016-09-12 11:13:35,210 - DEBUG - aneris.control.simulation - Getting output status for interface \"Site and System Options\".\n",
      "2016-09-12 11:13:35,213 - DEBUG - aneris.control.simulation - Getting output status for interface \"Lease Area Selection\".\n",
      "2016-09-12 11:13:35,214 - DEBUG - aneris.control.simulation - Getting output status for interface \"Database Filtering Interface\".\n",
      "2016-09-12 11:13:35,217 - DEBUG - aneris.control.simulation - Getting output status for interface \"System Type Selection\".\n",
      "2016-09-12 11:13:35,217 - DEBUG - aneris.control.simulation - Getting input status for interface \"Site and System Options\".\n",
      "2016-09-12 11:13:35,220 - DEBUG - aneris.control.simulation - Getting input status for interface \"Lease Area Selection\".\n",
      "2016-09-12 11:13:35,220 - DEBUG - aneris.control.simulation - Getting input status for interface \"Database Filtering Interface\".\n",
      "2016-09-12 11:13:35,221 - DEBUG - aneris.control.simulation - Getting input status for interface \"System Type Selection\".\n"
     ]
    }
   ],
   "source": [
    "new_var = filter_branch.get_input_variable(new_core, new_project,\n",
    "                                           \"site.selected_name\")\n",
    "new_var.set_raw_interface(new_core, \"First Site\")\n",
    "new_var.read(new_core, new_project)"
   ]
  },
  {
   "cell_type": "code",
   "execution_count": 20,
   "metadata": {
    "collapsed": false
   },
   "outputs": [
    {
     "data": {
      "text/html": [
       "<ul><li>hidden.available_sites: <b>satisfied</b></li><li>site.selected_name: <b>satisfied</b></li><li>device.selected_name: <b>satisfied</b></li><li>hidden.available_systems: <b>satisfied</b></li><li>hidden.lease_selected: <b>satisfied</b></li></ul>"
      ],
      "text/plain": [
       "<IPython.core.display.HTML object>"
      ]
     },
     "execution_count": 20,
     "metadata": {},
     "output_type": "execute_result"
    }
   ],
   "source": [
    "input_status = filter_branch.get_input_status(new_core, new_project)\n",
    "message = html_dict(input_status)\n",
    "HTML(message)"
   ]
  },
  {
   "cell_type": "markdown",
   "metadata": {},
   "source": [
    "## Filter the database"
   ]
  },
  {
   "cell_type": "code",
   "execution_count": 21,
   "metadata": {
    "collapsed": false
   },
   "outputs": [
    {
     "name": "stdout",
     "output_type": "stream",
     "text": [
      "2016-09-12 11:13:35,239 - DEBUG - aneris.control.data - DataState with level \"database filtering interface start\" created\n",
      "2016-09-12 11:13:35,240 - INFO - aneris.control.simulation - Datastate with level \"database filtering interface start\" stored\n",
      "2016-09-12 11:13:35,242 - DEBUG - aneris.control.simulation - Merging active DataStates.\n",
      "2016-09-12 11:13:35,243 - DEBUG - aneris.control.simulation - Retrieving data with identity \"hidden.available_sites\".\n",
      "2016-09-12 11:13:35,244 - DEBUG - aneris.control.simulation - Retrieving data with identity \"site.selected_name\".\n",
      "2016-09-12 11:13:35,246 - DEBUG - aneris.control.simulation - Retrieving data with identity \"device.selected_name\".\n",
      "2016-09-12 11:13:35,246 - DEBUG - aneris.control.simulation - Retrieving data with identity \"hidden.available_systems\".\n",
      "2016-09-12 11:13:35,250 - DEBUG - aneris.control.simulation - Retrieving data with identity \"hidden.lease_selected\".\n",
      "2016-09-12 11:13:37,128 - DEBUG - aneris.control.data - DataState with level \"database filtering interface output\" created\n",
      "2016-09-12 11:13:37,131 - INFO - aneris.control.data - New \"hidden.site_filtered\" data stored with index 4HUTA6\n",
      "2016-09-12 11:13:37,131 - INFO - aneris.control.data - New \"hidden.device_filtered\" data stored with index HXTCQ8\n",
      "2016-09-12 11:13:37,132 - INFO - aneris.control.simulation - Datastate with level \"database filtering interface output\" stored\n",
      "2016-09-12 11:13:37,134 - DEBUG - aneris.control.simulation - Merging active DataStates.\n",
      "2016-09-12 11:13:37,138 - DEBUG - aneris.control.simulation - Getting output status for interface \"Site and System Options\".\n",
      "2016-09-12 11:13:37,140 - DEBUG - aneris.control.simulation - Getting output status for interface \"Lease Area Selection\".\n",
      "2016-09-12 11:13:37,141 - DEBUG - aneris.control.simulation - Getting output status for interface \"Database Filtering Interface\".\n",
      "2016-09-12 11:13:37,142 - DEBUG - aneris.control.simulation - Getting output status for interface \"System Type Selection\".\n",
      "2016-09-12 11:13:37,144 - DEBUG - aneris.control.simulation - Getting input status for interface \"Site and System Options\".\n",
      "2016-09-12 11:13:37,145 - DEBUG - aneris.control.simulation - Getting input status for interface \"Lease Area Selection\".\n",
      "2016-09-12 11:13:37,147 - DEBUG - aneris.control.simulation - Getting input status for interface \"Database Filtering Interface\".\n",
      "2016-09-12 11:13:37,148 - DEBUG - aneris.control.simulation - Getting input status for interface \"System Type Selection\".\n"
     ]
    }
   ],
   "source": [
    "project_menu.initiate_filter(new_core, new_project)"
   ]
  },
  {
   "cell_type": "markdown",
   "metadata": {},
   "source": [
    "## Discover available modules"
   ]
  },
  {
   "cell_type": "code",
   "execution_count": 22,
   "metadata": {
    "collapsed": false
   },
   "outputs": [
    {
     "data": {
      "text/html": [
       "<ul><li>Hydrodynamics</li><li>Electrical Sub-Systems</li><li>Mooring and Foundations</li></ul>"
      ],
      "text/plain": [
       "<IPython.core.display.HTML object>"
      ]
     },
     "execution_count": 22,
     "metadata": {},
     "output_type": "execute_result"
    }
   ],
   "source": [
    "names = module_menu.get_available(new_core, new_project)\n",
    "message = html_list(names)\n",
    "HTML(message)"
   ]
  },
  {
   "cell_type": "markdown",
   "metadata": {},
   "source": [
    "## Activate a module\n",
    "\n",
    "Note that the order of activation is important and that we can't deactivate yet!"
   ]
  },
  {
   "cell_type": "code",
   "execution_count": 23,
   "metadata": {
    "collapsed": false
   },
   "outputs": [
    {
     "name": "stdout",
     "output_type": "stream",
     "text": [
      "2016-09-12 11:13:37,174 - DEBUG - aneris.control.simulation - Getting output status for interface \"Site and System Options\".\n",
      "2016-09-12 11:13:37,176 - DEBUG - aneris.control.simulation - Getting output status for interface \"Lease Area Selection\".\n",
      "2016-09-12 11:13:37,177 - DEBUG - aneris.control.simulation - Getting output status for interface \"Database Filtering Interface\".\n",
      "2016-09-12 11:13:37,178 - DEBUG - aneris.control.simulation - Getting output status for interface \"System Type Selection\".\n",
      "2016-09-12 11:13:37,180 - DEBUG - aneris.control.simulation - Getting output status for interface \"Mooring and Foundations\".\n",
      "2016-09-12 11:13:37,183 - DEBUG - aneris.control.simulation - Getting input status for interface \"Site and System Options\".\n",
      "2016-09-12 11:13:37,184 - DEBUG - aneris.control.simulation - Getting input status for interface \"Lease Area Selection\".\n",
      "2016-09-12 11:13:37,186 - DEBUG - aneris.control.simulation - Getting input status for interface \"Database Filtering Interface\".\n",
      "2016-09-12 11:13:37,187 - DEBUG - aneris.control.simulation - Getting input status for interface \"System Type Selection\".\n",
      "2016-09-12 11:13:37,190 - DEBUG - aneris.control.simulation - Getting input status for interface \"Mooring and Foundations\".\n",
      "2016-09-12 11:13:37,191 - DEBUG - aneris.control.simulation - Checking mask status for input \"device.depth_variation_permitted\".\n",
      "2016-09-12 11:13:37,193 - DEBUG - aneris.control.simulation - Retrieving data with identity \"device.system_type\".\n",
      "2016-09-12 11:13:37,194 - DEBUG - aneris.control.simulation - Checking mask status for input \"device.fairlead_location\".\n",
      "2016-09-12 11:13:37,196 - DEBUG - aneris.control.simulation - Retrieving data with identity \"device.system_type\".\n",
      "2016-09-12 11:13:37,197 - DEBUG - aneris.control.simulation - Checking mask status for input \"device.maximum_displacement\".\n",
      "2016-09-12 11:13:37,197 - DEBUG - aneris.control.simulation - Retrieving data with identity \"device.system_type\".\n",
      "2016-09-12 11:13:37,200 - DEBUG - aneris.control.simulation - Checking mask status for input \"device.mooring_system_type\".\n",
      "2016-09-12 11:13:37,200 - DEBUG - aneris.control.simulation - Retrieving data with identity \"device.system_type\".\n",
      "2016-09-12 11:13:37,201 - DEBUG - aneris.control.simulation - Checking mask status for input \"device.system_draft\".\n",
      "2016-09-12 11:13:37,203 - DEBUG - aneris.control.simulation - Retrieving data with identity \"device.system_type\".\n",
      "2016-09-12 11:13:37,203 - DEBUG - aneris.control.simulation - Checking mask status for input \"device.turbine_performance\".\n",
      "2016-09-12 11:13:37,204 - DEBUG - aneris.control.simulation - Retrieving data with identity \"device.system_type\".\n",
      "2016-09-12 11:13:37,206 - DEBUG - aneris.control.simulation - Checking mask status for input \"device.turbine_diameter\".\n",
      "2016-09-12 11:13:37,220 - DEBUG - aneris.control.simulation - Retrieving data with identity \"device.system_type\".\n",
      "2016-09-12 11:13:37,236 - DEBUG - aneris.control.simulation - Checking mask status for input \"device.turbine_interdistance\".\n",
      "2016-09-12 11:13:37,236 - DEBUG - aneris.control.simulation - Retrieving data with identity \"device.system_type\".\n",
      "2016-09-12 11:13:37,236 - DEBUG - aneris.control.simulation - Checking mask status for input \"device.umbilical_type\".\n",
      "2016-09-12 11:13:37,236 - DEBUG - aneris.control.simulation - Retrieving data with identity \"device.system_type\".\n",
      "2016-09-12 11:13:37,236 - DEBUG - aneris.control.simulation - Checking mask status for input \"device.umbilical_safety_factor\".\n",
      "2016-09-12 11:13:37,236 - DEBUG - aneris.control.simulation - Retrieving data with identity \"device.system_type\".\n",
      "2016-09-12 11:13:37,236 - DEBUG - aneris.control.simulation - Checking mask status for input \"device.umbilical_connection_point\".\n",
      "2016-09-12 11:13:37,236 - DEBUG - aneris.control.simulation - Retrieving data with identity \"device.system_type\".\n",
      "2016-09-12 11:13:37,236 - DEBUG - aneris.control.simulation - Checking mask status for input \"farm.mooring_ALS_safety_factor\".\n",
      "2016-09-12 11:13:37,236 - DEBUG - aneris.control.simulation - Retrieving data with identity \"device.system_type\".\n",
      "2016-09-12 11:13:37,236 - DEBUG - aneris.control.simulation - Checking mask status for input \"farm.mooring_ULS_safety_factor\".\n",
      "2016-09-12 11:13:37,236 - DEBUG - aneris.control.simulation - Retrieving data with identity \"device.system_type\".\n",
      "2016-09-12 11:13:37,236 - DEBUG - aneris.control.simulation - Checking mask status for input \"component.moorings_chain\".\n",
      "2016-09-12 11:13:37,236 - DEBUG - aneris.control.simulation - Retrieving data with identity \"device.system_type\".\n",
      "2016-09-12 11:13:37,253 - DEBUG - aneris.control.simulation - Checking mask status for input \"component.moorings_forerunner\".\n",
      "2016-09-12 11:13:37,253 - DEBUG - aneris.control.simulation - Retrieving data with identity \"device.system_type\".\n",
      "2016-09-12 11:13:37,253 - DEBUG - aneris.control.simulation - Checking mask status for input \"component.moorings_rope\".\n",
      "2016-09-12 11:13:37,253 - DEBUG - aneris.control.simulation - Retrieving data with identity \"device.system_type\".\n",
      "2016-09-12 11:13:37,253 - DEBUG - aneris.control.simulation - Checking mask status for input \"component.moorings_shackle\".\n",
      "2016-09-12 11:13:37,253 - DEBUG - aneris.control.simulation - Retrieving data with identity \"device.system_type\".\n",
      "2016-09-12 11:13:37,253 - DEBUG - aneris.control.simulation - Checking mask status for input \"component.moorings_swivel\".\n",
      "2016-09-12 11:13:37,253 - DEBUG - aneris.control.simulation - Retrieving data with identity \"device.system_type\".\n",
      "2016-09-12 11:13:37,253 - DEBUG - aneris.control.simulation - Checking mask status for input \"component.moorings_rope_stiffness\".\n",
      "2016-09-12 11:13:37,253 - DEBUG - aneris.control.simulation - Retrieving data with identity \"device.system_type\".\n",
      "2016-09-12 11:13:37,253 - DEBUG - aneris.control.simulation - Checking mask status for input \"component.moorings_umbilical\".\n",
      "2016-09-12 11:13:37,253 - DEBUG - aneris.control.simulation - Retrieving data with identity \"device.system_type\".\n",
      "2016-09-12 11:13:37,253 - DEBUG - aneris.control.simulation - Checking mask status for input \"farm.umbilical_seabed_connection\".\n",
      "2016-09-12 11:13:37,253 - DEBUG - aneris.control.simulation - Retrieving data with identity \"device.system_type\".\n"
     ]
    }
   ],
   "source": [
    "module_name = 'Mooring and Foundations'\n",
    "module_menu.activate(new_core, new_project, module_name)\n",
    "moorings_branch = pipe_tree.get_branch(new_core, new_project, 'Mooring and Foundations')"
   ]
  },
  {
   "cell_type": "markdown",
   "metadata": {},
   "source": [
    "## Check the status of the module inputs"
   ]
  },
  {
   "cell_type": "code",
   "execution_count": 24,
   "metadata": {
    "collapsed": false
   },
   "outputs": [
    {
     "data": {
      "text/html": [
       "<ul><li>farm.mean_wind_speed_100_year: <b>required</b></li><li>device.system_profile: <b>required</b></li><li>device.system_type: <b>satisfied</b></li><li>device.wet_beam_area: <b>required</b></li><li>device.system_height: <b>required</b></li><li>device.foundation_type: <b>optional</b></li><li>farm.substation_props: <b>optional</b></li><li>farm.mean_wind_direction_100_year: <b>required</b></li><li>device.coordinate_system: <b>required</b></li><li>project.cost_of_steel: <b>required</b></li><li>device.turbine_diameter: <b>required</b></li><li>farm.current_profile: <b>required</b></li><li>constants.sea_water_density: <b>required</b></li><li>farm.substation_layout: <b>optional</b></li><li>constants.rectangular_drift: <b>required</b></li><li>constants.rectangular_wave_inertia: <b>required</b></li><li>device.system_mass: <b>required</b></li><li>bathymetry.pile_Bm_moment_coefficient: <b>required</b></li><li>constants.rectangular_current_drag: <b>required</b></li><li>component.foundations_anchor_soft: <b>required</b></li><li>device.turbine_performance: <b>required</b></li><li>farm.substation_foundation_location: <b>optional</b></li><li>device.dry_frontal_area: <b>required</b></li><li>constants.air_density: <b>required</b></li><li>constants.cylinder_drag: <b>required</b></li><li>device.prescribed_footprint_radius: <b>optional</b></li><li>device.turbine_interdistance: <b>optional</b></li><li>farm.max_gust_wind_direction_100_year: <b>required</b></li><li>farm.substation_cog: <b>optional</b></li><li>constants.steel_density: <b>required</b></li><li>farm.main_direction: <b>required</b></li><li>device.system_roughness: <b>required</b></li><li>bathymetry.layers: <b>required</b></li><li>bathymetry.soil_drained_holding_capacity_factor: <b>required</b></li><li>project.cost_of_grout: <b>required</b></li><li>device.external_forces: <b>optional</b></li><li>device.system_width: <b>required</b></li><li>farm.max_water_level_50_year: <b>required</b></li><li>farm.grout_strength_safety_factor: <b>required</b></li><li>farm.wave_gamma_100_year: <b>required</b></li><li>constants.gravity: <b>required</b></li><li>component.predefined_mooring_list: <b>optional</b></li><li>device.dry_beam_area: <b>required</b></li><li>device.wet_frontal_area: <b>required</b></li><li>device.system_displaced_volume: <b>required</b></li><li>bathymetry.soil_sensitivity: <b>required</b></li><li>farm.max_tp_100_year: <b>required</b></li><li>device.system_centre_of_gravity: <b>required</b></li><li>constants.concrete_density: <b>required</b></li><li>farm.direction_of_max_surface_current: <b>required</b></li><li>farm.wave_direction_100_year: <b>required</b></li><li>component.foundations_pile: <b>required</b></li><li>farm.layout: <b>required</b></li><li>device.foundation_location: <b>required</b></li><li>farm.max_gust_wind_speed_100_year: <b>required</b></li><li>bathymetry.soilprops: <b>required</b></li><li>component.foundations_anchor: <b>required</b></li><li>bathymetry.line_bearing_capacity_factor: <b>required</b></li><li>constants.cylinder_wake_amplificiation: <b>required</b></li><li>bathymetry.soil_cohesive_reaction_coefficient: <b>required</b></li><li>farm.min_water_level_50_year: <b>required</b></li><li>device.system_length: <b>required</b></li><li>component.foundations_anchor_sand: <b>required</b></li><li>device.foundation_safety_factor: <b>required</b></li><li>bathymetry.pile_Am_moment_coefficient: <b>required</b></li><li>farm.max_surface_current_10_year: <b>required</b></li><li>farm.max_hs_100_year: <b>required</b></li><li>bathymetry.soil_cohesionless_reaction_coefficient: <b>required</b></li><li>bathymetry.pile_skin_friction_end_bearing_capacity: <b>required</b></li><li>component.fabrication_cost: <b>optional</b></li><li>constants.grout_density: <b>required</b></li><li>project.cost_of_concrete: <b>required</b></li><li>constants.grout_compressive_strength: <b>required</b></li><li>constants.rectangular_wind_drag: <b>required</b></li><li>bathymetry.pile_deflection_coefficients: <b>required</b></li></ul>"
      ],
      "text/plain": [
       "<IPython.core.display.HTML object>"
      ]
     },
     "execution_count": 24,
     "metadata": {},
     "output_type": "execute_result"
    }
   ],
   "source": [
    "input_status = moorings_branch.get_input_status(new_core, new_project)\n",
    "message = html_dict(input_status)\n",
    "HTML(message)"
   ]
  },
  {
   "cell_type": "markdown",
   "metadata": {},
   "source": [
    "## Initiate the dataflow\n",
    "This indicates that the filtering and module / theme selections are complete"
   ]
  },
  {
   "cell_type": "code",
   "execution_count": 25,
   "metadata": {
    "collapsed": false
   },
   "outputs": [
    {
     "name": "stdout",
     "output_type": "stream",
     "text": [
      "2016-09-12 11:13:37,283 - DEBUG - aneris.control.data - DataState created\n",
      "2016-09-12 11:13:37,283 - INFO - aneris.control.data - New \"hidden.dataflow_active\" data stored with index 2TCZ9R\n",
      "2016-09-12 11:13:37,283 - INFO - aneris.control.simulation - Datastate stored\n",
      "2016-09-12 11:13:37,283 - DEBUG - aneris.control.simulation - Merging active DataStates.\n",
      "2016-09-12 11:13:37,283 - DEBUG - aneris.control.simulation - Getting output status for interface \"Site and System Options\".\n",
      "2016-09-12 11:13:37,283 - DEBUG - aneris.control.simulation - Getting output status for interface \"Lease Area Selection\".\n",
      "2016-09-12 11:13:37,283 - DEBUG - aneris.control.simulation - Getting output status for interface \"Database Filtering Interface\".\n",
      "2016-09-12 11:13:37,283 - DEBUG - aneris.control.simulation - Getting output status for interface \"System Type Selection\".\n",
      "2016-09-12 11:13:37,283 - DEBUG - aneris.control.simulation - Getting output status for interface \"Mooring and Foundations\".\n",
      "2016-09-12 11:13:37,299 - DEBUG - aneris.control.simulation - Getting input status for interface \"Site and System Options\".\n",
      "2016-09-12 11:13:37,299 - DEBUG - aneris.control.simulation - Getting input status for interface \"Lease Area Selection\".\n",
      "2016-09-12 11:13:37,299 - DEBUG - aneris.control.simulation - Getting input status for interface \"Database Filtering Interface\".\n",
      "2016-09-12 11:13:37,299 - DEBUG - aneris.control.simulation - Getting input status for interface \"System Type Selection\".\n",
      "2016-09-12 11:13:37,299 - DEBUG - aneris.control.simulation - Getting input status for interface \"Mooring and Foundations\".\n",
      "2016-09-12 11:13:37,299 - DEBUG - aneris.control.simulation - Checking mask status for input \"device.depth_variation_permitted\".\n",
      "2016-09-12 11:13:37,299 - DEBUG - aneris.control.simulation - Retrieving data with identity \"device.system_type\".\n",
      "2016-09-12 11:13:37,299 - DEBUG - aneris.control.simulation - Checking mask status for input \"device.fairlead_location\".\n",
      "2016-09-12 11:13:37,299 - DEBUG - aneris.control.simulation - Retrieving data with identity \"device.system_type\".\n",
      "2016-09-12 11:13:37,299 - DEBUG - aneris.control.simulation - Checking mask status for input \"device.maximum_displacement\".\n",
      "2016-09-12 11:13:37,299 - DEBUG - aneris.control.simulation - Retrieving data with identity \"device.system_type\".\n",
      "2016-09-12 11:13:37,299 - DEBUG - aneris.control.simulation - Checking mask status for input \"device.mooring_system_type\".\n",
      "2016-09-12 11:13:37,299 - DEBUG - aneris.control.simulation - Retrieving data with identity \"device.system_type\".\n",
      "2016-09-12 11:13:37,299 - DEBUG - aneris.control.simulation - Checking mask status for input \"device.system_draft\".\n",
      "2016-09-12 11:13:37,315 - DEBUG - aneris.control.simulation - Retrieving data with identity \"device.system_type\".\n",
      "2016-09-12 11:13:37,315 - DEBUG - aneris.control.simulation - Checking mask status for input \"device.turbine_performance\".\n",
      "2016-09-12 11:13:37,315 - DEBUG - aneris.control.simulation - Retrieving data with identity \"device.system_type\".\n",
      "2016-09-12 11:13:37,315 - DEBUG - aneris.control.simulation - Checking mask status for input \"device.turbine_diameter\".\n",
      "2016-09-12 11:13:37,315 - DEBUG - aneris.control.simulation - Retrieving data with identity \"device.system_type\".\n",
      "2016-09-12 11:13:37,315 - DEBUG - aneris.control.simulation - Checking mask status for input \"device.turbine_interdistance\".\n",
      "2016-09-12 11:13:37,315 - DEBUG - aneris.control.simulation - Retrieving data with identity \"device.system_type\".\n",
      "2016-09-12 11:13:37,315 - DEBUG - aneris.control.simulation - Checking mask status for input \"device.umbilical_type\".\n",
      "2016-09-12 11:13:37,315 - DEBUG - aneris.control.simulation - Retrieving data with identity \"device.system_type\".\n",
      "2016-09-12 11:13:37,315 - DEBUG - aneris.control.simulation - Checking mask status for input \"device.umbilical_safety_factor\".\n",
      "2016-09-12 11:13:37,315 - DEBUG - aneris.control.simulation - Retrieving data with identity \"device.system_type\".\n",
      "2016-09-12 11:13:37,315 - DEBUG - aneris.control.simulation - Checking mask status for input \"device.umbilical_connection_point\".\n",
      "2016-09-12 11:13:37,315 - DEBUG - aneris.control.simulation - Retrieving data with identity \"device.system_type\".\n",
      "2016-09-12 11:13:37,315 - DEBUG - aneris.control.simulation - Checking mask status for input \"farm.mooring_ALS_safety_factor\".\n",
      "2016-09-12 11:13:37,315 - DEBUG - aneris.control.simulation - Retrieving data with identity \"device.system_type\".\n",
      "2016-09-12 11:13:37,315 - DEBUG - aneris.control.simulation - Checking mask status for input \"farm.mooring_ULS_safety_factor\".\n",
      "2016-09-12 11:13:37,315 - DEBUG - aneris.control.simulation - Retrieving data with identity \"device.system_type\".\n",
      "2016-09-12 11:13:37,315 - DEBUG - aneris.control.simulation - Checking mask status for input \"component.moorings_chain\".\n",
      "2016-09-12 11:13:37,331 - DEBUG - aneris.control.simulation - Retrieving data with identity \"device.system_type\".\n",
      "2016-09-12 11:13:37,331 - DEBUG - aneris.control.simulation - Checking mask status for input \"component.moorings_forerunner\".\n",
      "2016-09-12 11:13:37,331 - DEBUG - aneris.control.simulation - Retrieving data with identity \"device.system_type\".\n",
      "2016-09-12 11:13:37,331 - DEBUG - aneris.control.simulation - Checking mask status for input \"component.moorings_rope\".\n",
      "2016-09-12 11:13:37,331 - DEBUG - aneris.control.simulation - Retrieving data with identity \"device.system_type\".\n",
      "2016-09-12 11:13:37,331 - DEBUG - aneris.control.simulation - Checking mask status for input \"component.moorings_shackle\".\n",
      "2016-09-12 11:13:37,331 - DEBUG - aneris.control.simulation - Retrieving data with identity \"device.system_type\".\n",
      "2016-09-12 11:13:37,331 - DEBUG - aneris.control.simulation - Checking mask status for input \"component.moorings_swivel\".\n",
      "2016-09-12 11:13:37,331 - DEBUG - aneris.control.simulation - Retrieving data with identity \"device.system_type\".\n",
      "2016-09-12 11:13:37,331 - DEBUG - aneris.control.simulation - Checking mask status for input \"component.moorings_rope_stiffness\".\n",
      "2016-09-12 11:13:37,331 - DEBUG - aneris.control.simulation - Retrieving data with identity \"device.system_type\".\n",
      "2016-09-12 11:13:37,331 - DEBUG - aneris.control.simulation - Checking mask status for input \"component.moorings_umbilical\".\n",
      "2016-09-12 11:13:37,331 - DEBUG - aneris.control.simulation - Retrieving data with identity \"device.system_type\".\n",
      "2016-09-12 11:13:37,331 - DEBUG - aneris.control.simulation - Checking mask status for input \"farm.umbilical_seabed_connection\".\n",
      "2016-09-12 11:13:37,331 - DEBUG - aneris.control.simulation - Retrieving data with identity \"device.system_type\".\n",
      "2016-09-12 11:13:37,331 - DEBUG - aneris.control.data - DataState with level \"modules initial\" created\n",
      "2016-09-12 11:13:37,345 - INFO - aneris.control.simulation - Datastate with level \"modules initial\" stored\n",
      "2016-09-12 11:13:37,345 - DEBUG - aneris.control.simulation - Merging active DataStates.\n"
     ]
    }
   ],
   "source": [
    "project_menu.initiate_dataflow(new_core, new_project)"
   ]
  },
  {
   "cell_type": "markdown",
   "metadata": {},
   "source": [
    "## Move the system to the post-filter state and ready the system"
   ]
  },
  {
   "cell_type": "code",
   "execution_count": 26,
   "metadata": {
    "collapsed": false
   },
   "outputs": [
    {
     "name": "stdout",
     "output_type": "stream",
     "text": [
      "2016-09-12 11:13:37,345 - DEBUG - aneris.control.simulation - Getting output status for interface \"Site and System Options\".\n",
      "2016-09-12 11:13:37,345 - DEBUG - aneris.control.simulation - Getting output status for interface \"Lease Area Selection\".\n",
      "2016-09-12 11:13:37,345 - DEBUG - aneris.control.simulation - Getting output status for interface \"Database Filtering Interface\".\n",
      "2016-09-12 11:13:37,345 - DEBUG - aneris.control.simulation - Getting output status for interface \"System Type Selection\".\n",
      "2016-09-12 11:13:37,345 - DEBUG - aneris.control.simulation - Getting output status for interface \"Mooring and Foundations\".\n",
      "2016-09-12 11:13:37,345 - DEBUG - aneris.control.simulation - Getting input status for interface \"Site and System Options\".\n",
      "2016-09-12 11:13:37,361 - DEBUG - aneris.control.simulation - Getting input status for interface \"Lease Area Selection\".\n",
      "2016-09-12 11:13:37,361 - DEBUG - aneris.control.simulation - Getting input status for interface \"Database Filtering Interface\".\n",
      "2016-09-12 11:13:37,361 - DEBUG - aneris.control.simulation - Getting input status for interface \"System Type Selection\".\n",
      "2016-09-12 11:13:37,361 - DEBUG - aneris.control.simulation - Getting input status for interface \"Mooring and Foundations\".\n",
      "2016-09-12 11:13:37,361 - DEBUG - aneris.control.simulation - Checking mask status for input \"device.depth_variation_permitted\".\n",
      "2016-09-12 11:13:37,361 - DEBUG - aneris.control.simulation - Retrieving data with identity \"device.system_type\".\n",
      "2016-09-12 11:13:37,361 - DEBUG - aneris.control.simulation - Checking mask status for input \"device.fairlead_location\".\n",
      "2016-09-12 11:13:37,361 - DEBUG - aneris.control.simulation - Retrieving data with identity \"device.system_type\".\n",
      "2016-09-12 11:13:37,361 - DEBUG - aneris.control.simulation - Checking mask status for input \"device.maximum_displacement\".\n",
      "2016-09-12 11:13:37,361 - DEBUG - aneris.control.simulation - Retrieving data with identity \"device.system_type\".\n",
      "2016-09-12 11:13:37,361 - DEBUG - aneris.control.simulation - Checking mask status for input \"device.mooring_system_type\".\n",
      "2016-09-12 11:13:37,361 - DEBUG - aneris.control.simulation - Retrieving data with identity \"device.system_type\".\n",
      "2016-09-12 11:13:37,361 - DEBUG - aneris.control.simulation - Checking mask status for input \"device.system_draft\".\n",
      "2016-09-12 11:13:37,361 - DEBUG - aneris.control.simulation - Retrieving data with identity \"device.system_type\".\n",
      "2016-09-12 11:13:37,377 - DEBUG - aneris.control.simulation - Checking mask status for input \"device.turbine_performance\".\n",
      "2016-09-12 11:13:37,377 - DEBUG - aneris.control.simulation - Retrieving data with identity \"device.system_type\".\n",
      "2016-09-12 11:13:37,377 - DEBUG - aneris.control.simulation - Checking mask status for input \"device.turbine_diameter\".\n",
      "2016-09-12 11:13:37,377 - DEBUG - aneris.control.simulation - Retrieving data with identity \"device.system_type\".\n",
      "2016-09-12 11:13:37,377 - DEBUG - aneris.control.simulation - Checking mask status for input \"device.turbine_interdistance\".\n",
      "2016-09-12 11:13:37,377 - DEBUG - aneris.control.simulation - Retrieving data with identity \"device.system_type\".\n",
      "2016-09-12 11:13:37,377 - DEBUG - aneris.control.simulation - Checking mask status for input \"device.umbilical_type\".\n",
      "2016-09-12 11:13:37,377 - DEBUG - aneris.control.simulation - Retrieving data with identity \"device.system_type\".\n",
      "2016-09-12 11:13:37,377 - DEBUG - aneris.control.simulation - Checking mask status for input \"device.umbilical_safety_factor\".\n",
      "2016-09-12 11:13:37,377 - DEBUG - aneris.control.simulation - Retrieving data with identity \"device.system_type\".\n",
      "2016-09-12 11:13:37,377 - DEBUG - aneris.control.simulation - Checking mask status for input \"device.umbilical_connection_point\".\n",
      "2016-09-12 11:13:37,377 - DEBUG - aneris.control.simulation - Retrieving data with identity \"device.system_type\".\n",
      "2016-09-12 11:13:37,377 - DEBUG - aneris.control.simulation - Checking mask status for input \"farm.mooring_ALS_safety_factor\".\n",
      "2016-09-12 11:13:37,377 - DEBUG - aneris.control.simulation - Retrieving data with identity \"device.system_type\".\n",
      "2016-09-12 11:13:37,377 - DEBUG - aneris.control.simulation - Checking mask status for input \"farm.mooring_ULS_safety_factor\".\n",
      "2016-09-12 11:13:37,392 - DEBUG - aneris.control.simulation - Retrieving data with identity \"device.system_type\".\n",
      "2016-09-12 11:13:37,392 - DEBUG - aneris.control.simulation - Checking mask status for input \"component.moorings_chain\".\n",
      "2016-09-12 11:13:37,392 - DEBUG - aneris.control.simulation - Retrieving data with identity \"device.system_type\".\n",
      "2016-09-12 11:13:37,392 - DEBUG - aneris.control.simulation - Checking mask status for input \"component.moorings_forerunner\".\n",
      "2016-09-12 11:13:37,392 - DEBUG - aneris.control.simulation - Retrieving data with identity \"device.system_type\".\n",
      "2016-09-12 11:13:37,392 - DEBUG - aneris.control.simulation - Checking mask status for input \"component.moorings_rope\".\n",
      "2016-09-12 11:13:37,392 - DEBUG - aneris.control.simulation - Retrieving data with identity \"device.system_type\".\n",
      "2016-09-12 11:13:37,392 - DEBUG - aneris.control.simulation - Checking mask status for input \"component.moorings_shackle\".\n",
      "2016-09-12 11:13:37,392 - DEBUG - aneris.control.simulation - Retrieving data with identity \"device.system_type\".\n",
      "2016-09-12 11:13:37,392 - DEBUG - aneris.control.simulation - Checking mask status for input \"component.moorings_swivel\".\n",
      "2016-09-12 11:13:37,392 - DEBUG - aneris.control.simulation - Retrieving data with identity \"device.system_type\".\n",
      "2016-09-12 11:13:37,392 - DEBUG - aneris.control.simulation - Checking mask status for input \"component.moorings_rope_stiffness\".\n",
      "2016-09-12 11:13:37,392 - DEBUG - aneris.control.simulation - Retrieving data with identity \"device.system_type\".\n",
      "2016-09-12 11:13:37,392 - DEBUG - aneris.control.simulation - Checking mask status for input \"component.moorings_umbilical\".\n",
      "2016-09-12 11:13:37,392 - DEBUG - aneris.control.simulation - Retrieving data with identity \"device.system_type\".\n",
      "2016-09-12 11:13:37,392 - DEBUG - aneris.control.simulation - Checking mask status for input \"farm.umbilical_seabed_connection\".\n",
      "2016-09-12 11:13:37,392 - DEBUG - aneris.control.simulation - Retrieving data with identity \"device.system_type\".\n",
      "2016-09-12 11:13:37,408 - DEBUG - aneris.control.simulation - Merging active DataStates.\n",
      "2016-09-12 11:13:37,408 - DEBUG - aneris.control.simulation - Getting output status for interface \"Site and System Options\".\n",
      "2016-09-12 11:13:37,408 - DEBUG - aneris.control.simulation - Getting output status for interface \"Lease Area Selection\".\n",
      "2016-09-12 11:13:37,408 - DEBUG - aneris.control.simulation - Getting output status for interface \"Database Filtering Interface\".\n",
      "2016-09-12 11:13:37,408 - DEBUG - aneris.control.simulation - Getting output status for interface \"System Type Selection\".\n",
      "2016-09-12 11:13:37,408 - DEBUG - aneris.control.simulation - Getting output status for interface \"Mooring and Foundations\".\n",
      "2016-09-12 11:13:37,408 - DEBUG - aneris.control.simulation - Getting input status for interface \"Site and System Options\".\n",
      "2016-09-12 11:13:37,408 - DEBUG - aneris.control.simulation - Getting input status for interface \"Lease Area Selection\".\n",
      "2016-09-12 11:13:37,408 - DEBUG - aneris.control.simulation - Getting input status for interface \"Database Filtering Interface\".\n",
      "2016-09-12 11:13:37,408 - DEBUG - aneris.control.simulation - Getting input status for interface \"System Type Selection\".\n",
      "2016-09-12 11:13:37,408 - DEBUG - aneris.control.simulation - Getting input status for interface \"Mooring and Foundations\".\n",
      "2016-09-12 11:13:37,408 - DEBUG - aneris.control.simulation - Checking mask status for input \"device.depth_variation_permitted\".\n",
      "2016-09-12 11:13:37,424 - DEBUG - aneris.control.simulation - Retrieving data with identity \"device.system_type\".\n",
      "2016-09-12 11:13:37,424 - DEBUG - aneris.control.simulation - Checking mask status for input \"device.fairlead_location\".\n",
      "2016-09-12 11:13:37,424 - DEBUG - aneris.control.simulation - Retrieving data with identity \"device.system_type\".\n",
      "2016-09-12 11:13:37,424 - DEBUG - aneris.control.simulation - Checking mask status for input \"device.maximum_displacement\".\n",
      "2016-09-12 11:13:37,424 - DEBUG - aneris.control.simulation - Retrieving data with identity \"device.system_type\".\n",
      "2016-09-12 11:13:37,424 - DEBUG - aneris.control.simulation - Checking mask status for input \"device.mooring_system_type\".\n",
      "2016-09-12 11:13:37,424 - DEBUG - aneris.control.simulation - Retrieving data with identity \"device.system_type\".\n",
      "2016-09-12 11:13:37,424 - DEBUG - aneris.control.simulation - Checking mask status for input \"device.system_draft\".\n",
      "2016-09-12 11:13:37,424 - DEBUG - aneris.control.simulation - Retrieving data with identity \"device.system_type\".\n",
      "2016-09-12 11:13:37,424 - DEBUG - aneris.control.simulation - Checking mask status for input \"device.turbine_performance\".\n",
      "2016-09-12 11:13:37,424 - DEBUG - aneris.control.simulation - Retrieving data with identity \"device.system_type\".\n",
      "2016-09-12 11:13:37,424 - DEBUG - aneris.control.simulation - Checking mask status for input \"device.turbine_diameter\".\n",
      "2016-09-12 11:13:37,424 - DEBUG - aneris.control.simulation - Retrieving data with identity \"device.system_type\".\n",
      "2016-09-12 11:13:37,424 - DEBUG - aneris.control.simulation - Checking mask status for input \"device.turbine_interdistance\".\n",
      "2016-09-12 11:13:37,424 - DEBUG - aneris.control.simulation - Retrieving data with identity \"device.system_type\".\n",
      "2016-09-12 11:13:37,424 - DEBUG - aneris.control.simulation - Checking mask status for input \"device.umbilical_type\".\n",
      "2016-09-12 11:13:37,424 - DEBUG - aneris.control.simulation - Retrieving data with identity \"device.system_type\".\n",
      "2016-09-12 11:13:37,440 - DEBUG - aneris.control.simulation - Checking mask status for input \"device.umbilical_safety_factor\".\n",
      "2016-09-12 11:13:37,440 - DEBUG - aneris.control.simulation - Retrieving data with identity \"device.system_type\".\n",
      "2016-09-12 11:13:37,440 - DEBUG - aneris.control.simulation - Checking mask status for input \"device.umbilical_connection_point\".\n",
      "2016-09-12 11:13:37,440 - DEBUG - aneris.control.simulation - Retrieving data with identity \"device.system_type\".\n",
      "2016-09-12 11:13:37,440 - DEBUG - aneris.control.simulation - Checking mask status for input \"farm.mooring_ALS_safety_factor\".\n",
      "2016-09-12 11:13:37,440 - DEBUG - aneris.control.simulation - Retrieving data with identity \"device.system_type\".\n",
      "2016-09-12 11:13:37,440 - DEBUG - aneris.control.simulation - Checking mask status for input \"farm.mooring_ULS_safety_factor\".\n",
      "2016-09-12 11:13:37,440 - DEBUG - aneris.control.simulation - Retrieving data with identity \"device.system_type\".\n",
      "2016-09-12 11:13:37,440 - DEBUG - aneris.control.simulation - Checking mask status for input \"component.moorings_chain\".\n",
      "2016-09-12 11:13:37,440 - DEBUG - aneris.control.simulation - Retrieving data with identity \"device.system_type\".\n",
      "2016-09-12 11:13:37,440 - DEBUG - aneris.control.simulation - Checking mask status for input \"component.moorings_forerunner\".\n",
      "2016-09-12 11:13:37,440 - DEBUG - aneris.control.simulation - Retrieving data with identity \"device.system_type\".\n",
      "2016-09-12 11:13:37,440 - DEBUG - aneris.control.simulation - Checking mask status for input \"component.moorings_rope\".\n",
      "2016-09-12 11:13:37,440 - DEBUG - aneris.control.simulation - Retrieving data with identity \"device.system_type\".\n",
      "2016-09-12 11:13:37,440 - DEBUG - aneris.control.simulation - Checking mask status for input \"component.moorings_shackle\".\n",
      "2016-09-12 11:13:37,440 - DEBUG - aneris.control.simulation - Retrieving data with identity \"device.system_type\".\n",
      "2016-09-12 11:13:37,440 - DEBUG - aneris.control.simulation - Checking mask status for input \"component.moorings_swivel\".\n",
      "2016-09-12 11:13:37,440 - DEBUG - aneris.control.simulation - Retrieving data with identity \"device.system_type\".\n",
      "2016-09-12 11:13:37,440 - DEBUG - aneris.control.simulation - Checking mask status for input \"component.moorings_rope_stiffness\".\n",
      "2016-09-12 11:13:37,454 - DEBUG - aneris.control.simulation - Retrieving data with identity \"device.system_type\".\n",
      "2016-09-12 11:13:37,454 - DEBUG - aneris.control.simulation - Checking mask status for input \"component.moorings_umbilical\".\n",
      "2016-09-12 11:13:37,454 - DEBUG - aneris.control.simulation - Retrieving data with identity \"device.system_type\".\n",
      "2016-09-12 11:13:37,454 - DEBUG - aneris.control.simulation - Checking mask status for input \"farm.umbilical_seabed_connection\".\n",
      "2016-09-12 11:13:37,454 - DEBUG - aneris.control.simulation - Retrieving data with identity \"device.system_type\".\n"
     ]
    }
   ],
   "source": [
    "new_core.inspect_level(new_project, \"modules initial\")\n",
    "new_core.reset_level(new_project, preserve_level=True)"
   ]
  },
  {
   "cell_type": "markdown",
   "metadata": {},
   "source": [
    "## Get data using DTOcean DB\n",
    "\n",
    "Using the auto_connect method on a branch, we can pull available variables from the database"
   ]
  },
  {
   "cell_type": "code",
   "execution_count": 27,
   "metadata": {
    "collapsed": false
   },
   "outputs": [
    {
     "name": "stdout",
     "output_type": "stream",
     "text": [
      "2016-09-12 11:13:48,871 - DEBUG - aneris.control.data - DataState created\n",
      "2016-09-12 11:13:48,871 - INFO - aneris.control.data - New \"device.turbine_diameter\" data stored with index F5CZPM\n",
      "2016-09-12 11:13:48,871 - INFO - aneris.control.data - New \"device.turbine_performance\" data stored with index 5CUW2F\n",
      "2016-09-12 11:13:48,871 - INFO - aneris.control.data - New \"device.turbine_interdistance\" data stored with index RK0XE5\n",
      "2016-09-12 11:13:48,871 - INFO - aneris.control.data - New \"device.coordinate_system\" data stored with index THEXC1\n",
      "2016-09-12 11:13:48,871 - INFO - aneris.control.simulation - Datastate stored\n",
      "2016-09-12 11:13:48,871 - DEBUG - aneris.control.simulation - Merging active DataStates.\n",
      "2016-09-12 11:13:48,871 - DEBUG - aneris.control.simulation - Getting output status for interface \"Site and System Options\".\n",
      "2016-09-12 11:13:48,871 - DEBUG - aneris.control.simulation - Getting output status for interface \"Lease Area Selection\".\n",
      "2016-09-12 11:13:48,871 - DEBUG - aneris.control.simulation - Getting output status for interface \"Database Filtering Interface\".\n",
      "2016-09-12 11:13:48,871 - DEBUG - aneris.control.simulation - Getting output status for interface \"System Type Selection\".\n",
      "2016-09-12 11:13:48,871 - DEBUG - aneris.control.simulation - Getting output status for interface \"Mooring and Foundations\".\n",
      "2016-09-12 11:13:48,872 - DEBUG - aneris.control.simulation - Getting input status for interface \"Site and System Options\".\n",
      "2016-09-12 11:13:48,875 - DEBUG - aneris.control.simulation - Getting input status for interface \"Lease Area Selection\".\n",
      "2016-09-12 11:13:48,877 - DEBUG - aneris.control.simulation - Getting input status for interface \"Database Filtering Interface\".\n",
      "2016-09-12 11:13:48,878 - DEBUG - aneris.control.simulation - Getting input status for interface \"System Type Selection\".\n",
      "2016-09-12 11:13:48,881 - DEBUG - aneris.control.simulation - Getting input status for interface \"Mooring and Foundations\".\n",
      "2016-09-12 11:13:48,882 - DEBUG - aneris.control.simulation - Checking mask status for input \"device.depth_variation_permitted\".\n",
      "2016-09-12 11:13:48,884 - DEBUG - aneris.control.simulation - Retrieving data with identity \"device.system_type\".\n",
      "2016-09-12 11:13:48,885 - DEBUG - aneris.control.simulation - Checking mask status for input \"device.fairlead_location\".\n",
      "2016-09-12 11:13:48,887 - DEBUG - aneris.control.simulation - Retrieving data with identity \"device.system_type\".\n",
      "2016-09-12 11:13:48,888 - DEBUG - aneris.control.simulation - Checking mask status for input \"device.maximum_displacement\".\n",
      "2016-09-12 11:13:48,888 - DEBUG - aneris.control.simulation - Retrieving data with identity \"device.system_type\".\n",
      "2016-09-12 11:13:48,891 - DEBUG - aneris.control.simulation - Checking mask status for input \"device.mooring_system_type\".\n",
      "2016-09-12 11:13:48,891 - DEBUG - aneris.control.simulation - Retrieving data with identity \"device.system_type\".\n",
      "2016-09-12 11:13:48,892 - DEBUG - aneris.control.simulation - Checking mask status for input \"device.system_draft\".\n",
      "2016-09-12 11:13:48,894 - DEBUG - aneris.control.simulation - Retrieving data with identity \"device.system_type\".\n",
      "2016-09-12 11:13:48,895 - DEBUG - aneris.control.simulation - Checking mask status for input \"device.turbine_performance\".\n",
      "2016-09-12 11:13:48,897 - DEBUG - aneris.control.simulation - Retrieving data with identity \"device.system_type\".\n",
      "2016-09-12 11:13:48,898 - DEBUG - aneris.control.simulation - Checking mask status for input \"device.turbine_diameter\".\n",
      "2016-09-12 11:13:48,900 - DEBUG - aneris.control.simulation - Retrieving data with identity \"device.system_type\".\n",
      "2016-09-12 11:13:48,901 - DEBUG - aneris.control.simulation - Checking mask status for input \"device.turbine_interdistance\".\n",
      "2016-09-12 11:13:48,903 - DEBUG - aneris.control.simulation - Retrieving data with identity \"device.system_type\".\n",
      "2016-09-12 11:13:48,904 - DEBUG - aneris.control.simulation - Checking mask status for input \"device.umbilical_type\".\n",
      "2016-09-12 11:13:48,905 - DEBUG - aneris.control.simulation - Retrieving data with identity \"device.system_type\".\n",
      "2016-09-12 11:13:48,907 - DEBUG - aneris.control.simulation - Checking mask status for input \"device.umbilical_safety_factor\".\n",
      "2016-09-12 11:13:48,910 - DEBUG - aneris.control.simulation - Retrieving data with identity \"device.system_type\".\n",
      "2016-09-12 11:13:48,911 - DEBUG - aneris.control.simulation - Checking mask status for input \"device.umbilical_connection_point\".\n",
      "2016-09-12 11:13:48,913 - DEBUG - aneris.control.simulation - Retrieving data with identity \"device.system_type\".\n",
      "2016-09-12 11:13:48,914 - DEBUG - aneris.control.simulation - Checking mask status for input \"farm.mooring_ALS_safety_factor\".\n",
      "2016-09-12 11:13:48,915 - DEBUG - aneris.control.simulation - Retrieving data with identity \"device.system_type\".\n",
      "2016-09-12 11:13:48,917 - DEBUG - aneris.control.simulation - Checking mask status for input \"farm.mooring_ULS_safety_factor\".\n",
      "2016-09-12 11:13:48,918 - DEBUG - aneris.control.simulation - Retrieving data with identity \"device.system_type\".\n",
      "2016-09-12 11:13:48,920 - DEBUG - aneris.control.simulation - Checking mask status for input \"component.moorings_chain\".\n",
      "2016-09-12 11:13:48,921 - DEBUG - aneris.control.simulation - Retrieving data with identity \"device.system_type\".\n",
      "2016-09-12 11:13:48,921 - DEBUG - aneris.control.simulation - Checking mask status for input \"component.moorings_forerunner\".\n",
      "2016-09-12 11:13:48,923 - DEBUG - aneris.control.simulation - Retrieving data with identity \"device.system_type\".\n",
      "2016-09-12 11:13:48,924 - DEBUG - aneris.control.simulation - Checking mask status for input \"component.moorings_rope\".\n",
      "2016-09-12 11:13:48,924 - DEBUG - aneris.control.simulation - Retrieving data with identity \"device.system_type\".\n",
      "2016-09-12 11:13:48,926 - DEBUG - aneris.control.simulation - Checking mask status for input \"component.moorings_shackle\".\n",
      "2016-09-12 11:13:48,927 - DEBUG - aneris.control.simulation - Retrieving data with identity \"device.system_type\".\n",
      "2016-09-12 11:13:48,930 - DEBUG - aneris.control.simulation - Checking mask status for input \"component.moorings_swivel\".\n",
      "2016-09-12 11:13:48,933 - DEBUG - aneris.control.simulation - Retrieving data with identity \"device.system_type\".\n",
      "2016-09-12 11:13:48,934 - DEBUG - aneris.control.simulation - Checking mask status for input \"component.moorings_rope_stiffness\".\n",
      "2016-09-12 11:13:48,934 - DEBUG - aneris.control.simulation - Retrieving data with identity \"device.system_type\".\n",
      "2016-09-12 11:13:48,936 - DEBUG - aneris.control.simulation - Checking mask status for input \"component.moorings_umbilical\".\n",
      "2016-09-12 11:13:48,937 - DEBUG - aneris.control.simulation - Retrieving data with identity \"device.system_type\".\n",
      "2016-09-12 11:13:48,937 - DEBUG - aneris.control.simulation - Checking mask status for input \"farm.umbilical_seabed_connection\".\n",
      "2016-09-12 11:13:48,938 - DEBUG - aneris.control.simulation - Retrieving data with identity \"device.system_type\".\n"
     ]
    },
    {
     "data": {
      "text/html": [
       "<ul><li>farm.mean_wind_speed_100_year: <b>required</b></li><li>device.system_profile: <b>required</b></li><li>device.system_type: <b>satisfied</b></li><li>device.wet_beam_area: <b>required</b></li><li>device.system_height: <b>required</b></li><li>device.foundation_type: <b>optional</b></li><li>farm.substation_props: <b>optional</b></li><li>farm.mean_wind_direction_100_year: <b>required</b></li><li>device.coordinate_system: <b>satisfied</b></li><li>project.cost_of_steel: <b>required</b></li><li>device.turbine_diameter: <b>satisfied</b></li><li>farm.current_profile: <b>required</b></li><li>constants.sea_water_density: <b>required</b></li><li>farm.substation_layout: <b>optional</b></li><li>constants.rectangular_drift: <b>required</b></li><li>constants.rectangular_wave_inertia: <b>required</b></li><li>device.system_mass: <b>required</b></li><li>bathymetry.pile_Bm_moment_coefficient: <b>required</b></li><li>constants.rectangular_current_drag: <b>required</b></li><li>component.foundations_anchor_soft: <b>required</b></li><li>device.turbine_performance: <b>satisfied</b></li><li>farm.substation_foundation_location: <b>optional</b></li><li>device.dry_frontal_area: <b>required</b></li><li>constants.air_density: <b>required</b></li><li>constants.cylinder_drag: <b>required</b></li><li>device.prescribed_footprint_radius: <b>optional</b></li><li>device.turbine_interdistance: <b>satisfied</b></li><li>farm.max_gust_wind_direction_100_year: <b>required</b></li><li>farm.substation_cog: <b>optional</b></li><li>constants.steel_density: <b>required</b></li><li>farm.main_direction: <b>required</b></li><li>device.system_roughness: <b>required</b></li><li>bathymetry.layers: <b>required</b></li><li>bathymetry.soil_drained_holding_capacity_factor: <b>required</b></li><li>project.cost_of_grout: <b>required</b></li><li>device.external_forces: <b>optional</b></li><li>device.system_width: <b>required</b></li><li>farm.max_water_level_50_year: <b>required</b></li><li>farm.grout_strength_safety_factor: <b>required</b></li><li>farm.wave_gamma_100_year: <b>required</b></li><li>constants.gravity: <b>required</b></li><li>component.predefined_mooring_list: <b>optional</b></li><li>device.dry_beam_area: <b>required</b></li><li>device.wet_frontal_area: <b>required</b></li><li>device.system_displaced_volume: <b>required</b></li><li>bathymetry.soil_sensitivity: <b>required</b></li><li>farm.max_tp_100_year: <b>required</b></li><li>device.system_centre_of_gravity: <b>required</b></li><li>constants.concrete_density: <b>required</b></li><li>farm.direction_of_max_surface_current: <b>required</b></li><li>farm.wave_direction_100_year: <b>required</b></li><li>component.foundations_pile: <b>required</b></li><li>farm.layout: <b>required</b></li><li>device.foundation_location: <b>required</b></li><li>farm.max_gust_wind_speed_100_year: <b>required</b></li><li>bathymetry.soilprops: <b>required</b></li><li>component.foundations_anchor: <b>required</b></li><li>bathymetry.line_bearing_capacity_factor: <b>required</b></li><li>constants.cylinder_wake_amplificiation: <b>required</b></li><li>bathymetry.soil_cohesive_reaction_coefficient: <b>required</b></li><li>farm.min_water_level_50_year: <b>required</b></li><li>device.system_length: <b>required</b></li><li>component.foundations_anchor_sand: <b>required</b></li><li>device.foundation_safety_factor: <b>required</b></li><li>bathymetry.pile_Am_moment_coefficient: <b>required</b></li><li>farm.max_surface_current_10_year: <b>required</b></li><li>farm.max_hs_100_year: <b>required</b></li><li>bathymetry.soil_cohesionless_reaction_coefficient: <b>required</b></li><li>bathymetry.pile_skin_friction_end_bearing_capacity: <b>required</b></li><li>component.fabrication_cost: <b>optional</b></li><li>constants.grout_density: <b>required</b></li><li>project.cost_of_concrete: <b>required</b></li><li>constants.grout_compressive_strength: <b>required</b></li><li>constants.rectangular_wind_drag: <b>required</b></li><li>bathymetry.pile_deflection_coefficients: <b>required</b></li></ul>"
      ],
      "text/plain": [
       "<IPython.core.display.HTML object>"
      ]
     },
     "execution_count": 27,
     "metadata": {},
     "output_type": "execute_result"
    }
   ],
   "source": [
    "moorings_branch.read_auto(new_core, new_project)\n",
    "input_status = moorings_branch.get_input_status(new_core, new_project)\n",
    "message = html_dict(input_status)\n",
    "HTML(message)"
   ]
  },
  {
   "cell_type": "markdown",
   "metadata": {},
   "source": [
    "## Display a variable"
   ]
  },
  {
   "cell_type": "code",
   "execution_count": 28,
   "metadata": {
    "collapsed": false
   },
   "outputs": [
    {
     "name": "stdout",
     "output_type": "stream",
     "text": [
      "2016-09-12 11:13:48,950 - DEBUG - aneris.control.simulation - Retrieving data with identity \"device.coordinate_system\".\n"
     ]
    },
    {
     "data": {
      "text/plain": [
       "array([  0.,   0.,  11.])"
      ]
     },
     "execution_count": 28,
     "metadata": {},
     "output_type": "execute_result"
    }
   ],
   "source": [
    "variable = new_core.get_data_value(new_project, \"device.coordinate_system\")\n",
    "variable"
   ]
  },
  {
   "cell_type": "markdown",
   "metadata": {},
   "source": [
    "## Get a variable from the tree"
   ]
  },
  {
   "cell_type": "code",
   "execution_count": 29,
   "metadata": {
    "collapsed": false
   },
   "outputs": [],
   "source": [
    "variable_id = 'device.turbine_diameter'\n",
    "my_var = moorings_branch.get_input_variable(new_core, new_project, variable_id)"
   ]
  },
  {
   "cell_type": "markdown",
   "metadata": {},
   "source": [
    "## Discover which interfaces can be used to enter the variable\n",
    "\n",
    "Each piece of data must be provided by one or many interfaces, be that raw input or from special file types."
   ]
  },
  {
   "cell_type": "code",
   "execution_count": 30,
   "metadata": {
    "collapsed": false
   },
   "outputs": [
    {
     "data": {
      "text/html": [
       "<ul></ul>"
      ],
      "text/plain": [
       "<IPython.core.display.HTML object>"
      ]
     },
     "execution_count": 30,
     "metadata": {},
     "output_type": "execute_result"
    }
   ],
   "source": [
    "list_raw = my_var.get_raw_interfaces(new_core)\n",
    "message = html_list(list_raw)\n",
    "HTML(message)"
   ]
  },
  {
   "cell_type": "markdown",
   "metadata": {},
   "source": [
    "## Use the interface to enter the variable value\n",
    "\n",
    "The interface must be \"set\" (entering the data) and then \"connected\" (moving the data into the data state)"
   ]
  },
  {
   "cell_type": "code",
   "execution_count": 31,
   "metadata": {
    "collapsed": false
   },
   "outputs": [
    {
     "name": "stdout",
     "output_type": "stream",
     "text": [
      "2016-09-12 11:13:48,984 - DEBUG - aneris.control.data - DataState created\n",
      "2016-09-12 11:13:48,986 - INFO - aneris.control.data - New \"device.turbine_diameter\" data stored with index ZBPMF5\n",
      "2016-09-12 11:13:48,986 - INFO - aneris.control.simulation - Datastate stored\n",
      "2016-09-12 11:13:48,989 - DEBUG - aneris.control.simulation - Merging active DataStates.\n",
      "2016-09-12 11:13:48,990 - DEBUG - aneris.control.simulation - Getting output status for interface \"Site and System Options\".\n",
      "2016-09-12 11:13:48,992 - DEBUG - aneris.control.simulation - Getting output status for interface \"Lease Area Selection\".\n",
      "2016-09-12 11:13:48,993 - DEBUG - aneris.control.simulation - Getting output status for interface \"Database Filtering Interface\".\n",
      "2016-09-12 11:13:48,994 - DEBUG - aneris.control.simulation - Getting output status for interface \"System Type Selection\".\n",
      "2016-09-12 11:13:48,996 - DEBUG - aneris.control.simulation - Getting output status for interface \"Mooring and Foundations\".\n",
      "2016-09-12 11:13:48,997 - DEBUG - aneris.control.simulation - Getting input status for interface \"Site and System Options\".\n",
      "2016-09-12 11:13:49,000 - DEBUG - aneris.control.simulation - Getting input status for interface \"Lease Area Selection\".\n",
      "2016-09-12 11:13:49,002 - DEBUG - aneris.control.simulation - Getting input status for interface \"Database Filtering Interface\".\n",
      "2016-09-12 11:13:49,003 - DEBUG - aneris.control.simulation - Getting input status for interface \"System Type Selection\".\n",
      "2016-09-12 11:13:49,005 - DEBUG - aneris.control.simulation - Getting input status for interface \"Mooring and Foundations\".\n",
      "2016-09-12 11:13:49,006 - DEBUG - aneris.control.simulation - Checking mask status for input \"device.depth_variation_permitted\".\n",
      "2016-09-12 11:13:49,007 - DEBUG - aneris.control.simulation - Retrieving data with identity \"device.system_type\".\n",
      "2016-09-12 11:13:49,009 - DEBUG - aneris.control.simulation - Checking mask status for input \"device.fairlead_location\".\n",
      "2016-09-12 11:13:49,009 - DEBUG - aneris.control.simulation - Retrieving data with identity \"device.system_type\".\n",
      "2016-09-12 11:13:49,010 - DEBUG - aneris.control.simulation - Checking mask status for input \"device.maximum_displacement\".\n",
      "2016-09-12 11:13:49,012 - DEBUG - aneris.control.simulation - Retrieving data with identity \"device.system_type\".\n",
      "2016-09-12 11:13:49,013 - DEBUG - aneris.control.simulation - Checking mask status for input \"device.mooring_system_type\".\n",
      "2016-09-12 11:13:49,013 - DEBUG - aneris.control.simulation - Retrieving data with identity \"device.system_type\".\n",
      "2016-09-12 11:13:49,015 - DEBUG - aneris.control.simulation - Checking mask status for input \"device.system_draft\".\n",
      "2016-09-12 11:13:49,016 - DEBUG - aneris.control.simulation - Retrieving data with identity \"device.system_type\".\n",
      "2016-09-12 11:13:49,016 - DEBUG - aneris.control.simulation - Checking mask status for input \"device.turbine_performance\".\n",
      "2016-09-12 11:13:49,017 - DEBUG - aneris.control.simulation - Retrieving data with identity \"device.system_type\".\n",
      "2016-09-12 11:13:49,019 - DEBUG - aneris.control.simulation - Checking mask status for input \"device.turbine_diameter\".\n",
      "2016-09-12 11:13:49,019 - DEBUG - aneris.control.simulation - Retrieving data with identity \"device.system_type\".\n",
      "2016-09-12 11:13:49,020 - DEBUG - aneris.control.simulation - Checking mask status for input \"device.turbine_interdistance\".\n",
      "2016-09-12 11:13:49,022 - DEBUG - aneris.control.simulation - Retrieving data with identity \"device.system_type\".\n",
      "2016-09-12 11:13:49,023 - DEBUG - aneris.control.simulation - Checking mask status for input \"device.umbilical_type\".\n",
      "2016-09-12 11:13:49,023 - DEBUG - aneris.control.simulation - Retrieving data with identity \"device.system_type\".\n",
      "2016-09-12 11:13:49,025 - DEBUG - aneris.control.simulation - Checking mask status for input \"device.umbilical_safety_factor\".\n",
      "2016-09-12 11:13:49,026 - DEBUG - aneris.control.simulation - Retrieving data with identity \"device.system_type\".\n",
      "2016-09-12 11:13:49,026 - DEBUG - aneris.control.simulation - Checking mask status for input \"device.umbilical_connection_point\".\n",
      "2016-09-12 11:13:49,028 - DEBUG - aneris.control.simulation - Retrieving data with identity \"device.system_type\".\n",
      "2016-09-12 11:13:49,029 - DEBUG - aneris.control.simulation - Checking mask status for input \"farm.mooring_ALS_safety_factor\".\n",
      "2016-09-12 11:13:49,029 - DEBUG - aneris.control.simulation - Retrieving data with identity \"device.system_type\".\n",
      "2016-09-12 11:13:49,030 - DEBUG - aneris.control.simulation - Checking mask status for input \"farm.mooring_ULS_safety_factor\".\n",
      "2016-09-12 11:13:49,032 - DEBUG - aneris.control.simulation - Retrieving data with identity \"device.system_type\".\n",
      "2016-09-12 11:13:49,032 - DEBUG - aneris.control.simulation - Checking mask status for input \"component.moorings_chain\".\n",
      "2016-09-12 11:13:49,032 - DEBUG - aneris.control.simulation - Retrieving data with identity \"device.system_type\".\n",
      "2016-09-12 11:13:49,033 - DEBUG - aneris.control.simulation - Checking mask status for input \"component.moorings_forerunner\".\n",
      "2016-09-12 11:13:49,035 - DEBUG - aneris.control.simulation - Retrieving data with identity \"device.system_type\".\n",
      "2016-09-12 11:13:49,036 - DEBUG - aneris.control.simulation - Checking mask status for input \"component.moorings_rope\".\n",
      "2016-09-12 11:13:49,038 - DEBUG - aneris.control.simulation - Retrieving data with identity \"device.system_type\".\n",
      "2016-09-12 11:13:49,039 - DEBUG - aneris.control.simulation - Checking mask status for input \"component.moorings_shackle\".\n",
      "2016-09-12 11:13:49,039 - DEBUG - aneris.control.simulation - Retrieving data with identity \"device.system_type\".\n",
      "2016-09-12 11:13:49,040 - DEBUG - aneris.control.simulation - Checking mask status for input \"component.moorings_swivel\".\n",
      "2016-09-12 11:13:49,042 - DEBUG - aneris.control.simulation - Retrieving data with identity \"device.system_type\".\n",
      "2016-09-12 11:13:49,042 - DEBUG - aneris.control.simulation - Checking mask status for input \"component.moorings_rope_stiffness\".\n",
      "2016-09-12 11:13:49,043 - DEBUG - aneris.control.simulation - Retrieving data with identity \"device.system_type\".\n",
      "2016-09-12 11:13:49,045 - DEBUG - aneris.control.simulation - Checking mask status for input \"component.moorings_umbilical\".\n",
      "2016-09-12 11:13:49,046 - DEBUG - aneris.control.simulation - Retrieving data with identity \"device.system_type\".\n",
      "2016-09-12 11:13:49,046 - DEBUG - aneris.control.simulation - Checking mask status for input \"farm.umbilical_seabed_connection\".\n",
      "2016-09-12 11:13:49,048 - DEBUG - aneris.control.simulation - Retrieving data with identity \"device.system_type\".\n"
     ]
    }
   ],
   "source": [
    "device_turbine_diameter = 30.0\n",
    "\n",
    "my_var.set_raw_interface(new_core, device_turbine_diameter)\n",
    "my_var.read(new_core, new_project)"
   ]
  },
  {
   "cell_type": "markdown",
   "metadata": {},
   "source": [
    "## Check that the variable has been entered correctly"
   ]
  },
  {
   "cell_type": "code",
   "execution_count": 32,
   "metadata": {
    "collapsed": false
   },
   "outputs": [
    {
     "name": "stdout",
     "output_type": "stream",
     "text": [
      "2016-09-12 11:13:49,055 - DEBUG - aneris.control.simulation - Retrieving data with identity \"device.turbine_diameter\".\n"
     ]
    },
    {
     "data": {
      "text/plain": [
       "30.0"
      ]
     },
     "metadata": {},
     "output_type": "display_data"
    }
   ],
   "source": [
    "variable_value = new_core.get_data_value(new_project, variable_id)\n",
    "display(variable_value)"
   ]
  },
  {
   "cell_type": "markdown",
   "metadata": {},
   "source": [
    "## Auto plot a variable "
   ]
  },
  {
   "cell_type": "code",
   "execution_count": 33,
   "metadata": {
    "collapsed": false
   },
   "outputs": [],
   "source": [
    "#new_var = hydro_branch.get_input_variable(new_core,\n",
    "#                                          new_project,\n",
    "#                                          'farm.wave_direction_100_year')"
   ]
  },
  {
   "cell_type": "code",
   "execution_count": 34,
   "metadata": {
    "collapsed": false
   },
   "outputs": [],
   "source": [
    "#new_var.plot(new_core, new_project)"
   ]
  },
  {
   "cell_type": "markdown",
   "metadata": {},
   "source": [
    "## Look for other available plots"
   ]
  },
  {
   "cell_type": "code",
   "execution_count": 35,
   "metadata": {
    "collapsed": false
   },
   "outputs": [],
   "source": [
    "#plots = new_var.get_available_plots(new_core, new_project)\n",
    "#msg = html_list(plots)\n",
    "#HTML(msg)"
   ]
  },
  {
   "cell_type": "markdown",
   "metadata": {},
   "source": [
    "## Plot a specific plot"
   ]
  },
  {
   "cell_type": "code",
   "execution_count": 36,
   "metadata": {
    "collapsed": false
   },
   "outputs": [],
   "source": [
    "#new_var.plot(new_core, new_project, 'Tidal Power Performance')"
   ]
  },
  {
   "cell_type": "markdown",
   "metadata": {},
   "source": [
    "## Check if the module can be executed"
   ]
  },
  {
   "cell_type": "code",
   "execution_count": 37,
   "metadata": {
    "collapsed": false
   },
   "outputs": [
    {
     "data": {
      "text/plain": [
       "False"
      ]
     },
     "metadata": {},
     "output_type": "display_data"
    }
   ],
   "source": [
    "can_execute = module_menu.is_executable(new_core, new_project, module_name)\n",
    "display(can_execute)"
   ]
  },
  {
   "cell_type": "code",
   "execution_count": 38,
   "metadata": {
    "collapsed": false
   },
   "outputs": [
    {
     "data": {
      "text/html": [
       "<ul><li>farm.mean_wind_speed_100_year: <b>required</b></li><li>device.system_profile: <b>required</b></li><li>device.system_type: <b>satisfied</b></li><li>device.wet_beam_area: <b>required</b></li><li>device.system_height: <b>required</b></li><li>device.foundation_type: <b>optional</b></li><li>farm.substation_props: <b>optional</b></li><li>farm.mean_wind_direction_100_year: <b>required</b></li><li>device.coordinate_system: <b>satisfied</b></li><li>project.cost_of_steel: <b>required</b></li><li>device.turbine_diameter: <b>satisfied</b></li><li>farm.current_profile: <b>required</b></li><li>constants.sea_water_density: <b>required</b></li><li>farm.substation_layout: <b>optional</b></li><li>constants.rectangular_drift: <b>required</b></li><li>constants.rectangular_wave_inertia: <b>required</b></li><li>device.system_mass: <b>required</b></li><li>bathymetry.pile_Bm_moment_coefficient: <b>required</b></li><li>constants.rectangular_current_drag: <b>required</b></li><li>component.foundations_anchor_soft: <b>required</b></li><li>device.turbine_performance: <b>satisfied</b></li><li>farm.substation_foundation_location: <b>optional</b></li><li>device.dry_frontal_area: <b>required</b></li><li>constants.air_density: <b>required</b></li><li>constants.cylinder_drag: <b>required</b></li><li>device.prescribed_footprint_radius: <b>optional</b></li><li>device.turbine_interdistance: <b>satisfied</b></li><li>farm.max_gust_wind_direction_100_year: <b>required</b></li><li>farm.substation_cog: <b>optional</b></li><li>constants.steel_density: <b>required</b></li><li>farm.main_direction: <b>required</b></li><li>device.system_roughness: <b>required</b></li><li>bathymetry.layers: <b>required</b></li><li>bathymetry.soil_drained_holding_capacity_factor: <b>required</b></li><li>project.cost_of_grout: <b>required</b></li><li>device.external_forces: <b>optional</b></li><li>device.system_width: <b>required</b></li><li>farm.max_water_level_50_year: <b>required</b></li><li>farm.grout_strength_safety_factor: <b>required</b></li><li>farm.wave_gamma_100_year: <b>required</b></li><li>constants.gravity: <b>required</b></li><li>component.predefined_mooring_list: <b>optional</b></li><li>device.dry_beam_area: <b>required</b></li><li>device.wet_frontal_area: <b>required</b></li><li>device.system_displaced_volume: <b>required</b></li><li>bathymetry.soil_sensitivity: <b>required</b></li><li>farm.max_tp_100_year: <b>required</b></li><li>device.system_centre_of_gravity: <b>required</b></li><li>constants.concrete_density: <b>required</b></li><li>farm.direction_of_max_surface_current: <b>required</b></li><li>farm.wave_direction_100_year: <b>required</b></li><li>component.foundations_pile: <b>required</b></li><li>farm.layout: <b>required</b></li><li>device.foundation_location: <b>required</b></li><li>farm.max_gust_wind_speed_100_year: <b>required</b></li><li>bathymetry.soilprops: <b>required</b></li><li>component.foundations_anchor: <b>required</b></li><li>bathymetry.line_bearing_capacity_factor: <b>required</b></li><li>constants.cylinder_wake_amplificiation: <b>required</b></li><li>bathymetry.soil_cohesive_reaction_coefficient: <b>required</b></li><li>farm.min_water_level_50_year: <b>required</b></li><li>device.system_length: <b>required</b></li><li>component.foundations_anchor_sand: <b>required</b></li><li>device.foundation_safety_factor: <b>required</b></li><li>bathymetry.pile_Am_moment_coefficient: <b>required</b></li><li>farm.max_surface_current_10_year: <b>required</b></li><li>farm.max_hs_100_year: <b>required</b></li><li>bathymetry.soil_cohesionless_reaction_coefficient: <b>required</b></li><li>bathymetry.pile_skin_friction_end_bearing_capacity: <b>required</b></li><li>component.fabrication_cost: <b>optional</b></li><li>constants.grout_density: <b>required</b></li><li>project.cost_of_concrete: <b>required</b></li><li>constants.grout_compressive_strength: <b>required</b></li><li>constants.rectangular_wind_drag: <b>required</b></li><li>bathymetry.pile_deflection_coefficients: <b>required</b></li></ul>"
      ],
      "text/plain": [
       "<IPython.core.display.HTML object>"
      ]
     },
     "execution_count": 38,
     "metadata": {},
     "output_type": "execute_result"
    }
   ],
   "source": [
    "input_status = moorings_branch.get_input_status(new_core, new_project)\n",
    "message = html_dict(input_status)\n",
    "HTML(message)"
   ]
  },
  {
   "cell_type": "markdown",
   "metadata": {},
   "source": [
    "## Execute the current module\n",
    "\n",
    "The \"current\" module refers to the next module to be executed in the chain (pipeline) of modules. This command will only execute that module and another will be used for executing all of the modules at once.\n",
    "\n",
    "Note, any data supplied by the module will be automatically copied into the active data state."
   ]
  },
  {
   "cell_type": "code",
   "execution_count": 39,
   "metadata": {
    "collapsed": false
   },
   "outputs": [
    {
     "ename": "RuntimeError",
     "evalue": "Not all inputs for module Mooring and Foundations or theme(s)  have been satisfied",
     "output_type": "error",
     "traceback": [
      "\u001b[0;31m---------------------------------------------------------------------------\u001b[0m",
      "\u001b[0;31mRuntimeError\u001b[0m                              Traceback (most recent call last)",
      "\u001b[0;32m<ipython-input-39-c2a860f17c50>\u001b[0m in \u001b[0;36m<module>\u001b[0;34m()\u001b[0m\n\u001b[0;32m----> 1\u001b[0;31m \u001b[0mmodule_menu\u001b[0m\u001b[1;33m.\u001b[0m\u001b[0mexecute_current\u001b[0m\u001b[1;33m(\u001b[0m\u001b[0mnew_core\u001b[0m\u001b[1;33m,\u001b[0m \u001b[0mnew_project\u001b[0m\u001b[1;33m)\u001b[0m\u001b[1;33m\u001b[0m\u001b[0m\n\u001b[0m",
      "\u001b[0;32mC:\\Anaconda2\\envs\\dtocean_DAB\\lib\\site-packages\\dtocean_core-0.1.5.dev1-py2.7.egg\\dtocean_core\\menu.pyc\u001b[0m in \u001b[0;36mexecute_current\u001b[0;34m(self, core, project, execute_themes)\u001b[0m\n\u001b[1;32m    410\u001b[0m             \u001b[0merrStr\u001b[0m \u001b[1;33m=\u001b[0m \u001b[1;34m\"{} have been satisfied\"\u001b[0m\u001b[1;33m.\u001b[0m\u001b[0mformat\u001b[0m\u001b[1;33m(\u001b[0m\u001b[0merrStr\u001b[0m\u001b[1;33m)\u001b[0m\u001b[1;33m\u001b[0m\u001b[0m\n\u001b[1;32m    411\u001b[0m \u001b[1;33m\u001b[0m\u001b[0m\n\u001b[0;32m--> 412\u001b[0;31m             \u001b[1;32mraise\u001b[0m \u001b[0mRuntimeError\u001b[0m\u001b[1;33m(\u001b[0m\u001b[0merrStr\u001b[0m\u001b[1;33m)\u001b[0m\u001b[1;33m\u001b[0m\u001b[0m\n\u001b[0m\u001b[1;32m    413\u001b[0m \u001b[1;33m\u001b[0m\u001b[0m\n\u001b[1;32m    414\u001b[0m         \u001b[1;31m# Unmask any states\u001b[0m\u001b[1;33m\u001b[0m\u001b[1;33m\u001b[0m\u001b[0m\n",
      "\u001b[0;31mRuntimeError\u001b[0m: Not all inputs for module Mooring and Foundations or theme(s)  have been satisfied"
     ]
    }
   ],
   "source": [
    "module_menu.execute_current(new_core, new_project)"
   ]
  },
  {
   "cell_type": "markdown",
   "metadata": {},
   "source": [
    "## Examine the results\n",
    "\n",
    "Currently, there is no robustness built into the core, so the assumption is that the module executed successfully. This will have to be improved towards deployment of the final software.\n",
    "\n",
    "Let's check the number of devices and annual output of the farm, using just information in the data object."
   ]
  },
  {
   "cell_type": "code",
   "execution_count": null,
   "metadata": {
    "collapsed": false
   },
   "outputs": [],
   "source": [
    "#electrical_network = new_core.get_data_value(new_project, \"farm.electrical_network\")\n",
    "#meta = new_core.get_metadata(\"farm.electrical_network\")\n",
    "#name = meta.title\n",
    "#message_one = \"<p><b>{}:</b> {}</p>\".format(name, electrical_network)\n",
    "\n",
    "#electrical_economics_data = new_core.get_data_value(new_project, \"farm.electrical_economics_data\")\n",
    "#meta = new_core.get_metadata(\"farm.electrical_economics_data\")\n",
    "#name = meta.title\n",
    "#message_two = \"<p><b>{}:</b> {}</p>\".format(name, electrical_economics_data)\n",
    "\n",
    "#cable_routes = new_core.get_data_value(new_project, \"farm.cable_routes\")\n",
    "#meta = new_core.get_metadata(\"farm.cable_routes\")\n",
    "#name = meta.title\n",
    "#message_three = \"<p><b>{}:</b> {}</p>\".format(name, cable_routes)\n",
    "\n",
    "#farm_annual_energy = new_core.get_data_value(new_project, \"farm.annual_energy\")\n",
    "#meta = new_core.get_metadata(\"farm.annual_energy\")\n",
    "#name = meta.title\n",
    "#value = farm_annual_energy\n",
    "#units = meta.units[0]\n",
    "#message_four = \"<p><b>{}:</b> <i>{}</i> ({})</p>\".format(name, value, units)\n",
    "\n",
    "#HTML(message_one + message_two + message_three + message_four)"
   ]
  }
 ],
 "metadata": {
  "kernelspec": {
   "display_name": "Python 2",
   "language": "python",
   "name": "python2"
  },
  "language_info": {
   "codemirror_mode": {
    "name": "ipython",
    "version": 2
   },
   "file_extension": ".py",
   "mimetype": "text/x-python",
   "name": "python",
   "nbconvert_exporter": "python",
   "pygments_lexer": "ipython2",
   "version": "2.7.12"
  }
 },
 "nbformat": 4,
 "nbformat_minor": 0
}
