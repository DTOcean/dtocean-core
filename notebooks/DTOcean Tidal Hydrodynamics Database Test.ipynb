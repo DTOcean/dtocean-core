{
 "cells": [
  {
   "cell_type": "markdown",
   "metadata": {},
   "source": [
    "# DTOcean Tidal Hydrodynamics Database Test"
   ]
  },
  {
   "cell_type": "code",
   "execution_count": 1,
   "metadata": {
    "collapsed": true
   },
   "outputs": [],
   "source": [
    "%matplotlib inline"
   ]
  },
  {
   "cell_type": "code",
   "execution_count": 2,
   "metadata": {
    "collapsed": true
   },
   "outputs": [],
   "source": [
    "from IPython.display import display, HTML"
   ]
  },
  {
   "cell_type": "code",
   "execution_count": 3,
   "metadata": {
    "collapsed": false
   },
   "outputs": [],
   "source": [
    "import matplotlib.pyplot as plt\n",
    "plt.rcParams['figure.figsize'] = (14.0, 8.0)"
   ]
  },
  {
   "cell_type": "code",
   "execution_count": 4,
   "metadata": {
    "collapsed": true
   },
   "outputs": [],
   "source": [
    "import numpy as np"
   ]
  },
  {
   "cell_type": "code",
   "execution_count": 5,
   "metadata": {
    "collapsed": true
   },
   "outputs": [],
   "source": [
    "from dtocean_core import start_logging\n",
    "from dtocean_core.core import Core\n",
    "from dtocean_core.menu import DataMenu, ModuleMenu, ProjectMenu\n",
    "from dtocean_core.pipeline import Tree"
   ]
  },
  {
   "cell_type": "code",
   "execution_count": 6,
   "metadata": {
    "collapsed": true
   },
   "outputs": [],
   "source": [
    "def html_list(x):\n",
    "    message = \"<ul>\"\n",
    "    for name in x:\n",
    "        message += \"<li>{}</li>\".format(name)\n",
    "    message += \"</ul>\"\n",
    "    return message\n",
    "def html_dict(x):\n",
    "    message = \"<ul>\"\n",
    "    for name, status in x.iteritems():\n",
    "        message += \"<li>{}: <b>{}</b></li>\".format(name, status)\n",
    "    message += \"</ul>\"\n",
    "    return message"
   ]
  },
  {
   "cell_type": "code",
   "execution_count": 7,
   "metadata": {
    "collapsed": false
   },
   "outputs": [
    {
     "name": "stdout",
     "output_type": "stream",
     "text": [
      "2016-09-27 12:32:23,867 - INFO - dtocean_core - Begin logging for dtocean_core.\n"
     ]
    }
   ],
   "source": [
    "# Bring up the logger\n",
    "start_logging()"
   ]
  },
  {
   "cell_type": "markdown",
   "metadata": {},
   "source": [
    "## Create the core, menus and pipeline tree\n",
    "\n",
    "The core object carrys all the system information and is operated on by the other classes"
   ]
  },
  {
   "cell_type": "code",
   "execution_count": 8,
   "metadata": {
    "collapsed": false
   },
   "outputs": [],
   "source": [
    "new_core = Core()\n",
    "data_menu = DataMenu()\n",
    "project_menu = ProjectMenu()\n",
    "module_menu = ModuleMenu()\n",
    "pipe_tree = Tree()"
   ]
  },
  {
   "cell_type": "markdown",
   "metadata": {},
   "source": [
    "## Create a new project"
   ]
  },
  {
   "cell_type": "code",
   "execution_count": 9,
   "metadata": {
    "collapsed": false
   },
   "outputs": [
    {
     "name": "stdout",
     "output_type": "stream",
     "text": [
      "2016-09-27 12:32:29,334 - INFO - aneris.entity.simulation - Created new Simulation with title \"Default\"\n",
      "2016-09-27 12:32:29,335 - INFO - aneris.control.simulation - Datastate with level \"initial\" stored\n",
      "2016-09-27 12:32:29,336 - INFO - aneris.control.pipeline - New Hub created for interface ProjectInterface.\n"
     ]
    }
   ],
   "source": [
    "project_title = \"DTOcean\"  \n",
    "new_project = project_menu.new_project(new_core, project_title)"
   ]
  },
  {
   "cell_type": "markdown",
   "metadata": {},
   "source": [
    "## Connect a database"
   ]
  },
  {
   "cell_type": "code",
   "execution_count": 10,
   "metadata": {
    "collapsed": false
   },
   "outputs": [],
   "source": [
    "data_menu.select_database(new_project, \"local\")"
   ]
  },
  {
   "cell_type": "markdown",
   "metadata": {},
   "source": [
    "## Set the device type"
   ]
  },
  {
   "cell_type": "code",
   "execution_count": 11,
   "metadata": {
    "collapsed": false
   },
   "outputs": [
    {
     "name": "stdout",
     "output_type": "stream",
     "text": [
      "2016-09-27 12:32:29,381 - INFO - aneris.control.data - New \"device.system_type\" data stored with index WE3PBO\n",
      "2016-09-27 12:32:29,382 - INFO - aneris.control.simulation - Datastate stored\n"
     ]
    }
   ],
   "source": [
    "options_branch = pipe_tree.get_branch(new_core, new_project, \"System Type Selection\")\n",
    "variable_id = \"device.system_type\"\n",
    "my_var = options_branch.get_input_variable(new_core, new_project, variable_id)\n",
    "my_var.set_raw_interface(new_core, \"Tidal Fixed\")\n",
    "my_var.read(new_core, new_project)"
   ]
  },
  {
   "cell_type": "markdown",
   "metadata": {},
   "source": [
    "## Initiate the pipeline\n",
    "This step will be important when the database is incorporated into the system as it will effect the operation of the pipeline."
   ]
  },
  {
   "cell_type": "code",
   "execution_count": 12,
   "metadata": {
    "collapsed": false
   },
   "outputs": [
    {
     "name": "stdout",
     "output_type": "stream",
     "text": [
      "2016-09-27 12:32:29,401 - INFO - aneris.control.simulation - Datastate with level \"system type selection start\" stored\n",
      "2016-09-27 12:32:29,410 - INFO - aneris.control.data - New \"hidden.pipeline_active\" data stored with index SDL30T\n",
      "2016-09-27 12:32:29,411 - INFO - aneris.control.simulation - Datastate with level \"system type selection output\" stored\n",
      "2016-09-27 12:32:29,413 - INFO - aneris.control.pipeline - New Pipeline created for interface ModuleInterface.\n",
      "2016-09-27 12:32:29,414 - INFO - aneris.control.pipeline - New Hub created for interface ThemeInterface.\n",
      "2016-09-27 12:32:29,936 - INFO - aneris.control.data - New \"hidden.available_sites\" data stored with index JRGBX9\n",
      "2016-09-27 12:32:29,937 - INFO - aneris.control.data - New \"hidden.available_systems\" data stored with index P5SHLL\n",
      "2016-09-27 12:32:29,937 - INFO - aneris.control.data - New \"hidden.lease_boundaries\" data stored with index PUWLPT\n",
      "2016-09-27 12:32:29,937 - INFO - aneris.control.data - New \"hidden.site_boundaries\" data stored with index B9ARUZ\n",
      "2016-09-27 12:32:29,938 - INFO - aneris.control.simulation - Datastate stored\n"
     ]
    }
   ],
   "source": [
    "project_menu.initiate_pipeline(new_core, new_project)"
   ]
  },
  {
   "cell_type": "markdown",
   "metadata": {},
   "source": [
    "## Retrieve the available site and technology options from the DB"
   ]
  },
  {
   "cell_type": "code",
   "execution_count": 13,
   "metadata": {
    "collapsed": false
   },
   "outputs": [
    {
     "name": "stdout",
     "output_type": "stream",
     "text": [
      "2016-09-27 12:32:29,943 - INFO - aneris.control.simulation - Datastate with level \"site and system options start\" stored\n",
      "2016-09-27 12:32:29,953 - INFO - aneris.control.data - New \"device.available_names\" data stored with index I7A0D7\n",
      "2016-09-27 12:32:29,954 - INFO - aneris.control.data - New \"site.available_names\" data stored with index HDKPMH\n",
      "2016-09-27 12:32:29,956 - INFO - aneris.control.data - New \"hidden.lease_selected\" data stored with index UXLCEE\n",
      "2016-09-27 12:32:29,956 - INFO - aneris.control.simulation - Datastate with level \"site and system options output\" stored\n"
     ]
    }
   ],
   "source": [
    "project_menu.initiate_options(new_core, new_project)"
   ]
  },
  {
   "cell_type": "code",
   "execution_count": 14,
   "metadata": {
    "collapsed": false
   },
   "outputs": [
    {
     "data": {
      "text/html": [
       "<ul><li>device.system_type: <b>unavailable</b></li><li>hidden.available_sites: <b>unavailable</b></li><li>hidden.available_systems: <b>unavailable</b></li><li>hidden.site_boundaries: <b>unavailable</b></li><li>hidden.lease_boundaries: <b>unavailable</b></li></ul>"
      ],
      "text/plain": [
       "<IPython.core.display.HTML object>"
      ]
     },
     "execution_count": 14,
     "metadata": {},
     "output_type": "execute_result"
    }
   ],
   "source": [
    "options_branch = pipe_tree.get_branch(new_core, new_project, 'Site and System Options')\n",
    "options_branch.read_auto(new_core, new_project)\n",
    "input_status = options_branch.get_input_status(new_core, new_project)\n",
    "message = html_dict(input_status)\n",
    "HTML(message)"
   ]
  },
  {
   "cell_type": "markdown",
   "metadata": {},
   "source": [
    "## Check available device names"
   ]
  },
  {
   "cell_type": "code",
   "execution_count": 15,
   "metadata": {
    "collapsed": false
   },
   "outputs": [
    {
     "data": {
      "text/html": [
       "<ul><li>Andritz HS1000</li></ul>"
      ],
      "text/plain": [
       "<IPython.core.display.HTML object>"
      ]
     },
     "execution_count": 15,
     "metadata": {},
     "output_type": "execute_result"
    }
   ],
   "source": [
    "my_var = options_branch.get_output_variable(new_core, new_project, \"device.available_names\")\n",
    "site_list = my_var.get_value(new_core, new_project)\n",
    "msg = html_list(site_list)\n",
    "HTML(msg)"
   ]
  },
  {
   "cell_type": "markdown",
   "metadata": {},
   "source": [
    "## Select a device"
   ]
  },
  {
   "cell_type": "code",
   "execution_count": 16,
   "metadata": {
    "collapsed": false
   },
   "outputs": [
    {
     "name": "stdout",
     "output_type": "stream",
     "text": [
      "2016-09-27 12:32:30,026 - INFO - aneris.control.data - New \"device.selected_name\" data stored with index 4B597L\n",
      "2016-09-27 12:32:30,028 - INFO - aneris.control.simulation - Datastate stored\n"
     ]
    }
   ],
   "source": [
    "filter_branch = pipe_tree.get_branch(new_core, new_project, 'Database Filtering Interface')\n",
    "new_var = filter_branch.get_input_variable(new_core, new_project,\n",
    "                                            \"device.selected_name\")\n",
    "new_var.set_raw_interface(new_core, \"Andritz HS1000\")\n",
    "new_var.read(new_core, new_project)"
   ]
  },
  {
   "cell_type": "code",
   "execution_count": 17,
   "metadata": {
    "collapsed": false
   },
   "outputs": [
    {
     "data": {
      "text/html": [
       "<ul><li>hidden.available_sites: <b>satisfied</b></li><li>site.selected_name: <b>optional</b></li><li>device.selected_name: <b>satisfied</b></li><li>hidden.available_systems: <b>satisfied</b></li><li>hidden.lease_selected: <b>satisfied</b></li></ul>"
      ],
      "text/plain": [
       "<IPython.core.display.HTML object>"
      ]
     },
     "execution_count": 17,
     "metadata": {},
     "output_type": "execute_result"
    }
   ],
   "source": [
    "input_status = filter_branch.get_input_status(new_core, new_project)\n",
    "message = html_dict(input_status)\n",
    "HTML(message)"
   ]
  },
  {
   "cell_type": "markdown",
   "metadata": {},
   "source": [
    "## Check the available site names"
   ]
  },
  {
   "cell_type": "code",
   "execution_count": 18,
   "metadata": {
    "collapsed": false
   },
   "outputs": [
    {
     "data": {
      "text/html": [
       "<h3>Available Locations</h3><ul><li>First Site</li><li>Second Site</li></ul>"
      ],
      "text/plain": [
       "<IPython.core.display.HTML object>"
      ]
     },
     "execution_count": 18,
     "metadata": {},
     "output_type": "execute_result"
    }
   ],
   "source": [
    "available_locations = options_branch.get_output_variable(new_core, new_project,\n",
    "                                                         \"site.available_names\")\n",
    "message = html_list(available_locations.get_value(new_core, new_project))\n",
    "message = \"<h3>Available Locations</h3>\" + message\n",
    "HTML(message)"
   ]
  },
  {
   "cell_type": "markdown",
   "metadata": {
    "collapsed": false
   },
   "source": [
    "## Add the site location"
   ]
  },
  {
   "cell_type": "code",
   "execution_count": 19,
   "metadata": {
    "collapsed": false
   },
   "outputs": [
    {
     "name": "stdout",
     "output_type": "stream",
     "text": [
      "2016-09-27 12:32:30,075 - INFO - aneris.control.data - New \"site.selected_name\" data stored with index 1E5QQZ\n",
      "2016-09-27 12:32:30,075 - INFO - aneris.control.simulation - Datastate stored\n"
     ]
    }
   ],
   "source": [
    "new_var = filter_branch.get_input_variable(new_core, new_project,\n",
    "                                           \"site.selected_name\")\n",
    "new_var.set_raw_interface(new_core, \"Second Site\")\n",
    "new_var.read(new_core, new_project)"
   ]
  },
  {
   "cell_type": "code",
   "execution_count": 20,
   "metadata": {
    "collapsed": false
   },
   "outputs": [
    {
     "data": {
      "text/html": [
       "<ul><li>hidden.available_sites: <b>satisfied</b></li><li>site.selected_name: <b>satisfied</b></li><li>device.selected_name: <b>satisfied</b></li><li>hidden.available_systems: <b>satisfied</b></li><li>hidden.lease_selected: <b>satisfied</b></li></ul>"
      ],
      "text/plain": [
       "<IPython.core.display.HTML object>"
      ]
     },
     "execution_count": 20,
     "metadata": {},
     "output_type": "execute_result"
    }
   ],
   "source": [
    "input_status = filter_branch.get_input_status(new_core, new_project)\n",
    "message = html_dict(input_status)\n",
    "HTML(message)"
   ]
  },
  {
   "cell_type": "markdown",
   "metadata": {},
   "source": [
    "## Collect the bathymetric data\n",
    "The lease area polygon may be editied following this step."
   ]
  },
  {
   "cell_type": "code",
   "execution_count": 21,
   "metadata": {
    "collapsed": false
   },
   "outputs": [
    {
     "name": "stdout",
     "output_type": "stream",
     "text": [
      "2016-09-27 12:32:30,154 - INFO - aneris.control.simulation - Datastate with level \"lease area selection start\" stored\n",
      "2016-09-27 12:32:30,161 - INFO - aneris.control.data - New \"site.lease_boundary\" data stored with index PF1LCL\n",
      "2016-09-27 12:32:30,161 - INFO - aneris.control.data - New \"site.projection\" data stored with index FRBIF1\n",
      "2016-09-27 12:32:30,164 - INFO - aneris.control.data - New \"hidden.lease_selected\" data stored with index 88UOPM\n",
      "2016-09-27 12:32:30,164 - INFO - aneris.control.simulation - Datastate with level \"lease area selection output\" stored\n"
     ]
    }
   ],
   "source": [
    "project_menu.initiate_bathymetry(new_core, new_project)"
   ]
  },
  {
   "cell_type": "markdown",
   "metadata": {},
   "source": [
    "## Filter the database"
   ]
  },
  {
   "cell_type": "code",
   "execution_count": 22,
   "metadata": {
    "collapsed": false
   },
   "outputs": [
    {
     "name": "stdout",
     "output_type": "stream",
     "text": [
      "2016-09-27 12:32:30,177 - INFO - aneris.control.simulation - Datastate with level \"database filtering interface start\" stored\n",
      "2016-09-27 12:32:30,367 - INFO - aneris.control.data - New \"hidden.site_filtered\" data stored with index FY5P3S\n",
      "2016-09-27 12:32:30,368 - INFO - aneris.control.data - New \"hidden.device_filtered\" data stored with index 3AFQCK\n",
      "2016-09-27 12:32:30,368 - INFO - aneris.control.simulation - Datastate with level \"database filtering interface output\" stored\n"
     ]
    }
   ],
   "source": [
    "project_menu.initiate_filter(new_core, new_project)"
   ]
  },
  {
   "cell_type": "markdown",
   "metadata": {},
   "source": [
    "## Discover available modules"
   ]
  },
  {
   "cell_type": "code",
   "execution_count": 23,
   "metadata": {
    "collapsed": false
   },
   "outputs": [
    {
     "data": {
      "text/html": [
       "<ul><li>Hydrodynamics</li><li>Electrical Sub-Systems</li><li>Mooring and Foundations</li></ul>"
      ],
      "text/plain": [
       "<IPython.core.display.HTML object>"
      ]
     },
     "execution_count": 23,
     "metadata": {},
     "output_type": "execute_result"
    }
   ],
   "source": [
    "names = module_menu.get_available(new_core, new_project)\n",
    "message = html_list(names)\n",
    "HTML(message)"
   ]
  },
  {
   "cell_type": "markdown",
   "metadata": {},
   "source": [
    "## Activate a module\n",
    "\n",
    "Note that the order of activation is important and that we can't deactivate yet!"
   ]
  },
  {
   "cell_type": "code",
   "execution_count": 24,
   "metadata": {
    "collapsed": false
   },
   "outputs": [],
   "source": [
    "module_name = 'Hydrodynamics'\n",
    "module_menu.activate(new_core, new_project, module_name)\n",
    "hydro_branch = pipe_tree.get_branch(new_core, new_project, 'Hydrodynamics')"
   ]
  },
  {
   "cell_type": "markdown",
   "metadata": {},
   "source": [
    "## Check the status of the module inputs"
   ]
  },
  {
   "cell_type": "code",
   "execution_count": 25,
   "metadata": {
    "collapsed": false
   },
   "outputs": [
    {
     "data": {
      "text/html": [
       "<ul><li>device.cut_in_velocity: <b>required</b></li><li>device.bidirection: <b>required</b></li><li>farm.tidal_series: <b>required</b></li><li>device.installation_depth_max: <b>required</b></li><li>options.user_array_option: <b>required</b></li><li>device.coordinate_system: <b>required</b></li><li>device.turbine_diameter: <b>required</b></li><li>options.power_bin_width: <b>optional</b></li><li>device.minimum_distance_x: <b>required</b></li><li>device.minimum_distance_y: <b>required</b></li><li>options.boundary_padding: <b>optional</b></li><li>device.installation_depth_min: <b>required</b></li><li>options.user_array_layout: <b>optional</b></li><li>farm.tidal_occurrence_nbins: <b>required</b></li><li>site.lease_boundary: <b>satisfied</b></li><li>options.optimisation_threshold: <b>required</b></li><li>device.turbine_performance: <b>required</b></li><li>device.power_rating: <b>required</b></li><li>farm.nogo_areas: <b>optional</b></li><li>device.turbine_interdistance: <b>optional</b></li><li>farm.power_law_exponent: <b>required</b></li><li>farm.tidal_occurrence_point: <b>required</b></li><li>device.yaw: <b>required</b></li><li>device.system_type: <b>satisfied</b></li><li>farm.mannings: <b>required</b></li><li>options.tidal_data_directory: <b>optional</b></li><li>corridor.landing_point: <b>required</b></li><li>farm.blockage_ratio: <b>required</b></li><li>farm.main_direction: <b>optional</b></li><li>bathymetry.layers: <b>required</b></li><li>farm.rated_power: <b>required</b></li><li>device.cut_out_velocity: <b>required</b></li></ul>"
      ],
      "text/plain": [
       "<IPython.core.display.HTML object>"
      ]
     },
     "execution_count": 25,
     "metadata": {},
     "output_type": "execute_result"
    }
   ],
   "source": [
    "input_status = hydro_branch.get_input_status(new_core, new_project)\n",
    "message = html_dict(input_status)\n",
    "HTML(message)"
   ]
  },
  {
   "cell_type": "markdown",
   "metadata": {},
   "source": [
    "## Initiate the dataflow\n",
    "This indicates that the filtering and module / theme selections are complete"
   ]
  },
  {
   "cell_type": "code",
   "execution_count": 26,
   "metadata": {
    "collapsed": false
   },
   "outputs": [
    {
     "name": "stdout",
     "output_type": "stream",
     "text": [
      "2016-09-27 12:32:30,450 - INFO - aneris.control.data - New \"hidden.dataflow_active\" data stored with index C8FOEV\n",
      "2016-09-27 12:32:30,451 - INFO - aneris.control.simulation - Datastate stored\n",
      "2016-09-27 12:32:30,464 - INFO - aneris.control.simulation - Datastate with level \"modules initial\" stored\n"
     ]
    }
   ],
   "source": [
    "project_menu.initiate_dataflow(new_core, new_project)"
   ]
  },
  {
   "cell_type": "markdown",
   "metadata": {},
   "source": [
    "## Move the system to the post-filter state and ready the system"
   ]
  },
  {
   "cell_type": "code",
   "execution_count": 27,
   "metadata": {
    "collapsed": false
   },
   "outputs": [
    {
     "name": "stdout",
     "output_type": "stream",
     "text": [
      "2016-09-27 12:32:30,473 - INFO - dtocean_core.core - Inspecting level modules initial\n",
      "2016-09-27 12:32:30,487 - INFO - dtocean_core.core - Inspecting level modules initial\n",
      "2016-09-27 12:32:30,487 - INFO - dtocean_core.core - Resetting to level modules initial\n"
     ]
    }
   ],
   "source": [
    "new_core.inspect_level(new_project, \"modules initial\")\n",
    "new_core.reset_level(new_project, preserve_level=True)"
   ]
  },
  {
   "cell_type": "markdown",
   "metadata": {},
   "source": [
    "## Get data using DTOcean DB\n",
    "\n",
    "Using the auto_connect method on a branch, we can pull available variables from the database"
   ]
  },
  {
   "cell_type": "code",
   "execution_count": 28,
   "metadata": {
    "collapsed": false
   },
   "outputs": [
    {
     "name": "stdout",
     "output_type": "stream",
     "text": [
      "2016-09-27 12:32:33,217 - INFO - aneris.control.data - New \"device.cut_in_velocity\" data stored with index 1P1AKQ\n",
      "2016-09-27 12:32:33,219 - INFO - aneris.control.data - New \"device.bidirection\" data stored with index C2PNIP\n",
      "2016-09-27 12:32:33,232 - INFO - aneris.control.data - New \"farm.tidal_series\" data stored with index ZDY8PA\n",
      "2016-09-27 12:32:33,233 - INFO - aneris.control.data - New \"device.installation_depth_max\" data stored with index HPB7RE\n",
      "2016-09-27 12:32:33,233 - INFO - aneris.control.data - New \"device.coordinate_system\" data stored with index L2ML35\n",
      "2016-09-27 12:32:33,234 - INFO - aneris.control.data - New \"device.turbine_diameter\" data stored with index 5OYHJG\n",
      "2016-09-27 12:32:33,236 - INFO - aneris.control.data - New \"device.minimum_distance_x\" data stored with index 4SHC8X\n",
      "2016-09-27 12:32:33,236 - INFO - aneris.control.data - New \"device.minimum_distance_y\" data stored with index G7QA97\n",
      "2016-09-27 12:32:33,236 - INFO - aneris.control.data - New \"device.installation_depth_min\" data stored with index GTO431\n",
      "2016-09-27 12:32:33,239 - INFO - aneris.control.data - New \"device.turbine_performance\" data stored with index WSVFPS\n",
      "2016-09-27 12:32:33,240 - INFO - aneris.control.data - New \"device.power_rating\" data stored with index JL7EZ5\n",
      "2016-09-27 12:32:33,240 - INFO - aneris.control.data - New \"farm.nogo_areas\" data stored with index M0ZBTV\n",
      "2016-09-27 12:32:33,240 - INFO - aneris.control.data - New \"device.turbine_interdistance\" data stored with index TL8AL5\n",
      "2016-09-27 12:32:33,243 - INFO - aneris.control.data - New \"device.yaw\" data stored with index 78M50M\n",
      "2016-09-27 12:32:33,243 - INFO - aneris.control.data - New \"farm.mannings\" data stored with index LOJIK4\n",
      "2016-09-27 12:32:33,250 - INFO - aneris.control.data - New \"bathymetry.layers\" data stored with index UM8XMM\n",
      "2016-09-27 12:32:33,253 - INFO - aneris.control.data - New \"device.cut_out_velocity\" data stored with index G3QFBW\n",
      "2016-09-27 12:32:33,253 - INFO - aneris.control.simulation - Datastate stored\n"
     ]
    },
    {
     "name": "stderr",
     "output_type": "stream",
     "text": [
      "C:\\Anaconda\\envs\\integration\\lib\\site-packages\\sqlalchemy\\dialects\\postgresql\\base.py:2499: SAWarning: Did not recognize type 'point' of column 'farm_origin'\n",
      "  (attype, name))\n",
      "C:\\Anaconda\\envs\\integration\\lib\\site-packages\\sqlalchemy\\dialects\\postgresql\\base.py:2499: SAWarning: Did not recognize type 'polygon' of column 'deployment_area'\n",
      "  (attype, name))\n"
     ]
    },
    {
     "data": {
      "text/html": [
       "<ul><li>device.cut_in_velocity: <b>satisfied</b></li><li>device.bidirection: <b>satisfied</b></li><li>farm.tidal_series: <b>satisfied</b></li><li>device.installation_depth_max: <b>satisfied</b></li><li>options.user_array_option: <b>required</b></li><li>device.coordinate_system: <b>satisfied</b></li><li>device.turbine_diameter: <b>satisfied</b></li><li>options.power_bin_width: <b>optional</b></li><li>device.minimum_distance_x: <b>satisfied</b></li><li>device.minimum_distance_y: <b>satisfied</b></li><li>options.boundary_padding: <b>optional</b></li><li>device.installation_depth_min: <b>satisfied</b></li><li>options.user_array_layout: <b>optional</b></li><li>farm.tidal_occurrence_nbins: <b>required</b></li><li>site.lease_boundary: <b>satisfied</b></li><li>options.optimisation_threshold: <b>required</b></li><li>device.turbine_performance: <b>satisfied</b></li><li>device.power_rating: <b>satisfied</b></li><li>farm.nogo_areas: <b>satisfied</b></li><li>device.turbine_interdistance: <b>satisfied</b></li><li>farm.power_law_exponent: <b>required</b></li><li>farm.tidal_occurrence_point: <b>required</b></li><li>device.yaw: <b>satisfied</b></li><li>device.system_type: <b>satisfied</b></li><li>farm.mannings: <b>satisfied</b></li><li>options.tidal_data_directory: <b>optional</b></li><li>corridor.landing_point: <b>required</b></li><li>farm.blockage_ratio: <b>required</b></li><li>farm.main_direction: <b>optional</b></li><li>bathymetry.layers: <b>satisfied</b></li><li>farm.rated_power: <b>required</b></li><li>device.cut_out_velocity: <b>satisfied</b></li></ul>"
      ],
      "text/plain": [
       "<IPython.core.display.HTML object>"
      ]
     },
     "execution_count": 28,
     "metadata": {},
     "output_type": "execute_result"
    }
   ],
   "source": [
    "hydro_branch.read_auto(new_core, new_project)\n",
    "input_status = hydro_branch.get_input_status(new_core, new_project)\n",
    "message = html_dict(input_status)\n",
    "HTML(message)"
   ]
  },
  {
   "cell_type": "markdown",
   "metadata": {},
   "source": [
    "## Auto plot a variable "
   ]
  },
  {
   "cell_type": "code",
   "execution_count": 29,
   "metadata": {
    "collapsed": true
   },
   "outputs": [],
   "source": [
    "new_var = hydro_branch.get_input_variable(new_core,\n",
    "                                          new_project,\n",
    "                                          'device.turbine_performance')"
   ]
  },
  {
   "cell_type": "code",
   "execution_count": 30,
   "metadata": {
    "collapsed": false
   },
   "outputs": [
    {
     "name": "stdout",
     "output_type": "stream",
     "text": [
      "True\n"
     ]
    },
    {
     "data": {
      "image/png": "[encoded data removed]",
      "text/plain": [
       "<matplotlib.figure.Figure at 0x105338d0>"
      ]
     },
     "metadata": {},
     "output_type": "display_data"
    }
   ],
   "source": [
    "new_var.plot(new_core, new_project)"
   ]
  },
  {
   "cell_type": "markdown",
   "metadata": {},
   "source": [
    "## Look for other available plots"
   ]
  },
  {
   "cell_type": "code",
   "execution_count": 31,
   "metadata": {
    "collapsed": false
   },
   "outputs": [
    {
     "data": {
      "text/html": [
       "<ul><li>Tidal Power Performance</li></ul>"
      ],
      "text/plain": [
       "<IPython.core.display.HTML object>"
      ]
     },
     "execution_count": 31,
     "metadata": {},
     "output_type": "execute_result"
    }
   ],
   "source": [
    "plots = new_var.get_available_plots(new_core, new_project)\n",
    "msg = html_list(plots)\n",
    "HTML(msg)"
   ]
  },
  {
   "cell_type": "markdown",
   "metadata": {},
   "source": [
    "## Plot a specific plot"
   ]
  },
  {
   "cell_type": "code",
   "execution_count": 32,
   "metadata": {
    "collapsed": false
   },
   "outputs": [
    {
     "name": "stdout",
     "output_type": "stream",
     "text": [
      "True\n"
     ]
    },
    {
     "data": {
      "image/png": "[encoded data removed]",
      "text/plain": [
       "<matplotlib.figure.Figure at 0x106403c8>"
      ]
     },
     "metadata": {},
     "output_type": "display_data"
    }
   ],
   "source": [
    "new_var.plot(new_core, new_project, 'Tidal Power Performance')"
   ]
  },
  {
   "cell_type": "markdown",
   "metadata": {},
   "source": [
    "## Check if the module can be executed"
   ]
  },
  {
   "cell_type": "code",
   "execution_count": 33,
   "metadata": {
    "collapsed": false
   },
   "outputs": [
    {
     "data": {
      "text/plain": [
       "False"
      ]
     },
     "metadata": {},
     "output_type": "display_data"
    }
   ],
   "source": [
    "can_execute = module_menu.is_executable(new_core, new_project, module_name)\n",
    "display(can_execute)"
   ]
  },
  {
   "cell_type": "code",
   "execution_count": 34,
   "metadata": {
    "collapsed": false
   },
   "outputs": [
    {
     "data": {
      "text/html": [
       "<ul><li>device.cut_in_velocity: <b>satisfied</b></li><li>device.bidirection: <b>satisfied</b></li><li>farm.tidal_series: <b>satisfied</b></li><li>device.installation_depth_max: <b>satisfied</b></li><li>options.user_array_option: <b>required</b></li><li>device.coordinate_system: <b>satisfied</b></li><li>device.turbine_diameter: <b>satisfied</b></li><li>options.power_bin_width: <b>optional</b></li><li>device.minimum_distance_x: <b>satisfied</b></li><li>device.minimum_distance_y: <b>satisfied</b></li><li>options.boundary_padding: <b>optional</b></li><li>device.installation_depth_min: <b>satisfied</b></li><li>options.user_array_layout: <b>optional</b></li><li>farm.tidal_occurrence_nbins: <b>required</b></li><li>site.lease_boundary: <b>satisfied</b></li><li>options.optimisation_threshold: <b>required</b></li><li>device.turbine_performance: <b>satisfied</b></li><li>device.power_rating: <b>satisfied</b></li><li>farm.nogo_areas: <b>satisfied</b></li><li>device.turbine_interdistance: <b>satisfied</b></li><li>farm.power_law_exponent: <b>required</b></li><li>farm.tidal_occurrence_point: <b>required</b></li><li>device.yaw: <b>satisfied</b></li><li>device.system_type: <b>satisfied</b></li><li>farm.mannings: <b>satisfied</b></li><li>options.tidal_data_directory: <b>optional</b></li><li>corridor.landing_point: <b>required</b></li><li>farm.blockage_ratio: <b>required</b></li><li>farm.main_direction: <b>optional</b></li><li>bathymetry.layers: <b>satisfied</b></li><li>farm.rated_power: <b>required</b></li><li>device.cut_out_velocity: <b>satisfied</b></li></ul>"
      ],
      "text/plain": [
       "<IPython.core.display.HTML object>"
      ]
     },
     "execution_count": 34,
     "metadata": {},
     "output_type": "execute_result"
    }
   ],
   "source": [
    "input_status = hydro_branch.get_input_status(new_core, new_project)\n",
    "message = html_dict(input_status)\n",
    "HTML(message)"
   ]
  },
  {
   "cell_type": "markdown",
   "metadata": {},
   "source": [
    "## Execute the current module\n",
    "\n",
    "The \"current\" module refers to the next module to be executed in the chain (pipeline) of modules. This command will only execute that module and another will be used for executing all of the modules at once.\n",
    "\n",
    "Note, any data supplied by the module will be automatically copied into the active data state."
   ]
  },
  {
   "cell_type": "code",
   "execution_count": 35,
   "metadata": {
    "collapsed": false
   },
   "outputs": [
    {
     "ename": "RuntimeError",
     "evalue": "Not all inputs for module Hydrodynamics or theme(s)  have been satisfied",
     "output_type": "error",
     "traceback": [
      "\u001b[1;31m---------------------------------------------------------------------------\u001b[0m",
      "\u001b[1;31mRuntimeError\u001b[0m                              Traceback (most recent call last)",
      "\u001b[1;32m<ipython-input-35-c2a860f17c50>\u001b[0m in \u001b[0;36m<module>\u001b[1;34m()\u001b[0m\n\u001b[1;32m----> 1\u001b[1;33m \u001b[0mmodule_menu\u001b[0m\u001b[1;33m.\u001b[0m\u001b[0mexecute_current\u001b[0m\u001b[1;33m(\u001b[0m\u001b[0mnew_core\u001b[0m\u001b[1;33m,\u001b[0m \u001b[0mnew_project\u001b[0m\u001b[1;33m)\u001b[0m\u001b[1;33m\u001b[0m\u001b[0m\n\u001b[0m",
      "\u001b[1;32mC:\\Anaconda\\envs\\integration\\lib\\site-packages\\dtocean_core-0.1.5.dev1-py2.7.egg\\dtocean_core\\menu.pyc\u001b[0m in \u001b[0;36mexecute_current\u001b[1;34m(self, core, project, execute_themes)\u001b[0m\n\u001b[0;32m    410\u001b[0m             \u001b[0merrStr\u001b[0m \u001b[1;33m=\u001b[0m \u001b[1;34m\"{} have been satisfied\"\u001b[0m\u001b[1;33m.\u001b[0m\u001b[0mformat\u001b[0m\u001b[1;33m(\u001b[0m\u001b[0merrStr\u001b[0m\u001b[1;33m)\u001b[0m\u001b[1;33m\u001b[0m\u001b[0m\n\u001b[0;32m    411\u001b[0m \u001b[1;33m\u001b[0m\u001b[0m\n\u001b[1;32m--> 412\u001b[1;33m             \u001b[1;32mraise\u001b[0m \u001b[0mRuntimeError\u001b[0m\u001b[1;33m(\u001b[0m\u001b[0merrStr\u001b[0m\u001b[1;33m)\u001b[0m\u001b[1;33m\u001b[0m\u001b[0m\n\u001b[0m\u001b[0;32m    413\u001b[0m \u001b[1;33m\u001b[0m\u001b[0m\n\u001b[0;32m    414\u001b[0m         \u001b[1;31m# Unmask any states\u001b[0m\u001b[1;33m\u001b[0m\u001b[1;33m\u001b[0m\u001b[0m\n",
      "\u001b[1;31mRuntimeError\u001b[0m: Not all inputs for module Hydrodynamics or theme(s)  have been satisfied"
     ]
    }
   ],
   "source": [
    "module_menu.execute_current(new_core, new_project)"
   ]
  },
  {
   "cell_type": "markdown",
   "metadata": {},
   "source": [
    "## Examine the results\n",
    "\n",
    "Currently, there is no robustness built into the core, so the assumption is that the module executed successfully. This will have to be improved towards deployment of the final software.\n",
    "\n",
    "Let's check the number of devices and annual output of the farm, using just information in the data object."
   ]
  },
  {
   "cell_type": "code",
   "execution_count": null,
   "metadata": {
    "collapsed": false
   },
   "outputs": [],
   "source": [
    "n_devices = new_core.get_data_value(new_project, \"farm.number_of_devices\")\n",
    "meta = new_core.get_metadata(\"farm.number_of_devices\")\n",
    "name = meta.title\n",
    "message_one = \"<p><b>{}:</b> {}</p>\".format(name, n_devices)\n",
    "\n",
    "farm_annual_energy = new_core.get_data_value(new_project, \"farm.annual_energy\")\n",
    "meta = new_core.get_metadata(\"farm.annual_energy\")\n",
    "name = meta.title\n",
    "value = farm_annual_energy\n",
    "units = meta.units[0]\n",
    "message_two = \"<p><b>{}:</b> <i>{}</i> ({})</p>\".format(name, value, units)\n",
    "\n",
    "HTML(message_one + message_two)"
   ]
  },
  {
   "cell_type": "markdown",
   "metadata": {},
   "source": [
    "## Plotting some graphs\n",
    "\n",
    "By having data objects with set formats it should be possible to create automated plot generation. However, some plots may be too complex and some special cases may need defined."
   ]
  },
  {
   "cell_type": "code",
   "execution_count": null,
   "metadata": {
    "collapsed": false
   },
   "outputs": [],
   "source": [
    "mean_power_per_dev_value = new_core.get_data_value(new_project, \n",
    "                                                      \"farm.mean_power_per_device\")\n",
    "meta = new_core.get_metadata(\"farm.mean_power_per_device\")\n",
    "\n",
    "chart_values = np.array(mean_power_per_dev_value.values())"
   ]
  },
  {
   "cell_type": "code",
   "execution_count": null,
   "metadata": {
    "collapsed": false
   },
   "outputs": [],
   "source": [
    "plt.bar(range(len(mean_power_per_dev_value)),\n",
    "        chart_values,\n",
    "        align='center')\n",
    "            \n",
    "plt.xticks(range(len(mean_power_per_dev_value)),\n",
    "          mean_power_per_dev_value.keys())\n",
    "plt.title(meta.title)\n",
    "\n",
    "plt.ylabel(meta.units[0])\n",
    "\n",
    "plt.tight_layout()\n",
    "# plt.savefig('annual_power_per_device.png')\n",
    "plt.show()"
   ]
  },
  {
   "cell_type": "markdown",
   "metadata": {},
   "source": [
    "## Plotting the Layout\n",
    "\n",
    "This may require such a special case. It is not clear is a new data type is required or just special plots associated to variable IDs."
   ]
  },
  {
   "cell_type": "code",
   "execution_count": null,
   "metadata": {
    "collapsed": true
   },
   "outputs": [],
   "source": [
    "layout_value = new_core.get_data_value(new_project, \"farm.layout\")\n",
    "layout_meta = new_core.get_metadata(\"farm.layout\")"
   ]
  },
  {
   "cell_type": "code",
   "execution_count": null,
   "metadata": {
    "collapsed": false,
    "scrolled": false
   },
   "outputs": [],
   "source": [
    "x = []\n",
    "y = []\n",
    "\n",
    "for coords in layout_value.itervalues():\n",
    "    \n",
    "    x.append(coords.x)\n",
    "    y.append(coords.y)\n",
    "\n",
    "fig = plt.figure()\n",
    "ax1 = fig.add_subplot(1,1,1, axisbg='lightskyblue')\n",
    "ax1.plot(x,y,'k+', mew=2, markersize=10)\n",
    "plt.title(layout_meta.title)\n",
    "plt.axis('equal')\n",
    "plt.show()"
   ]
  },
  {
   "cell_type": "code",
   "execution_count": null,
   "metadata": {
    "collapsed": true
   },
   "outputs": [],
   "source": []
  }
 ],
 "metadata": {
  "kernelspec": {
   "display_name": "Python 2",
   "language": "python",
   "name": "python2"
  },
  "language_info": {
   "codemirror_mode": {
    "name": "ipython",
    "version": 2
   },
   "file_extension": ".py",
   "mimetype": "text/x-python",
   "name": "python",
   "nbconvert_exporter": "python",
   "pygments_lexer": "ipython2",
   "version": "2.7.12"
  }
 },
 "nbformat": 4,
 "nbformat_minor": 0
}
