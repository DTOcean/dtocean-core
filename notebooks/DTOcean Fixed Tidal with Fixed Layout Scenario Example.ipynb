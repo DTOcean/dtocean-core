{
 "cells": [
  {
   "cell_type": "markdown",
   "metadata": {
    "collapsed": true
   },
   "source": [
    "# Fixed Tidal with Fixed Layout with Installation Scenario Example"
   ]
  },
  {
   "cell_type": "code",
   "execution_count": 62,
   "metadata": {
    "collapsed": true
   },
   "outputs": [],
   "source": [
    "%matplotlib inline"
   ]
  },
  {
   "cell_type": "markdown",
   "metadata": {},
   "source": [
    "Prepare the test data for loading. The files required can be found in the test_data directory of the source code and should be copied to the directory that the notebook is running. When the python file is run a pickle file is generated containing a dictionary of inputs."
   ]
  },
  {
   "cell_type": "code",
   "execution_count": 63,
   "metadata": {
    "collapsed": false,
    "scrolled": false
   },
   "outputs": [
    {
     "name": "stdout",
     "output_type": "stream",
     "text": [
      "generate test data: D:\\Usuarios\\108630\\Programming\\Python\\notebooks\\fixed_tidal_fixed_layout_scenario.pkl\n"
     ]
    },
    {
     "data": {
      "text/plain": [
       "<matplotlib.figure.Figure at 0x1df6c6a0>"
      ]
     },
     "metadata": {},
     "output_type": "display_data"
    }
   ],
   "source": [
    "%run fixed_tidal_fixed_layout_scenario.py"
   ]
  },
  {
   "cell_type": "code",
   "execution_count": 64,
   "metadata": {
    "collapsed": true
   },
   "outputs": [],
   "source": [
    "from IPython.display import display, HTML"
   ]
  },
  {
   "cell_type": "code",
   "execution_count": 65,
   "metadata": {
    "collapsed": false
   },
   "outputs": [],
   "source": [
    "import matplotlib.pyplot as plt\n",
    "plt.rcParams['figure.figsize'] = (14.0, 8.0)"
   ]
  },
  {
   "cell_type": "code",
   "execution_count": 66,
   "metadata": {
    "collapsed": true
   },
   "outputs": [],
   "source": [
    "import numpy as np\n",
    "from datetime import datetime"
   ]
  },
  {
   "cell_type": "code",
   "execution_count": 67,
   "metadata": {
    "collapsed": false
   },
   "outputs": [],
   "source": [
    "from dtocean_core import start_logging\n",
    "from dtocean_core.core import Core\n",
    "from dtocean_core.menu import DataMenu, ModuleMenu, ProjectMenu, ThemeMenu\n",
    "from dtocean_core.pipeline import Tree, _get_connector\n",
    "from dtocean_core.extensions import StrategyManager"
   ]
  },
  {
   "cell_type": "code",
   "execution_count": 68,
   "metadata": {
    "collapsed": false
   },
   "outputs": [
    {
     "name": "stdout",
     "output_type": "stream",
     "text": [
      "2016-12-18 16:21:05,888 - INFO - dtocean_core - Begin logging for dtocean_core.\n"
     ]
    }
   ],
   "source": [
    "# Bring up the logger\n",
    "start_logging()"
   ]
  },
  {
   "cell_type": "code",
   "execution_count": 69,
   "metadata": {
    "collapsed": true
   },
   "outputs": [],
   "source": [
    "def html_list(x):\n",
    "    message = \"<ul>\"\n",
    "    for name in x:\n",
    "        message += \"<li>{}</li>\".format(name)\n",
    "    message += \"</ul>\"\n",
    "    return message\n",
    "def html_dict(x):\n",
    "    message = \"<ul>\"\n",
    "    for name, status in x.iteritems():\n",
    "        message += \"<li>{}: <b>{}</b></li>\".format(name, status)\n",
    "    message += \"</ul>\"\n",
    "    return message\n",
    "def html_variable(core, project, variable):\n",
    "    value = variable.get_value(core, project)\n",
    "    metadata = variable.get_metadata(core)\n",
    "    name = metadata.title\n",
    "    units = metadata.units\n",
    "    message = \"<b>{}:</b> {}\".format(name, value)\n",
    "    if units:\n",
    "        message += \" ({})\".format(units[0])\n",
    "    return message"
   ]
  },
  {
   "cell_type": "markdown",
   "metadata": {},
   "source": [
    "## Create the core, menus and pipeline tree\n",
    "\n",
    "The core object carrys all the system information and is operated on by the other classes"
   ]
  },
  {
   "cell_type": "code",
   "execution_count": 70,
   "metadata": {
    "collapsed": false
   },
   "outputs": [],
   "source": [
    "new_core = Core()\n",
    "project_menu = ProjectMenu()\n",
    "module_menu = ModuleMenu()\n",
    "theme_menu = ThemeMenu()\n",
    "data_menu = DataMenu()\n",
    "pipe_tree = Tree()"
   ]
  },
  {
   "cell_type": "markdown",
   "metadata": {},
   "source": [
    "## Create a new project and tree"
   ]
  },
  {
   "cell_type": "code",
   "execution_count": 71,
   "metadata": {
    "collapsed": false
   },
   "outputs": [
    {
     "name": "stdout",
     "output_type": "stream",
     "text": [
      "2016-12-18 16:21:07,384 - INFO - aneris.entity.simulation - Created new Simulation with title \"Default\"\n",
      "2016-12-18 16:21:07,385 - INFO - aneris.control.simulation - Datastate with level \"initial\" stored\n",
      "2016-12-18 16:21:07,388 - INFO - aneris.control.pipeline - New Hub created for interface ProjectInterface.\n"
     ]
    }
   ],
   "source": [
    "project_title = \"DTOcean\"  \n",
    "new_project = project_menu.new_project(new_core, project_title)"
   ]
  },
  {
   "cell_type": "markdown",
   "metadata": {},
   "source": [
    "## Set the device type"
   ]
  },
  {
   "cell_type": "code",
   "execution_count": 72,
   "metadata": {
    "collapsed": false
   },
   "outputs": [
    {
     "name": "stdout",
     "output_type": "stream",
     "text": [
      "2016-12-18 16:21:07,410 - INFO - aneris.control.data - New \"device.system_type\" data stored with index MNNLAO\n",
      "2016-12-18 16:21:07,411 - INFO - aneris.control.simulation - Datastate stored\n"
     ]
    }
   ],
   "source": [
    "options_branch = pipe_tree.get_branch(new_core, new_project, \"System Type Selection\")\n",
    "variable_id = \"device.system_type\"\n",
    "my_var = options_branch.get_input_variable(new_core, new_project, variable_id)\n",
    "my_var.set_raw_interface(new_core, \"Tidal Fixed\")\n",
    "my_var.read(new_core, new_project)"
   ]
  },
  {
   "cell_type": "markdown",
   "metadata": {},
   "source": [
    "## Initiate the pipeline\n",
    "This step will be important when the database is incorporated into the system as it will effect the operation of the pipeline."
   ]
  },
  {
   "cell_type": "code",
   "execution_count": 73,
   "metadata": {
    "collapsed": false
   },
   "outputs": [
    {
     "name": "stdout",
     "output_type": "stream",
     "text": [
      "2016-12-18 16:21:07,427 - INFO - aneris.control.simulation - Datastate with level \"system type selection start\" stored\n",
      "2016-12-18 16:21:07,430 - INFO - aneris.control.data - New \"hidden.pipeline_active\" data stored with index 7HWLU4\n",
      "2016-12-18 16:21:07,431 - INFO - aneris.control.simulation - Datastate with level \"system type selection output\" stored\n",
      "2016-12-18 16:21:07,434 - INFO - aneris.control.pipeline - New Pipeline created for interface ModuleInterface.\n",
      "2016-12-18 16:21:07,434 - INFO - aneris.control.pipeline - New Hub created for interface ThemeInterface.\n"
     ]
    }
   ],
   "source": [
    "project_menu.initiate_pipeline(new_core, new_project)"
   ]
  },
  {
   "cell_type": "markdown",
   "metadata": {},
   "source": [
    "## Discover available modules"
   ]
  },
  {
   "cell_type": "code",
   "execution_count": 74,
   "metadata": {
    "collapsed": false
   },
   "outputs": [
    {
     "data": {
      "text/html": [
       "<ul><li>Hydrodynamics</li><li>Electrical Sub Systems</li><li>Mooring and Foundations</li><li>Installation</li><li>Operations and Maintenance</li></ul>"
      ],
      "text/plain": [
       "<IPython.core.display.HTML object>"
      ]
     },
     "execution_count": 74,
     "metadata": {},
     "output_type": "execute_result"
    }
   ],
   "source": [
    "names = module_menu.get_available(new_core, new_project)\n",
    "message = html_list(names)\n",
    "HTML(message)"
   ]
  },
  {
   "cell_type": "markdown",
   "metadata": {},
   "source": [
    "## Activate some modules\n",
    "\n",
    "Note that the order of activation is important and that we can't deactivate yet!"
   ]
  },
  {
   "cell_type": "code",
   "execution_count": 75,
   "metadata": {
    "collapsed": false
   },
   "outputs": [],
   "source": [
    "module_menu.activate(new_core, new_project, 'Hydrodynamics')\n",
    "module_menu.activate(new_core, new_project, 'Electrical Sub Systems')\n",
    "module_menu.activate(new_core, new_project, 'Mooring and Foundations')\n",
    "module_menu.activate(new_core, new_project, 'Installation')\n",
    "module_menu.activate(new_core, new_project, 'Operations and Maintenance')"
   ]
  },
  {
   "cell_type": "markdown",
   "metadata": {
    "collapsed": true
   },
   "source": [
    "## Activate the Economics themes"
   ]
  },
  {
   "cell_type": "code",
   "execution_count": 76,
   "metadata": {
    "collapsed": false
   },
   "outputs": [
    {
     "data": {
      "text/html": [
       "<ul><li>Economics</li><li>Reliability</li><li>Environmental Impact Assessment</li></ul>"
      ],
      "text/plain": [
       "<IPython.core.display.HTML object>"
      ]
     },
     "execution_count": 76,
     "metadata": {},
     "output_type": "execute_result"
    }
   ],
   "source": [
    "names = theme_menu.get_available(new_core, new_project)\n",
    "message = html_list(names)\n",
    "HTML(message)"
   ]
  },
  {
   "cell_type": "code",
   "execution_count": 77,
   "metadata": {
    "collapsed": false
   },
   "outputs": [],
   "source": [
    "theme_menu.activate(new_core, new_project, \"Economics\")"
   ]
  },
  {
   "cell_type": "code",
   "execution_count": 78,
   "metadata": {
    "collapsed": false
   },
   "outputs": [],
   "source": [
    "# Here we are expecting Hydrodynamics\n",
    "assert _get_connector(new_project, \"modules\").get_current_interface_name(new_core, new_project) == \"Hydrodynamics\""
   ]
  },
  {
   "cell_type": "markdown",
   "metadata": {},
   "source": [
    "## Initiate the dataflow\n",
    "This indicates that the filtering and module / theme selections are complete"
   ]
  },
  {
   "cell_type": "code",
   "execution_count": 79,
   "metadata": {
    "collapsed": false
   },
   "outputs": [
    {
     "name": "stdout",
     "output_type": "stream",
     "text": [
      "2016-12-18 16:21:07,828 - INFO - aneris.control.data - New \"hidden.dataflow_active\" data stored with index ISWTVY\n",
      "2016-12-18 16:21:07,828 - INFO - aneris.control.simulation - Datastate stored\n",
      "2016-12-18 16:21:07,900 - INFO - aneris.control.simulation - Datastate with level \"modules initial\" stored\n"
     ]
    }
   ],
   "source": [
    "project_menu.initiate_dataflow(new_core, new_project)"
   ]
  },
  {
   "cell_type": "markdown",
   "metadata": {},
   "source": [
    "## Create the branches assosiated to the modules"
   ]
  },
  {
   "cell_type": "code",
   "execution_count": 80,
   "metadata": {
    "collapsed": false,
    "scrolled": true
   },
   "outputs": [],
   "source": [
    "hydro_branch = pipe_tree.get_branch(new_core, new_project, \"Hydrodynamics\")\n",
    "electro_branch = pipe_tree.get_branch(new_core, new_project, 'Electrical Sub Systems')\n",
    "moorings_branch = pipe_tree.get_branch(new_core, new_project, 'Mooring and Foundations')\n",
    "install_branch = pipe_tree.get_branch(new_core, new_project, 'Installation')\n",
    "oandm_branch = pipe_tree.get_branch(new_core, new_project, 'Operations and Maintenance')\n",
    "eco_branch = pipe_tree.get_branch(new_core, new_project, \"Economics\")"
   ]
  },
  {
   "cell_type": "markdown",
   "metadata": {},
   "source": [
    "## Load test data"
   ]
  },
  {
   "cell_type": "code",
   "execution_count": 81,
   "metadata": {
    "collapsed": false
   },
   "outputs": [
    {
     "name": "stdout",
     "output_type": "stream",
     "text": [
      "2016-12-18 16:21:10,194 - INFO - aneris.control.data - New \"device.cut_in_velocity\" data stored with index UTJM94\n",
      "2016-12-18 16:21:10,196 - INFO - aneris.control.data - New \"device.bidirection\" data stored with index VA3AQC\n",
      "2016-12-18 16:21:10,200 - INFO - aneris.control.data - New \"farm.tidal_series\" data stored with index D2S31Q\n",
      "2016-12-18 16:21:10,203 - INFO - aneris.control.data - New \"device.installation_depth_max\" data stored with index O34G10\n",
      "2016-12-18 16:21:10,206 - INFO - aneris.control.data - New \"device.turbine_performance\" data stored with index WC4MQ1\n",
      "2016-12-18 16:21:10,207 - INFO - aneris.control.data - New \"device.coordinate_system\" data stored with index G4LLKJ\n",
      "2016-12-18 16:21:10,209 - INFO - aneris.control.data - New \"device.turbine_diameter\" data stored with index 638A15\n",
      "2016-12-18 16:21:10,210 - INFO - aneris.control.data - New \"options.power_bin_width\" data stored with index IOQ07G\n",
      "2016-12-18 16:21:10,210 - INFO - aneris.control.data - New \"device.minimum_distance_x\" data stored with index H2TNQA\n",
      "2016-12-18 16:21:10,211 - INFO - aneris.control.data - New \"device.minimum_distance_y\" data stored with index Z968N0\n",
      "2016-12-18 16:21:10,213 - INFO - aneris.control.data - New \"device.cut_out_velocity\" data stored with index 6BHPEC\n",
      "2016-12-18 16:21:10,214 - INFO - aneris.control.data - New \"farm.blockage_ratio\" data stored with index PTOKD7\n",
      "2016-12-18 16:21:10,217 - INFO - aneris.control.data - New \"farm.tidal_occurrence_nbins\" data stored with index A33K00\n",
      "2016-12-18 16:21:10,217 - INFO - aneris.control.data - New \"site.lease_boundary\" data stored with index 7LX1PL\n",
      "2016-12-18 16:21:10,223 - INFO - aneris.control.data - New \"options.optimisation_threshold\" data stored with index GOLAYN\n",
      "2016-12-18 16:21:10,224 - INFO - aneris.control.data - New \"options.user_array_option\" data stored with index QFGMJ0\n",
      "2016-12-18 16:21:10,226 - INFO - aneris.control.data - New \"device.power_rating\" data stored with index 4OZSSN\n",
      "2016-12-18 16:21:10,230 - INFO - aneris.control.data - New \"farm.power_law_exponent\" data stored with index EIVQGD\n",
      "2016-12-18 16:21:10,232 - INFO - aneris.control.data - New \"farm.tidal_occurrence_point\" data stored with index 5TX6N3\n",
      "2016-12-18 16:21:10,233 - INFO - aneris.control.data - New \"device.yaw\" data stored with index DWJ7Q7\n",
      "2016-12-18 16:21:10,234 - INFO - aneris.control.data - New \"farm.mannings\" data stored with index FUBG1W\n",
      "2016-12-18 16:21:10,236 - INFO - aneris.control.data - New \"corridor.landing_point\" data stored with index RM2EDS\n",
      "2016-12-18 16:21:10,237 - INFO - aneris.control.data - New \"options.user_array_layout\" data stored with index AZ3YVC\n",
      "2016-12-18 16:21:10,243 - INFO - aneris.control.data - New \"bathymetry.layers\" data stored with index BFRCT2\n",
      "2016-12-18 16:21:10,246 - INFO - aneris.control.data - New \"farm.rated_power\" data stored with index 238FPZ\n",
      "2016-12-18 16:21:10,246 - INFO - aneris.control.data - New \"device.installation_depth_min\" data stored with index KVND12\n",
      "2016-12-18 16:21:10,247 - INFO - aneris.control.simulation - Datastate stored\n"
     ]
    }
   ],
   "source": [
    "hydro_branch.read_test_data(new_core,\n",
    "                            new_project,\n",
    "                            \"fixed_tidal_fixed_layout_scenario.pkl\")"
   ]
  },
  {
   "cell_type": "code",
   "execution_count": 82,
   "metadata": {
    "collapsed": false
   },
   "outputs": [
    {
     "name": "stdout",
     "output_type": "stream",
     "text": [
      "2016-12-18 16:21:12,694 - INFO - aneris.control.data - New \"device.constant_power_factor\" data stored with index V1I7ZU\n",
      "2016-12-18 16:21:12,697 - INFO - aneris.control.data - New \"component.power_quality\" data stored with index ENPPV0\n",
      "2016-12-18 16:21:12,806 - INFO - aneris.control.data - New \"component.collection_points\" data stored with index WKC3LL\n",
      "2016-12-18 16:21:12,808 - INFO - aneris.control.data - New \"corridor.shipping_hist\" data stored with index UXCKTJ\n",
      "2016-12-18 16:21:12,809 - INFO - aneris.control.data - New \"component.switchgear\" data stored with index 1HZO5R\n",
      "2016-12-18 16:21:12,811 - INFO - aneris.control.data - New \"constants.gravity\" data stored with index 7W9B2R\n",
      "2016-12-18 16:21:12,813 - INFO - aneris.control.data - New \"component.dry_mate_connectors\" data stored with index 4C05CT\n",
      "2016-12-18 16:21:12,815 - INFO - aneris.control.data - New \"device.voltage\" data stored with index AUYDXK\n",
      "2016-12-18 16:21:12,816 - INFO - aneris.control.data - New \"farm.shipping_hist\" data stored with index 3JPYKN\n",
      "2016-12-18 16:21:12,818 - INFO - aneris.control.data - New \"corridor.max_seabed_temp\" data stored with index EDHV6J\n",
      "2016-12-18 16:21:12,819 - INFO - aneris.control.data - New \"farm.target_burial_depth\" data stored with index K5JU9F\n",
      "2016-12-18 16:21:12,821 - INFO - aneris.control.data - New \"corridor.target_burial_depth\" data stored with index DMFPC8\n",
      "2016-12-18 16:21:12,822 - INFO - aneris.control.data - New \"farm.network_configuration\" data stored with index 4NJNOA\n",
      "2016-12-18 16:21:12,823 - INFO - aneris.control.data - New \"component.static_cable\" data stored with index H5BAMH\n",
      "2016-12-18 16:21:12,825 - INFO - aneris.control.data - New \"farm.devices_per_string\" data stored with index P7N852\n",
      "2016-12-18 16:21:12,826 - INFO - aneris.control.data - New \"farm.direction_of_max_surface_current\" data stored with index O9WLBL\n",
      "2016-12-18 16:21:12,828 - INFO - aneris.control.data - New \"farm.wave_direction_100_year\" data stored with index PEX6H8\n",
      "2016-12-18 16:21:12,829 - INFO - aneris.control.data - New \"component.transformers\" data stored with index 8KP945\n",
      "2016-12-18 16:21:12,832 - INFO - aneris.control.data - New \"component.dynamic_cable\" data stored with index XPHQ19\n",
      "2016-12-18 16:21:12,834 - INFO - aneris.control.data - New \"corridor.wave_direction\" data stored with index 56YB1Q\n",
      "2016-12-18 16:21:12,835 - INFO - aneris.control.data - New \"component.collection_point_foundations\" data stored with index QUX836\n",
      "2016-12-18 16:21:12,835 - INFO - aneris.control.data - New \"device.connector_type\" data stored with index 6XFANZ\n",
      "2016-12-18 16:21:12,842 - INFO - aneris.control.data - New \"component.installation_soil_compatibility\" data stored with index YK19VF\n",
      "2016-12-18 16:21:12,844 - INFO - aneris.control.data - New \"component.collection_point_cog\" data stored with index GFHJF0\n",
      "2016-12-18 16:21:12,845 - INFO - aneris.control.data - New \"bathymetry.max_seabed_temp\" data stored with index 7622GW\n",
      "2016-12-18 16:21:12,846 - INFO - aneris.control.data - New \"farm.control_signal_cable\" data stored with index I5NTUS\n",
      "2016-12-18 16:21:12,848 - INFO - aneris.control.data - New \"corridor.max_soil_resistivity\" data stored with index ITEPT9\n",
      "2016-12-18 16:21:12,849 - INFO - aneris.control.data - New \"bathymetry.max_soil_resistivity\" data stored with index F80SP8\n",
      "2016-12-18 16:21:12,851 - INFO - aneris.control.data - New \"farm.ac_power_flow\" data stored with index 49ZKFQ\n",
      "2016-12-18 16:21:12,854 - INFO - aneris.control.data - New \"corridor.tidal_current_direction\" data stored with index B4HVLA\n",
      "2016-12-18 16:21:12,855 - INFO - aneris.control.data - New \"device.prescribed_footprint_radius\" data stored with index N5879G\n",
      "2016-12-18 16:21:12,858 - INFO - aneris.control.data - New \"component.equipment_gradient_constraint\" data stored with index COSTZZ\n",
      "2016-12-18 16:21:12,858 - INFO - aneris.control.data - New \"farm.onshore_infrastructure_cost\" data stored with index NJSH5F\n",
      "2016-12-18 16:21:12,861 - INFO - aneris.control.data - New \"farm.max_surface_current_10_year\" data stored with index 8REI7Z\n",
      "2016-12-18 16:21:12,861 - INFO - aneris.control.data - New \"corridor.tidal_current_flow\" data stored with index T0TU2H\n",
      "2016-12-18 16:21:12,864 - INFO - aneris.control.data - New \"component.wet_mate_connectors\" data stored with index XS4MLR\n",
      "2016-12-18 16:21:12,865 - INFO - aneris.control.data - New \"farm.voltage_limit_min\" data stored with index S4WNF8\n",
      "2016-12-18 16:21:12,865 - INFO - aneris.control.data - New \"farm.control_signal_channels\" data stored with index ETP7AQ\n",
      "2016-12-18 16:21:12,867 - INFO - aneris.control.data - New \"farm.voltage_limit_max\" data stored with index 3J2DAY\n",
      "2016-12-18 16:21:12,869 - INFO - aneris.control.data - New \"corridor.voltage\" data stored with index 9W9TTT\n",
      "2016-12-18 16:21:12,874 - INFO - aneris.control.data - New \"corridor.layers\" data stored with index ZOTPC6\n",
      "2016-12-18 16:21:12,875 - INFO - aneris.control.data - New \"farm.control_signal_type\" data stored with index OIOJ9A\n",
      "2016-12-18 16:21:12,875 - INFO - aneris.control.simulation - Datastate stored\n"
     ]
    }
   ],
   "source": [
    "electro_branch.read_test_data(new_core,\n",
    "                              new_project,\n",
    "                              \"fixed_tidal_fixed_layout_scenario.pkl\")"
   ]
  },
  {
   "cell_type": "code",
   "execution_count": 83,
   "metadata": {
    "collapsed": false
   },
   "outputs": [
    {
     "name": "stdout",
     "output_type": "stream",
     "text": [
      "2016-12-18 16:21:15,279 - INFO - aneris.control.data - New \"device.foundation_location\" data stored with index BDLQKT\n",
      "2016-12-18 16:21:15,280 - INFO - aneris.control.data - New \"farm.mean_wind_speed_100_year\" data stored with index EVNSCD\n",
      "2016-12-18 16:21:15,282 - INFO - aneris.control.data - New \"device.system_profile\" data stored with index 6UR09S\n",
      "2016-12-18 16:21:15,285 - INFO - aneris.control.data - New \"constants.rectangular_current_drag\" data stored with index V0OAOD\n",
      "2016-12-18 16:21:15,286 - INFO - aneris.control.data - New \"device.dry_beam_area\" data stored with index 494TPK\n",
      "2016-12-18 16:21:15,289 - INFO - aneris.control.data - New \"device.wet_beam_area\" data stored with index BI6Y92\n",
      "2016-12-18 16:21:15,290 - INFO - aneris.control.data - New \"device.system_height\" data stored with index B7EI8I\n",
      "2016-12-18 16:21:15,292 - INFO - aneris.control.data - New \"project.cost_of_concrete\" data stored with index XH0I3D\n",
      "2016-12-18 16:21:15,292 - INFO - aneris.control.data - New \"farm.mean_wind_direction_100_year\" data stored with index LHMBW7\n",
      "2016-12-18 16:21:15,293 - INFO - aneris.control.data - New \"project.cost_of_steel\" data stored with index 25Y4UY\n",
      "2016-12-18 16:21:15,296 - INFO - aneris.control.data - New \"bathymetry.soil_sensitivity\" data stored with index T54OFI\n",
      "2016-12-18 16:21:15,296 - INFO - aneris.control.data - New \"device.system_length\" data stored with index 2PBKZD\n",
      "2016-12-18 16:21:15,298 - INFO - aneris.control.data - New \"device.system_centre_of_gravity\" data stored with index CQ08MT\n",
      "2016-12-18 16:21:15,299 - INFO - aneris.control.data - New \"constants.concrete_density\" data stored with index SAXJ6O\n",
      "2016-12-18 16:21:15,302 - INFO - aneris.control.data - New \"component.foundations_pile\" data stored with index 7HKERK\n",
      "2016-12-18 16:21:15,305 - INFO - aneris.control.data - New \"constants.rectangular_wave_inertia\" data stored with index 83QBOY\n",
      "2016-12-18 16:21:15,306 - INFO - aneris.control.data - New \"device.system_mass\" data stored with index 1R4T03\n",
      "2016-12-18 16:21:15,312 - INFO - aneris.control.data - New \"constants.rectangular_drift\" data stored with index O4JPFD\n",
      "2016-12-18 16:21:15,316 - INFO - aneris.control.data - New \"bathymetry.pile_Bm_moment_coefficient\" data stored with index 961EMG\n",
      "2016-12-18 16:21:15,319 - INFO - aneris.control.data - New \"constants.air_density\" data stored with index CAVB59\n",
      "2016-12-18 16:21:15,322 - INFO - aneris.control.data - New \"bathymetry.pile_Am_moment_coefficient\" data stored with index 9M8MYJ\n",
      "2016-12-18 16:21:15,323 - INFO - aneris.control.data - New \"farm.max_gust_wind_speed_100_year\" data stored with index UJEDYN\n",
      "2016-12-18 16:21:15,325 - INFO - aneris.control.data - New \"device.system_width\" data stored with index RC6F9R\n",
      "2016-12-18 16:21:15,328 - INFO - aneris.control.data - New \"bathymetry.soilprops\" data stored with index CF8QAY\n",
      "2016-12-18 16:21:15,331 - INFO - aneris.control.data - New \"component.foundations_anchor\" data stored with index UVKDNS\n",
      "2016-12-18 16:21:15,332 - INFO - aneris.control.data - New \"bathymetry.line_bearing_capacity_factor\" data stored with index 2H9KE5\n",
      "2016-12-18 16:21:15,334 - INFO - aneris.control.data - New \"component.foundations_anchor_soft\" data stored with index 7R3W8R\n",
      "2016-12-18 16:21:15,335 - INFO - aneris.control.data - New \"device.system_displaced_volume\" data stored with index DBF5FL\n",
      "2016-12-18 16:21:15,339 - INFO - aneris.control.data - New \"constants.cylinder_wake_amplificiation\" data stored with index MX3TIT\n",
      "2016-12-18 16:21:15,341 - INFO - aneris.control.data - New \"device.dry_frontal_area\" data stored with index SNUIF6\n",
      "2016-12-18 16:21:15,344 - INFO - aneris.control.data - New \"bathymetry.soil_cohesive_reaction_coefficient\" data stored with index L6IRKM\n",
      "2016-12-18 16:21:15,345 - INFO - aneris.control.data - New \"farm.min_water_level_50_year\" data stored with index T1OSAE\n",
      "2016-12-18 16:21:15,348 - INFO - aneris.control.data - New \"component.foundations_anchor_sand\" data stored with index QEX8CP\n",
      "2016-12-18 16:21:15,348 - INFO - aneris.control.data - New \"device.foundation_safety_factor\" data stored with index 6ZZYH6\n",
      "2016-12-18 16:21:15,351 - INFO - aneris.control.data - New \"constants.grout_density\" data stored with index K4I3AN\n",
      "2016-12-18 16:21:15,357 - INFO - aneris.control.data - New \"farm.max_gust_wind_direction_100_year\" data stored with index 8KDD4L\n",
      "2016-12-18 16:21:15,358 - INFO - aneris.control.data - New \"farm.max_hs_100_year\" data stored with index GZLK53\n",
      "2016-12-18 16:21:15,361 - INFO - aneris.control.data - New \"farm.current_profile\" data stored with index ZOGZ7W\n",
      "2016-12-18 16:21:15,365 - INFO - aneris.control.data - New \"bathymetry.soil_cohesionless_reaction_coefficient\" data stored with index OFEU4P\n",
      "2016-12-18 16:21:15,367 - INFO - aneris.control.data - New \"constants.steel_density\" data stored with index YPWTHT\n",
      "2016-12-18 16:21:15,368 - INFO - aneris.control.data - New \"device.system_roughness\" data stored with index ZPKNVN\n",
      "2016-12-18 16:21:15,371 - INFO - aneris.control.data - New \"bathymetry.pile_skin_friction_end_bearing_capacity\" data stored with index YM1QJM\n",
      "2016-12-18 16:21:15,372 - INFO - aneris.control.data - New \"farm.spec_gamma\" data stored with index BGEMQN\n",
      "2016-12-18 16:21:15,375 - INFO - aneris.control.data - New \"bathymetry.soil_drained_holding_capacity_factor\" data stored with index K02P2N\n",
      "2016-12-18 16:21:15,378 - INFO - aneris.control.data - New \"constants.sea_water_density\" data stored with index RU1X4P\n",
      "2016-12-18 16:21:15,381 - INFO - aneris.control.data - New \"constants.cylinder_drag\" data stored with index LNBN2R\n",
      "2016-12-18 16:21:15,381 - INFO - aneris.control.data - New \"device.wet_frontal_area\" data stored with index 17ZF33\n",
      "2016-12-18 16:21:15,382 - INFO - aneris.control.data - New \"farm.max_tp_100_year\" data stored with index EI362L\n",
      "2016-12-18 16:21:15,384 - INFO - aneris.control.data - New \"constants.grout_compressive_strength\" data stored with index T6SNIS\n",
      "2016-12-18 16:21:15,388 - INFO - aneris.control.data - New \"farm.max_water_level_50_year\" data stored with index WKUFXW\n",
      "2016-12-18 16:21:15,391 - INFO - aneris.control.data - New \"constants.rectangular_wind_drag\" data stored with index E8OJLK\n",
      "2016-12-18 16:21:15,391 - INFO - aneris.control.data - New \"project.cost_of_grout\" data stored with index 1SVUVU\n",
      "2016-12-18 16:21:15,395 - INFO - aneris.control.data - New \"bathymetry.pile_deflection_coefficients\" data stored with index BTP6RT\n",
      "2016-12-18 16:21:15,398 - INFO - aneris.control.data - New \"farm.grout_strength_safety_factor\" data stored with index VHZMUY\n",
      "2016-12-18 16:21:15,398 - INFO - aneris.control.simulation - Datastate stored\n"
     ]
    }
   ],
   "source": [
    "moorings_branch.read_test_data(new_core,\n",
    "                               new_project,\n",
    "                               \"fixed_tidal_fixed_layout_scenario.pkl\")"
   ]
  },
  {
   "cell_type": "code",
   "execution_count": 84,
   "metadata": {
    "collapsed": false
   },
   "outputs": [
    {
     "name": "stdout",
     "output_type": "stream",
     "text": [
      "2016-12-18 16:21:17,726 - INFO - aneris.control.data - New \"device.transportation_method\" data stored with index 86M969\n",
      "2016-12-18 16:21:17,729 - INFO - aneris.control.data - New \"project.port_percentage_cost\" data stored with index ZJZNQX\n",
      "2016-12-18 16:21:18,289 - INFO - aneris.control.data - New \"farm.wind_series_installation\" data stored with index RHW7SG\n",
      "2016-12-18 16:21:18,289 - INFO - aneris.control.data - New \"device.disconnect_duration\" data stored with index IAHNRC\n",
      "2016-12-18 16:21:18,292 - INFO - aneris.control.data - New \"component.ports\" data stored with index G3IB7C\n",
      "2016-12-18 16:21:18,776 - INFO - aneris.control.data - New \"farm.tidal_series_installation\" data stored with index DIE0R3\n",
      "2016-12-18 16:21:18,778 - INFO - aneris.control.data - New \"component.fuel_cost_rate\" data stored with index POQC57\n",
      "2016-12-18 16:21:18,779 - INFO - aneris.control.data - New \"device.connect_duration\" data stored with index WRTI5A\n",
      "2016-12-18 16:21:18,779 - INFO - aneris.control.data - New \"component.port_locations\" data stored with index 67GUVJ\n",
      "2016-12-18 16:21:18,783 - INFO - aneris.control.data - New \"device.sub_systems_installation\" data stored with index 5GAEK7\n",
      "2016-12-18 16:21:18,786 - INFO - aneris.control.data - New \"component.hammer_safety_factors\" data stored with index NTYC8N\n",
      "2016-12-18 16:21:18,789 - INFO - aneris.control.data - New \"component.surface_laying_rate\" data stored with index PY4ZX2\n",
      "2016-12-18 16:21:18,798 - INFO - aneris.control.data - New \"component.split_pipe_safety_factors\" data stored with index W7XGIC\n",
      "2016-12-18 16:21:18,799 - INFO - aneris.control.data - New \"project.start_date\" data stored with index 2RBHD9\n",
      "2016-12-18 16:21:18,803 - INFO - aneris.control.data - New \"component.vessels\" data stored with index DKJTLD\n",
      "2016-12-18 16:21:18,805 - INFO - aneris.control.data - New \"project.cost_contingency\" data stored with index MFEU6T\n",
      "2016-12-18 16:21:18,806 - INFO - aneris.control.data - New \"project.comissioning_time\" data stored with index 6XN3TE\n",
      "2016-12-18 16:21:18,809 - INFO - aneris.control.data - New \"component.drilling_rigs\" data stored with index 6MOYJD\n",
      "2016-12-18 16:21:18,811 - INFO - aneris.control.data - New \"device.load_out_method\" data stored with index JSA3ON\n",
      "2016-12-18 16:21:18,812 - INFO - aneris.control.data - New \"device.installation_limit_Ws\" data stored with index 2G8ZYT\n",
      "2016-12-18 16:21:18,815 - INFO - aneris.control.data - New \"component.mattress_installation\" data stored with index AXRJI8\n",
      "2016-12-18 16:21:18,815 - INFO - aneris.control.data - New \"component.split_pipe_laying_rate\" data stored with index PR940S\n",
      "2016-12-18 16:21:18,819 - INFO - aneris.control.data - New \"component.vibro_driver\" data stored with index F1IY2P\n",
      "2016-12-18 16:21:18,822 - INFO - aneris.control.data - New \"site.projection\" data stored with index AZ1TLL\n",
      "2016-12-18 16:21:18,822 - INFO - aneris.control.data - New \"device.assembly_duration\" data stored with index NH5G00\n",
      "2016-12-18 16:21:18,825 - INFO - aneris.control.data - New \"component.vibro_driver_safety_factors\" data stored with index 97R618\n",
      "2016-12-18 16:21:18,829 - INFO - aneris.control.data - New \"component.divers_safety_factors\" data stored with index 8D05VG\n",
      "2016-12-18 16:21:18,832 - INFO - aneris.control.data - New \"component.rov_safety_factors\" data stored with index IWC51V\n",
      "2016-12-18 16:21:18,835 - INFO - aneris.control.data - New \"component.vessel_safety_factors\" data stored with index W1JPB2\n",
      "2016-12-18 16:21:19,085 - INFO - aneris.control.data - New \"farm.wave_series_installation\" data stored with index 0R0B58\n",
      "2016-12-18 16:21:19,088 - INFO - aneris.control.data - New \"component.split_pipes_installation\" data stored with index NDG7SA\n",
      "2016-12-18 16:21:19,088 - INFO - aneris.control.data - New \"device.installation_limit_Cs\" data stored with index PZ4SK3\n",
      "2016-12-18 16:21:19,091 - INFO - aneris.control.data - New \"component.cable_burial\" data stored with index 3W45H7\n",
      "2016-12-18 16:21:19,092 - INFO - aneris.control.data - New \"farm.entry_point\" data stored with index 802JJI\n",
      "2016-12-18 16:21:19,092 - INFO - aneris.control.data - New \"component.loading_rate\" data stored with index LWJXQU\n",
      "2016-12-18 16:21:19,095 - INFO - aneris.control.data - New \"component.port_safety_factors\" data stored with index IHGWJ0\n",
      "2016-12-18 16:21:19,096 - INFO - aneris.control.data - New \"options.skip_phase\" data stored with index RIN3YP\n",
      "2016-12-18 16:21:19,098 - INFO - aneris.control.data - New \"device.installation_limit_Hs\" data stored with index QJZZRQ\n",
      "2016-12-18 16:21:19,101 - INFO - aneris.control.data - New \"component.rock_bags_installation\" data stored with index KR0BL6\n",
      "2016-12-18 16:21:19,102 - INFO - aneris.control.data - New \"component.rov\" data stored with index 43CP4K\n",
      "2016-12-18 16:21:19,105 - INFO - aneris.control.data - New \"component.divers\" data stored with index IT7KQJ\n",
      "2016-12-18 16:21:19,107 - INFO - aneris.control.data - New \"component.hammer\" data stored with index PNMUGU\n",
      "2016-12-18 16:21:19,111 - INFO - aneris.control.data - New \"component.equipment_penetration_rates\" data stored with index 8D7OI0\n",
      "2016-12-18 16:21:19,111 - INFO - aneris.control.data - New \"corridor.landfall_contruction_technique\" data stored with index IZWQEB\n",
      "2016-12-18 16:21:19,112 - INFO - aneris.control.data - New \"component.grout_rate\" data stored with index JGTMK7\n",
      "2016-12-18 16:21:19,115 - INFO - aneris.control.data - New \"component.excavating\" data stored with index LHIV8Y\n",
      "2016-12-18 16:21:19,118 - INFO - aneris.control.data - New \"component.cable_burial_safety_factors\" data stored with index ZUU6U2\n",
      "2016-12-18 16:21:19,119 - INFO - aneris.control.data - New \"device.installation_limit_Tp\" data stored with index KS8R16\n",
      "2016-12-18 16:21:19,121 - INFO - aneris.control.simulation - Datastate stored\n"
     ]
    }
   ],
   "source": [
    "install_branch.read_test_data(new_core,\n",
    "                               new_project,\n",
    "                               \"fixed_tidal_fixed_layout_scenario.pkl\")"
   ]
  },
  {
   "cell_type": "code",
   "execution_count": 85,
   "metadata": {
    "collapsed": false
   },
   "outputs": [
    {
     "name": "stdout",
     "output_type": "stream",
     "text": [
      "2016-12-18 16:21:21,594 - INFO - aneris.control.data - New \"device.subsystem_costs\" data stored with index OGOA6L\n",
      "2016-12-18 16:21:21,595 - INFO - aneris.control.data - New \"farm.moorings_operations_weighting\" data stored with index HM6ZGW\n",
      "2016-12-18 16:21:21,598 - INFO - aneris.control.data - New \"device.inspections_requirements\" data stored with index NVU48N\n",
      "2016-12-18 16:21:21,601 - INFO - aneris.control.data - New \"component.moorings_forerunner_CFR\" data stored with index 33S7EC\n",
      "2016-12-18 16:21:21,602 - INFO - aneris.control.data - New \"farm.electrical_subsystem_lead_times\" data stored with index OB7361\n",
      "2016-12-18 16:21:21,605 - INFO - aneris.control.data - New \"options.condition_maintenance_soh\" data stored with index 4HAFHS\n",
      "2016-12-18 16:21:21,605 - INFO - aneris.control.data - New \"options.optim_calendar\" data stored with index 8HL4LM\n",
      "2016-12-18 16:21:21,608 - INFO - aneris.control.data - New \"farm.number_crews_per_shift\" data stored with index H3BDFI\n",
      "2016-12-18 16:21:21,608 - INFO - aneris.control.data - New \"farm.condition_based_maintenance\" data stored with index AUOW3T\n",
      "2016-12-18 16:21:21,611 - INFO - aneris.control.data - New \"options.subsystem_monitering_costs\" data stored with index 6NT6PV\n",
      "2016-12-18 16:21:21,614 - INFO - aneris.control.data - New \"device.subsystem_lead_times\" data stored with index YSSLR3\n",
      "2016-12-18 16:21:21,618 - INFO - aneris.control.data - New \"component.transformers_CFR\" data stored with index QPXYWD\n",
      "2016-12-18 16:21:21,621 - INFO - aneris.control.data - New \"device.support_operations_weighting\" data stored with index FB0UQU\n",
      "2016-12-18 16:21:21,622 - INFO - aneris.control.data - New \"farm.calendar_based_maintenance\" data stored with index OBW3M8\n",
      "2016-12-18 16:21:21,625 - INFO - aneris.control.data - New \"component.moorings_chain_CFR\" data stored with index 81S6NI\n",
      "2016-12-18 16:21:21,628 - INFO - aneris.control.data - New \"device.onsite_maintenance_parts\" data stored with index PTL8HT\n",
      "2016-12-18 16:21:21,631 - INFO - aneris.control.data - New \"component.moorings_shackle_CFR\" data stored with index SCKEF1\n",
      "2016-12-18 16:21:21,632 - INFO - aneris.control.data - New \"component.power_quality_CFR\" data stored with index 7WEI9D\n",
      "2016-12-18 16:21:21,638 - INFO - aneris.control.data - New \"device.replacement_parts\" data stored with index OSMP3C\n",
      "2016-12-18 16:21:21,638 - INFO - aneris.control.data - New \"device.subsystem_failure_rates\" data stored with index L7J84F\n",
      "2016-12-18 16:21:21,640 - INFO - aneris.control.data - New \"farm.workdays_summer\" data stored with index YLOO16\n",
      "2016-12-18 16:21:21,641 - INFO - aneris.control.data - New \"options.calendar_maintenance_interval\" data stored with index 3KGE2M\n",
      "2016-12-18 16:21:21,642 - INFO - aneris.control.data - New \"farm.wage_technician_day\" data stored with index JEOTAT\n",
      "2016-12-18 16:21:21,644 - INFO - aneris.control.data - New \"farm.moorings_subsystem_failure_rates\" data stored with index 1D3CTL\n",
      "2016-12-18 16:21:21,645 - INFO - aneris.control.data - New \"component.moorings_swivel_NCFR\" data stored with index TUPA47\n",
      "2016-12-18 16:21:21,648 - INFO - aneris.control.data - New \"component.wet_mate_connectors_NCFR\" data stored with index Y2LQXL\n",
      "2016-12-18 16:21:21,650 - INFO - aneris.control.data - New \"component.foundations_anchor_CFR\" data stored with index 8TAGU1\n",
      "2016-12-18 16:21:21,651 - INFO - aneris.control.data - New \"device.pto_operations_weighting\" data stored with index BKOG4F\n",
      "2016-12-18 16:21:21,654 - INFO - aneris.control.data - New \"component.switchgear_CFR\" data stored with index S5O03V\n",
      "2016-12-18 16:21:21,657 - INFO - aneris.control.data - New \"farm.electrical_onsite_maintenance_requirements\" data stored with index ZVI7MV\n",
      "2016-12-18 16:21:21,661 - INFO - aneris.control.data - New \"component.wet_mate_connectors_CFR\" data stored with index E510WX\n",
      "2016-12-18 16:21:21,663 - INFO - aneris.control.data - New \"component.dry_mate_connectors_NCFR\" data stored with index 6C1YSS\n",
      "2016-12-18 16:21:21,664 - INFO - aneris.control.data - New \"farm.duration_shift\" data stored with index 41O0KS\n",
      "2016-12-18 16:21:21,664 - INFO - aneris.control.data - New \"farm.foundations_operations_weighting\" data stored with index AW32Q3\n",
      "2016-12-18 16:21:21,667 - INFO - aneris.control.data - New \"component.foundations_pile_CFR\" data stored with index HQIOWO\n",
      "2016-12-18 16:21:21,670 - INFO - aneris.control.data - New \"component.moorings_shackle_NCFR\" data stored with index IYX6X1\n",
      "2016-12-18 16:21:21,671 - INFO - aneris.control.data - New \"component.moorings_swivel_CFR\" data stored with index B9B0JR\n",
      "2016-12-18 16:21:21,673 - INFO - aneris.control.data - New \"farm.substations_operations_weighting\" data stored with index C2Y2JY\n",
      "2016-12-18 16:21:21,674 - INFO - aneris.control.data - New \"options.operations_inspections\" data stored with index Y1X7QR\n",
      "2016-12-18 16:21:21,674 - INFO - aneris.control.data - New \"options.optim_corrective\" data stored with index EBX4V3\n",
      "2016-12-18 16:21:21,677 - INFO - aneris.control.data - New \"component.moorings_rope_NCFR\" data stored with index U6CGLG\n",
      "2016-12-18 16:21:21,680 - INFO - aneris.control.data - New \"farm.moorings_onsite_maintenance_parts\" data stored with index CVV23T\n",
      "2016-12-18 16:21:21,687 - INFO - aneris.control.data - New \"component.dry_mate_connectors_CFR\" data stored with index 26U9KR\n",
      "2016-12-18 16:21:21,690 - INFO - aneris.control.data - New \"farm.electrical_subsystem_failure_rates\" data stored with index CZ0JX3\n",
      "2016-12-18 16:21:21,691 - INFO - aneris.control.data - New \"component.transformers_NCFR\" data stored with index G68092\n",
      "2016-12-18 16:21:21,694 - INFO - aneris.control.data - New \"component.dynamic_cable_CFR\" data stored with index LZY5QK\n",
      "2016-12-18 16:21:21,697 - INFO - aneris.control.data - New \"component.collection_points_CFR\" data stored with index 7C553A\n",
      "2016-12-18 16:21:21,697 - INFO - aneris.control.data - New \"device.prime_mover_operations_weighting\" data stored with index CD5DIB\n",
      "2016-12-18 16:21:21,700 - INFO - aneris.control.data - New \"farm.umbilical_operations_weighting\" data stored with index HBG74Z\n",
      "2016-12-18 16:21:21,701 - INFO - aneris.control.data - New \"options.transit_cost_multiplier\" data stored with index VHGQN9\n",
      "2016-12-18 16:21:21,707 - INFO - aneris.control.data - New \"device.onsite_maintenance_requirements\" data stored with index 62BSUG\n",
      "2016-12-18 16:21:21,707 - INFO - aneris.control.data - New \"farm.corrective_maintenance\" data stored with index GVQ673\n",
      "2016-12-18 16:21:21,711 - INFO - aneris.control.data - New \"farm.moorings_onsite_maintenance_requirements\" data stored with index 7N48DG\n",
      "2016-12-18 16:21:21,719 - INFO - aneris.control.data - New \"farm.electrical_inspections_requirements\" data stored with index HFEOOA\n",
      "2016-12-18 16:21:21,721 - INFO - aneris.control.data - New \"farm.number_shifts_per_day\" data stored with index ARDI1J\n",
      "2016-12-18 16:21:21,724 - INFO - aneris.control.data - New \"component.moorings_forerunner_NCFR\" data stored with index WIMW8L\n",
      "2016-12-18 16:21:21,730 - INFO - aneris.control.data - New \"farm.moorings_inspections_requirements\" data stored with index 5E7MNP\n",
      "2016-12-18 16:21:21,730 - INFO - aneris.control.data - New \"options.annual_maintenance_end\" data stored with index 5GBIYV\n",
      "2016-12-18 16:21:21,733 - INFO - aneris.control.data - New \"component.collection_points_NCFR\" data stored with index X3KIDI\n",
      "2016-12-18 16:21:21,739 - INFO - aneris.control.data - New \"farm.electrical_onsite_maintenance_parts\" data stored with index 37C7WK\n",
      "2016-12-18 16:21:21,740 - INFO - aneris.control.data - New \"component.power_quality_NCFR\" data stored with index 0CY8LH\n",
      "2016-12-18 16:21:21,743 - INFO - aneris.control.data - New \"farm.wage_specialist_night\" data stored with index ILO640\n",
      "2016-12-18 16:21:21,743 - INFO - aneris.control.data - New \"options.loading_cost_multiplier\" data stored with index O1GF5R\n",
      "2016-12-18 16:21:21,744 - INFO - aneris.control.data - New \"farm.wage_technician_night\" data stored with index 6SZ6ME\n",
      "2016-12-18 16:21:21,746 - INFO - aneris.control.data - New \"options.optim_condition\" data stored with index N84ERF\n",
      "2016-12-18 16:21:21,747 - INFO - aneris.control.data - New \"farm.workdays_winter\" data stored with index L12UF0\n",
      "2016-12-18 16:21:21,752 - INFO - aneris.control.data - New \"device.replacement_requirements\" data stored with index BYPXHU\n",
      "2016-12-18 16:21:21,753 - INFO - aneris.control.data - New \"farm.array_cables_operations_weighting\" data stored with index EISWNN\n",
      "2016-12-18 16:21:21,756 - INFO - aneris.control.data - New \"component.foundations_pile_NCFR\" data stored with index PLRTDA\n",
      "2016-12-18 16:21:21,757 - INFO - aneris.control.data - New \"component.switchgear_NCFR\" data stored with index 5UQ24Y\n",
      "2016-12-18 16:21:21,759 - INFO - aneris.control.data - New \"project.energy_selling_price\" data stored with index V48F7O\n",
      "2016-12-18 16:21:21,760 - INFO - aneris.control.data - New \"options.annual_maintenance_start\" data stored with index DH0HDO\n",
      "2016-12-18 16:21:21,762 - INFO - aneris.control.data - New \"project.lifetime\" data stored with index 8M7QCO\n",
      "2016-12-18 16:21:21,763 - INFO - aneris.control.data - New \"farm.helideck\" data stored with index J5NM0Z\n",
      "2016-12-18 16:21:21,763 - INFO - aneris.control.data - New \"farm.moorings_subsystem_lead_times\" data stored with index YZTTG6\n",
      "2016-12-18 16:21:21,766 - INFO - aneris.control.data - New \"component.moorings_chain_NCFR\" data stored with index 1C07FX\n",
      "2016-12-18 16:21:21,767 - INFO - aneris.control.data - New \"options.operations_onsite_maintenance\" data stored with index 7HTQ3Z\n",
      "2016-12-18 16:21:21,769 - INFO - aneris.control.data - New \"component.moorings_rope_CFR\" data stored with index H12SGC\n",
      "2016-12-18 16:21:21,772 - INFO - aneris.control.data - New \"component.dynamic_cable_NCFR\" data stored with index 64KQ5Y\n",
      "2016-12-18 16:21:21,773 - INFO - aneris.control.data - New \"farm.wage_specialist_day\" data stored with index PQIEYG\n",
      "2016-12-18 16:21:21,776 - INFO - aneris.control.data - New \"component.foundations_anchor_NCFR\" data stored with index CYBXOH\n",
      "2016-12-18 16:21:21,776 - INFO - aneris.control.data - New \"device.control_operations_weighting\" data stored with index 4ZMZRY\n",
      "2016-12-18 16:21:21,778 - INFO - aneris.control.data - New \"farm.export_cable_operations_weighting\" data stored with index 5UEQ2S\n",
      "2016-12-18 16:21:21,779 - INFO - aneris.control.data - New \"farm.number_crews_available\" data stored with index 7W6H2U\n",
      "2016-12-18 16:21:21,780 - INFO - aneris.control.data - New \"component.static_cable_CFR\" data stored with index OF6QNZ\n",
      "2016-12-18 16:21:21,782 - INFO - aneris.control.data - New \"options.operations_replacements\" data stored with index VPXFS4\n",
      "2016-12-18 16:21:21,785 - INFO - aneris.control.data - New \"component.static_cable_NCFR\" data stored with index 02ZYSB\n",
      "2016-12-18 16:21:21,786 - INFO - aneris.control.simulation - Datastate stored\n"
     ]
    }
   ],
   "source": [
    "oandm_branch.read_test_data(new_core,\n",
    "                            new_project,\n",
    "                            \"fixed_tidal_fixed_layout_scenario.pkl\")"
   ]
  },
  {
   "cell_type": "markdown",
   "metadata": {},
   "source": [
    "## Check the status of the inputs\n",
    "\n",
    "* satisfied - data is in the data state\n",
    "* required - data is not in the data state\n",
    "* unavailable - data will come from another source"
   ]
  },
  {
   "cell_type": "code",
   "execution_count": 86,
   "metadata": {
    "collapsed": false
   },
   "outputs": [
    {
     "data": {
      "text/html": [
       "<ul><li>device.cut_in_velocity: <b>satisfied</b></li><li>device.bidirection: <b>satisfied</b></li><li>farm.tidal_series: <b>satisfied</b></li><li>device.installation_depth_max: <b>satisfied</b></li><li>options.user_array_option: <b>satisfied</b></li><li>device.coordinate_system: <b>satisfied</b></li><li>device.turbine_diameter: <b>satisfied</b></li><li>options.power_bin_width: <b>satisfied</b></li><li>device.minimum_distance_x: <b>satisfied</b></li><li>device.minimum_distance_y: <b>satisfied</b></li><li>options.boundary_padding: <b>optional</b></li><li>device.installation_depth_min: <b>satisfied</b></li><li>options.user_array_layout: <b>satisfied</b></li><li>farm.tidal_occurrence_nbins: <b>satisfied</b></li><li>site.lease_boundary: <b>satisfied</b></li><li>options.optimisation_threshold: <b>satisfied</b></li><li>device.turbine_performance: <b>satisfied</b></li><li>device.power_rating: <b>satisfied</b></li><li>farm.nogo_areas: <b>optional</b></li><li>device.turbine_interdistance: <b>optional</b></li><li>farm.power_law_exponent: <b>satisfied</b></li><li>farm.tidal_occurrence_point: <b>satisfied</b></li><li>device.yaw: <b>satisfied</b></li><li>device.system_type: <b>satisfied</b></li><li>farm.mannings: <b>satisfied</b></li><li>options.tidal_data_directory: <b>optional</b></li><li>corridor.landing_point: <b>satisfied</b></li><li>farm.blockage_ratio: <b>satisfied</b></li><li>farm.main_direction: <b>optional</b></li><li>bathymetry.layers: <b>satisfied</b></li><li>farm.rated_power: <b>satisfied</b></li><li>device.cut_out_velocity: <b>satisfied</b></li></ul>"
      ],
      "text/plain": [
       "<IPython.core.display.HTML object>"
      ]
     },
     "execution_count": 86,
     "metadata": {},
     "output_type": "execute_result"
    }
   ],
   "source": [
    "input_status = hydro_branch.get_input_status(new_core, new_project)\n",
    "message = html_dict(input_status)\n",
    "HTML(message)"
   ]
  },
  {
   "cell_type": "code",
   "execution_count": 87,
   "metadata": {
    "collapsed": false,
    "scrolled": true
   },
   "outputs": [
    {
     "data": {
      "text/html": [
       "<ul><li>device.constant_power_factor: <b>satisfied</b></li><li>component.power_quality: <b>satisfied</b></li><li>corridor.shipping_hist: <b>satisfied</b></li><li>component.switchgear: <b>satisfied</b></li><li>component.collection_points: <b>satisfied</b></li><li>farm.offshore_reactive_limit: <b>optional</b></li><li>corridor.nogo_areas: <b>optional</b></li><li>device.voltage: <b>satisfied</b></li><li>farm.shipping_hist: <b>satisfied</b></li><li>corridor.max_seabed_temp: <b>satisfied</b></li><li>farm.target_burial_depth: <b>satisfied</b></li><li>farm.direction_of_max_surface_current: <b>satisfied</b></li><li>farm.network_configuration: <b>satisfied</b></li><li>component.static_cable: <b>satisfied</b></li><li>farm.devices_per_string: <b>satisfied</b></li><li>farm.wave_direction_100_year: <b>satisfied</b></li><li>corridor.target_burial_depth: <b>satisfied</b></li><li>component.dry_mate_connectors: <b>satisfied</b></li><li>farm.annual_energy: <b>unavailable</b></li><li>component.transformers: <b>satisfied</b></li><li>component.dynamic_cable: <b>satisfied</b></li><li>corridor.wave_direction: <b>satisfied</b></li><li>farm.nogo_areas: <b>unavailable_option</b></li><li>constants.gravity: <b>satisfied</b></li><li>component.installation_soil_compatibility: <b>satisfied</b></li><li>component.collection_point_cog: <b>satisfied</b></li><li>bathymetry.max_seabed_temp: <b>satisfied</b></li><li>farm.onshore_infrastructure_cost: <b>satisfied</b></li><li>farm.control_signal_cable: <b>satisfied</b></li><li>farm.layout: <b>unavailable</b></li><li>device.power_rating: <b>unavailable</b></li><li>component.wet_mate_connectors: <b>satisfied</b></li><li>corridor.max_soil_resistivity: <b>satisfied</b></li><li>bathymetry.max_soil_resistivity: <b>satisfied</b></li><li>component.collection_point_foundations: <b>satisfied</b></li><li>farm.ac_power_flow: <b>satisfied</b></li><li>farm.mean_power_hist_per_device: <b>unavailable</b></li><li>device.prescribed_footprint_radius: <b>satisfied</b></li><li>component.equipment_gradient_constraint: <b>satisfied</b></li><li>farm.max_surface_current_10_year: <b>satisfied</b></li><li>device.system_type: <b>unavailable</b></li><li>corridor.tidal_current_flow: <b>satisfied</b></li><li>corridor.landing_point: <b>unavailable</b></li><li>farm.main_direction: <b>unavailable_option</b></li><li>corridor.tidal_current_direction: <b>satisfied</b></li><li>farm.voltage_limit_min: <b>satisfied</b></li><li>farm.control_signal_channels: <b>satisfied</b></li><li>bathymetry.layers: <b>unavailable</b></li><li>farm.onshore_losses: <b>optional</b></li><li>farm.user_installation_tool: <b>optional</b></li><li>farm.voltage_limit_max: <b>satisfied</b></li><li>corridor.voltage: <b>satisfied</b></li><li>device.connector_type: <b>satisfied</b></li><li>device.power_factor: <b>optional</b></li><li>corridor.layers: <b>satisfied</b></li><li>device.footprint_coords: <b>optional</b></li><li>farm.control_signal_type: <b>satisfied</b></li></ul>"
      ],
      "text/plain": [
       "<IPython.core.display.HTML object>"
      ]
     },
     "execution_count": 87,
     "metadata": {},
     "output_type": "execute_result"
    }
   ],
   "source": [
    "input_status = electro_branch.get_input_status(new_core, new_project)\n",
    "message = html_dict(input_status)\n",
    "HTML(message)"
   ]
  },
  {
   "cell_type": "code",
   "execution_count": 88,
   "metadata": {
    "collapsed": false
   },
   "outputs": [
    {
     "data": {
      "text/html": [
       "<ul><li>farm.mean_wind_speed_100_year: <b>satisfied</b></li><li>device.system_profile: <b>satisfied</b></li><li>device.system_type: <b>unavailable</b></li><li>device.wet_beam_area: <b>satisfied</b></li><li>device.system_height: <b>satisfied</b></li><li>device.foundation_type: <b>optional</b></li><li>farm.substation_props: <b>unavailable_option</b></li><li>farm.mean_wind_direction_100_year: <b>satisfied</b></li><li>device.coordinate_system: <b>unavailable</b></li><li>project.cost_of_steel: <b>satisfied</b></li><li>device.turbine_diameter: <b>unavailable</b></li><li>farm.current_profile: <b>satisfied</b></li><li>constants.sea_water_density: <b>satisfied</b></li><li>farm.substation_layout: <b>unavailable_option</b></li><li>constants.rectangular_drift: <b>satisfied</b></li><li>constants.rectangular_wave_inertia: <b>satisfied</b></li><li>device.system_mass: <b>satisfied</b></li><li>bathymetry.pile_Bm_moment_coefficient: <b>satisfied</b></li><li>constants.rectangular_current_drag: <b>satisfied</b></li><li>component.foundations_anchor_soft: <b>satisfied</b></li><li>device.turbine_performance: <b>unavailable</b></li><li>farm.substation_foundation_location: <b>unavailable_option</b></li><li>device.dry_frontal_area: <b>satisfied</b></li><li>constants.air_density: <b>satisfied</b></li><li>constants.cylinder_drag: <b>satisfied</b></li><li>device.prescribed_footprint_radius: <b>unavailable_option</b></li><li>device.turbine_interdistance: <b>unavailable_option</b></li><li>farm.max_gust_wind_direction_100_year: <b>satisfied</b></li><li>farm.substation_cog: <b>unavailable_option</b></li><li>constants.steel_density: <b>satisfied</b></li><li>farm.main_direction: <b>unavailable</b></li><li>device.system_roughness: <b>satisfied</b></li><li>bathymetry.layers: <b>unavailable</b></li><li>bathymetry.soil_drained_holding_capacity_factor: <b>satisfied</b></li><li>project.cost_of_grout: <b>satisfied</b></li><li>device.external_forces: <b>unavailable_option</b></li><li>device.system_width: <b>satisfied</b></li><li>farm.max_water_level_50_year: <b>satisfied</b></li><li>farm.spec_gamma: <b>satisfied</b></li><li>farm.grout_strength_safety_factor: <b>satisfied</b></li><li>constants.gravity: <b>unavailable</b></li><li>component.predefined_mooring_list: <b>optional</b></li><li>device.dry_beam_area: <b>satisfied</b></li><li>device.wet_frontal_area: <b>satisfied</b></li><li>device.system_displaced_volume: <b>satisfied</b></li><li>bathymetry.soil_sensitivity: <b>satisfied</b></li><li>farm.max_tp_100_year: <b>satisfied</b></li><li>device.system_centre_of_gravity: <b>satisfied</b></li><li>constants.concrete_density: <b>satisfied</b></li><li>farm.direction_of_max_surface_current: <b>unavailable</b></li><li>farm.wave_direction_100_year: <b>unavailable</b></li><li>component.foundations_pile: <b>satisfied</b></li><li>farm.layout: <b>unavailable</b></li><li>device.foundation_location: <b>satisfied</b></li><li>farm.max_gust_wind_speed_100_year: <b>satisfied</b></li><li>bathymetry.soilprops: <b>satisfied</b></li><li>component.foundations_anchor: <b>satisfied</b></li><li>bathymetry.line_bearing_capacity_factor: <b>satisfied</b></li><li>constants.cylinder_wake_amplificiation: <b>satisfied</b></li><li>bathymetry.soil_cohesive_reaction_coefficient: <b>satisfied</b></li><li>farm.min_water_level_50_year: <b>satisfied</b></li><li>device.system_length: <b>satisfied</b></li><li>component.foundations_anchor_sand: <b>satisfied</b></li><li>device.foundation_safety_factor: <b>satisfied</b></li><li>bathymetry.pile_Am_moment_coefficient: <b>satisfied</b></li><li>farm.max_surface_current_10_year: <b>unavailable</b></li><li>farm.max_hs_100_year: <b>satisfied</b></li><li>bathymetry.soil_cohesionless_reaction_coefficient: <b>satisfied</b></li><li>bathymetry.pile_skin_friction_end_bearing_capacity: <b>satisfied</b></li><li>component.fabrication_cost: <b>optional</b></li><li>constants.grout_density: <b>satisfied</b></li><li>project.cost_of_concrete: <b>satisfied</b></li><li>constants.grout_compressive_strength: <b>satisfied</b></li><li>constants.rectangular_wind_drag: <b>satisfied</b></li><li>bathymetry.pile_deflection_coefficients: <b>satisfied</b></li></ul>"
      ],
      "text/plain": [
       "<IPython.core.display.HTML object>"
      ]
     },
     "execution_count": 88,
     "metadata": {},
     "output_type": "execute_result"
    }
   ],
   "source": [
    "input_status = moorings_branch.get_input_status(new_core, new_project)\n",
    "message = html_dict(input_status)\n",
    "HTML(message)"
   ]
  },
  {
   "cell_type": "code",
   "execution_count": 89,
   "metadata": {
    "collapsed": false
   },
   "outputs": [
    {
     "data": {
      "text/html": [
       "<ul><li>device.transportation_method: <b>satisfied</b></li><li>component.collection_points: <b>unavailable_option</b></li><li>component.rov: <b>satisfied</b></li><li>farm.wind_series_installation: <b>satisfied</b></li><li>device.disconnect_duration: <b>satisfied</b></li><li>component.ports: <b>satisfied</b></li><li>component.split_pipe_safety_factors: <b>satisfied</b></li><li>device.system_height: <b>unavailable</b></li><li>farm.substation_props: <b>unavailable_option</b></li><li>component.port_locations: <b>satisfied</b></li><li>component.split_pipes_installation: <b>satisfied</b></li><li>device.bollard_pull: <b>optional</b></li><li>project.start_date: <b>satisfied</b></li><li>component.static_cable: <b>unavailable_option</b></li><li>device.connect_duration: <b>satisfied</b></li><li>device.system_mass: <b>unavailable</b></li><li>component.transformers: <b>unavailable_option</b></li><li>device.load_out_method: <b>satisfied</b></li><li>component.drilling_rigs: <b>satisfied</b></li><li>device.system_width: <b>unavailable</b></li><li>site.projection: <b>satisfied</b></li><li>component.vibro_driver_safety_factors: <b>satisfied</b></li><li>component.divers_safety_factors: <b>satisfied</b></li><li>component.vessel_safety_factors: <b>satisfied</b></li><li>device.control_system_installation: <b>optional</b></li><li>device.installation_limit_Ws: <b>satisfied</b></li><li>farm.cable_routes: <b>unavailable_option</b></li><li>device.installation_limit_Cs: <b>satisfied</b></li><li>farm.foundations_component_data: <b>unavailable_option</b></li><li>farm.entry_point: <b>satisfied</b></li><li>component.loading_rate: <b>satisfied</b></li><li>options.skip_phase: <b>satisfied</b></li><li>device.installation_limit_Hs: <b>satisfied</b></li><li>device.system_length: <b>unavailable</b></li><li>component.installation_soil_compatibility: <b>unavailable</b></li><li>farm.foundations_soil_data: <b>unavailable_option</b></li><li>component.hammer: <b>satisfied</b></li><li>component.equipment_penetration_rates: <b>satisfied</b></li><li>corridor.layers: <b>unavailable_option</b></li><li>component.grout_rate: <b>satisfied</b></li><li>farm.tidal_series_installation: <b>satisfied</b></li><li>component.excavating: <b>satisfied</b></li><li>device.installation_limit_Tp: <b>satisfied</b></li><li>component.power_quality: <b>unavailable_option</b></li><li>component.surface_laying_rate: <b>satisfied</b></li><li>component.switchgear: <b>unavailable_option</b></li><li>project.port_percentage_cost: <b>satisfied</b></li><li>component.fuel_cost_rate: <b>satisfied</b></li><li>device.sub_systems_installation: <b>satisfied</b></li><li>component.port_safety_factors: <b>satisfied</b></li><li>component.vessels: <b>satisfied</b></li><li>project.cost_contingency: <b>satisfied</b></li><li>farm.moorings_foundations_network: <b>unavailable_option</b></li><li>project.comissioning_time: <b>satisfied</b></li><li>component.split_pipe_laying_rate: <b>satisfied</b></li><li>farm.layout: <b>unavailable</b></li><li>farm.electrical_network: <b>unavailable_option</b></li><li>component.dynamic_cable: <b>unavailable_option</b></li><li>component.mattress_installation: <b>satisfied</b></li><li>farm.electrical_component_data: <b>unavailable_option</b></li><li>component.vibro_driver: <b>satisfied</b></li><li>component.dry_mate_connectors: <b>unavailable_option</b></li><li>device.assembly_duration: <b>satisfied</b></li><li>component.rov_safety_factors: <b>satisfied</b></li><li>device.system_type: <b>unavailable</b></li><li>component.hammer_safety_factors: <b>satisfied</b></li><li>component.cable_burial: <b>satisfied</b></li><li>component.wet_mate_connectors: <b>unavailable_option</b></li><li>bathymetry.layers: <b>unavailable</b></li><li>component.rock_bags_installation: <b>satisfied</b></li><li>farm.wave_series_installation: <b>satisfied</b></li><li>component.divers: <b>satisfied</b></li><li>corridor.landfall_contruction_technique: <b>satisfied</b></li><li>farm.selected_installation_tool: <b>unavailable</b></li><li>component.cable_burial_safety_factors: <b>satisfied</b></li></ul>"
      ],
      "text/plain": [
       "<IPython.core.display.HTML object>"
      ]
     },
     "execution_count": 89,
     "metadata": {},
     "output_type": "execute_result"
    }
   ],
   "source": [
    "input_status = install_branch.get_input_status(new_core, new_project)\n",
    "message = html_dict(input_status)\n",
    "HTML(message)"
   ]
  },
  {
   "cell_type": "code",
   "execution_count": 90,
   "metadata": {
    "collapsed": false
   },
   "outputs": [
    {
     "data": {
      "text/html": [
       "<ul><li>farm.moorings_operations_weighting: <b>satisfied</b></li><li>device.subsystem_costs: <b>satisfied</b></li><li>device.inspections_requirements: <b>satisfied</b></li><li>component.split_pipes_installation: <b>unavailable</b></li><li>component.collection_points: <b>unavailable_option</b></li><li>component.moorings_forerunner_CFR: <b>satisfied</b></li><li>farm.electrical_subsystem_lead_times: <b>satisfied</b></li><li>component.ports: <b>unavailable</b></li><li>farm.wage_specialist_night: <b>satisfied</b></li><li>options.condition_maintenance_soh: <b>satisfied</b></li><li>device.connect_duration: <b>unavailable</b></li><li>options.optim_calendar: <b>satisfied</b></li><li>farm.number_crews_per_shift: <b>satisfied</b></li><li>bathymetry.layers: <b>unavailable</b></li><li>project.start_date: <b>unavailable</b></li><li>component.static_cable: <b>unavailable_option</b></li><li>farm.condition_based_maintenance: <b>satisfied</b></li><li>options.subsystem_monitering_costs: <b>satisfied</b></li><li>device.subsystem_lead_times: <b>satisfied</b></li><li>component.moorings_chain_CFR: <b>satisfied</b></li><li>device.system_mass: <b>unavailable</b></li><li>component.wet_mate_connectors_CFR: <b>satisfied</b></li><li>project.commissioning_date: <b>unavailable</b></li><li>device.support_operations_weighting: <b>satisfied</b></li><li>farm.mean_power_per_device: <b>unavailable</b></li><li>component.dry_mate_connectors_NCFR: <b>satisfied</b></li><li>component.collection_point_cog: <b>unavailable</b></li><li>component.vessel_safety_factors: <b>unavailable</b></li><li>device.onsite_maintenance_requirements: <b>satisfied</b></li><li>farm.calendar_based_maintenance: <b>satisfied</b></li><li>device.control_system_installation: <b>unavailable_option</b></li><li>farm.wave_series_installation: <b>unavailable</b></li><li>options.curtail_devices: <b>optional</b></li><li>device.installation_limit_Cs: <b>unavailable</b></li><li>device.onsite_maintenance_parts: <b>satisfied</b></li><li>farm.foundations_component_data: <b>unavailable_option</b></li><li>farm.entry_point: <b>unavailable</b></li><li>component.loading_rate: <b>unavailable</b></li><li>component.moorings_shackle_CFR: <b>satisfied</b></li><li>component.power_quality_CFR: <b>satisfied</b></li><li>device.installation_limit_Hs: <b>unavailable</b></li><li>device.system_length: <b>unavailable</b></li><li>component.installation_soil_compatibility: <b>unavailable</b></li><li>device.replacement_parts: <b>satisfied</b></li><li>device.subsystem_failure_rates: <b>satisfied</b></li><li>component.hammer: <b>unavailable</b></li><li>farm.workdays_summer: <b>satisfied</b></li><li>corridor.layers: <b>unavailable_option</b></li><li>options.calendar_maintenance_interval: <b>satisfied</b></li><li>component.power_quality: <b>unavailable_option</b></li><li>farm.wage_technician_day: <b>satisfied</b></li><li>component.surface_laying_rate: <b>unavailable</b></li><li>farm.moorings_subsystem_failure_rates: <b>satisfied</b></li><li>project.port_percentage_cost: <b>unavailable</b></li><li>component.moorings_swivel_NCFR: <b>satisfied</b></li><li>farm.moorings_foundations_economics_data: <b>unavailable</b></li><li>component.wet_mate_connectors_NCFR: <b>satisfied</b></li><li>farm.corrective_maintenance: <b>satisfied</b></li><li>component.rov: <b>unavailable</b></li><li>component.foundations_anchor_CFR: <b>satisfied</b></li><li>component.port_safety_factors: <b>unavailable</b></li><li>device.pto_operations_weighting: <b>satisfied</b></li><li>project.cost_contingency: <b>unavailable</b></li><li>component.switchgear_CFR: <b>satisfied</b></li><li>farm.moorings_foundations_network: <b>unavailable_option</b></li><li>farm.electrical_onsite_maintenance_requirements: <b>satisfied</b></li><li>component.split_pipe_laying_rate: <b>unavailable</b></li><li>farm.layout: <b>unavailable</b></li><li>farm.electrical_network: <b>unavailable_option</b></li><li>component.dynamic_cable: <b>unavailable_option</b></li><li>component.equipment_penetration_rates: <b>unavailable</b></li><li>component.mattress_installation: <b>unavailable</b></li><li>farm.duration_shift: <b>satisfied</b></li><li>farm.foundations_operations_weighting: <b>satisfied</b></li><li>component.vibro_driver: <b>unavailable</b></li><li>component.foundations_pile_CFR: <b>satisfied</b></li><li>device.system_height: <b>unavailable</b></li><li>component.grout_rate: <b>unavailable</b></li><li>component.moorings_shackle_NCFR: <b>satisfied</b></li><li>component.moorings_swivel_CFR: <b>satisfied</b></li><li>farm.substations_operations_weighting: <b>satisfied</b></li><li>component.rov_safety_factors: <b>unavailable</b></li><li>component.excavating: <b>unavailable</b></li><li>options.operations_inspections: <b>satisfied</b></li><li>farm.umbilical_seabed_connection: <b>unavailable_option</b></li><li>options.optim_corrective: <b>satisfied</b></li><li>component.moorings_rope_NCFR: <b>satisfied</b></li><li>farm.moorings_replacement_requirements: <b>optional</b></li><li>farm.moorings_onsite_maintenance_parts: <b>satisfied</b></li><li>component.dry_mate_connectors_CFR: <b>satisfied</b></li><li>farm.electrical_replacement_parts: <b>optional</b></li><li>farm.electrical_subsystem_failure_rates: <b>satisfied</b></li><li>component.transformers_NCFR: <b>satisfied</b></li><li>component.dynamic_cable_CFR: <b>satisfied</b></li><li>component.collection_points_CFR: <b>satisfied</b></li><li>farm.selected_installation_tool: <b>unavailable</b></li><li>component.cable_burial_safety_factors: <b>unavailable</b></li><li>device.prime_mover_operations_weighting: <b>satisfied</b></li><li>farm.umbilical_operations_weighting: <b>satisfied</b></li><li>farm.moorings_replacement_parts: <b>optional</b></li><li>options.transit_cost_multiplier: <b>satisfied</b></li><li>farm.wind_series_installation: <b>unavailable</b></li><li>device.disconnect_duration: <b>unavailable</b></li><li>device.system_type: <b>unavailable</b></li><li>farm.tidal_series_installation: <b>unavailable</b></li><li>farm.substation_props: <b>unavailable_option</b></li><li>component.port_locations: <b>unavailable</b></li><li>farm.moorings_onsite_maintenance_requirements: <b>satisfied</b></li><li>farm.electrical_replacement_requirements: <b>optional</b></li><li>component.hammer_safety_factors: <b>unavailable</b></li><li>farm.electrical_inspections_requirements: <b>satisfied</b></li><li>farm.number_shifts_per_day: <b>satisfied</b></li><li>farm.substation_layout: <b>unavailable_option</b></li><li>component.moorings_forerunner_NCFR: <b>satisfied</b></li><li>component.transformers: <b>unavailable_option</b></li><li>component.cable_burial: <b>unavailable</b></li><li>farm.moorings_inspections_requirements: <b>satisfied</b></li><li>options.annual_maintenance_end: <b>satisfied</b></li><li>farm.moorings_subsystem_costs: <b>optional</b></li><li>device.system_width: <b>unavailable</b></li><li>component.transformers_CFR: <b>satisfied</b></li><li>component.collection_points_NCFR: <b>satisfied</b></li><li>farm.moorings_subsystem_lead_times: <b>satisfied</b></li><li>farm.number_crews_available: <b>satisfied</b></li><li>component.vibro_driver_safety_factors: <b>unavailable</b></li><li>component.divers_safety_factors: <b>unavailable</b></li><li>component.power_quality_NCFR: <b>satisfied</b></li><li>component.drilling_rigs: <b>unavailable</b></li><li>farm.cable_routes: <b>unavailable_option</b></li><li>options.loading_cost_multiplier: <b>satisfied</b></li><li>farm.wage_technician_night: <b>satisfied</b></li><li>farm.moorings_component_data: <b>unavailable_option</b></li><li>options.optim_condition: <b>satisfied</b></li><li>farm.workdays_winter: <b>satisfied</b></li><li>device.replacement_requirements: <b>satisfied</b></li><li>component.fuel_cost_rate: <b>unavailable</b></li><li>farm.array_cables_operations_weighting: <b>satisfied</b></li><li>component.foundations_pile_NCFR: <b>satisfied</b></li><li>device.installation_limit_Tp: <b>unavailable</b></li><li>device.transportation_method: <b>unavailable</b></li><li>component.rock_bags_installation: <b>unavailable</b></li><li>device.bollard_pull: <b>unavailable_option</b></li><li>site.projection: <b>unavailable</b></li><li>component.switchgear: <b>unavailable_option</b></li><li>component.switchgear_NCFR: <b>satisfied</b></li><li>project.energy_selling_price: <b>satisfied</b></li><li>options.annual_maintenance_start: <b>satisfied</b></li><li>project.lifetime: <b>satisfied</b></li><li>farm.helideck: <b>satisfied</b></li><li>device.sub_systems_installation: <b>unavailable</b></li><li>farm.network_configuration: <b>unavailable</b></li><li>component.split_pipe_safety_factors: <b>unavailable</b></li><li>farm.electrical_onsite_maintenance_parts: <b>satisfied</b></li><li>component.vessels: <b>unavailable</b></li><li>project.comissioning_time: <b>unavailable</b></li><li>component.moorings_chain_NCFR: <b>satisfied</b></li><li>options.operations_onsite_maintenance: <b>satisfied</b></li><li>component.collection_point_foundations: <b>unavailable</b></li><li>corridor.landfall_contruction_technique: <b>unavailable_option</b></li><li>device.load_out_method: <b>unavailable</b></li><li>component.dry_mate_connectors: <b>unavailable_option</b></li><li>component.moorings_rope_CFR: <b>satisfied</b></li><li>device.assembly_duration: <b>unavailable</b></li><li>component.dynamic_cable_NCFR: <b>satisfied</b></li><li>farm.wage_specialist_day: <b>satisfied</b></li><li>component.foundations_anchor_NCFR: <b>satisfied</b></li><li>farm.foundations_soil_data: <b>unavailable_option</b></li><li>device.installation_limit_Ws: <b>unavailable</b></li><li>farm.annual_energy_per_device: <b>unavailable</b></li><li>farm.line_data: <b>unavailable_option</b></li><li>device.control_operations_weighting: <b>satisfied</b></li><li>farm.export_cable_operations_weighting: <b>satisfied</b></li><li>component.wet_mate_connectors: <b>unavailable_option</b></li><li>component.static_cable_CFR: <b>satisfied</b></li><li>options.operations_replacements: <b>satisfied</b></li><li>component.divers: <b>unavailable</b></li><li>farm.electrical_component_data: <b>unavailable_option</b></li><li>farm.umbilical_cable_data: <b>unavailable_option</b></li><li>component.static_cable_NCFR: <b>satisfied</b></li></ul>"
      ],
      "text/plain": [
       "<IPython.core.display.HTML object>"
      ]
     },
     "execution_count": 90,
     "metadata": {},
     "output_type": "execute_result"
    }
   ],
   "source": [
    "input_status = oandm_branch.get_input_status(new_core, new_project)\n",
    "message = html_dict(input_status)\n",
    "HTML(message)"
   ]
  },
  {
   "cell_type": "markdown",
   "metadata": {},
   "source": [
    "## Prepare the Economics Theme"
   ]
  },
  {
   "cell_type": "code",
   "execution_count": 91,
   "metadata": {
    "collapsed": false
   },
   "outputs": [
    {
     "data": {
      "text/html": [
       "<ul><li>farm.installation_economics_data: <b>unavailable_option</b></li><li>device.power_rating: <b>satisfied</b></li><li>project.moorings_cost_estimate: <b>optional</b></li><li>farm.energy_per_year: <b>unavailable_option</b></li><li>project.annual_repair_cost_estimate: <b>optional</b></li><li>farm.moorings_foundations_economics_data: <b>unavailable_option</b></li><li>project.annual_array_mttf_estimate: <b>optional</b></li><li>device.system_cost: <b>optional</b></li><li>project.installation_cost_estimate: <b>optional</b></li><li>farm.number_of_devices: <b>unavailable_option</b></li><li>farm.opex_per_year: <b>unavailable_option</b></li><li>farm.electrical_network_efficiency: <b>unavailable_option</b></li><li>farm.capex_oandm: <b>unavailable_option</b></li><li>project.electrical_cost_estimate: <b>optional</b></li><li>project.lifetime: <b>satisfied</b></li><li>farm.electrical_economics_data: <b>unavailable_option</b></li><li>farm.annual_energy: <b>unavailable_option</b></li><li>project.discount_rate: <b>optional</b></li><li>project.opex_estimate: <b>optional</b></li></ul>"
      ],
      "text/plain": [
       "<IPython.core.display.HTML object>"
      ]
     },
     "execution_count": 91,
     "metadata": {},
     "output_type": "execute_result"
    }
   ],
   "source": [
    "theme_name = \"Economics\"\n",
    "input_status = eco_branch.get_input_status(new_core, new_project)\n",
    "message = html_dict(input_status)\n",
    "HTML(message)"
   ]
  },
  {
   "cell_type": "markdown",
   "metadata": {},
   "source": [
    "## Set the discount rate and cost estimates and project lifetime"
   ]
  },
  {
   "cell_type": "code",
   "execution_count": 92,
   "metadata": {
    "collapsed": false
   },
   "outputs": [
    {
     "name": "stdout",
     "output_type": "stream",
     "text": [
      "2016-12-18 16:21:22,046 - INFO - aneris.control.data - New \"project.discount_rate\" data stored with index GLV6JW\n",
      "2016-12-18 16:21:22,046 - INFO - aneris.control.simulation - Datastate stored\n",
      "2016-12-18 16:21:22,137 - INFO - aneris.control.data - New \"device.system_cost\" data stored with index R5F5VQ\n",
      "2016-12-18 16:21:22,138 - INFO - aneris.control.simulation - Datastate stored\n"
     ]
    }
   ],
   "source": [
    "discount_rate = 0.05\n",
    "device_cost = 1000000\n",
    "\n",
    "new_var = eco_branch.get_input_variable(new_core, new_project,\n",
    "                                        \"project.discount_rate\")\n",
    "new_var.set_raw_interface(new_core, discount_rate)\n",
    "new_var.read(new_core, new_project)\n",
    "\n",
    "new_var = eco_branch.get_input_variable(new_core, new_project,\n",
    "                                        \"device.system_cost\")\n",
    "new_var.set_raw_interface(new_core, device_cost)\n",
    "new_var.read(new_core, new_project)"
   ]
  },
  {
   "cell_type": "markdown",
   "metadata": {},
   "source": [
    "## Check if the modules can be executed"
   ]
  },
  {
   "cell_type": "code",
   "execution_count": 93,
   "metadata": {
    "collapsed": false
   },
   "outputs": [
    {
     "data": {
      "text/plain": [
       "True"
      ]
     },
     "metadata": {},
     "output_type": "display_data"
    },
    {
     "data": {
      "text/plain": [
       "False"
      ]
     },
     "metadata": {},
     "output_type": "display_data"
    },
    {
     "data": {
      "text/html": [
       "<ul><li>device.cut_in_velocity: <b>satisfied</b></li><li>device.bidirection: <b>satisfied</b></li><li>farm.tidal_series: <b>satisfied</b></li><li>device.installation_depth_max: <b>satisfied</b></li><li>options.user_array_option: <b>satisfied</b></li><li>device.coordinate_system: <b>satisfied</b></li><li>device.turbine_diameter: <b>satisfied</b></li><li>options.power_bin_width: <b>satisfied</b></li><li>device.minimum_distance_x: <b>satisfied</b></li><li>device.minimum_distance_y: <b>satisfied</b></li><li>options.boundary_padding: <b>optional</b></li><li>device.installation_depth_min: <b>satisfied</b></li><li>options.user_array_layout: <b>satisfied</b></li><li>farm.tidal_occurrence_nbins: <b>satisfied</b></li><li>site.lease_boundary: <b>satisfied</b></li><li>options.optimisation_threshold: <b>satisfied</b></li><li>device.turbine_performance: <b>satisfied</b></li><li>device.power_rating: <b>satisfied</b></li><li>farm.nogo_areas: <b>optional</b></li><li>device.turbine_interdistance: <b>optional</b></li><li>farm.power_law_exponent: <b>satisfied</b></li><li>farm.tidal_occurrence_point: <b>satisfied</b></li><li>device.yaw: <b>satisfied</b></li><li>device.system_type: <b>satisfied</b></li><li>farm.mannings: <b>satisfied</b></li><li>options.tidal_data_directory: <b>optional</b></li><li>corridor.landing_point: <b>satisfied</b></li><li>farm.blockage_ratio: <b>satisfied</b></li><li>farm.main_direction: <b>optional</b></li><li>bathymetry.layers: <b>satisfied</b></li><li>farm.rated_power: <b>satisfied</b></li><li>device.cut_out_velocity: <b>satisfied</b></li></ul><ul><li>farm.installation_economics_data: <b>unavailable_option</b></li><li>device.power_rating: <b>satisfied</b></li><li>project.moorings_cost_estimate: <b>optional</b></li><li>farm.energy_per_year: <b>unavailable_option</b></li><li>project.annual_repair_cost_estimate: <b>optional</b></li><li>farm.moorings_foundations_economics_data: <b>unavailable_option</b></li><li>project.annual_array_mttf_estimate: <b>optional</b></li><li>device.system_cost: <b>satisfied</b></li><li>project.installation_cost_estimate: <b>optional</b></li><li>farm.number_of_devices: <b>unavailable_option</b></li><li>farm.opex_per_year: <b>unavailable_option</b></li><li>farm.electrical_network_efficiency: <b>unavailable_option</b></li><li>farm.capex_oandm: <b>unavailable_option</b></li><li>project.electrical_cost_estimate: <b>optional</b></li><li>project.lifetime: <b>satisfied</b></li><li>farm.electrical_economics_data: <b>unavailable_option</b></li><li>farm.annual_energy: <b>unavailable_option</b></li><li>project.discount_rate: <b>satisfied</b></li><li>project.opex_estimate: <b>optional</b></li></ul>"
      ],
      "text/plain": [
       "<IPython.core.display.HTML object>"
      ]
     },
     "execution_count": 93,
     "metadata": {},
     "output_type": "execute_result"
    }
   ],
   "source": [
    "can_execute = module_menu.is_executable(new_core, new_project, 'Hydrodynamics')\n",
    "display(can_execute)\n",
    "\n",
    "can_execute = module_menu.is_executable(new_core, new_project, 'Electrical Sub Systems')\n",
    "display(can_execute)\n",
    "\n",
    "input_status = hydro_branch.get_input_status(new_core, new_project)\n",
    "message = html_dict(input_status)\n",
    "\n",
    "input_status = eco_branch.get_input_status(new_core, new_project)\n",
    "message += html_dict(input_status)\n",
    "HTML(message)"
   ]
  },
  {
   "cell_type": "markdown",
   "metadata": {},
   "source": [
    "## See what execution strategies are available\n",
    "\n",
    "First the strategy manager in required to collect the strategy plugins."
   ]
  },
  {
   "cell_type": "code",
   "execution_count": 94,
   "metadata": {
    "collapsed": false
   },
   "outputs": [],
   "source": [
    "strategy_manager = StrategyManager()"
   ]
  },
  {
   "cell_type": "code",
   "execution_count": 95,
   "metadata": {
    "collapsed": false
   },
   "outputs": [
    {
     "data": {
      "text/html": [
       "<ul><li>Unit Sensitivity</li><li>Multi Sensitivity</li><li>Basic</li></ul>"
      ],
      "text/plain": [
       "<IPython.core.display.HTML object>"
      ]
     },
     "execution_count": 95,
     "metadata": {},
     "output_type": "execute_result"
    }
   ],
   "source": [
    "strategy_list = strategy_manager.get_available_strategies()\n",
    "message = html_list(strategy_list)\n",
    "HTML(message)"
   ]
  },
  {
   "cell_type": "markdown",
   "metadata": {},
   "source": [
    "## Execute the Basic strategy\n",
    "\n",
    "The \"basic\" strategy simply exectutes the chosen modules in sequence "
   ]
  },
  {
   "cell_type": "code",
   "execution_count": 96,
   "metadata": {
    "collapsed": false,
    "scrolled": true
   },
   "outputs": [
    {
     "name": "stdout",
     "output_type": "stream",
     "text": [
      "2016-12-18 16:21:22,259 - INFO - aneris.control.simulation - Datastate with level \"hydrodynamics start\" stored\n",
      "No NOGO areas related to the machine depthinstallation constraints have been found.\n",
      "2016-12-18 16:21:22,375 - WARNING - dtocean_hydro.input - The rated power specified (1250000.0 W) is smaller than the rated power calculated from the machine data (5758109.89324 W) This situation can lead to unexpected/unrealistic high yield.\n",
      "2016-12-18 16:21:22,391 - INFO - dtocean_hydro.input - --> MACHINE INPUT SUMMARY:\n",
      "\n",
      "{   'Clen': (18.0, None),\n",
      "    'Floatflag': False,\n",
      "    'InstalDepth': (-inf, -40.0),\n",
      "    'MaxNumDevices': 5,\n",
      "    'MinDist': (40.0, 40.0),\n",
      "    'OptThreshold': 0.0,\n",
      "    'RatedPowerArray': 6250000.0,\n",
      "    'RatedPowerDevice': 1250000.0,\n",
      "    'Type': 'Tidal',\n",
      "    'UserArray': {   'Option': 2,\n",
      "                     'Value': array([[ 101250.,     500.],\n",
      "       [ 101750.,     500.],\n",
      "       [ 101500.,    1250.],\n",
      "       [ 101250.,    2000.],\n",
      "       [ 101750.,    2000.]])},\n",
      "    'UserOutputTable': None,\n",
      "    'YawAngle': 0.0,\n",
      "    'lCS': array([  0.,   0.,  20.]),\n",
      "    'tidalFlag': True,\n",
      "    'tidal_bidirectional': True,\n",
      "    'tidal_cutinout': (1.0, 4.0),\n",
      "    'tidal_data_folder': None,\n",
      "    'tidal_power_curve': array([ 0.        ,  0.        ,  0.        ,  0.        ,  0.        ,\n",
      "        0.        ,  0.        ,  0.        ,  0.        ,  0.        ,\n",
      "        0.00248182,  0.0273    ,  0.05211818,  0.07693636,  0.10175455,\n",
      "        0.12657273,  0.15139091,  0.17620909,  0.20102727,  0.22584545,\n",
      "        0.25066364,  0.27548182,  0.3003    ,  0.32511818,  0.34993636,\n",
      "        0.37475455,  0.39957273,  0.42439091,  0.44920909,  0.47402727,\n",
      "        0.49884545,  0.52366364,  0.54848182,  0.5733    ,  0.59811818,\n",
      "        0.62293636,  0.64775455,  0.67257273,  0.69739091,  0.72220909,\n",
      "        0.74702727,  0.77184545,  0.79666364,  0.82148182,  0.8463    ,\n",
      "        0.86      ,  0.86      ,  0.86      ,  0.86      ,  0.86      ,\n",
      "        0.86      ,  0.86      ,  0.86      ,  0.86      ,  0.86      ,\n",
      "        0.86      ,  0.86      ,  0.86      ,  0.86      ,  0.86      ,\n",
      "        0.86      ,  0.86      ,  0.86      ,  0.86      ,  0.86      ,\n",
      "        0.86      ,  0.86      ,  0.86      ,  0.86      ,  0.86      ,\n",
      "        0.86      ,  0.86      ,  0.86      ,  0.86      ,  0.86      ,\n",
      "        0.86      ,  0.86      ,  0.86      ,  0.86      ,  0.86      ,\n",
      "        0.86      ,  0.86      ,  0.86      ,  0.86      ,  0.86      ,\n",
      "        0.86      ,  0.86      ,  0.86      ,  0.86      ,  0.86      ,\n",
      "        0.86      ,  0.86      ,  0.86      ,  0.86      ,  0.86      ,\n",
      "        0.86      ,  0.86      ,  0.86      ,  0.86      ,  0.86      ]),\n",
      "    'tidal_thrust_curve': array([ 0.4,  0.4,  0.4,  0.4,  0.4,  0.4,  0.4,  0.4,  0.4,  0.4,  0.4,\n",
      "        0.4,  0.4,  0.4,  0.4,  0.4,  0.4,  0.4,  0.4,  0.4,  0.4,  0.4,\n",
      "        0.4,  0.4,  0.4,  0.4,  0.4,  0.4,  0.4,  0.4,  0.4,  0.4,  0.4,\n",
      "        0.4,  0.4,  0.4,  0.4,  0.4,  0.4,  0.4,  0.4,  0.4,  0.4,  0.4,\n",
      "        0.4,  0.4,  0.4,  0.4,  0.4,  0.4,  0.4,  0.4,  0.4,  0.4,  0.4,\n",
      "        0.4,  0.4,  0.4,  0.4,  0.4,  0.4,  0.4,  0.4,  0.4,  0.4,  0.4,\n",
      "        0.4,  0.4,  0.4,  0.4,  0.4,  0.4,  0.4,  0.4,  0.4,  0.4,  0.4,\n",
      "        0.4,  0.4,  0.4,  0.4,  0.4,  0.4,  0.4,  0.4,  0.4,  0.4,  0.4,\n",
      "        0.4,  0.4,  0.4,  0.4,  0.4,  0.4,  0.4,  0.4,  0.4,  0.4,  0.4,\n",
      "        0.4]),\n",
      "    'tidal_velocity_curve': array([  0.        ,   0.1010101 ,   0.2020202 ,   0.3030303 ,\n",
      "         0.4040404 ,   0.50505051,   0.60606061,   0.70707071,\n",
      "         0.80808081,   0.90909091,   1.01010101,   1.11111111,\n",
      "         1.21212121,   1.31313131,   1.41414141,   1.51515152,\n",
      "         1.61616162,   1.71717172,   1.81818182,   1.91919192,\n",
      "         2.02020202,   2.12121212,   2.22222222,   2.32323232,\n",
      "         2.42424242,   2.52525253,   2.62626263,   2.72727273,\n",
      "         2.82828283,   2.92929293,   3.03030303,   3.13131313,\n",
      "         3.23232323,   3.33333333,   3.43434343,   3.53535354,\n",
      "         3.63636364,   3.73737374,   3.83838384,   3.93939394,\n",
      "         4.04040404,   4.14141414,   4.24242424,   4.34343434,\n",
      "         4.44444444,   4.54545455,   4.64646465,   4.74747475,\n",
      "         4.84848485,   4.94949495,   5.05050505,   5.15151515,\n",
      "         5.25252525,   5.35353535,   5.45454545,   5.55555556,\n",
      "         5.65656566,   5.75757576,   5.85858586,   5.95959596,\n",
      "         6.06060606,   6.16161616,   6.26262626,   6.36363636,\n",
      "         6.46464646,   6.56565657,   6.66666667,   6.76767677,\n",
      "         6.86868687,   6.96969697,   7.07070707,   7.17171717,\n",
      "         7.27272727,   7.37373737,   7.47474747,   7.57575758,\n",
      "         7.67676768,   7.77777778,   7.87878788,   7.97979798,\n",
      "         8.08080808,   8.18181818,   8.28282828,   8.38383838,\n",
      "         8.48484848,   8.58585859,   8.68686869,   8.78787879,\n",
      "         8.88888889,   8.98989899,   9.09090909,   9.19191919,\n",
      "         9.29292929,   9.39393939,   9.49494949,   9.5959596 ,\n",
      "         9.6969697 ,   9.7979798 ,   9.8989899 ,  10.        ]),\n",
      "    'wave_data_folder': None}\n",
      "2016-12-18 16:21:22,450 - INFO - dtocean_hydro.input - --> SITE INPUT SUMMARY:\n",
      "\n",
      "{   'BR': 1.0,\n",
      "    'Bathymetry': array([[  1.01000000e+05,   0.00000000e+00,  -5.00000000e+01],\n",
      "       [  1.01010000e+05,   0.00000000e+00,  -5.00000000e+01],\n",
      "       [  1.01020000e+05,   0.00000000e+00,  -5.00000000e+01],\n",
      "       ..., \n",
      "       [  1.01980000e+05,   2.50000000e+03,  -5.00000000e+01],\n",
      "       [  1.01990000e+05,   2.50000000e+03,  -5.00000000e+01],\n",
      "       [  1.02000000e+05,   2.50000000e+03,  -5.00000000e+01]]),\n",
      "    'Geophysics': array([[  1.01000000e+05,   0.00000000e+00,   3.00000000e-01],\n",
      "       [  1.01010000e+05,   0.00000000e+00,   3.00000000e-01],\n",
      "       [  1.01020000e+05,   0.00000000e+00,   3.00000000e-01],\n",
      "       ..., \n",
      "       [  1.01980000e+05,   2.50000000e+03,   3.00000000e-01],\n",
      "       [  1.01990000e+05,   2.50000000e+03,   3.00000000e-01],\n",
      "       [  1.02000000e+05,   2.50000000e+03,   3.00000000e-01]]),\n",
      "    'LeaseArea': array([[ 102000.,       0.],\n",
      "       [ 101000.,       0.],\n",
      "       [ 101000.,    2500.],\n",
      "       [ 102000.,    2500.],\n",
      "       [ 102000.,       0.]]),\n",
      "    'Main_Direction': array([ 0.        ,  5.06017942]),\n",
      "    'MeteoceanConditions': {   'SSH': array([[[  0.00000000e+00,  -4.90132427e-16,   2.64343021e-01,\n",
      "           4.51262120e-01,  -6.20096173e-01,   8.43363236e-01],\n",
      "        [  0.00000000e+00,  -4.90132427e-16,   2.64343021e-01,\n",
      "           4.51262120e-01,  -6.20096173e-01,   8.43363236e-01],\n",
      "        [  0.00000000e+00,  -4.90132427e-16,   2.64343021e-01,\n",
      "           4.51262120e-01,  -6.20096173e-01,   8.43363236e-01],\n",
      "        ..., \n",
      "        [  0.00000000e+00,  -4.90132427e-16,   2.64343021e-01,\n",
      "           4.51262120e-01,  -6.20096173e-01,   8.43363236e-01],\n",
      "        [  0.00000000e+00,  -4.90132427e-16,   2.64343021e-01,\n",
      "           4.51262120e-01,  -6.20096173e-01,   8.43363236e-01],\n",
      "        [  0.00000000e+00,  -4.90132427e-16,   2.64343021e-01,\n",
      "           4.51262120e-01,  -6.20096173e-01,   8.43363236e-01]],\n",
      "\n",
      "       [[  0.00000000e+00,  -4.90132427e-16,   2.64343021e-01,\n",
      "           4.51262120e-01,  -6.20096173e-01,   8.43363236e-01],\n",
      "        [  0.00000000e+00,  -4.90132427e-16,   2.64343021e-01,\n",
      "           4.51262120e-01,  -6.20096173e-01,   8.43363236e-01],\n",
      "        [  0.00000000e+00,  -4.90132427e-16,   2.64343021e-01,\n",
      "           4.51262120e-01,  -6.20096173e-01,   8.43363236e-01],\n",
      "        ..., \n",
      "        [  0.00000000e+00,  -4.90132427e-16,   2.64343021e-01,\n",
      "           4.51262120e-01,  -6.20096173e-01,   8.43363236e-01],\n",
      "        [  0.00000000e+00,  -4.90132427e-16,   2.64343021e-01,\n",
      "           4.51262120e-01,  -6.20096173e-01,   8.43363236e-01],\n",
      "        [  0.00000000e+00,  -4.90132427e-16,   2.64343021e-01,\n",
      "           4.51262120e-01,  -6.20096173e-01,   8.43363236e-01]],\n",
      "\n",
      "       [[  0.00000000e+00,  -4.90132427e-16,   2.64343021e-01,\n",
      "           4.51262120e-01,  -6.20096173e-01,   8.43363236e-01],\n",
      "        [  0.00000000e+00,  -4.90132427e-16,   2.64343021e-01,\n",
      "           4.51262120e-01,  -6.20096173e-01,   8.43363236e-01],\n",
      "        [  0.00000000e+00,  -4.90132427e-16,   2.64343021e-01,\n",
      "           4.51262120e-01,  -6.20096173e-01,   8.43363236e-01],\n",
      "        ..., \n",
      "        [  0.00000000e+00,  -4.90132427e-16,   2.64343021e-01,\n",
      "           4.51262120e-01,  -6.20096173e-01,   8.43363236e-01],\n",
      "        [  0.00000000e+00,  -4.90132427e-16,   2.64343021e-01,\n",
      "           4.51262120e-01,  -6.20096173e-01,   8.43363236e-01],\n",
      "        [  0.00000000e+00,  -4.90132427e-16,   2.64343021e-01,\n",
      "           4.51262120e-01,  -6.20096173e-01,   8.43363236e-01]],\n",
      "\n",
      "       ..., \n",
      "       [[  0.00000000e+00,  -4.90132427e-16,   2.64343021e-01,\n",
      "           4.51262120e-01,  -6.20096173e-01,   8.43363236e-01],\n",
      "        [  0.00000000e+00,  -4.90132427e-16,   2.64343021e-01,\n",
      "           4.51262120e-01,  -6.20096173e-01,   8.43363236e-01],\n",
      "        [  0.00000000e+00,  -4.90132427e-16,   2.64343021e-01,\n",
      "           4.51262120e-01,  -6.20096173e-01,   8.43363236e-01],\n",
      "        ..., \n",
      "        [  0.00000000e+00,  -4.90132427e-16,   2.64343021e-01,\n",
      "           4.51262120e-01,  -6.20096173e-01,   8.43363236e-01],\n",
      "        [  0.00000000e+00,  -4.90132427e-16,   2.64343021e-01,\n",
      "           4.51262120e-01,  -6.20096173e-01,   8.43363236e-01],\n",
      "        [  0.00000000e+00,  -4.90132427e-16,   2.64343021e-01,\n",
      "           4.51262120e-01,  -6.20096173e-01,   8.43363236e-01]],\n",
      "\n",
      "       [[  0.00000000e+00,  -4.90132427e-16,   2.64343021e-01,\n",
      "           4.51262120e-01,  -6.20096173e-01,   8.43363236e-01],\n",
      "        [  0.00000000e+00,  -4.90132427e-16,   2.64343021e-01,\n",
      "           4.51262120e-01,  -6.20096173e-01,   8.43363236e-01],\n",
      "        [  0.00000000e+00,  -4.90132427e-16,   2.64343021e-01,\n",
      "           4.51262120e-01,  -6.20096173e-01,   8.43363236e-01],\n",
      "        ..., \n",
      "        [  0.00000000e+00,  -4.90132427e-16,   2.64343021e-01,\n",
      "           4.51262120e-01,  -6.20096173e-01,   8.43363236e-01],\n",
      "        [  0.00000000e+00,  -4.90132427e-16,   2.64343021e-01,\n",
      "           4.51262120e-01,  -6.20096173e-01,   8.43363236e-01],\n",
      "        [  0.00000000e+00,  -4.90132427e-16,   2.64343021e-01,\n",
      "           4.51262120e-01,  -6.20096173e-01,   8.43363236e-01]],\n",
      "\n",
      "       [[  0.00000000e+00,  -4.90132427e-16,   2.64343021e-01,\n",
      "           4.51262120e-01,  -6.20096173e-01,   8.43363236e-01],\n",
      "        [  0.00000000e+00,  -4.90132427e-16,   2.64343021e-01,\n",
      "           4.51262120e-01,  -6.20096173e-01,   8.43363236e-01],\n",
      "        [  0.00000000e+00,  -4.90132427e-16,   2.64343021e-01,\n",
      "           4.51262120e-01,  -6.20096173e-01,   8.43363236e-01],\n",
      "        ..., \n",
      "        [  0.00000000e+00,  -4.90132427e-16,   2.64343021e-01,\n",
      "           4.51262120e-01,  -6.20096173e-01,   8.43363236e-01],\n",
      "        [  0.00000000e+00,  -4.90132427e-16,   2.64343021e-01,\n",
      "           4.51262120e-01,  -6.20096173e-01,   8.43363236e-01],\n",
      "        [  0.00000000e+00,  -4.90132427e-16,   2.64343021e-01,\n",
      "           4.51262120e-01,  -6.20096173e-01,   8.43363236e-01]]]),\n",
      "                               'TI': array([[[ 0.1,  0.1,  0.1,  0.1,  0.1,  0.1],\n",
      "        [ 0.1,  0.1,  0.1,  0.1,  0.1,  0.1],\n",
      "        [ 0.1,  0.1,  0.1,  0.1,  0.1,  0.1],\n",
      "        ..., \n",
      "        [ 0.1,  0.1,  0.1,  0.1,  0.1,  0.1],\n",
      "        [ 0.1,  0.1,  0.1,  0.1,  0.1,  0.1],\n",
      "        [ 0.1,  0.1,  0.1,  0.1,  0.1,  0.1]],\n",
      "\n",
      "       [[ 0.1,  0.1,  0.1,  0.1,  0.1,  0.1],\n",
      "        [ 0.1,  0.1,  0.1,  0.1,  0.1,  0.1],\n",
      "        [ 0.1,  0.1,  0.1,  0.1,  0.1,  0.1],\n",
      "        ..., \n",
      "        [ 0.1,  0.1,  0.1,  0.1,  0.1,  0.1],\n",
      "        [ 0.1,  0.1,  0.1,  0.1,  0.1,  0.1],\n",
      "        [ 0.1,  0.1,  0.1,  0.1,  0.1,  0.1]],\n",
      "\n",
      "       [[ 0.1,  0.1,  0.1,  0.1,  0.1,  0.1],\n",
      "        [ 0.1,  0.1,  0.1,  0.1,  0.1,  0.1],\n",
      "        [ 0.1,  0.1,  0.1,  0.1,  0.1,  0.1],\n",
      "        ..., \n",
      "        [ 0.1,  0.1,  0.1,  0.1,  0.1,  0.1],\n",
      "        [ 0.1,  0.1,  0.1,  0.1,  0.1,  0.1],\n",
      "        [ 0.1,  0.1,  0.1,  0.1,  0.1,  0.1]],\n",
      "\n",
      "       ..., \n",
      "       [[ 0.1,  0.1,  0.1,  0.1,  0.1,  0.1],\n",
      "        [ 0.1,  0.1,  0.1,  0.1,  0.1,  0.1],\n",
      "        [ 0.1,  0.1,  0.1,  0.1,  0.1,  0.1],\n",
      "        ..., \n",
      "        [ 0.1,  0.1,  0.1,  0.1,  0.1,  0.1],\n",
      "        [ 0.1,  0.1,  0.1,  0.1,  0.1,  0.1],\n",
      "        [ 0.1,  0.1,  0.1,  0.1,  0.1,  0.1]],\n",
      "\n",
      "       [[ 0.1,  0.1,  0.1,  0.1,  0.1,  0.1],\n",
      "        [ 0.1,  0.1,  0.1,  0.1,  0.1,  0.1],\n",
      "        [ 0.1,  0.1,  0.1,  0.1,  0.1,  0.1],\n",
      "        ..., \n",
      "        [ 0.1,  0.1,  0.1,  0.1,  0.1,  0.1],\n",
      "        [ 0.1,  0.1,  0.1,  0.1,  0.1,  0.1],\n",
      "        [ 0.1,  0.1,  0.1,  0.1,  0.1,  0.1]],\n",
      "\n",
      "       [[ 0.1,  0.1,  0.1,  0.1,  0.1,  0.1],\n",
      "        [ 0.1,  0.1,  0.1,  0.1,  0.1,  0.1],\n",
      "        [ 0.1,  0.1,  0.1,  0.1,  0.1,  0.1],\n",
      "        ..., \n",
      "        [ 0.1,  0.1,  0.1,  0.1,  0.1,  0.1],\n",
      "        [ 0.1,  0.1,  0.1,  0.1,  0.1,  0.1],\n",
      "        [ 0.1,  0.1,  0.1,  0.1,  0.1,  0.1]]]),\n",
      "                               'U': array([[[ 0.,  0.,  0.,  0.,  0.,  0.],\n",
      "        [ 0.,  0.,  0.,  0.,  0.,  0.],\n",
      "        [ 0.,  0.,  0.,  0.,  0.,  0.],\n",
      "        ..., \n",
      "        [ 0.,  0.,  0.,  0.,  0.,  0.],\n",
      "        [ 0.,  0.,  0.,  0.,  0.,  0.],\n",
      "        [ 0.,  0.,  0.,  0.,  0.,  0.]],\n",
      "\n",
      "       [[ 0.,  0.,  0.,  0.,  0.,  0.],\n",
      "        [ 0.,  0.,  0.,  0.,  0.,  0.],\n",
      "        [ 0.,  0.,  0.,  0.,  0.,  0.],\n",
      "        ..., \n",
      "        [ 0.,  0.,  0.,  0.,  0.,  0.],\n",
      "        [ 0.,  0.,  0.,  0.,  0.,  0.],\n",
      "        [ 0.,  0.,  0.,  0.,  0.,  0.]],\n",
      "\n",
      "       [[ 0.,  0.,  0.,  0.,  0.,  0.],\n",
      "        [ 0.,  0.,  0.,  0.,  0.,  0.],\n",
      "        [ 0.,  0.,  0.,  0.,  0.,  0.],\n",
      "        ..., \n",
      "        [ 0.,  0.,  0.,  0.,  0.,  0.],\n",
      "        [ 0.,  0.,  0.,  0.,  0.,  0.],\n",
      "        [ 0.,  0.,  0.,  0.,  0.,  0.]],\n",
      "\n",
      "       ..., \n",
      "       [[ 0.,  0.,  0.,  0.,  0.,  0.],\n",
      "        [ 0.,  0.,  0.,  0.,  0.,  0.],\n",
      "        [ 0.,  0.,  0.,  0.,  0.,  0.],\n",
      "        ..., \n",
      "        [ 0.,  0.,  0.,  0.,  0.,  0.],\n",
      "        [ 0.,  0.,  0.,  0.,  0.,  0.],\n",
      "        [ 0.,  0.,  0.,  0.,  0.,  0.]],\n",
      "\n",
      "       [[ 0.,  0.,  0.,  0.,  0.,  0.],\n",
      "        [ 0.,  0.,  0.,  0.,  0.,  0.],\n",
      "        [ 0.,  0.,  0.,  0.,  0.,  0.],\n",
      "        ..., \n",
      "        [ 0.,  0.,  0.,  0.,  0.,  0.],\n",
      "        [ 0.,  0.,  0.,  0.,  0.,  0.],\n",
      "        [ 0.,  0.,  0.,  0.,  0.,  0.]],\n",
      "\n",
      "       [[ 0.,  0.,  0.,  0.,  0.,  0.],\n",
      "        [ 0.,  0.,  0.,  0.,  0.,  0.],\n",
      "        [ 0.,  0.,  0.,  0.,  0.,  0.],\n",
      "        ..., \n",
      "        [ 0.,  0.,  0.,  0.,  0.,  0.],\n",
      "        [ 0.,  0.,  0.,  0.,  0.,  0.],\n",
      "        [ 0.,  0.,  0.,  0.,  0.,  0.]]]),\n",
      "                               'V': array([[[  0.00000000e+00,   2.94079456e-15,   1.58605812e+00,\n",
      "           2.70757272e+00,   3.72057704e+00,   5.06017942e+00],\n",
      "        [  0.00000000e+00,   2.94079456e-15,   1.58605812e+00,\n",
      "           2.70757272e+00,   3.72057704e+00,   5.06017942e+00],\n",
      "        [  0.00000000e+00,   2.94079456e-15,   1.58605812e+00,\n",
      "           2.70757272e+00,   3.72057704e+00,   5.06017942e+00],\n",
      "        ..., \n",
      "        [  0.00000000e+00,   2.94079456e-15,   1.58605812e+00,\n",
      "           2.70757272e+00,   3.72057704e+00,   5.06017942e+00],\n",
      "        [  0.00000000e+00,   2.94079456e-15,   1.58605812e+00,\n",
      "           2.70757272e+00,   3.72057704e+00,   5.06017942e+00],\n",
      "        [  0.00000000e+00,   2.94079456e-15,   1.58605812e+00,\n",
      "           2.70757272e+00,   3.72057704e+00,   5.06017942e+00]],\n",
      "\n",
      "       [[  0.00000000e+00,   2.94079456e-15,   1.58605812e+00,\n",
      "           2.70757272e+00,   3.72057704e+00,   5.06017942e+00],\n",
      "        [  0.00000000e+00,   2.94079456e-15,   1.58605812e+00,\n",
      "           2.70757272e+00,   3.72057704e+00,   5.06017942e+00],\n",
      "        [  0.00000000e+00,   2.94079456e-15,   1.58605812e+00,\n",
      "           2.70757272e+00,   3.72057704e+00,   5.06017942e+00],\n",
      "        ..., \n",
      "        [  0.00000000e+00,   2.94079456e-15,   1.58605812e+00,\n",
      "           2.70757272e+00,   3.72057704e+00,   5.06017942e+00],\n",
      "        [  0.00000000e+00,   2.94079456e-15,   1.58605812e+00,\n",
      "           2.70757272e+00,   3.72057704e+00,   5.06017942e+00],\n",
      "        [  0.00000000e+00,   2.94079456e-15,   1.58605812e+00,\n",
      "           2.70757272e+00,   3.72057704e+00,   5.06017942e+00]],\n",
      "\n",
      "       [[  0.00000000e+00,   2.94079456e-15,   1.58605812e+00,\n",
      "           2.70757272e+00,   3.72057704e+00,   5.06017942e+00],\n",
      "        [  0.00000000e+00,   2.94079456e-15,   1.58605812e+00,\n",
      "           2.70757272e+00,   3.72057704e+00,   5.06017942e+00],\n",
      "        [  0.00000000e+00,   2.94079456e-15,   1.58605812e+00,\n",
      "           2.70757272e+00,   3.72057704e+00,   5.06017942e+00],\n",
      "        ..., \n",
      "        [  0.00000000e+00,   2.94079456e-15,   1.58605812e+00,\n",
      "           2.70757272e+00,   3.72057704e+00,   5.06017942e+00],\n",
      "        [  0.00000000e+00,   2.94079456e-15,   1.58605812e+00,\n",
      "           2.70757272e+00,   3.72057704e+00,   5.06017942e+00],\n",
      "        [  0.00000000e+00,   2.94079456e-15,   1.58605812e+00,\n",
      "           2.70757272e+00,   3.72057704e+00,   5.06017942e+00]],\n",
      "\n",
      "       ..., \n",
      "       [[  0.00000000e+00,   2.94079456e-15,   1.58605812e+00,\n",
      "           2.70757272e+00,   3.72057704e+00,   5.06017942e+00],\n",
      "        [  0.00000000e+00,   2.94079456e-15,   1.58605812e+00,\n",
      "           2.70757272e+00,   3.72057704e+00,   5.06017942e+00],\n",
      "        [  0.00000000e+00,   2.94079456e-15,   1.58605812e+00,\n",
      "           2.70757272e+00,   3.72057704e+00,   5.06017942e+00],\n",
      "        ..., \n",
      "        [  0.00000000e+00,   2.94079456e-15,   1.58605812e+00,\n",
      "           2.70757272e+00,   3.72057704e+00,   5.06017942e+00],\n",
      "        [  0.00000000e+00,   2.94079456e-15,   1.58605812e+00,\n",
      "           2.70757272e+00,   3.72057704e+00,   5.06017942e+00],\n",
      "        [  0.00000000e+00,   2.94079456e-15,   1.58605812e+00,\n",
      "           2.70757272e+00,   3.72057704e+00,   5.06017942e+00]],\n",
      "\n",
      "       [[  0.00000000e+00,   2.94079456e-15,   1.58605812e+00,\n",
      "           2.70757272e+00,   3.72057704e+00,   5.06017942e+00],\n",
      "        [  0.00000000e+00,   2.94079456e-15,   1.58605812e+00,\n",
      "           2.70757272e+00,   3.72057704e+00,   5.06017942e+00],\n",
      "        [  0.00000000e+00,   2.94079456e-15,   1.58605812e+00,\n",
      "           2.70757272e+00,   3.72057704e+00,   5.06017942e+00],\n",
      "        ..., \n",
      "        [  0.00000000e+00,   2.94079456e-15,   1.58605812e+00,\n",
      "           2.70757272e+00,   3.72057704e+00,   5.06017942e+00],\n",
      "        [  0.00000000e+00,   2.94079456e-15,   1.58605812e+00,\n",
      "           2.70757272e+00,   3.72057704e+00,   5.06017942e+00],\n",
      "        [  0.00000000e+00,   2.94079456e-15,   1.58605812e+00,\n",
      "           2.70757272e+00,   3.72057704e+00,   5.06017942e+00]],\n",
      "\n",
      "       [[  0.00000000e+00,   2.94079456e-15,   1.58605812e+00,\n",
      "           2.70757272e+00,   3.72057704e+00,   5.06017942e+00],\n",
      "        [  0.00000000e+00,   2.94079456e-15,   1.58605812e+00,\n",
      "           2.70757272e+00,   3.72057704e+00,   5.06017942e+00],\n",
      "        [  0.00000000e+00,   2.94079456e-15,   1.58605812e+00,\n",
      "           2.70757272e+00,   3.72057704e+00,   5.06017942e+00],\n",
      "        ..., \n",
      "        [  0.00000000e+00,   2.94079456e-15,   1.58605812e+00,\n",
      "           2.70757272e+00,   3.72057704e+00,   5.06017942e+00],\n",
      "        [  0.00000000e+00,   2.94079456e-15,   1.58605812e+00,\n",
      "           2.70757272e+00,   3.72057704e+00,   5.06017942e+00],\n",
      "        [  0.00000000e+00,   2.94079456e-15,   1.58605812e+00,\n",
      "           2.70757272e+00,   3.72057704e+00,   5.06017942e+00]]]),\n",
      "                               'ns': 6,\n",
      "                               'p': array([ 0.08333333,  0.125     ,  0.125     ,  0.16666667,  0.20833333,\n",
      "        0.29166667]),\n",
      "                               't': array([ 0.        ,  1.        ,  0.0212766 ,  0.21276596,  0.44680851,\n",
      "        0.17021277]),\n",
      "                               'x': array([ 101000.,  101010.,  101020.,  101030.,  101040.,  101050.,\n",
      "        101060.,  101070.,  101080.,  101090.,  101100.,  101110.,\n",
      "        101120.,  101130.,  101140.,  101150.,  101160.,  101170.,\n",
      "        101180.,  101190.,  101200.,  101210.,  101220.,  101230.,\n",
      "        101240.,  101250.,  101260.,  101270.,  101280.,  101290.,\n",
      "        101300.,  101310.,  101320.,  101330.,  101340.,  101350.,\n",
      "        101360.,  101370.,  101380.,  101390.,  101400.,  101410.,\n",
      "        101420.,  101430.,  101440.,  101450.,  101460.,  101470.,\n",
      "        101480.,  101490.,  101500.,  101510.,  101520.,  101530.,\n",
      "        101540.,  101550.,  101560.,  101570.,  101580.,  101590.,\n",
      "        101600.,  101610.,  101620.,  101630.,  101640.,  101650.,\n",
      "        101660.,  101670.,  101680.,  101690.,  101700.,  101710.,\n",
      "        101720.,  101730.,  101740.,  101750.,  101760.,  101770.,\n",
      "        101780.,  101790.,  101800.,  101810.,  101820.,  101830.,\n",
      "        101840.,  101850.,  101860.,  101870.,  101880.,  101890.,\n",
      "        101900.,  101910.,  101920.,  101930.,  101940.,  101950.,\n",
      "        101960.,  101970.,  101980.,  101990.,  102000.]),\n",
      "                               'y': array([    0.,    10.,    20.,    30.,    40.,    50.,    60.,    70.,\n",
      "          80.,    90.,   100.,   110.,   120.,   130.,   140.,   150.,\n",
      "         160.,   170.,   180.,   190.,   200.,   210.,   220.,   230.,\n",
      "         240.,   250.,   260.,   270.,   280.,   290.,   300.,   310.,\n",
      "         320.,   330.,   340.,   350.,   360.,   370.,   380.,   390.,\n",
      "         400.,   410.,   420.,   430.,   440.,   450.,   460.,   470.,\n",
      "         480.,   490.,   500.,   510.,   520.,   530.,   540.,   550.,\n",
      "         560.,   570.,   580.,   590.,   600.,   610.,   620.,   630.,\n",
      "         640.,   650.,   660.,   670.,   680.,   690.,   700.,   710.,\n",
      "         720.,   730.,   740.,   750.,   760.,   770.,   780.,   790.,\n",
      "         800.,   810.,   820.,   830.,   840.,   850.,   860.,   870.,\n",
      "         880.,   890.,   900.,   910.,   920.,   930.,   940.,   950.,\n",
      "         960.,   970.,   980.,   990.,  1000.,  1010.,  1020.,  1030.,\n",
      "        1040.,  1050.,  1060.,  1070.,  1080.,  1090.,  1100.,  1110.,\n",
      "        1120.,  1130.,  1140.,  1150.,  1160.,  1170.,  1180.,  1190.,\n",
      "        1200.,  1210.,  1220.,  1230.,  1240.,  1250.,  1260.,  1270.,\n",
      "        1280.,  1290.,  1300.,  1310.,  1320.,  1330.,  1340.,  1350.,\n",
      "        1360.,  1370.,  1380.,  1390.,  1400.,  1410.,  1420.,  1430.,\n",
      "        1440.,  1450.,  1460.,  1470.,  1480.,  1490.,  1500.,  1510.,\n",
      "        1520.,  1530.,  1540.,  1550.,  1560.,  1570.,  1580.,  1590.,\n",
      "        1600.,  1610.,  1620.,  1630.,  1640.,  1650.,  1660.,  1670.,\n",
      "        1680.,  1690.,  1700.,  1710.,  1720.,  1730.,  1740.,  1750.,\n",
      "        1760.,  1770.,  1780.,  1790.,  1800.,  1810.,  1820.,  1830.,\n",
      "        1840.,  1850.,  1860.,  1870.,  1880.,  1890.,  1900.,  1910.,\n",
      "        1920.,  1930.,  1940.,  1950.,  1960.,  1970.,  1980.,  1990.,\n",
      "        2000.,  2010.,  2020.,  2030.,  2040.,  2050.,  2060.,  2070.,\n",
      "        2080.,  2090.,  2100.,  2110.,  2120.,  2130.,  2140.,  2150.,\n",
      "        2160.,  2170.,  2180.,  2190.,  2200.,  2210.,  2220.,  2230.,\n",
      "        2240.,  2250.,  2260.,  2270.,  2280.,  2290.,  2300.,  2310.,\n",
      "        2320.,  2330.,  2340.,  2350.,  2360.,  2370.,  2380.,  2390.,\n",
      "        2400.,  2410.,  2420.,  2430.,  2440.,  2450.,  2460.,  2470.,\n",
      "        2480.,  2490.,  2500.])},\n",
      "    'NogoAreas': None,\n",
      "    'NogoAreas_bathymetry': None,\n",
      "    'VelocityShear': 7.0,\n",
      "    '_LeaseArea': array([[ 102000.,       0.],\n",
      "       [ 101000.,       0.],\n",
      "       [ 101000.,    2500.],\n",
      "       [ 102000.,    2500.],\n",
      "       [ 102000.,       0.]]),\n",
      "    'boundary_padding': None,\n",
      "    'electrical_connection_point': array([ 100000.,    1250.]),\n",
      "    'mainAngle': 1.5707963267948966}\n",
      "2016-12-18 16:21:23,655 - INFO - dtocean_hydro.main - Finishing the WP2 task: Evaluation of the final array layout interaction\n",
      "2016-12-18 16:21:30,111 - INFO - dtocean_hydro.output - \n",
      "\n",
      "2016-12-18 16:21:30,111 - INFO - dtocean_hydro.output - Results Summary\n",
      "2016-12-18 16:21:30,114 - INFO - dtocean_hydro.output - -----------------------------------\n",
      "\n",
      "2016-12-18 16:21:30,115 - INFO - dtocean_hydro.output - Annual Energy Production of the Array\n",
      "2016-12-18 16:21:30,118 - INFO - dtocean_hydro.output - 55922626790.3\n",
      "2016-12-18 16:21:30,121 - INFO - dtocean_hydro.output - Annual Energy Production of each device\n",
      "2016-12-18 16:21:30,122 - INFO - dtocean_hydro.output - Device listed with ascending ID from 0 to Nbody-1\n",
      "2016-12-18 16:21:30,124 - INFO - dtocean_hydro.output - [  1.11845254e+10   1.11845254e+10   1.11845254e+10   1.11845254e+10\n",
      "   1.11845254e+10]\n",
      "2016-12-18 16:21:30,128 - INFO - dtocean_hydro.output - Array Layout\n",
      "2016-12-18 16:21:30,128 - INFO - dtocean_hydro.output - {'Device001': [101250.0, 500.0],\n",
      " 'Device002': [101750.0, 500.0],\n",
      " 'Device003': [101500.0, 1250.0],\n",
      " 'Device004': [101250.0, 2000.0],\n",
      " 'Device005': [101750.0, 2000.0]}\n",
      "2016-12-18 16:21:30,130 - INFO - dtocean_hydro.output - q-factor of the array\n",
      "2016-12-18 16:21:30,131 - INFO - dtocean_hydro.output - 1.0\n",
      "2016-12-18 16:21:30,137 - INFO - dtocean_hydro.output - q-factor of each device\n",
      "2016-12-18 16:21:30,138 - INFO - dtocean_hydro.output - Device listed with ascending ID from 0 to Nbody-1\n",
      "2016-12-18 16:21:30,138 - INFO - dtocean_hydro.output - [ 1.  1.  1.  1.  1.]\n",
      "2016-12-18 16:21:30,144 - INFO - dtocean_hydro.output - Max (normalised) resource reduction\n",
      "2016-12-18 16:21:30,144 - INFO - dtocean_hydro.output - nan\n",
      "2016-12-18 16:21:30,144 - INFO - dtocean_hydro.output - Mean power production of each device for each sea state\n",
      "2016-12-18 16:21:30,145 - INFO - dtocean_hydro.output - Device listed with ascending ID from 0 to Nbody-1\n",
      "2016-12-18 16:21:30,148 - INFO - dtocean_hydro.output - For an array of WECs the sea state are flattened in this order wave period, wave height and wave direction\n",
      "2016-12-18 16:21:30,148 - INFO - dtocean_hydro.output - [[       0.                0.            87059.10934613  1223466.11487798\n",
      "   5097498.68800267        0.        ]\n",
      " [       0.                0.            87059.10934613  1223466.11487798\n",
      "   5097498.68800267        0.        ]\n",
      " [       0.                0.            87059.10934613  1223466.11487798\n",
      "   5097498.68800267        0.        ]\n",
      " [       0.                0.            87059.10934613  1223466.11487798\n",
      "   5097498.68800267        0.        ]\n",
      " [       0.                0.            87059.10934613  1223466.11487798\n",
      "   5097498.68800267        0.        ]]\n",
      "2016-12-18 16:21:30,154 - INFO - dtocean_hydro.output - f_ex dictionary\n",
      "2016-12-18 16:21:30,154 - INFO - dtocean_hydro.output - None\n",
      "2016-12-18 16:21:30,155 - INFO - dtocean_hydro.output - Power matrix\n",
      "2016-12-18 16:21:30,155 - INFO - dtocean_hydro.output - None\n",
      "2016-12-18 16:21:30,157 - INFO - dtocean_hydro.output - Main Direction\n",
      "2016-12-18 16:21:30,157 - INFO - dtocean_hydro.output - [ 0.  1.]\n",
      "2016-12-18 16:21:30,232 - INFO - aneris.control.data - New \"farm.annual_energy\" data stored with index O6MW1L\n",
      "2016-12-18 16:21:30,233 - INFO - aneris.control.data - New \"farm.annual_energy_per_device\" data stored with index 9E8RB8\n",
      "2016-12-18 16:21:30,236 - INFO - aneris.control.data - New \"farm.layout\" data stored with index ZBVB9G\n",
      "2016-12-18 16:21:30,237 - INFO - aneris.control.data - New \"farm.main_direction\" data stored with index LPAZDX\n",
      "2016-12-18 16:21:30,239 - INFO - aneris.control.data - New \"farm.mean_power_per_device\" data stored with index 8QUZJB\n",
      "2016-12-18 16:21:30,240 - INFO - aneris.control.data - New \"farm.mean_power_pmf_per_device\" data stored with index LUJP7F\n",
      "2016-12-18 16:21:30,242 - INFO - aneris.control.data - New \"farm.mean_power_hist_per_device\" data stored with index OGI681\n",
      "2016-12-18 16:21:30,243 - INFO - aneris.control.data - New \"farm.number_of_devices\" data stored with index P5V9IK\n",
      "2016-12-18 16:21:30,244 - INFO - aneris.control.data - New \"farm.q_factor\" data stored with index PAV75V\n",
      "2016-12-18 16:21:30,246 - INFO - aneris.control.data - New \"farm.q_factor_per_device\" data stored with index FXEHST\n",
      "2016-12-18 16:21:30,247 - INFO - aneris.control.data - New \"farm.resource_reduction\" data stored with index F3UBGV\n",
      "2016-12-18 16:21:30,253 - INFO - aneris.control.data - New \"farm.tidal_occurrence\" data stored with index 5OZZG9\n",
      "2016-12-18 16:21:30,256 - INFO - aneris.control.simulation - Datastate with level \"hydrodynamics output\" stored\n",
      "2016-12-18 16:21:30,312 - INFO - dtocean_core.core - Auto executing interface Economics\n",
      "2016-12-18 16:21:30,322 - INFO - aneris.control.data - New \"project.lcoe\" data stored with index WFB3FU\n",
      "2016-12-18 16:21:30,323 - INFO - aneris.control.data - New \"project.capex_lcoe\" data stored with index VVK58E\n",
      "2016-12-18 16:21:30,325 - INFO - aneris.control.data - New \"project.opex_lcoe\" data stored with index J8HL14\n",
      "2016-12-18 16:21:30,325 - INFO - aneris.control.data - New \"project.cost_breakdown\" data stored with index PI67FP\n",
      "2016-12-18 16:21:30,326 - INFO - aneris.control.data - New \"project.capex_total\" data stored with index SDDPIE\n",
      "2016-12-18 16:21:30,328 - INFO - aneris.control.data - New \"project.discounted_capex\" data stored with index 6OMA3P\n",
      "2016-12-18 16:21:30,329 - INFO - aneris.control.data - New \"project.capex_breakdown\" data stored with index K29A3X\n",
      "2016-12-18 16:21:30,331 - INFO - aneris.control.data - New \"project.opex_total\" data stored with index RZ2MO9\n",
      "2016-12-18 16:21:30,332 - INFO - aneris.control.data - New \"project.discounted_opex\" data stored with index 2FQ9HB\n",
      "2016-12-18 16:21:30,334 - INFO - aneris.control.data - New \"project.discounted_energy\" data stored with index CN23MN\n",
      "2016-12-18 16:21:30,335 - INFO - aneris.control.simulation - Datastate with level \"hydrodynamics local output\" stored\n",
      "2016-12-18 16:21:30,428 - INFO - dtocean_core.core - Auto executing interface Economics\n",
      "2016-12-18 16:21:30,437 - INFO - aneris.control.data - New \"project.lcoe\" data stored with index DB8QPG\n",
      "2016-12-18 16:21:30,437 - INFO - aneris.control.data - New \"project.capex_lcoe\" data stored with index 65TKXF\n",
      "2016-12-18 16:21:30,440 - INFO - aneris.control.data - New \"project.opex_lcoe\" data stored with index 07NKTT\n",
      "2016-12-18 16:21:30,440 - INFO - aneris.control.data - New \"project.cost_breakdown\" data stored with index DWVD05\n",
      "2016-12-18 16:21:30,443 - INFO - aneris.control.data - New \"project.capex_total\" data stored with index FEWWSN\n",
      "2016-12-18 16:21:30,444 - INFO - aneris.control.data - New \"project.discounted_capex\" data stored with index YO5PVM\n",
      "2016-12-18 16:21:30,446 - INFO - aneris.control.data - New \"project.capex_breakdown\" data stored with index 2VMKCS\n",
      "2016-12-18 16:21:30,447 - INFO - aneris.control.data - New \"project.opex_total\" data stored with index IHUI4A\n",
      "2016-12-18 16:21:30,447 - INFO - aneris.control.data - New \"project.discounted_opex\" data stored with index GNPL6Z\n",
      "2016-12-18 16:21:30,448 - INFO - aneris.control.data - New \"project.discounted_energy\" data stored with index TBC9NC\n",
      "2016-12-18 16:21:30,450 - INFO - aneris.control.simulation - Datastate with level \"hydrodynamics global output\" stored\n",
      "2016-12-18 16:21:30,611 - INFO - aneris.control.simulation - Datastate with level \"electrical sub systems start\" stored\n",
      "2016-12-18 16:21:32,072 - INFO - dtocean_electrical.main - Begin main run...\n",
      "2016-12-18 16:21:32,072 - INFO - dtocean_electrical.grid.grid_processing - Merging bathymetry...\n",
      "2016-12-18 16:21:32,150 - INFO - dtocean_electrical.grid.grid_processing - Creating bathymetry grid points...\n",
      "2016-12-18 16:21:40,003 - INFO - dtocean_electrical.grid.grid_processing - Checking distance to neighbours...\n",
      "2016-12-18 16:21:44,927 - INFO - dtocean_electrical.grid.grid_processing - Checking gradient to neighbours...\n",
      "2016-12-18 16:21:46,760 - INFO - dtocean_electrical.grid.grid_processing - Building network graph...\n",
      "2016-12-18 16:21:47,470 - INFO - dtocean_electrical.grid.grid_processing - Checking for exclusion zones...\n",
      "2016-12-18 16:21:47,471 - INFO - dtocean_electrical.grid.grid_processing - Checking gradient constraints...\n",
      "2016-12-18 16:21:47,555 - INFO - dtocean_electrical.grid.grid_processing - Checking equipment soil compatibility...\n",
      "2016-12-18 16:21:51,204 - INFO - dtocean_electrical.grid.grid_processing - Constraints checked...\n",
      "2016-12-18 16:21:51,315 - INFO - dtocean_electrical.grid.grid_processing - Grid prepared...\n",
      "2016-12-18 16:21:52,125 - INFO - dtocean_electrical.main - Building network...\n",
      "2016-12-18 16:22:04,812 - INFO - dtocean_electrical.main - Checking cable routes for installation tool: Jetting.\n",
      "2016-12-18 16:22:32,953 - INFO - dtocean_electrical.main - Solution found for installation tool: Jetting.\n",
      "2016-12-18 16:22:32,954 - INFO - dtocean_electrical.main - Electrical network design complete...\n",
      "2016-12-18 16:22:33,181 - INFO - aneris.control.data - New \"farm.annual_energy\" data stored with index KFMECD\n",
      "2016-12-18 16:22:33,183 - INFO - aneris.control.data - New \"farm.array_efficiency\" data stored with index 5YIZCC\n",
      "2016-12-18 16:22:33,184 - INFO - aneris.control.data - New \"farm.electrical_network\" data stored with index 2SFZ5G\n",
      "2016-12-18 16:22:33,187 - INFO - aneris.control.data - New \"farm.electrical_component_data\" data stored with index ITJ5UF\n",
      "2016-12-18 16:22:33,190 - INFO - aneris.control.data - New \"farm.electrical_economics_data\" data stored with index ZGHK8P\n",
      "2016-12-18 16:22:33,191 - INFO - aneris.control.data - New \"farm.cable_routes\" data stored with index DTJL91\n",
      "2016-12-18 16:22:33,194 - INFO - aneris.control.data - New \"farm.substation_props\" data stored with index NPRJBA\n",
      "2016-12-18 16:22:33,196 - INFO - aneris.control.data - New \"farm.substation_layout\" data stored with index 5E82VO\n",
      "2016-12-18 16:22:33,197 - INFO - aneris.control.data - New \"farm.substation_cog\" data stored with index SGLNOM\n",
      "2016-12-18 16:22:33,198 - INFO - aneris.control.data - New \"farm.substation_foundation_location\" data stored with index ZMX59N\n",
      "2016-12-18 16:22:33,201 - INFO - aneris.control.data - New \"farm.selected_installation_tool\" data stored with index H2967G\n",
      "2016-12-18 16:22:33,203 - INFO - aneris.control.data - New \"farm.electrical_network_efficiency\" data stored with index 2ARC7J\n",
      "2016-12-18 16:22:33,203 - INFO - aneris.control.simulation - Datastate with level \"electrical sub systems output\" stored\n",
      "2016-12-18 16:22:33,257 - INFO - dtocean_core.core - Auto executing interface Economics\n",
      "2016-12-18 16:22:33,267 - INFO - aneris.control.data - New \"project.lcoe\" data stored with index VUYHQ3\n",
      "2016-12-18 16:22:33,269 - INFO - aneris.control.data - New \"project.capex_lcoe\" data stored with index 8K4UBG\n",
      "2016-12-18 16:22:33,270 - INFO - aneris.control.data - New \"project.opex_lcoe\" data stored with index YI9IIK\n",
      "2016-12-18 16:22:33,272 - INFO - aneris.control.data - New \"project.cost_breakdown\" data stored with index 1PK69Y\n",
      "2016-12-18 16:22:33,273 - INFO - aneris.control.data - New \"project.capex_total\" data stored with index 35J07U\n",
      "2016-12-18 16:22:33,275 - INFO - aneris.control.data - New \"project.discounted_capex\" data stored with index 0W5IP6\n",
      "2016-12-18 16:22:33,276 - INFO - aneris.control.data - New \"project.capex_breakdown\" data stored with index 5NPW53\n",
      "2016-12-18 16:22:33,276 - INFO - aneris.control.data - New \"project.opex_total\" data stored with index YZ6UTS\n",
      "2016-12-18 16:22:33,279 - INFO - aneris.control.data - New \"project.discounted_opex\" data stored with index I7K2U5\n",
      "2016-12-18 16:22:33,280 - INFO - aneris.control.data - New \"project.discounted_energy\" data stored with index VVMD99\n",
      "2016-12-18 16:22:33,280 - INFO - aneris.control.simulation - Datastate with level \"electrical sub systems local output\" stored\n",
      "2016-12-18 16:22:33,361 - INFO - dtocean_core.core - Auto executing interface Economics\n",
      "2016-12-18 16:22:33,372 - INFO - aneris.control.data - New \"project.lcoe\" data stored with index D8HX3L\n",
      "2016-12-18 16:22:33,374 - INFO - aneris.control.data - New \"project.capex_lcoe\" data stored with index JOID6G\n",
      "2016-12-18 16:22:33,375 - INFO - aneris.control.data - New \"project.opex_lcoe\" data stored with index UM0P1W\n",
      "2016-12-18 16:22:33,375 - INFO - aneris.control.data - New \"project.cost_breakdown\" data stored with index IO36ZU\n",
      "2016-12-18 16:22:33,377 - INFO - aneris.control.data - New \"project.capex_total\" data stored with index PEONOP\n",
      "2016-12-18 16:22:33,378 - INFO - aneris.control.data - New \"project.discounted_capex\" data stored with index IZMRY2\n",
      "2016-12-18 16:22:33,380 - INFO - aneris.control.data - New \"project.capex_breakdown\" data stored with index HNFKSW\n",
      "2016-12-18 16:22:33,381 - INFO - aneris.control.data - New \"project.opex_total\" data stored with index WER912\n",
      "2016-12-18 16:22:33,384 - INFO - aneris.control.data - New \"project.discounted_opex\" data stored with index 73FGAY\n",
      "2016-12-18 16:22:33,384 - INFO - aneris.control.data - New \"project.discounted_energy\" data stored with index 8QLKNB\n",
      "2016-12-18 16:22:33,385 - INFO - aneris.control.simulation - Datastate with level \"electrical sub systems global output\" stored\n",
      "2016-12-18 16:22:33,516 - INFO - aneris.control.simulation - Datastate with level \"mooring and foundations start\" stored\n",
      "2016-12-18 16:22:35,207 - INFO - dtocean_moorings.main - ===================================================================\n",
      "2016-12-18 16:22:35,207 - INFO - dtocean_moorings.main - Device ID: device001\n",
      "2016-12-18 16:22:35,210 - INFO - dtocean_moorings.main - ===================================================================\n",
      "2016-12-18 16:22:35,434 - INFO - dtocean_moorings.core - Foundation point coincides with grid line or grid point\n",
      "2016-12-18 16:22:35,605 - INFO - dtocean_moorings.core - Foundation point coincides with grid line or grid point\n",
      "2016-12-18 16:22:35,776 - INFO - dtocean_moorings.core - Foundation point coincides with grid line or grid point\n",
      "2016-12-18 16:22:35,947 - INFO - dtocean_moorings.core - Foundation point coincides with grid line or grid point\n",
      "2016-12-18 16:22:36,112 - INFO - dtocean_moorings.core - Foundation point coincides with grid line or grid point\n",
      "2016-12-18 16:22:36,178 - WARNING - dtocean_moorings.core - WARNING: Reynolds number out of range for drag coefficient data\n",
      "2016-12-18 16:22:36,180 - WARNING - dtocean_moorings.core - WARNING: Reynolds number out of range for drag coefficient data\n",
      "2016-12-18 16:22:36,180 - WARNING - dtocean_moorings.core - WARNING: Reynolds number out of range for drag coefficient data\n",
      "2016-12-18 16:22:36,183 - WARNING - dtocean_moorings.core - WARNING: Reynolds number out of range for drag coefficient data\n",
      "2016-12-18 16:22:36,184 - WARNING - dtocean_moorings.core - WARNING: Reynolds number out of range for drag coefficient data\n",
      "2016-12-18 16:22:36,187 - WARNING - dtocean_moorings.core - WARNING: Reynolds number out of range for drag coefficient data\n",
      "2016-12-18 16:22:36,187 - WARNING - dtocean_moorings.core - WARNING: Reynolds number out of range for drag coefficient data\n",
      "2016-12-18 16:22:36,188 - WARNING - dtocean_moorings.core - WARNING: Reynolds number out of range for drag coefficient data\n",
      "2016-12-18 16:22:36,190 - WARNING - dtocean_moorings.core - WARNING: Reynolds number out of range for drag coefficient data\n",
      "2016-12-18 16:22:36,193 - WARNING - dtocean_moorings.core - WARNING: Reynolds number out of range for drag coefficient data\n",
      "2016-12-18 16:22:36,194 - INFO - dtocean_moorings.core - \n",
      "WAMIT/NEMOH parameters not provided\n",
      "2016-12-18 16:22:36,352 - INFO - dtocean_moorings.core - Mass/viscous loads important, use Morison equation\n",
      "2016-12-18 16:22:36,358 - WARNING - dtocean_moorings.core - WARNING: Reynolds number out of range for drag coefficient data\n",
      "2016-12-18 16:22:36,372 - WARNING - dtocean_moorings.core - WARNING: Reynolds number out of range for drag coefficient data\n",
      "2016-12-18 16:22:36,385 - WARNING - dtocean_moorings.core - WARNING: Reynolds number out of range for drag coefficient data\n",
      "2016-12-18 16:22:36,397 - WARNING - dtocean_moorings.core - WARNING: Reynolds number out of range for drag coefficient data\n",
      "2016-12-18 16:22:36,407 - WARNING - dtocean_moorings.core - WARNING: Reynolds number out of range for drag coefficient data\n",
      "2016-12-18 16:22:36,421 - WARNING - dtocean_moorings.core - WARNING: Reynolds number out of range for drag coefficient data\n",
      "2016-12-18 16:22:36,434 - WARNING - dtocean_moorings.core - WARNING: Reynolds number out of range for drag coefficient data\n",
      "2016-12-18 16:22:36,444 - WARNING - dtocean_moorings.core - WARNING: Reynolds number out of range for drag coefficient data\n",
      "2016-12-18 16:22:36,456 - WARNING - dtocean_moorings.core - WARNING: Reynolds number out of range for drag coefficient data\n",
      "2016-12-18 16:22:36,467 - WARNING - dtocean_moorings.core - WARNING: Reynolds number out of range for drag coefficient data\n",
      "2016-12-18 16:22:36,483 - WARNING - dtocean_moorings.core - WARNING: Reynolds number out of range for drag coefficient data\n",
      "2016-12-18 16:22:36,483 - WARNING - dtocean_moorings.core - WARNING: Reynolds number out of range for drag coefficient data\n",
      "2016-12-18 16:22:36,484 - WARNING - dtocean_moorings.core - WARNING: Reynolds number out of range for drag coefficient data\n",
      "2016-12-18 16:22:36,486 - WARNING - dtocean_moorings.core - WARNING: Reynolds number out of range for drag coefficient data\n",
      "2016-12-18 16:22:36,486 - WARNING - dtocean_moorings.core - WARNING: Reynolds number out of range for drag coefficient data\n",
      "2016-12-18 16:22:36,487 - WARNING - dtocean_moorings.core - WARNING: Reynolds number out of range for drag coefficient data\n",
      "2016-12-18 16:22:36,489 - WARNING - dtocean_moorings.core - WARNING: Reynolds number out of range for drag coefficient data\n",
      "2016-12-18 16:22:36,490 - WARNING - dtocean_moorings.core - WARNING: Reynolds number out of range for drag coefficient data\n",
      "2016-12-18 16:22:36,490 - WARNING - dtocean_moorings.core - WARNING: Reynolds number out of range for drag coefficient data\n",
      "2016-12-18 16:22:36,492 - WARNING - dtocean_moorings.core - WARNING: Reynolds number out of range for drag coefficient data\n",
      "2016-12-18 16:22:36,493 - INFO - dtocean_moorings.core - \n",
      "WAMIT/NEMOH parameters not provided\n",
      "2016-12-18 16:22:36,645 - INFO - dtocean_moorings.core - Mass/viscous loads important, use Morison equation\n",
      "2016-12-18 16:22:36,651 - WARNING - dtocean_moorings.core - WARNING: Reynolds number out of range for drag coefficient data\n",
      "2016-12-18 16:22:36,664 - WARNING - dtocean_moorings.core - WARNING: Reynolds number out of range for drag coefficient data\n",
      "2016-12-18 16:22:36,673 - WARNING - dtocean_moorings.core - WARNING: Reynolds number out of range for drag coefficient data\n",
      "2016-12-18 16:22:36,683 - WARNING - dtocean_moorings.core - WARNING: Reynolds number out of range for drag coefficient data\n",
      "2016-12-18 16:22:36,693 - WARNING - dtocean_moorings.core - WARNING: Reynolds number out of range for drag coefficient data\n",
      "2016-12-18 16:22:36,703 - WARNING - dtocean_moorings.core - WARNING: Reynolds number out of range for drag coefficient data\n",
      "2016-12-18 16:22:36,713 - WARNING - dtocean_moorings.core - WARNING: Reynolds number out of range for drag coefficient data\n",
      "2016-12-18 16:22:36,723 - WARNING - dtocean_moorings.core - WARNING: Reynolds number out of range for drag coefficient data\n",
      "2016-12-18 16:22:36,733 - WARNING - dtocean_moorings.core - WARNING: Reynolds number out of range for drag coefficient data\n",
      "2016-12-18 16:22:36,747 - WARNING - dtocean_moorings.core - WARNING: Reynolds number out of range for drag coefficient data\n",
      "2016-12-18 16:22:36,766 - INFO - dtocean_moorings.core - \n",
      "_______________________________________________________________________\n",
      "Foundation 0\n",
      "_______________________________________________________________________\n",
      "2016-12-18 16:22:36,766 - INFO - dtocean_moorings.core - \n",
      "%%%%%%%%%%%%%%%%%%%%%%%%%%%%%%%%%%%%%%%%%%%%%%%\n",
      "Pile foundation/anchor design\n",
      "%%%%%%%%%%%%%%%%%%%%%%%%%%%%%%%%%%%%%%%%%%%%%%%\n",
      "2016-12-18 16:22:36,895 - INFO - dtocean_moorings.core - \n",
      "%%%%%%%%%%%%%%%%%%%%%%%%%%%%%%%%%%%%%%%%%%%%%%%\n",
      "Shallow foundation/anchor design\n",
      "%%%%%%%%%%%%%%%%%%%%%%%%%%%%%%%%%%%%%%%%%%%%%%%\n",
      "2016-12-18 16:22:36,898 - INFO - dtocean_moorings.core - \n",
      "Solution found [16.398288268367242, 16.398288268367242, 1.639828826836724, 1.6398288268367243, 0.8199144134183621, [10.0, 10.0], [0, 0], 440.95629821323837, 0.0]\n",
      "2016-12-18 16:22:36,900 - INFO - dtocean_moorings.core - \n",
      "%%%%%%%%%%%%%%%%%%%%%%%%%%%%%%%%%%%%%%%%%%%%%%%\n",
      "Gravity foundation/anchor design\n",
      "%%%%%%%%%%%%%%%%%%%%%%%%%%%%%%%%%%%%%%%%%%%%%%%\n",
      "2016-12-18 16:22:36,901 - INFO - dtocean_moorings.core - \n",
      "Solution found [5.25, 5.25, 1.3125, 0.0, 0.0, [0, 0], [0, 0], 5.9279174042702003, 30.2478638457298]\n",
      "2016-12-18 16:22:36,901 - INFO - dtocean_moorings.core - \n",
      "_______________________________________________________________________\n",
      "Foundation 1\n",
      "_______________________________________________________________________\n",
      "2016-12-18 16:22:36,903 - INFO - dtocean_moorings.core - \n",
      "%%%%%%%%%%%%%%%%%%%%%%%%%%%%%%%%%%%%%%%%%%%%%%%\n",
      "Pile foundation/anchor design\n",
      "%%%%%%%%%%%%%%%%%%%%%%%%%%%%%%%%%%%%%%%%%%%%%%%\n",
      "2016-12-18 16:22:37,036 - INFO - dtocean_moorings.core - \n",
      "%%%%%%%%%%%%%%%%%%%%%%%%%%%%%%%%%%%%%%%%%%%%%%%\n",
      "Shallow foundation/anchor design\n",
      "%%%%%%%%%%%%%%%%%%%%%%%%%%%%%%%%%%%%%%%%%%%%%%%\n",
      "2016-12-18 16:22:37,038 - INFO - dtocean_moorings.core - \n",
      "Solution found [17.088742511245858, 17.088742511245858, 1.708874251124586, 1.7088742511245858, 0.8544371255622929, [10.0, 10.0], [0, 0], 499.03420930165515, 0.0]\n",
      "2016-12-18 16:22:37,039 - INFO - dtocean_moorings.core - \n",
      "%%%%%%%%%%%%%%%%%%%%%%%%%%%%%%%%%%%%%%%%%%%%%%%\n",
      "Gravity foundation/anchor design\n",
      "%%%%%%%%%%%%%%%%%%%%%%%%%%%%%%%%%%%%%%%%%%%%%%%\n",
      "2016-12-18 16:22:37,039 - INFO - dtocean_moorings.core - \n",
      "Solution found [3.5, 3.5, 0.875, 0.0, 0.0, [0, 0], [0, 0], 1.6818169392001785, 9.0369330607998215]\n",
      "2016-12-18 16:22:37,040 - INFO - dtocean_moorings.core - \n",
      "_______________________________________________________________________\n",
      "Foundation 2\n",
      "_______________________________________________________________________\n",
      "2016-12-18 16:22:37,042 - INFO - dtocean_moorings.core - \n",
      "%%%%%%%%%%%%%%%%%%%%%%%%%%%%%%%%%%%%%%%%%%%%%%%\n",
      "Pile foundation/anchor design\n",
      "%%%%%%%%%%%%%%%%%%%%%%%%%%%%%%%%%%%%%%%%%%%%%%%\n",
      "2016-12-18 16:22:37,176 - INFO - dtocean_moorings.core - \n",
      "%%%%%%%%%%%%%%%%%%%%%%%%%%%%%%%%%%%%%%%%%%%%%%%\n",
      "Shallow foundation/anchor design\n",
      "%%%%%%%%%%%%%%%%%%%%%%%%%%%%%%%%%%%%%%%%%%%%%%%\n",
      "2016-12-18 16:22:37,177 - INFO - dtocean_moorings.core - \n",
      "Solution found [17.088742511245858, 17.088742511245858, 1.708874251124586, 1.7088742511245858, 0.8544371255622929, [10.0, 10.0], [0, 0], 499.03420930165515, 0.0]\n",
      "2016-12-18 16:22:37,180 - INFO - dtocean_moorings.core - \n",
      "%%%%%%%%%%%%%%%%%%%%%%%%%%%%%%%%%%%%%%%%%%%%%%%\n",
      "Gravity foundation/anchor design\n",
      "%%%%%%%%%%%%%%%%%%%%%%%%%%%%%%%%%%%%%%%%%%%%%%%\n",
      "2016-12-18 16:22:37,181 - INFO - dtocean_moorings.core - \n",
      "Solution found [3.5, 3.5, 0.875, 0.0, 0.0, [0, 0], [0, 0], 1.6818169392001838, 9.0369330607998162]\n",
      "2016-12-18 16:22:37,183 - INFO - dtocean_moorings.core - \n",
      "_______________________________________________________________________\n",
      "Foundation 3\n",
      "_______________________________________________________________________\n",
      "2016-12-18 16:22:37,183 - INFO - dtocean_moorings.core - \n",
      "%%%%%%%%%%%%%%%%%%%%%%%%%%%%%%%%%%%%%%%%%%%%%%%\n",
      "Pile foundation/anchor design\n",
      "%%%%%%%%%%%%%%%%%%%%%%%%%%%%%%%%%%%%%%%%%%%%%%%\n",
      "2016-12-18 16:22:37,328 - INFO - dtocean_moorings.core - \n",
      "%%%%%%%%%%%%%%%%%%%%%%%%%%%%%%%%%%%%%%%%%%%%%%%\n",
      "Shallow foundation/anchor design\n",
      "%%%%%%%%%%%%%%%%%%%%%%%%%%%%%%%%%%%%%%%%%%%%%%%\n",
      "2016-12-18 16:22:37,332 - INFO - dtocean_moorings.core - \n",
      "Solution found [16.398288268367242, 16.398288268367242, 1.639828826836724, 1.6398288268367243, 0.8199144134183621, [10.0, 10.0], [0, 0], 440.95629821323837, 0.0]\n",
      "2016-12-18 16:22:37,332 - INFO - dtocean_moorings.core - \n",
      "%%%%%%%%%%%%%%%%%%%%%%%%%%%%%%%%%%%%%%%%%%%%%%%\n",
      "Gravity foundation/anchor design\n",
      "%%%%%%%%%%%%%%%%%%%%%%%%%%%%%%%%%%%%%%%%%%%%%%%\n",
      "2016-12-18 16:22:37,335 - INFO - dtocean_moorings.core - \n",
      "Solution found [5.25, 5.25, 1.3125, 0.0, 0.0, [0, 0], [0, 0], 5.9279174042701896, 30.24786384572981]\n",
      "2016-12-18 16:22:37,335 - INFO - dtocean_moorings.core - \n",
      "%%%%%%%%%%%%%%%%%%%%%%%%%%%%%%%%%%%%%%%%%%%%%%%\n",
      "Gravity foundation/anchor design\n",
      "%%%%%%%%%%%%%%%%%%%%%%%%%%%%%%%%%%%%%%%%%%%%%%%\n",
      "self.piledim [[3.0, 0.059999999999999998, 15.0, 'False', 'id723', 0.0], [3.0, 0.059999999999999998, 6.0, 'True', 'id723', 0.0], [3.0, 0.059999999999999998, 6.0, 'True', 'id723', 0.0], [3.0, 0.059999999999999998, 15.0, 'False', 'id723', 0.0]]\n",
      "self.pileyld 355000000.0\n",
      "2016-12-18 16:22:37,336 - INFO - dtocean_moorings.core - \n",
      "self.possfoundtyp [[('pile', 5), ('shallowfoundation', 6), ('gravity', 6)], [('pile', 5), ('shallowfoundation', 6), ('gravity', 6)], [('pile', 5), ('shallowfoundation', 6), ('gravity', 6)], [('pile', 5), ('shallowfoundation', 6), ('gravity', 6)]]\n",
      "self.selfoundtyp [('shallowfoundation', 116412.46272829492), ('pile', 67860.0), ('pile', 67860.0), ('shallowfoundation', 116412.46272829492)]\n",
      "2016-12-18 16:22:37,339 - INFO - dtocean_moorings.main - ===================================================================\n",
      "2016-12-18 16:22:37,342 - INFO - dtocean_moorings.main - Device ID: device002\n",
      "2016-12-18 16:22:37,342 - INFO - dtocean_moorings.main - ===================================================================\n",
      "2016-12-18 16:22:37,506 - INFO - dtocean_moorings.core - Foundation point coincides with grid line or grid point\n",
      "2016-12-18 16:22:37,681 - INFO - dtocean_moorings.core - Foundation point coincides with grid line or grid point\n",
      "2016-12-18 16:22:37,851 - INFO - dtocean_moorings.core - Foundation point coincides with grid line or grid point\n",
      "2016-12-18 16:22:38,025 - INFO - dtocean_moorings.core - Foundation point coincides with grid line or grid point\n",
      "2016-12-18 16:22:38,194 - INFO - dtocean_moorings.core - Foundation point coincides with grid line or grid point\n",
      "2016-12-18 16:22:38,253 - WARNING - dtocean_moorings.core - WARNING: Reynolds number out of range for drag coefficient data\n",
      "2016-12-18 16:22:38,255 - WARNING - dtocean_moorings.core - WARNING: Reynolds number out of range for drag coefficient data\n",
      "2016-12-18 16:22:38,256 - WARNING - dtocean_moorings.core - WARNING: Reynolds number out of range for drag coefficient data\n",
      "2016-12-18 16:22:38,256 - WARNING - dtocean_moorings.core - WARNING: Reynolds number out of range for drag coefficient data\n",
      "2016-12-18 16:22:38,257 - WARNING - dtocean_moorings.core - WARNING: Reynolds number out of range for drag coefficient data\n",
      "2016-12-18 16:22:38,257 - WARNING - dtocean_moorings.core - WARNING: Reynolds number out of range for drag coefficient data\n",
      "2016-12-18 16:22:38,259 - WARNING - dtocean_moorings.core - WARNING: Reynolds number out of range for drag coefficient data\n",
      "2016-12-18 16:22:38,259 - WARNING - dtocean_moorings.core - WARNING: Reynolds number out of range for drag coefficient data\n",
      "2016-12-18 16:22:38,260 - WARNING - dtocean_moorings.core - WARNING: Reynolds number out of range for drag coefficient data\n",
      "2016-12-18 16:22:38,263 - WARNING - dtocean_moorings.core - WARNING: Reynolds number out of range for drag coefficient data\n",
      "2016-12-18 16:22:38,263 - INFO - dtocean_moorings.core - \n",
      "WAMIT/NEMOH parameters not provided\n",
      "2016-12-18 16:22:38,415 - INFO - dtocean_moorings.core - Mass/viscous loads important, use Morison equation\n",
      "2016-12-18 16:22:38,421 - WARNING - dtocean_moorings.core - WARNING: Reynolds number out of range for drag coefficient data\n",
      "2016-12-18 16:22:38,433 - WARNING - dtocean_moorings.core - WARNING: Reynolds number out of range for drag coefficient data\n",
      "2016-12-18 16:22:38,443 - WARNING - dtocean_moorings.core - WARNING: Reynolds number out of range for drag coefficient data\n",
      "2016-12-18 16:22:38,453 - WARNING - dtocean_moorings.core - WARNING: Reynolds number out of range for drag coefficient data\n",
      "2016-12-18 16:22:38,467 - WARNING - dtocean_moorings.core - WARNING: Reynolds number out of range for drag coefficient data\n",
      "2016-12-18 16:22:38,477 - WARNING - dtocean_moorings.core - WARNING: Reynolds number out of range for drag coefficient data\n",
      "2016-12-18 16:22:38,487 - WARNING - dtocean_moorings.core - WARNING: Reynolds number out of range for drag coefficient data\n",
      "2016-12-18 16:22:38,499 - WARNING - dtocean_moorings.core - WARNING: Reynolds number out of range for drag coefficient data\n",
      "2016-12-18 16:22:38,509 - WARNING - dtocean_moorings.core - WARNING: Reynolds number out of range for drag coefficient data\n",
      "2016-12-18 16:22:38,520 - WARNING - dtocean_moorings.core - WARNING: Reynolds number out of range for drag coefficient data\n",
      "2016-12-18 16:22:38,536 - WARNING - dtocean_moorings.core - WARNING: Reynolds number out of range for drag coefficient data\n",
      "2016-12-18 16:22:38,539 - WARNING - dtocean_moorings.core - WARNING: Reynolds number out of range for drag coefficient data\n",
      "2016-12-18 16:22:38,539 - WARNING - dtocean_moorings.core - WARNING: Reynolds number out of range for drag coefficient data\n",
      "2016-12-18 16:22:38,540 - WARNING - dtocean_moorings.core - WARNING: Reynolds number out of range for drag coefficient data\n",
      "2016-12-18 16:22:38,542 - WARNING - dtocean_moorings.core - WARNING: Reynolds number out of range for drag coefficient data\n",
      "2016-12-18 16:22:38,542 - WARNING - dtocean_moorings.core - WARNING: Reynolds number out of range for drag coefficient data\n",
      "2016-12-18 16:22:38,545 - WARNING - dtocean_moorings.core - WARNING: Reynolds number out of range for drag coefficient data\n",
      "2016-12-18 16:22:38,546 - WARNING - dtocean_moorings.core - WARNING: Reynolds number out of range for drag coefficient data\n",
      "2016-12-18 16:22:38,546 - WARNING - dtocean_moorings.core - WARNING: Reynolds number out of range for drag coefficient data\n",
      "2016-12-18 16:22:38,546 - WARNING - dtocean_moorings.core - WARNING: Reynolds number out of range for drag coefficient data\n",
      "2016-12-18 16:22:38,549 - INFO - dtocean_moorings.core - \n",
      "WAMIT/NEMOH parameters not provided\n",
      "2016-12-18 16:22:38,687 - INFO - dtocean_moorings.core - Mass/viscous loads important, use Morison equation\n",
      "2016-12-18 16:22:38,696 - WARNING - dtocean_moorings.core - WARNING: Reynolds number out of range for drag coefficient data\n",
      "2016-12-18 16:22:38,711 - WARNING - dtocean_moorings.core - WARNING: Reynolds number out of range for drag coefficient data\n",
      "2016-12-18 16:22:38,724 - WARNING - dtocean_moorings.core - WARNING: Reynolds number out of range for drag coefficient data\n",
      "2016-12-18 16:22:38,734 - WARNING - dtocean_moorings.core - WARNING: Reynolds number out of range for drag coefficient data\n",
      "2016-12-18 16:22:38,744 - WARNING - dtocean_moorings.core - WARNING: Reynolds number out of range for drag coefficient data\n",
      "2016-12-18 16:22:38,756 - WARNING - dtocean_moorings.core - WARNING: Reynolds number out of range for drag coefficient data\n",
      "2016-12-18 16:22:38,767 - WARNING - dtocean_moorings.core - WARNING: Reynolds number out of range for drag coefficient data\n",
      "2016-12-18 16:22:38,778 - WARNING - dtocean_moorings.core - WARNING: Reynolds number out of range for drag coefficient data\n",
      "2016-12-18 16:22:38,788 - WARNING - dtocean_moorings.core - WARNING: Reynolds number out of range for drag coefficient data\n",
      "2016-12-18 16:22:38,798 - WARNING - dtocean_moorings.core - WARNING: Reynolds number out of range for drag coefficient data\n",
      "2016-12-18 16:22:38,821 - INFO - dtocean_moorings.core - \n",
      "_______________________________________________________________________\n",
      "Foundation 0\n",
      "_______________________________________________________________________\n",
      "2016-12-18 16:22:38,822 - INFO - dtocean_moorings.core - \n",
      "%%%%%%%%%%%%%%%%%%%%%%%%%%%%%%%%%%%%%%%%%%%%%%%\n",
      "Pile foundation/anchor design\n",
      "%%%%%%%%%%%%%%%%%%%%%%%%%%%%%%%%%%%%%%%%%%%%%%%\n",
      "2016-12-18 16:22:38,956 - INFO - dtocean_moorings.core - \n",
      "%%%%%%%%%%%%%%%%%%%%%%%%%%%%%%%%%%%%%%%%%%%%%%%\n",
      "Shallow foundation/anchor design\n",
      "%%%%%%%%%%%%%%%%%%%%%%%%%%%%%%%%%%%%%%%%%%%%%%%\n",
      "2016-12-18 16:22:38,959 - INFO - dtocean_moorings.core - \n",
      "Solution found [16.398288268367242, 16.398288268367242, 1.639828826836724, 1.6398288268367243, 0.8199144134183621, [10.0, 10.0], [0, 0], 440.95629821323837, 0.0]\n",
      "2016-12-18 16:22:38,960 - INFO - dtocean_moorings.core - \n",
      "%%%%%%%%%%%%%%%%%%%%%%%%%%%%%%%%%%%%%%%%%%%%%%%\n",
      "Gravity foundation/anchor design\n",
      "%%%%%%%%%%%%%%%%%%%%%%%%%%%%%%%%%%%%%%%%%%%%%%%\n",
      "2016-12-18 16:22:38,960 - INFO - dtocean_moorings.core - \n",
      "Solution found [5.25, 5.25, 1.3125, 0.0, 0.0, [0, 0], [0, 0], 5.9279174042702003, 30.2478638457298]\n",
      "2016-12-18 16:22:38,961 - INFO - dtocean_moorings.core - \n",
      "_______________________________________________________________________\n",
      "Foundation 1\n",
      "_______________________________________________________________________\n",
      "2016-12-18 16:22:38,963 - INFO - dtocean_moorings.core - \n",
      "%%%%%%%%%%%%%%%%%%%%%%%%%%%%%%%%%%%%%%%%%%%%%%%\n",
      "Pile foundation/anchor design\n",
      "%%%%%%%%%%%%%%%%%%%%%%%%%%%%%%%%%%%%%%%%%%%%%%%\n",
      "2016-12-18 16:22:39,089 - INFO - dtocean_moorings.core - \n",
      "%%%%%%%%%%%%%%%%%%%%%%%%%%%%%%%%%%%%%%%%%%%%%%%\n",
      "Shallow foundation/anchor design\n",
      "%%%%%%%%%%%%%%%%%%%%%%%%%%%%%%%%%%%%%%%%%%%%%%%\n",
      "2016-12-18 16:22:39,092 - INFO - dtocean_moorings.core - \n",
      "Solution found [17.088742511245858, 17.088742511245858, 1.708874251124586, 1.7088742511245858, 0.8544371255622929, [10.0, 10.0], [0, 0], 499.03420930165515, 0.0]\n",
      "2016-12-18 16:22:39,092 - INFO - dtocean_moorings.core - \n",
      "%%%%%%%%%%%%%%%%%%%%%%%%%%%%%%%%%%%%%%%%%%%%%%%\n",
      "Gravity foundation/anchor design\n",
      "%%%%%%%%%%%%%%%%%%%%%%%%%%%%%%%%%%%%%%%%%%%%%%%\n",
      "2016-12-18 16:22:39,094 - INFO - dtocean_moorings.core - \n",
      "Solution found [3.5, 3.5, 0.875, 0.0, 0.0, [0, 0], [0, 0], 1.6818169392001785, 9.0369330607998215]\n",
      "2016-12-18 16:22:39,095 - INFO - dtocean_moorings.core - \n",
      "_______________________________________________________________________\n",
      "Foundation 2\n",
      "_______________________________________________________________________\n",
      "2016-12-18 16:22:39,095 - INFO - dtocean_moorings.core - \n",
      "%%%%%%%%%%%%%%%%%%%%%%%%%%%%%%%%%%%%%%%%%%%%%%%\n",
      "Pile foundation/anchor design\n",
      "%%%%%%%%%%%%%%%%%%%%%%%%%%%%%%%%%%%%%%%%%%%%%%%\n",
      "2016-12-18 16:22:39,229 - INFO - dtocean_moorings.core - \n",
      "%%%%%%%%%%%%%%%%%%%%%%%%%%%%%%%%%%%%%%%%%%%%%%%\n",
      "Shallow foundation/anchor design\n",
      "%%%%%%%%%%%%%%%%%%%%%%%%%%%%%%%%%%%%%%%%%%%%%%%\n",
      "2016-12-18 16:22:39,232 - INFO - dtocean_moorings.core - \n",
      "Solution found [17.088742511245858, 17.088742511245858, 1.708874251124586, 1.7088742511245858, 0.8544371255622929, [10.0, 10.0], [0, 0], 499.03420930165515, 0.0]\n",
      "2016-12-18 16:22:39,233 - INFO - dtocean_moorings.core - \n",
      "%%%%%%%%%%%%%%%%%%%%%%%%%%%%%%%%%%%%%%%%%%%%%%%\n",
      "Gravity foundation/anchor design\n",
      "%%%%%%%%%%%%%%%%%%%%%%%%%%%%%%%%%%%%%%%%%%%%%%%\n",
      "2016-12-18 16:22:39,233 - INFO - dtocean_moorings.core - \n",
      "Solution found [3.5, 3.5, 0.875, 0.0, 0.0, [0, 0], [0, 0], 1.6818169392001838, 9.0369330607998162]\n",
      "2016-12-18 16:22:39,234 - INFO - dtocean_moorings.core - \n",
      "_______________________________________________________________________\n",
      "Foundation 3\n",
      "_______________________________________________________________________\n",
      "2016-12-18 16:22:39,236 - INFO - dtocean_moorings.core - \n",
      "%%%%%%%%%%%%%%%%%%%%%%%%%%%%%%%%%%%%%%%%%%%%%%%\n",
      "Pile foundation/anchor design\n",
      "%%%%%%%%%%%%%%%%%%%%%%%%%%%%%%%%%%%%%%%%%%%%%%%\n",
      "2016-12-18 16:22:39,364 - INFO - dtocean_moorings.core - \n",
      "%%%%%%%%%%%%%%%%%%%%%%%%%%%%%%%%%%%%%%%%%%%%%%%\n",
      "Shallow foundation/anchor design\n",
      "%%%%%%%%%%%%%%%%%%%%%%%%%%%%%%%%%%%%%%%%%%%%%%%\n",
      "2016-12-18 16:22:39,365 - INFO - dtocean_moorings.core - \n",
      "Solution found [16.398288268367242, 16.398288268367242, 1.639828826836724, 1.6398288268367243, 0.8199144134183621, [10.0, 10.0], [0, 0], 440.95629821323837, 0.0]\n",
      "2016-12-18 16:22:39,367 - INFO - dtocean_moorings.core - \n",
      "%%%%%%%%%%%%%%%%%%%%%%%%%%%%%%%%%%%%%%%%%%%%%%%\n",
      "Gravity foundation/anchor design\n",
      "%%%%%%%%%%%%%%%%%%%%%%%%%%%%%%%%%%%%%%%%%%%%%%%\n",
      "2016-12-18 16:22:39,368 - INFO - dtocean_moorings.core - \n",
      "Solution found [5.25, 5.25, 1.3125, 0.0, 0.0, [0, 0], [0, 0], 5.9279174042701896, 30.24786384572981]\n",
      "2016-12-18 16:22:39,368 - INFO - dtocean_moorings.core - \n",
      "%%%%%%%%%%%%%%%%%%%%%%%%%%%%%%%%%%%%%%%%%%%%%%%\n",
      "Gravity foundation/anchor design\n",
      "%%%%%%%%%%%%%%%%%%%%%%%%%%%%%%%%%%%%%%%%%%%%%%%\n",
      "self.piledim [[3.0, 0.059999999999999998, 15.0, 'False', 'id723', 0.0], [3.0, 0.059999999999999998, 6.0, 'True', 'id723', 0.0], [3.0, 0.059999999999999998, 6.0, 'True', 'id723', 0.0], [3.0, 0.059999999999999998, 15.0, 'False', 'id723', 0.0]]\n",
      "self.pileyld 355000000.0\n",
      "2016-12-18 16:22:39,368 - INFO - dtocean_moorings.core - \n",
      "self.possfoundtyp [[('pile', 5), ('shallowfoundation', 6), ('gravity', 6)], [('pile', 5), ('shallowfoundation', 6), ('gravity', 6)], [('pile', 5), ('shallowfoundation', 6), ('gravity', 6)], [('pile', 5), ('shallowfoundation', 6), ('gravity', 6)]]\n",
      "self.selfoundtyp [('shallowfoundation', 116412.46272829492), ('pile', 67860.0), ('pile', 67860.0), ('shallowfoundation', 116412.46272829492)]\n",
      "2016-12-18 16:22:39,374 - INFO - dtocean_moorings.main - ===================================================================\n",
      "2016-12-18 16:22:39,375 - INFO - dtocean_moorings.main - Device ID: device003\n",
      "2016-12-18 16:22:39,375 - INFO - dtocean_moorings.main - ===================================================================\n",
      "2016-12-18 16:22:39,523 - INFO - dtocean_moorings.core - Foundation point coincides with grid line or grid point\n",
      "2016-12-18 16:22:39,729 - INFO - dtocean_moorings.core - Foundation point coincides with grid line or grid point\n",
      "2016-12-18 16:22:39,901 - INFO - dtocean_moorings.core - Foundation point coincides with grid line or grid point\n",
      "2016-12-18 16:22:40,069 - INFO - dtocean_moorings.core - Foundation point coincides with grid line or grid point\n",
      "2016-12-18 16:22:40,243 - INFO - dtocean_moorings.core - Foundation point coincides with grid line or grid point\n",
      "2016-12-18 16:22:40,302 - WARNING - dtocean_moorings.core - WARNING: Reynolds number out of range for drag coefficient data\n",
      "2016-12-18 16:22:40,303 - WARNING - dtocean_moorings.core - WARNING: Reynolds number out of range for drag coefficient data\n",
      "2016-12-18 16:22:40,303 - WARNING - dtocean_moorings.core - WARNING: Reynolds number out of range for drag coefficient data\n",
      "2016-12-18 16:22:40,305 - WARNING - dtocean_moorings.core - WARNING: Reynolds number out of range for drag coefficient data\n",
      "2016-12-18 16:22:40,306 - WARNING - dtocean_moorings.core - WARNING: Reynolds number out of range for drag coefficient data\n",
      "2016-12-18 16:22:40,308 - WARNING - dtocean_moorings.core - WARNING: Reynolds number out of range for drag coefficient data\n",
      "2016-12-18 16:22:40,309 - WARNING - dtocean_moorings.core - WARNING: Reynolds number out of range for drag coefficient data\n",
      "2016-12-18 16:22:40,309 - WARNING - dtocean_moorings.core - WARNING: Reynolds number out of range for drag coefficient data\n",
      "2016-12-18 16:22:40,309 - WARNING - dtocean_moorings.core - WARNING: Reynolds number out of range for drag coefficient data\n",
      "2016-12-18 16:22:40,311 - WARNING - dtocean_moorings.core - WARNING: Reynolds number out of range for drag coefficient data\n",
      "2016-12-18 16:22:40,312 - INFO - dtocean_moorings.core - \n",
      "WAMIT/NEMOH parameters not provided\n",
      "2016-12-18 16:22:40,460 - INFO - dtocean_moorings.core - Mass/viscous loads important, use Morison equation\n",
      "2016-12-18 16:22:40,467 - WARNING - dtocean_moorings.core - WARNING: Reynolds number out of range for drag coefficient data\n",
      "2016-12-18 16:22:40,480 - WARNING - dtocean_moorings.core - WARNING: Reynolds number out of range for drag coefficient data\n",
      "2016-12-18 16:22:40,490 - WARNING - dtocean_moorings.core - WARNING: Reynolds number out of range for drag coefficient data\n",
      "2016-12-18 16:22:40,500 - WARNING - dtocean_moorings.core - WARNING: Reynolds number out of range for drag coefficient data\n",
      "2016-12-18 16:22:40,512 - WARNING - dtocean_moorings.core - WARNING: Reynolds number out of range for drag coefficient data\n",
      "2016-12-18 16:22:40,523 - WARNING - dtocean_moorings.core - WARNING: Reynolds number out of range for drag coefficient data\n",
      "2016-12-18 16:22:40,532 - WARNING - dtocean_moorings.core - WARNING: Reynolds number out of range for drag coefficient data\n",
      "2016-12-18 16:22:40,546 - WARNING - dtocean_moorings.core - WARNING: Reynolds number out of range for drag coefficient data\n",
      "2016-12-18 16:22:40,558 - WARNING - dtocean_moorings.core - WARNING: Reynolds number out of range for drag coefficient data\n",
      "2016-12-18 16:22:40,571 - WARNING - dtocean_moorings.core - WARNING: Reynolds number out of range for drag coefficient data\n",
      "2016-12-18 16:22:40,586 - WARNING - dtocean_moorings.core - WARNING: Reynolds number out of range for drag coefficient data\n",
      "2016-12-18 16:22:40,588 - WARNING - dtocean_moorings.core - WARNING: Reynolds number out of range for drag coefficient data\n",
      "2016-12-18 16:22:40,588 - WARNING - dtocean_moorings.core - WARNING: Reynolds number out of range for drag coefficient data\n",
      "2016-12-18 16:22:40,589 - WARNING - dtocean_moorings.core - WARNING: Reynolds number out of range for drag coefficient data\n",
      "2016-12-18 16:22:40,591 - WARNING - dtocean_moorings.core - WARNING: Reynolds number out of range for drag coefficient data\n",
      "2016-12-18 16:22:40,592 - WARNING - dtocean_moorings.core - WARNING: Reynolds number out of range for drag coefficient data\n",
      "2016-12-18 16:22:40,592 - WARNING - dtocean_moorings.core - WARNING: Reynolds number out of range for drag coefficient data\n",
      "2016-12-18 16:22:40,594 - WARNING - dtocean_moorings.core - WARNING: Reynolds number out of range for drag coefficient data\n",
      "2016-12-18 16:22:40,595 - WARNING - dtocean_moorings.core - WARNING: Reynolds number out of range for drag coefficient data\n",
      "2016-12-18 16:22:40,595 - WARNING - dtocean_moorings.core - WARNING: Reynolds number out of range for drag coefficient data\n",
      "2016-12-18 16:22:40,598 - INFO - dtocean_moorings.core - \n",
      "WAMIT/NEMOH parameters not provided\n",
      "2016-12-18 16:22:40,740 - INFO - dtocean_moorings.core - Mass/viscous loads important, use Morison equation\n",
      "2016-12-18 16:22:40,749 - WARNING - dtocean_moorings.core - WARNING: Reynolds number out of range for drag coefficient data\n",
      "2016-12-18 16:22:40,762 - WARNING - dtocean_moorings.core - WARNING: Reynolds number out of range for drag coefficient data\n",
      "2016-12-18 16:22:40,773 - WARNING - dtocean_moorings.core - WARNING: Reynolds number out of range for drag coefficient data\n",
      "2016-12-18 16:22:40,783 - WARNING - dtocean_moorings.core - WARNING: Reynolds number out of range for drag coefficient data\n",
      "2016-12-18 16:22:40,793 - WARNING - dtocean_moorings.core - WARNING: Reynolds number out of range for drag coefficient data\n",
      "2016-12-18 16:22:40,805 - WARNING - dtocean_moorings.core - WARNING: Reynolds number out of range for drag coefficient data\n",
      "2016-12-18 16:22:40,821 - WARNING - dtocean_moorings.core - WARNING: Reynolds number out of range for drag coefficient data\n",
      "2016-12-18 16:22:40,835 - WARNING - dtocean_moorings.core - WARNING: Reynolds number out of range for drag coefficient data\n",
      "2016-12-18 16:22:40,845 - WARNING - dtocean_moorings.core - WARNING: Reynolds number out of range for drag coefficient data\n",
      "2016-12-18 16:22:40,858 - WARNING - dtocean_moorings.core - WARNING: Reynolds number out of range for drag coefficient data\n",
      "2016-12-18 16:22:40,875 - INFO - dtocean_moorings.core - \n",
      "_______________________________________________________________________\n",
      "Foundation 0\n",
      "_______________________________________________________________________\n",
      "2016-12-18 16:22:40,877 - INFO - dtocean_moorings.core - \n",
      "%%%%%%%%%%%%%%%%%%%%%%%%%%%%%%%%%%%%%%%%%%%%%%%\n",
      "Pile foundation/anchor design\n",
      "%%%%%%%%%%%%%%%%%%%%%%%%%%%%%%%%%%%%%%%%%%%%%%%\n",
      "2016-12-18 16:22:40,997 - INFO - dtocean_moorings.core - \n",
      "%%%%%%%%%%%%%%%%%%%%%%%%%%%%%%%%%%%%%%%%%%%%%%%\n",
      "Shallow foundation/anchor design\n",
      "%%%%%%%%%%%%%%%%%%%%%%%%%%%%%%%%%%%%%%%%%%%%%%%\n",
      "2016-12-18 16:22:41,000 - INFO - dtocean_moorings.core - \n",
      "Solution found [16.398288268367242, 16.398288268367242, 1.639828826836724, 1.6398288268367243, 0.8199144134183621, [10.0, 10.0], [0, 0], 440.95629821323837, 0.0]\n",
      "2016-12-18 16:22:41,000 - INFO - dtocean_moorings.core - \n",
      "%%%%%%%%%%%%%%%%%%%%%%%%%%%%%%%%%%%%%%%%%%%%%%%\n",
      "Gravity foundation/anchor design\n",
      "%%%%%%%%%%%%%%%%%%%%%%%%%%%%%%%%%%%%%%%%%%%%%%%\n",
      "2016-12-18 16:22:41,002 - INFO - dtocean_moorings.core - \n",
      "Solution found [5.25, 5.25, 1.3125, 0.0, 0.0, [0, 0], [0, 0], 5.9279174042702003, 30.2478638457298]\n",
      "2016-12-18 16:22:41,003 - INFO - dtocean_moorings.core - \n",
      "_______________________________________________________________________\n",
      "Foundation 1\n",
      "_______________________________________________________________________\n",
      "2016-12-18 16:22:41,003 - INFO - dtocean_moorings.core - \n",
      "%%%%%%%%%%%%%%%%%%%%%%%%%%%%%%%%%%%%%%%%%%%%%%%\n",
      "Pile foundation/anchor design\n",
      "%%%%%%%%%%%%%%%%%%%%%%%%%%%%%%%%%%%%%%%%%%%%%%%\n",
      "2016-12-18 16:22:41,142 - INFO - dtocean_moorings.core - \n",
      "%%%%%%%%%%%%%%%%%%%%%%%%%%%%%%%%%%%%%%%%%%%%%%%\n",
      "Shallow foundation/anchor design\n",
      "%%%%%%%%%%%%%%%%%%%%%%%%%%%%%%%%%%%%%%%%%%%%%%%\n",
      "2016-12-18 16:22:41,145 - INFO - dtocean_moorings.core - \n",
      "Solution found [17.088742511245858, 17.088742511245858, 1.708874251124586, 1.7088742511245858, 0.8544371255622929, [10.0, 10.0], [0, 0], 499.03420930165515, 0.0]\n",
      "2016-12-18 16:22:41,147 - INFO - dtocean_moorings.core - \n",
      "%%%%%%%%%%%%%%%%%%%%%%%%%%%%%%%%%%%%%%%%%%%%%%%\n",
      "Gravity foundation/anchor design\n",
      "%%%%%%%%%%%%%%%%%%%%%%%%%%%%%%%%%%%%%%%%%%%%%%%\n",
      "2016-12-18 16:22:41,148 - INFO - dtocean_moorings.core - \n",
      "Solution found [3.5, 3.5, 0.875, 0.0, 0.0, [0, 0], [0, 0], 1.6818169392001785, 9.0369330607998215]\n",
      "2016-12-18 16:22:41,148 - INFO - dtocean_moorings.core - \n",
      "_______________________________________________________________________\n",
      "Foundation 2\n",
      "_______________________________________________________________________\n",
      "2016-12-18 16:22:41,150 - INFO - dtocean_moorings.core - \n",
      "%%%%%%%%%%%%%%%%%%%%%%%%%%%%%%%%%%%%%%%%%%%%%%%\n",
      "Pile foundation/anchor design\n",
      "%%%%%%%%%%%%%%%%%%%%%%%%%%%%%%%%%%%%%%%%%%%%%%%\n",
      "2016-12-18 16:22:41,279 - INFO - dtocean_moorings.core - \n",
      "%%%%%%%%%%%%%%%%%%%%%%%%%%%%%%%%%%%%%%%%%%%%%%%\n",
      "Shallow foundation/anchor design\n",
      "%%%%%%%%%%%%%%%%%%%%%%%%%%%%%%%%%%%%%%%%%%%%%%%\n",
      "2016-12-18 16:22:41,282 - INFO - dtocean_moorings.core - \n",
      "Solution found [17.088742511245858, 17.088742511245858, 1.708874251124586, 1.7088742511245858, 0.8544371255622929, [10.0, 10.0], [0, 0], 499.03420930165515, 0.0]\n",
      "2016-12-18 16:22:41,282 - INFO - dtocean_moorings.core - \n",
      "%%%%%%%%%%%%%%%%%%%%%%%%%%%%%%%%%%%%%%%%%%%%%%%\n",
      "Gravity foundation/anchor design\n",
      "%%%%%%%%%%%%%%%%%%%%%%%%%%%%%%%%%%%%%%%%%%%%%%%\n",
      "2016-12-18 16:22:41,285 - INFO - dtocean_moorings.core - \n",
      "Solution found [3.5, 3.5, 0.875, 0.0, 0.0, [0, 0], [0, 0], 1.6818169392001838, 9.0369330607998162]\n",
      "2016-12-18 16:22:41,286 - INFO - dtocean_moorings.core - \n",
      "_______________________________________________________________________\n",
      "Foundation 3\n",
      "_______________________________________________________________________\n",
      "2016-12-18 16:22:41,286 - INFO - dtocean_moorings.core - \n",
      "%%%%%%%%%%%%%%%%%%%%%%%%%%%%%%%%%%%%%%%%%%%%%%%\n",
      "Pile foundation/anchor design\n",
      "%%%%%%%%%%%%%%%%%%%%%%%%%%%%%%%%%%%%%%%%%%%%%%%\n",
      "2016-12-18 16:22:41,411 - INFO - dtocean_moorings.core - \n",
      "%%%%%%%%%%%%%%%%%%%%%%%%%%%%%%%%%%%%%%%%%%%%%%%\n",
      "Shallow foundation/anchor design\n",
      "%%%%%%%%%%%%%%%%%%%%%%%%%%%%%%%%%%%%%%%%%%%%%%%\n",
      "2016-12-18 16:22:41,414 - INFO - dtocean_moorings.core - \n",
      "Solution found [16.398288268367242, 16.398288268367242, 1.639828826836724, 1.6398288268367243, 0.8199144134183621, [10.0, 10.0], [0, 0], 440.95629821323837, 0.0]\n",
      "2016-12-18 16:22:41,414 - INFO - dtocean_moorings.core - \n",
      "%%%%%%%%%%%%%%%%%%%%%%%%%%%%%%%%%%%%%%%%%%%%%%%\n",
      "Gravity foundation/anchor design\n",
      "%%%%%%%%%%%%%%%%%%%%%%%%%%%%%%%%%%%%%%%%%%%%%%%\n",
      "2016-12-18 16:22:41,415 - INFO - dtocean_moorings.core - \n",
      "Solution found [5.25, 5.25, 1.3125, 0.0, 0.0, [0, 0], [0, 0], 5.9279174042701896, 30.24786384572981]\n",
      "2016-12-18 16:22:41,417 - INFO - dtocean_moorings.core - \n",
      "%%%%%%%%%%%%%%%%%%%%%%%%%%%%%%%%%%%%%%%%%%%%%%%\n",
      "Gravity foundation/anchor design\n",
      "%%%%%%%%%%%%%%%%%%%%%%%%%%%%%%%%%%%%%%%%%%%%%%%\n",
      "self.piledim [[3.0, 0.059999999999999998, 15.0, 'False', 'id723', 0.0], [3.0, 0.059999999999999998, 6.0, 'True', 'id723', 0.0], [3.0, 0.059999999999999998, 6.0, 'True', 'id723', 0.0], [3.0, 0.059999999999999998, 15.0, 'False', 'id723', 0.0]]\n",
      "self.pileyld 355000000.0\n",
      "2016-12-18 16:22:41,417 - INFO - dtocean_moorings.core - \n",
      "self.possfoundtyp [[('pile', 5), ('shallowfoundation', 6), ('gravity', 6)], [('pile', 5), ('shallowfoundation', 6), ('gravity', 6)], [('pile', 5), ('shallowfoundation', 6), ('gravity', 6)], [('pile', 5), ('shallowfoundation', 6), ('gravity', 6)]]\n",
      "self.selfoundtyp [('shallowfoundation', 116412.46272829492), ('pile', 67860.0), ('pile', 67860.0), ('shallowfoundation', 116412.46272829492)]\n",
      "2016-12-18 16:22:41,426 - INFO - dtocean_moorings.main - ===================================================================\n",
      "2016-12-18 16:22:41,426 - INFO - dtocean_moorings.main - Device ID: device004\n",
      "2016-12-18 16:22:41,427 - INFO - dtocean_moorings.main - ===================================================================\n",
      "2016-12-18 16:22:41,591 - INFO - dtocean_moorings.core - Foundation point coincides with grid line or grid point\n",
      "2016-12-18 16:22:41,778 - INFO - dtocean_moorings.core - Foundation point coincides with grid line or grid point\n",
      "2016-12-18 16:22:42,003 - INFO - dtocean_moorings.core - Foundation point coincides with grid line or grid point\n",
      "2016-12-18 16:22:42,184 - INFO - dtocean_moorings.core - Foundation point coincides with grid line or grid point\n",
      "2016-12-18 16:22:42,348 - INFO - dtocean_moorings.core - Foundation point coincides with grid line or grid point\n",
      "2016-12-18 16:22:42,411 - WARNING - dtocean_moorings.core - WARNING: Reynolds number out of range for drag coefficient data\n",
      "2016-12-18 16:22:42,413 - WARNING - dtocean_moorings.core - WARNING: Reynolds number out of range for drag coefficient data\n",
      "2016-12-18 16:22:42,414 - WARNING - dtocean_moorings.core - WARNING: Reynolds number out of range for drag coefficient data\n",
      "2016-12-18 16:22:42,414 - WARNING - dtocean_moorings.core - WARNING: Reynolds number out of range for drag coefficient data\n",
      "2016-12-18 16:22:42,415 - WARNING - dtocean_moorings.core - WARNING: Reynolds number out of range for drag coefficient data\n",
      "2016-12-18 16:22:42,417 - WARNING - dtocean_moorings.core - WARNING: Reynolds number out of range for drag coefficient data\n",
      "2016-12-18 16:22:42,418 - WARNING - dtocean_moorings.core - WARNING: Reynolds number out of range for drag coefficient data\n",
      "2016-12-18 16:22:42,420 - WARNING - dtocean_moorings.core - WARNING: Reynolds number out of range for drag coefficient data\n",
      "2016-12-18 16:22:42,421 - WARNING - dtocean_moorings.core - WARNING: Reynolds number out of range for drag coefficient data\n",
      "2016-12-18 16:22:42,421 - WARNING - dtocean_moorings.core - WARNING: Reynolds number out of range for drag coefficient data\n",
      "2016-12-18 16:22:42,424 - INFO - dtocean_moorings.core - \n",
      "WAMIT/NEMOH parameters not provided\n",
      "2016-12-18 16:22:42,561 - INFO - dtocean_moorings.core - Mass/viscous loads important, use Morison equation\n",
      "2016-12-18 16:22:42,654 - WARNING - dtocean_moorings.core - WARNING: Reynolds number out of range for drag coefficient data\n",
      "2016-12-18 16:22:42,664 - WARNING - dtocean_moorings.core - WARNING: Reynolds number out of range for drag coefficient data\n",
      "2016-12-18 16:22:42,674 - WARNING - dtocean_moorings.core - WARNING: Reynolds number out of range for drag coefficient data\n",
      "2016-12-18 16:22:42,684 - WARNING - dtocean_moorings.core - WARNING: Reynolds number out of range for drag coefficient data\n",
      "2016-12-18 16:22:42,693 - WARNING - dtocean_moorings.core - WARNING: Reynolds number out of range for drag coefficient data\n",
      "2016-12-18 16:22:42,703 - WARNING - dtocean_moorings.core - WARNING: Reynolds number out of range for drag coefficient data\n",
      "2016-12-18 16:22:42,714 - WARNING - dtocean_moorings.core - WARNING: Reynolds number out of range for drag coefficient data\n",
      "2016-12-18 16:22:42,726 - WARNING - dtocean_moorings.core - WARNING: Reynolds number out of range for drag coefficient data\n",
      "2016-12-18 16:22:42,736 - WARNING - dtocean_moorings.core - WARNING: Reynolds number out of range for drag coefficient data\n",
      "2016-12-18 16:22:42,746 - WARNING - dtocean_moorings.core - WARNING: Reynolds number out of range for drag coefficient data\n",
      "2016-12-18 16:22:42,759 - WARNING - dtocean_moorings.core - WARNING: Reynolds number out of range for drag coefficient data\n",
      "2016-12-18 16:22:42,760 - WARNING - dtocean_moorings.core - WARNING: Reynolds number out of range for drag coefficient data\n",
      "2016-12-18 16:22:42,763 - WARNING - dtocean_moorings.core - WARNING: Reynolds number out of range for drag coefficient data\n",
      "2016-12-18 16:22:42,763 - WARNING - dtocean_moorings.core - WARNING: Reynolds number out of range for drag coefficient data\n",
      "2016-12-18 16:22:42,765 - WARNING - dtocean_moorings.core - WARNING: Reynolds number out of range for drag coefficient data\n",
      "2016-12-18 16:22:42,766 - WARNING - dtocean_moorings.core - WARNING: Reynolds number out of range for drag coefficient data\n",
      "2016-12-18 16:22:42,766 - WARNING - dtocean_moorings.core - WARNING: Reynolds number out of range for drag coefficient data\n",
      "2016-12-18 16:22:42,766 - WARNING - dtocean_moorings.core - WARNING: Reynolds number out of range for drag coefficient data\n",
      "2016-12-18 16:22:42,767 - WARNING - dtocean_moorings.core - WARNING: Reynolds number out of range for drag coefficient data\n",
      "2016-12-18 16:22:42,769 - WARNING - dtocean_moorings.core - WARNING: Reynolds number out of range for drag coefficient data\n",
      "2016-12-18 16:22:42,770 - INFO - dtocean_moorings.core - \n",
      "WAMIT/NEMOH parameters not provided\n",
      "2016-12-18 16:22:42,921 - INFO - dtocean_moorings.core - Mass/viscous loads important, use Morison equation\n",
      "2016-12-18 16:22:42,930 - WARNING - dtocean_moorings.core - WARNING: Reynolds number out of range for drag coefficient data\n",
      "2016-12-18 16:22:42,940 - WARNING - dtocean_moorings.core - WARNING: Reynolds number out of range for drag coefficient data\n",
      "2016-12-18 16:22:42,950 - WARNING - dtocean_moorings.core - WARNING: Reynolds number out of range for drag coefficient data\n",
      "2016-12-18 16:22:42,963 - WARNING - dtocean_moorings.core - WARNING: Reynolds number out of range for drag coefficient data\n",
      "2016-12-18 16:22:42,976 - WARNING - dtocean_moorings.core - WARNING: Reynolds number out of range for drag coefficient data\n",
      "2016-12-18 16:22:42,987 - WARNING - dtocean_moorings.core - WARNING: Reynolds number out of range for drag coefficient data\n",
      "2016-12-18 16:22:42,996 - WARNING - dtocean_moorings.core - WARNING: Reynolds number out of range for drag coefficient data\n",
      "2016-12-18 16:22:43,006 - WARNING - dtocean_moorings.core - WARNING: Reynolds number out of range for drag coefficient data\n",
      "2016-12-18 16:22:43,016 - WARNING - dtocean_moorings.core - WARNING: Reynolds number out of range for drag coefficient data\n",
      "2016-12-18 16:22:43,026 - WARNING - dtocean_moorings.core - WARNING: Reynolds number out of range for drag coefficient data\n",
      "2016-12-18 16:22:43,043 - INFO - dtocean_moorings.core - \n",
      "_______________________________________________________________________\n",
      "Foundation 0\n",
      "_______________________________________________________________________\n",
      "2016-12-18 16:22:43,043 - INFO - dtocean_moorings.core - \n",
      "%%%%%%%%%%%%%%%%%%%%%%%%%%%%%%%%%%%%%%%%%%%%%%%\n",
      "Pile foundation/anchor design\n",
      "%%%%%%%%%%%%%%%%%%%%%%%%%%%%%%%%%%%%%%%%%%%%%%%\n",
      "2016-12-18 16:22:43,181 - INFO - dtocean_moorings.core - \n",
      "%%%%%%%%%%%%%%%%%%%%%%%%%%%%%%%%%%%%%%%%%%%%%%%\n",
      "Shallow foundation/anchor design\n",
      "%%%%%%%%%%%%%%%%%%%%%%%%%%%%%%%%%%%%%%%%%%%%%%%\n",
      "2016-12-18 16:22:43,184 - INFO - dtocean_moorings.core - \n",
      "Solution found [16.398288268367242, 16.398288268367242, 1.639828826836724, 1.6398288268367243, 0.8199144134183621, [10.0, 10.0], [0, 0], 440.95629821323837, 0.0]\n",
      "2016-12-18 16:22:43,186 - INFO - dtocean_moorings.core - \n",
      "%%%%%%%%%%%%%%%%%%%%%%%%%%%%%%%%%%%%%%%%%%%%%%%\n",
      "Gravity foundation/anchor design\n",
      "%%%%%%%%%%%%%%%%%%%%%%%%%%%%%%%%%%%%%%%%%%%%%%%\n",
      "2016-12-18 16:22:43,187 - INFO - dtocean_moorings.core - \n",
      "Solution found [5.25, 5.25, 1.3125, 0.0, 0.0, [0, 0], [0, 0], 5.9279174042702003, 30.2478638457298]\n",
      "2016-12-18 16:22:43,187 - INFO - dtocean_moorings.core - \n",
      "_______________________________________________________________________\n",
      "Foundation 1\n",
      "_______________________________________________________________________\n",
      "2016-12-18 16:22:43,188 - INFO - dtocean_moorings.core - \n",
      "%%%%%%%%%%%%%%%%%%%%%%%%%%%%%%%%%%%%%%%%%%%%%%%\n",
      "Pile foundation/anchor design\n",
      "%%%%%%%%%%%%%%%%%%%%%%%%%%%%%%%%%%%%%%%%%%%%%%%\n",
      "2016-12-18 16:22:43,322 - INFO - dtocean_moorings.core - \n",
      "%%%%%%%%%%%%%%%%%%%%%%%%%%%%%%%%%%%%%%%%%%%%%%%\n",
      "Shallow foundation/anchor design\n",
      "%%%%%%%%%%%%%%%%%%%%%%%%%%%%%%%%%%%%%%%%%%%%%%%\n",
      "2016-12-18 16:22:43,325 - INFO - dtocean_moorings.core - \n",
      "Solution found [17.088742511245858, 17.088742511245858, 1.708874251124586, 1.7088742511245858, 0.8544371255622929, [10.0, 10.0], [0, 0], 499.03420930165515, 0.0]\n",
      "2016-12-18 16:22:43,328 - INFO - dtocean_moorings.core - \n",
      "%%%%%%%%%%%%%%%%%%%%%%%%%%%%%%%%%%%%%%%%%%%%%%%\n",
      "Gravity foundation/anchor design\n",
      "%%%%%%%%%%%%%%%%%%%%%%%%%%%%%%%%%%%%%%%%%%%%%%%\n",
      "2016-12-18 16:22:43,329 - INFO - dtocean_moorings.core - \n",
      "Solution found [3.5, 3.5, 0.875, 0.0, 0.0, [0, 0], [0, 0], 1.6818169392001785, 9.0369330607998215]\n",
      "2016-12-18 16:22:43,331 - INFO - dtocean_moorings.core - \n",
      "_______________________________________________________________________\n",
      "Foundation 2\n",
      "_______________________________________________________________________\n",
      "2016-12-18 16:22:43,332 - INFO - dtocean_moorings.core - \n",
      "%%%%%%%%%%%%%%%%%%%%%%%%%%%%%%%%%%%%%%%%%%%%%%%\n",
      "Pile foundation/anchor design\n",
      "%%%%%%%%%%%%%%%%%%%%%%%%%%%%%%%%%%%%%%%%%%%%%%%\n",
      "2016-12-18 16:22:43,453 - INFO - dtocean_moorings.core - \n",
      "%%%%%%%%%%%%%%%%%%%%%%%%%%%%%%%%%%%%%%%%%%%%%%%\n",
      "Shallow foundation/anchor design\n",
      "%%%%%%%%%%%%%%%%%%%%%%%%%%%%%%%%%%%%%%%%%%%%%%%\n",
      "2016-12-18 16:22:43,456 - INFO - dtocean_moorings.core - \n",
      "Solution found [17.088742511245858, 17.088742511245858, 1.708874251124586, 1.7088742511245858, 0.8544371255622929, [10.0, 10.0], [0, 0], 499.03420930165515, 0.0]\n",
      "2016-12-18 16:22:43,456 - INFO - dtocean_moorings.core - \n",
      "%%%%%%%%%%%%%%%%%%%%%%%%%%%%%%%%%%%%%%%%%%%%%%%\n",
      "Gravity foundation/anchor design\n",
      "%%%%%%%%%%%%%%%%%%%%%%%%%%%%%%%%%%%%%%%%%%%%%%%\n",
      "2016-12-18 16:22:43,457 - INFO - dtocean_moorings.core - \n",
      "Solution found [3.5, 3.5, 0.875, 0.0, 0.0, [0, 0], [0, 0], 1.6818169392001838, 9.0369330607998162]\n",
      "2016-12-18 16:22:43,457 - INFO - dtocean_moorings.core - \n",
      "_______________________________________________________________________\n",
      "Foundation 3\n",
      "_______________________________________________________________________\n",
      "2016-12-18 16:22:43,459 - INFO - dtocean_moorings.core - \n",
      "%%%%%%%%%%%%%%%%%%%%%%%%%%%%%%%%%%%%%%%%%%%%%%%\n",
      "Pile foundation/anchor design\n",
      "%%%%%%%%%%%%%%%%%%%%%%%%%%%%%%%%%%%%%%%%%%%%%%%\n",
      "2016-12-18 16:22:43,586 - INFO - dtocean_moorings.core - \n",
      "%%%%%%%%%%%%%%%%%%%%%%%%%%%%%%%%%%%%%%%%%%%%%%%\n",
      "Shallow foundation/anchor design\n",
      "%%%%%%%%%%%%%%%%%%%%%%%%%%%%%%%%%%%%%%%%%%%%%%%\n",
      "2016-12-18 16:22:43,588 - INFO - dtocean_moorings.core - \n",
      "Solution found [16.398288268367242, 16.398288268367242, 1.639828826836724, 1.6398288268367243, 0.8199144134183621, [10.0, 10.0], [0, 0], 440.95629821323837, 0.0]\n",
      "2016-12-18 16:22:43,589 - INFO - dtocean_moorings.core - \n",
      "%%%%%%%%%%%%%%%%%%%%%%%%%%%%%%%%%%%%%%%%%%%%%%%\n",
      "Gravity foundation/anchor design\n",
      "%%%%%%%%%%%%%%%%%%%%%%%%%%%%%%%%%%%%%%%%%%%%%%%\n",
      "2016-12-18 16:22:43,591 - INFO - dtocean_moorings.core - \n",
      "Solution found [5.25, 5.25, 1.3125, 0.0, 0.0, [0, 0], [0, 0], 5.9279174042701896, 30.24786384572981]\n",
      "2016-12-18 16:22:43,592 - INFO - dtocean_moorings.core - \n",
      "%%%%%%%%%%%%%%%%%%%%%%%%%%%%%%%%%%%%%%%%%%%%%%%\n",
      "Gravity foundation/anchor design\n",
      "%%%%%%%%%%%%%%%%%%%%%%%%%%%%%%%%%%%%%%%%%%%%%%%\n",
      "self.piledim [[3.0, 0.059999999999999998, 15.0, 'False', 'id723', 0.0], [3.0, 0.059999999999999998, 6.0, 'True', 'id723', 0.0], [3.0, 0.059999999999999998, 6.0, 'True', 'id723', 0.0], [3.0, 0.059999999999999998, 15.0, 'False', 'id723', 0.0]]\n",
      "self.pileyld 355000000.0\n",
      "2016-12-18 16:22:43,592 - INFO - dtocean_moorings.core - \n",
      "self.possfoundtyp [[('pile', 5), ('shallowfoundation', 6), ('gravity', 6)], [('pile', 5), ('shallowfoundation', 6), ('gravity', 6)], [('pile', 5), ('shallowfoundation', 6), ('gravity', 6)], [('pile', 5), ('shallowfoundation', 6), ('gravity', 6)]]\n",
      "self.selfoundtyp [('shallowfoundation', 116412.46272829492), ('pile', 67860.0), ('pile', 67860.0), ('shallowfoundation', 116412.46272829492)]\n",
      "2016-12-18 16:22:43,598 - INFO - dtocean_moorings.main - ===================================================================\n",
      "2016-12-18 16:22:43,598 - INFO - dtocean_moorings.main - Device ID: device005\n",
      "2016-12-18 16:22:43,598 - INFO - dtocean_moorings.main - ===================================================================\n",
      "2016-12-18 16:22:43,759 - INFO - dtocean_moorings.core - Foundation point coincides with grid line or grid point\n",
      "2016-12-18 16:22:43,960 - INFO - dtocean_moorings.core - Foundation point coincides with grid line or grid point\n",
      "2016-12-18 16:22:44,161 - INFO - dtocean_moorings.core - Foundation point coincides with grid line or grid point\n",
      "2016-12-18 16:22:44,351 - INFO - dtocean_moorings.core - Foundation point coincides with grid line or grid point\n",
      "2016-12-18 16:22:44,555 - INFO - dtocean_moorings.core - Foundation point coincides with grid line or grid point\n",
      "2016-12-18 16:22:44,622 - WARNING - dtocean_moorings.core - WARNING: Reynolds number out of range for drag coefficient data\n",
      "2016-12-18 16:22:44,624 - WARNING - dtocean_moorings.core - WARNING: Reynolds number out of range for drag coefficient data\n",
      "2016-12-18 16:22:44,625 - WARNING - dtocean_moorings.core - WARNING: Reynolds number out of range for drag coefficient data\n",
      "2016-12-18 16:22:44,627 - WARNING - dtocean_moorings.core - WARNING: Reynolds number out of range for drag coefficient data\n",
      "2016-12-18 16:22:44,628 - WARNING - dtocean_moorings.core - WARNING: Reynolds number out of range for drag coefficient data\n",
      "2016-12-18 16:22:44,631 - WARNING - dtocean_moorings.core - WARNING: Reynolds number out of range for drag coefficient data\n",
      "2016-12-18 16:22:44,634 - WARNING - dtocean_moorings.core - WARNING: Reynolds number out of range for drag coefficient data\n",
      "2016-12-18 16:22:44,634 - WARNING - dtocean_moorings.core - WARNING: Reynolds number out of range for drag coefficient data\n",
      "2016-12-18 16:22:44,637 - WARNING - dtocean_moorings.core - WARNING: Reynolds number out of range for drag coefficient data\n",
      "2016-12-18 16:22:44,638 - WARNING - dtocean_moorings.core - WARNING: Reynolds number out of range for drag coefficient data\n",
      "2016-12-18 16:22:44,640 - INFO - dtocean_moorings.core - \n",
      "WAMIT/NEMOH parameters not provided\n",
      "2016-12-18 16:22:44,786 - INFO - dtocean_moorings.core - Mass/viscous loads important, use Morison equation\n",
      "2016-12-18 16:22:44,796 - WARNING - dtocean_moorings.core - WARNING: Reynolds number out of range for drag coefficient data\n",
      "2016-12-18 16:22:44,806 - WARNING - dtocean_moorings.core - WARNING: Reynolds number out of range for drag coefficient data\n",
      "2016-12-18 16:22:44,816 - WARNING - dtocean_moorings.core - WARNING: Reynolds number out of range for drag coefficient data\n",
      "2016-12-18 16:22:44,829 - WARNING - dtocean_moorings.core - WARNING: Reynolds number out of range for drag coefficient data\n",
      "2016-12-18 16:22:44,839 - WARNING - dtocean_moorings.core - WARNING: Reynolds number out of range for drag coefficient data\n",
      "2016-12-18 16:22:44,849 - WARNING - dtocean_moorings.core - WARNING: Reynolds number out of range for drag coefficient data\n",
      "2016-12-18 16:22:44,864 - WARNING - dtocean_moorings.core - WARNING: Reynolds number out of range for drag coefficient data\n",
      "2016-12-18 16:22:44,874 - WARNING - dtocean_moorings.core - WARNING: Reynolds number out of range for drag coefficient data\n",
      "2016-12-18 16:22:44,884 - WARNING - dtocean_moorings.core - WARNING: Reynolds number out of range for drag coefficient data\n",
      "2016-12-18 16:22:44,894 - WARNING - dtocean_moorings.core - WARNING: Reynolds number out of range for drag coefficient data\n",
      "2016-12-18 16:22:44,910 - WARNING - dtocean_moorings.core - WARNING: Reynolds number out of range for drag coefficient data\n",
      "2016-12-18 16:22:44,911 - WARNING - dtocean_moorings.core - WARNING: Reynolds number out of range for drag coefficient data\n",
      "2016-12-18 16:22:44,911 - WARNING - dtocean_moorings.core - WARNING: Reynolds number out of range for drag coefficient data\n",
      "2016-12-18 16:22:44,913 - WARNING - dtocean_moorings.core - WARNING: Reynolds number out of range for drag coefficient data\n",
      "2016-12-18 16:22:44,914 - WARNING - dtocean_moorings.core - WARNING: Reynolds number out of range for drag coefficient data\n",
      "2016-12-18 16:22:44,914 - WARNING - dtocean_moorings.core - WARNING: Reynolds number out of range for drag coefficient data\n",
      "2016-12-18 16:22:44,915 - WARNING - dtocean_moorings.core - WARNING: Reynolds number out of range for drag coefficient data\n",
      "2016-12-18 16:22:44,917 - WARNING - dtocean_moorings.core - WARNING: Reynolds number out of range for drag coefficient data\n",
      "2016-12-18 16:22:44,917 - WARNING - dtocean_moorings.core - WARNING: Reynolds number out of range for drag coefficient data\n",
      "2016-12-18 16:22:44,918 - WARNING - dtocean_moorings.core - WARNING: Reynolds number out of range for drag coefficient data\n",
      "2016-12-18 16:22:44,920 - INFO - dtocean_moorings.core - \n",
      "WAMIT/NEMOH parameters not provided\n",
      "2016-12-18 16:22:45,058 - INFO - dtocean_moorings.core - Mass/viscous loads important, use Morison equation\n",
      "2016-12-18 16:22:45,065 - WARNING - dtocean_moorings.core - WARNING: Reynolds number out of range for drag coefficient data\n",
      "2016-12-18 16:22:45,075 - WARNING - dtocean_moorings.core - WARNING: Reynolds number out of range for drag coefficient data\n",
      "2016-12-18 16:22:45,085 - WARNING - dtocean_moorings.core - WARNING: Reynolds number out of range for drag coefficient data\n",
      "2016-12-18 16:22:45,095 - WARNING - dtocean_moorings.core - WARNING: Reynolds number out of range for drag coefficient data\n",
      "2016-12-18 16:22:45,105 - WARNING - dtocean_moorings.core - WARNING: Reynolds number out of range for drag coefficient data\n",
      "2016-12-18 16:22:45,117 - WARNING - dtocean_moorings.core - WARNING: Reynolds number out of range for drag coefficient data\n",
      "2016-12-18 16:22:45,128 - WARNING - dtocean_moorings.core - WARNING: Reynolds number out of range for drag coefficient data\n",
      "2016-12-18 16:22:45,138 - WARNING - dtocean_moorings.core - WARNING: Reynolds number out of range for drag coefficient data\n",
      "2016-12-18 16:22:45,151 - WARNING - dtocean_moorings.core - WARNING: Reynolds number out of range for drag coefficient data\n",
      "2016-12-18 16:22:45,164 - WARNING - dtocean_moorings.core - WARNING: Reynolds number out of range for drag coefficient data\n",
      "2016-12-18 16:22:45,184 - INFO - dtocean_moorings.core - \n",
      "_______________________________________________________________________\n",
      "Foundation 0\n",
      "_______________________________________________________________________\n",
      "2016-12-18 16:22:45,184 - INFO - dtocean_moorings.core - \n",
      "%%%%%%%%%%%%%%%%%%%%%%%%%%%%%%%%%%%%%%%%%%%%%%%\n",
      "Pile foundation/anchor design\n",
      "%%%%%%%%%%%%%%%%%%%%%%%%%%%%%%%%%%%%%%%%%%%%%%%\n",
      "2016-12-18 16:22:45,319 - INFO - dtocean_moorings.core - \n",
      "%%%%%%%%%%%%%%%%%%%%%%%%%%%%%%%%%%%%%%%%%%%%%%%\n",
      "Shallow foundation/anchor design\n",
      "%%%%%%%%%%%%%%%%%%%%%%%%%%%%%%%%%%%%%%%%%%%%%%%\n",
      "2016-12-18 16:22:45,321 - INFO - dtocean_moorings.core - \n",
      "Solution found [16.398288268367242, 16.398288268367242, 1.639828826836724, 1.6398288268367243, 0.8199144134183621, [10.0, 10.0], [0, 0], 440.95629821323837, 0.0]\n",
      "2016-12-18 16:22:45,322 - INFO - dtocean_moorings.core - \n",
      "%%%%%%%%%%%%%%%%%%%%%%%%%%%%%%%%%%%%%%%%%%%%%%%\n",
      "Gravity foundation/anchor design\n",
      "%%%%%%%%%%%%%%%%%%%%%%%%%%%%%%%%%%%%%%%%%%%%%%%\n",
      "2016-12-18 16:22:45,322 - INFO - dtocean_moorings.core - \n",
      "Solution found [5.25, 5.25, 1.3125, 0.0, 0.0, [0, 0], [0, 0], 5.9279174042702003, 30.2478638457298]\n",
      "2016-12-18 16:22:45,323 - INFO - dtocean_moorings.core - \n",
      "_______________________________________________________________________\n",
      "Foundation 1\n",
      "_______________________________________________________________________\n",
      "2016-12-18 16:22:45,325 - INFO - dtocean_moorings.core - \n",
      "%%%%%%%%%%%%%%%%%%%%%%%%%%%%%%%%%%%%%%%%%%%%%%%\n",
      "Pile foundation/anchor design\n",
      "%%%%%%%%%%%%%%%%%%%%%%%%%%%%%%%%%%%%%%%%%%%%%%%\n",
      "2016-12-18 16:22:45,456 - INFO - dtocean_moorings.core - \n",
      "%%%%%%%%%%%%%%%%%%%%%%%%%%%%%%%%%%%%%%%%%%%%%%%\n",
      "Shallow foundation/anchor design\n",
      "%%%%%%%%%%%%%%%%%%%%%%%%%%%%%%%%%%%%%%%%%%%%%%%\n",
      "2016-12-18 16:22:45,457 - INFO - dtocean_moorings.core - \n",
      "Solution found [17.088742511245858, 17.088742511245858, 1.708874251124586, 1.7088742511245858, 0.8544371255622929, [10.0, 10.0], [0, 0], 499.03420930165515, 0.0]\n",
      "2016-12-18 16:22:45,459 - INFO - dtocean_moorings.core - \n",
      "%%%%%%%%%%%%%%%%%%%%%%%%%%%%%%%%%%%%%%%%%%%%%%%\n",
      "Gravity foundation/anchor design\n",
      "%%%%%%%%%%%%%%%%%%%%%%%%%%%%%%%%%%%%%%%%%%%%%%%\n",
      "2016-12-18 16:22:45,460 - INFO - dtocean_moorings.core - \n",
      "Solution found [3.5, 3.5, 0.875, 0.0, 0.0, [0, 0], [0, 0], 1.6818169392001785, 9.0369330607998215]\n",
      "2016-12-18 16:22:45,461 - INFO - dtocean_moorings.core - \n",
      "_______________________________________________________________________\n",
      "Foundation 2\n",
      "_______________________________________________________________________\n",
      "2016-12-18 16:22:45,461 - INFO - dtocean_moorings.core - \n",
      "%%%%%%%%%%%%%%%%%%%%%%%%%%%%%%%%%%%%%%%%%%%%%%%\n",
      "Pile foundation/anchor design\n",
      "%%%%%%%%%%%%%%%%%%%%%%%%%%%%%%%%%%%%%%%%%%%%%%%\n",
      "2016-12-18 16:22:45,585 - INFO - dtocean_moorings.core - \n",
      "%%%%%%%%%%%%%%%%%%%%%%%%%%%%%%%%%%%%%%%%%%%%%%%\n",
      "Shallow foundation/anchor design\n",
      "%%%%%%%%%%%%%%%%%%%%%%%%%%%%%%%%%%%%%%%%%%%%%%%\n",
      "2016-12-18 16:22:45,589 - INFO - dtocean_moorings.core - \n",
      "Solution found [17.088742511245858, 17.088742511245858, 1.708874251124586, 1.7088742511245858, 0.8544371255622929, [10.0, 10.0], [0, 0], 499.03420930165515, 0.0]\n",
      "2016-12-18 16:22:45,591 - INFO - dtocean_moorings.core - \n",
      "%%%%%%%%%%%%%%%%%%%%%%%%%%%%%%%%%%%%%%%%%%%%%%%\n",
      "Gravity foundation/anchor design\n",
      "%%%%%%%%%%%%%%%%%%%%%%%%%%%%%%%%%%%%%%%%%%%%%%%\n",
      "2016-12-18 16:22:45,591 - INFO - dtocean_moorings.core - \n",
      "Solution found [3.5, 3.5, 0.875, 0.0, 0.0, [0, 0], [0, 0], 1.6818169392001838, 9.0369330607998162]\n",
      "2016-12-18 16:22:45,592 - INFO - dtocean_moorings.core - \n",
      "_______________________________________________________________________\n",
      "Foundation 3\n",
      "_______________________________________________________________________\n",
      "2016-12-18 16:22:45,592 - INFO - dtocean_moorings.core - \n",
      "%%%%%%%%%%%%%%%%%%%%%%%%%%%%%%%%%%%%%%%%%%%%%%%\n",
      "Pile foundation/anchor design\n",
      "%%%%%%%%%%%%%%%%%%%%%%%%%%%%%%%%%%%%%%%%%%%%%%%\n",
      "2016-12-18 16:22:45,737 - INFO - dtocean_moorings.core - \n",
      "%%%%%%%%%%%%%%%%%%%%%%%%%%%%%%%%%%%%%%%%%%%%%%%\n",
      "Shallow foundation/anchor design\n",
      "%%%%%%%%%%%%%%%%%%%%%%%%%%%%%%%%%%%%%%%%%%%%%%%\n",
      "2016-12-18 16:22:45,740 - INFO - dtocean_moorings.core - \n",
      "Solution found [16.398288268367242, 16.398288268367242, 1.639828826836724, 1.6398288268367243, 0.8199144134183621, [10.0, 10.0], [0, 0], 440.95629821323837, 0.0]\n",
      "2016-12-18 16:22:45,740 - INFO - dtocean_moorings.core - \n",
      "%%%%%%%%%%%%%%%%%%%%%%%%%%%%%%%%%%%%%%%%%%%%%%%\n",
      "Gravity foundation/anchor design\n",
      "%%%%%%%%%%%%%%%%%%%%%%%%%%%%%%%%%%%%%%%%%%%%%%%\n",
      "2016-12-18 16:22:45,742 - INFO - dtocean_moorings.core - \n",
      "Solution found [5.25, 5.25, 1.3125, 0.0, 0.0, [0, 0], [0, 0], 5.9279174042701896, 30.24786384572981]\n",
      "2016-12-18 16:22:45,743 - INFO - dtocean_moorings.core - \n",
      "%%%%%%%%%%%%%%%%%%%%%%%%%%%%%%%%%%%%%%%%%%%%%%%\n",
      "Gravity foundation/anchor design\n",
      "%%%%%%%%%%%%%%%%%%%%%%%%%%%%%%%%%%%%%%%%%%%%%%%\n",
      "self.piledim [[3.0, 0.059999999999999998, 15.0, 'False', 'id723', 0.0], [3.0, 0.059999999999999998, 6.0, 'True', 'id723', 0.0], [3.0, 0.059999999999999998, 6.0, 'True', 'id723', 0.0], [3.0, 0.059999999999999998, 15.0, 'False', 'id723', 0.0]]\n",
      "self.pileyld 355000000.0\n",
      "2016-12-18 16:22:45,743 - INFO - dtocean_moorings.core - \n",
      "self.possfoundtyp [[('pile', 5), ('shallowfoundation', 6), ('gravity', 6)], [('pile', 5), ('shallowfoundation', 6), ('gravity', 6)], [('pile', 5), ('shallowfoundation', 6), ('gravity', 6)], [('pile', 5), ('shallowfoundation', 6), ('gravity', 6)]]\n",
      "self.selfoundtyp [('shallowfoundation', 116412.46272829492), ('pile', 67860.0), ('pile', 67860.0), ('shallowfoundation', 116412.46272829492)]\n",
      "2016-12-18 16:22:45,750 - INFO - dtocean_moorings.main - ===================================================================\n",
      "2016-12-18 16:22:45,750 - INFO - dtocean_moorings.main - Substation ID: array\n",
      "2016-12-18 16:22:45,752 - INFO - dtocean_moorings.main - ===================================================================\n",
      "2016-12-18 16:22:45,923 - INFO - dtocean_moorings.core - Foundation point coincides with grid line or grid point\n",
      "2016-12-18 16:22:46,121 - INFO - dtocean_moorings.core - Foundation point coincides with grid line or grid point\n",
      "2016-12-18 16:22:46,181 - INFO - dtocean_moorings.core - \n",
      "WAMIT/NEMOH parameters not provided\n",
      "2016-12-18 16:22:46,319 - INFO - dtocean_moorings.core - Mass/viscous loads important, use Morison equation\n",
      "2016-12-18 16:22:46,329 - WARNING - dtocean_moorings.core - WARNING: Hmax / projected length < 0.25, drag negligible\n",
      "2016-12-18 16:22:46,348 - WARNING - dtocean_moorings.core - WARNING: Hmax / projected length < 0.25, drag negligible\n",
      "2016-12-18 16:22:46,361 - WARNING - dtocean_moorings.core - WARNING: Hmax / projected length < 0.25, drag negligible\n",
      "2016-12-18 16:22:46,375 - WARNING - dtocean_moorings.core - WARNING: Hmax / projected length < 0.25, drag negligible\n",
      "2016-12-18 16:22:46,388 - WARNING - dtocean_moorings.core - WARNING: Hmax / projected length < 0.25, drag negligible\n",
      "2016-12-18 16:22:46,401 - WARNING - dtocean_moorings.core - WARNING: Hmax / projected length < 0.25, drag negligible\n",
      "2016-12-18 16:22:46,415 - WARNING - dtocean_moorings.core - WARNING: Hmax / projected length < 0.25, drag negligible\n",
      "2016-12-18 16:22:46,431 - WARNING - dtocean_moorings.core - WARNING: Hmax / projected length < 0.25, drag negligible\n",
      "2016-12-18 16:22:46,447 - WARNING - dtocean_moorings.core - WARNING: Hmax / projected length < 0.25, drag negligible\n",
      "2016-12-18 16:22:46,460 - WARNING - dtocean_moorings.core - WARNING: Hmax / projected length < 0.25, drag negligible\n",
      "2016-12-18 16:22:46,483 - INFO - dtocean_moorings.core - \n",
      "WAMIT/NEMOH parameters not provided\n",
      "2016-12-18 16:22:46,625 - INFO - dtocean_moorings.core - Mass/viscous loads important, use Morison equation\n",
      "2016-12-18 16:22:46,632 - WARNING - dtocean_moorings.core - WARNING: Hmax / projected length < 0.25, drag negligible\n",
      "2016-12-18 16:22:46,651 - WARNING - dtocean_moorings.core - WARNING: Hmax / projected length < 0.25, drag negligible\n",
      "2016-12-18 16:22:46,668 - WARNING - dtocean_moorings.core - WARNING: Hmax / projected length < 0.25, drag negligible\n",
      "2016-12-18 16:22:46,688 - WARNING - dtocean_moorings.core - WARNING: Hmax / projected length < 0.25, drag negligible\n",
      "2016-12-18 16:22:46,704 - WARNING - dtocean_moorings.core - WARNING: Hmax / projected length < 0.25, drag negligible\n",
      "2016-12-18 16:22:46,721 - WARNING - dtocean_moorings.core - WARNING: Hmax / projected length < 0.25, drag negligible\n",
      "2016-12-18 16:22:46,737 - WARNING - dtocean_moorings.core - WARNING: Hmax / projected length < 0.25, drag negligible\n",
      "2016-12-18 16:22:46,759 - WARNING - dtocean_moorings.core - WARNING: Hmax / projected length < 0.25, drag negligible\n",
      "2016-12-18 16:22:46,776 - WARNING - dtocean_moorings.core - WARNING: Hmax / projected length < 0.25, drag negligible\n",
      "2016-12-18 16:22:46,793 - WARNING - dtocean_moorings.core - WARNING: Hmax / projected length < 0.25, drag negligible\n",
      "2016-12-18 16:22:46,822 - INFO - dtocean_moorings.core - \n",
      "WAMIT/NEMOH parameters not provided\n",
      "2016-12-18 16:22:46,966 - INFO - dtocean_moorings.core - Mass/viscous loads important, use Morison equation\n",
      "2016-12-18 16:22:46,973 - WARNING - dtocean_moorings.core - WARNING: Hmax / projected length < 0.25, drag negligible\n",
      "2016-12-18 16:22:46,989 - WARNING - dtocean_moorings.core - WARNING: Hmax / projected length < 0.25, drag negligible\n",
      "2016-12-18 16:22:47,005 - WARNING - dtocean_moorings.core - WARNING: Hmax / projected length < 0.25, drag negligible\n",
      "2016-12-18 16:22:47,023 - WARNING - dtocean_moorings.core - WARNING: Hmax / projected length < 0.25, drag negligible\n",
      "2016-12-18 16:22:47,042 - WARNING - dtocean_moorings.core - WARNING: Hmax / projected length < 0.25, drag negligible\n",
      "2016-12-18 16:22:47,058 - WARNING - dtocean_moorings.core - WARNING: Hmax / projected length < 0.25, drag negligible\n",
      "2016-12-18 16:22:47,075 - WARNING - dtocean_moorings.core - WARNING: Hmax / projected length < 0.25, drag negligible\n",
      "2016-12-18 16:22:47,091 - WARNING - dtocean_moorings.core - WARNING: Hmax / projected length < 0.25, drag negligible\n",
      "2016-12-18 16:22:47,111 - WARNING - dtocean_moorings.core - WARNING: Hmax / projected length < 0.25, drag negligible\n",
      "2016-12-18 16:22:47,128 - WARNING - dtocean_moorings.core - WARNING: Hmax / projected length < 0.25, drag negligible\n",
      "2016-12-18 16:22:47,158 - INFO - dtocean_moorings.core - \n",
      "_______________________________________________________________________\n",
      "Foundation 0\n",
      "_______________________________________________________________________\n",
      "2016-12-18 16:22:47,160 - INFO - dtocean_moorings.core - \n",
      "%%%%%%%%%%%%%%%%%%%%%%%%%%%%%%%%%%%%%%%%%%%%%%%\n",
      "Pile foundation/anchor design\n",
      "%%%%%%%%%%%%%%%%%%%%%%%%%%%%%%%%%%%%%%%%%%%%%%%\n",
      "2016-12-18 16:22:47,269 - INFO - dtocean_moorings.core - \n",
      "%%%%%%%%%%%%%%%%%%%%%%%%%%%%%%%%%%%%%%%%%%%%%%%\n",
      "Pile foundation/anchor design\n",
      "%%%%%%%%%%%%%%%%%%%%%%%%%%%%%%%%%%%%%%%%%%%%%%%\n",
      "self.piledim [[3.0, 0.059999999999999998, 23.5, 'True', 'id723', 0.0]]\n",
      "self.pileyld 355000000.0\n",
      "2016-12-18 16:22:47,278 - INFO - dtocean_moorings.main - ===================================================================\n",
      "2016-12-18 16:22:47,279 - INFO - dtocean_moorings.main - Substation ID: subhub001\n",
      "2016-12-18 16:22:47,279 - INFO - dtocean_moorings.main - ===================================================================\n",
      "2016-12-18 16:22:47,438 - INFO - dtocean_moorings.core - Foundation point coincides with grid line or grid point\n",
      "2016-12-18 16:22:47,640 - INFO - dtocean_moorings.core - Foundation point coincides with grid line or grid point\n",
      "2016-12-18 16:22:47,707 - INFO - dtocean_moorings.core - \n",
      "WAMIT/NEMOH parameters not provided\n",
      "2016-12-18 16:22:47,848 - INFO - dtocean_moorings.core - Mass/viscous loads important, use Morison equation\n",
      "2016-12-18 16:22:47,859 - WARNING - dtocean_moorings.core - WARNING: Hmax / projected length < 0.25, drag negligible\n",
      "2016-12-18 16:22:47,871 - WARNING - dtocean_moorings.core - WARNING: Hmax / projected length < 0.25, drag negligible\n",
      "2016-12-18 16:22:47,885 - WARNING - dtocean_moorings.core - WARNING: Hmax / projected length < 0.25, drag negligible\n",
      "2016-12-18 16:22:47,898 - WARNING - dtocean_moorings.core - WARNING: Hmax / projected length < 0.25, drag negligible\n",
      "2016-12-18 16:22:47,911 - WARNING - dtocean_moorings.core - WARNING: Hmax / projected length < 0.25, drag negligible\n",
      "2016-12-18 16:22:47,923 - WARNING - dtocean_moorings.core - WARNING: Hmax / projected length < 0.25, drag negligible\n",
      "2016-12-18 16:22:47,940 - WARNING - dtocean_moorings.core - WARNING: Hmax / projected length < 0.25, drag negligible\n",
      "2016-12-18 16:22:47,957 - WARNING - dtocean_moorings.core - WARNING: Hmax / projected length < 0.25, drag negligible\n",
      "2016-12-18 16:22:47,970 - WARNING - dtocean_moorings.core - WARNING: Hmax / projected length < 0.25, drag negligible\n",
      "2016-12-18 16:22:47,990 - WARNING - dtocean_moorings.core - WARNING: Hmax / projected length < 0.25, drag negligible\n",
      "2016-12-18 16:22:48,013 - INFO - dtocean_moorings.core - \n",
      "WAMIT/NEMOH parameters not provided\n",
      "2016-12-18 16:22:48,142 - INFO - dtocean_moorings.core - Mass/viscous loads important, use Morison equation\n",
      "2016-12-18 16:22:48,151 - WARNING - dtocean_moorings.core - WARNING: Hmax / projected length < 0.25, drag negligible\n",
      "2016-12-18 16:22:48,168 - WARNING - dtocean_moorings.core - WARNING: Hmax / projected length < 0.25, drag negligible\n",
      "2016-12-18 16:22:48,187 - WARNING - dtocean_moorings.core - WARNING: Hmax / projected length < 0.25, drag negligible\n",
      "2016-12-18 16:22:48,203 - WARNING - dtocean_moorings.core - WARNING: Hmax / projected length < 0.25, drag negligible\n",
      "2016-12-18 16:22:48,220 - WARNING - dtocean_moorings.core - WARNING: Hmax / projected length < 0.25, drag negligible\n",
      "2016-12-18 16:22:48,242 - WARNING - dtocean_moorings.core - WARNING: Hmax / projected length < 0.25, drag negligible\n",
      "2016-12-18 16:22:48,259 - WARNING - dtocean_moorings.core - WARNING: Hmax / projected length < 0.25, drag negligible\n",
      "2016-12-18 16:22:48,275 - WARNING - dtocean_moorings.core - WARNING: Hmax / projected length < 0.25, drag negligible\n",
      "2016-12-18 16:22:48,290 - WARNING - dtocean_moorings.core - WARNING: Hmax / projected length < 0.25, drag negligible\n",
      "2016-12-18 16:22:48,308 - WARNING - dtocean_moorings.core - WARNING: Hmax / projected length < 0.25, drag negligible\n",
      "2016-12-18 16:22:48,339 - INFO - dtocean_moorings.core - \n",
      "WAMIT/NEMOH parameters not provided\n",
      "2016-12-18 16:22:48,490 - INFO - dtocean_moorings.core - Mass/viscous loads important, use Morison equation\n",
      "2016-12-18 16:22:48,500 - WARNING - dtocean_moorings.core - WARNING: Hmax / projected length < 0.25, drag negligible\n",
      "2016-12-18 16:22:48,519 - WARNING - dtocean_moorings.core - WARNING: Hmax / projected length < 0.25, drag negligible\n",
      "2016-12-18 16:22:48,539 - WARNING - dtocean_moorings.core - WARNING: Hmax / projected length < 0.25, drag negligible\n",
      "2016-12-18 16:22:48,562 - WARNING - dtocean_moorings.core - WARNING: Hmax / projected length < 0.25, drag negligible\n",
      "2016-12-18 16:22:48,578 - WARNING - dtocean_moorings.core - WARNING: Hmax / projected length < 0.25, drag negligible\n",
      "2016-12-18 16:22:48,604 - WARNING - dtocean_moorings.core - WARNING: Hmax / projected length < 0.25, drag negligible\n",
      "2016-12-18 16:22:48,627 - WARNING - dtocean_moorings.core - WARNING: Hmax / projected length < 0.25, drag negligible\n",
      "2016-12-18 16:22:48,648 - WARNING - dtocean_moorings.core - WARNING: Hmax / projected length < 0.25, drag negligible\n",
      "2016-12-18 16:22:48,665 - WARNING - dtocean_moorings.core - WARNING: Hmax / projected length < 0.25, drag negligible\n",
      "2016-12-18 16:22:48,681 - WARNING - dtocean_moorings.core - WARNING: Hmax / projected length < 0.25, drag negligible\n",
      "2016-12-18 16:22:48,713 - INFO - dtocean_moorings.core - \n",
      "_______________________________________________________________________\n",
      "Foundation 0\n",
      "_______________________________________________________________________\n",
      "2016-12-18 16:22:48,714 - INFO - dtocean_moorings.core - \n",
      "%%%%%%%%%%%%%%%%%%%%%%%%%%%%%%%%%%%%%%%%%%%%%%%\n",
      "Pile foundation/anchor design\n",
      "%%%%%%%%%%%%%%%%%%%%%%%%%%%%%%%%%%%%%%%%%%%%%%%\n",
      "2016-12-18 16:22:48,838 - INFO - dtocean_moorings.core - \n",
      "%%%%%%%%%%%%%%%%%%%%%%%%%%%%%%%%%%%%%%%%%%%%%%%\n",
      "Pile foundation/anchor design\n",
      "%%%%%%%%%%%%%%%%%%%%%%%%%%%%%%%%%%%%%%%%%%%%%%%\n",
      "self.piledim [[3.0, 0.059999999999999998, 23.5, 'True', 'id723', 0.0]]\n",
      "self.pileyld 355000000.0\n",
      "2016-12-18 16:22:48,845 - INFO - dtocean_moorings.main - ===================================================================\n",
      "2016-12-18 16:22:48,845 - INFO - dtocean_moorings.main - Substation ID: subhub002\n",
      "2016-12-18 16:22:48,846 - INFO - dtocean_moorings.main - ===================================================================\n",
      "2016-12-18 16:22:49,094 - INFO - dtocean_moorings.core - Foundation point coincides with grid line or grid point\n",
      "2016-12-18 16:22:49,279 - INFO - dtocean_moorings.core - Foundation point coincides with grid line or grid point\n",
      "2016-12-18 16:22:49,354 - INFO - dtocean_moorings.core - \n",
      "WAMIT/NEMOH parameters not provided\n",
      "2016-12-18 16:22:49,506 - INFO - dtocean_moorings.core - Mass/viscous loads important, use Morison equation\n",
      "2016-12-18 16:22:49,513 - WARNING - dtocean_moorings.core - WARNING: Hmax / projected length < 0.25, drag negligible\n",
      "2016-12-18 16:22:49,529 - WARNING - dtocean_moorings.core - WARNING: Hmax / projected length < 0.25, drag negligible\n",
      "2016-12-18 16:22:49,542 - WARNING - dtocean_moorings.core - WARNING: Hmax / projected length < 0.25, drag negligible\n",
      "2016-12-18 16:22:49,555 - WARNING - dtocean_moorings.core - WARNING: Hmax / projected length < 0.25, drag negligible\n",
      "2016-12-18 16:22:49,569 - WARNING - dtocean_moorings.core - WARNING: Hmax / projected length < 0.25, drag negligible\n",
      "2016-12-18 16:22:49,581 - WARNING - dtocean_moorings.core - WARNING: Hmax / projected length < 0.25, drag negligible\n",
      "2016-12-18 16:22:49,595 - WARNING - dtocean_moorings.core - WARNING: Hmax / projected length < 0.25, drag negligible\n",
      "2016-12-18 16:22:49,608 - WARNING - dtocean_moorings.core - WARNING: Hmax / projected length < 0.25, drag negligible\n",
      "2016-12-18 16:22:49,621 - WARNING - dtocean_moorings.core - WARNING: Hmax / projected length < 0.25, drag negligible\n",
      "2016-12-18 16:22:49,634 - WARNING - dtocean_moorings.core - WARNING: Hmax / projected length < 0.25, drag negligible\n",
      "2016-12-18 16:22:49,661 - INFO - dtocean_moorings.core - \n",
      "WAMIT/NEMOH parameters not provided\n",
      "2016-12-18 16:22:49,798 - INFO - dtocean_moorings.core - Mass/viscous loads important, use Morison equation\n",
      "2016-12-18 16:22:49,805 - WARNING - dtocean_moorings.core - WARNING: Hmax / projected length < 0.25, drag negligible\n",
      "2016-12-18 16:22:49,822 - WARNING - dtocean_moorings.core - WARNING: Hmax / projected length < 0.25, drag negligible\n",
      "2016-12-18 16:22:49,838 - WARNING - dtocean_moorings.core - WARNING: Hmax / projected length < 0.25, drag negligible\n",
      "2016-12-18 16:22:49,855 - WARNING - dtocean_moorings.core - WARNING: Hmax / projected length < 0.25, drag negligible\n",
      "2016-12-18 16:22:49,872 - WARNING - dtocean_moorings.core - WARNING: Hmax / projected length < 0.25, drag negligible\n",
      "2016-12-18 16:22:49,898 - WARNING - dtocean_moorings.core - WARNING: Hmax / projected length < 0.25, drag negligible\n",
      "2016-12-18 16:22:49,914 - WARNING - dtocean_moorings.core - WARNING: Hmax / projected length < 0.25, drag negligible\n",
      "2016-12-18 16:22:49,931 - WARNING - dtocean_moorings.core - WARNING: Hmax / projected length < 0.25, drag negligible\n",
      "2016-12-18 16:22:49,947 - WARNING - dtocean_moorings.core - WARNING: Hmax / projected length < 0.25, drag negligible\n",
      "2016-12-18 16:22:49,970 - WARNING - dtocean_moorings.core - WARNING: Hmax / projected length < 0.25, drag negligible\n",
      "2016-12-18 16:22:50,009 - INFO - dtocean_moorings.core - \n",
      "WAMIT/NEMOH parameters not provided\n",
      "2016-12-18 16:22:50,151 - INFO - dtocean_moorings.core - Mass/viscous loads important, use Morison equation\n",
      "2016-12-18 16:22:50,157 - WARNING - dtocean_moorings.core - WARNING: Hmax / projected length < 0.25, drag negligible\n",
      "2016-12-18 16:22:50,174 - WARNING - dtocean_moorings.core - WARNING: Hmax / projected length < 0.25, drag negligible\n",
      "2016-12-18 16:22:50,190 - WARNING - dtocean_moorings.core - WARNING: Hmax / projected length < 0.25, drag negligible\n",
      "2016-12-18 16:22:50,207 - WARNING - dtocean_moorings.core - WARNING: Hmax / projected length < 0.25, drag negligible\n",
      "2016-12-18 16:22:50,223 - WARNING - dtocean_moorings.core - WARNING: Hmax / projected length < 0.25, drag negligible\n",
      "2016-12-18 16:22:50,240 - WARNING - dtocean_moorings.core - WARNING: Hmax / projected length < 0.25, drag negligible\n",
      "2016-12-18 16:22:50,263 - WARNING - dtocean_moorings.core - WARNING: Hmax / projected length < 0.25, drag negligible\n",
      "2016-12-18 16:22:50,286 - WARNING - dtocean_moorings.core - WARNING: Hmax / projected length < 0.25, drag negligible\n",
      "2016-12-18 16:22:50,302 - WARNING - dtocean_moorings.core - WARNING: Hmax / projected length < 0.25, drag negligible\n",
      "2016-12-18 16:22:50,322 - WARNING - dtocean_moorings.core - WARNING: Hmax / projected length < 0.25, drag negligible\n",
      "2016-12-18 16:22:50,359 - INFO - dtocean_moorings.core - \n",
      "_______________________________________________________________________\n",
      "Foundation 0\n",
      "_______________________________________________________________________\n",
      "2016-12-18 16:22:50,359 - INFO - dtocean_moorings.core - \n",
      "%%%%%%%%%%%%%%%%%%%%%%%%%%%%%%%%%%%%%%%%%%%%%%%\n",
      "Pile foundation/anchor design\n",
      "%%%%%%%%%%%%%%%%%%%%%%%%%%%%%%%%%%%%%%%%%%%%%%%\n",
      "2016-12-18 16:22:50,471 - INFO - dtocean_moorings.core - \n",
      "%%%%%%%%%%%%%%%%%%%%%%%%%%%%%%%%%%%%%%%%%%%%%%%\n",
      "Pile foundation/anchor design\n",
      "%%%%%%%%%%%%%%%%%%%%%%%%%%%%%%%%%%%%%%%%%%%%%%%\n",
      "self.piledim [[3.0, 0.059999999999999998, 23.5, 'True', 'id723', 0.0]]\n",
      "self.pileyld 355000000.0\n",
      "2016-12-18 16:22:50,513 - INFO - dtocean_moorings.main - \n",
      "_________________________________________________________________________\n",
      "Array level foundation installation table\n",
      "   devices [-] foundations [-]           type [-]  \\\n",
      "0    device001   foundation000  shallowfoundation   \n",
      "1    device001   foundation001               pile   \n",
      "2    device001   foundation002               pile   \n",
      "3    device001   foundation003  shallowfoundation   \n",
      "4    device002   foundation004  shallowfoundation   \n",
      "5    device002   foundation005               pile   \n",
      "6    device002   foundation006               pile   \n",
      "7    device002   foundation007  shallowfoundation   \n",
      "8    device003   foundation008  shallowfoundation   \n",
      "9    device003   foundation009               pile   \n",
      "10   device003   foundation010               pile   \n",
      "11   device003   foundation011  shallowfoundation   \n",
      "12   device004   foundation012  shallowfoundation   \n",
      "13   device004   foundation013               pile   \n",
      "14   device004   foundation014               pile   \n",
      "15   device004   foundation015  shallowfoundation   \n",
      "16   device005   foundation016  shallowfoundation   \n",
      "17   device005   foundation017               pile   \n",
      "18   device005   foundation018               pile   \n",
      "19   device005   foundation019  shallowfoundation   \n",
      "20       array   foundation020               pile   \n",
      "21   subhub001   foundation021               pile   \n",
      "22   subhub002   foundation022               pile   \n",
      "\n",
      "                                          subtype [-] marker [-]  x coord [m]  \\\n",
      "0   concrete/steel composite structure with shear ...       0000     101240.0   \n",
      "1                                           pipe pile       0001     101240.0   \n",
      "2                                           pipe pile       0003     101260.0   \n",
      "3   concrete/steel composite structure with shear ...       0005     101260.0   \n",
      "4   concrete/steel composite structure with shear ...       0006     101740.0   \n",
      "5                                           pipe pile       0007     101740.0   \n",
      "6                                           pipe pile       0009     101760.0   \n",
      "7   concrete/steel composite structure with shear ...       0011     101760.0   \n",
      "8   concrete/steel composite structure with shear ...       0012     101490.0   \n",
      "9                                           pipe pile       0013     101490.0   \n",
      "10                                          pipe pile       0015     101510.0   \n",
      "11  concrete/steel composite structure with shear ...       0017     101510.0   \n",
      "12  concrete/steel composite structure with shear ...       0018     101240.0   \n",
      "13                                          pipe pile       0019     101240.0   \n",
      "14                                          pipe pile       0021     101260.0   \n",
      "15  concrete/steel composite structure with shear ...       0023     101260.0   \n",
      "16  concrete/steel composite structure with shear ...       0024     101740.0   \n",
      "17                                          pipe pile       0025     101740.0   \n",
      "18                                          pipe pile       0027     101760.0   \n",
      "19  concrete/steel composite structure with shear ...       0029     101760.0   \n",
      "20                                          pipe pile       0030     101400.0   \n",
      "21                                          pipe pile       0031     101500.0   \n",
      "22                                          pipe pile       0032     101500.0   \n",
      "\n",
      "    y coord [m]  bathymetry at MSL [m]  length [m]  width [m]  height [m]  \\\n",
      "0         490.0                  -55.0   16.398288  16.398288    1.639829   \n",
      "1         510.0                  -55.0    3.000000   3.000000    6.000000   \n",
      "2         510.0                  -55.0    3.000000   3.000000    6.000000   \n",
      "3         490.0                  -55.0   16.398288  16.398288    1.639829   \n",
      "4         490.0                  -55.0   16.398288  16.398288    1.639829   \n",
      "5         510.0                  -55.0    3.000000   3.000000    6.000000   \n",
      "6         510.0                  -55.0    3.000000   3.000000    6.000000   \n",
      "7         490.0                  -55.0   16.398288  16.398288    1.639829   \n",
      "8        1240.0                  -55.0   16.398288  16.398288    1.639829   \n",
      "9        1260.0                  -55.0    3.000000   3.000000    6.000000   \n",
      "10       1260.0                  -55.0    3.000000   3.000000    6.000000   \n",
      "11       1240.0                  -55.0   16.398288  16.398288    1.639829   \n",
      "12       1990.0                  -55.0   16.398288  16.398288    1.639829   \n",
      "13       2010.0                  -55.0    3.000000   3.000000    6.000000   \n",
      "14       2010.0                  -55.0    3.000000   3.000000    6.000000   \n",
      "15       1990.0                  -55.0   16.398288  16.398288    1.639829   \n",
      "16       1990.0                  -55.0   16.398288  16.398288    1.639829   \n",
      "17       2010.0                  -55.0    3.000000   3.000000    6.000000   \n",
      "18       2010.0                  -55.0    3.000000   3.000000    6.000000   \n",
      "19       1990.0                  -55.0   16.398288  16.398288    1.639829   \n",
      "20       1250.0                  -55.0    3.000000   3.000000   23.500000   \n",
      "21       1750.0                  -55.0    3.000000   3.000000   23.500000   \n",
      "22        500.0                  -55.0    3.000000   3.000000   23.500000   \n",
      "\n",
      "   installation depth [m]  \\\n",
      "0                     n/a   \n",
      "1                       6   \n",
      "2                       6   \n",
      "3                     n/a   \n",
      "4                     n/a   \n",
      "5                       6   \n",
      "6                       6   \n",
      "7                     n/a   \n",
      "8                     n/a   \n",
      "9                       6   \n",
      "10                      6   \n",
      "11                    n/a   \n",
      "12                    n/a   \n",
      "13                      6   \n",
      "14                      6   \n",
      "15                    n/a   \n",
      "16                    n/a   \n",
      "17                      6   \n",
      "18                      6   \n",
      "19                    n/a   \n",
      "20                   23.5   \n",
      "21                   23.5   \n",
      "22                   23.5   \n",
      "\n",
      "   layer information (layer number, soil type, soil depth) [-,-,m]  \\\n",
      "0                                      [(0, ls, inf)]                \n",
      "1                                      [(0, ls, inf)]                \n",
      "2                                      [(0, ls, inf)]                \n",
      "3                                      [(0, ls, inf)]                \n",
      "4                                      [(0, ls, inf)]                \n",
      "5                                      [(0, ls, inf)]                \n",
      "6                                      [(0, ls, inf)]                \n",
      "7                                      [(0, ls, inf)]                \n",
      "8                                      [(0, ls, inf)]                \n",
      "9                                      [(0, ls, inf)]                \n",
      "10                                     [(0, ls, inf)]                \n",
      "11                                     [(0, ls, inf)]                \n",
      "12                                     [(0, ls, inf)]                \n",
      "13                                     [(0, ls, inf)]                \n",
      "14                                     [(0, ls, inf)]                \n",
      "15                                     [(0, ls, inf)]                \n",
      "16                                     [(0, ls, inf)]                \n",
      "17                                     [(0, ls, inf)]                \n",
      "18                                     [(0, ls, inf)]                \n",
      "19                                     [(0, ls, inf)]                \n",
      "20                                     [(0, ls, inf)]                \n",
      "21                                     [(0, ls, inf)]                \n",
      "22                                     [(0, ls, inf)]                \n",
      "\n",
      "    dry mass [kg] grout type [-]  grout volume [m3]  \n",
      "0    1.058295e+06            n/a                0.0  \n",
      "1    2.905612e+04            n/a                0.0  \n",
      "2    2.905612e+04            n/a                0.0  \n",
      "3    1.058295e+06            n/a                0.0  \n",
      "4    1.058295e+06            n/a                0.0  \n",
      "5    2.905612e+04            n/a                0.0  \n",
      "6    2.905612e+04            n/a                0.0  \n",
      "7    1.058295e+06            n/a                0.0  \n",
      "8    1.058295e+06            n/a                0.0  \n",
      "9    2.905612e+04            n/a                0.0  \n",
      "10   2.905612e+04            n/a                0.0  \n",
      "11   1.058295e+06            n/a                0.0  \n",
      "12   1.058295e+06            n/a                0.0  \n",
      "13   2.905612e+04            n/a                0.0  \n",
      "14   2.905612e+04            n/a                0.0  \n",
      "15   1.058295e+06            n/a                0.0  \n",
      "16   1.058295e+06            n/a                0.0  \n",
      "17   2.905612e+04            n/a                0.0  \n",
      "18   2.905612e+04            n/a                0.0  \n",
      "19   1.058295e+06            n/a                0.0  \n",
      "20   1.042164e+05            n/a                0.0  \n",
      "21   1.042164e+05            n/a                0.0  \n",
      "22   1.042164e+05            n/a                0.0  \n",
      "_________________________________________________________________________\n",
      "Array level economics bill of materials (self.sysecobom)\n",
      "   compid [-]  quantity [-]  component cost [euros] [-]  project year\n",
      "0         n/a           1.0               116412.462728             0\n",
      "1       id723           1.0                67860.000000             0\n",
      "2       id723           1.0                67860.000000             0\n",
      "3         n/a           1.0               116412.462728             0\n",
      "4         n/a           1.0               116412.462728             0\n",
      "5       id723           1.0                67860.000000             0\n",
      "6       id723           1.0                67860.000000             0\n",
      "7         n/a           1.0               116412.462728             0\n",
      "8         n/a           1.0               116412.462728             0\n",
      "9       id723           1.0                67860.000000             0\n",
      "10      id723           1.0                67860.000000             0\n",
      "11        n/a           1.0               116412.462728             0\n",
      "12        n/a           1.0               116412.462728             0\n",
      "13      id723           1.0                67860.000000             0\n",
      "14      id723           1.0                67860.000000             0\n",
      "15        n/a           1.0               116412.462728             0\n",
      "16        n/a           1.0               116412.462728             0\n",
      "17      id723           1.0                67860.000000             0\n",
      "18      id723           1.0                67860.000000             0\n",
      "19        n/a           1.0               116412.462728             0\n",
      "20      id723           1.0               265785.000000             0\n",
      "21      id723           1.0               265785.000000             0\n",
      "22      id723           1.0               265785.000000             0\n",
      "_________________________________________________________________________\n",
      "Array level RAM bill of materials (self.sysrambom)\n",
      "{'device003': {'Foundation': {'marker': [[12], [13, 14], [15, 16], [17]], 'quantity': Counter({'id723': 2, 'shallowfoundation': 2})}, 'Umbilical': [], 'Mooring system': []}, 'device002': {'Foundation': {'marker': [[6], [7, 8], [9, 10], [11]], 'quantity': Counter({'id723': 2, 'shallowfoundation': 2})}, 'Umbilical': [], 'Mooring system': []}, 'device001': {'Foundation': {'marker': [[0], [1, 2], [3, 4], [5]], 'quantity': Counter({'id723': 2, 'shallowfoundation': 2})}, 'Umbilical': [], 'Mooring system': []}, 'device005': {'Foundation': {'marker': [[24], [25, 26], [27, 28], [29]], 'quantity': Counter({'id723': 2, 'shallowfoundation': 2})}, 'Umbilical': [], 'Mooring system': []}, 'device004': {'Foundation': {'marker': [[18], [19, 20], [21, 22], [23]], 'quantity': Counter({'id723': 2, 'shallowfoundation': 2})}, 'Umbilical': [], 'Mooring system': []}, 'subhub001': {'Substation foundation': {'marker': [[31]], 'quantity': Counter({'id723': 1})}}, 'array': {'Substation foundation': {'marker': [[30]], 'quantity': Counter({'id723': 1})}}, 'subhub002': {'Substation foundation': {'marker': [[32]], 'quantity': Counter({'id723': 1})}}}\n",
      "_________________________________________________________________________\n",
      "Array level RAM hierarchy (self.syshier)\n",
      "{'device003': {'Foundation': [['shallowfoundation'], ['id723'], ['id723'], ['shallowfoundation']], 'Umbilical': [], 'Mooring system': []}, 'device002': {'Foundation': [['shallowfoundation'], ['id723'], ['id723'], ['shallowfoundation']], 'Umbilical': [], 'Mooring system': []}, 'device001': {'Foundation': [['shallowfoundation'], ['id723'], ['id723'], ['shallowfoundation']], 'Umbilical': [], 'Mooring system': []}, 'device005': {'Foundation': [['shallowfoundation'], ['id723'], ['id723'], ['shallowfoundation']], 'Umbilical': [], 'Mooring system': []}, 'device004': {'Foundation': [['shallowfoundation'], ['id723'], ['id723'], ['shallowfoundation']], 'Umbilical': [], 'Mooring system': []}, 'subhub001': {'Substation foundation': ['id723']}, 'array': {'Substation foundation': ['id723']}, 'subhub002': {'Substation foundation': ['id723']}}\n",
      "2016-12-18 16:22:50,539 - INFO - aneris.control.data - New \"farm.moorings_foundations_network\" data stored with index RC011P\n",
      "2016-12-18 16:22:50,542 - INFO - aneris.control.data - New \"farm.moorings_foundations_economics_data\" data stored with index YNNBLP\n",
      "2016-12-18 16:22:50,543 - INFO - aneris.control.data - New \"farm.foundations_component_data\" data stored with index 1PZI9T\n",
      "2016-12-18 16:22:50,546 - INFO - aneris.control.data - New \"farm.foundations_soil_data\" data stored with index SGXNPS\n",
      "2016-12-18 16:22:50,549 - INFO - aneris.control.data - New \"farm.moorings_dimensions\" data stored with index EGU4WW\n",
      "2016-12-18 16:22:50,551 - INFO - aneris.control.simulation - Datastate with level \"mooring and foundations output\" stored\n",
      "2016-12-18 16:22:50,585 - INFO - dtocean_core.core - Auto executing interface Economics\n",
      "2016-12-18 16:22:50,595 - INFO - aneris.control.data - New \"project.cost_breakdown\" data stored with index XWT2WO\n",
      "2016-12-18 16:22:50,596 - INFO - aneris.control.data - New \"project.capex_total\" data stored with index TFQ0SF\n",
      "2016-12-18 16:22:50,598 - INFO - aneris.control.data - New \"project.discounted_capex\" data stored with index ZOZGRB\n",
      "2016-12-18 16:22:50,599 - INFO - aneris.control.data - New \"project.capex_breakdown\" data stored with index 5BV68B\n",
      "2016-12-18 16:22:50,601 - INFO - aneris.control.data - New \"project.opex_total\" data stored with index Y4SL70\n",
      "2016-12-18 16:22:50,602 - INFO - aneris.control.data - New \"project.discounted_opex\" data stored with index 59LA5R\n",
      "2016-12-18 16:22:50,604 - INFO - aneris.control.simulation - Datastate with level \"mooring and foundations local output\" stored\n",
      "2016-12-18 16:22:50,657 - INFO - dtocean_core.core - Auto executing interface Economics\n",
      "2016-12-18 16:22:50,671 - INFO - aneris.control.data - New \"project.lcoe\" data stored with index BWAT0M\n",
      "2016-12-18 16:22:50,673 - INFO - aneris.control.data - New \"project.capex_lcoe\" data stored with index 3MRA90\n",
      "2016-12-18 16:22:50,674 - INFO - aneris.control.data - New \"project.opex_lcoe\" data stored with index 8A006D\n",
      "2016-12-18 16:22:50,674 - INFO - aneris.control.data - New \"project.cost_breakdown\" data stored with index ZECT88\n",
      "2016-12-18 16:22:50,676 - INFO - aneris.control.data - New \"project.capex_total\" data stored with index JATCF3\n",
      "2016-12-18 16:22:50,677 - INFO - aneris.control.data - New \"project.discounted_capex\" data stored with index 9A91Z0\n",
      "2016-12-18 16:22:50,678 - INFO - aneris.control.data - New \"project.capex_breakdown\" data stored with index AETXKK\n",
      "2016-12-18 16:22:50,680 - INFO - aneris.control.data - New \"project.opex_total\" data stored with index 942PN4\n",
      "2016-12-18 16:22:50,680 - INFO - aneris.control.data - New \"project.discounted_opex\" data stored with index NLIYYF\n",
      "2016-12-18 16:22:50,681 - INFO - aneris.control.data - New \"project.discounted_energy\" data stored with index V9TNPG\n",
      "2016-12-18 16:22:50,683 - INFO - aneris.control.simulation - Datastate with level \"mooring and foundations global output\" stored\n",
      "2016-12-18 16:22:50,766 - INFO - aneris.control.simulation - Datastate with level \"installation start\" stored\n",
      "2016-12-18 16:22:51,549 - INFO - dtocean_installation.main - Installation port selected...\n",
      "2016-12-18 16:22:51,957 - WARNING - dtocean_logistics.phases.install.Driven - Drilling technique inadequate for site soil types.\n",
      "2016-12-18 16:22:51,980 - INFO - dtocean_installation.main - Checking installation requirements for phase: Installation of driven piles anchors/foundations.\n",
      "2016-12-18 16:22:52,145 - INFO - dtocean_installation.main - 0 possible solutions found.\n",
      "2016-12-18 16:22:52,147 - WARNING - dtocean_installation.main - Cannot complete installation phase: Installation of driven piles anchors/foundations. No solution found in vessel database. Vessel deck requirements calculated as: area 9.0 m^2, cargo 104.22 T, loading 11.58 T/m^2\n",
      "2016-12-18 16:22:52,157 - INFO - dtocean_installation.main - Checking installation requirements for phase: Installation of static export cables.\n",
      "2016-12-18 16:22:52,207 - INFO - dtocean_installation.main - 0 possible solutions found.\n",
      "2016-12-18 16:22:52,209 - WARNING - dtocean_installation.main - Cannot complete installation phase: Installation of static export cables. No solution found in vessel database. Vessel deck requirements calculated as: area 0.0 m^2, cargo 12180.0 T, loading 0.0 T/m^2\n",
      "2016-12-18 16:22:52,227 - INFO - dtocean_installation.main - Checking installation requirements for phase: Installation of static array cables.\n",
      "2016-12-18 16:22:52,276 - INFO - dtocean_installation.main - 0 possible solutions found.\n",
      "2016-12-18 16:22:52,276 - WARNING - dtocean_installation.main - Cannot complete installation phase: Installation of static array cables. No solution found in vessel database. Vessel deck requirements calculated as: area 0.0 m^2, cargo 6885.37 T, loading 0.0 T/m^2\n",
      "2016-12-18 16:22:52,286 - INFO - dtocean_installation.main - Checking installation requirements for phase: Installation of support structure.\n",
      "2016-12-18 16:22:52,555 - INFO - dtocean_installation.main - 7 possible solutions found.\n",
      "2016-12-18 16:22:52,950 - INFO - dtocean_installation.main - Final solution found.\n",
      "2016-12-18 16:22:52,960 - INFO - dtocean_installation.main - Checking installation requirements for phase: Installation of devices.\n",
      "2016-12-18 16:22:53,161 - INFO - dtocean_installation.main - 1 possible solutions found.\n",
      "2016-12-18 16:22:53,326 - INFO - dtocean_installation.main - Final solution found.\n",
      "2016-12-18 16:22:53,344 - INFO - dtocean_installation.main - Checking installation requirements for phase: Installation of collection point (seabed).\n",
      "2016-12-18 16:22:53,480 - INFO - dtocean_installation.main - 0 possible solutions found.\n",
      "2016-12-18 16:22:53,482 - WARNING - dtocean_installation.main - Cannot complete installation phase: Installation of collection point (seabed). No solution found in vessel database. Vessel deck requirements calculated as: area 100.0 m^2, cargo 0.1 T, loading 0.0 T/m^2\n",
      "2016-12-18 16:22:53,483 - INFO - dtocean_installation.main - The following phases could not be installed: Installation of driven piles anchors/foundations, Installation of static export cables, Installation of static array cables, Installation of collection point (seabed)\n",
      "2016-12-18 16:22:53,484 - INFO - dtocean_installation.main - Planning of project installation complete...\n",
      "2016-12-18 16:22:53,503 - INFO - aneris.control.data - New \"project.installation_completion_date\" data stored with index SML0FT\n",
      "2016-12-18 16:22:53,505 - INFO - aneris.control.data - New \"project.commissioning_date\" data stored with index S5ROA3\n",
      "2016-12-18 16:22:53,506 - INFO - aneris.control.data - New \"farm.port\" data stored with index UHRY78\n",
      "2016-12-18 16:22:53,507 - INFO - aneris.control.data - New \"farm.port_distance\" data stored with index NACPI5\n",
      "2016-12-18 16:22:53,509 - INFO - aneris.control.data - New \"farm.installation_journeys\" data stored with index GV9RKD\n",
      "2016-12-18 16:22:53,510 - INFO - aneris.control.data - New \"farm.installation_vessel_average_size\" data stored with index FAJHCV\n",
      "2016-12-18 16:22:53,513 - INFO - aneris.control.data - New \"farm.device_phase_installation_costs\" data stored with index 4UUUY9\n",
      "2016-12-18 16:22:53,513 - INFO - aneris.control.data - New \"farm.device_phase_installation_cost_breakdown\" data stored with index J5BAQ1\n",
      "2016-12-18 16:22:53,515 - INFO - aneris.control.data - New \"farm.device_phase_cost_class_breakdown\" data stored with index 283ICO\n",
      "2016-12-18 16:22:53,517 - INFO - aneris.control.data - New \"farm.device_phase_installation_times\" data stored with index JH0LSB\n",
      "2016-12-18 16:22:53,519 - INFO - aneris.control.data - New \"farm.device_phase_installation_time_breakdown\" data stored with index M91BS0\n",
      "2016-12-18 16:22:53,519 - INFO - aneris.control.data - New \"farm.device_phase_time_class_breakdown\" data stored with index DNZWG9\n",
      "2016-12-18 16:22:53,523 - INFO - aneris.control.data - New \"farm.installation_phase_cost_breakdown\" data stored with index TB05AP\n",
      "2016-12-18 16:22:53,523 - INFO - aneris.control.data - New \"farm.installation_cost_class_breakdown\" data stored with index POS1FK\n",
      "2016-12-18 16:22:53,526 - INFO - aneris.control.data - New \"farm.total_installation_cost\" data stored with index 1QDXFV\n",
      "2016-12-18 16:22:53,526 - INFO - aneris.control.data - New \"farm.installation_phase_time_breakdown\" data stored with index 0DVPQP\n",
      "2016-12-18 16:22:53,528 - INFO - aneris.control.data - New \"farm.installation_time_class_breakdown\" data stored with index 5LEZCY\n",
      "2016-12-18 16:22:53,529 - INFO - aneris.control.data - New \"farm.total_installation_time\" data stored with index 9RASY1\n",
      "2016-12-18 16:22:53,532 - INFO - aneris.control.data - New \"farm.installation_economics_data\" data stored with index GR4ZLW\n",
      "2016-12-18 16:22:53,532 - INFO - aneris.control.data - New \"project.install_support_structure_dates\" data stored with index O0VUOR\n",
      "2016-12-18 16:22:53,535 - INFO - aneris.control.data - New \"project.install_devices_dates\" data stored with index OCK2AF\n",
      "2016-12-18 16:22:53,539 - INFO - aneris.control.data - New \"project.install_support_structure_prep_time\" data stored with index EMFWB9\n",
      "2016-12-18 16:22:53,539 - INFO - aneris.control.data - New \"project.install_devices_prep_time\" data stored with index LU5BD5\n",
      "2016-12-18 16:22:53,542 - INFO - aneris.control.data - New \"project.installation_plan\" data stored with index CBOD2Z\n",
      "2016-12-18 16:22:53,543 - INFO - aneris.control.simulation - Datastate with level \"installation output\" stored\n",
      "2016-12-18 16:22:53,572 - INFO - dtocean_core.core - Auto executing interface Economics\n",
      "2016-12-18 16:22:53,579 - INFO - aneris.control.data - New \"project.cost_breakdown\" data stored with index 4FKW19\n",
      "2016-12-18 16:22:53,582 - INFO - aneris.control.data - New \"project.capex_total\" data stored with index YC1JR0\n",
      "2016-12-18 16:22:53,582 - INFO - aneris.control.data - New \"project.discounted_capex\" data stored with index JIF5H3\n",
      "2016-12-18 16:22:53,584 - INFO - aneris.control.data - New \"project.capex_breakdown\" data stored with index 0WZBEA\n",
      "2016-12-18 16:22:53,585 - INFO - aneris.control.data - New \"project.opex_total\" data stored with index A14G2Y\n",
      "2016-12-18 16:22:53,585 - INFO - aneris.control.data - New \"project.discounted_opex\" data stored with index 8KXPFQ\n",
      "2016-12-18 16:22:53,586 - INFO - aneris.control.simulation - Datastate with level \"installation local output\" stored\n",
      "2016-12-18 16:22:53,638 - INFO - dtocean_core.core - Auto executing interface Economics\n",
      "2016-12-18 16:22:53,654 - INFO - aneris.control.data - New \"project.lcoe\" data stored with index J7O9QT\n",
      "2016-12-18 16:22:53,657 - INFO - aneris.control.data - New \"project.capex_lcoe\" data stored with index 67FU70\n",
      "2016-12-18 16:22:53,657 - INFO - aneris.control.data - New \"project.opex_lcoe\" data stored with index RZUOG1\n",
      "2016-12-18 16:22:53,658 - INFO - aneris.control.data - New \"project.cost_breakdown\" data stored with index 5SCKYG\n",
      "2016-12-18 16:22:53,660 - INFO - aneris.control.data - New \"project.capex_total\" data stored with index BKSES9\n",
      "2016-12-18 16:22:53,661 - INFO - aneris.control.data - New \"project.discounted_capex\" data stored with index VONVKF\n",
      "2016-12-18 16:22:53,663 - INFO - aneris.control.data - New \"project.capex_breakdown\" data stored with index GY6TUS\n",
      "2016-12-18 16:22:53,664 - INFO - aneris.control.data - New \"project.opex_total\" data stored with index 1MCKOV\n",
      "2016-12-18 16:22:53,664 - INFO - aneris.control.data - New \"project.discounted_opex\" data stored with index WNAI55\n",
      "2016-12-18 16:22:53,665 - INFO - aneris.control.data - New \"project.discounted_energy\" data stored with index 5XDHMJ\n",
      "2016-12-18 16:22:53,667 - INFO - aneris.control.simulation - Datastate with level \"installation global output\" stored\n",
      "2016-12-18 16:22:53,750 - INFO - aneris.control.simulation - Datastate with level \"operations and maintenance start\" stored\n",
      "2016-12-18 16:22:53,818 - INFO - dtocean_core.tools.operations - Annual operations start on date 2018-04-01 00:00:00\n",
      "2016-12-18 16:22:53,819 - INFO - dtocean_core.tools.operations - Annual operations end on date 2017-10-31 23:59:59\n",
      "2016-12-18 16:22:55,973 - INFO - dtocean_reliability.main - Start reliability calculation\n",
      "2016-12-18 16:22:55,984 - INFO - dtocean_reliability.core - \n",
      "***************MTTF pass/fail******\n",
      "Pass: calculated MTTF greater than required value\n",
      "2016-12-18 16:22:56,002 - INFO - dtocean_reliability.core - \n",
      "***************MTTF pass/fail******\n",
      "Pass: calculated MTTF greater than required value\n",
      "2016-12-18 16:22:56,016 - INFO - dtocean_reliability.core - \n",
      "***************MTTF pass/fail******\n",
      "Pass: calculated MTTF greater than required value\n",
      "2016-12-18 16:22:56,029 - INFO - dtocean_reliability.core - \n",
      "***************MTTF pass/fail******\n",
      "Pass: calculated MTTF greater than required value\n",
      "2016-12-18 16:22:56,045 - INFO - dtocean_reliability.core - \n",
      "***************MTTF pass/fail******\n",
      "Pass: calculated MTTF greater than required value\n",
      "2016-12-18 16:22:56,058 - INFO - dtocean_reliability.core - \n",
      "***************MTTF pass/fail******\n",
      "Pass: calculated MTTF greater than required value\n",
      "2016-12-18 16:23:15,811 - INFO - dtocean_reliability.main - Start reliability calculation\n",
      "2016-12-18 16:23:15,823 - INFO - dtocean_reliability.core - \n",
      "***************MTTF pass/fail******\n",
      "Pass: calculated MTTF greater than required value\n",
      "2016-12-18 16:23:15,842 - INFO - dtocean_reliability.core - \n",
      "***************MTTF pass/fail******\n",
      "Pass: calculated MTTF greater than required value\n",
      "2016-12-18 16:23:15,858 - INFO - dtocean_reliability.core - \n",
      "***************MTTF pass/fail******\n",
      "Pass: calculated MTTF greater than required value\n",
      "2016-12-18 16:23:15,871 - INFO - dtocean_reliability.core - \n",
      "***************MTTF pass/fail******\n",
      "Pass: calculated MTTF greater than required value\n",
      "2016-12-18 16:23:15,888 - INFO - dtocean_reliability.core - \n",
      "***************MTTF pass/fail******\n",
      "Pass: calculated MTTF greater than required value\n",
      "2016-12-18 16:23:15,904 - INFO - dtocean_reliability.core - \n",
      "***************MTTF pass/fail******\n",
      "Pass: calculated MTTF greater than required value\n",
      "2016-12-18 16:23:22,101 - WARNING - dtocean_logistics.performance.schedule.schedule_om - Suitable weather window not found.\n",
      "2016-12-18 16:23:24,858 - WARNING - dtocean_logistics.performance.schedule.schedule_om - Suitable weather window not found.\n",
      "2016-12-18 16:23:26,450 - WARNING - dtocean_logistics.performance.schedule.schedule_om - Suitable weather window not found.\n",
      "2016-12-18 16:23:28,270 - WARNING - dtocean_logistics.performance.schedule.schedule_om - Suitable weather window not found.\n",
      "2016-12-18 16:23:29,905 - WARNING - dtocean_logistics.performance.schedule.schedule_om - Suitable weather window not found.\n",
      "2016-12-18 16:23:31,765 - WARNING - dtocean_logistics.performance.schedule.schedule_om - Suitable weather window not found.\n",
      "2016-12-18 16:23:33,424 - WARNING - dtocean_logistics.performance.schedule.schedule_om - Suitable weather window not found.\n",
      "2016-12-18 16:23:35,196 - WARNING - dtocean_logistics.performance.schedule.schedule_om - Suitable weather window not found.\n",
      "2016-12-18 16:23:37,079 - WARNING - dtocean_logistics.performance.schedule.schedule_om - Suitable weather window not found.\n",
      "2016-12-18 16:23:38,838 - WARNING - dtocean_logistics.performance.schedule.schedule_om - Suitable weather window not found.\n",
      "2016-12-18 16:23:40,976 - WARNING - dtocean_logistics.performance.schedule.schedule_om - Suitable weather window not found.\n",
      "2016-12-18 16:23:42,680 - WARNING - dtocean_logistics.performance.schedule.schedule_om - Suitable weather window not found.\n",
      "2016-12-18 16:23:44,279 - INFO - aneris.control.data - New \"farm.capex_oandm\" data stored with index HKIISO\n",
      "2016-12-18 16:23:44,280 - INFO - aneris.control.data - New \"farm.lifetime_energy\" data stored with index 32B011\n",
      "2016-12-18 16:23:44,282 - INFO - aneris.control.data - New \"farm.lifetime_opex\" data stored with index 09IAUW\n",
      "2016-12-18 16:23:44,285 - INFO - aneris.control.data - New \"farm.array_downtime\" data stored with index HM50HN\n",
      "2016-12-18 16:23:44,286 - INFO - aneris.control.data - New \"farm.array_availability\" data stored with index JSTBGH\n",
      "2016-12-18 16:23:44,288 - INFO - aneris.control.data - New \"farm.downtime_per_device\" data stored with index C3E479\n",
      "2016-12-18 16:23:44,289 - INFO - aneris.control.data - New \"farm.lifetime_energy_per_device\" data stored with index 53IA0Q\n",
      "2016-12-18 16:23:44,290 - INFO - aneris.control.data - New \"farm.uptime_series\" data stored with index D3QT9U\n",
      "2016-12-18 16:23:44,293 - INFO - aneris.control.data - New \"farm.opex_per_year\" data stored with index IIPMOI\n",
      "2016-12-18 16:23:44,296 - INFO - aneris.control.data - New \"farm.energy_per_year\" data stored with index Y86JDW\n",
      "2016-12-18 16:23:44,298 - INFO - aneris.control.data - New \"farm.calendar_maintenance_events\" data stored with index 5NJUVH\n",
      "2016-12-18 16:23:44,299 - INFO - aneris.control.data - New \"farm.operation_journeys\" data stored with index GO928J\n",
      "2016-12-18 16:23:44,301 - INFO - aneris.control.simulation - Datastate with level \"operations and maintenance output\" stored\n",
      "2016-12-18 16:23:44,332 - INFO - dtocean_core.core - Auto executing interface Economics\n",
      "2016-12-18 16:23:44,344 - INFO - aneris.control.data - New \"project.lcoe\" data stored with index 2AWI7O\n",
      "2016-12-18 16:23:44,345 - INFO - aneris.control.data - New \"project.capex_lcoe\" data stored with index GDWIQD\n",
      "2016-12-18 16:23:44,346 - INFO - aneris.control.data - New \"project.opex_lcoe\" data stored with index Z89MAO\n",
      "2016-12-18 16:23:44,348 - INFO - aneris.control.data - New \"project.cost_breakdown\" data stored with index KI1YXL\n",
      "2016-12-18 16:23:44,349 - INFO - aneris.control.data - New \"project.capex_total\" data stored with index CYK5NZ\n",
      "2016-12-18 16:23:44,351 - INFO - aneris.control.data - New \"project.discounted_capex\" data stored with index ODFDTF\n",
      "2016-12-18 16:23:44,354 - INFO - aneris.control.data - New \"project.capex_breakdown\" data stored with index P5T6Q2\n",
      "2016-12-18 16:23:44,355 - INFO - aneris.control.data - New \"project.opex_total\" data stored with index IVGIVK\n",
      "2016-12-18 16:23:44,357 - INFO - aneris.control.data - New \"project.discounted_opex\" data stored with index 3AK17G\n",
      "2016-12-18 16:23:44,358 - INFO - aneris.control.data - New \"project.discounted_energy\" data stored with index XP9JS7\n",
      "2016-12-18 16:23:44,358 - INFO - aneris.control.simulation - Datastate with level \"operations and maintenance local output\" stored\n",
      "2016-12-18 16:23:44,411 - INFO - dtocean_core.core - Auto executing interface Economics\n",
      "2016-12-18 16:23:44,433 - INFO - aneris.control.data - New \"project.lcoe\" data stored with index W9EICW\n",
      "2016-12-18 16:23:44,434 - INFO - aneris.control.data - New \"project.capex_lcoe\" data stored with index Y56W0E\n",
      "2016-12-18 16:23:44,436 - INFO - aneris.control.data - New \"project.opex_lcoe\" data stored with index 1VZOIA\n",
      "2016-12-18 16:23:44,437 - INFO - aneris.control.data - New \"project.cost_breakdown\" data stored with index 9ICA3B\n",
      "2016-12-18 16:23:44,437 - INFO - aneris.control.data - New \"project.capex_total\" data stored with index 8V8HG9\n",
      "2016-12-18 16:23:44,438 - INFO - aneris.control.data - New \"project.discounted_capex\" data stored with index AW6DKF\n",
      "2016-12-18 16:23:44,440 - INFO - aneris.control.data - New \"project.capex_breakdown\" data stored with index XRSOLF\n",
      "2016-12-18 16:23:44,441 - INFO - aneris.control.data - New \"project.opex_total\" data stored with index ZBER7S\n",
      "2016-12-18 16:23:44,443 - INFO - aneris.control.data - New \"project.discounted_opex\" data stored with index K8B9AI\n",
      "2016-12-18 16:23:44,444 - INFO - aneris.control.data - New \"project.discounted_energy\" data stored with index ZZA4HO\n",
      "2016-12-18 16:23:44,444 - INFO - aneris.control.simulation - Datastate with level \"operations and maintenance global output\" stored\n"
     ]
    }
   ],
   "source": [
    "basic_strategy = strategy_manager.get_strategy(\"Basic\")\n",
    "basic_strategy.execute(new_core, new_project)"
   ]
  },
  {
   "cell_type": "markdown",
   "metadata": {},
   "source": [
    "## Examine the Hydrodynamics results\n",
    "\n",
    "Currently, there is no robustness built into the core, so the assumption is that the modules executed successfully. This will have to be improved towards deployment of the final software.\n",
    "\n",
    "Lets see what outputs are available from the Hydrodynamics module."
   ]
  },
  {
   "cell_type": "code",
   "execution_count": 97,
   "metadata": {
    "collapsed": false
   },
   "outputs": [
    {
     "data": {
      "text/html": [
       "<ul><li>farm.main_direction: <b>satisfied</b></li><li>farm.mean_power_pmf_per_device: <b>satisfied</b></li><li>farm.annual_energy: <b>overwritten</b></li><li>farm.mean_power_per_device: <b>satisfied</b></li><li>farm.tidal_occurrence: <b>satisfied</b></li><li>device.external_forces: <b>unavailable</b></li><li>farm.mean_power_hist_per_device: <b>satisfied</b></li><li>farm.annual_energy_per_device: <b>satisfied</b></li><li>farm.layout: <b>satisfied</b></li><li>farm.q_factor_per_device: <b>satisfied</b></li><li>farm.q_factor: <b>satisfied</b></li><li>farm.resource_reduction: <b>satisfied</b></li><li>farm.number_of_devices: <b>satisfied</b></li><li>farm.wave_occurrence: <b>unavailable</b></li></ul>"
      ],
      "text/plain": [
       "<IPython.core.display.HTML object>"
      ]
     },
     "execution_count": 97,
     "metadata": {},
     "output_type": "execute_result"
    }
   ],
   "source": [
    "output_status = hydro_branch.get_output_status(new_core, new_project)\n",
    "message = html_dict(output_status)\n",
    "HTML(message)"
   ]
  },
  {
   "cell_type": "markdown",
   "metadata": {},
   "source": [
    "Let's check the number of devices and annual output of the farm, using just information in the data object."
   ]
  },
  {
   "cell_type": "code",
   "execution_count": 98,
   "metadata": {
    "collapsed": false
   },
   "outputs": [
    {
     "name": "stdout",
     "output_type": "stream",
     "text": [
      "2016-12-18 16:23:44,536 - INFO - dtocean_core.core - Inspecting level hydrodynamics output\n"
     ]
    }
   ],
   "source": [
    "hydro_branch.inspect(new_core, new_project)"
   ]
  },
  {
   "cell_type": "code",
   "execution_count": 99,
   "metadata": {
    "collapsed": false,
    "scrolled": true
   },
   "outputs": [
    {
     "data": {
      "text/html": [
       "<p><b>Number of Devices:</b> 5</p><p><b>Array Annual Energy Production:</b> <i>55922.6267903</i> (MWh)</p><p><b>Mean Power Production Per Device</b> (MW):<ul><li>device003: <b>1.27677230115</b></li><li>device002: <b>1.27677230115</b></li><li>device001: <b>1.27677230115</b></li><li>device005: <b>1.27677230115</b></li><li>device004: <b>1.27677230115</b></li></ul></p>"
      ],
      "text/plain": [
       "<IPython.core.display.HTML object>"
      ]
     },
     "execution_count": 99,
     "metadata": {},
     "output_type": "execute_result"
    }
   ],
   "source": [
    "n_devices = hydro_branch.get_output_variable(new_core, new_project, \"farm.number_of_devices\")\n",
    "meta_data = n_devices.get_metadata(new_core)\n",
    "name = meta_data.title\n",
    "value = n_devices.get_value(new_core, new_project)\n",
    "message_one = \"<p><b>{}:</b> {}</p>\".format(name, value)\n",
    "\n",
    "farm_annual_energy = hydro_branch.get_output_variable(new_core, new_project, \"farm.annual_energy\")\n",
    "meta_data = farm_annual_energy.get_metadata(new_core)\n",
    "name = meta_data.title\n",
    "value = farm_annual_energy.get_value(new_core, new_project)\n",
    "units = meta_data.units[0]\n",
    "message_two = \"<p><b>{}:</b> <i>{}</i> ({})</p>\".format(name, value, units)\n",
    "\n",
    "farm_device_power = hydro_branch.get_output_variable(new_core, new_project, \"farm.mean_power_per_device\")\n",
    "meta_data = farm_device_power.get_metadata(new_core)\n",
    "name = meta_data.title\n",
    "value = farm_device_power.get_value(new_core, new_project)\n",
    "units = meta_data.units[0]\n",
    "message_three = \"<p><b>{}</b> ({}):{}</p>\".format(name, units, html_dict(value))\n",
    "\n",
    "HTML(message_one + message_two + message_three)"
   ]
  },
  {
   "cell_type": "code",
   "execution_count": 100,
   "metadata": {
    "collapsed": false
   },
   "outputs": [
    {
     "data": {
      "text/plain": [
       "{'device001': <shapely.geometry.point.Point at 0x14a3eeb8>,\n",
       " 'device002': <shapely.geometry.point.Point at 0x1d7d9b00>,\n",
       " 'device003': <shapely.geometry.point.Point at 0x3a3394e0>,\n",
       " 'device004': <shapely.geometry.point.Point at 0x14a3e9b0>,\n",
       " 'device005': <shapely.geometry.point.Point at 0x14a3ef28>}"
      ]
     },
     "execution_count": 100,
     "metadata": {},
     "output_type": "execute_result"
    }
   ],
   "source": [
    "layout = hydro_branch.get_output_variable(new_core, new_project, \"farm.layout\")\n",
    "layout.get_value(new_core, new_project)"
   ]
  },
  {
   "cell_type": "code",
   "execution_count": 101,
   "metadata": {
    "collapsed": false
   },
   "outputs": [
    {
     "data": {
      "image/png": "[encoded data removed]",
      "text/plain": [
       "<matplotlib.figure.Figure at 0x1df6cac8>"
      ]
     },
     "metadata": {},
     "output_type": "display_data"
    }
   ],
   "source": [
    "layout.plot(new_core, new_project)"
   ]
  },
  {
   "cell_type": "code",
   "execution_count": 102,
   "metadata": {
    "collapsed": false
   },
   "outputs": [
    {
     "data": {
      "image/png": "[encoded data removed]",
      "text/plain": [
       "<matplotlib.figure.Figure at 0x3c7252b0>"
      ]
     },
     "metadata": {},
     "output_type": "display_data"
    }
   ],
   "source": [
    "power_hist = electro_branch.get_input_variable(new_core, new_project, \"farm.mean_power_hist_per_device\")\n",
    "power_hist.plot(new_core, new_project)"
   ]
  },
  {
   "cell_type": "markdown",
   "metadata": {},
   "source": [
    "## Examine the Electrical Sub-systems results\n",
    "\n",
    "Lets see what outputs are available from the modules."
   ]
  },
  {
   "cell_type": "code",
   "execution_count": 103,
   "metadata": {
    "collapsed": false
   },
   "outputs": [
    {
     "name": "stdout",
     "output_type": "stream",
     "text": [
      "2016-12-18 16:23:45,311 - INFO - dtocean_core.core - Inspecting level electrical sub systems output\n"
     ]
    }
   ],
   "source": [
    "electro_branch.inspect(new_core, new_project)"
   ]
  },
  {
   "cell_type": "code",
   "execution_count": 104,
   "metadata": {
    "collapsed": false
   },
   "outputs": [
    {
     "data": {
      "text/html": [
       "<ul><li>device.umbilical_type: <b>unavailable</b></li><li>farm.cable_routes: <b>satisfied</b></li><li>farm.substation_foundation_location: <b>satisfied</b></li><li>farm.array_efficiency: <b>satisfied</b></li><li>farm.annual_energy: <b>satisfied</b></li><li>farm.substation_layout: <b>satisfied</b></li><li>farm.electrical_economics_data: <b>satisfied</b></li><li>farm.electrical_network: <b>satisfied</b></li><li>farm.electrical_component_data: <b>satisfied</b></li><li>farm.substation_props: <b>satisfied</b></li><li>farm.umbilical_cable_data: <b>unavailable</b></li><li>farm.umbilical_seabed_connection: <b>unavailable</b></li><li>farm.substation_cog: <b>satisfied</b></li><li>farm.selected_installation_tool: <b>satisfied</b></li><li>farm.electrical_network_efficiency: <b>satisfied</b></li></ul>"
      ],
      "text/plain": [
       "<IPython.core.display.HTML object>"
      ]
     },
     "execution_count": 104,
     "metadata": {},
     "output_type": "execute_result"
    }
   ],
   "source": [
    "output_status = electro_branch.get_output_status(new_core, new_project)\n",
    "message = html_dict(output_status)\n",
    "HTML(message)"
   ]
  },
  {
   "cell_type": "code",
   "execution_count": 105,
   "metadata": {
    "collapsed": false
   },
   "outputs": [
    {
     "data": {
      "text/html": [
       "<p><b>Array Annual Energy Production:</b> <i>55922.6267903</i> (MWh)</p>"
      ],
      "text/plain": [
       "<IPython.core.display.HTML object>"
      ]
     },
     "execution_count": 105,
     "metadata": {},
     "output_type": "execute_result"
    }
   ],
   "source": [
    "farm_annual_energy = electro_branch.get_output_variable(new_core, new_project, \"farm.annual_energy\")\n",
    "meta_data = farm_annual_energy.get_metadata(new_core)\n",
    "name = meta_data.title\n",
    "value = farm_annual_energy.get_value(new_core, new_project)\n",
    "units = meta_data.units[0]\n",
    "message_two = \"<p><b>{}:</b> <i>{}</i> ({})</p>\".format(name, value, units)\n",
    "\n",
    "HTML(message_two)"
   ]
  },
  {
   "cell_type": "code",
   "execution_count": 106,
   "metadata": {
    "collapsed": false
   },
   "outputs": [],
   "source": [
    "electrical_cost = electro_branch.get_output_variable(new_core, new_project,\n",
    "                                                     \"farm.electrical_economics_data\")\n",
    "                                            \n",
    "cost_data = electrical_cost.get_value(new_core, new_project)"
   ]
  },
  {
   "cell_type": "code",
   "execution_count": 107,
   "metadata": {
    "collapsed": false
   },
   "outputs": [
    {
     "data": {
      "text/html": [
       "<div>\n",
       "<table border=\"1\" class=\"dataframe\">\n",
       "  <thead>\n",
       "    <tr style=\"text-align: right;\">\n",
       "      <th></th>\n",
       "      <th>Key Identifier</th>\n",
       "      <th>Cost</th>\n",
       "      <th>Quantity</th>\n",
       "      <th>Year</th>\n",
       "    </tr>\n",
       "  </thead>\n",
       "  <tbody>\n",
       "    <tr>\n",
       "      <th>0</th>\n",
       "      <td>17.0</td>\n",
       "      <td>800.0</td>\n",
       "      <td>1400.000000</td>\n",
       "      <td>0</td>\n",
       "    </tr>\n",
       "    <tr>\n",
       "      <th>1</th>\n",
       "      <td>2.0</td>\n",
       "      <td>700.0</td>\n",
       "      <td>3039.949494</td>\n",
       "      <td>0</td>\n",
       "    </tr>\n",
       "    <tr>\n",
       "      <th>2</th>\n",
       "      <td>12.0</td>\n",
       "      <td>150000.0</td>\n",
       "      <td>3.000000</td>\n",
       "      <td>0</td>\n",
       "    </tr>\n",
       "    <tr>\n",
       "      <th>3</th>\n",
       "      <td>6.0</td>\n",
       "      <td>200000.0</td>\n",
       "      <td>15.000000</td>\n",
       "      <td>0</td>\n",
       "    </tr>\n",
       "    <tr>\n",
       "      <th>4</th>\n",
       "      <td>NaN</td>\n",
       "      <td>1000000.0</td>\n",
       "      <td>1.000000</td>\n",
       "      <td>0</td>\n",
       "    </tr>\n",
       "  </tbody>\n",
       "</table>\n",
       "</div>"
      ],
      "text/plain": [
       "   Key Identifier       Cost     Quantity  Year\n",
       "0            17.0      800.0  1400.000000     0\n",
       "1             2.0      700.0  3039.949494     0\n",
       "2            12.0   150000.0     3.000000     0\n",
       "3             6.0   200000.0    15.000000     0\n",
       "4             NaN  1000000.0     1.000000     0"
      ]
     },
     "execution_count": 107,
     "metadata": {},
     "output_type": "execute_result"
    }
   ],
   "source": [
    "cost_data"
   ]
  },
  {
   "cell_type": "code",
   "execution_count": 108,
   "metadata": {
    "collapsed": false
   },
   "outputs": [],
   "source": [
    "substations = electro_branch.get_output_variable(new_core, new_project,\n",
    "                                                 \"farm.substation_layout\")\n",
    "\n",
    "if substations.has_value(new_core, new_project): substations.get_value(new_core, new_project)"
   ]
  },
  {
   "cell_type": "markdown",
   "metadata": {},
   "source": [
    "## Examine the Mooring and Foundations results\n",
    "\n",
    "Lets see what outputs are available from the modules."
   ]
  },
  {
   "cell_type": "code",
   "execution_count": 109,
   "metadata": {
    "collapsed": false
   },
   "outputs": [
    {
     "name": "stdout",
     "output_type": "stream",
     "text": [
      "2016-12-18 16:23:45,415 - INFO - dtocean_core.core - Inspecting level mooring and foundations output\n"
     ]
    }
   ],
   "source": [
    "moorings_branch.inspect(new_core, new_project)"
   ]
  },
  {
   "cell_type": "code",
   "execution_count": 110,
   "metadata": {
    "collapsed": false
   },
   "outputs": [
    {
     "data": {
      "text/html": [
       "<ul><li>farm.foundations_component_data: <b>satisfied</b></li><li>farm.moorings_component_data: <b>unavailable</b></li><li>farm.moorings_foundations_network: <b>satisfied</b></li><li>farm.foundations_soil_data: <b>satisfied</b></li><li>farm.moorings_foundations_economics_data: <b>satisfied</b></li><li>farm.line_data: <b>unavailable</b></li><li>farm.umbilical_cable_data: <b>unavailable</b></li><li>farm.moorings_dimensions: <b>satisfied</b></li></ul>"
      ],
      "text/plain": [
       "<IPython.core.display.HTML object>"
      ]
     },
     "execution_count": 110,
     "metadata": {},
     "output_type": "execute_result"
    }
   ],
   "source": [
    "output_status = moorings_branch.get_output_status(new_core, new_project)\n",
    "message = html_dict(output_status)\n",
    "HTML(message)"
   ]
  },
  {
   "cell_type": "markdown",
   "metadata": {},
   "source": [
    "## Examine the Installation results\n",
    "\n",
    "Lets see what outputs are available from the modules."
   ]
  },
  {
   "cell_type": "code",
   "execution_count": 111,
   "metadata": {
    "collapsed": false
   },
   "outputs": [
    {
     "name": "stdout",
     "output_type": "stream",
     "text": [
      "2016-12-18 16:23:45,461 - INFO - dtocean_core.core - Inspecting level installation output\n"
     ]
    }
   ],
   "source": [
    "install_branch.inspect(new_core, new_project)"
   ]
  },
  {
   "cell_type": "code",
   "execution_count": 112,
   "metadata": {
    "collapsed": false
   },
   "outputs": [
    {
     "data": {
      "text/html": [
       "<ul><li>farm.installation_economics_data: <b>satisfied</b></li><li>farm.installation_cost_class_breakdown: <b>satisfied</b></li><li>farm.electrical_phase_installation_times: <b>unavailable</b></li><li>farm.total_installation_cost: <b>satisfied</b></li><li>project.install_drag_embedment_dates: <b>unavailable</b></li><li>project.install_support_structure_prep_time: <b>satisfied</b></li><li>farm.total_installation_time: <b>satisfied</b></li><li>farm.electrical_phase_installation_time_breakdown: <b>unavailable</b></li><li>farm.electrical_phase_installation_costs: <b>unavailable</b></li><li>project.install_cable_protection_dates: <b>unavailable</b></li><li>farm.mooring_phase_cost_class_breakdown: <b>unavailable</b></li><li>project.installation_completion_date: <b>satisfied</b></li><li>farm.installation_vessel_average_size: <b>satisfied</b></li><li>project.install_devices_dates: <b>satisfied</b></li><li>farm.electrical_phase_installation_cost_breakdown: <b>unavailable</b></li><li>project.install_devices_prep_time: <b>satisfied</b></li><li>farm.device_phase_installation_costs: <b>satisfied</b></li><li>project.install_dynamic_cable_prep_time: <b>unavailable</b></li><li>project.install_array_cable_dates: <b>unavailable</b></li><li>farm.device_phase_installation_time_breakdown: <b>satisfied</b></li><li>project.install_gravity_based_prep_time: <b>unavailable</b></li><li>farm.electrical_phase_cost_class_breakdown: <b>unavailable</b></li><li>farm.device_phase_installation_times: <b>satisfied</b></li><li>project.install_surface_piercing_substation_dates: <b>unavailable</b></li><li>farm.device_phase_time_class_breakdown: <b>satisfied</b></li><li>project.commissioning_date: <b>satisfied</b></li><li>project.install_gravity_based_dates: <b>unavailable</b></li><li>farm.device_phase_cost_class_breakdown: <b>satisfied</b></li><li>project.install_surface_piercing_substation_prep_time: <b>unavailable</b></li><li>farm.electrical_phase_time_class_breakdown: <b>unavailable</b></li><li>farm.installation_journeys: <b>satisfied</b></li><li>project.install_drag_embedment_prep_time: <b>unavailable</b></li><li>farm.mooring_phase_installation_times: <b>unavailable</b></li><li>farm.mooring_phase_installation_time_breakdown: <b>unavailable</b></li><li>project.install_export_cable_prep_time: <b>unavailable</b></li><li>farm.installation_phase_time_breakdown: <b>satisfied</b></li><li>project.install_direct_embedment_prep_time: <b>unavailable</b></li><li>project.install_suction_embedment_dates: <b>unavailable</b></li><li>farm.mooring_phase_installation_cost_breakdown: <b>unavailable</b></li><li>project.install_pile_anchor_prep_time: <b>unavailable</b></li><li>farm.installation_phase_cost_breakdown: <b>satisfied</b></li><li>project.installation_plan: <b>satisfied</b></li><li>project.install_driven_piles_prep_time: <b>unavailable</b></li><li>farm.device_phase_installation_cost_breakdown: <b>satisfied</b></li><li>project.install_subsea_collection_point_dates: <b>unavailable</b></li><li>project.install_subsea_collection_point_prep_time: <b>unavailable</b></li><li>project.install_cable_protection_prep_time: <b>unavailable</b></li><li>project.install_pile_anchor_dates: <b>unavailable</b></li><li>project.install_direct_embedment_dates: <b>unavailable</b></li><li>project.install_suction_embedment_prep_time: <b>unavailable</b></li><li>farm.installation_time_class_breakdown: <b>satisfied</b></li><li>project.install_driven_piles_dates: <b>unavailable</b></li><li>farm.mooring_phase_installation_costs: <b>unavailable</b></li><li>farm.port_distance: <b>satisfied</b></li><li>project.install_dynamic_cable_dates: <b>unavailable</b></li><li>project.install_support_structure_dates: <b>satisfied</b></li><li>project.install_array_cable_prep_time: <b>unavailable</b></li><li>farm.mooring_phase_time_class_breakdown: <b>unavailable</b></li><li>farm.port: <b>satisfied</b></li><li>project.install_export_cable_dates: <b>unavailable</b></li></ul>"
      ],
      "text/plain": [
       "<IPython.core.display.HTML object>"
      ]
     },
     "execution_count": 112,
     "metadata": {},
     "output_type": "execute_result"
    }
   ],
   "source": [
    "output_status = install_branch.get_output_status(new_core, new_project)\n",
    "message = html_dict(output_status)\n",
    "HTML(message)"
   ]
  },
  {
   "cell_type": "markdown",
   "metadata": {},
   "source": [
    "## Examine the Operations & Maintenance results\n",
    "\n",
    "Lets see what outputs are available from the modules."
   ]
  },
  {
   "cell_type": "code",
   "execution_count": 113,
   "metadata": {
    "collapsed": false
   },
   "outputs": [
    {
     "name": "stdout",
     "output_type": "stream",
     "text": [
      "2016-12-18 16:23:45,509 - INFO - dtocean_core.core - Inspecting level operations and maintenance output\n"
     ]
    }
   ],
   "source": [
    "oandm_branch.inspect(new_core, new_project)"
   ]
  },
  {
   "cell_type": "code",
   "execution_count": 114,
   "metadata": {
    "collapsed": false
   },
   "outputs": [
    {
     "data": {
      "text/html": [
       "<ul><li>farm.uptime_series: <b>satisfied</b></li><li>farm.array_downtime: <b>satisfied</b></li><li>farm.lifetime_opex: <b>satisfied</b></li><li>farm.capex_oandm: <b>satisfied</b></li><li>farm.calendar_maintenance_events: <b>satisfied</b></li><li>farm.energy_per_year: <b>satisfied</b></li><li>farm.operation_journeys: <b>satisfied</b></li><li>farm.downtime_per_device: <b>satisfied</b></li><li>farm.lifetime_energy_per_device: <b>satisfied</b></li><li>farm.array_availability: <b>satisfied</b></li><li>farm.lifetime_energy: <b>satisfied</b></li><li>farm.corrective_maintenance_events: <b>unavailable</b></li><li>farm.condition_maintenance_events: <b>unavailable</b></li><li>farm.opex_per_year: <b>satisfied</b></li></ul>"
      ],
      "text/plain": [
       "<IPython.core.display.HTML object>"
      ]
     },
     "execution_count": 114,
     "metadata": {},
     "output_type": "execute_result"
    }
   ],
   "source": [
    "output_status = oandm_branch.get_output_status(new_core, new_project)\n",
    "message = html_dict(output_status)\n",
    "HTML(message)"
   ]
  },
  {
   "cell_type": "code",
   "execution_count": null,
   "metadata": {
    "collapsed": false
   },
   "outputs": [],
   "source": [
    "uptime_series = oandm_branch.get_output_variable(new_core, new_project, \"farm.uptime_series\")\n",
    "uptime_series.plot(new_core, new_project)"
   ]
  },
  {
   "cell_type": "markdown",
   "metadata": {},
   "source": [
    "## Examine Economics Results"
   ]
  },
  {
   "cell_type": "code",
   "execution_count": 115,
   "metadata": {
    "collapsed": false
   },
   "outputs": [
    {
     "data": {
      "text/html": [
       "<ul><li>project.lcoe: <b>satisfied</b></li><li>project.discounted_energy: <b>satisfied</b></li><li>project.capex_total: <b>satisfied</b></li><li>project.opex_total: <b>satisfied</b></li><li>project.capex_lcoe: <b>satisfied</b></li><li>project.capex_breakdown: <b>satisfied</b></li><li>project.cost_breakdown: <b>satisfied</b></li><li>project.discounted_capex: <b>satisfied</b></li><li>project.opex_lcoe: <b>satisfied</b></li><li>project.discounted_opex: <b>satisfied</b></li></ul>"
      ],
      "text/plain": [
       "<IPython.core.display.HTML object>"
      ]
     },
     "execution_count": 115,
     "metadata": {},
     "output_type": "execute_result"
    }
   ],
   "source": [
    "output_status = eco_branch.get_output_status(new_core, new_project)\n",
    "message = html_dict(output_status)\n",
    "HTML(message)"
   ]
  },
  {
   "cell_type": "code",
   "execution_count": 116,
   "metadata": {
    "collapsed": false
   },
   "outputs": [],
   "source": [
    "lcoe = eco_branch.get_output_variable(new_core, new_project, \"project.lcoe\")\n",
    "lcoe_capex = eco_branch.get_output_variable(new_core, new_project, \"project.capex_lcoe\")\n",
    "total_cost = eco_branch.get_output_variable(new_core, new_project, \"project.capex_total\")\n",
    "opex_cost = eco_branch.get_output_variable(new_core, new_project, \"project.opex_total\")\n",
    "discount_energy = eco_branch.get_output_variable(new_core, new_project, \"project.discounted_energy\")\n",
    "capex_breakdown = eco_branch.get_output_variable(new_core, new_project, \"project.capex_breakdown\")\n",
    "cost_breakdown = eco_branch.get_output_variable(new_core, new_project, \"project.cost_breakdown\")"
   ]
  },
  {
   "cell_type": "code",
   "execution_count": 117,
   "metadata": {
    "collapsed": false
   },
   "outputs": [
    {
     "data": {
      "text/html": [
       "<p><b>Levelised Cost of Energy:</b> 0.459775774211 (Euro/kWh)</p><p><b>CAPEX:</b> 39036732.1268 (Euro)</p><p><b>OPEX:</b> 25743662.0 (Euro)</p><p><b>Discounted Energy:</b> 134332119.045 (kWh)</p>"
      ],
      "text/plain": [
       "<IPython.core.display.HTML object>"
      ]
     },
     "execution_count": 117,
     "metadata": {},
     "output_type": "execute_result"
    }
   ],
   "source": [
    "message_lcoe = html_variable(new_core, new_project, lcoe)\n",
    "message_cost = html_variable(new_core, new_project, total_cost)\n",
    "message_opex = html_variable(new_core, new_project, opex_cost)\n",
    "message_energy = html_variable(new_core, new_project, discount_energy)\n",
    "message = \"<p>{}</p><p>{}</p><p>{}</p><p>{}</p>\".format(message_lcoe, message_cost, message_opex, message_energy)\n",
    "HTML(message)"
   ]
  },
  {
   "cell_type": "markdown",
   "metadata": {},
   "source": [
    "## Plot the balance of CAPEX costs"
   ]
  },
  {
   "cell_type": "code",
   "execution_count": 118,
   "metadata": {
    "collapsed": false
   },
   "outputs": [
    {
     "data": {
      "image/png": "[encoded data removed]",
      "text/plain": [
       "<matplotlib.figure.Figure at 0x1d32a7b8>"
      ]
     },
     "metadata": {},
     "output_type": "display_data"
    }
   ],
   "source": [
    "# The slices will be ordered and plotted counter-clockwise.\n",
    "capex_breakdown.plot(new_core, new_project)"
   ]
  },
  {
   "cell_type": "code",
   "execution_count": 119,
   "metadata": {
    "collapsed": false
   },
   "outputs": [],
   "source": [
    "## Plot the balance of costs"
   ]
  },
  {
   "cell_type": "code",
   "execution_count": 120,
   "metadata": {
    "collapsed": false
   },
   "outputs": [
    {
     "data": {
      "image/png": "[encoded data removed]",
      "text/plain": [
       "<matplotlib.figure.Figure at 0x15624b38>"
      ]
     },
     "metadata": {},
     "output_type": "display_data"
    }
   ],
   "source": [
    "cost_breakdown.plot(new_core, new_project)"
   ]
  },
  {
   "cell_type": "code",
   "execution_count": null,
   "metadata": {
    "collapsed": true
   },
   "outputs": [],
   "source": []
  }
 ],
 "metadata": {
  "kernelspec": {
   "display_name": "Python 2",
   "language": "python",
   "name": "python2"
  },
  "language_info": {
   "codemirror_mode": {
    "name": "ipython",
    "version": 2
   },
   "file_extension": ".py",
   "mimetype": "text/x-python",
   "name": "python",
   "nbconvert_exporter": "python",
   "pygments_lexer": "ipython2",
   "version": "2.7.12"
  }
 },
 "nbformat": 4,
 "nbformat_minor": 0
}
