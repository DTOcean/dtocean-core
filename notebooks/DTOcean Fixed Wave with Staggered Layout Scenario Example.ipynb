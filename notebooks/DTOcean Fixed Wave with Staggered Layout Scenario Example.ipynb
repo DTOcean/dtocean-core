{
 "cells": [
  {
   "cell_type": "markdown",
   "metadata": {
    "collapsed": true
   },
   "source": [
    "# Fixed Wave with Staggered Layout Scenario Example"
   ]
  },
  {
   "cell_type": "code",
   "execution_count": 1,
   "metadata": {
    "collapsed": true
   },
   "outputs": [],
   "source": [
    "%matplotlib inline"
   ]
  },
  {
   "cell_type": "markdown",
   "metadata": {},
   "source": [
    "Prepare the test data for loading. The files required can be found in the test_data directory of the source code and should be copied to the directory that the notebook is running. When the python file is run a pickle file is generated containing a dictionary of inputs."
   ]
  },
  {
   "cell_type": "code",
   "execution_count": 2,
   "metadata": {
    "collapsed": false,
    "scrolled": false
   },
   "outputs": [
    {
     "name": "stdout",
     "output_type": "stream",
     "text": [
      "generate test data: d:\\Users\\108386\\Desktop\\notebooks\\Meeting Edinburgh - renamed\\fixed_wave_staggered_layout_scenario.pkl\n"
     ]
    }
   ],
   "source": [
    "%run fixed_wave_staggered_layout_scenario.py"
   ]
  },
  {
   "cell_type": "code",
   "execution_count": 3,
   "metadata": {
    "collapsed": true
   },
   "outputs": [],
   "source": [
    "from IPython.display import display, HTML"
   ]
  },
  {
   "cell_type": "code",
   "execution_count": 4,
   "metadata": {
    "collapsed": false
   },
   "outputs": [],
   "source": [
    "import matplotlib.pyplot as plt\n",
    "plt.rcParams['figure.figsize'] = (14.0, 8.0)"
   ]
  },
  {
   "cell_type": "code",
   "execution_count": 5,
   "metadata": {
    "collapsed": true
   },
   "outputs": [],
   "source": [
    "import numpy as np\n",
    "from datetime import datetime"
   ]
  },
  {
   "cell_type": "code",
   "execution_count": 6,
   "metadata": {
    "collapsed": false
   },
   "outputs": [],
   "source": [
    "from dtocean_core import start_logging\n",
    "from dtocean_core.core import Core\n",
    "from dtocean_core.menu import DataMenu, ModuleMenu, ProjectMenu, ThemeMenu\n",
    "from dtocean_core.pipeline import Tree, _get_connector\n",
    "from dtocean_core.extensions import StrategyManager"
   ]
  },
  {
   "cell_type": "code",
   "execution_count": 7,
   "metadata": {
    "collapsed": false
   },
   "outputs": [
    {
     "name": "stdout",
     "output_type": "stream",
     "text": [
      "2016-09-12 10:51:34,513 - INFO - dtocean_core - Begin logging for dtocean_core.\n"
     ]
    }
   ],
   "source": [
    "# Bring up the logger\n",
    "start_logging()"
   ]
  },
  {
   "cell_type": "code",
   "execution_count": 8,
   "metadata": {
    "collapsed": true
   },
   "outputs": [],
   "source": [
    "def html_list(x):\n",
    "    message = \"<ul>\"\n",
    "    for name in x:\n",
    "        message += \"<li>{}</li>\".format(name)\n",
    "    message += \"</ul>\"\n",
    "    return message\n",
    "def html_dict(x):\n",
    "    message = \"<ul>\"\n",
    "    for name, status in x.iteritems():\n",
    "        message += \"<li>{}: <b>{}</b></li>\".format(name, status)\n",
    "    message += \"</ul>\"\n",
    "    return message\n",
    "def html_variable(core, project, variable):\n",
    "    value = variable.get_value(core, project)\n",
    "    metadata = variable.get_metadata(core)\n",
    "    name = metadata.title\n",
    "    units = metadata.units\n",
    "    message = \"<b>{}:</b> {}\".format(name, value)\n",
    "    if units:\n",
    "        message += \" ({})\".format(units[0])\n",
    "    return message"
   ]
  },
  {
   "cell_type": "markdown",
   "metadata": {},
   "source": [
    "## Create the core, menus and pipeline tree\n",
    "\n",
    "The core object carrys all the system information and is operated on by the other classes"
   ]
  },
  {
   "cell_type": "code",
   "execution_count": 9,
   "metadata": {
    "collapsed": false
   },
   "outputs": [],
   "source": [
    "new_core = Core()\n",
    "project_menu = ProjectMenu()\n",
    "module_menu = ModuleMenu()\n",
    "theme_menu = ThemeMenu()\n",
    "data_menu = DataMenu()\n",
    "pipe_tree = Tree()"
   ]
  },
  {
   "cell_type": "markdown",
   "metadata": {},
   "source": [
    "## Create a new project and tree"
   ]
  },
  {
   "cell_type": "code",
   "execution_count": 10,
   "metadata": {
    "collapsed": false
   },
   "outputs": [
    {
     "name": "stdout",
     "output_type": "stream",
     "text": [
      "2016-09-12 10:51:38,553 - INFO - aneris.entity.simulation - Created new Simulation with title \"Default\"\n",
      "2016-09-12 10:51:38,553 - INFO - aneris.control.simulation - Datastate with level \"initial\" stored\n",
      "2016-09-12 10:51:38,553 - INFO - aneris.control.pipeline - New Hub created for interface ProjectInterface.\n"
     ]
    }
   ],
   "source": [
    "project_title = \"DTOcean\"  \n",
    "new_project = project_menu.new_project(new_core, project_title)"
   ]
  },
  {
   "cell_type": "markdown",
   "metadata": {},
   "source": [
    "## Set the device type"
   ]
  },
  {
   "cell_type": "code",
   "execution_count": 11,
   "metadata": {
    "collapsed": false
   },
   "outputs": [
    {
     "name": "stdout",
     "output_type": "stream",
     "text": [
      "2016-09-12 10:51:38,584 - INFO - aneris.control.data - New \"device.system_type\" data stored with index NIV0KY\n",
      "2016-09-12 10:51:38,584 - INFO - aneris.control.simulation - Datastate stored\n"
     ]
    }
   ],
   "source": [
    "options_branch = pipe_tree.get_branch(new_core, new_project, \"System Type Selection\")\n",
    "variable_id = \"device.system_type\"\n",
    "my_var = options_branch.get_input_variable(new_core, new_project, variable_id)\n",
    "my_var.set_raw_interface(new_core, \"Wave Fixed\")\n",
    "my_var.read(new_core, new_project)"
   ]
  },
  {
   "cell_type": "markdown",
   "metadata": {},
   "source": [
    "## Initiate the pipeline\n",
    "This step will be important when the database is incorporated into the system as it will effect the operation of the pipeline."
   ]
  },
  {
   "cell_type": "code",
   "execution_count": 12,
   "metadata": {
    "collapsed": false
   },
   "outputs": [
    {
     "name": "stdout",
     "output_type": "stream",
     "text": [
      "2016-09-12 10:51:38,604 - INFO - aneris.control.simulation - Datastate with level \"system type selection start\" stored\n",
      "2016-09-12 10:51:38,614 - INFO - aneris.control.data - New \"hidden.pipeline_active\" data stored with index EOFYJT\n",
      "2016-09-12 10:51:38,614 - INFO - aneris.control.simulation - Datastate with level \"system type selection output\" stored\n",
      "2016-09-12 10:51:38,614 - INFO - aneris.control.pipeline - New Pipeline created for interface ModuleInterface.\n",
      "2016-09-12 10:51:38,614 - INFO - aneris.control.pipeline - New Hub created for interface ThemeInterface.\n"
     ]
    }
   ],
   "source": [
    "project_menu.initiate_pipeline(new_core, new_project)"
   ]
  },
  {
   "cell_type": "markdown",
   "metadata": {},
   "source": [
    "## Discover available modules"
   ]
  },
  {
   "cell_type": "code",
   "execution_count": 13,
   "metadata": {
    "collapsed": false
   },
   "outputs": [
    {
     "data": {
      "text/html": [
       "<ul><li>Hydrodynamics</li><li>Electrical Sub Systems</li><li>Mooring and Foundations</li></ul>"
      ],
      "text/plain": [
       "<IPython.core.display.HTML object>"
      ]
     },
     "execution_count": 13,
     "metadata": {},
     "output_type": "execute_result"
    }
   ],
   "source": [
    "names = module_menu.get_available(new_core, new_project)\n",
    "message = html_list(names)\n",
    "HTML(message)"
   ]
  },
  {
   "cell_type": "markdown",
   "metadata": {},
   "source": [
    "## Activate some modules\n",
    "\n",
    "Note that the order of activation is important and that we can't deactivate yet!"
   ]
  },
  {
   "cell_type": "code",
   "execution_count": 14,
   "metadata": {
    "collapsed": false
   },
   "outputs": [],
   "source": [
    "module_menu.activate(new_core, new_project, 'Hydrodynamics')\n",
    "module_menu.activate(new_core, new_project, 'Electrical Sub Systems')\n",
    "module_menu.activate(new_core, new_project, 'Mooring and Foundations')\n"
   ]
  },
  {
   "cell_type": "markdown",
   "metadata": {
    "collapsed": true
   },
   "source": [
    "## Activate the Economics and Reliability themes"
   ]
  },
  {
   "cell_type": "code",
   "execution_count": 15,
   "metadata": {
    "collapsed": false
   },
   "outputs": [
    {
     "data": {
      "text/html": [
       "<ul><li>Reliability</li><li>Economics</li><li>Environmental Impact Assessment</li></ul>"
      ],
      "text/plain": [
       "<IPython.core.display.HTML object>"
      ]
     },
     "execution_count": 15,
     "metadata": {},
     "output_type": "execute_result"
    }
   ],
   "source": [
    "names = theme_menu.get_available(new_core, new_project)\n",
    "message = html_list(names)\n",
    "HTML(message)"
   ]
  },
  {
   "cell_type": "code",
   "execution_count": 16,
   "metadata": {
    "collapsed": false
   },
   "outputs": [],
   "source": [
    "theme_menu.activate(new_core, new_project, \"Economics\")\n",
    "theme_menu.activate(new_core, new_project, \"Environmental Impact Assessment\")"
   ]
  },
  {
   "cell_type": "code",
   "execution_count": 17,
   "metadata": {
    "collapsed": false
   },
   "outputs": [],
   "source": [
    "# Here we are expecting Hydrodynamics\n",
    "assert _get_connector(new_project, \"modules\").get_current_interface_name(new_core, new_project) == \"Hydrodynamics\""
   ]
  },
  {
   "cell_type": "markdown",
   "metadata": {},
   "source": [
    "## Initiate the dataflow\n",
    "This indicates that the filtering and module / theme selections are complete"
   ]
  },
  {
   "cell_type": "code",
   "execution_count": 18,
   "metadata": {
    "collapsed": false
   },
   "outputs": [
    {
     "name": "stdout",
     "output_type": "stream",
     "text": [
      "2016-09-12 10:51:38,733 - INFO - aneris.control.data - New \"hidden.dataflow_active\" data stored with index HTK7AI\n",
      "2016-09-12 10:51:38,733 - INFO - aneris.control.simulation - Datastate stored\n",
      "2016-09-12 10:51:38,753 - INFO - aneris.control.simulation - Datastate with level \"modules initial\" stored\n"
     ]
    }
   ],
   "source": [
    "project_menu.initiate_dataflow(new_core, new_project)"
   ]
  },
  {
   "cell_type": "markdown",
   "metadata": {},
   "source": [
    "## Create the branches assosiated to the modules"
   ]
  },
  {
   "cell_type": "code",
   "execution_count": 19,
   "metadata": {
    "collapsed": false
   },
   "outputs": [],
   "source": [
    "hydro_branch = pipe_tree.get_branch(new_core, new_project, \"Hydrodynamics\")\n",
    "electro_branch = pipe_tree.get_branch(new_core, new_project, 'Electrical Sub Systems')\n",
    "moorings_branch = pipe_tree.get_branch(new_core, new_project, 'Mooring and Foundations')\n",
    "eco_branch = pipe_tree.get_branch(new_core, new_project, \"Economics\")\n",
    "env_branch = pipe_tree.get_branch(new_core, new_project, \"Environmental Impact Assessment\")"
   ]
  },
  {
   "cell_type": "markdown",
   "metadata": {},
   "source": [
    "## Load test data"
   ]
  },
  {
   "cell_type": "code",
   "execution_count": 20,
   "metadata": {
    "collapsed": false
   },
   "outputs": [
    {
     "name": "stdout",
     "output_type": "stream",
     "text": [
      "2016-09-12 10:51:38,894 - INFO - aneris.control.data - New \"farm.wave_series\" data stored with index R743IG\n",
      "2016-09-12 10:51:38,894 - INFO - aneris.control.data - New \"device.installation_depth_max\" data stored with index XKSDEC\n",
      "2016-09-12 10:51:38,904 - INFO - aneris.control.data - New \"device.coordinate_system\" data stored with index PIVWRM\n",
      "2016-09-12 10:51:38,904 - INFO - aneris.control.data - New \"device.minimum_distance_x\" data stored with index TDAQM7\n",
      "2016-09-12 10:51:38,904 - INFO - aneris.control.data - New \"device.minimum_distance_y\" data stored with index XLDTTN\n",
      "2016-09-12 10:51:38,904 - INFO - aneris.control.data - New \"options.boundary_padding\" data stored with index YDXGU7\n",
      "2016-09-12 10:51:38,904 - INFO - aneris.control.data - New \"device.installation_depth_min\" data stored with index X3EB0Z\n",
      "2016-09-12 10:51:38,904 - INFO - aneris.control.data - New \"device.wave_data_directory\" data stored with index EETIXL\n",
      "2016-09-12 10:51:38,904 - INFO - aneris.control.data - New \"site.lease_boundary\" data stored with index SAY1E1\n",
      "2016-09-12 10:51:38,914 - INFO - aneris.control.data - New \"options.optimisation_threshold\" data stored with index AYLW4I\n",
      "2016-09-12 10:51:38,914 - INFO - aneris.control.data - New \"options.user_array_option\" data stored with index QNMJIP\n",
      "2016-09-12 10:51:38,914 - INFO - aneris.control.data - New \"device.power_rating\" data stored with index L5HC7G\n",
      "2016-09-12 10:51:38,914 - INFO - aneris.control.data - New \"farm.point_sea_surface_height\" data stored with index 1JKETB\n",
      "2016-09-12 10:51:38,914 - INFO - aneris.control.data - New \"farm.spectrum_name\" data stored with index U8KDU2\n",
      "2016-09-12 10:51:38,914 - INFO - aneris.control.data - New \"device.yaw\" data stored with index XD8E3K\n",
      "2016-09-12 10:51:38,914 - INFO - aneris.control.data - New \"farm.mannings\" data stored with index XYLY00\n",
      "2016-09-12 10:51:38,914 - INFO - aneris.control.data - New \"corridor.landing_point\" data stored with index 3OC00A\n",
      "2016-09-12 10:51:38,924 - INFO - aneris.control.data - New \"farm.spec_spread\" data stored with index 77T90E\n",
      "2016-09-12 10:51:38,924 - INFO - aneris.control.data - New \"farm.spec_gamma\" data stored with index PI05KY\n",
      "2016-09-12 10:51:38,924 - INFO - aneris.control.data - New \"bathymetry.layers\" data stored with index WNM668\n",
      "2016-09-12 10:51:38,934 - INFO - aneris.control.data - New \"farm.rated_power\" data stored with index 01VVP3\n",
      "2016-09-12 10:51:38,934 - INFO - aneris.control.simulation - Datastate stored\n"
     ]
    }
   ],
   "source": [
    "hydro_branch.read_test_data(new_core,\n",
    "                            new_project,\n",
    "                            \"fixed_wave_staggered_layout_scenario.pkl\")"
   ]
  },
  {
   "cell_type": "code",
   "execution_count": 21,
   "metadata": {
    "collapsed": false
   },
   "outputs": [
    {
     "name": "stdout",
     "output_type": "stream",
     "text": [
      "2016-09-12 10:51:39,104 - INFO - aneris.control.data - New \"device.constant_power_factor\" data stored with index 4NEKDL\n",
      "2016-09-12 10:51:39,104 - INFO - aneris.control.data - New \"component.power_quality\" data stored with index GV8H25\n",
      "2016-09-12 10:51:39,104 - INFO - aneris.control.data - New \"corridor.shipping_hist\" data stored with index 1DQW09\n",
      "2016-09-12 10:51:39,104 - INFO - aneris.control.data - New \"component.switchgear\" data stored with index 36YS8J\n",
      "2016-09-12 10:51:39,104 - INFO - aneris.control.data - New \"component.collection_points\" data stored with index WCE5I9\n",
      "2016-09-12 10:51:39,104 - INFO - aneris.control.data - New \"component.dry_mate_connectors\" data stored with index MQ70YZ\n",
      "2016-09-12 10:51:39,114 - INFO - aneris.control.data - New \"device.voltage\" data stored with index IHOTPT\n",
      "2016-09-12 10:51:39,114 - INFO - aneris.control.data - New \"farm.shipping_hist\" data stored with index 1DBQQI\n",
      "2016-09-12 10:51:39,114 - INFO - aneris.control.data - New \"corridor.max_seabed_temp\" data stored with index 0GWS9Z\n",
      "2016-09-12 10:51:39,114 - INFO - aneris.control.data - New \"farm.target_burial_depth\" data stored with index WVXRYH\n",
      "2016-09-12 10:51:39,114 - INFO - aneris.control.data - New \"component.transformers\" data stored with index KEIVQZ\n",
      "2016-09-12 10:51:39,114 - INFO - aneris.control.data - New \"farm.network_configuration\" data stored with index 3L1ROP\n",
      "2016-09-12 10:51:39,114 - INFO - aneris.control.data - New \"farm.collection_point_type\" data stored with index YE9CVL\n",
      "2016-09-12 10:51:39,114 - INFO - aneris.control.data - New \"component.static_cable\" data stored with index 5CL40L\n",
      "2016-09-12 10:51:39,114 - INFO - aneris.control.data - New \"farm.devices_per_string\" data stored with index 2XHHDE\n",
      "2016-09-12 10:51:39,114 - INFO - aneris.control.data - New \"corridor.target_burial_depth\" data stored with index KIRSG4\n",
      "2016-09-12 10:51:39,124 - INFO - aneris.control.data - New \"farm.wave_direction_100_year\" data stored with index 9Z6WJC\n",
      "2016-09-12 10:51:39,124 - INFO - aneris.control.data - New \"farm.control_signal_channels\" data stored with index E55P19\n",
      "2016-09-12 10:51:39,124 - INFO - aneris.control.data - New \"component.dynamic_cable\" data stored with index 5JMRZL\n",
      "2016-09-12 10:51:39,124 - INFO - aneris.control.data - New \"corridor.wave_direction\" data stored with index 6V8VKE\n",
      "2016-09-12 10:51:39,124 - INFO - aneris.control.data - New \"corridor.max_soil_resistivity\" data stored with index 9VJKHP\n",
      "2016-09-12 10:51:39,124 - INFO - aneris.control.data - New \"device.connector_type\" data stored with index C00Q07\n",
      "2016-09-12 10:51:39,124 - INFO - aneris.control.data - New \"component.collection_point_cog\" data stored with index EOTAE4\n",
      "2016-09-12 10:51:39,124 - INFO - aneris.control.data - New \"bathymetry.max_seabed_temp\" data stored with index ZO2POO\n",
      "2016-09-12 10:51:39,124 - INFO - aneris.control.data - New \"farm.onshore_infrastructure_cost\" data stored with index AXSGVK\n",
      "2016-09-12 10:51:39,124 - INFO - aneris.control.data - New \"farm.control_signal_cable\" data stored with index 9RS1YR\n",
      "2016-09-12 10:51:39,124 - INFO - aneris.control.data - New \"farm.direction_of_max_surface_current\" data stored with index 2B4YMP\n",
      "2016-09-12 10:51:39,134 - INFO - aneris.control.data - New \"bathymetry.max_soil_resistivity\" data stored with index O61BO8\n",
      "2016-09-12 10:51:39,134 - INFO - aneris.control.data - New \"component.collection_point_foundations\" data stored with index 0OYZSA\n",
      "2016-09-12 10:51:39,134 - INFO - aneris.control.data - New \"farm.ac_power_flow\" data stored with index C32QMT\n",
      "2016-09-12 10:51:39,134 - INFO - aneris.control.data - New \"corridor.tidal_current_direction\" data stored with index D9N0IB\n",
      "2016-09-12 10:51:39,134 - INFO - aneris.control.data - New \"device.prescribed_footprint_radius\" data stored with index FE51TN\n",
      "2016-09-12 10:51:39,134 - INFO - aneris.control.data - New \"component.equipment_gradient_constraint\" data stored with index IWU2FG\n",
      "2016-09-12 10:51:39,134 - INFO - aneris.control.data - New \"farm.max_surface_current_10_year\" data stored with index IKTKLR\n",
      "2016-09-12 10:51:39,144 - INFO - aneris.control.data - New \"corridor.tidal_current_flow\" data stored with index M9Y0T4\n",
      "2016-09-12 10:51:39,144 - INFO - aneris.control.data - New \"farm.connector_type\" data stored with index EAEJ4X\n",
      "2016-09-12 10:51:39,144 - INFO - aneris.control.data - New \"component.wet_mate_connectors\" data stored with index X2EF5F\n",
      "2016-09-12 10:51:39,144 - INFO - aneris.control.data - New \"farm.voltage_limit_min\" data stored with index XYXKF5\n",
      "2016-09-12 10:51:39,144 - INFO - aneris.control.data - New \"farm.voltage_limit_max\" data stored with index QUGQKU\n",
      "2016-09-12 10:51:39,144 - INFO - aneris.control.data - New \"component.installation_soil_compatibility\" data stored with index 4PJSYD\n",
      "2016-09-12 10:51:39,144 - INFO - aneris.control.data - New \"corridor.voltage\" data stored with index OEDXGQ\n",
      "2016-09-12 10:51:39,154 - INFO - aneris.control.data - New \"corridor.layers\" data stored with index E2L86B\n",
      "2016-09-12 10:51:39,154 - INFO - aneris.control.data - New \"farm.control_signal_type\" data stored with index 24AUFI\n",
      "2016-09-12 10:51:39,154 - INFO - aneris.control.simulation - Datastate stored\n"
     ]
    }
   ],
   "source": [
    "electro_branch.read_test_data(new_core,\n",
    "                              new_project,\n",
    "                              \"fixed_wave_staggered_layout_scenario.pkl\")"
   ]
  },
  {
   "cell_type": "code",
   "execution_count": 22,
   "metadata": {
    "collapsed": false
   },
   "outputs": [
    {
     "name": "stdout",
     "output_type": "stream",
     "text": [
      "2016-09-12 10:51:39,374 - INFO - aneris.control.data - New \"farm.mean_wind_speed_100_year\" data stored with index SOR0HK\n",
      "2016-09-12 10:51:39,374 - INFO - aneris.control.data - New \"device.system_profile\" data stored with index 8OIDLT\n",
      "2016-09-12 10:51:39,374 - INFO - aneris.control.data - New \"farm.wave_gamma_100_year\" data stored with index Q5XBMY\n",
      "2016-09-12 10:51:39,374 - INFO - aneris.control.data - New \"constants.gravity\" data stored with index CZ23JH\n",
      "2016-09-12 10:51:39,384 - INFO - aneris.control.data - New \"constants.cylinder_drag\" data stored with index 31HCXZ\n",
      "2016-09-12 10:51:39,384 - INFO - aneris.control.data - New \"device.dry_beam_area\" data stored with index S3RPTA\n",
      "2016-09-12 10:51:39,384 - INFO - aneris.control.data - New \"device.wet_beam_area\" data stored with index 4X62AB\n",
      "2016-09-12 10:51:39,384 - INFO - aneris.control.data - New \"farm.max_water_level_50_year\" data stored with index R6G2FC\n",
      "2016-09-12 10:51:39,384 - INFO - aneris.control.data - New \"device.wet_frontal_area\" data stored with index ZD85UE\n",
      "2016-09-12 10:51:39,384 - INFO - aneris.control.data - New \"farm.mean_wind_direction_100_year\" data stored with index K0DGLS\n",
      "2016-09-12 10:51:39,384 - INFO - aneris.control.data - New \"project.cost_of_steel\" data stored with index MHFN6A\n",
      "2016-09-12 10:51:39,384 - INFO - aneris.control.data - New \"bathymetry.soil_sensitivity\" data stored with index YOOVDV\n",
      "2016-09-12 10:51:39,394 - INFO - aneris.control.data - New \"farm.max_tp_100_year\" data stored with index O1K6LQ\n",
      "2016-09-12 10:51:39,394 - INFO - aneris.control.data - New \"device.system_centre_of_gravity\" data stored with index N7I1RB\n",
      "2016-09-12 10:51:39,394 - INFO - aneris.control.data - New \"constants.concrete_density\" data stored with index MB0S8H\n",
      "2016-09-12 10:51:39,394 - INFO - aneris.control.data - New \"component.foundations_pile\" data stored with index MR76BG\n",
      "2016-09-12 10:51:39,394 - INFO - aneris.control.data - New \"constants.rectangular_wave_inertia\" data stored with index B58TFF\n",
      "2016-09-12 10:51:39,394 - INFO - aneris.control.data - New \"device.system_mass\" data stored with index IC6RDK\n",
      "2016-09-12 10:51:39,394 - INFO - aneris.control.data - New \"constants.rectangular_drift\" data stored with index 8XCZ3N\n",
      "2016-09-12 10:51:39,404 - INFO - aneris.control.data - New \"device.foundation_location\" data stored with index 6N2E1D\n",
      "2016-09-12 10:51:39,404 - INFO - aneris.control.data - New \"farm.min_water_level_50_year\" data stored with index GJSVR8\n",
      "2016-09-12 10:51:39,404 - INFO - aneris.control.data - New \"farm.max_gust_wind_speed_100_year\" data stored with index 5VWOEG\n",
      "2016-09-12 10:51:39,404 - INFO - aneris.control.data - New \"device.system_width\" data stored with index LMXRHM\n",
      "2016-09-12 10:51:39,404 - INFO - aneris.control.data - New \"bathymetry.soilprops\" data stored with index VYDXIX\n",
      "2016-09-12 10:51:39,404 - INFO - aneris.control.data - New \"bathymetry.pile_Bm_moment_coefficient\" data stored with index MRZCH5\n",
      "2016-09-12 10:51:39,414 - INFO - aneris.control.data - New \"bathymetry.line_bearing_capacity_factor\" data stored with index 8KMBGU\n",
      "2016-09-12 10:51:39,414 - INFO - aneris.control.data - New \"component.foundations_anchor_soft\" data stored with index 03G8F8\n",
      "2016-09-12 10:51:39,414 - INFO - aneris.control.data - New \"device.system_displaced_volume\" data stored with index 7QHCM3\n",
      "2016-09-12 10:51:39,414 - INFO - aneris.control.data - New \"constants.cylinder_wake_amplificiation\" data stored with index 7CGS1I\n",
      "2016-09-12 10:51:39,414 - INFO - aneris.control.data - New \"device.dry_frontal_area\" data stored with index MB5EGU\n",
      "2016-09-12 10:51:39,424 - INFO - aneris.control.data - New \"bathymetry.soil_cohesive_reaction_coefficient\" data stored with index S8645H\n",
      "2016-09-12 10:51:39,424 - INFO - aneris.control.data - New \"constants.air_density\" data stored with index PE4EDH\n",
      "2016-09-12 10:51:39,424 - INFO - aneris.control.data - New \"component.foundations_anchor_sand\" data stored with index C4O7SV\n",
      "2016-09-12 10:51:39,424 - INFO - aneris.control.data - New \"device.foundation_safety_factor\" data stored with index 6KVDEM\n",
      "2016-09-12 10:51:39,424 - INFO - aneris.control.data - New \"bathymetry.pile_Am_moment_coefficient\" data stored with index KA8AJG\n",
      "2016-09-12 10:51:39,434 - INFO - aneris.control.data - New \"farm.max_gust_wind_direction_100_year\" data stored with index UDTF84\n",
      "2016-09-12 10:51:39,434 - INFO - aneris.control.data - New \"farm.max_hs_100_year\" data stored with index 491Z12\n",
      "2016-09-12 10:51:39,434 - INFO - aneris.control.data - New \"farm.current_profile\" data stored with index 24L6VK\n",
      "2016-09-12 10:51:39,434 - INFO - aneris.control.data - New \"bathymetry.soil_cohesionless_reaction_coefficient\" data stored with index LPRVMO\n",
      "2016-09-12 10:51:39,434 - INFO - aneris.control.data - New \"constants.steel_density\" data stored with index CDEGCV\n",
      "2016-09-12 10:51:39,434 - INFO - aneris.control.data - New \"device.system_roughness\" data stored with index TTYSBQ\n",
      "2016-09-12 10:51:39,444 - INFO - aneris.control.data - New \"bathymetry.pile_skin_friction_end_bearing_capacity\" data stored with index OJ8PVQ\n",
      "2016-09-12 10:51:39,444 - INFO - aneris.control.data - New \"bathymetry.soil_drained_holding_capacity_factor\" data stored with index 4BVYNT\n",
      "2016-09-12 10:51:39,444 - INFO - aneris.control.data - New \"project.cost_of_grout\" data stored with index MF79CT\n",
      "2016-09-12 10:51:39,444 - INFO - aneris.control.data - New \"device.system_length\" data stored with index SXC8EL\n",
      "2016-09-12 10:51:39,453 - INFO - aneris.control.data - New \"constants.grout_density\" data stored with index PW85EO\n",
      "2016-09-12 10:51:39,453 - INFO - aneris.control.data - New \"project.cost_of_concrete\" data stored with index LU96BS\n",
      "2016-09-12 10:51:39,453 - INFO - aneris.control.data - New \"farm.grout_strength_safety_factor\" data stored with index 6GEIP7\n",
      "2016-09-12 10:51:39,453 - INFO - aneris.control.data - New \"constants.grout_compressive_strength\" data stored with index 7G73LN\n",
      "2016-09-12 10:51:39,453 - INFO - aneris.control.data - New \"device.system_height\" data stored with index 05J5KE\n",
      "2016-09-12 10:51:39,453 - INFO - aneris.control.data - New \"constants.rectangular_wind_drag\" data stored with index 5ZM1T4\n",
      "2016-09-12 10:51:39,463 - INFO - aneris.control.data - New \"constants.rectangular_current_drag\" data stored with index X3GZVA\n",
      "2016-09-12 10:51:39,463 - INFO - aneris.control.data - New \"bathymetry.pile_deflection_coefficients\" data stored with index V8XWDB\n",
      "2016-09-12 10:51:39,463 - INFO - aneris.control.data - New \"component.foundations_anchor\" data stored with index LGF3R7\n",
      "2016-09-12 10:51:39,463 - INFO - aneris.control.data - New \"constants.sea_water_density\" data stored with index QHSIIA\n",
      "2016-09-12 10:51:39,463 - INFO - aneris.control.simulation - Datastate stored\n"
     ]
    }
   ],
   "source": [
    "moorings_branch.read_test_data(new_core,\n",
    "                               new_project,\n",
    "                               \"fixed_wave_staggered_layout_scenario.pkl\")"
   ]
  },
  {
   "cell_type": "code",
   "execution_count": 23,
   "metadata": {
    "collapsed": false
   },
   "outputs": [
    {
     "name": "stdout",
     "output_type": "stream",
     "text": [
      "2016-09-12 10:51:39,624 - INFO - aneris.control.data - New \"farm.hydro_measured_turbidity\" data stored with index MRD5VF\n",
      "2016-09-12 10:51:39,624 - INFO - aneris.control.data - New \"farm.elec_measured_magnetic_field\" data stored with index NNUCZ0\n",
      "2016-09-12 10:51:39,624 - INFO - aneris.control.data - New \"farm.elec_measured_noise\" data stored with index YJ5X8N\n",
      "2016-09-12 10:51:39,624 - INFO - aneris.control.data - New \"farm.initial_magnetic_field\" data stored with index PEYERP\n",
      "2016-09-12 10:51:39,624 - INFO - aneris.control.data - New \"farm.hydro_reserve_effect_weight\" data stored with index RMSETU\n",
      "2016-09-12 10:51:39,624 - INFO - aneris.control.data - New \"farm.hydro_measured_noise\" data stored with index ETWQVL\n",
      "2016-09-12 10:51:39,624 - INFO - aneris.control.data - New \"farm.moor_measured_noise\" data stored with index O9708F\n",
      "2016-09-12 10:51:39,634 - INFO - aneris.control.data - New \"farm.protected_table\" data stored with index VARX1Z\n",
      "2016-09-12 10:51:39,634 - INFO - aneris.control.data - New \"farm.fishery_restricted_area\" data stored with index B1S263\n",
      "2016-09-12 10:51:39,634 - INFO - aneris.control.data - New \"farm.elec_measured_elec_field\" data stored with index VYCG0T\n",
      "2016-09-12 10:51:39,634 - INFO - aneris.control.data - New \"farm.initial_temperature\" data stored with index MRHR2T\n",
      "2016-09-12 10:51:39,634 - INFO - aneris.control.data - New \"farm.initial_noise\" data stored with index CS24PO\n",
      "2016-09-12 10:51:39,634 - INFO - aneris.control.data - New \"farm.hydro_collision_risk_weight\" data stored with index AICJK6\n",
      "2016-09-12 10:51:39,634 - INFO - aneris.control.data - New \"farm.receptors_table\" data stored with index H84NHR\n",
      "2016-09-12 10:51:39,634 - INFO - aneris.control.data - New \"farm.elec_measured_temperature\" data stored with index WXOYN5\n",
      "2016-09-12 10:51:39,644 - INFO - aneris.control.data - New \"farm.hydro_reef_effect_weight\" data stored with index 5APM1B\n",
      "2016-09-12 10:51:39,644 - INFO - aneris.control.data - New \"farm.hydro_underwater_noise_risk_weight\" data stored with index KUMOOO\n",
      "2016-09-12 10:51:39,644 - INFO - aneris.control.data - New \"farm.hydro_resting_place_weight\" data stored with index KTA65Q\n",
      "2016-09-12 10:51:39,644 - INFO - aneris.control.data - New \"farm.hydro_energy_modif_weight\" data stored with index H9E46H\n",
      "2016-09-12 10:51:39,644 - INFO - aneris.control.data - New \"farm.initial_turbidity\" data stored with index NZ4YUS\n",
      "2016-09-12 10:51:39,644 - INFO - aneris.control.data - New \"farm.initial_elec_field\" data stored with index MG9X25\n",
      "2016-09-12 10:51:39,644 - INFO - aneris.control.simulation - Datastate stored\n"
     ]
    }
   ],
   "source": [
    "env_branch.read_test_data(new_core,\n",
    "                               new_project,\n",
    "                               \"fixed_wave_staggered_layout_scenario.pkl\")"
   ]
  },
  {
   "cell_type": "markdown",
   "metadata": {},
   "source": [
    "## Check the status of the inputs\n",
    "\n",
    "* satisfied - data is in the data state\n",
    "* required - data is not in the data state\n",
    "* unavailable - data will come from another source"
   ]
  },
  {
   "cell_type": "code",
   "execution_count": 24,
   "metadata": {
    "collapsed": false
   },
   "outputs": [
    {
     "data": {
      "text/html": [
       "<ul><li>options.user_array_option: <b>satisfied</b></li><li>device.power_rating: <b>satisfied</b></li><li>farm.wave_series: <b>satisfied</b></li><li>farm.nogo_areas: <b>optional</b></li><li>farm.point_sea_surface_height: <b>satisfied</b></li><li>farm.spectrum_name: <b>satisfied</b></li><li>farm.spec_spread: <b>satisfied</b></li><li>device.installation_depth_max: <b>satisfied</b></li><li>device.yaw: <b>satisfied</b></li><li>device.system_type: <b>satisfied</b></li><li>device.coordinate_system: <b>satisfied</b></li><li>corridor.landing_point: <b>satisfied</b></li><li>farm.mannings: <b>satisfied</b></li><li>farm.main_direction: <b>optional</b></li><li>bathymetry.layers: <b>satisfied</b></li><li>options.power_bin_width: <b>optional</b></li><li>farm.spec_gamma: <b>satisfied</b></li><li>device.minimum_distance_x: <b>satisfied</b></li><li>device.minimum_distance_y: <b>satisfied</b></li><li>options.boundary_padding: <b>satisfied</b></li><li>device.installation_depth_min: <b>satisfied</b></li><li>device.wave_data_directory: <b>satisfied</b></li><li>options.user_array_layout: <b>optional</b></li><li>farm.rated_power: <b>satisfied</b></li><li>site.lease_boundary: <b>satisfied</b></li><li>options.optimisation_threshold: <b>satisfied</b></li></ul>"
      ],
      "text/plain": [
       "<IPython.core.display.HTML object>"
      ]
     },
     "execution_count": 24,
     "metadata": {},
     "output_type": "execute_result"
    }
   ],
   "source": [
    "input_status = hydro_branch.get_input_status(new_core, new_project)\n",
    "message = html_dict(input_status)\n",
    "HTML(message)"
   ]
  },
  {
   "cell_type": "code",
   "execution_count": 25,
   "metadata": {
    "collapsed": false,
    "scrolled": true
   },
   "outputs": [
    {
     "data": {
      "text/html": [
       "<ul><li>device.constant_power_factor: <b>satisfied</b></li><li>component.power_quality: <b>satisfied</b></li><li>corridor.shipping_hist: <b>satisfied</b></li><li>component.switchgear: <b>satisfied</b></li><li>component.collection_points: <b>satisfied</b></li><li>component.dry_mate_connectors: <b>satisfied</b></li><li>corridor.nogo_areas: <b>optional</b></li><li>device.voltage: <b>satisfied</b></li><li>farm.shipping_hist: <b>satisfied</b></li><li>corridor.max_seabed_temp: <b>satisfied</b></li><li>farm.target_burial_depth: <b>satisfied</b></li><li>farm.direction_of_max_surface_current: <b>satisfied</b></li><li>farm.network_configuration: <b>satisfied</b></li><li>farm.collection_point_type: <b>satisfied</b></li><li>component.static_cable: <b>satisfied</b></li><li>farm.devices_per_string: <b>satisfied</b></li><li>farm.wave_direction_100_year: <b>satisfied</b></li><li>corridor.target_burial_depth: <b>satisfied</b></li><li>farm.annual_energy: <b>unavailable</b></li><li>component.transformers: <b>satisfied</b></li><li>component.dynamic_cable: <b>satisfied</b></li><li>corridor.wave_direction: <b>satisfied</b></li><li>component.collection_point_foundations: <b>satisfied</b></li><li>device.connector_type: <b>satisfied</b></li><li>component.installation_soil_compatibility: <b>satisfied</b></li><li>component.collection_point_cog: <b>satisfied</b></li><li>bathymetry.max_seabed_temp: <b>satisfied</b></li><li>farm.offshore_reactive_limit: <b>optional</b></li><li>farm.control_signal_cable: <b>satisfied</b></li><li>farm.layout: <b>unavailable</b></li><li>device.power_rating: <b>unavailable</b></li><li>component.wet_mate_connectors: <b>satisfied</b></li><li>farm.nogo_areas: <b>unavailable_option</b></li><li>bathymetry.max_soil_resistivity: <b>satisfied</b></li><li>farm.ac_power_flow: <b>satisfied</b></li><li>corridor.tidal_current_direction: <b>satisfied</b></li><li>device.prescribed_footprint_radius: <b>satisfied</b></li><li>component.equipment_gradient_constraint: <b>satisfied</b></li><li>farm.onshore_infrastructure_cost: <b>satisfied</b></li><li>farm.max_surface_current_10_year: <b>satisfied</b></li><li>device.system_type: <b>unavailable</b></li><li>corridor.tidal_current_flow: <b>satisfied</b></li><li>corridor.landing_point: <b>unavailable</b></li><li>farm.connector_type: <b>satisfied</b></li><li>farm.main_direction: <b>unavailable_option</b></li><li>farm.mean_power_hist_per_device: <b>unavailable</b></li><li>farm.voltage_limit_min: <b>satisfied</b></li><li>farm.control_signal_channels: <b>satisfied</b></li><li>bathymetry.layers: <b>unavailable</b></li><li>farm.onshore_losses: <b>optional</b></li><li>corridor.max_soil_resistivity: <b>satisfied</b></li><li>corridor.number_of_export_cables: <b>optional</b></li><li>farm.voltage_limit_max: <b>satisfied</b></li><li>corridor.voltage: <b>satisfied</b></li><li>device.power_factor: <b>optional</b></li><li>corridor.layers: <b>satisfied</b></li><li>device.footprint_coords: <b>optional</b></li><li>farm.control_signal_type: <b>satisfied</b></li></ul>"
      ],
      "text/plain": [
       "<IPython.core.display.HTML object>"
      ]
     },
     "execution_count": 25,
     "metadata": {},
     "output_type": "execute_result"
    }
   ],
   "source": [
    "input_status = electro_branch.get_input_status(new_core, new_project)\n",
    "message = html_dict(input_status)\n",
    "HTML(message)"
   ]
  },
  {
   "cell_type": "code",
   "execution_count": 26,
   "metadata": {
    "collapsed": false
   },
   "outputs": [
    {
     "data": {
      "text/html": [
       "<ul><li>farm.mean_wind_speed_100_year: <b>satisfied</b></li><li>device.system_profile: <b>satisfied</b></li><li>device.system_type: <b>unavailable</b></li><li>device.wet_beam_area: <b>satisfied</b></li><li>device.system_height: <b>satisfied</b></li><li>device.foundation_type: <b>optional</b></li><li>farm.substation_props: <b>unavailable_option</b></li><li>farm.mean_wind_direction_100_year: <b>satisfied</b></li><li>device.coordinate_system: <b>unavailable</b></li><li>project.cost_of_steel: <b>satisfied</b></li><li>farm.current_profile: <b>satisfied</b></li><li>constants.sea_water_density: <b>satisfied</b></li><li>farm.substation_layout: <b>unavailable_option</b></li><li>constants.rectangular_drift: <b>satisfied</b></li><li>constants.rectangular_wave_inertia: <b>satisfied</b></li><li>device.system_mass: <b>satisfied</b></li><li>bathymetry.pile_Bm_moment_coefficient: <b>satisfied</b></li><li>constants.rectangular_current_drag: <b>satisfied</b></li><li>component.foundations_anchor_soft: <b>satisfied</b></li><li>device.system_displaced_volume: <b>satisfied</b></li><li>farm.substation_foundation_location: <b>unavailable_option</b></li><li>device.dry_frontal_area: <b>satisfied</b></li><li>constants.air_density: <b>satisfied</b></li><li>constants.cylinder_drag: <b>satisfied</b></li><li>device.prescribed_footprint_radius: <b>unavailable_option</b></li><li>farm.max_gust_wind_direction_100_year: <b>satisfied</b></li><li>farm.substation_cog: <b>unavailable_option</b></li><li>constants.steel_density: <b>satisfied</b></li><li>farm.main_direction: <b>unavailable</b></li><li>device.system_roughness: <b>satisfied</b></li><li>bathymetry.layers: <b>unavailable</b></li><li>bathymetry.soil_drained_holding_capacity_factor: <b>satisfied</b></li><li>project.cost_of_grout: <b>satisfied</b></li><li>device.external_forces: <b>unavailable_option</b></li><li>device.system_width: <b>satisfied</b></li><li>farm.max_water_level_50_year: <b>satisfied</b></li><li>farm.grout_strength_safety_factor: <b>satisfied</b></li><li>farm.wave_gamma_100_year: <b>satisfied</b></li><li>constants.gravity: <b>satisfied</b></li><li>component.predefined_mooring_list: <b>optional</b></li><li>device.dry_beam_area: <b>satisfied</b></li><li>device.wet_frontal_area: <b>satisfied</b></li><li>bathymetry.soil_sensitivity: <b>satisfied</b></li><li>farm.max_tp_100_year: <b>satisfied</b></li><li>device.system_centre_of_gravity: <b>satisfied</b></li><li>constants.concrete_density: <b>satisfied</b></li><li>farm.direction_of_max_surface_current: <b>unavailable</b></li><li>farm.wave_direction_100_year: <b>unavailable</b></li><li>component.foundations_pile: <b>satisfied</b></li><li>farm.layout: <b>unavailable</b></li><li>device.foundation_location: <b>satisfied</b></li><li>farm.max_gust_wind_speed_100_year: <b>satisfied</b></li><li>bathymetry.soilprops: <b>satisfied</b></li><li>component.foundations_anchor: <b>satisfied</b></li><li>bathymetry.line_bearing_capacity_factor: <b>satisfied</b></li><li>constants.cylinder_wake_amplificiation: <b>satisfied</b></li><li>bathymetry.soil_cohesive_reaction_coefficient: <b>satisfied</b></li><li>farm.min_water_level_50_year: <b>satisfied</b></li><li>device.system_length: <b>satisfied</b></li><li>component.foundations_anchor_sand: <b>satisfied</b></li><li>device.foundation_safety_factor: <b>satisfied</b></li><li>bathymetry.pile_Am_moment_coefficient: <b>satisfied</b></li><li>farm.max_surface_current_10_year: <b>unavailable</b></li><li>farm.max_hs_100_year: <b>satisfied</b></li><li>bathymetry.soil_cohesionless_reaction_coefficient: <b>satisfied</b></li><li>bathymetry.pile_skin_friction_end_bearing_capacity: <b>satisfied</b></li><li>component.fabrication_cost: <b>optional</b></li><li>constants.grout_density: <b>satisfied</b></li><li>project.cost_of_concrete: <b>satisfied</b></li><li>constants.grout_compressive_strength: <b>satisfied</b></li><li>constants.rectangular_wind_drag: <b>satisfied</b></li><li>bathymetry.pile_deflection_coefficients: <b>satisfied</b></li></ul>"
      ],
      "text/plain": [
       "<IPython.core.display.HTML object>"
      ]
     },
     "execution_count": 26,
     "metadata": {},
     "output_type": "execute_result"
    }
   ],
   "source": [
    "input_status = moorings_branch.get_input_status(new_core, new_project)\n",
    "message = html_dict(input_status)\n",
    "HTML(message)"
   ]
  },
  {
   "cell_type": "markdown",
   "metadata": {},
   "source": [
    "## Prepare the Economics Theme"
   ]
  },
  {
   "cell_type": "code",
   "execution_count": 27,
   "metadata": {
    "collapsed": false
   },
   "outputs": [
    {
     "data": {
      "text/html": [
       "<ul><li>farm.electrical_economics_data: <b>unavailable_option</b></li><li>farm.moorings_foundations_economics_data: <b>unavailable_option</b></li><li>device.system_cost: <b>optional</b></li><li>farm.annual_energy: <b>unavailable_option</b></li><li>project.discount_rate: <b>required</b></li><li>farm.number_of_devices: <b>unavailable_option</b></li></ul>"
      ],
      "text/plain": [
       "<IPython.core.display.HTML object>"
      ]
     },
     "execution_count": 27,
     "metadata": {},
     "output_type": "execute_result"
    }
   ],
   "source": [
    "theme_name = \"Economics\"\n",
    "input_status = eco_branch.get_input_status(new_core, new_project)\n",
    "message = html_dict(input_status)\n",
    "HTML(message)"
   ]
  },
  {
   "cell_type": "markdown",
   "metadata": {},
   "source": [
    "## Prepare the Environmental Theme"
   ]
  },
  {
   "cell_type": "code",
   "execution_count": 28,
   "metadata": {
    "collapsed": false
   },
   "outputs": [
    {
     "data": {
      "text/html": [
       "<ul><li>farm.hydro_measured_turbidity: <b>satisfied</b></li><li>farm.elec_measured_magnetic_field: <b>satisfied</b></li><li>farm.elec_footprint_weight: <b>optional</b></li><li>farm.elec_measured_noise: <b>satisfied</b></li><li>device.system_height: <b>satisfied</b></li><li>farm.substation_props: <b>unavailable_option</b></li><li>farm.initial_magnetic_field: <b>satisfied</b></li><li>farm.hydro_turbidity_risk_weight: <b>optional</b></li><li>farm.direction_of_max_surface_current: <b>satisfied</b></li><li>farm.elec_magnetic_field_weight: <b>optional</b></li><li>farm.moorings_dimensions: <b>unavailable_option</b></li><li>farm.hydro_reserve_effect_weight: <b>satisfied</b></li><li>farm.hydro_measured_noise: <b>satisfied</b></li><li>farm.moor_footprint_weight: <b>optional</b></li><li>farm.substation_layout: <b>unavailable_option</b></li><li>farm.moor_measured_noise: <b>satisfied</b></li><li>farm.layout: <b>unavailable</b></li><li>farm.protected_table: <b>satisfied</b></li><li>farm.fishery_restricted_area: <b>satisfied</b></li><li>farm.hydro_underwater_noise_risk_weight: <b>satisfied</b></li><li>farm.moor_reef_effect_weight: <b>optional</b></li><li>farm.resource_reduction: <b>unavailable</b></li><li>farm.elec_measured_elec_field: <b>satisfied</b></li><li>site.lease_boundary: <b>satisfied</b></li><li>farm.elec_elec_field_weight: <b>optional</b></li><li>farm.elec_collision_risk_weight: <b>optional</b></li><li>device.dry_frontal_area: <b>satisfied</b></li><li>farm.elec_reserve_effect_weight: <b>optional</b></li><li>farm.hydro_collision_risk_weight: <b>satisfied</b></li><li>farm.initial_noise: <b>satisfied</b></li><li>device.system_draft: <b>optional</b></li><li>farm.receptors_table: <b>satisfied</b></li><li>device.system_type: <b>satisfied</b></li><li>farm.elec_reef_effect_weight: <b>optional</b></li><li>farm.moor_underwater_noise_risk_weight: <b>optional</b></li><li>farm.initial_turbidity: <b>satisfied</b></li><li>farm.elec_measured_temperature: <b>satisfied</b></li><li>farm.hydro_reef_effect_weight: <b>satisfied</b></li><li>farm.initial_temperature: <b>satisfied</b></li><li>farm.hydro_resting_place_weight: <b>satisfied</b></li><li>bathymetry.layers: <b>satisfied</b></li><li>farm.number_of_devices: <b>unavailable_option</b></li><li>device.system_length: <b>satisfied</b></li><li>farm.hydro_energy_modif_weight: <b>satisfied</b></li><li>device.wet_frontal_area: <b>satisfied</b></li><li>device.system_width: <b>satisfied</b></li><li>farm.elec_resting_place_weight: <b>optional</b></li><li>farm.moor_collision_risk_weight: <b>optional</b></li><li>farm.initial_elec_field: <b>satisfied</b></li><li>farm.elec_underwater_noise_risk_weight: <b>optional</b></li><li>farm.elec_temp_modif_weight: <b>optional</b></li></ul>"
      ],
      "text/plain": [
       "<IPython.core.display.HTML object>"
      ]
     },
     "execution_count": 28,
     "metadata": {},
     "output_type": "execute_result"
    }
   ],
   "source": [
    "theme_name = \"Environmental Impact Assessment\"\n",
    "input_status = env_branch.get_input_status(new_core, new_project)\n",
    "message = html_dict(input_status)\n",
    "HTML(message)"
   ]
  },
  {
   "cell_type": "markdown",
   "metadata": {},
   "source": [
    "## Set the discount rate, device cost and project lifetime"
   ]
  },
  {
   "cell_type": "code",
   "execution_count": 29,
   "metadata": {
    "collapsed": false
   },
   "outputs": [
    {
     "name": "stdout",
     "output_type": "stream",
     "text": [
      "2016-09-12 10:51:39,743 - INFO - aneris.control.data - New \"project.discount_rate\" data stored with index O1GI6U\n",
      "2016-09-12 10:51:39,743 - INFO - aneris.control.simulation - Datastate stored\n",
      "2016-09-12 10:51:39,763 - INFO - aneris.control.data - New \"device.system_cost\" data stored with index DW6GX1\n",
      "2016-09-12 10:51:39,763 - INFO - aneris.control.simulation - Datastate stored\n"
     ]
    }
   ],
   "source": [
    "discount_rate = 0.05\n",
    "device_cost = 1000000\n",
    "\n",
    "new_var = eco_branch.get_input_variable(new_core, new_project,\n",
    "                                        \"project.discount_rate\")\n",
    "new_var.set_raw_interface(new_core, discount_rate)\n",
    "new_var.read(new_core, new_project)\n",
    "\n",
    "new_var = eco_branch.get_input_variable(new_core, new_project,\n",
    "                                        \"device.system_cost\")\n",
    "new_var.set_raw_interface(new_core, device_cost)\n",
    "new_var.read(new_core, new_project)"
   ]
  },
  {
   "cell_type": "markdown",
   "metadata": {},
   "source": [
    "## Check if the modules can be executed"
   ]
  },
  {
   "cell_type": "code",
   "execution_count": 30,
   "metadata": {
    "collapsed": false
   },
   "outputs": [
    {
     "data": {
      "text/plain": [
       "True"
      ]
     },
     "metadata": {},
     "output_type": "display_data"
    },
    {
     "data": {
      "text/plain": [
       "False"
      ]
     },
     "metadata": {},
     "output_type": "display_data"
    },
    {
     "data": {
      "text/plain": [
       "False"
      ]
     },
     "metadata": {},
     "output_type": "display_data"
    },
    {
     "data": {
      "text/html": [
       "<ul><li>options.user_array_option: <b>satisfied</b></li><li>device.power_rating: <b>satisfied</b></li><li>farm.wave_series: <b>satisfied</b></li><li>farm.nogo_areas: <b>optional</b></li><li>farm.point_sea_surface_height: <b>satisfied</b></li><li>farm.spectrum_name: <b>satisfied</b></li><li>farm.spec_spread: <b>satisfied</b></li><li>device.installation_depth_max: <b>satisfied</b></li><li>device.yaw: <b>satisfied</b></li><li>device.system_type: <b>satisfied</b></li><li>device.coordinate_system: <b>satisfied</b></li><li>corridor.landing_point: <b>satisfied</b></li><li>farm.mannings: <b>satisfied</b></li><li>farm.main_direction: <b>optional</b></li><li>bathymetry.layers: <b>satisfied</b></li><li>options.power_bin_width: <b>optional</b></li><li>farm.spec_gamma: <b>satisfied</b></li><li>device.minimum_distance_x: <b>satisfied</b></li><li>device.minimum_distance_y: <b>satisfied</b></li><li>options.boundary_padding: <b>satisfied</b></li><li>device.installation_depth_min: <b>satisfied</b></li><li>device.wave_data_directory: <b>satisfied</b></li><li>options.user_array_layout: <b>optional</b></li><li>farm.rated_power: <b>satisfied</b></li><li>site.lease_boundary: <b>satisfied</b></li><li>options.optimisation_threshold: <b>satisfied</b></li></ul><ul><li>farm.electrical_economics_data: <b>unavailable_option</b></li><li>farm.moorings_foundations_economics_data: <b>unavailable_option</b></li><li>device.system_cost: <b>satisfied</b></li><li>farm.annual_energy: <b>unavailable_option</b></li><li>project.discount_rate: <b>satisfied</b></li><li>farm.number_of_devices: <b>unavailable_option</b></li></ul><ul><li>farm.hydro_measured_turbidity: <b>satisfied</b></li><li>farm.elec_measured_magnetic_field: <b>satisfied</b></li><li>farm.elec_footprint_weight: <b>optional</b></li><li>farm.elec_measured_noise: <b>satisfied</b></li><li>device.system_height: <b>satisfied</b></li><li>farm.substation_props: <b>unavailable_option</b></li><li>farm.initial_magnetic_field: <b>satisfied</b></li><li>farm.hydro_turbidity_risk_weight: <b>optional</b></li><li>farm.direction_of_max_surface_current: <b>satisfied</b></li><li>farm.elec_magnetic_field_weight: <b>optional</b></li><li>farm.moorings_dimensions: <b>unavailable_option</b></li><li>farm.hydro_reserve_effect_weight: <b>satisfied</b></li><li>farm.hydro_measured_noise: <b>satisfied</b></li><li>farm.moor_footprint_weight: <b>optional</b></li><li>farm.substation_layout: <b>unavailable_option</b></li><li>farm.moor_measured_noise: <b>satisfied</b></li><li>farm.layout: <b>unavailable</b></li><li>farm.protected_table: <b>satisfied</b></li><li>farm.fishery_restricted_area: <b>satisfied</b></li><li>farm.hydro_underwater_noise_risk_weight: <b>satisfied</b></li><li>farm.moor_reef_effect_weight: <b>optional</b></li><li>farm.resource_reduction: <b>unavailable</b></li><li>farm.elec_measured_elec_field: <b>satisfied</b></li><li>site.lease_boundary: <b>satisfied</b></li><li>farm.elec_elec_field_weight: <b>optional</b></li><li>farm.elec_collision_risk_weight: <b>optional</b></li><li>device.dry_frontal_area: <b>satisfied</b></li><li>farm.elec_reserve_effect_weight: <b>optional</b></li><li>farm.hydro_collision_risk_weight: <b>satisfied</b></li><li>farm.initial_noise: <b>satisfied</b></li><li>device.system_draft: <b>optional</b></li><li>farm.receptors_table: <b>satisfied</b></li><li>device.system_type: <b>satisfied</b></li><li>farm.elec_reef_effect_weight: <b>optional</b></li><li>farm.moor_underwater_noise_risk_weight: <b>optional</b></li><li>farm.initial_turbidity: <b>satisfied</b></li><li>farm.elec_measured_temperature: <b>satisfied</b></li><li>farm.hydro_reef_effect_weight: <b>satisfied</b></li><li>farm.initial_temperature: <b>satisfied</b></li><li>farm.hydro_resting_place_weight: <b>satisfied</b></li><li>bathymetry.layers: <b>satisfied</b></li><li>farm.number_of_devices: <b>unavailable_option</b></li><li>device.system_length: <b>satisfied</b></li><li>farm.hydro_energy_modif_weight: <b>satisfied</b></li><li>device.wet_frontal_area: <b>satisfied</b></li><li>device.system_width: <b>satisfied</b></li><li>farm.elec_resting_place_weight: <b>optional</b></li><li>farm.moor_collision_risk_weight: <b>optional</b></li><li>farm.initial_elec_field: <b>satisfied</b></li><li>farm.elec_underwater_noise_risk_weight: <b>optional</b></li><li>farm.elec_temp_modif_weight: <b>optional</b></li></ul>"
      ],
      "text/plain": [
       "<IPython.core.display.HTML object>"
      ]
     },
     "execution_count": 30,
     "metadata": {},
     "output_type": "execute_result"
    }
   ],
   "source": [
    "can_execute = module_menu.is_executable(new_core, new_project, 'Hydrodynamics')\n",
    "display(can_execute)\n",
    "\n",
    "can_execute = module_menu.is_executable(new_core, new_project, 'Electrical Sub Systems')\n",
    "display(can_execute)\n",
    "\n",
    "can_execute = module_menu.is_executable(new_core, new_project, 'Mooring and Foundations')\n",
    "display(can_execute)\n",
    "\n",
    "input_status = hydro_branch.get_input_status(new_core, new_project)\n",
    "message = html_dict(input_status)\n",
    "\n",
    "input_status = eco_branch.get_input_status(new_core, new_project)\n",
    "message += html_dict(input_status)\n",
    "HTML(message)\n",
    "\n",
    "input_status = env_branch.get_input_status(new_core, new_project)\n",
    "message += html_dict(input_status)\n",
    "HTML(message)"
   ]
  },
  {
   "cell_type": "markdown",
   "metadata": {},
   "source": [
    "## See what execution strategies are available\n",
    "\n",
    "First the strategy manager in required to collect the strategy plugins."
   ]
  },
  {
   "cell_type": "code",
   "execution_count": 31,
   "metadata": {
    "collapsed": false
   },
   "outputs": [],
   "source": [
    "strategy_manager = StrategyManager()"
   ]
  },
  {
   "cell_type": "code",
   "execution_count": 32,
   "metadata": {
    "collapsed": false
   },
   "outputs": [
    {
     "data": {
      "text/html": [
       "<ul><li>Unit Sensitivity</li><li>Basic</li></ul>"
      ],
      "text/plain": [
       "<IPython.core.display.HTML object>"
      ]
     },
     "execution_count": 32,
     "metadata": {},
     "output_type": "execute_result"
    }
   ],
   "source": [
    "strategy_list = strategy_manager.get_available_strategies()\n",
    "message = html_list(strategy_list)\n",
    "HTML(message)"
   ]
  },
  {
   "cell_type": "markdown",
   "metadata": {},
   "source": [
    "## Execute the Basic strategy\n",
    "\n",
    "The \"basic\" strategy simply exectutes the chosen modules in sequence "
   ]
  },
  {
   "cell_type": "code",
   "execution_count": 33,
   "metadata": {
    "collapsed": false
   },
   "outputs": [
    {
     "name": "stdout",
     "output_type": "stream",
     "text": [
      "2016-09-12 10:51:39,844 - INFO - aneris.control.simulation - Datastate with level \"hydrodynamics start\" stored\n",
      "No NOGO areas related to the machine depthinstallation constraints have been found.\n",
      "2016-09-12 10:51:40,053 - WARNING - dtocean_hydro.input - [Warning] The wave module cannot run with variable bathymetry\n",
      "The bathymetry is reduced to its average value.\n",
      "2016-09-12 10:51:40,053 - INFO - dtocean_hydro.input - The averge bathymetry value is -80.0 m\n",
      "2016-09-12 10:51:40,793 - INFO - dtocean_hydro.input - --> MACHINE INPUT SUMMARY:\n",
      "\n",
      "{   'Clen': None,\n",
      "    'Floatflag': False,\n",
      "    'InstalDepth': (-inf, 0.0),\n",
      "    'MaxNumDevices': 5,\n",
      "    'MinDist': (200.0, 200.0),\n",
      "    'OptThreshold': 0.9,\n",
      "    'RatedPowerArray': 1.5,\n",
      "    'RatedPowerDevice': 0.3,\n",
      "    'Type': 'Wave',\n",
      "    'UserArray': {   'Option': 1, 'Value': 'staggered'},\n",
      "    'UserOutputTable': None,\n",
      "    'YawAngle': 360.0,\n",
      "    'lCS': array([ 0.,  0.,  0.]),\n",
      "    'tidalFlag': False,\n",
      "    'tidal_bidirectional': None,\n",
      "    'tidal_cutinout': None,\n",
      "    'tidal_data_folder': None,\n",
      "    'tidal_power_curve': None,\n",
      "    'tidal_thrust_curve': None,\n",
      "    'tidal_velocity_curve': None,\n",
      "    'wave_data_folder': 'd:\\\\Users\\\\108386\\\\Desktop\\\\notebooks\\\\Meeting Edinburgh - renamed\\\\rm3'}\n",
      "2016-09-12 10:51:40,813 - INFO - dtocean_hydro.input - --> SITE INPUT SUMMARY:\n",
      "\n",
      "{   'BR': None,\n",
      "    'Bathymetry': array([[ 1000.,     0.,   -80.],\n",
      "       [ 1010.,     0.,   -80.],\n",
      "       [ 1020.,     0.,   -80.],\n",
      "       ..., \n",
      "       [ 1980.,  2500.,   -80.],\n",
      "       [ 1990.,  2500.,   -80.],\n",
      "       [ 2000.,  2500.,   -80.]]),\n",
      "    'Geophysics': array([[  1.00000000e+03,   0.00000000e+00,   3.00000000e-01],\n",
      "       [  1.01000000e+03,   0.00000000e+00,   3.00000000e-01],\n",
      "       [  1.02000000e+03,   0.00000000e+00,   3.00000000e-01],\n",
      "       ..., \n",
      "       [  1.98000000e+03,   2.50000000e+03,   3.00000000e-01],\n",
      "       [  1.99000000e+03,   2.50000000e+03,   3.00000000e-01],\n",
      "       [  2.00000000e+03,   2.50000000e+03,   3.00000000e-01]]),\n",
      "    'LeaseArea': array([[ 1200.,   200.],\n",
      "       [ 1200.,  2300.],\n",
      "       [ 1800.,  2300.],\n",
      "       [ 1800.,   200.],\n",
      "       [ 1200.,   200.]]),\n",
      "    'Main_Direction': array([ 0.80115264,  0.59846007]),\n",
      "    'MeteoceanConditions': {   'B': array([ 4.71238898,  3.69468613,  2.67698328,  1.65928043,  0.64157758,\n",
      "        5.90706004,  4.88935719,  3.87165434]),\n",
      "                               'Hs': array([  0.25,   0.75,   1.25,   1.75,   2.25,   2.75,   3.25,   3.75,\n",
      "         4.25,   4.75,   5.25,   5.75,   6.25,   6.75,   7.25,   7.75,\n",
      "         8.25,   8.75,   9.25,   9.75,  10.25,  10.75,  11.25,  11.75,\n",
      "        12.25,  12.75,  13.25,  13.75,  14.25,  14.75]),\n",
      "                               'SSH': 0.0,\n",
      "                               'Tp': array([  0.55278611,   1.65835834,   2.76393057,   3.8695028 ,\n",
      "         4.97507502,   6.08064725,   7.18621948,   8.29179171,\n",
      "         9.39736393,  10.50293616,  11.60850839,  12.71408062,\n",
      "        13.81965285,  14.92522507,  16.0307973 ,  17.13636953,\n",
      "        18.24194176,  19.34751398,  20.45308621,  21.55865844,\n",
      "        22.66423067,  23.76980289,  24.87537512]),\n",
      "                               'p': array([[[ 0.   ,  0.   ,  0.   , ...,  0.   ,  0.   ,  0.   ],\n",
      "        [ 0.001,  0.   ,  0.   , ...,  0.   ,  0.   ,  0.   ],\n",
      "        [ 0.   ,  0.   ,  0.   , ...,  0.   ,  0.001,  0.   ],\n",
      "        ..., \n",
      "        [ 0.   ,  0.   ,  0.   , ...,  0.   ,  0.   ,  0.   ],\n",
      "        [ 0.   ,  0.   ,  0.   , ...,  0.   ,  0.   ,  0.   ],\n",
      "        [ 0.   ,  0.   ,  0.   , ...,  0.   ,  0.   ,  0.   ]],\n",
      "\n",
      "       [[ 0.   ,  0.   ,  0.   , ...,  0.   ,  0.   ,  0.   ],\n",
      "        [ 0.   ,  0.   ,  0.   , ...,  0.   ,  0.   ,  0.   ],\n",
      "        [ 0.   ,  0.   ,  0.   , ...,  0.   ,  0.001,  0.   ],\n",
      "        ..., \n",
      "        [ 0.   ,  0.   ,  0.   , ...,  0.   ,  0.   ,  0.   ],\n",
      "        [ 0.   ,  0.   ,  0.   , ...,  0.   ,  0.   ,  0.   ],\n",
      "        [ 0.   ,  0.   ,  0.   , ...,  0.   ,  0.   ,  0.   ]],\n",
      "\n",
      "       [[ 0.   ,  0.   ,  0.   , ...,  0.   ,  0.   ,  0.   ],\n",
      "        [ 0.   ,  0.   ,  0.001, ...,  0.   ,  0.   ,  0.   ],\n",
      "        [ 0.   ,  0.   ,  0.001, ...,  0.   ,  0.001,  0.   ],\n",
      "        ..., \n",
      "        [ 0.   ,  0.   ,  0.   , ...,  0.   ,  0.   ,  0.   ],\n",
      "        [ 0.   ,  0.   ,  0.   , ...,  0.   ,  0.   ,  0.   ],\n",
      "        [ 0.   ,  0.   ,  0.   , ...,  0.   ,  0.   ,  0.   ]],\n",
      "\n",
      "       ..., \n",
      "       [[ 0.   ,  0.   ,  0.   , ...,  0.   ,  0.   ,  0.   ],\n",
      "        [ 0.   ,  0.   ,  0.   , ...,  0.   ,  0.   ,  0.   ],\n",
      "        [ 0.   ,  0.   ,  0.   , ...,  0.   ,  0.   ,  0.   ],\n",
      "        ..., \n",
      "        [ 0.   ,  0.   ,  0.   , ...,  0.   ,  0.   ,  0.   ],\n",
      "        [ 0.   ,  0.   ,  0.   , ...,  0.   ,  0.   ,  0.   ],\n",
      "        [ 0.   ,  0.   ,  0.   , ...,  0.   ,  0.   ,  0.   ]],\n",
      "\n",
      "       [[ 0.   ,  0.   ,  0.   , ...,  0.   ,  0.   ,  0.   ],\n",
      "        [ 0.   ,  0.   ,  0.   , ...,  0.   ,  0.   ,  0.   ],\n",
      "        [ 0.   ,  0.   ,  0.   , ...,  0.   ,  0.   ,  0.   ],\n",
      "        ..., \n",
      "        [ 0.   ,  0.   ,  0.   , ...,  0.   ,  0.   ,  0.   ],\n",
      "        [ 0.   ,  0.   ,  0.   , ...,  0.   ,  0.   ,  0.   ],\n",
      "        [ 0.   ,  0.   ,  0.   , ...,  0.   ,  0.   ,  0.   ]],\n",
      "\n",
      "       [[ 0.   ,  0.   ,  0.   , ...,  0.   ,  0.   ,  0.   ],\n",
      "        [ 0.   ,  0.   ,  0.   , ...,  0.   ,  0.   ,  0.   ],\n",
      "        [ 0.   ,  0.   ,  0.   , ...,  0.   ,  0.   ,  0.   ],\n",
      "        ..., \n",
      "        [ 0.   ,  0.   ,  0.   , ...,  0.   ,  0.   ,  0.   ],\n",
      "        [ 0.   ,  0.   ,  0.   , ...,  0.   ,  0.   ,  0.   ],\n",
      "        [ 0.   ,  0.   ,  0.   , ...,  0.   ,  0.   ,  0.   ]]]),\n",
      "                               'specType': ('Jonswap', 3.3, 0.0)},\n",
      "    'NogoAreas': None,\n",
      "    'NogoAreas_bathymetry': None,\n",
      "    'VelocityShear': None,\n",
      "    '_LeaseArea': array([[ 1000.,     0.],\n",
      "       [ 2000.,     0.],\n",
      "       [ 2000.,  2500.],\n",
      "       [ 1000.,  2500.],\n",
      "       [ 1000.,     0.]]),\n",
      "    '_average_water_depth': -80.0,\n",
      "    'boundary_padding': 200.0,\n",
      "    'electrical_connection_point': array([    0.,  1250.]),\n",
      "    'mainAngle': 0.64157758141311683}\n",
      "(3_w,6)-aCMA-ES (mu_w=2.0,w_1=63%) in dimension 2 (seed=698509, Mon Sep 12 10:51:41 2016)\n",
      "Array param:\n",
      "[ 1.80763727  7.14917439]\n",
      "Array param:\n",
      "[ 6.39128061  2.32251449]\n",
      "Array param:\n",
      "[ 6.07164181  3.228687  ]\n",
      "Array param:\n",
      "[ 2.63450522  9.61525161]\n",
      "Array param:\n",
      "[ 4.5906752   4.54818928]\n",
      "Array param:\n",
      "[ 3.68249185  0.50269326]\n",
      "Array param:\n",
      "[ 4.96410163  4.10361444]\n",
      "Array param:\n",
      "[ 4.50108534  4.35868427]\n",
      "Array param:\n",
      "[ 6.34758375  4.10187112]\n",
      "Array param:\n",
      "[ 3.13186863  3.00350317]\n",
      "Array param:\n",
      "[ 7.34323086  2.47522725]\n",
      "Array param:\n",
      "[ 6.12060071  5.61960505]\n",
      "Array param:\n",
      "[ 3.81430857  3.85660114]\n",
      "Array param:\n",
      "[ 4.68787952  1.43873329]\n",
      "Array param:\n",
      "[ 5.24792376  4.47959996]\n",
      "Array param:\n",
      "[ 4.82230477  5.69151214]\n",
      "Array param:\n",
      "[ 3.04904526  3.76936926]\n",
      "Array param:\n",
      "[ 7.42048019  2.61291502]\n",
      "Array param:\n",
      "[ 4.47290119  3.9090005 ]\n",
      "Array param:\n",
      "[ 7.57480618  2.81310227]\n",
      "Array param:\n",
      "[ 7.67814999  4.37664208]\n",
      "Array param:\n",
      "[ 7.8252905   3.13222244]\n",
      "Array param:\n",
      "[ 9.5230136   4.21060823]\n",
      "Array param:\n",
      "[ 7.41597136  3.50464119]\n",
      "Array param:\n",
      "[ 8.21780475  3.74159566]\n",
      "Array param:\n",
      "[ 8.06812396  6.38450521]\n",
      "Array param:\n",
      "[ 7.35696938  4.84223014]\n",
      "Array param:\n",
      "[ 9.35033998  5.44732071]\n",
      "Array param:\n",
      "[ 6.09395474  2.44372638]\n",
      "Array param:\n",
      "[ 7.77300748  5.22056389]\n",
      "Array param:\n",
      "[ 4.54385755  5.06547803]\n",
      "Array param:\n",
      "[ 5.79506821  2.08396446]\n",
      "Array param:\n",
      "[ 7.50465698  3.88248772]\n",
      "Array param:\n",
      "[ 6.00257991  3.67319122]\n",
      "Array param:\n",
      "[ 5.94428065  4.0695891 ]\n",
      "Array param:\n",
      "[ 8.02711325  3.02042347]\n",
      "Array param:\n",
      "[ 7.3198821   4.66767818]\n",
      "Array param:\n",
      "[ 7.64097014  2.91158142]\n",
      "Array param:\n",
      "[ 5.43861596  3.14724806]\n",
      "Array param:\n",
      "[ 7.90156058  4.08152084]\n",
      "Array param:\n",
      "[ 5.51510934  4.03746348]\n",
      "Array param:\n",
      "[ 6.54107066  2.3635496 ]\n",
      "Array param:\n",
      "[ 7.04154337  3.23908736]\n",
      "Array param:\n",
      "[ 7.43529923  3.46321332]\n",
      "Array param:\n",
      "[ 6.9199765   4.50785885]\n",
      "Array param:\n",
      "[ 6.6897588  4.2181611]\n",
      "Array param:\n",
      "[ 7.09870062  1.45440208]\n",
      "Array param:\n",
      "[ 6.62996304  3.67909833]\n",
      "Array param:\n",
      "[ 7.65890428  4.62718229]\n",
      "Array param:\n",
      "[ 8.37604819  4.36024757]\n",
      "Array param:\n",
      "[ 7.97031534  3.95591577]\n",
      "Array param:\n",
      "[ 7.47592678  3.41403764]\n",
      "Array param:\n",
      "[ 7.56163638  4.46749483]\n",
      "Array param:\n",
      "[ 7.31750817  4.94554125]\n",
      "Array param:\n",
      "[ 9.66381354  4.85560123]\n",
      "Array param:\n",
      "[ 9.39207543  3.64548624]\n",
      "Array param:\n",
      "[ 7.55572248  5.27382021]\n",
      "Array param:\n",
      "[ 8.01240501  6.05652135]\n",
      "Array param:\n",
      "[ 8.51117123  5.60344573]\n",
      "Array param:\n",
      "[ 8.06718131  3.81742361]\n",
      "Array param:\n",
      "[ 8.88191843  5.35319288]\n",
      "Array param:\n",
      "[ 8.10894435  4.07027188]\n",
      "Array param:\n",
      "[ 9.91296603  5.69665401]\n",
      "Array param:\n",
      "[ 8.41794843  3.37082651]\n",
      "Array param:\n",
      "[ 7.68649096  3.08232238]\n",
      "Array param:\n",
      "[ 9.7593342   3.76052342]\n",
      "Array param:\n",
      "[ 9.74397245  4.36330944]\n",
      "Array param:\n",
      "[ 9.38008587  5.98826361]\n",
      "Array param:\n",
      "[ 9.33354131  6.00811926]\n",
      "Array param:\n",
      "[ 9.66645018  8.61350586]\n",
      "Array param:\n",
      "[ 9.90809085  5.36893461]\n",
      "Array param:\n",
      "[ 9.99999621  3.3748098 ]\n",
      "Array param:\n",
      "[ 8.43747475  5.64221244]\n",
      "Array param:\n",
      "[ 8.56952155  5.36852857]\n",
      "Array param:\n",
      "[ 7.37242823  4.4785763 ]\n",
      "Array param:\n",
      "[ 7.34141327  6.76212162]\n",
      "Array param:\n",
      "[ 6.93867355  6.01548634]\n",
      "Array param:\n",
      "[ 9.99630713  5.9672933 ]\n",
      "Array param:\n",
      "[ 9.02575545  4.98219231]\n",
      "Array param:\n",
      "[ 8.35012957  6.50735059]\n",
      "Array param:\n",
      "[ 7.31667669  4.92381137]\n",
      "Array param:\n",
      "[ 7.004748    6.11435711]\n",
      "Array param:\n",
      "[ 7.47401961  5.95324067]\n",
      "Array param:\n",
      "[ 9.98789013  5.2254744 ]\n",
      "Array param:\n",
      "[ 7.93640771  5.60960226]\n",
      "Array param:\n",
      "[ 7.07678746  5.51324076]\n",
      "Array param:\n",
      "[ 9.85627284  5.86934778]\n",
      "Array param:\n",
      "[ 9.12805163  5.81062457]\n",
      "Array param:\n",
      "[ 6.23041571  6.99173217]\n",
      "Array param:\n",
      "[ 6.16654065  6.72604378]\n",
      "Array param:\n",
      "[ 7.18975316  7.52402674]\n",
      "Array param:\n",
      "[ 9.13110749  5.86533391]\n",
      "Array param:\n",
      "[ 9.97996186  4.83157747]\n",
      "Array param:\n",
      "[ 4.81255274  7.27106712]\n",
      "Array param:\n",
      "[ 8.69625675  6.5481249 ]\n",
      "Array param:\n",
      "[ 9.00230884  5.45448741]\n",
      "Array param:\n",
      "[ 6.6180092   7.44225879]\n",
      "Array param:\n",
      "[ 5.08805973  5.03316767]\n",
      "Array param:\n",
      "[ 9.32994911  4.86227237]\n",
      "Array param:\n",
      "[ 2.29144536  8.63462024]\n",
      "Array param:\n",
      "[ 7.5298705   7.83685417]\n",
      "Array param:\n",
      "[ 6.35616785  7.06550408]\n",
      "Array param:\n",
      "[ 6.94550142  4.99937702]\n",
      "Array param:\n",
      "[ 6.95335591  5.79794854]\n",
      "Array param:\n",
      "[ 3.23235753  7.54981272]\n",
      "Array param:\n",
      "[ 0.99343205  9.07096963]\n",
      "Array param:\n",
      "[ 1.57539296  9.4975033 ]\n",
      "Array param:\n",
      "[ 7.55144463  5.07278719]\n",
      "Array param:\n",
      "[ 1.70464186  7.3755453 ]\n",
      "Array param:\n",
      "[ 6.96663065  6.64486248]\n",
      "Array param:\n",
      "[ 9.27798022  6.0990935 ]\n",
      "Array param:\n",
      "[ 7.52883942  4.17300042]\n",
      "Array param:\n",
      "[ 9.73087131  4.65006288]\n",
      "Array param:\n",
      "[ 7.8034687   4.78504071]\n",
      "Array param:\n",
      "[ 3.57086459  7.83349598]\n",
      "Array param:\n",
      "[ 7.09317067  6.85187051]\n",
      "Array param:\n",
      "[ 5.56933826  6.66214468]\n",
      "Array param:\n",
      "[ 5.10274445  7.19639952]\n",
      "Array param:\n",
      "[ 8.05836813  8.22804389]\n",
      "Array param:\n",
      "[ 9.63186886  5.291053  ]\n",
      "Array param:\n",
      "[ 3.5748496   8.07046666]\n",
      "Array param:\n",
      "[ 5.82023578  6.61936426]\n",
      "Array param:\n",
      "[ 5.21798918  7.29643733]\n",
      "Array param:\n",
      "[ 4.14839962  8.36991555]\n",
      "Array param:\n",
      "[ 5.74302268  6.76727613]\n",
      "Array param:\n",
      "[ 5.30728885  5.70520554]\n",
      "Array param:\n",
      "[ 3.05685503  8.80436502]\n",
      "Array param:\n",
      "[ 4.38099752  9.91485734]\n",
      "Array param:\n",
      "[ 5.94767272  7.25656473]\n",
      "Array param:\n",
      "[ 2.83234728  9.93886065]\n",
      "Array param:\n",
      "[ 3.1335452   9.98799706]\n",
      "Array param:\n",
      "[ 1.19354454  8.91481709]\n",
      "Array param:\n",
      "[ 6.45271474  7.46679845]\n",
      "Array param:\n",
      "[ 2.1567928   8.30919391]\n",
      "Array param:\n",
      "[ 3.84885317  8.28998337]\n",
      "Array param:\n",
      "[ 3.84585858  7.73040619]\n",
      "Array param:\n",
      "[ 4.53947475  8.71494635]\n",
      "Array param:\n",
      "[ 4.2442634  7.6368125]\n",
      "Array param:\n",
      "[ 5.77512919  7.49298943]\n",
      "Array param:\n",
      "[ 5.5599821   7.70789961]\n",
      "Array param:\n",
      "[ 3.77844815  7.82350525]\n",
      "Array param:\n",
      "[ 4.56782347  8.23728203]\n",
      "Array param:\n",
      "[ 4.81931354  8.90251262]\n",
      "Array param:\n",
      "[ 4.46694883  8.21015922]\n",
      "Array param:\n",
      "[ 4.09994723  9.40450039]\n",
      "Array param:\n",
      "[ 4.39013598  7.39742355]\n",
      "Array param:\n",
      "[ 6.5184792   7.15594655]\n",
      "Array param:\n",
      "[ 7.58203166  6.78956506]\n",
      "Array param:\n",
      "[ 6.28694763  8.97768497]\n",
      "Array param:\n",
      "[ 4.70007789  7.47247387]\n",
      "Array param:\n",
      "[ 4.29399172  5.54328858]\n",
      "Array param:\n",
      "[ 5.63152571  7.74358449]\n",
      "Array param:\n",
      "[ 3.01943353  8.59304435]\n",
      "Array param:\n",
      "[ 3.77871681  7.61564075]\n",
      "Array param:\n",
      "[ 3.63074654  7.6515757 ]\n",
      "Array param:\n",
      "[ 2.48162666  8.45687581]\n",
      "Array param:\n",
      "[ 4.63595766  5.74759158]\n",
      "Array param:\n",
      "[ 4.84950314  5.41710499]\n",
      "Array param:\n",
      "[ 4.88872952  7.45895283]\n",
      "Array param:\n",
      "[ 3.61894588  8.16549741]\n",
      "Array param:\n",
      "[ 2.5089292   6.82952928]\n",
      "Array param:\n",
      "[ 3.7833843   6.70498907]\n",
      "Array param:\n",
      "[ 3.78883967  6.77275794]\n",
      "Array param:\n",
      "[ 6.86770571  6.04985238]\n",
      "Array param:\n",
      "[ 4.03728176  5.97644792]\n",
      "Array param:\n",
      "[ 3.4528877  7.8928097]\n",
      "Array param:\n",
      "[ 5.48553075  7.45180806]\n",
      "Array param:\n",
      "[ 3.41890343  7.45529083]\n",
      "Array param:\n",
      "[ 5.99491896  5.68015527]\n",
      "Array param:\n",
      "[ 3.37195893  6.6755668 ]\n",
      "Array param:\n",
      "[ 5.63536314  5.85582441]\n",
      "Array param:\n",
      "[ 7.37802047  5.20413482]\n",
      "Array param:\n",
      "[ 5.11310623  5.65261321]\n",
      "Array param:\n",
      "[ 5.23672797  4.48354725]\n",
      "Array param:\n",
      "[ 3.71521834  5.24141444]\n",
      "Array param:\n",
      "[ 2.99980155  7.53680675]\n",
      "Array param:\n",
      "[ 2.78466873  6.40866903]\n",
      "Array param:\n",
      "[ 4.69218198  6.51818496]\n",
      "Array param:\n",
      "[ 4.97684565  5.49368799]\n",
      "Array param:\n",
      "[ 2.93315349  6.03448012]\n",
      "Array param:\n",
      "[ 4.14443995  5.94088361]\n",
      "Array param:\n",
      "[ 3.4032844  6.4895772]\n",
      "Array param:\n",
      "[ 4.64682184  6.65893905]\n",
      "Array param:\n",
      "[ 4.7112603   5.20703133]\n",
      "Array param:\n",
      "[ 4.02594703  5.76718168]\n",
      "Array param:\n",
      "[ 5.74681096  5.14435552]\n",
      "Array param:\n",
      "[ 4.47622137  6.63104845]\n",
      "Array param:\n",
      "[ 4.66671588  5.84468751]\n",
      "Array param:\n",
      "[ 5.11723674  5.41681623]\n",
      "Array param:\n",
      "[ 3.5565787   6.32698594]\n",
      "Array param:\n",
      "[ 5.21661383  5.85666661]\n",
      "Array param:\n",
      "[ 4.08815707  6.16181493]\n",
      "Array param:\n",
      "[ 3.55449294  8.16162673]\n",
      "Array param:\n",
      "[ 4.1858365   5.92944138]\n",
      "Array param:\n",
      "[ 4.61454214  6.4423918 ]\n",
      "Array param:\n",
      "[ 3.67449439  5.88228359]\n",
      "Array param:\n",
      "[ 3.67079393  6.50378416]\n",
      "Array param:\n",
      "[ 4.11803368  6.04337144]\n",
      "Array param:\n",
      "[ 4.32184169  5.97156347]\n",
      "Array param:\n",
      "[ 5.0811261   5.64450901]\n",
      "Array param:\n",
      "[ 4.33112723  7.49647077]\n",
      "Array param:\n",
      "[ 4.54897487  6.2072031 ]\n",
      "Array param:\n",
      "[ 4.89734665  5.90631749]\n",
      "Array param:\n",
      "[ 3.3925345  5.7692227]\n",
      "Array param:\n",
      "[ 4.37974328  6.10926807]\n",
      "Array param:\n",
      "[ 3.91565218  6.30246467]\n",
      "Array param:\n",
      "[ 4.4428275   5.54911173]\n",
      "Array param:\n",
      "[ 4.35655955  6.7049308 ]\n",
      "Array param:\n",
      "[ 4.40184106  5.96097566]\n",
      "Array param:\n",
      "[ 5.09708198  6.02809678]\n",
      "Array param:\n",
      "[ 4.51666659  5.77438954]\n",
      "Array param:\n",
      "[ 4.03570808  6.29820462]\n",
      "Array param:\n",
      "[ 4.60782455  6.13662586]\n",
      "Array param:\n",
      "[ 4.49196344  5.94907792]\n",
      "Array param:\n",
      "[ 4.80567525  5.82522745]\n",
      "Array param:\n",
      "[ 4.87726348  5.9015513 ]\n",
      "Array param:\n",
      "[ 4.09154056  6.25342679]\n",
      "Array param:\n",
      "[ 4.73723274  5.7660842 ]\n",
      "Array param:\n",
      "[ 5.11820414  5.8849584 ]\n",
      "Array param:\n",
      "[ 4.68821386  5.68648524]\n",
      "Array param:\n",
      "[ 4.56071624  6.32239536]\n",
      "Array param:\n",
      "[ 4.78481064  5.9089613 ]\n",
      "Array param:\n",
      "[ 4.09395434  6.14635274]\n",
      "Array param:\n",
      "[ 4.568234    6.10943608]\n",
      "Array param:\n",
      "[ 4.12979634  6.18494701]\n",
      "Array param:\n",
      "[ 4.47021333  5.82709384]\n",
      "Array param:\n",
      "[ 4.26448776  6.10723245]\n",
      "Array param:\n",
      "[ 4.42976291  6.18308241]\n",
      "Array param:\n",
      "[ 4.38375313  5.98943261]\n",
      "Array param:\n",
      "[ 4.07970858  6.27236435]\n",
      "Array param:\n",
      "[ 4.49452164  5.95998052]\n",
      "Array param:\n",
      "[ 4.51687197  6.2750522 ]\n",
      "Array param:\n",
      "[ 4.15258307  5.9139362 ]\n",
      "Array param:\n",
      "[ 4.8022298   5.94121454]\n",
      "Array param:\n",
      "[ 3.47337633  6.32895695]\n",
      "Array param:\n",
      "[ 4.07789697  6.2014733 ]\n",
      "Array param:\n",
      "[ 4.08669838  6.13975739]\n",
      "Array param:\n",
      "[ 4.16982036  6.28562391]\n",
      "Array param:\n",
      "[ 4.00134504  6.35960204]\n",
      "Array param:\n",
      "[ 4.45659758  6.45340151]\n",
      "Array param:\n",
      "[ 3.9721848  6.1360698]\n",
      "Array param:\n",
      "[ 3.7348821   6.18570485]\n",
      "Array param:\n",
      "[ 4.20650613  5.90219602]\n",
      "Array param:\n",
      "[ 4.08080138  6.31094481]\n",
      "Array param:\n",
      "[ 4.26922854  6.16672287]\n",
      "Array param:\n",
      "[ 3.93897567  6.23637375]\n",
      "Array param:\n",
      "[ 3.67111742  6.18297698]\n",
      "Array param:\n",
      "[ 3.85784505  6.27605795]\n",
      "Array param:\n",
      "[ 3.77312953  6.28524209]\n",
      "Array param:\n",
      "[ 3.90676309  6.37710142]\n",
      "Array param:\n",
      "[ 3.57314106  6.15821691]\n",
      "Array param:\n",
      "[ 3.38213806  6.44689683]\n",
      "Array param:\n",
      "[ 3.64614136  6.48494395]\n",
      "Array param:\n",
      "[ 3.72424828  6.32844742]\n",
      "Array param:\n",
      "[ 3.90655993  6.32400478]\n",
      "Array param:\n",
      "[ 3.75382653  6.17445467]\n",
      "Array param:\n",
      "[ 3.38597383  6.38167465]\n",
      "Array param:\n",
      "[ 3.50285464  6.35595801]\n",
      "Array param:\n",
      "[ 3.2416625   6.39688604]\n",
      "Array param:\n",
      "[ 4.4095611   6.11384186]\n",
      "Array param:\n",
      "[ 3.43559013  6.30883624]\n",
      "Array param:\n",
      "[ 3.08664674  6.54544024]\n",
      "Array param:\n",
      "[ 3.84900685  6.14644176]\n",
      "Array param:\n",
      "[ 4.13312529  6.21760794]\n",
      "Array param:\n",
      "[ 3.58640082  6.35769702]\n",
      "Array param:\n",
      "[ 3.1223127   6.33035658]\n",
      "Array param:\n",
      "[ 3.23601899  6.35886591]\n",
      "Array param:\n",
      "[ 3.16077061  6.35049581]\n",
      "Array param:\n",
      "[ 3.55139511  6.26372081]\n",
      "Array param:\n",
      "[ 3.39244043  6.31239279]\n",
      "Array param:\n",
      "[ 3.42894775  6.36702059]\n",
      "Array param:\n",
      "[ 3.37267509  6.50811737]\n",
      "Array param:\n",
      "[ 3.47418344  6.24862676]\n",
      "Array param:\n",
      "[ 3.64127037  6.30569101]\n",
      "Array param:\n",
      "[ 3.59548863  6.37106266]\n",
      "Array param:\n",
      "[ 3.32890983  6.40652424]\n",
      "Array param:\n",
      "[ 3.50774006  6.22737373]\n",
      "Array param:\n",
      "[ 3.43022537  6.39444464]\n",
      "Array param:\n",
      "[ 3.34245018  6.22389346]\n",
      "Array param:\n",
      "[ 3.55762875  6.18934701]\n",
      "Array param:\n",
      "[ 3.44953708  6.23514263]\n",
      "Array param:\n",
      "[ 3.58761732  6.29798195]\n",
      "Array param:\n",
      "[ 3.39131144  6.19559106]\n",
      "Array param:\n",
      "[ 3.64398357  6.21859766]\n",
      "Array param:\n",
      "[ 3.27590691  6.33593388]\n",
      "Array param:\n",
      "[ 3.36623878  6.19936861]\n",
      "Array param:\n",
      "[ 2.98824059  6.3907217 ]\n",
      "Array param:\n",
      "[ 3.3772106   6.34024956]\n",
      "Array param:\n",
      "[ 3.37860587  6.29968873]\n",
      "Array param:\n",
      "[ 3.18360351  6.258721  ]\n",
      "Array param:\n",
      "[ 3.36716081  6.39626091]\n",
      "Array param:\n",
      "[ 3.5127474   6.15847834]\n",
      "Array param:\n",
      "[ 3.51045316  6.25192638]\n",
      "Array param:\n",
      "[ 3.1423542   6.39662708]\n",
      "Array param:\n",
      "[ 3.46940366  6.28046489]\n",
      "Array param:\n",
      "[ 3.48137445  6.2561968 ]\n",
      "Array param:\n",
      "[ 3.36625299  6.32732135]\n",
      "Array param:\n",
      "[ 3.41981029  6.30923833]\n",
      "Array param:\n",
      "[ 3.5039428   6.30045554]\n",
      "Array param:\n",
      "[ 3.51566507  6.20156518]\n",
      "2016-09-12 11:38:20,783 - INFO - dtocean_hydro.utils.optimiser - \n",
      "Optimal configuration parameters:\n",
      "2016-09-12 11:38:20,793 - INFO - dtocean_hydro.utils.optimiser - Inter-column distance: 901.548012976\n",
      "2016-09-12 11:38:20,793 - INFO - dtocean_hydro.utils.optimiser - Inter-row distance: 901.548012976\n",
      "2016-09-12 11:38:20,793 - INFO - dtocean_hydro.utils.optimiser - Column angle: 0.978193577853\n",
      "2016-09-12 11:38:20,793 - INFO - dtocean_hydro.utils.optimiser - Row angle: -0.978193577853\n",
      "2016-09-12 11:38:20,793 - INFO - dtocean_hydro.utils.optimiser - Ending the optimisation loop.....\n",
      "2016-09-12 11:38:20,793 - INFO - dtocean_hydro.utils.optimiser - Re-generating the best array layout\n",
      "2016-09-12 11:38:20,793 - INFO - dtocean_hydro.main - Finishing the WP2 task: Evaluation of the final array layout interaction\n",
      "2016-09-12 11:38:20,803 - WARNING - dtocean_hydro.main - ('The given BEM solution for the isolated device is calculated at a water depth of 50.0m ', 'while the average bathymetry of the lease area minus the input nogo-zones is 80.0m\\n', 'and the average installation depth of the different machines with the given array layout is 80.0m.\\n ', 'The BEM software should be run with a water depth close to the average water depth of ', 'the lease area to minimise the errors itroduced with the flat bathymetry approximation.\\n ', 'With the actual hydrodynamic model the accuracy of the results is reduced. \\n', 'Consider to re-evaluate the hydrodynamic model of the isolated device for the actual average bathymetry [80.0m]\\n', 'This value is calculated by averaging the bathymetry gridpoints that satify the following three conditions:\\n', '\\t --> point inside the lease area\\n', '\\t --> point outside the user-given nogo-zones\\n', '\\t --> point below the considered water level datum.')\n",
      "2016-09-12 11:38:30,473 - INFO - dtocean_hydro.output - \n",
      "\n",
      "2016-09-12 11:38:30,473 - INFO - dtocean_hydro.output - Results Summary\n",
      "2016-09-12 11:38:30,473 - INFO - dtocean_hydro.output - -----------------------------------\n",
      "\n",
      "2016-09-12 11:38:30,473 - INFO - dtocean_hydro.output - Annual Energy Production of the Array\n",
      "2016-09-12 11:38:30,473 - INFO - dtocean_hydro.output - 8624918301.38\n",
      "2016-09-12 11:38:30,473 - INFO - dtocean_hydro.output - Annual Energy Production of each device\n",
      "2016-09-12 11:38:30,473 - INFO - dtocean_hydro.output - Device listed with ascending ID from 0 to Nbody-1\n",
      "2016-09-12 11:38:30,473 - INFO - dtocean_hydro.output - [  4.21842643e+09   4.40649187e+09]\n",
      "2016-09-12 11:38:30,473 - INFO - dtocean_hydro.output - Array Layout\n",
      "2016-09-12 11:38:30,483 - INFO - dtocean_hydro.output - {'Device001': [1440.0, 1040.0],\n",
      " 'Device002': [1395.8644854621537, 1940.4670321881115]}\n",
      "2016-09-12 11:38:30,483 - INFO - dtocean_hydro.output - q-factor of the array\n",
      "2016-09-12 11:38:30,483 - INFO - dtocean_hydro.output - 0.826817396685\n",
      "2016-09-12 11:38:30,483 - INFO - dtocean_hydro.output - q-factor of each device\n",
      "2016-09-12 11:38:30,483 - INFO - dtocean_hydro.output - Device listed with ascending ID from 0 to Nbody-1\n",
      "2016-09-12 11:38:30,483 - INFO - dtocean_hydro.output - [ 0.80878873  0.84484606]\n",
      "2016-09-12 11:38:30,483 - INFO - dtocean_hydro.output - Max (normalised) resource reduction\n",
      "2016-09-12 11:38:30,483 - INFO - dtocean_hydro.output - 0.0304333311839\n",
      "2016-09-12 11:38:30,483 - INFO - dtocean_hydro.output - Mean power production of each device for each sea state\n",
      "2016-09-12 11:38:30,483 - INFO - dtocean_hydro.output - Device listed with ascending ID from 0 to Nbody-1\n",
      "2016-09-12 11:38:30,483 - INFO - dtocean_hydro.output - For an array of WECs the sea state are flattened in this order wave period, wave height and wave direction\n",
      "2016-09-12 11:38:30,483 - INFO - dtocean_hydro.output - [[ 0.  0.  0. ...,  0.  0.  0.]\n",
      " [ 0.  0.  0. ...,  0.  0.  0.]]\n",
      "2016-09-12 11:38:30,493 - INFO - dtocean_hydro.output - f_ex dictionary\n",
      "2016-09-12 11:38:30,493 - INFO - dtocean_hydro.output - {'fex': [[[(-34.36511215999986-139335.57907771j)],\n",
      "          [(-193.35160737000075-240988.07786798j)],\n",
      "          [(-586.1280407199993-339762.73605911003j)],\n",
      "          [(-1349.9549026300035-434196.17002574995j)],\n",
      "          [(-2679.68609572-522763.89997364j)],\n",
      "          [(-4771.771237650001-605202.7051050499j)],\n",
      "          [(-7986.554280680003-678879.18675757j)],\n",
      "          [(-12341.380943670003-745276.1379560699j)],\n",
      "          [(-17107.579211739994-797738.79974357j)],\n",
      "          [(-20746.475833380002-837199.2247012798j)],\n",
      "          [(-22286.299864280005-863399.1372878001j)],\n",
      "          [(-14389.785018610011-861540.50087256j)],\n",
      "          [(-209.18164573000476-851742.74953517j)],\n",
      "          [(31050.068472779985-816563.33423118j)],\n",
      "          [(67116.11353377998-779852.16058653j)],\n",
      "          [(-2303583.6696354807-1711354.054292102j)],\n",
      "          [(153547.92736553997-646027.6644665399j)],\n",
      "          [(249558.76334855-651983.03810628j)],\n",
      "          [(343718.21183490986-602924.8115130999j)],\n",
      "          [(430135.4486264799-494667.00941678j)],\n",
      "          [(398761.73020324-358229.76405038j)],\n",
      "          [(427702.26306569-253089.82957758996j)],\n",
      "          [(445639.65623503993-138972.40123752j)],\n",
      "          [(417805.38723245997-40943.06023865002j)],\n",
      "          [(377725.20775733003+51263.08112432999j)],\n",
      "          [(333469.08438038005+146015.69696436994j)],\n",
      "          [(241971.13013315+200741.52695327994j)],\n",
      "          [(170301.45978521+243605.20773089j)],\n",
      "          [(81794.46749649002+253716.43452992j)],\n",
      "          [(-8116.840488419979+274433.22874086996j)],\n",
      "          [(-97189.27601132997+215509.18452241j)],\n",
      "          [(-157639.59756824997+182854.33198452j)],\n",
      "          [(-236267.49183402993+151126.861256j)],\n",
      "          [(-212412.70144064995+32060.298198470024j)],\n",
      "          [(-276399.14389537007-48924.40214046998j)],\n",
      "          [(-214258.70857136-128164.44162507994j)],\n",
      "          [(-146541.50525537974-285775.41906042973j)],\n",
      "          [(-68007.45500835004-173028.8680097701j)],\n",
      "          [(-266345.8444514694-329617.31202698953j)],\n",
      "          [(57662.63107782004-217700.64139241006j)]],\n",
      "         [[(382.91911470000036+1535947.73631168j)],\n",
      "          [(2118.3496476999985+2605298.6697597504j)],\n",
      "          [(6274.546772259998+3551606.24210066j)],\n",
      "          [(13842.02576623+4319408.3602707j)],\n",
      "          [(25732.196453149998+4846891.449470419j)],\n",
      "          [(42002.61410739999+5079686.394987129j)],\n",
      "          [(60873.405945899976+4964344.528574539j)],\n",
      "          [(77515.61737667+4494941.8040916305j)],\n",
      "          [(83710.44268783+3714064.66923346j)],\n",
      "          [(72768.91251789998+2720121.40952387j)],\n",
      "          [(47037.647062949996+1630586.3862904801j)],\n",
      "          [(19271.699890689986+593046.0066677302j)],\n",
      "          [(574.0367943399707-342966.09477898997j)],\n",
      "          [(54545.84339811998-1047370.6054906j)],\n",
      "          [(135488.96773287997-1587425.0649252904j)],\n",
      "          [(-5383938.797043972-3509455.0667204726j)],\n",
      "          [(517059.80505433-1968778.1661099298j)],\n",
      "          [(754050.40550899-2111941.6488378104j)],\n",
      "          [(1145924.37566345-2020051.7229560402j)],\n",
      "          [(1419721.5928283401-1734429.55893491j)],\n",
      "          [(1472796.8918545397-1310636.46564413j)],\n",
      "          [(1673947.5675357198-930697.1196200999j)],\n",
      "          [(1704300.79297653-515735.19904122j)],\n",
      "          [(1563254.4967921-113098.35413462002j)],\n",
      "          [(1500612.42395059+264574.29003193j)],\n",
      "          [(1283543.9016191298+575118.5136747699j)],\n",
      "          [(949525.9091656699+798972.9192813899j)],\n",
      "          [(621011.1354084199+883382.5972963299j)],\n",
      "          [(314805.8664375+937142.41157115j)],\n",
      "          [(55314.95217423+865281.9194961301j)],\n",
      "          [(-180374.61743071+740551.77263783j)],\n",
      "          [(-335785.47735213+513111.26076649997j)],\n",
      "          [(-387403.49624867+252928.43278811997j)],\n",
      "          [(-553482.02563659+160032.66319277j)],\n",
      "          [(-547793.6577032099-57139.49991865999j)],\n",
      "          [(-344708.68765906-221501.07864271995j)],\n",
      "          [(-224892.6046696799-485079.6239121197j)],\n",
      "          [(-101169.26134840006-150270.1546114201j)],\n",
      "          [(-324213.2709186994-170780.14486838965j)],\n",
      "          [(-113558.62132264997+132073.18036171002j)]],\n",
      "         [[(2559702.5522582997+8867.790598429994j)],\n",
      "          [(2513754.4815120497+22852.990366179984j)],\n",
      "          [(2446277.46088703+44412.54407202998j)],\n",
      "          [(2357929.38938378+74884.68679841j)],\n",
      "          [(2249344.83162427+115823.39324434997j)],\n",
      "          [(2121017.70899842+170034.99391850995j)],\n",
      "          [(1977573.87103705+241474.26805184j)],\n",
      "          [(1820288.5293080797+328772.93977498997j)],\n",
      "          [(1653728.76858108+417646.43370510003j)],\n",
      "          [(1482264.2667991+508668.04791773j)],\n",
      "          [(1309631.2880360398+604247.53819035j)],\n",
      "          [(1113079.7102751702+660812.4864537899j)],\n",
      "          [(942059.7669131501+724911.5380238699j)],\n",
      "          [(736605.90904501+747857.30117975j)],\n",
      "          [(573065.6532361999+772695.5507788801j)],\n",
      "          [(5996885.008063241+2352585.473991292j)],\n",
      "          [(266516.1715385599+688562.7913224599j)],\n",
      "          [(47880.09078149001+804484.94326335j)],\n",
      "          [(-170300.0069112799+809543.0097384j)],\n",
      "          [(-350040.18982420984+669738.9353656501j)],\n",
      "          [(-290705.3837117301+473584.32326259j)],\n",
      "          [(-364656.68748660997+353735.51514403j)],\n",
      "          [(-414326.37331781996+214651.80859828007j)],\n",
      "          [(-375952.7770541599+106939.05020782004j)],\n",
      "          [(-347441.87017591996+10446.363941650026j)],\n",
      "          [(-318823.05224691-95746.46791147994j)],\n",
      "          [(-205359.50744756998-133920.46953860993j)],\n",
      "          [(-143352.72658974-160330.47806336998j)],\n",
      "          [(-70737.78400788-150726.14729485998j)],\n",
      "          [(-13711.635489050026-165273.37915033993j)],\n",
      "          [(43724.55803165996-96967.34720392995j)],\n",
      "          [(61844.47706185996-52523.11302250999j)],\n",
      "          [(38981.77922460997-18553.50069660002j)],\n",
      "          [(247433.63322335994-47396.927182020045j)],\n",
      "          [(300509.64215292997+50141.17973145995j)],\n",
      "          [(221860.87967965993+151275.54056746984j)],\n",
      "          [(196607.76658768958+383177.4349592095j)],\n",
      "          [(31504.68724201009+85247.91865514021j)],\n",
      "          [(690352.7250070288+624400.3866977587j)],\n",
      "          [(-102932.44879032012+325653.2968475202j)]]],\n",
      " 'mode_def': [1, 1, 1],\n",
      " 'wave_dir': (3.871654339363944,),\n",
      " 'wave_fr': array([ 0.01591549,  0.02775009,  0.03958469,  0.05141929,  0.06325389,\n",
      "        0.07508849,  0.08692308,  0.09875768,  0.11059228,  0.12242688,\n",
      "        0.13426148,  0.14609608,  0.15793067,  0.16976527,  0.18159987,\n",
      "        0.19343447,  0.20526907,  0.21710367,  0.22893826,  0.24077286,\n",
      "        0.25260746,  0.26444206,  0.27627666,  0.28811126,  0.29994585,\n",
      "        0.31178045,  0.32361505,  0.33544965,  0.34728425,  0.35911885,\n",
      "        0.37095344,  0.38278804,  0.39462264,  0.40645724,  0.41829184,\n",
      "        0.43012644,  0.44196103,  0.45379563,  0.46563023,  0.47746483])}\n",
      "2016-09-12 11:38:30,493 - INFO - dtocean_hydro.output - Power matrix\n",
      "2016-09-12 11:38:30,493 - INFO - dtocean_hydro.output - [[[  7.39084187e-04]\n",
      "  [  2.05301163e-03]\n",
      "  [  4.02390279e-03]\n",
      "  [  6.65175768e-03]\n",
      "  [  9.93657629e-03]\n",
      "  [  1.38783586e-02]\n",
      "  [  1.84771047e-02]\n",
      "  [  2.37328144e-02]\n",
      "  [  2.96454879e-02]\n",
      "  [  3.62151251e-02]\n",
      "  [  4.34417261e-02]\n",
      "  [  5.13252907e-02]\n",
      "  [  5.98658191e-02]\n",
      "  [  6.90633112e-02]\n",
      "  [  7.89177670e-02]\n",
      "  [  8.94291866e-02]\n",
      "  [  1.00597570e-01]]\n",
      "\n",
      " [[  8.44439405e+01]\n",
      "  [  2.34566501e+02]\n",
      "  [  4.59750342e+02]\n",
      "  [  7.59995464e+02]\n",
      "  [  1.13530187e+03]\n",
      "  [  1.58566955e+03]\n",
      "  [  2.11109851e+03]\n",
      "  [  2.71158875e+03]\n",
      "  [  3.38714028e+03]\n",
      "  [  4.13775308e+03]\n",
      "  [  4.96342717e+03]\n",
      "  [  5.86416253e+03]\n",
      "  [  6.83995918e+03]\n",
      "  [  7.89081710e+03]\n",
      "  [  9.01673631e+03]\n",
      "  [  1.02177168e+04]\n",
      "  [  1.14937586e+04]]\n",
      "\n",
      " [[  1.89767626e+03]\n",
      "  [  5.27132294e+03]\n",
      "  [  1.03317930e+04]\n",
      "  [  1.70790863e+04]\n",
      "  [  2.55132030e+04]\n",
      "  [  3.56341431e+04]\n",
      "  [  4.74419065e+04]\n",
      "  [  6.09364932e+04]\n",
      "  [  7.61179033e+04]\n",
      "  [  9.29861367e+04]\n",
      "  [  1.11541193e+05]\n",
      "  [  1.31783074e+05]\n",
      "  [  1.53711777e+05]\n",
      "  [  1.77327304e+05]\n",
      "  [  2.02629654e+05]\n",
      "  [  2.29618827e+05]\n",
      "  [  2.58294824e+05]]\n",
      "\n",
      " [[  9.89998235e+03]\n",
      "  [  2.74999510e+04]\n",
      "  [  5.38999039e+04]\n",
      "  [  8.90998411e+04]\n",
      "  [  1.33099763e+05]\n",
      "  [  1.85899669e+05]\n",
      "  [  2.47499559e+05]\n",
      "  [  3.17899433e+05]\n",
      "  [  3.97099292e+05]\n",
      "  [  4.85099135e+05]\n",
      "  [  5.81898962e+05]\n",
      "  [  6.87498774e+05]\n",
      "  [  8.01898570e+05]\n",
      "  [  9.25098350e+05]\n",
      "  [  1.05709812e+06]\n",
      "  [  1.19789786e+06]\n",
      "  [  1.34749760e+06]]\n",
      "\n",
      " [[  1.52258972e+04]\n",
      "  [  4.22941588e+04]\n",
      "  [  8.28965513e+04]\n",
      "  [  1.37033075e+05]\n",
      "  [  2.04703729e+05]\n",
      "  [  2.85908514e+05]\n",
      "  [  3.80647429e+05]\n",
      "  [  4.88920476e+05]\n",
      "  [  6.10727653e+05]\n",
      "  [  7.46068962e+05]\n",
      "  [  8.94944401e+05]\n",
      "  [  1.05735397e+06]\n",
      "  [  1.23329767e+06]\n",
      "  [  1.42277550e+06]\n",
      "  [  1.62578746e+06]\n",
      "  [  1.84233356e+06]\n",
      "  [  2.07241378e+06]]\n",
      "\n",
      " [[  1.71227021e+04]\n",
      "  [  4.75630614e+04]\n",
      "  [  9.32236003e+04]\n",
      "  [  1.54104319e+05]\n",
      "  [  2.30205217e+05]\n",
      "  [  3.21526295e+05]\n",
      "  [  4.28067552e+05]\n",
      "  [  5.49828989e+05]\n",
      "  [  6.86810606e+05]\n",
      "  [  8.39012402e+05]\n",
      "  [  1.00643438e+06]\n",
      "  [  1.18907653e+06]\n",
      "  [  1.38693887e+06]\n",
      "  [  1.60002138e+06]\n",
      "  [  1.82832408e+06]\n",
      "  [  2.07184695e+06]\n",
      "  [  2.33059001e+06]]\n",
      "\n",
      " [[  1.69952264e+04]\n",
      "  [  4.72089621e+04]\n",
      "  [  9.25295658e+04]\n",
      "  [  1.52957037e+05]\n",
      "  [  2.28491377e+05]\n",
      "  [  3.19132584e+05]\n",
      "  [  4.24880659e+05]\n",
      "  [  5.45735602e+05]\n",
      "  [  6.81697413e+05]\n",
      "  [  8.32766092e+05]\n",
      "  [  9.98941639e+05]\n",
      "  [  1.18022405e+06]\n",
      "  [  1.37661334e+06]\n",
      "  [  1.58810949e+06]\n",
      "  [  1.81471251e+06]\n",
      "  [  2.05642239e+06]\n",
      "  [  2.31323915e+06]]\n",
      "\n",
      " [[  1.55364895e+04]\n",
      "  [  4.31569153e+04]\n",
      "  [  8.45875540e+04]\n",
      "  [  1.39828406e+05]\n",
      "  [  2.08879470e+05]\n",
      "  [  2.91740748e+05]\n",
      "  [  3.88412238e+05]\n",
      "  [  4.98893941e+05]\n",
      "  [  6.23185857e+05]\n",
      "  [  7.61287986e+05]\n",
      "  [  9.13200328e+05]\n",
      "  [  1.07892288e+06]\n",
      "  [  1.25845565e+06]\n",
      "  [  1.45179863e+06]\n",
      "  [  1.65895183e+06]\n",
      "  [  1.87991523e+06]\n",
      "  [  2.11468885e+06]]\n",
      "\n",
      " [[  1.34895550e+04]\n",
      "  [  3.74709862e+04]\n",
      "  [  7.34431329e+04]\n",
      "  [  1.21405995e+05]\n",
      "  [  1.81359573e+05]\n",
      "  [  2.53303867e+05]\n",
      "  [  3.37238876e+05]\n",
      "  [  4.33164600e+05]\n",
      "  [  5.41081041e+05]\n",
      "  [  6.60988196e+05]\n",
      "  [  7.92886068e+05]\n",
      "  [  9.36774655e+05]\n",
      "  [  1.09265396e+06]\n",
      "  [  1.26052398e+06]\n",
      "  [  1.44038471e+06]\n",
      "  [  1.63223616e+06]\n",
      "  [  1.83607832e+06]]\n",
      "\n",
      " [[  1.13755338e+04]\n",
      "  [  3.15987051e+04]\n",
      "  [  6.19334620e+04]\n",
      "  [  1.02379805e+05]\n",
      "  [  1.52937733e+05]\n",
      "  [  2.13607247e+05]\n",
      "  [  2.84388346e+05]\n",
      "  [  3.65281031e+05]\n",
      "  [  4.56285302e+05]\n",
      "  [  5.57401158e+05]\n",
      "  [  6.68628600e+05]\n",
      "  [  7.89967628e+05]\n",
      "  [  9.21418241e+05]\n",
      "  [  1.06298044e+06]\n",
      "  [  1.21465422e+06]\n",
      "  [  1.37643960e+06]\n",
      "  [  1.54833655e+06]]\n",
      "\n",
      " [[  9.45242479e+03]\n",
      "  [  2.62567355e+04]\n",
      "  [  5.14632016e+04]\n",
      "  [  8.50718231e+04]\n",
      "  [  1.27082600e+05]\n",
      "  [  1.77495532e+05]\n",
      "  [  2.36310620e+05]\n",
      "  [  3.03527863e+05]\n",
      "  [  3.79147261e+05]\n",
      "  [  4.63168814e+05]\n",
      "  [  5.55592523e+05]\n",
      "  [  6.56418388e+05]\n",
      "  [  7.65646408e+05]\n",
      "  [  8.83276583e+05]\n",
      "  [  1.00930891e+06]\n",
      "  [  1.14374340e+06]\n",
      "  [  1.28658004e+06]]\n",
      "\n",
      " [[  7.80640108e+03]\n",
      "  [  2.16844474e+04]\n",
      "  [  4.25015170e+04]\n",
      "  [  7.02576097e+04]\n",
      "  [  1.04952726e+05]\n",
      "  [  1.46586865e+05]\n",
      "  [  1.95160027e+05]\n",
      "  [  2.50672212e+05]\n",
      "  [  3.13123421e+05]\n",
      "  [  3.82513653e+05]\n",
      "  [  4.58842908e+05]\n",
      "  [  5.42111186e+05]\n",
      "  [  6.32318487e+05]\n",
      "  [  7.29464812e+05]\n",
      "  [  8.33550159e+05]\n",
      "  [  9.44574530e+05]\n",
      "  [  1.06253792e+06]]\n",
      "\n",
      " [[  6.44184367e+03]\n",
      "  [  1.78940102e+04]\n",
      "  [  3.50722600e+04]\n",
      "  [  5.79765930e+04]\n",
      "  [  8.66070093e+04]\n",
      "  [  1.20963509e+05]\n",
      "  [  1.61046092e+05]\n",
      "  [  2.06854758e+05]\n",
      "  [  2.58389507e+05]\n",
      "  [  3.15650340e+05]\n",
      "  [  3.78637256e+05]\n",
      "  [  4.47350255e+05]\n",
      "  [  5.21789337e+05]\n",
      "  [  6.01954503e+05]\n",
      "  [  6.87845752e+05]\n",
      "  [  7.79463084e+05]\n",
      "  [  8.76806499e+05]]\n",
      "\n",
      " [[  5.32761294e+03]\n",
      "  [  1.47989248e+04]\n",
      "  [  2.90058927e+04]\n",
      "  [  4.79485165e+04]\n",
      "  [  7.16267962e+04]\n",
      "  [  1.00040732e+05]\n",
      "  [  1.33190324e+05]\n",
      "  [  1.71075571e+05]\n",
      "  [  2.13696475e+05]\n",
      "  [  2.61053034e+05]\n",
      "  [  3.13145250e+05]\n",
      "  [  3.69973121e+05]\n",
      "  [  4.31536648e+05]\n",
      "  [  4.97835832e+05]\n",
      "  [  5.68870671e+05]\n",
      "  [  6.44641166e+05]\n",
      "  [  7.25147317e+05]]]\n",
      "2016-09-12 11:38:30,493 - INFO - dtocean_hydro.output - Main Direction\n",
      "2016-09-12 11:38:30,493 - INFO - dtocean_hydro.output - [ 0.80115264  0.59846007]\n",
      "2016-09-12 11:38:32,584 - INFO - aneris.control.data - New \"farm.annual_energy\" data stored with index ULT5DJ\n",
      "2016-09-12 11:38:32,584 - INFO - aneris.control.data - New \"farm.annual_energy_per_device\" data stored with index 7DBW9R\n",
      "2016-09-12 11:38:32,584 - INFO - aneris.control.data - New \"device.external_forces\" data stored with index 5HIP8T\n",
      "2016-09-12 11:38:32,584 - INFO - aneris.control.data - New \"farm.layout\" data stored with index SODR5T\n",
      "2016-09-12 11:38:32,594 - INFO - aneris.control.data - New \"farm.main_direction\" data stored with index Z9VOC0\n",
      "2016-09-12 11:38:32,594 - INFO - aneris.control.data - New \"farm.mean_power_per_device\" data stored with index S8JGAI\n",
      "2016-09-12 11:38:32,594 - INFO - aneris.control.data - New \"farm.mean_power_pmf_per_device\" data stored with index WYUL83\n",
      "2016-09-12 11:38:32,594 - INFO - aneris.control.data - New \"farm.mean_power_hist_per_device\" data stored with index B7O6LI\n",
      "2016-09-12 11:38:32,594 - INFO - aneris.control.data - New \"farm.number_of_devices\" data stored with index OXI3NM\n",
      "2016-09-12 11:38:32,594 - INFO - aneris.control.data - New \"farm.q_factor\" data stored with index EO3E07\n",
      "2016-09-12 11:38:32,594 - INFO - aneris.control.data - New \"farm.q_factor_per_device\" data stored with index 9749OT\n",
      "2016-09-12 11:38:32,594 - INFO - aneris.control.data - New \"farm.resource_reduction\" data stored with index 5SHTCJ\n",
      "2016-09-12 11:38:32,594 - INFO - aneris.control.data - New \"farm.wave_occurrence\" data stored with index E646P8\n",
      "2016-09-12 11:38:32,594 - INFO - aneris.control.simulation - Datastate with level \"hydrodynamics output\" stored\n",
      "2016-09-12 11:38:32,614 - INFO - dtocean_core.core - Auto executing interface Economics\n",
      "2016-09-12 11:38:32,624 - INFO - aneris.control.data - New \"project.capex_total\" data stored with index V5YAC0\n",
      "2016-09-12 11:38:32,624 - INFO - aneris.control.data - New \"project.discounted_capex\" data stored with index L7IDSM\n",
      "2016-09-12 11:38:32,624 - INFO - aneris.control.data - New \"project.capex_breakdown\" data stored with index CH4D9W\n",
      "2016-09-12 11:38:32,624 - INFO - aneris.control.simulation - Datastate with level \"hydrodynamics local output\" stored\n",
      "2016-09-12 11:38:32,634 - INFO - dtocean_core.core - Auto executing interface Environmental Impact Assessment\n",
      "2016-09-12 11:38:33,104 - INFO - aneris.control.data - New \"farm.hydro_confidence\" data stored with index S8MO2G\n",
      "2016-09-12 11:38:33,104 - INFO - aneris.control.data - New \"farm.hydro_eis\" data stored with index O7F8SI\n",
      "2016-09-12 11:38:33,104 - INFO - aneris.control.data - New \"farm.hydro_season\" data stored with index 6PKSLD\n",
      "2016-09-12 11:38:33,104 - INFO - aneris.control.data - New \"farm.hydro_recommendation_dict\" data stored with index W7YPCO\n",
      "2016-09-12 11:38:33,104 - INFO - aneris.control.data - New \"farm.global_eis\" data stored with index E8UVDP\n",
      "2016-09-12 11:38:33,104 - INFO - aneris.control.data - New \"farm.elec_confidence\" data stored with index N8RDY3\n",
      "2016-09-12 11:38:33,104 - INFO - aneris.control.data - New \"farm.elec_eis\" data stored with index WWO9XO\n",
      "2016-09-12 11:38:33,114 - INFO - aneris.control.data - New \"farm.elec_season\" data stored with index ROPBYQ\n",
      "2016-09-12 11:38:33,114 - INFO - aneris.control.data - New \"farm.elec_recommendation_dict\" data stored with index E000ZS\n",
      "2016-09-12 11:38:33,114 - INFO - aneris.control.data - New \"farm.moor_confidence\" data stored with index K7SXWM\n",
      "2016-09-12 11:38:33,114 - INFO - aneris.control.data - New \"farm.moor_eis\" data stored with index 91KTDB\n",
      "2016-09-12 11:38:33,114 - INFO - aneris.control.data - New \"farm.moor_season\" data stored with index Z2N9UM\n",
      "2016-09-12 11:38:33,114 - INFO - aneris.control.data - New \"farm.moor_recommendation_dict\" data stored with index Z9RIKD\n",
      "2016-09-12 11:38:33,114 - INFO - aneris.control.simulation - Datastate with level \"hydrodynamics local output\" stored\n",
      "2016-09-12 11:38:33,144 - INFO - dtocean_core.core - Auto executing interface Economics\n",
      "2016-09-12 11:38:33,144 - INFO - aneris.control.data - New \"project.capex_total\" data stored with index E1TK4T\n",
      "2016-09-12 11:38:33,144 - INFO - aneris.control.data - New \"project.discounted_capex\" data stored with index SO8LSV\n",
      "2016-09-12 11:38:33,144 - INFO - aneris.control.data - New \"project.capex_breakdown\" data stored with index WZ3JLF\n",
      "2016-09-12 11:38:33,144 - INFO - aneris.control.simulation - Datastate with level \"hydrodynamics global output\" stored\n",
      "2016-09-12 11:38:33,154 - INFO - dtocean_core.core - Auto executing interface Environmental Impact Assessment\n",
      "2016-09-12 11:38:33,374 - INFO - aneris.control.data - New \"farm.hydro_confidence\" data stored with index OWB7QU\n",
      "2016-09-12 11:38:33,374 - INFO - aneris.control.data - New \"farm.hydro_eis\" data stored with index 5AP40Y\n",
      "2016-09-12 11:38:33,374 - INFO - aneris.control.data - New \"farm.hydro_season\" data stored with index D18A24\n",
      "2016-09-12 11:38:33,374 - INFO - aneris.control.data - New \"farm.hydro_recommendation_dict\" data stored with index 409CAP\n",
      "2016-09-12 11:38:33,374 - INFO - aneris.control.data - New \"farm.global_eis\" data stored with index 3WB4I0\n",
      "2016-09-12 11:38:33,374 - INFO - aneris.control.data - New \"farm.elec_confidence\" data stored with index OFMEKG\n",
      "2016-09-12 11:38:33,374 - INFO - aneris.control.data - New \"farm.elec_eis\" data stored with index H77GRH\n",
      "2016-09-12 11:38:33,384 - INFO - aneris.control.data - New \"farm.elec_season\" data stored with index GCKEEI\n",
      "2016-09-12 11:38:33,384 - INFO - aneris.control.data - New \"farm.elec_recommendation_dict\" data stored with index XSUAT3\n",
      "2016-09-12 11:38:33,384 - INFO - aneris.control.data - New \"farm.moor_confidence\" data stored with index K1J8FN\n",
      "2016-09-12 11:38:33,384 - INFO - aneris.control.data - New \"farm.moor_eis\" data stored with index 0F6UDE\n",
      "2016-09-12 11:38:33,384 - INFO - aneris.control.data - New \"farm.moor_season\" data stored with index KFDI5Y\n",
      "2016-09-12 11:38:33,384 - INFO - aneris.control.data - New \"farm.moor_recommendation_dict\" data stored with index LZ0LT8\n",
      "2016-09-12 11:38:33,384 - INFO - aneris.control.simulation - Datastate with level \"hydrodynamics global output\" stored\n",
      "2016-09-12 11:38:33,414 - INFO - aneris.control.simulation - Datastate with level \"electrical sub systems start\" stored\n",
      "2016-09-12 11:38:33,934 - INFO - dtocean_electrical.main - Begin main run...\n",
      "2016-09-12 11:38:33,934 - INFO - dtocean_electrical.main - Merging bathymetry...\n",
      "2016-09-12 11:38:38,545 - INFO - dtocean_electrical.main - Checking neighbours...\n",
      "2016-09-12 11:41:32,648 - INFO - dtocean_electrical.main - Building graph...\n",
      "2016-09-12 11:41:33,118 - INFO - dtocean_electrical.main - Checking for exclusion zones...\n",
      "2016-09-12 11:41:33,148 - INFO - dtocean_electrical.main - Checking equipment soil compatibility...\n",
      "2016-09-12 11:41:40,378 - INFO - dtocean_electrical.main - Building network...\n",
      "2016-09-12 11:41:49,907 - INFO - dtocean_electrical.main - Network design complete...\n",
      "2016-09-12 11:41:50,118 - INFO - aneris.control.data - New \"farm.annual_energy\" data stored with index FVNFMO\n",
      "2016-09-12 11:41:50,118 - INFO - aneris.control.data - New \"farm.electrical_network\" data stored with index 6MBXLD\n",
      "2016-09-12 11:41:50,118 - INFO - aneris.control.data - New \"farm.electrical_component_data\" data stored with index 7XUYSS\n",
      "2016-09-12 11:41:50,118 - INFO - aneris.control.data - New \"farm.electrical_economics_data\" data stored with index FX6QEW\n",
      "2016-09-12 11:41:50,118 - INFO - aneris.control.data - New \"farm.cable_routes\" data stored with index VQ35BW\n",
      "2016-09-12 11:41:50,118 - INFO - aneris.control.data - New \"farm.substation_props\" data stored with index DVEU9A\n",
      "2016-09-12 11:41:50,118 - INFO - aneris.control.data - New \"farm.substation_layout\" data stored with index 0FS1QI\n",
      "2016-09-12 11:41:50,128 - INFO - aneris.control.data - New \"farm.substation_cog\" data stored with index MF5STF\n",
      "2016-09-12 11:41:50,128 - INFO - aneris.control.data - New \"farm.substation_foundation_location\" data stored with index FI20XF\n",
      "2016-09-12 11:41:50,128 - INFO - aneris.control.simulation - Datastate with level \"electrical sub systems output\" stored\n",
      "2016-09-12 11:41:50,148 - INFO - dtocean_core.core - Auto executing interface Economics\n",
      "2016-09-12 11:41:50,157 - INFO - aneris.control.data - New \"project.capex_total\" data stored with index LLWQ0W\n",
      "2016-09-12 11:41:50,157 - INFO - aneris.control.data - New \"project.discounted_capex\" data stored with index B7I0ZY\n",
      "2016-09-12 11:41:50,157 - INFO - aneris.control.data - New \"project.capex_breakdown\" data stored with index VNI59T\n",
      "2016-09-12 11:41:50,157 - INFO - aneris.control.data - New \"project.capex_lcoe\" data stored with index ITMG4J\n",
      "2016-09-12 11:41:50,167 - INFO - aneris.control.data - New \"project.discounted_energy\" data stored with index A9C0E1\n",
      "2016-09-12 11:41:50,167 - INFO - aneris.control.data - New \"project.lcoe\" data stored with index AKFK1S\n",
      "2016-09-12 11:41:50,167 - INFO - aneris.control.simulation - Datastate with level \"electrical sub systems local output\" stored\n",
      "2016-09-12 11:41:50,177 - INFO - dtocean_core.core - Skipping interface Environmental Impact Assessment\n",
      "2016-09-12 11:41:50,187 - INFO - dtocean_core.core - Auto executing interface Economics\n",
      "2016-09-12 11:41:50,197 - INFO - aneris.control.data - New \"project.capex_total\" data stored with index 0NWITU\n",
      "2016-09-12 11:41:50,197 - INFO - aneris.control.data - New \"project.discounted_capex\" data stored with index DNRK4G\n",
      "2016-09-12 11:41:50,197 - INFO - aneris.control.data - New \"project.capex_breakdown\" data stored with index C1H9JU\n",
      "2016-09-12 11:41:50,197 - INFO - aneris.control.data - New \"project.capex_lcoe\" data stored with index 89OH6I\n",
      "2016-09-12 11:41:50,207 - INFO - aneris.control.data - New \"project.discounted_energy\" data stored with index C1MUQI\n",
      "2016-09-12 11:41:50,207 - INFO - aneris.control.data - New \"project.lcoe\" data stored with index 31RDGB\n",
      "2016-09-12 11:41:50,207 - INFO - aneris.control.simulation - Datastate with level \"electrical sub systems global output\" stored\n",
      "2016-09-12 11:41:50,217 - INFO - dtocean_core.core - Auto executing interface Environmental Impact Assessment\n",
      "2016-09-12 11:41:50,538 - INFO - aneris.control.data - New \"farm.hydro_confidence\" data stored with index KFWU6D\n",
      "2016-09-12 11:41:50,538 - INFO - aneris.control.data - New \"farm.hydro_eis\" data stored with index D6FIYU\n",
      "2016-09-12 11:41:50,538 - INFO - aneris.control.data - New \"farm.hydro_season\" data stored with index U2782C\n",
      "2016-09-12 11:41:50,538 - INFO - aneris.control.data - New \"farm.hydro_recommendation_dict\" data stored with index 472ATS\n",
      "2016-09-12 11:41:50,548 - INFO - aneris.control.data - New \"farm.global_eis\" data stored with index UIJYFH\n",
      "2016-09-12 11:41:50,548 - INFO - aneris.control.data - New \"farm.elec_confidence\" data stored with index T3778U\n",
      "2016-09-12 11:41:50,548 - INFO - aneris.control.data - New \"farm.elec_eis\" data stored with index 050EWK\n",
      "2016-09-12 11:41:50,548 - INFO - aneris.control.data - New \"farm.elec_season\" data stored with index N34HWI\n",
      "2016-09-12 11:41:50,548 - INFO - aneris.control.data - New \"farm.elec_recommendation_dict\" data stored with index PL9SOJ\n",
      "2016-09-12 11:41:50,548 - INFO - aneris.control.data - New \"farm.moor_confidence\" data stored with index KQ84QC\n",
      "2016-09-12 11:41:50,548 - INFO - aneris.control.data - New \"farm.moor_eis\" data stored with index ECWRHI\n",
      "2016-09-12 11:41:50,548 - INFO - aneris.control.data - New \"farm.moor_season\" data stored with index UV4T2W\n",
      "2016-09-12 11:41:50,548 - INFO - aneris.control.data - New \"farm.moor_recommendation_dict\" data stored with index 51BYD8\n",
      "2016-09-12 11:41:50,548 - INFO - aneris.control.simulation - Datastate with level \"electrical sub systems global output\" stored\n",
      "2016-09-12 11:41:50,578 - INFO - aneris.control.simulation - Datastate with level \"mooring and foundations start\" stored\n",
      "2016-09-12 11:41:52,289 - INFO - dtocean_moorings.main - ===================================================================\n",
      "2016-09-12 11:41:52,289 - INFO - dtocean_moorings.main - Device ID: device001\n",
      "2016-09-12 11:41:52,289 - INFO - dtocean_moorings.main - ===================================================================\n",
      "2016-09-12 11:41:52,440 - INFO - dtocean_moorings.core - Foundation point coincides with grid line or grid point\n",
      "2016-09-12 11:41:52,609 - INFO - dtocean_moorings.core - Foundation point coincides with grid line or grid point\n",
      "2016-09-12 11:41:52,779 - INFO - dtocean_moorings.core - Foundation point coincides with grid line or grid point\n",
      "2016-09-12 11:41:52,990 - INFO - dtocean_moorings.core - Foundation point coincides with grid line or grid point\n",
      "2016-09-12 11:41:53,059 - WARNING - dtocean_moorings.core - WARNING: Reynolds number out of range for drag coefficient data\n",
      "2016-09-12 11:41:53,059 - WARNING - dtocean_moorings.core - WARNING: Reynolds number out of range for drag coefficient data\n",
      "2016-09-12 11:41:53,059 - WARNING - dtocean_moorings.core - WARNING: Reynolds number out of range for drag coefficient data\n",
      "2016-09-12 11:41:53,059 - WARNING - dtocean_moorings.core - WARNING: Reynolds number out of range for drag coefficient data\n",
      "2016-09-12 11:41:53,059 - WARNING - dtocean_moorings.core - WARNING: Reynolds number out of range for drag coefficient data\n",
      "2016-09-12 11:41:53,059 - WARNING - dtocean_moorings.core - WARNING: Reynolds number out of range for drag coefficient data\n",
      "2016-09-12 11:41:53,059 - WARNING - dtocean_moorings.core - WARNING: Reynolds number out of range for drag coefficient data\n",
      "2016-09-12 11:41:53,059 - WARNING - dtocean_moorings.core - WARNING: Reynolds number out of range for drag coefficient data\n",
      "2016-09-12 11:41:53,059 - WARNING - dtocean_moorings.core - WARNING: Reynolds number out of range for drag coefficient data\n",
      "2016-09-12 11:41:53,069 - WARNING - dtocean_moorings.core - WARNING: Reynolds number out of range for drag coefficient data\n",
      "2016-09-12 11:41:53,069 - INFO - dtocean_moorings.core - \n",
      "WAMIT/NEMOH parameters provided\n",
      "2016-09-12 11:41:53,069 - INFO - dtocean_moorings.core - \n",
      "Full set of first-order wave load RAOs provided\n",
      "self.syswaveload[tpind][mode]  (29817576.0635+555080.480087j)\n",
      "2016-09-12 11:41:53,069 - WARNING - dtocean_moorings.core - WARNING: Reynolds number out of range for drag coefficient data\n",
      "2016-09-12 11:41:53,069 - WARNING - dtocean_moorings.core - WARNING: Reynolds number out of range for drag coefficient data\n",
      "2016-09-12 11:41:53,069 - WARNING - dtocean_moorings.core - WARNING: Reynolds number out of range for drag coefficient data\n",
      "2016-09-12 11:41:53,069 - WARNING - dtocean_moorings.core - WARNING: Reynolds number out of range for drag coefficient data\n",
      "2016-09-12 11:41:53,069 - WARNING - dtocean_moorings.core - WARNING: Reynolds number out of range for drag coefficient data\n",
      "2016-09-12 11:41:53,069 - WARNING - dtocean_moorings.core - WARNING: Reynolds number out of range for drag coefficient data\n",
      "2016-09-12 11:41:53,079 - WARNING - dtocean_moorings.core - WARNING: Reynolds number out of range for drag coefficient data\n",
      "2016-09-12 11:41:53,079 - WARNING - dtocean_moorings.core - WARNING: Reynolds number out of range for drag coefficient data\n",
      "2016-09-12 11:41:53,079 - WARNING - dtocean_moorings.core - WARNING: Reynolds number out of range for drag coefficient data\n",
      "2016-09-12 11:41:53,079 - WARNING - dtocean_moorings.core - WARNING: Reynolds number out of range for drag coefficient data\n",
      "2016-09-12 11:41:53,079 - INFO - dtocean_moorings.core - \n",
      "WAMIT/NEMOH parameters provided\n",
      "2016-09-12 11:41:53,079 - INFO - dtocean_moorings.core - \n",
      "Full set of first-order wave load RAOs provided\n",
      "self.syswaveload[tpind][mode]  (29817576.0635+555080.480087j)\n",
      "2016-09-12 11:41:53,160 - INFO - dtocean_moorings.core - \n",
      "_______________________________________________________________________\n",
      "Foundation 0\n",
      "_______________________________________________________________________\n",
      "2016-09-12 11:41:53,160 - INFO - dtocean_moorings.core - \n",
      "%%%%%%%%%%%%%%%%%%%%%%%%%%%%%%%%%%%%%%%%%%%%%%%\n",
      "Pile foundation/anchor design\n",
      "%%%%%%%%%%%%%%%%%%%%%%%%%%%%%%%%%%%%%%%%%%%%%%%\n"
     ]
    },
    {
     "name": "stderr",
     "output_type": "stream",
     "text": [
      "C:\\Anaconda\\envs\\dtocean\\lib\\site-packages\\dtocean_moorings-0.2.0.dev0-py2.7.egg\\dtocean_moorings\\core.py:6580: ComplexWarning: Casting complex values to real discards the imaginary part\n",
      "  self.totfoundslopeloads[j][i])\n",
      "C:\\Anaconda\\envs\\dtocean\\lib\\site-packages\\dtocean_moorings-0.2.0.dev0-py2.7.egg\\dtocean_moorings\\core.py:8590: ComplexWarning: Casting complex values to real discards the imaginary part\n",
      "  < math.fabs(vertdesload[j])):\n",
      "C:\\Anaconda\\envs\\dtocean\\lib\\site-packages\\dtocean_moorings-0.2.0.dev0-py2.7.egg\\dtocean_moorings\\core.py:8597: ComplexWarning: Casting complex values to real discards the imaginary part\n",
      "  < math.fabs(vertdesload[j])):\n",
      "C:\\Anaconda\\envs\\dtocean\\lib\\site-packages\\dtocean_moorings-0.2.0.dev0-py2.7.egg\\dtocean_moorings\\core.py:8753: ComplexWarning: Casting complex values to real discards the imaginary part\n",
      "  vertdesload[j])\n"
     ]
    },
    {
     "name": "stdout",
     "output_type": "stream",
     "text": [
      "2016-09-12 11:41:54,150 - INFO - dtocean_moorings.core - \n",
      "%%%%%%%%%%%%%%%%%%%%%%%%%%%%%%%%%%%%%%%%%%%%%%%\n",
      "Gravity foundation/anchor design\n",
      "%%%%%%%%%%%%%%%%%%%%%%%%%%%%%%%%%%%%%%%%%%%%%%%\n",
      "2016-09-12 11:41:54,150 - INFO - dtocean_moorings.core - \n",
      "Solution found [6.0, 6.0, 1.5, 0.0, 0.0, [0, 0], [0, 0], (2.5780640941382416+105.4417078659614j), (51.421935905861758-105.4417078659614j)]\n",
      "2016-09-12 11:41:54,150 - INFO - dtocean_moorings.core - \n",
      "_______________________________________________________________________\n",
      "Foundation 1\n",
      "_______________________________________________________________________\n",
      "2016-09-12 11:41:54,150 - INFO - dtocean_moorings.core - \n",
      "%%%%%%%%%%%%%%%%%%%%%%%%%%%%%%%%%%%%%%%%%%%%%%%\n",
      "Pile foundation/anchor design\n",
      "%%%%%%%%%%%%%%%%%%%%%%%%%%%%%%%%%%%%%%%%%%%%%%%\n"
     ]
    },
    {
     "name": "stderr",
     "output_type": "stream",
     "text": [
      "C:\\Anaconda\\envs\\dtocean\\lib\\site-packages\\dtocean_moorings-0.2.0.dev0-py2.7.egg\\dtocean_moorings\\core.py:7230: ComplexWarning: Casting complex values to real discards the imaginary part\n",
      "  self.maxloadindex[j]]))\n",
      "C:\\Anaconda\\envs\\dtocean\\lib\\site-packages\\dtocean_moorings-0.2.0.dev0-py2.7.egg\\dtocean_moorings\\core.py:7607: ComplexWarning: Casting complex values to real discards the imaginary part\n",
      "  / effbasewidth) * (bcfnq / bcfnc))\n",
      "C:\\Anaconda\\envs\\dtocean\\lib\\site-packages\\dtocean_moorings-0.2.0.dev0-py2.7.egg\\dtocean_moorings\\core.py:7611: ComplexWarning: Casting complex values to real discards the imaginary part\n",
      "  * math.tan(self.dsfangrad))\n",
      "C:\\Anaconda\\envs\\dtocean\\lib\\site-packages\\dtocean_moorings-0.2.0.dev0-py2.7.egg\\dtocean_moorings\\core.py:7722: ComplexWarning: Casting complex values to real discards the imaginary part\n",
      "  / transdepth[self.maxloadindex[j]]))\n",
      "C:\\Anaconda\\envs\\dtocean\\lib\\site-packages\\dtocean_moorings-0.2.0.dev0-py2.7.egg\\dtocean_moorings\\core.py:7727: ComplexWarning: Casting complex values to real discards the imaginary part\n",
      "  / transdepth[self.minloadindex[j]]))\n"
     ]
    },
    {
     "name": "stdout",
     "output_type": "stream",
     "text": [
      "2016-09-12 11:41:55,069 - INFO - dtocean_moorings.core - \n",
      "%%%%%%%%%%%%%%%%%%%%%%%%%%%%%%%%%%%%%%%%%%%%%%%\n",
      "Gravity foundation/anchor design\n",
      "%%%%%%%%%%%%%%%%%%%%%%%%%%%%%%%%%%%%%%%%%%%%%%%\n",
      "2016-09-12 11:41:55,079 - INFO - dtocean_moorings.core - \n",
      "Solution found [6.25, 6.25, 1.5625, 0.0, 0.0, [0, 0], [0, 0], (4.8487524729199833-61.475272202512052j), (56.186403777080017+61.475272202512052j)]\n",
      "2016-09-12 11:41:55,079 - INFO - dtocean_moorings.core - \n",
      "_______________________________________________________________________\n",
      "Foundation 2\n",
      "_______________________________________________________________________\n",
      "2016-09-12 11:41:55,079 - INFO - dtocean_moorings.core - \n",
      "%%%%%%%%%%%%%%%%%%%%%%%%%%%%%%%%%%%%%%%%%%%%%%%\n",
      "Pile foundation/anchor design\n",
      "%%%%%%%%%%%%%%%%%%%%%%%%%%%%%%%%%%%%%%%%%%%%%%%\n",
      "2016-09-12 11:41:55,990 - INFO - dtocean_moorings.core - \n",
      "%%%%%%%%%%%%%%%%%%%%%%%%%%%%%%%%%%%%%%%%%%%%%%%\n",
      "Shallow foundation/anchor design\n",
      "%%%%%%%%%%%%%%%%%%%%%%%%%%%%%%%%%%%%%%%%%%%%%%%\n",
      "2016-09-12 11:41:56,000 - INFO - dtocean_moorings.core - \n",
      "Solution found [27.461248296308774, 27.461248296308774, 2.7461248296308773, 2.746124829630878, 1.373062414815439, [9.0, 9.0], [0, 0], 2070.9080903856775, 0.0]\n",
      "2016-09-12 11:41:56,000 - INFO - dtocean_moorings.core - \n",
      "%%%%%%%%%%%%%%%%%%%%%%%%%%%%%%%%%%%%%%%%%%%%%%%\n",
      "Gravity foundation/anchor design\n",
      "%%%%%%%%%%%%%%%%%%%%%%%%%%%%%%%%%%%%%%%%%%%%%%%\n",
      "2016-09-12 11:41:56,000 - INFO - dtocean_moorings.core - \n",
      "Solution found [6.5, 6.5, 1.625, 0.0, 0.0, [0, 0], [0, 0], (4.369386523734974-43.966435663455123j), (64.286863476265026+43.966435663455123j)]\n",
      "2016-09-12 11:41:56,000 - INFO - dtocean_moorings.core - \n",
      "%%%%%%%%%%%%%%%%%%%%%%%%%%%%%%%%%%%%%%%%%%%%%%%\n",
      "Gravity foundation/anchor design\n",
      "%%%%%%%%%%%%%%%%%%%%%%%%%%%%%%%%%%%%%%%%%%%%%%%\n",
      "self.piledim [[2.5, 0.080000000000000002, 5.0, 'True', 'id718', 0.0], [2.5, 0.080000000000000002, 5.0, 'True', 'id718', 0.0], [2.5, 0.080000000000000002, 5.0, 'True', 'id718', 0.0]]\n",
      "self.pileyld 355000000.0\n",
      "2016-09-12 11:41:56,000 - INFO - dtocean_moorings.core - \n",
      "self.possfoundtyp [[('pile', 5), ('gravity', 6)], [('pile', 5), ('gravity', 6)], [('pile', 5), ('shallowfoundation', 6), ('gravity', 6)]]\n",
      "self.selfoundtyp [('pile', 62065.0), ('pile', 62065.0), ('pile', 62065.0)]\n",
      "2016-09-12 11:41:56,009 - INFO - dtocean_moorings.main - ===================================================================\n",
      "2016-09-12 11:41:56,009 - INFO - dtocean_moorings.main - Device ID: device002\n",
      "2016-09-12 11:41:56,009 - INFO - dtocean_moorings.main - ===================================================================\n"
     ]
    },
    {
     "name": "stderr",
     "output_type": "stream",
     "text": [
      "C:\\Anaconda\\envs\\dtocean\\lib\\site-packages\\dtocean_moorings-0.2.0.dev0-py2.7.egg\\dtocean_moorings\\core.py:7219: ComplexWarning: Casting complex values to real discards the imaginary part\n",
      "  - trapsoilweight)\n"
     ]
    },
    {
     "name": "stdout",
     "output_type": "stream",
     "text": [
      "2016-09-12 11:41:56,720 - WARNING - dtocean_moorings.core - WARNING: Reynolds number out of range for drag coefficient data\n",
      "2016-09-12 11:41:56,720 - WARNING - dtocean_moorings.core - WARNING: Reynolds number out of range for drag coefficient data\n",
      "2016-09-12 11:41:56,720 - WARNING - dtocean_moorings.core - WARNING: Reynolds number out of range for drag coefficient data\n",
      "2016-09-12 11:41:56,720 - WARNING - dtocean_moorings.core - WARNING: Reynolds number out of range for drag coefficient data\n",
      "2016-09-12 11:41:56,720 - WARNING - dtocean_moorings.core - WARNING: Reynolds number out of range for drag coefficient data\n",
      "2016-09-12 11:41:56,720 - WARNING - dtocean_moorings.core - WARNING: Reynolds number out of range for drag coefficient data\n",
      "2016-09-12 11:41:56,720 - WARNING - dtocean_moorings.core - WARNING: Reynolds number out of range for drag coefficient data\n",
      "2016-09-12 11:41:56,720 - WARNING - dtocean_moorings.core - WARNING: Reynolds number out of range for drag coefficient data\n",
      "2016-09-12 11:41:56,720 - WARNING - dtocean_moorings.core - WARNING: Reynolds number out of range for drag coefficient data\n",
      "2016-09-12 11:41:56,720 - WARNING - dtocean_moorings.core - WARNING: Reynolds number out of range for drag coefficient data\n",
      "2016-09-12 11:41:56,730 - INFO - dtocean_moorings.core - \n",
      "WAMIT/NEMOH parameters provided\n",
      "2016-09-12 11:41:56,730 - INFO - dtocean_moorings.core - \n",
      "Full set of first-order wave load RAOs provided\n",
      "self.syswaveload[tpind][mode]  (29817576.0635+555080.480087j)\n",
      "2016-09-12 11:41:56,730 - WARNING - dtocean_moorings.core - WARNING: Reynolds number out of range for drag coefficient data\n",
      "2016-09-12 11:41:56,730 - WARNING - dtocean_moorings.core - WARNING: Reynolds number out of range for drag coefficient data\n",
      "2016-09-12 11:41:56,730 - WARNING - dtocean_moorings.core - WARNING: Reynolds number out of range for drag coefficient data\n",
      "2016-09-12 11:41:56,740 - WARNING - dtocean_moorings.core - WARNING: Reynolds number out of range for drag coefficient data\n",
      "2016-09-12 11:41:56,740 - WARNING - dtocean_moorings.core - WARNING: Reynolds number out of range for drag coefficient data\n",
      "2016-09-12 11:41:56,740 - WARNING - dtocean_moorings.core - WARNING: Reynolds number out of range for drag coefficient data\n",
      "2016-09-12 11:41:56,740 - WARNING - dtocean_moorings.core - WARNING: Reynolds number out of range for drag coefficient data\n",
      "2016-09-12 11:41:56,740 - WARNING - dtocean_moorings.core - WARNING: Reynolds number out of range for drag coefficient data\n",
      "2016-09-12 11:41:56,740 - WARNING - dtocean_moorings.core - WARNING: Reynolds number out of range for drag coefficient data\n",
      "2016-09-12 11:41:56,740 - WARNING - dtocean_moorings.core - WARNING: Reynolds number out of range for drag coefficient data\n",
      "2016-09-12 11:41:56,740 - INFO - dtocean_moorings.core - \n",
      "WAMIT/NEMOH parameters provided\n",
      "2016-09-12 11:41:56,740 - INFO - dtocean_moorings.core - \n",
      "Full set of first-order wave load RAOs provided\n",
      "self.syswaveload[tpind][mode]  (29817576.0635+555080.480087j)\n",
      "2016-09-12 11:41:56,750 - INFO - dtocean_moorings.core - \n",
      "_______________________________________________________________________\n",
      "Foundation 0\n",
      "_______________________________________________________________________\n",
      "2016-09-12 11:41:56,750 - INFO - dtocean_moorings.core - \n",
      "%%%%%%%%%%%%%%%%%%%%%%%%%%%%%%%%%%%%%%%%%%%%%%%\n",
      "Pile foundation/anchor design\n",
      "%%%%%%%%%%%%%%%%%%%%%%%%%%%%%%%%%%%%%%%%%%%%%%%\n",
      "2016-09-12 11:41:57,680 - INFO - dtocean_moorings.core - \n",
      "%%%%%%%%%%%%%%%%%%%%%%%%%%%%%%%%%%%%%%%%%%%%%%%\n",
      "Gravity foundation/anchor design\n",
      "%%%%%%%%%%%%%%%%%%%%%%%%%%%%%%%%%%%%%%%%%%%%%%%\n",
      "2016-09-12 11:41:57,690 - INFO - dtocean_moorings.core - \n",
      "Solution found [6.0, 6.0, 1.5, 0.0, 0.0, [0, 0], [0, 0], (2.5780640941382416+105.4417078659614j), (51.421935905861758-105.4417078659614j)]\n",
      "2016-09-12 11:41:57,690 - INFO - dtocean_moorings.core - \n",
      "_______________________________________________________________________\n",
      "Foundation 1\n",
      "_______________________________________________________________________\n",
      "2016-09-12 11:41:57,690 - INFO - dtocean_moorings.core - \n",
      "%%%%%%%%%%%%%%%%%%%%%%%%%%%%%%%%%%%%%%%%%%%%%%%\n",
      "Pile foundation/anchor design\n",
      "%%%%%%%%%%%%%%%%%%%%%%%%%%%%%%%%%%%%%%%%%%%%%%%\n",
      "2016-09-12 11:41:58,631 - INFO - dtocean_moorings.core - \n",
      "%%%%%%%%%%%%%%%%%%%%%%%%%%%%%%%%%%%%%%%%%%%%%%%\n",
      "Gravity foundation/anchor design\n",
      "%%%%%%%%%%%%%%%%%%%%%%%%%%%%%%%%%%%%%%%%%%%%%%%\n",
      "2016-09-12 11:41:58,631 - INFO - dtocean_moorings.core - \n",
      "Solution found [6.25, 6.25, 1.5625, 0.0, 0.0, [0, 0], [0, 0], (4.8487524729199833-61.475272202512052j), (56.186403777080017+61.475272202512052j)]\n",
      "2016-09-12 11:41:58,631 - INFO - dtocean_moorings.core - \n",
      "_______________________________________________________________________\n",
      "Foundation 2\n",
      "_______________________________________________________________________\n",
      "2016-09-12 11:41:58,631 - INFO - dtocean_moorings.core - \n",
      "%%%%%%%%%%%%%%%%%%%%%%%%%%%%%%%%%%%%%%%%%%%%%%%\n",
      "Pile foundation/anchor design\n",
      "%%%%%%%%%%%%%%%%%%%%%%%%%%%%%%%%%%%%%%%%%%%%%%%\n",
      "2016-09-12 11:41:59,561 - INFO - dtocean_moorings.core - \n",
      "%%%%%%%%%%%%%%%%%%%%%%%%%%%%%%%%%%%%%%%%%%%%%%%\n",
      "Shallow foundation/anchor design\n",
      "%%%%%%%%%%%%%%%%%%%%%%%%%%%%%%%%%%%%%%%%%%%%%%%\n",
      "2016-09-12 11:41:59,571 - INFO - dtocean_moorings.core - \n",
      "Solution found [27.461248296308774, 27.461248296308774, 2.7461248296308773, 2.746124829630878, 1.373062414815439, [9.0, 9.0], [0, 0], 2070.9080903856775, 0.0]\n",
      "2016-09-12 11:41:59,571 - INFO - dtocean_moorings.core - \n",
      "%%%%%%%%%%%%%%%%%%%%%%%%%%%%%%%%%%%%%%%%%%%%%%%\n",
      "Gravity foundation/anchor design\n",
      "%%%%%%%%%%%%%%%%%%%%%%%%%%%%%%%%%%%%%%%%%%%%%%%\n",
      "2016-09-12 11:41:59,571 - INFO - dtocean_moorings.core - \n",
      "Solution found [6.5, 6.5, 1.625, 0.0, 0.0, [0, 0], [0, 0], (4.369386523734974-43.966435663455123j), (64.286863476265026+43.966435663455123j)]\n",
      "2016-09-12 11:41:59,571 - INFO - dtocean_moorings.core - \n",
      "%%%%%%%%%%%%%%%%%%%%%%%%%%%%%%%%%%%%%%%%%%%%%%%\n",
      "Gravity foundation/anchor design\n",
      "%%%%%%%%%%%%%%%%%%%%%%%%%%%%%%%%%%%%%%%%%%%%%%%\n",
      "self.piledim [[2.5, 0.080000000000000002, 5.0, 'True', 'id718', 0.0], [2.5, 0.080000000000000002, 5.0, 'True', 'id718', 0.0], [2.5, 0.080000000000000002, 5.0, 'True', 'id718', 0.0]]\n",
      "self.pileyld 355000000.0\n",
      "2016-09-12 11:41:59,571 - INFO - dtocean_moorings.core - \n",
      "self.possfoundtyp [[('pile', 5), ('gravity', 6)], [('pile', 5), ('gravity', 6)], [('pile', 5), ('shallowfoundation', 6), ('gravity', 6)]]\n",
      "self.selfoundtyp [('pile', 62065.0), ('pile', 62065.0), ('pile', 62065.0)]\n",
      "2016-09-12 11:41:59,571 - INFO - dtocean_moorings.main - ===================================================================\n",
      "2016-09-12 11:41:59,581 - INFO - dtocean_moorings.main - Substation ID: subhub000\n",
      "2016-09-12 11:41:59,581 - INFO - dtocean_moorings.main - ===================================================================\n",
      "2016-09-12 11:41:59,720 - INFO - dtocean_moorings.core - Foundation point coincides with grid line or grid point\n",
      "2016-09-12 11:41:59,911 - INFO - dtocean_moorings.core - Foundation point coincides with grid line or grid point\n",
      "2016-09-12 11:41:59,970 - INFO - dtocean_moorings.core - \n",
      "WAMIT/NEMOH parameters not provided\n",
      "2016-09-12 11:42:00,250 - INFO - dtocean_moorings.core - Mass/viscous loads important, use Morison equation\n",
      "2016-09-12 11:42:00,601 - INFO - dtocean_moorings.core - \n",
      "WAMIT/NEMOH parameters not provided\n",
      "2016-09-12 11:42:00,911 - INFO - dtocean_moorings.core - Mass/viscous loads important, use Morison equation\n",
      "2016-09-12 11:42:01,321 - INFO - dtocean_moorings.core - \n",
      "WAMIT/NEMOH parameters not provided\n",
      "2016-09-12 11:42:01,611 - INFO - dtocean_moorings.core - Mass/viscous loads important, use Morison equation\n",
      "2016-09-12 11:42:02,010 - INFO - dtocean_moorings.core - \n",
      "_______________________________________________________________________\n",
      "Foundation 0\n",
      "_______________________________________________________________________\n",
      "2016-09-12 11:42:02,020 - INFO - dtocean_moorings.core - \n",
      "%%%%%%%%%%%%%%%%%%%%%%%%%%%%%%%%%%%%%%%%%%%%%%%\n",
      "Pile foundation/anchor design\n",
      "%%%%%%%%%%%%%%%%%%%%%%%%%%%%%%%%%%%%%%%%%%%%%%%\n",
      "2016-09-12 11:42:02,980 - INFO - dtocean_moorings.core - \n",
      "%%%%%%%%%%%%%%%%%%%%%%%%%%%%%%%%%%%%%%%%%%%%%%%\n",
      "Pile foundation/anchor design\n",
      "%%%%%%%%%%%%%%%%%%%%%%%%%%%%%%%%%%%%%%%%%%%%%%%\n",
      "self.piledim [[3.5, 0.059999999999999998, 7.0, 'True', 'id728', 0.0]]\n",
      "self.pileyld 355000000.0\n",
      "2016-09-12 11:42:03,000 - INFO - dtocean_moorings.main - \n",
      "_________________________________________________________________________\n",
      "Array level foundation installation table\n",
      "  devices [-] foundations [-] type [-] subtype [-] marker [-]  x coord [m]  \\\n",
      "0   device001   foundation000     pile   pipe pile       0000  1320.307986   \n",
      "1   device001   foundation001     pile   pipe pile       0002  1638.609649   \n",
      "2   device001   foundation002     pile   pipe pile       0004  1361.082365   \n",
      "3   device002   foundation000     pile   pipe pile       0006  1276.172472   \n",
      "4   device002   foundation001     pile   pipe pile       0008  1594.474135   \n",
      "5   device002   foundation002     pile   pipe pile       0010  1316.946850   \n",
      "6   subhub000   foundation000     pile   pipe pile       0012  1420.000000   \n",
      "\n",
      "   y coord [m]  bathymetry at MSL [m]  length [m]  width [m]  height [m]  \\\n",
      "0  1200.230527                  -85.0         2.5        2.5         5.0   \n",
      "1  1063.541013                  -85.0         2.5        2.5         5.0   \n",
      "2   856.228460                  -85.0         2.5        2.5         5.0   \n",
      "3  2100.697559                  -85.0         2.5        2.5         5.0   \n",
      "4  1964.008045                  -85.0         2.5        2.5         5.0   \n",
      "5  1756.695492                  -85.0         2.5        2.5         5.0   \n",
      "6  1270.000000                  -85.0         3.5        3.5         7.0   \n",
      "\n",
      "   installation depth [m]  \\\n",
      "0                     5.0   \n",
      "1                     5.0   \n",
      "2                     5.0   \n",
      "3                     5.0   \n",
      "4                     5.0   \n",
      "5                     5.0   \n",
      "6                     7.0   \n",
      "\n",
      "  layer information (layer number, soil type, soil depth) [-,-,m]  \\\n",
      "0                                     [(0, ls, inf)]                \n",
      "1                                     [(0, ls, inf)]                \n",
      "2                                     [(0, ls, inf)]                \n",
      "3                                     [(0, ls, inf)]                \n",
      "4                                     [(0, ls, inf)]                \n",
      "5                                     [(0, ls, inf)]                \n",
      "6                                     [(0, ls, inf)]                \n",
      "\n",
      "   dry mass [kg] grout type [-]  grout volume [m3]  \n",
      "0   26611.645970            n/a                0.0  \n",
      "1   26611.645970            n/a                0.0  \n",
      "2   26611.645970            n/a                0.0  \n",
      "3   26611.645970            n/a                0.0  \n",
      "4   26611.645970            n/a                0.0  \n",
      "5   26611.645970            n/a                0.0  \n",
      "6   39650.865549            n/a                0.0  \n",
      "_________________________________________________________________________\n",
      "Array level economics bill of materials (self.sysecobom)\n",
      "  compid [-]  quantity [-]  component cost [euros] [-]  project year\n",
      "0      id718           1.0                     62065.0             0\n",
      "1      id718           1.0                     62065.0             0\n",
      "2      id718           1.0                     62065.0             0\n",
      "3      id718           1.0                     62065.0             0\n",
      "4      id718           1.0                     62065.0             0\n",
      "5      id718           1.0                     62065.0             0\n",
      "6      id728           1.0                     92638.0             0\n",
      "_________________________________________________________________________\n",
      "Array level RAM bill of materials (self.sysrambom)\n",
      "{'subhub000': {'Substation foundation': {'marker': [[12]], 'quantity': Counter({'id728': 1})}}, 'device002': {'Foundation': {'marker': [[6, 7], [8, 9], [10, 11]], 'quantity': Counter({'id718': 3})}}, 'device001': {'Foundation': {'marker': [[0, 1], [2, 3], [4, 5]], 'quantity': Counter({'id718': 3})}}}\n",
      "_________________________________________________________________________\n",
      "Array level RAM hierarchy (self.syshier)\n",
      "{'subhub000': {'Substation foundation': ['id728']}, 'device002': {'Foundation': ['id718', 'id718', 'id718']}, 'device001': {'Foundation': ['id718', 'id718', 'id718']}}\n",
      "2016-09-12 11:42:03,040 - INFO - aneris.control.data - New \"farm.moorings_foundations_network\" data stored with index 6YIZW5\n",
      "2016-09-12 11:42:03,040 - INFO - aneris.control.data - New \"farm.moorings_foundations_economics_data\" data stored with index H4TH93\n",
      "2016-09-12 11:42:03,040 - INFO - aneris.control.data - New \"farm.foundations_component_data\" data stored with index 1WN12W\n",
      "2016-09-12 11:42:03,040 - INFO - aneris.control.data - New \"farm.foundations_soil_data\" data stored with index JA5N76\n",
      "2016-09-12 11:42:03,040 - INFO - aneris.control.data - New \"farm.moorings_dimensions\" data stored with index U67U26\n",
      "2016-09-12 11:42:03,040 - INFO - aneris.control.simulation - Datastate with level \"mooring and foundations output\" stored\n",
      "2016-09-12 11:42:03,061 - INFO - dtocean_core.core - Auto executing interface Economics\n",
      "2016-09-12 11:42:03,071 - INFO - aneris.control.data - New \"project.capex_total\" data stored with index ERQOCB\n",
      "2016-09-12 11:42:03,071 - INFO - aneris.control.data - New \"project.discounted_capex\" data stored with index K4R31I\n",
      "2016-09-12 11:42:03,071 - INFO - aneris.control.data - New \"project.capex_breakdown\" data stored with index ROQ97A\n",
      "2016-09-12 11:42:03,071 - INFO - aneris.control.simulation - Datastate with level \"mooring and foundations local output\" stored\n",
      "2016-09-12 11:42:03,081 - INFO - dtocean_core.core - Skipping interface Environmental Impact Assessment\n",
      "2016-09-12 11:42:03,091 - INFO - dtocean_core.core - Auto executing interface Economics\n",
      "2016-09-12 11:42:03,101 - INFO - aneris.control.data - New \"project.capex_total\" data stored with index QY8ZYD\n",
      "2016-09-12 11:42:03,101 - INFO - aneris.control.data - New \"project.discounted_capex\" data stored with index XWBFLD\n",
      "2016-09-12 11:42:03,101 - INFO - aneris.control.data - New \"project.capex_breakdown\" data stored with index QW80LV\n",
      "2016-09-12 11:42:03,101 - INFO - aneris.control.data - New \"project.capex_lcoe\" data stored with index N4QDKK\n",
      "2016-09-12 11:42:03,101 - INFO - aneris.control.data - New \"project.discounted_energy\" data stored with index VV4ILW\n",
      "2016-09-12 11:42:03,111 - INFO - aneris.control.data - New \"project.lcoe\" data stored with index CT18IJ\n",
      "2016-09-12 11:42:03,111 - INFO - aneris.control.simulation - Datastate with level \"mooring and foundations global output\" stored\n",
      "2016-09-12 11:42:03,121 - INFO - dtocean_core.core - Auto executing interface Environmental Impact Assessment\n",
      "2016-09-12 11:42:03,391 - INFO - aneris.control.data - New \"farm.hydro_confidence\" data stored with index YAJ4PQ\n",
      "2016-09-12 11:42:03,391 - INFO - aneris.control.data - New \"farm.hydro_eis\" data stored with index PHV9J9\n",
      "2016-09-12 11:42:03,391 - INFO - aneris.control.data - New \"farm.hydro_season\" data stored with index AIUW8W\n",
      "2016-09-12 11:42:03,391 - INFO - aneris.control.data - New \"farm.hydro_recommendation_dict\" data stored with index S5N7GU\n",
      "2016-09-12 11:42:03,391 - INFO - aneris.control.data - New \"farm.global_eis\" data stored with index SC09FM\n",
      "2016-09-12 11:42:03,391 - INFO - aneris.control.data - New \"farm.elec_confidence\" data stored with index 1OKVK0\n",
      "2016-09-12 11:42:03,391 - INFO - aneris.control.data - New \"farm.elec_eis\" data stored with index O2G3VE\n",
      "2016-09-12 11:42:03,401 - INFO - aneris.control.data - New \"farm.elec_season\" data stored with index GW7I3H\n",
      "2016-09-12 11:42:03,401 - INFO - aneris.control.data - New \"farm.elec_recommendation_dict\" data stored with index YD8WBG\n",
      "2016-09-12 11:42:03,401 - INFO - aneris.control.data - New \"farm.moor_confidence\" data stored with index J3I6M7\n",
      "2016-09-12 11:42:03,401 - INFO - aneris.control.data - New \"farm.moor_eis\" data stored with index 9RWJ93\n",
      "2016-09-12 11:42:03,401 - INFO - aneris.control.data - New \"farm.moor_season\" data stored with index 5XND9A\n",
      "2016-09-12 11:42:03,401 - INFO - aneris.control.data - New \"farm.moor_recommendation_dict\" data stored with index W2EDZ6\n",
      "2016-09-12 11:42:03,401 - INFO - aneris.control.simulation - Datastate with level \"mooring and foundations global output\" stored\n"
     ]
    }
   ],
   "source": [
    "basic_strategy = strategy_manager.get_strategy(\"Basic\")\n",
    "basic_strategy.execute(new_core, new_project)"
   ]
  },
  {
   "cell_type": "markdown",
   "metadata": {},
   "source": [
    "## Examine the Hydrodynamics results\n",
    "\n",
    "Currently, there is no robustness built into the core, so the assumption is that the modules executed successfully. This will have to be improved towards deployment of the final software.\n",
    "\n",
    "Lets see what outputs are available from the Hydrodynamics module."
   ]
  },
  {
   "cell_type": "code",
   "execution_count": 34,
   "metadata": {
    "collapsed": false
   },
   "outputs": [],
   "source": [
    "hydro_branch.inspect(new_core, new_project)"
   ]
  },
  {
   "cell_type": "code",
   "execution_count": 35,
   "metadata": {
    "collapsed": false
   },
   "outputs": [
    {
     "data": {
      "text/html": [
       "<ul><li>farm.main_direction: <b>satisfied</b></li><li>farm.mean_power_pmf_per_device: <b>satisfied</b></li><li>farm.annual_energy: <b>satisfied</b></li><li>farm.mean_power_per_device: <b>satisfied</b></li><li>farm.tidal_occurrence: <b>unavailable</b></li><li>device.external_forces: <b>satisfied</b></li><li>farm.mean_power_hist_per_device: <b>satisfied</b></li><li>farm.annual_energy_per_device: <b>satisfied</b></li><li>farm.layout: <b>satisfied</b></li><li>farm.q_factor_per_device: <b>satisfied</b></li><li>farm.q_factor: <b>satisfied</b></li><li>farm.resource_reduction: <b>satisfied</b></li><li>farm.number_of_devices: <b>satisfied</b></li><li>farm.wave_occurrence: <b>satisfied</b></li></ul>"
      ],
      "text/plain": [
       "<IPython.core.display.HTML object>"
      ]
     },
     "execution_count": 35,
     "metadata": {},
     "output_type": "execute_result"
    }
   ],
   "source": [
    "output_status = hydro_branch.get_output_status(new_core, new_project)\n",
    "message = html_dict(output_status)\n",
    "HTML(message)"
   ]
  },
  {
   "cell_type": "markdown",
   "metadata": {},
   "source": [
    "Let's check the number of devices and annual output of the farm, using just information in the data object."
   ]
  },
  {
   "cell_type": "code",
   "execution_count": 36,
   "metadata": {
    "collapsed": false,
    "scrolled": true
   },
   "outputs": [
    {
     "data": {
      "text/html": [
       "<p><b>Number of Devices:</b> 2</p><p><b>Array Annual Energy Production:</b> <i>8624.91830138</i> (MWh)</p><p><b>Mean Power Production Per Device</b> (MW):<ul><li>Device002: <b>392.108857144</b></li><li>Device001: <b>411.068411978</b></li></ul></p>"
      ],
      "text/plain": [
       "<IPython.core.display.HTML object>"
      ]
     },
     "execution_count": 36,
     "metadata": {},
     "output_type": "execute_result"
    }
   ],
   "source": [
    "n_devices = hydro_branch.get_output_variable(new_core, new_project, \"farm.number_of_devices\")\n",
    "meta_data = n_devices.get_metadata(new_core)\n",
    "name = meta_data.title\n",
    "value = n_devices.get_value(new_core, new_project)\n",
    "message_one = \"<p><b>{}:</b> {}</p>\".format(name, value)\n",
    "\n",
    "farm_annual_energy = hydro_branch.get_output_variable(new_core, new_project, \"farm.annual_energy\")\n",
    "meta_data = farm_annual_energy.get_metadata(new_core)\n",
    "name = meta_data.title\n",
    "value = farm_annual_energy.get_value(new_core, new_project)\n",
    "units = meta_data.units[0]\n",
    "message_two = \"<p><b>{}:</b> <i>{}</i> ({})</p>\".format(name, value, units)\n",
    "\n",
    "farm_device_power = hydro_branch.get_output_variable(new_core, new_project, \"farm.mean_power_per_device\")\n",
    "meta_data = farm_device_power.get_metadata(new_core)\n",
    "name = meta_data.title\n",
    "value = farm_device_power.get_value(new_core, new_project)\n",
    "units = meta_data.units[0]\n",
    "message_three = \"<p><b>{}</b> ({}):{}</p>\".format(name, units, html_dict(value))\n",
    "\n",
    "HTML(message_one + message_two + message_three)"
   ]
  },
  {
   "cell_type": "code",
   "execution_count": 37,
   "metadata": {
    "collapsed": false
   },
   "outputs": [
    {
     "data": {
      "text/plain": [
       "{'Device001': <shapely.geometry.point.Point at 0x16829128>,\n",
       " 'Device002': <shapely.geometry.point.Point at 0x16829898>}"
      ]
     },
     "execution_count": 37,
     "metadata": {},
     "output_type": "execute_result"
    }
   ],
   "source": [
    "layout = hydro_branch.get_output_variable(new_core, new_project, \"farm.layout\")\n",
    "layout.get_value(new_core, new_project)"
   ]
  },
  {
   "cell_type": "code",
   "execution_count": 38,
   "metadata": {
    "collapsed": false
   },
   "outputs": [
    {
     "data": {
      "image/png": "[encoded data removed]",
      "text/plain": [
       "<matplotlib.figure.Figure at 0xfa2fc50>"
      ]
     },
     "metadata": {},
     "output_type": "display_data"
    }
   ],
   "source": [
    "layout.plot(new_core, new_project)"
   ]
  },
  {
   "cell_type": "code",
   "execution_count": 39,
   "metadata": {
    "collapsed": false
   },
   "outputs": [
    {
     "data": {
      "image/png": "[encoded data removed]",
      "text/plain": [
       "<matplotlib.figure.Figure at 0x2256a518>"
      ]
     },
     "metadata": {},
     "output_type": "display_data"
    }
   ],
   "source": [
    "power_pmf = hydro_branch.get_output_variable(new_core, new_project, \"farm.mean_power_pmf_per_device\")\n",
    "power_pmf.plot(new_core, new_project)\n",
    "power_pmf_value = power_pmf.get_value(new_core, new_project)"
   ]
  },
  {
   "cell_type": "code",
   "execution_count": 40,
   "metadata": {
    "collapsed": false
   },
   "outputs": [
    {
     "data": {
      "image/png": "[encoded data removed]",
      "text/plain": [
       "<matplotlib.figure.Figure at 0x16829048>"
      ]
     },
     "metadata": {},
     "output_type": "display_data"
    }
   ],
   "source": [
    "power_hist = electro_branch.get_input_variable(new_core, new_project, \"farm.mean_power_hist_per_device\")\n",
    "power_hist.plot(new_core, new_project)"
   ]
  },
  {
   "cell_type": "markdown",
   "metadata": {},
   "source": [
    "## Examine the Electrical Sub-systems results\n",
    "\n",
    "Lets see what outputs are available from the modules."
   ]
  },
  {
   "cell_type": "code",
   "execution_count": 41,
   "metadata": {
    "collapsed": false
   },
   "outputs": [],
   "source": [
    "electro_branch.inspect(new_core, new_project)"
   ]
  },
  {
   "cell_type": "code",
   "execution_count": 42,
   "metadata": {
    "collapsed": false
   },
   "outputs": [
    {
     "data": {
      "text/html": [
       "<ul><li>farm.cable_routes: <b>satisfied</b></li><li>farm.substation_foundation_location: <b>satisfied</b></li><li>farm.annual_energy: <b>overwritten</b></li><li>farm.substation_layout: <b>satisfied</b></li><li>farm.electrical_economics_data: <b>satisfied</b></li><li>farm.electrical_network: <b>satisfied</b></li><li>farm.electrical_component_data: <b>satisfied</b></li><li>farm.substation_props: <b>satisfied</b></li><li>farm.umbilical_cable_data: <b>unavailable</b></li><li>farm.umbilical_seabed_connection: <b>unavailable</b></li><li>farm.substation_cog: <b>satisfied</b></li></ul>"
      ],
      "text/plain": [
       "<IPython.core.display.HTML object>"
      ]
     },
     "execution_count": 42,
     "metadata": {},
     "output_type": "execute_result"
    }
   ],
   "source": [
    "output_status = electro_branch.get_output_status(new_core, new_project)\n",
    "message = html_dict(output_status)\n",
    "HTML(message)"
   ]
  },
  {
   "cell_type": "code",
   "execution_count": 43,
   "metadata": {
    "collapsed": false
   },
   "outputs": [
    {
     "data": {
      "text/html": [
       "<p><b>Array Annual Energy Production:</b> <i>3833.94348295</i> (MWh)</p>"
      ],
      "text/plain": [
       "<IPython.core.display.HTML object>"
      ]
     },
     "execution_count": 43,
     "metadata": {},
     "output_type": "execute_result"
    }
   ],
   "source": [
    "farm_annual_energy = hydro_branch.get_output_variable(new_core, new_project, \"farm.annual_energy\")\n",
    "meta_data = farm_annual_energy.get_metadata(new_core)\n",
    "name = meta_data.title\n",
    "value = farm_annual_energy.get_value(new_core, new_project)\n",
    "units = meta_data.units[0]\n",
    "message_two = \"<p><b>{}:</b> <i>{}</i> ({})</p>\".format(name, value, units)\n",
    "\n",
    "HTML(message_two)"
   ]
  },
  {
   "cell_type": "code",
   "execution_count": 44,
   "metadata": {
    "collapsed": false
   },
   "outputs": [],
   "source": [
    "electrical_cost = electro_branch.get_output_variable(new_core, new_project,\n",
    "                                                     \"farm.electrical_economics_data\")\n",
    "                                            \n",
    "cost_data = electrical_cost.get_value(new_core, new_project)"
   ]
  },
  {
   "cell_type": "code",
   "execution_count": 45,
   "metadata": {
    "collapsed": false
   },
   "outputs": [
    {
     "data": {
      "text/html": [
       "<div>\n",
       "<table border=\"1\" class=\"dataframe\">\n",
       "  <thead>\n",
       "    <tr style=\"text-align: right;\">\n",
       "      <th></th>\n",
       "      <th>Cost</th>\n",
       "      <th>Key Identifier</th>\n",
       "      <th>Quantity</th>\n",
       "      <th>Year</th>\n",
       "    </tr>\n",
       "  </thead>\n",
       "  <tbody>\n",
       "    <tr>\n",
       "      <th>0</th>\n",
       "      <td>600.0</td>\n",
       "      <td>1.0</td>\n",
       "      <td>940.0</td>\n",
       "      <td>0</td>\n",
       "    </tr>\n",
       "    <tr>\n",
       "      <th>1</th>\n",
       "      <td>700.0</td>\n",
       "      <td>2.0</td>\n",
       "      <td>1440.0</td>\n",
       "      <td>0</td>\n",
       "    </tr>\n",
       "    <tr>\n",
       "      <th>2</th>\n",
       "      <td>150000.0</td>\n",
       "      <td>11.0</td>\n",
       "      <td>1.0</td>\n",
       "      <td>0</td>\n",
       "    </tr>\n",
       "    <tr>\n",
       "      <th>3</th>\n",
       "      <td>150000.0</td>\n",
       "      <td>5.0</td>\n",
       "      <td>2.0</td>\n",
       "      <td>0</td>\n",
       "    </tr>\n",
       "    <tr>\n",
       "      <th>4</th>\n",
       "      <td>1000000.0</td>\n",
       "      <td>NaN</td>\n",
       "      <td>1.0</td>\n",
       "      <td>0</td>\n",
       "    </tr>\n",
       "  </tbody>\n",
       "</table>\n",
       "</div>"
      ],
      "text/plain": [
       "        Cost  Key Identifier  Quantity  Year\n",
       "0      600.0             1.0     940.0     0\n",
       "1      700.0             2.0    1440.0     0\n",
       "2   150000.0            11.0       1.0     0\n",
       "3   150000.0             5.0       2.0     0\n",
       "4  1000000.0             NaN       1.0     0"
      ]
     },
     "execution_count": 45,
     "metadata": {},
     "output_type": "execute_result"
    }
   ],
   "source": [
    "cost_data"
   ]
  },
  {
   "cell_type": "code",
   "execution_count": 46,
   "metadata": {
    "collapsed": false
   },
   "outputs": [],
   "source": [
    "substations = electro_branch.get_output_variable(new_core, new_project,\n",
    "                                                 \"farm.substation_layout\")\n",
    "if substations.has_value(new_core, new_project): substations.get_value(new_core, new_project)"
   ]
  },
  {
   "cell_type": "markdown",
   "metadata": {},
   "source": [
    "## Examine the Mooring and Foundations results\n",
    "\n",
    "Lets see what outputs are available from the modules."
   ]
  },
  {
   "cell_type": "code",
   "execution_count": 47,
   "metadata": {
    "collapsed": false
   },
   "outputs": [],
   "source": [
    "moorings_branch.inspect(new_core, new_project)"
   ]
  },
  {
   "cell_type": "code",
   "execution_count": 48,
   "metadata": {
    "collapsed": false
   },
   "outputs": [
    {
     "data": {
      "text/html": [
       "<ul><li>farm.foundations_component_data: <b>satisfied</b></li><li>farm.moorings_component_data: <b>unavailable</b></li><li>farm.moorings_foundations_network: <b>satisfied</b></li><li>farm.foundations_soil_data: <b>satisfied</b></li><li>farm.moorings_foundations_economics_data: <b>satisfied</b></li><li>farm.line_data: <b>unavailable</b></li><li>farm.umbilical_cable_data: <b>unavailable</b></li><li>farm.moorings_dimensions: <b>satisfied</b></li></ul>"
      ],
      "text/plain": [
       "<IPython.core.display.HTML object>"
      ]
     },
     "execution_count": 48,
     "metadata": {},
     "output_type": "execute_result"
    }
   ],
   "source": [
    "output_status = moorings_branch.get_output_status(new_core, new_project)\n",
    "message = html_dict(output_status)\n",
    "HTML(message)"
   ]
  },
  {
   "cell_type": "markdown",
   "metadata": {},
   "source": [
    "## Examine Economics Results"
   ]
  },
  {
   "cell_type": "code",
   "execution_count": 49,
   "metadata": {
    "collapsed": false
   },
   "outputs": [
    {
     "data": {
      "text/html": [
       "<ul><li>project.lcoe: <b>satisfied</b></li><li>project.discounted_energy: <b>satisfied</b></li><li>project.capex_total: <b>satisfied</b></li><li>project.opex_total: <b>unavailable</b></li><li>project.capex_lcoe: <b>satisfied</b></li><li>project.capex_breakdown: <b>satisfied</b></li><li>project.discounted_capex: <b>satisfied</b></li><li>project.opex_lcoe: <b>unavailable</b></li><li>project.discounted_opex: <b>unavailable</b></li></ul>"
      ],
      "text/plain": [
       "<IPython.core.display.HTML object>"
      ]
     },
     "execution_count": 49,
     "metadata": {},
     "output_type": "execute_result"
    }
   ],
   "source": [
    "output_status = eco_branch.get_output_status(new_core, new_project)\n",
    "message = html_dict(output_status)\n",
    "HTML(message)"
   ]
  },
  {
   "cell_type": "code",
   "execution_count": 50,
   "metadata": {
    "collapsed": false
   },
   "outputs": [],
   "source": [
    "lcoe = eco_branch.get_output_variable(new_core, new_project, \"project.lcoe\")\n",
    "lcoe_capex = eco_branch.get_output_variable(new_core, new_project, \"project.capex_lcoe\")\n",
    "total_cost = eco_branch.get_output_variable(new_core, new_project, \"project.capex_total\")\n",
    "discount_energy = eco_branch.get_output_variable(new_core, new_project, \"project.discounted_energy\")\n",
    "cost_breakdown = eco_branch.get_output_variable(new_core, new_project, \"project.capex_breakdown\")"
   ]
  },
  {
   "cell_type": "code",
   "execution_count": 51,
   "metadata": {
    "collapsed": false
   },
   "outputs": [
    {
     "data": {
      "text/html": [
       "<p><b>Levelized Cost of Energy:</b> 14.3117081 (Euro/kWh)</p><p><b>CAPEX:</b> 5487028.0 (Euro)</p><p><b>Discounted Energy:</b> 383394.348295 (kWh)</p>"
      ],
      "text/plain": [
       "<IPython.core.display.HTML object>"
      ]
     },
     "execution_count": 51,
     "metadata": {},
     "output_type": "execute_result"
    }
   ],
   "source": [
    "message_lcoe = html_variable(new_core, new_project, lcoe)\n",
    "message_cost = html_variable(new_core, new_project, total_cost)\n",
    "message_energy = html_variable(new_core, new_project, discount_energy)\n",
    "message = \"<p>{}</p><p>{}</p><p>{}</p>\".format(message_lcoe, message_cost, message_energy)\n",
    "HTML(message)"
   ]
  },
  {
   "cell_type": "markdown",
   "metadata": {},
   "source": [
    "## Plot the balance of CAPEX costs"
   ]
  },
  {
   "cell_type": "code",
   "execution_count": 52,
   "metadata": {
    "collapsed": false
   },
   "outputs": [
    {
     "data": {
      "image/png": "[encoded data removed]",
      "text/plain": [
       "<matplotlib.figure.Figure at 0x2b049518>"
      ]
     },
     "metadata": {},
     "output_type": "display_data"
    }
   ],
   "source": [
    "# The slices will be ordered and plotted counter-clockwise.\n",
    "cost_data = cost_breakdown.get_value(new_core, new_project)\n",
    "labels = cost_data.keys()\n",
    "sizes = cost_data.values()\n",
    "metadata = cost_breakdown.get_metadata(new_core)\n",
    "colors = ['lightblue', 'hotpink']\n",
    "\n",
    "plt.pie(sizes, labels=labels,\n",
    "        autopct='%1.1f%%', shadow=True, startangle=90)\n",
    "# Set aspect ratio to be equal so that pie is drawn as a circle.\n",
    "plt.axis('equal')\n",
    "plt.title(metadata.title)\n",
    "\n",
    "plt.show()\n",
    "\n",
    "# HTML in matplotlib?"
   ]
  },
  {
   "cell_type": "code",
   "execution_count": 53,
   "metadata": {
    "collapsed": false
   },
   "outputs": [
    {
     "data": {
      "text/html": [
       "<ul><li>Electrical Sub Systems: <b>3022000.0</b></li><li>Devices: <b>2000000.0</b></li><li>Mooring and Foundations: <b>465028.0</b></li></ul>"
      ],
      "text/plain": [
       "<IPython.core.display.HTML object>"
      ]
     },
     "execution_count": 53,
     "metadata": {},
     "output_type": "execute_result"
    }
   ],
   "source": [
    "msg = html_dict(cost_data)\n",
    "HTML(msg)"
   ]
  },
  {
   "cell_type": "markdown",
   "metadata": {},
   "source": [
    "## Examine Economics Results"
   ]
  },
  {
   "cell_type": "code",
   "execution_count": 54,
   "metadata": {
    "collapsed": false
   },
   "outputs": [
    {
     "data": {
      "text/html": [
       "<ul><li>farm.elec_confidence: <b>satisfied</b></li><li>farm.global_eis: <b>satisfied</b></li><li>farm.hydro_season: <b>satisfied</b></li><li>farm.moor_eis: <b>satisfied</b></li><li>farm.hydro_recommendation_dict: <b>satisfied</b></li><li>farm.elec_eis: <b>satisfied</b></li><li>farm.hydro_eis: <b>satisfied</b></li><li>farm.elec_recommendation_dict: <b>satisfied</b></li><li>farm.moor_recommendation_dict: <b>satisfied</b></li><li>farm.elec_season: <b>satisfied</b></li><li>farm.moor_confidence: <b>satisfied</b></li><li>farm.hydro_confidence: <b>satisfied</b></li><li>farm.moor_season: <b>satisfied</b></li></ul>"
      ],
      "text/plain": [
       "<IPython.core.display.HTML object>"
      ]
     },
     "execution_count": 54,
     "metadata": {},
     "output_type": "execute_result"
    }
   ],
   "source": [
    "output_status = env_branch.get_output_status(new_core, new_project)\n",
    "message = html_dict(output_status)\n",
    "HTML(message)"
   ]
  },
  {
   "cell_type": "code",
   "execution_count": 55,
   "metadata": {
    "collapsed": false
   },
   "outputs": [
    {
     "data": {
      "text/html": [
       "<div>\n",
       "<table border=\"1\" class=\"dataframe\">\n",
       "  <thead>\n",
       "    <tr style=\"text-align: right;\">\n",
       "      <th></th>\n",
       "      <th>January</th>\n",
       "      <th>February</th>\n",
       "      <th>March</th>\n",
       "      <th>April</th>\n",
       "      <th>May</th>\n",
       "      <th>June</th>\n",
       "      <th>July</th>\n",
       "      <th>August</th>\n",
       "      <th>September</th>\n",
       "      <th>October</th>\n",
       "      <th>November</th>\n",
       "      <th>December</th>\n",
       "    </tr>\n",
       "  </thead>\n",
       "  <tbody>\n",
       "    <tr>\n",
       "      <th>Resting Place</th>\n",
       "      <td>10.000518</td>\n",
       "      <td>10.000518</td>\n",
       "      <td>10.000518</td>\n",
       "      <td>10.000518</td>\n",
       "      <td>10.000518</td>\n",
       "      <td>10.000518</td>\n",
       "      <td>10.000518</td>\n",
       "      <td>10.000518</td>\n",
       "      <td>10.000518</td>\n",
       "      <td>10.000518</td>\n",
       "      <td>10.000518</td>\n",
       "      <td>10.000518</td>\n",
       "    </tr>\n",
       "    <tr>\n",
       "      <th>Collision Risk</th>\n",
       "      <td>-76.121896</td>\n",
       "      <td>-76.121896</td>\n",
       "      <td>-76.121896</td>\n",
       "      <td>-76.121896</td>\n",
       "      <td>-76.121896</td>\n",
       "      <td>-76.121896</td>\n",
       "      <td>-76.121896</td>\n",
       "      <td>-76.121896</td>\n",
       "      <td>-76.121896</td>\n",
       "      <td>-76.121896</td>\n",
       "      <td>-76.121896</td>\n",
       "      <td>-76.121896</td>\n",
       "    </tr>\n",
       "    <tr>\n",
       "      <th>Turbidity</th>\n",
       "      <td>-74.000000</td>\n",
       "      <td>-74.000000</td>\n",
       "      <td>-74.000000</td>\n",
       "      <td>-74.000000</td>\n",
       "      <td>-74.000000</td>\n",
       "      <td>-74.000000</td>\n",
       "      <td>-74.000000</td>\n",
       "      <td>-74.000000</td>\n",
       "      <td>-74.000000</td>\n",
       "      <td>-74.000000</td>\n",
       "      <td>-74.000000</td>\n",
       "      <td>-74.000000</td>\n",
       "    </tr>\n",
       "    <tr>\n",
       "      <th>Reserve Effect</th>\n",
       "      <td>10.000288</td>\n",
       "      <td>10.000288</td>\n",
       "      <td>10.000288</td>\n",
       "      <td>10.000288</td>\n",
       "      <td>10.000288</td>\n",
       "      <td>10.000288</td>\n",
       "      <td>10.000288</td>\n",
       "      <td>10.000288</td>\n",
       "      <td>10.000288</td>\n",
       "      <td>10.000288</td>\n",
       "      <td>10.000288</td>\n",
       "      <td>10.000288</td>\n",
       "    </tr>\n",
       "    <tr>\n",
       "      <th>Reef Effect</th>\n",
       "      <td>10.026266</td>\n",
       "      <td>10.026266</td>\n",
       "      <td>10.026266</td>\n",
       "      <td>10.026266</td>\n",
       "      <td>10.026266</td>\n",
       "      <td>10.026266</td>\n",
       "      <td>10.026266</td>\n",
       "      <td>10.026266</td>\n",
       "      <td>10.026266</td>\n",
       "      <td>10.026266</td>\n",
       "      <td>10.026266</td>\n",
       "      <td>10.026266</td>\n",
       "    </tr>\n",
       "  </tbody>\n",
       "</table>\n",
       "</div>"
      ],
      "text/plain": [
       "                  January   February      March      April        May  \\\n",
       "Resting Place   10.000518  10.000518  10.000518  10.000518  10.000518   \n",
       "Collision Risk -76.121896 -76.121896 -76.121896 -76.121896 -76.121896   \n",
       "Turbidity      -74.000000 -74.000000 -74.000000 -74.000000 -74.000000   \n",
       "Reserve Effect  10.000288  10.000288  10.000288  10.000288  10.000288   \n",
       "Reef Effect     10.026266  10.026266  10.026266  10.026266  10.026266   \n",
       "\n",
       "                     June       July     August  September    October  \\\n",
       "Resting Place   10.000518  10.000518  10.000518  10.000518  10.000518   \n",
       "Collision Risk -76.121896 -76.121896 -76.121896 -76.121896 -76.121896   \n",
       "Turbidity      -74.000000 -74.000000 -74.000000 -74.000000 -74.000000   \n",
       "Reserve Effect  10.000288  10.000288  10.000288  10.000288  10.000288   \n",
       "Reef Effect     10.026266  10.026266  10.026266  10.026266  10.026266   \n",
       "\n",
       "                 November   December  \n",
       "Resting Place   10.000518  10.000518  \n",
       "Collision Risk -76.121896 -76.121896  \n",
       "Turbidity      -74.000000 -74.000000  \n",
       "Reserve Effect  10.000288  10.000288  \n",
       "Reef Effect     10.026266  10.026266  "
      ]
     },
     "execution_count": 55,
     "metadata": {},
     "output_type": "execute_result"
    }
   ],
   "source": [
    "hydro_season = env_branch.get_output_variable(new_core, new_project, \"farm.hydro_season\")\n",
    "hydro_season.get_value(new_core,new_project)"
   ]
  },
  {
   "cell_type": "code",
   "execution_count": 56,
   "metadata": {
    "collapsed": false
   },
   "outputs": [
    {
     "data": {
      "text/plain": [
       "{'Collision Risk': 3,\n",
       " 'Electric Fields': 2,\n",
       " 'Footprint': 2,\n",
       " 'Magnetic Fields': 2,\n",
       " 'Reef Effect': 3,\n",
       " 'Reserve Effect': 3,\n",
       " 'Resting Place': 3,\n",
       " 'Temperature Modification': 2,\n",
       " 'Underwater Noise': 2}"
      ]
     },
     "execution_count": 56,
     "metadata": {},
     "output_type": "execute_result"
    }
   ],
   "source": [
    "elec_confidence = env_branch.get_output_variable(new_core, new_project, \"farm.elec_confidence\")\n",
    "elec_confidence.get_value(new_core,new_project)"
   ]
  },
  {
   "cell_type": "code",
   "execution_count": null,
   "metadata": {
    "collapsed": true
   },
   "outputs": [],
   "source": []
  }
 ],
 "metadata": {
  "kernelspec": {
   "display_name": "Python 2",
   "language": "python",
   "name": "python2"
  },
  "language_info": {
   "codemirror_mode": {
    "name": "ipython",
    "version": 2
   },
   "file_extension": ".py",
   "mimetype": "text/x-python",
   "name": "python",
   "nbconvert_exporter": "python",
   "pygments_lexer": "ipython2",
   "version": "2.7.12"
  }
 },
 "nbformat": 4,
 "nbformat_minor": 0
}
