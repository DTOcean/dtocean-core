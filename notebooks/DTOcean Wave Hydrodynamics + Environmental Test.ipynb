{
 "cells": [
  {
   "cell_type": "markdown",
   "metadata": {},
   "source": [
    "# DTOcean Wave Hydrodynamics + Environmental Impact Test"
   ]
  },
  {
   "cell_type": "code",
   "execution_count": 1,
   "metadata": {
    "collapsed": true
   },
   "outputs": [],
   "source": [
    "%matplotlib inline"
   ]
  },
  {
   "cell_type": "code",
   "execution_count": 2,
   "metadata": {
    "collapsed": true
   },
   "outputs": [],
   "source": [
    "from IPython.display import display, HTML"
   ]
  },
  {
   "cell_type": "code",
   "execution_count": 3,
   "metadata": {
    "collapsed": false
   },
   "outputs": [],
   "source": [
    "import matplotlib.pyplot as plt\n",
    "plt.rcParams['figure.figsize'] = (14.0, 8.0)"
   ]
  },
  {
   "cell_type": "code",
   "execution_count": 4,
   "metadata": {
    "collapsed": true
   },
   "outputs": [],
   "source": [
    "import numpy as np"
   ]
  },
  {
   "cell_type": "code",
   "execution_count": 5,
   "metadata": {
    "collapsed": true
   },
   "outputs": [],
   "source": [
    "from dtocean_core import start_logging\n",
    "from dtocean_core.core import Core\n",
    "from dtocean_core.menu import ModuleMenu, ProjectMenu, ThemeMenu\n",
    "from dtocean_core.pipeline import Tree"
   ]
  },
  {
   "cell_type": "code",
   "execution_count": 6,
   "metadata": {
    "collapsed": true
   },
   "outputs": [],
   "source": [
    "def html_list(x):\n",
    "    message = \"<ul>\"\n",
    "    for name in x:\n",
    "        message += \"<li>{}</li>\".format(name)\n",
    "    message += \"</ul>\"\n",
    "    return message\n",
    "def html_dict(x):\n",
    "    message = \"<ul>\"\n",
    "    for name, status in x.iteritems():\n",
    "        message += \"<li>{}: <b>{}</b></li>\".format(name, status)\n",
    "    message += \"</ul>\"\n",
    "    return message"
   ]
  },
  {
   "cell_type": "code",
   "execution_count": 7,
   "metadata": {
    "collapsed": false
   },
   "outputs": [
    {
     "name": "stdout",
     "output_type": "stream",
     "text": [
      "2016-09-06 13:33:26,835 - INFO - dtocean_core - Begin logging for dtocean_core.\n"
     ]
    }
   ],
   "source": [
    "# Bring up the logger\n",
    "start_logging()"
   ]
  },
  {
   "cell_type": "markdown",
   "metadata": {},
   "source": [
    "## Create the core, menus and pipeline tree\n",
    "\n",
    "The core object carrys all the system information and is operated on by the other classes"
   ]
  },
  {
   "cell_type": "code",
   "execution_count": 8,
   "metadata": {
    "collapsed": false
   },
   "outputs": [
    {
     "name": "stdout",
     "output_type": "stream",
     "text": [
      "2016-09-06 13:33:29,604 - DEBUG - aneris.control.data - Searching for Structure classes\n",
      "2016-09-06 13:33:29,812 - DEBUG - aneris.control.sockets - Searching for ProjectInterface classes\n",
      "2016-09-06 13:33:29,920 - DEBUG - aneris.control.sockets - Searching for ModuleInterface classes\n",
      "2016-09-06 13:33:30,846 - DEBUG - aneris.control.sockets - Searching for ThemeInterface classes\n",
      "2016-09-06 13:33:30,897 - DEBUG - aneris.control.sockets - Searching for FileInterface classes\n",
      "2016-09-06 13:33:30,898 - DEBUG - aneris.control.sockets - Searching for QueryInterface classes\n",
      "2016-09-06 13:33:30,901 - DEBUG - aneris.control.sockets - Searching for LeaseInterface classes\n",
      "2016-09-06 13:33:30,905 - DEBUG - aneris.control.sockets - Searching for RawInterface classes\n",
      "2016-09-06 13:33:30,907 - DEBUG - aneris.control.sockets - Searching for PlotInterface classes\n"
     ]
    }
   ],
   "source": [
    "new_core = Core()\n",
    "project_menu = ProjectMenu()\n",
    "module_menu = ModuleMenu()\n",
    "theme_menu = ThemeMenu()\n",
    "pipe_tree = Tree()"
   ]
  },
  {
   "cell_type": "markdown",
   "metadata": {},
   "source": [
    "## Create a new project"
   ]
  },
  {
   "cell_type": "code",
   "execution_count": 9,
   "metadata": {
    "collapsed": false
   },
   "outputs": [
    {
     "name": "stdout",
     "output_type": "stream",
     "text": [
      "2016-09-06 13:33:31,091 - INFO - aneris.entity.simulation - Created new Simulation with title \"Default\"\n",
      "2016-09-06 13:33:31,092 - DEBUG - aneris.control.data - DataState with level \"initial\" created\n",
      "2016-09-06 13:33:31,094 - INFO - aneris.control.simulation - Datastate with level \"initial\" stored\n",
      "2016-09-06 13:33:31,098 - DEBUG - aneris.control.simulation - Merging active DataStates.\n",
      "2016-09-06 13:33:31,099 - INFO - aneris.control.pipeline - New Hub created for interface ProjectInterface.\n",
      "2016-09-06 13:33:31,101 - DEBUG - aneris.control.simulation - Getting output status for interface \"System Type Selection\".\n",
      "2016-09-06 13:33:31,101 - DEBUG - aneris.control.simulation - Getting input status for interface \"System Type Selection\".\n"
     ]
    }
   ],
   "source": [
    "project_title = \"DTOcean\"  \n",
    "new_project = project_menu.new_project(new_core, project_title)"
   ]
  },
  {
   "cell_type": "markdown",
   "metadata": {},
   "source": [
    "## Set the device type"
   ]
  },
  {
   "cell_type": "code",
   "execution_count": 10,
   "metadata": {
    "collapsed": false
   },
   "outputs": [
    {
     "name": "stdout",
     "output_type": "stream",
     "text": [
      "2016-09-06 13:33:31,115 - DEBUG - aneris.control.data - DataState created\n",
      "2016-09-06 13:33:31,118 - INFO - aneris.control.data - New \"device.system_type\" data stored with index 8P31D2\n",
      "2016-09-06 13:33:31,118 - INFO - aneris.control.simulation - Datastate stored\n",
      "2016-09-06 13:33:31,119 - DEBUG - aneris.control.simulation - Merging active DataStates.\n",
      "2016-09-06 13:33:31,119 - DEBUG - aneris.control.simulation - Getting output status for interface \"System Type Selection\".\n",
      "2016-09-06 13:33:31,121 - DEBUG - aneris.control.simulation - Getting input status for interface \"System Type Selection\".\n"
     ]
    }
   ],
   "source": [
    "options_branch = pipe_tree.get_branch(new_core, new_project, \"System Type Selection\")\n",
    "variable_id = \"device.system_type\"\n",
    "my_var = options_branch.get_input_variable(new_core, new_project, variable_id)\n",
    "my_var.set_raw_interface(new_core, \"Wave Floating\")\n",
    "my_var.read(new_core, new_project)"
   ]
  },
  {
   "cell_type": "markdown",
   "metadata": {},
   "source": [
    "## Initiate the pipeline\n",
    "This step will be important when the database is incorporated into the system as it will effect the operation of the pipeline."
   ]
  },
  {
   "cell_type": "code",
   "execution_count": 11,
   "metadata": {
    "collapsed": false
   },
   "outputs": [
    {
     "name": "stdout",
     "output_type": "stream",
     "text": [
      "2016-09-06 13:33:31,128 - DEBUG - aneris.control.data - DataState with level \"system type selection start\" created\n",
      "2016-09-06 13:33:31,131 - INFO - aneris.control.simulation - Datastate with level \"system type selection start\" stored\n",
      "2016-09-06 13:33:31,132 - DEBUG - aneris.control.simulation - Merging active DataStates.\n",
      "2016-09-06 13:33:31,135 - DEBUG - aneris.control.simulation - Retrieving data with identity \"device.system_type\".\n",
      "2016-09-06 13:33:31,138 - DEBUG - aneris.control.data - DataState with level \"system type selection output\" created\n",
      "2016-09-06 13:33:31,141 - INFO - aneris.control.data - New \"hidden.pipeline_active\" data stored with index KJTYSV\n",
      "2016-09-06 13:33:31,141 - INFO - aneris.control.simulation - Datastate with level \"system type selection output\" stored\n",
      "2016-09-06 13:33:31,144 - DEBUG - aneris.control.simulation - Merging active DataStates.\n",
      "2016-09-06 13:33:31,144 - DEBUG - aneris.control.simulation - Getting output status for interface \"System Type Selection\".\n",
      "2016-09-06 13:33:31,147 - DEBUG - aneris.control.simulation - Getting input status for interface \"System Type Selection\".\n",
      "2016-09-06 13:33:31,150 - INFO - aneris.control.pipeline - New Pipeline created for interface ModuleInterface.\n",
      "2016-09-06 13:33:31,151 - INFO - aneris.control.pipeline - New Hub created for interface ThemeInterface.\n"
     ]
    }
   ],
   "source": [
    "project_menu.initiate_pipeline(new_core, new_project)"
   ]
  },
  {
   "cell_type": "markdown",
   "metadata": {},
   "source": [
    "## Discover available modules and themes"
   ]
  },
  {
   "cell_type": "code",
   "execution_count": 12,
   "metadata": {
    "collapsed": false
   },
   "outputs": [
    {
     "data": {
      "text/html": [
       "<ul><li>Hydrodynamics</li><li>Electrical Sub Systems</li><li>Mooring and Foundations</li></ul>"
      ],
      "text/plain": [
       "<IPython.core.display.HTML object>"
      ]
     },
     "execution_count": 12,
     "metadata": {},
     "output_type": "execute_result"
    }
   ],
   "source": [
    "names_modules = module_menu.get_available(new_core, new_project)\n",
    "message1 = html_list(names_modules)\n",
    "HTML(message1)"
   ]
  },
  {
   "cell_type": "code",
   "execution_count": 13,
   "metadata": {
    "collapsed": false
   },
   "outputs": [
    {
     "data": {
      "text/html": [
       "<ul><li>Reliability</li><li>Economics</li><li>Environmental Impact Assessment</li></ul>"
      ],
      "text/plain": [
       "<IPython.core.display.HTML object>"
      ]
     },
     "execution_count": 13,
     "metadata": {},
     "output_type": "execute_result"
    }
   ],
   "source": [
    "names_themes = theme_menu.get_available(new_core, new_project)\n",
    "message2= html_list(names_themes)\n",
    "HTML(message2)"
   ]
  },
  {
   "cell_type": "markdown",
   "metadata": {},
   "source": [
    "## Activate a module and a Theme\n",
    "\n",
    "Note that the order of activation is important and that we can't deactivate yet!"
   ]
  },
  {
   "cell_type": "code",
   "execution_count": 14,
   "metadata": {
    "collapsed": false
   },
   "outputs": [
    {
     "name": "stdout",
     "output_type": "stream",
     "text": [
      "2016-09-06 13:33:31,211 - DEBUG - aneris.control.simulation - Getting output status for interface \"System Type Selection\".\n",
      "2016-09-06 13:33:31,213 - DEBUG - aneris.control.simulation - Getting output status for interface \"Hydrodynamics\".\n",
      "2016-09-06 13:33:31,213 - DEBUG - aneris.control.simulation - Getting input status for interface \"System Type Selection\".\n",
      "2016-09-06 13:33:31,214 - DEBUG - aneris.control.simulation - Getting input status for interface \"Hydrodynamics\".\n",
      "2016-09-06 13:33:31,217 - DEBUG - aneris.control.simulation - Checking mask status for input \"device.bidirection\".\n",
      "2016-09-06 13:33:31,217 - DEBUG - aneris.control.simulation - Retrieving data with identity \"device.system_type\".\n",
      "2016-09-06 13:33:31,219 - DEBUG - aneris.control.simulation - Checking mask status for input \"device.cut_in_velocity\".\n",
      "2016-09-06 13:33:31,220 - DEBUG - aneris.control.simulation - Retrieving data with identity \"device.system_type\".\n",
      "2016-09-06 13:33:31,220 - DEBUG - aneris.control.simulation - Checking mask status for input \"device.cut_out_velocity\".\n",
      "2016-09-06 13:33:31,221 - DEBUG - aneris.control.simulation - Retrieving data with identity \"device.system_type\".\n",
      "2016-09-06 13:33:31,223 - DEBUG - aneris.control.simulation - Checking mask status for input \"device.turbine_diameter\".\n",
      "2016-09-06 13:33:31,224 - DEBUG - aneris.control.simulation - Retrieving data with identity \"device.system_type\".\n",
      "2016-09-06 13:33:31,226 - DEBUG - aneris.control.simulation - Checking mask status for input \"device.turbine_interdistance\".\n",
      "2016-09-06 13:33:31,227 - DEBUG - aneris.control.simulation - Retrieving data with identity \"device.system_type\".\n",
      "2016-09-06 13:33:31,229 - DEBUG - aneris.control.simulation - Checking mask status for input \"device.turbine_performance\".\n",
      "2016-09-06 13:33:31,230 - DEBUG - aneris.control.simulation - Retrieving data with identity \"device.system_type\".\n",
      "2016-09-06 13:33:31,230 - DEBUG - aneris.control.simulation - Checking mask status for input \"device.wave_data_directory\".\n",
      "2016-09-06 13:33:31,230 - DEBUG - aneris.control.simulation - Retrieving data with identity \"device.system_type\".\n",
      "2016-09-06 13:33:31,233 - DEBUG - aneris.control.simulation - Checking mask status for input \"farm.point_sea_surface_height\".\n",
      "2016-09-06 13:33:31,233 - DEBUG - aneris.control.simulation - Retrieving data with identity \"device.system_type\".\n",
      "2016-09-06 13:33:31,234 - DEBUG - aneris.control.simulation - Checking mask status for input \"farm.spectrum_name\".\n",
      "2016-09-06 13:33:31,236 - DEBUG - aneris.control.simulation - Retrieving data with identity \"device.system_type\".\n",
      "2016-09-06 13:33:31,236 - DEBUG - aneris.control.simulation - Checking mask status for input \"farm.spec_gamma\".\n",
      "2016-09-06 13:33:31,237 - DEBUG - aneris.control.simulation - Retrieving data with identity \"device.system_type\".\n",
      "2016-09-06 13:33:31,239 - DEBUG - aneris.control.simulation - Checking mask status for input \"farm.spec_spread\".\n",
      "2016-09-06 13:33:31,240 - DEBUG - aneris.control.simulation - Retrieving data with identity \"device.system_type\".\n",
      "2016-09-06 13:33:31,242 - DEBUG - aneris.control.simulation - Checking mask status for input \"farm.tidal_occurrence_nbins\".\n",
      "2016-09-06 13:33:31,243 - DEBUG - aneris.control.simulation - Retrieving data with identity \"device.system_type\".\n",
      "2016-09-06 13:33:31,243 - DEBUG - aneris.control.simulation - Checking mask status for input \"farm.tidal_occurrence_point\".\n",
      "2016-09-06 13:33:31,243 - DEBUG - aneris.control.simulation - Retrieving data with identity \"device.system_type\".\n",
      "2016-09-06 13:33:31,244 - DEBUG - aneris.control.simulation - Checking mask status for input \"farm.tidal_series\".\n",
      "2016-09-06 13:33:31,246 - DEBUG - aneris.control.simulation - Retrieving data with identity \"device.system_type\".\n",
      "2016-09-06 13:33:31,246 - DEBUG - aneris.control.simulation - Checking mask status for input \"farm.wave_series\".\n",
      "2016-09-06 13:33:31,247 - DEBUG - aneris.control.simulation - Retrieving data with identity \"device.system_type\".\n",
      "2016-09-06 13:33:31,249 - DEBUG - aneris.control.simulation - Checking mask status for input \"options.tidal_data_directory\".\n",
      "2016-09-06 13:33:31,250 - DEBUG - aneris.control.simulation - Retrieving data with identity \"device.system_type\".\n",
      "2016-09-06 13:33:31,252 - DEBUG - aneris.control.simulation - Getting output status for interface \"System Type Selection\".\n",
      "2016-09-06 13:33:31,253 - DEBUG - aneris.control.simulation - Getting output status for interface \"Hydrodynamics\".\n",
      "2016-09-06 13:33:31,255 - DEBUG - aneris.control.simulation - Getting output status for interface \"Environmental Impact Assessment\".\n",
      "2016-09-06 13:33:31,256 - DEBUG - aneris.control.simulation - Getting input status for interface \"System Type Selection\".\n",
      "2016-09-06 13:33:31,257 - DEBUG - aneris.control.simulation - Getting input status for interface \"Hydrodynamics\".\n",
      "2016-09-06 13:33:31,259 - DEBUG - aneris.control.simulation - Checking mask status for input \"device.bidirection\".\n",
      "2016-09-06 13:33:31,259 - DEBUG - aneris.control.simulation - Retrieving data with identity \"device.system_type\".\n",
      "2016-09-06 13:33:31,259 - DEBUG - aneris.control.simulation - Checking mask status for input \"device.cut_in_velocity\".\n",
      "2016-09-06 13:33:31,260 - DEBUG - aneris.control.simulation - Retrieving data with identity \"device.system_type\".\n",
      "2016-09-06 13:33:31,260 - DEBUG - aneris.control.simulation - Checking mask status for input \"device.cut_out_velocity\".\n",
      "2016-09-06 13:33:31,262 - DEBUG - aneris.control.simulation - Retrieving data with identity \"device.system_type\".\n",
      "2016-09-06 13:33:31,263 - DEBUG - aneris.control.simulation - Checking mask status for input \"device.turbine_diameter\".\n",
      "2016-09-06 13:33:31,263 - DEBUG - aneris.control.simulation - Retrieving data with identity \"device.system_type\".\n",
      "2016-09-06 13:33:31,263 - DEBUG - aneris.control.simulation - Checking mask status for input \"device.turbine_interdistance\".\n",
      "2016-09-06 13:33:31,265 - DEBUG - aneris.control.simulation - Retrieving data with identity \"device.system_type\".\n",
      "2016-09-06 13:33:31,266 - DEBUG - aneris.control.simulation - Checking mask status for input \"device.turbine_performance\".\n",
      "2016-09-06 13:33:31,266 - DEBUG - aneris.control.simulation - Retrieving data with identity \"device.system_type\".\n",
      "2016-09-06 13:33:31,267 - DEBUG - aneris.control.simulation - Checking mask status for input \"device.wave_data_directory\".\n",
      "2016-09-06 13:33:31,267 - DEBUG - aneris.control.simulation - Retrieving data with identity \"device.system_type\".\n",
      "2016-09-06 13:33:31,269 - DEBUG - aneris.control.simulation - Checking mask status for input \"farm.point_sea_surface_height\".\n",
      "2016-09-06 13:33:31,269 - DEBUG - aneris.control.simulation - Retrieving data with identity \"device.system_type\".\n",
      "2016-09-06 13:33:31,270 - DEBUG - aneris.control.simulation - Checking mask status for input \"farm.spectrum_name\".\n",
      "2016-09-06 13:33:31,270 - DEBUG - aneris.control.simulation - Retrieving data with identity \"device.system_type\".\n",
      "2016-09-06 13:33:31,272 - DEBUG - aneris.control.simulation - Checking mask status for input \"farm.spec_gamma\".\n",
      "2016-09-06 13:33:31,273 - DEBUG - aneris.control.simulation - Retrieving data with identity \"device.system_type\".\n",
      "2016-09-06 13:33:31,273 - DEBUG - aneris.control.simulation - Checking mask status for input \"farm.spec_spread\".\n",
      "2016-09-06 13:33:31,273 - DEBUG - aneris.control.simulation - Retrieving data with identity \"device.system_type\".\n",
      "2016-09-06 13:33:31,275 - DEBUG - aneris.control.simulation - Checking mask status for input \"farm.tidal_occurrence_nbins\".\n",
      "2016-09-06 13:33:31,275 - DEBUG - aneris.control.simulation - Retrieving data with identity \"device.system_type\".\n",
      "2016-09-06 13:33:31,276 - DEBUG - aneris.control.simulation - Checking mask status for input \"farm.tidal_occurrence_point\".\n",
      "2016-09-06 13:33:31,276 - DEBUG - aneris.control.simulation - Retrieving data with identity \"device.system_type\".\n",
      "2016-09-06 13:33:31,278 - DEBUG - aneris.control.simulation - Checking mask status for input \"farm.tidal_series\".\n",
      "2016-09-06 13:33:31,279 - DEBUG - aneris.control.simulation - Retrieving data with identity \"device.system_type\".\n",
      "2016-09-06 13:33:31,279 - DEBUG - aneris.control.simulation - Checking mask status for input \"farm.wave_series\".\n",
      "2016-09-06 13:33:31,280 - DEBUG - aneris.control.simulation - Retrieving data with identity \"device.system_type\".\n",
      "2016-09-06 13:33:31,282 - DEBUG - aneris.control.simulation - Checking mask status for input \"options.tidal_data_directory\".\n",
      "2016-09-06 13:33:31,282 - DEBUG - aneris.control.simulation - Retrieving data with identity \"device.system_type\".\n",
      "2016-09-06 13:33:31,283 - DEBUG - aneris.control.simulation - Getting input status for interface \"Environmental Impact Assessment\".\n"
     ]
    }
   ],
   "source": [
    "module_name = 'Hydrodynamics'\n",
    "module_menu.activate(new_core, new_project, module_name)\n",
    "theme_name = 'Environmental Impact Assessment'\n",
    "theme_menu.activate(new_core, new_project, theme_name)"
   ]
  },
  {
   "cell_type": "markdown",
   "metadata": {},
   "source": [
    "## Check the status of the module and theme inputs"
   ]
  },
  {
   "cell_type": "code",
   "execution_count": 15,
   "metadata": {
    "collapsed": false
   },
   "outputs": [
    {
     "data": {
      "text/html": [
       "<ul><li>options.user_array_option: <b>required</b></li><li>device.power_rating: <b>required</b></li><li>farm.wave_series: <b>required</b></li><li>farm.nogo_areas: <b>optional</b></li><li>farm.point_sea_surface_height: <b>required</b></li><li>farm.spectrum_name: <b>required</b></li><li>farm.spec_spread: <b>required</b></li><li>device.installation_depth_max: <b>required</b></li><li>farm.power_law_exponent: <b>required</b></li><li>device.yaw: <b>required</b></li><li>device.system_type: <b>satisfied</b></li><li>device.coordinate_system: <b>required</b></li><li>corridor.landing_point: <b>required</b></li><li>farm.blockage_ratio: <b>required</b></li><li>farm.main_direction: <b>optional</b></li><li>bathymetry.layers: <b>required</b></li><li>options.power_bin_width: <b>optional</b></li><li>farm.spec_gamma: <b>required</b></li><li>device.minimum_distance_x: <b>required</b></li><li>device.minimum_distance_y: <b>required</b></li><li>farm.mannings: <b>required</b></li><li>device.installation_depth_min: <b>required</b></li><li>device.wave_data_directory: <b>required</b></li><li>options.user_array_layout: <b>optional</b></li><li>farm.rated_power: <b>required</b></li><li>site.lease_boundary: <b>required</b></li><li>options.optimisation_threshold: <b>required</b></li></ul>"
      ],
      "text/plain": [
       "<IPython.core.display.HTML object>"
      ]
     },
     "execution_count": 15,
     "metadata": {},
     "output_type": "execute_result"
    }
   ],
   "source": [
    "hydro_branch = pipe_tree.get_branch(new_core, new_project, 'Hydrodynamics')\n",
    "input_status = hydro_branch.get_input_status(new_core, new_project)\n",
    "message = html_dict(input_status)\n",
    "HTML(message)"
   ]
  },
  {
   "cell_type": "code",
   "execution_count": 16,
   "metadata": {
    "collapsed": false
   },
   "outputs": [
    {
     "data": {
      "text/html": [
       "<ul><li>farm.hydro_measured_turbidity: <b>optional</b></li><li>farm.elec_measured_magnetic_field: <b>optional</b></li><li>farm.elec_footprint_weight: <b>optional</b></li><li>farm.elec_measured_noise: <b>optional</b></li><li>device.system_height: <b>optional</b></li><li>farm.substation_props: <b>optional</b></li><li>farm.initial_magnetic_field: <b>optional</b></li><li>farm.hydro_turbidity_risk_weight: <b>optional</b></li><li>farm.direction_of_max_surface_current: <b>optional</b></li><li>farm.elec_magnetic_field_weight: <b>optional</b></li><li>farm.hydro_reserve_effect_weight: <b>optional</b></li><li>farm.hydro_measured_noise: <b>optional</b></li><li>farm.moor_footprint_weight: <b>optional</b></li><li>farm.substation_layout: <b>optional</b></li><li>farm.moor_measured_noise: <b>optional</b></li><li>farm.layout: <b>unavailable</b></li><li>farm.protected_table: <b>required</b></li><li>farm.fishery_restricted_area: <b>optional</b></li><li>farm.hydro_underwater_noise_risk_weight: <b>optional</b></li><li>farm.moor_reef_effect_weight: <b>optional</b></li><li>farm.resource_reduction: <b>unavailable</b></li><li>farm.elec_measured_elec_field: <b>optional</b></li><li>site.lease_boundary: <b>optional</b></li><li>farm.elec_elec_field_weight: <b>optional</b></li><li>farm.elec_collision_risk_weight: <b>optional</b></li><li>device.dry_frontal_area: <b>optional</b></li><li>farm.elec_reserve_effect_weight: <b>optional</b></li><li>farm.hydro_collision_risk_weight: <b>optional</b></li><li>farm.initial_noise: <b>optional</b></li><li>device.system_draft: <b>optional</b></li><li>farm.receptors_table: <b>required</b></li><li>device.system_type: <b>satisfied</b></li><li>farm.elec_reef_effect_weight: <b>optional</b></li><li>farm.moor_underwater_noise_risk_weight: <b>optional</b></li><li>farm.initial_turbidity: <b>optional</b></li><li>farm.elec_measured_temperature: <b>optional</b></li><li>farm.hydro_reef_effect_weight: <b>optional</b></li><li>farm.initial_temperature: <b>optional</b></li><li>farm.hydro_resting_place_weight: <b>optional</b></li><li>bathymetry.layers: <b>optional</b></li><li>farm.number_of_devices: <b>unavailable_option</b></li><li>device.system_length: <b>optional</b></li><li>farm.hydro_energy_modif_weight: <b>optional</b></li><li>device.wet_frontal_area: <b>optional</b></li><li>device.system_width: <b>optional</b></li><li>farm.elec_resting_place_weight: <b>optional</b></li><li>farm.moor_collision_risk_weight: <b>optional</b></li><li>farm.initial_elec_field: <b>optional</b></li><li>farm.elec_underwater_noise_risk_weight: <b>optional</b></li><li>farm.elec_temp_modif_weight: <b>optional</b></li></ul>"
      ],
      "text/plain": [
       "<IPython.core.display.HTML object>"
      ]
     },
     "execution_count": 16,
     "metadata": {},
     "output_type": "execute_result"
    }
   ],
   "source": [
    "environmental_branch = pipe_tree.get_branch(new_core, new_project, 'Environmental Impact Assessment')\n",
    "input_status = environmental_branch.get_input_status(new_core, new_project)\n",
    "message = html_dict(input_status)\n",
    "HTML(message)"
   ]
  },
  {
   "cell_type": "markdown",
   "metadata": {},
   "source": [
    "## Initiate the dataflow\n",
    "This indicates that the filtering and module / theme selections are complete"
   ]
  },
  {
   "cell_type": "code",
   "execution_count": 17,
   "metadata": {
    "collapsed": false
   },
   "outputs": [
    {
     "name": "stdout",
     "output_type": "stream",
     "text": [
      "2016-09-06 13:33:31,322 - DEBUG - aneris.control.data - DataState created\n",
      "2016-09-06 13:33:31,325 - INFO - aneris.control.data - New \"hidden.dataflow_active\" data stored with index U6O9DR\n",
      "2016-09-06 13:33:31,325 - INFO - aneris.control.simulation - Datastate stored\n",
      "2016-09-06 13:33:31,326 - DEBUG - aneris.control.simulation - Merging active DataStates.\n",
      "2016-09-06 13:33:31,328 - DEBUG - aneris.control.simulation - Getting output status for interface \"System Type Selection\".\n",
      "2016-09-06 13:33:31,328 - DEBUG - aneris.control.simulation - Getting output status for interface \"Hydrodynamics\".\n",
      "2016-09-06 13:33:31,331 - DEBUG - aneris.control.simulation - Getting output status for interface \"Environmental Impact Assessment\".\n",
      "2016-09-06 13:33:31,332 - DEBUG - aneris.control.simulation - Getting input status for interface \"System Type Selection\".\n",
      "2016-09-06 13:33:31,332 - DEBUG - aneris.control.simulation - Getting input status for interface \"Hydrodynamics\".\n",
      "2016-09-06 13:33:31,335 - DEBUG - aneris.control.simulation - Checking mask status for input \"device.bidirection\".\n",
      "2016-09-06 13:33:31,335 - DEBUG - aneris.control.simulation - Retrieving data with identity \"device.system_type\".\n",
      "2016-09-06 13:33:31,338 - DEBUG - aneris.control.simulation - Checking mask status for input \"device.cut_in_velocity\".\n",
      "2016-09-06 13:33:31,338 - DEBUG - aneris.control.simulation - Retrieving data with identity \"device.system_type\".\n",
      "2016-09-06 13:33:31,339 - DEBUG - aneris.control.simulation - Checking mask status for input \"device.cut_out_velocity\".\n",
      "2016-09-06 13:33:31,341 - DEBUG - aneris.control.simulation - Retrieving data with identity \"device.system_type\".\n",
      "2016-09-06 13:33:31,341 - DEBUG - aneris.control.simulation - Checking mask status for input \"device.turbine_diameter\".\n",
      "2016-09-06 13:33:31,342 - DEBUG - aneris.control.simulation - Retrieving data with identity \"device.system_type\".\n",
      "2016-09-06 13:33:31,342 - DEBUG - aneris.control.simulation - Checking mask status for input \"device.turbine_interdistance\".\n",
      "2016-09-06 13:33:31,344 - DEBUG - aneris.control.simulation - Retrieving data with identity \"device.system_type\".\n",
      "2016-09-06 13:33:31,345 - DEBUG - aneris.control.simulation - Checking mask status for input \"device.turbine_performance\".\n",
      "2016-09-06 13:33:31,345 - DEBUG - aneris.control.simulation - Retrieving data with identity \"device.system_type\".\n",
      "2016-09-06 13:33:31,346 - DEBUG - aneris.control.simulation - Checking mask status for input \"device.wave_data_directory\".\n",
      "2016-09-06 13:33:31,348 - DEBUG - aneris.control.simulation - Retrieving data with identity \"device.system_type\".\n",
      "2016-09-06 13:33:31,348 - DEBUG - aneris.control.simulation - Checking mask status for input \"farm.point_sea_surface_height\".\n",
      "2016-09-06 13:33:31,349 - DEBUG - aneris.control.simulation - Retrieving data with identity \"device.system_type\".\n",
      "2016-09-06 13:33:31,349 - DEBUG - aneris.control.simulation - Checking mask status for input \"farm.spectrum_name\".\n",
      "2016-09-06 13:33:31,351 - DEBUG - aneris.control.simulation - Retrieving data with identity \"device.system_type\".\n",
      "2016-09-06 13:33:31,351 - DEBUG - aneris.control.simulation - Checking mask status for input \"farm.spec_gamma\".\n",
      "2016-09-06 13:33:31,352 - DEBUG - aneris.control.simulation - Retrieving data with identity \"device.system_type\".\n",
      "2016-09-06 13:33:31,352 - DEBUG - aneris.control.simulation - Checking mask status for input \"farm.spec_spread\".\n",
      "2016-09-06 13:33:31,354 - DEBUG - aneris.control.simulation - Retrieving data with identity \"device.system_type\".\n",
      "2016-09-06 13:33:31,355 - DEBUG - aneris.control.simulation - Checking mask status for input \"farm.tidal_occurrence_nbins\".\n",
      "2016-09-06 13:33:31,355 - DEBUG - aneris.control.simulation - Retrieving data with identity \"device.system_type\".\n",
      "2016-09-06 13:33:31,357 - DEBUG - aneris.control.simulation - Checking mask status for input \"farm.tidal_occurrence_point\".\n",
      "2016-09-06 13:33:31,358 - DEBUG - aneris.control.simulation - Retrieving data with identity \"device.system_type\".\n",
      "2016-09-06 13:33:31,358 - DEBUG - aneris.control.simulation - Checking mask status for input \"farm.tidal_series\".\n",
      "2016-09-06 13:33:31,358 - DEBUG - aneris.control.simulation - Retrieving data with identity \"device.system_type\".\n",
      "2016-09-06 13:33:31,359 - DEBUG - aneris.control.simulation - Checking mask status for input \"farm.wave_series\".\n",
      "2016-09-06 13:33:31,361 - DEBUG - aneris.control.simulation - Retrieving data with identity \"device.system_type\".\n",
      "2016-09-06 13:33:31,361 - DEBUG - aneris.control.simulation - Checking mask status for input \"options.tidal_data_directory\".\n",
      "2016-09-06 13:33:31,362 - DEBUG - aneris.control.simulation - Retrieving data with identity \"device.system_type\".\n",
      "2016-09-06 13:33:31,364 - DEBUG - aneris.control.simulation - Getting input status for interface \"Environmental Impact Assessment\".\n",
      "2016-09-06 13:33:31,365 - DEBUG - aneris.control.data - DataState with level \"modules initial\" created\n",
      "2016-09-06 13:33:31,365 - INFO - aneris.control.simulation - Datastate with level \"modules initial\" stored\n",
      "2016-09-06 13:33:31,367 - DEBUG - aneris.control.simulation - Merging active DataStates.\n"
     ]
    }
   ],
   "source": [
    "project_menu.initiate_dataflow(new_core, new_project)"
   ]
  },
  {
   "cell_type": "markdown",
   "metadata": {},
   "source": [
    "## Load test data"
   ]
  },
  {
   "cell_type": "markdown",
   "metadata": {},
   "source": [
    "Prepare the test data for loading. The files required can be found in the test_data directory of the source code and should be copied to the directory that the notebook is running. When the python file is run a pickle file is generated containing a dictionary of inputs."
   ]
  },
  {
   "cell_type": "code",
   "execution_count": 18,
   "metadata": {
    "collapsed": false
   },
   "outputs": [
    {
     "name": "stdout",
     "output_type": "stream",
     "text": [
      "generate test data: d:\\Users\\108386\\Desktop\\notebooks\\inputs_wp2_wave.pkl\n"
     ]
    }
   ],
   "source": [
    "%run inputs_wp2_wave.py"
   ]
  },
  {
   "cell_type": "code",
   "execution_count": 19,
   "metadata": {
    "collapsed": false
   },
   "outputs": [
    {
     "name": "stdout",
     "output_type": "stream",
     "text": [
      "2016-09-06 13:33:31,471 - DEBUG - aneris.control.data - DataState created\n",
      "2016-09-06 13:33:31,474 - INFO - aneris.control.data - New \"farm.wave_series\" data stored with index X6MG0S\n",
      "2016-09-06 13:33:31,476 - INFO - aneris.control.data - New \"device.installation_depth_max\" data stored with index LPNSST\n",
      "2016-09-06 13:33:31,477 - INFO - aneris.control.data - New \"device.coordinate_system\" data stored with index WJ4IJR\n",
      "2016-09-06 13:33:31,480 - INFO - aneris.control.data - New \"device.minimum_distance_x\" data stored with index 6A9T4D\n",
      "2016-09-06 13:33:31,480 - INFO - aneris.control.data - New \"device.minimum_distance_y\" data stored with index HWMTM8\n",
      "2016-09-06 13:33:31,482 - INFO - aneris.control.data - New \"device.installation_depth_min\" data stored with index 8TPJL3\n",
      "2016-09-06 13:33:31,483 - INFO - aneris.control.data - New \"device.wave_data_directory\" data stored with index 9W2O1K\n",
      "2016-09-06 13:33:31,483 - INFO - aneris.control.data - New \"options.user_array_layout\" data stored with index GPGD2Q\n",
      "2016-09-06 13:33:31,486 - INFO - aneris.control.data - New \"site.lease_boundary\" data stored with index 4GNQWD\n",
      "2016-09-06 13:33:31,486 - INFO - aneris.control.data - New \"options.optimisation_threshold\" data stored with index EVN8VN\n",
      "2016-09-06 13:33:31,487 - INFO - aneris.control.data - New \"options.user_array_option\" data stored with index NDWTW1\n",
      "2016-09-06 13:33:31,487 - INFO - aneris.control.data - New \"device.power_rating\" data stored with index WPASXJ\n",
      "2016-09-06 13:33:31,489 - INFO - aneris.control.data - New \"farm.nogo_areas\" data stored with index PLSS3D\n",
      "2016-09-06 13:33:31,490 - INFO - aneris.control.data - New \"farm.point_sea_surface_height\" data stored with index EJMFEN\n",
      "2016-09-06 13:33:31,490 - INFO - aneris.control.data - New \"farm.spectrum_name\" data stored with index F97MBV\n",
      "2016-09-06 13:33:31,493 - INFO - aneris.control.data - New \"farm.power_law_exponent\" data stored with index 2JTO5J\n",
      "2016-09-06 13:33:31,493 - INFO - aneris.control.data - New \"device.yaw\" data stored with index MDNZVZ\n",
      "2016-09-06 13:33:31,496 - INFO - aneris.control.data - New \"farm.mannings\" data stored with index CSN27I\n",
      "2016-09-06 13:33:31,496 - INFO - aneris.control.data - New \"corridor.landing_point\" data stored with index 2GZXNN\n",
      "2016-09-06 13:33:31,497 - INFO - aneris.control.data - New \"farm.blockage_ratio\" data stored with index X2E650\n",
      "2016-09-06 13:33:31,499 - INFO - aneris.control.data - New \"farm.spec_spread\" data stored with index 96E0YB\n",
      "2016-09-06 13:33:31,500 - INFO - aneris.control.data - New \"farm.spec_gamma\" data stored with index PPPT5O\n",
      "2016-09-06 13:33:31,503 - INFO - aneris.control.data - New \"bathymetry.layers\" data stored with index L7FBUN\n",
      "2016-09-06 13:33:31,505 - INFO - aneris.control.data - New \"farm.rated_power\" data stored with index DPTMKX\n",
      "2016-09-06 13:33:31,506 - INFO - aneris.control.simulation - Datastate stored\n",
      "2016-09-06 13:33:31,506 - DEBUG - aneris.control.simulation - Merging active DataStates.\n",
      "2016-09-06 13:33:31,507 - DEBUG - aneris.control.simulation - Getting output status for interface \"System Type Selection\".\n",
      "2016-09-06 13:33:31,509 - DEBUG - aneris.control.simulation - Getting output status for interface \"Hydrodynamics\".\n",
      "2016-09-06 13:33:31,509 - DEBUG - aneris.control.simulation - Getting output status for interface \"Environmental Impact Assessment\".\n",
      "2016-09-06 13:33:31,512 - DEBUG - aneris.control.simulation - Getting input status for interface \"System Type Selection\".\n",
      "2016-09-06 13:33:31,513 - DEBUG - aneris.control.simulation - Getting input status for interface \"Hydrodynamics\".\n",
      "2016-09-06 13:33:31,513 - DEBUG - aneris.control.simulation - Checking mask status for input \"device.bidirection\".\n",
      "2016-09-06 13:33:31,515 - DEBUG - aneris.control.simulation - Retrieving data with identity \"device.system_type\".\n",
      "2016-09-06 13:33:31,516 - DEBUG - aneris.control.simulation - Checking mask status for input \"device.cut_in_velocity\".\n",
      "2016-09-06 13:33:31,516 - DEBUG - aneris.control.simulation - Retrieving data with identity \"device.system_type\".\n",
      "2016-09-06 13:33:31,517 - DEBUG - aneris.control.simulation - Checking mask status for input \"device.cut_out_velocity\".\n",
      "2016-09-06 13:33:31,519 - DEBUG - aneris.control.simulation - Retrieving data with identity \"device.system_type\".\n",
      "2016-09-06 13:33:31,519 - DEBUG - aneris.control.simulation - Checking mask status for input \"device.turbine_diameter\".\n",
      "2016-09-06 13:33:31,519 - DEBUG - aneris.control.simulation - Retrieving data with identity \"device.system_type\".\n",
      "2016-09-06 13:33:31,520 - DEBUG - aneris.control.simulation - Checking mask status for input \"device.turbine_interdistance\".\n",
      "2016-09-06 13:33:31,522 - DEBUG - aneris.control.simulation - Retrieving data with identity \"device.system_type\".\n",
      "2016-09-06 13:33:31,522 - DEBUG - aneris.control.simulation - Checking mask status for input \"device.turbine_performance\".\n",
      "2016-09-06 13:33:31,523 - DEBUG - aneris.control.simulation - Retrieving data with identity \"device.system_type\".\n",
      "2016-09-06 13:33:31,523 - DEBUG - aneris.control.simulation - Checking mask status for input \"device.wave_data_directory\".\n",
      "2016-09-06 13:33:31,525 - DEBUG - aneris.control.simulation - Retrieving data with identity \"device.system_type\".\n",
      "2016-09-06 13:33:31,526 - DEBUG - aneris.control.simulation - Checking mask status for input \"farm.point_sea_surface_height\".\n",
      "2016-09-06 13:33:31,526 - DEBUG - aneris.control.simulation - Retrieving data with identity \"device.system_type\".\n",
      "2016-09-06 13:33:31,526 - DEBUG - aneris.control.simulation - Checking mask status for input \"farm.spectrum_name\".\n",
      "2016-09-06 13:33:31,528 - DEBUG - aneris.control.simulation - Retrieving data with identity \"device.system_type\".\n",
      "2016-09-06 13:33:31,529 - DEBUG - aneris.control.simulation - Checking mask status for input \"farm.spec_gamma\".\n",
      "2016-09-06 13:33:31,529 - DEBUG - aneris.control.simulation - Retrieving data with identity \"device.system_type\".\n",
      "2016-09-06 13:33:31,529 - DEBUG - aneris.control.simulation - Checking mask status for input \"farm.spec_spread\".\n",
      "2016-09-06 13:33:31,530 - DEBUG - aneris.control.simulation - Retrieving data with identity \"device.system_type\".\n",
      "2016-09-06 13:33:31,532 - DEBUG - aneris.control.simulation - Checking mask status for input \"farm.tidal_occurrence_nbins\".\n",
      "2016-09-06 13:33:31,532 - DEBUG - aneris.control.simulation - Retrieving data with identity \"device.system_type\".\n",
      "2016-09-06 13:33:31,533 - DEBUG - aneris.control.simulation - Checking mask status for input \"farm.tidal_occurrence_point\".\n",
      "2016-09-06 13:33:31,535 - DEBUG - aneris.control.simulation - Retrieving data with identity \"device.system_type\".\n",
      "2016-09-06 13:33:31,535 - DEBUG - aneris.control.simulation - Checking mask status for input \"farm.tidal_series\".\n",
      "2016-09-06 13:33:31,536 - DEBUG - aneris.control.simulation - Retrieving data with identity \"device.system_type\".\n",
      "2016-09-06 13:33:31,536 - DEBUG - aneris.control.simulation - Checking mask status for input \"farm.wave_series\".\n",
      "2016-09-06 13:33:31,538 - DEBUG - aneris.control.simulation - Retrieving data with identity \"device.system_type\".\n",
      "2016-09-06 13:33:31,539 - DEBUG - aneris.control.simulation - Checking mask status for input \"options.tidal_data_directory\".\n",
      "2016-09-06 13:33:31,539 - DEBUG - aneris.control.simulation - Retrieving data with identity \"device.system_type\".\n",
      "2016-09-06 13:33:31,540 - DEBUG - aneris.control.simulation - Getting input status for interface \"Environmental Impact Assessment\".\n"
     ]
    }
   ],
   "source": [
    "hydro_branch.read_test_data(new_core,\n",
    "                            new_project,\n",
    "                            \"inputs_wp2_wave.pkl\")"
   ]
  },
  {
   "cell_type": "code",
   "execution_count": 20,
   "metadata": {
    "collapsed": false
   },
   "outputs": [
    {
     "name": "stdout",
     "output_type": "stream",
     "text": [
      "generate test data: d:\\Users\\108386\\Desktop\\notebooks\\inputs_environmental.pkl\n"
     ]
    }
   ],
   "source": [
    "%run inputs_environmental.py"
   ]
  },
  {
   "cell_type": "code",
   "execution_count": 21,
   "metadata": {
    "collapsed": false
   },
   "outputs": [
    {
     "name": "stdout",
     "output_type": "stream",
     "text": [
      "2016-09-06 13:34:13,220 - DEBUG - aneris.control.data - DataState created\n",
      "2016-09-06 13:34:13,221 - INFO - aneris.control.data - New \"farm.hydro_measured_turbidity\" data stored with index MST03K\n",
      "2016-09-06 13:34:13,223 - INFO - aneris.control.data - New \"device.system_height\" data stored with index 010K8H\n",
      "2016-09-06 13:34:13,223 - INFO - aneris.control.data - New \"farm.direction_of_max_surface_current\" data stored with index 7WQ9BS\n",
      "2016-09-06 13:34:13,223 - INFO - aneris.control.data - New \"farm.hydro_reserve_effect_weight\" data stored with index 43H388\n",
      "2016-09-06 13:34:13,226 - INFO - aneris.control.data - New \"farm.hydro_measured_noise\" data stored with index XDFXUL\n",
      "2016-09-06 13:34:13,226 - INFO - aneris.control.data - New \"farm.hydro_resting_place_weight\" data stored with index MKCWOG\n",
      "2016-09-06 13:34:13,226 - INFO - aneris.control.data - New \"farm.layout\" data stored with index VFNCU0\n",
      "2016-09-06 13:34:13,227 - INFO - aneris.control.data - New \"farm.protected_table\" data stored with index T887TZ\n",
      "2016-09-06 13:34:13,229 - INFO - aneris.control.data - New \"farm.fishery_restricted_area\" data stored with index DOIKET\n",
      "2016-09-06 13:34:13,230 - INFO - aneris.control.data - New \"farm.resource_reduction\" data stored with index 7CGT05\n",
      "2016-09-06 13:34:13,230 - INFO - aneris.control.data - New \"device.system_width\" data stored with index HH1F36\n",
      "2016-09-06 13:34:13,232 - INFO - aneris.control.data - New \"device.dry_frontal_area\" data stored with index UNMJ5F\n",
      "2016-09-06 13:34:13,233 - INFO - aneris.control.data - New \"device.system_draft\" data stored with index JYBUF4\n",
      "2016-09-06 13:34:13,233 - INFO - aneris.control.data - New \"farm.initial_noise\" data stored with index ELO3Y0\n",
      "2016-09-06 13:34:13,233 - INFO - aneris.control.data - New \"farm.hydro_collision_risk_weight\" data stored with index KES7LB\n",
      "2016-09-06 13:34:13,236 - INFO - aneris.control.data - New \"farm.receptors_table\" data stored with index 05KU1Q\n",
      "2016-09-06 13:34:13,236 - INFO - aneris.control.data - New \"farm.number_of_devices\" data stored with index LP84ZR\n",
      "2016-09-06 13:34:13,239 - INFO - aneris.control.data - New \"farm.hydro_reef_effect_weight\" data stored with index 5110SB\n",
      "2016-09-06 13:34:13,240 - INFO - aneris.control.data - New \"farm.hydro_underwater_noise_risk_weight\" data stored with index SVQGZM\n",
      "2016-09-06 13:34:13,240 - INFO - aneris.control.data - New \"device.system_length\" data stored with index 0Y8FN0\n",
      "2016-09-06 13:34:13,242 - INFO - aneris.control.data - New \"farm.hydro_energy_modif_weight\" data stored with index WO87AE\n",
      "2016-09-06 13:34:13,243 - INFO - aneris.control.data - New \"device.wet_frontal_area\" data stored with index 058AHL\n",
      "2016-09-06 13:34:13,244 - INFO - aneris.control.data - New \"farm.initial_turbidity\" data stored with index ZQWKQX\n",
      "2016-09-06 13:34:13,246 - INFO - aneris.control.simulation - Datastate stored\n",
      "2016-09-06 13:34:13,246 - DEBUG - aneris.control.simulation - Merging active DataStates.\n",
      "2016-09-06 13:34:13,247 - DEBUG - aneris.control.simulation - Getting output status for interface \"System Type Selection\".\n",
      "2016-09-06 13:34:13,250 - DEBUG - aneris.control.simulation - Getting output status for interface \"Hydrodynamics\".\n",
      "2016-09-06 13:34:13,250 - DEBUG - aneris.control.simulation - Getting output status for interface \"Environmental Impact Assessment\".\n",
      "2016-09-06 13:34:13,252 - DEBUG - aneris.control.simulation - Getting input status for interface \"System Type Selection\".\n",
      "2016-09-06 13:34:13,253 - DEBUG - aneris.control.simulation - Getting input status for interface \"Hydrodynamics\".\n",
      "2016-09-06 13:34:13,255 - DEBUG - aneris.control.simulation - Checking mask status for input \"device.bidirection\".\n",
      "2016-09-06 13:34:13,256 - DEBUG - aneris.control.simulation - Retrieving data with identity \"device.system_type\".\n",
      "2016-09-06 13:34:13,256 - DEBUG - aneris.control.simulation - Checking mask status for input \"device.cut_in_velocity\".\n",
      "2016-09-06 13:34:13,257 - DEBUG - aneris.control.simulation - Retrieving data with identity \"device.system_type\".\n",
      "2016-09-06 13:34:13,259 - DEBUG - aneris.control.simulation - Checking mask status for input \"device.cut_out_velocity\".\n",
      "2016-09-06 13:34:13,259 - DEBUG - aneris.control.simulation - Retrieving data with identity \"device.system_type\".\n",
      "2016-09-06 13:34:13,260 - DEBUG - aneris.control.simulation - Checking mask status for input \"device.turbine_diameter\".\n",
      "2016-09-06 13:34:13,262 - DEBUG - aneris.control.simulation - Retrieving data with identity \"device.system_type\".\n",
      "2016-09-06 13:34:13,263 - DEBUG - aneris.control.simulation - Checking mask status for input \"device.turbine_interdistance\".\n",
      "2016-09-06 13:34:13,263 - DEBUG - aneris.control.simulation - Retrieving data with identity \"device.system_type\".\n",
      "2016-09-06 13:34:13,265 - DEBUG - aneris.control.simulation - Checking mask status for input \"device.turbine_performance\".\n",
      "2016-09-06 13:34:13,266 - DEBUG - aneris.control.simulation - Retrieving data with identity \"device.system_type\".\n",
      "2016-09-06 13:34:13,266 - DEBUG - aneris.control.simulation - Checking mask status for input \"device.wave_data_directory\".\n",
      "2016-09-06 13:34:13,267 - DEBUG - aneris.control.simulation - Retrieving data with identity \"device.system_type\".\n",
      "2016-09-06 13:34:13,269 - DEBUG - aneris.control.simulation - Checking mask status for input \"farm.point_sea_surface_height\".\n",
      "2016-09-06 13:34:13,269 - DEBUG - aneris.control.simulation - Retrieving data with identity \"device.system_type\".\n",
      "2016-09-06 13:34:13,269 - DEBUG - aneris.control.simulation - Checking mask status for input \"farm.spectrum_name\".\n",
      "2016-09-06 13:34:13,270 - DEBUG - aneris.control.simulation - Retrieving data with identity \"device.system_type\".\n",
      "2016-09-06 13:34:13,272 - DEBUG - aneris.control.simulation - Checking mask status for input \"farm.spec_gamma\".\n",
      "2016-09-06 13:34:13,273 - DEBUG - aneris.control.simulation - Retrieving data with identity \"device.system_type\".\n",
      "2016-09-06 13:34:13,273 - DEBUG - aneris.control.simulation - Checking mask status for input \"farm.spec_spread\".\n",
      "2016-09-06 13:34:13,275 - DEBUG - aneris.control.simulation - Retrieving data with identity \"device.system_type\".\n",
      "2016-09-06 13:34:13,276 - DEBUG - aneris.control.simulation - Checking mask status for input \"farm.tidal_occurrence_nbins\".\n",
      "2016-09-06 13:34:13,276 - DEBUG - aneris.control.simulation - Retrieving data with identity \"device.system_type\".\n",
      "2016-09-06 13:34:13,276 - DEBUG - aneris.control.simulation - Checking mask status for input \"farm.tidal_occurrence_point\".\n",
      "2016-09-06 13:34:13,278 - DEBUG - aneris.control.simulation - Retrieving data with identity \"device.system_type\".\n",
      "2016-09-06 13:34:13,279 - DEBUG - aneris.control.simulation - Checking mask status for input \"farm.tidal_series\".\n",
      "2016-09-06 13:34:13,279 - DEBUG - aneris.control.simulation - Retrieving data with identity \"device.system_type\".\n",
      "2016-09-06 13:34:13,279 - DEBUG - aneris.control.simulation - Checking mask status for input \"farm.wave_series\".\n",
      "2016-09-06 13:34:13,280 - DEBUG - aneris.control.simulation - Retrieving data with identity \"device.system_type\".\n",
      "2016-09-06 13:34:13,282 - DEBUG - aneris.control.simulation - Checking mask status for input \"options.tidal_data_directory\".\n",
      "2016-09-06 13:34:13,282 - DEBUG - aneris.control.simulation - Retrieving data with identity \"device.system_type\".\n",
      "2016-09-06 13:34:13,283 - DEBUG - aneris.control.simulation - Getting input status for interface \"Environmental Impact Assessment\".\n"
     ]
    }
   ],
   "source": [
    "environmental_branch.read_test_data(new_core,\n",
    "                            new_project,\n",
    "                            \"inputs_environmental.pkl\")"
   ]
  },
  {
   "cell_type": "markdown",
   "metadata": {},
   "source": [
    "## Use the interface to enter the variable value\n",
    "\n",
    "The interface must be \"set\" (entering the data) and then \"connected\" (moving the data into the data state)"
   ]
  },
  {
   "cell_type": "code",
   "execution_count": 22,
   "metadata": {
    "collapsed": false
   },
   "outputs": [
    {
     "name": "stdout",
     "output_type": "stream",
     "text": [
      "2016-09-06 13:34:13,295 - DEBUG - aneris.control.data - DataState created\n",
      "2016-09-06 13:34:13,296 - INFO - aneris.control.data - New \"farm.rated_power\" data stored with index SJEAWM\n",
      "2016-09-06 13:34:13,296 - INFO - aneris.control.simulation - Datastate stored\n",
      "2016-09-06 13:34:13,299 - DEBUG - aneris.control.simulation - Merging active DataStates.\n",
      "2016-09-06 13:34:13,299 - DEBUG - aneris.control.simulation - Getting output status for interface \"System Type Selection\".\n",
      "2016-09-06 13:34:13,301 - DEBUG - aneris.control.simulation - Getting output status for interface \"Hydrodynamics\".\n",
      "2016-09-06 13:34:13,302 - DEBUG - aneris.control.simulation - Getting output status for interface \"Environmental Impact Assessment\".\n",
      "2016-09-06 13:34:13,305 - DEBUG - aneris.control.simulation - Getting input status for interface \"System Type Selection\".\n",
      "2016-09-06 13:34:13,308 - DEBUG - aneris.control.simulation - Getting input status for interface \"Hydrodynamics\".\n",
      "2016-09-06 13:34:13,309 - DEBUG - aneris.control.simulation - Checking mask status for input \"device.bidirection\".\n",
      "2016-09-06 13:34:13,309 - DEBUG - aneris.control.simulation - Retrieving data with identity \"device.system_type\".\n",
      "2016-09-06 13:34:13,311 - DEBUG - aneris.control.simulation - Checking mask status for input \"device.cut_in_velocity\".\n",
      "2016-09-06 13:34:13,312 - DEBUG - aneris.control.simulation - Retrieving data with identity \"device.system_type\".\n",
      "2016-09-06 13:34:13,312 - DEBUG - aneris.control.simulation - Checking mask status for input \"device.cut_out_velocity\".\n",
      "2016-09-06 13:34:13,313 - DEBUG - aneris.control.simulation - Retrieving data with identity \"device.system_type\".\n",
      "2016-09-06 13:34:13,315 - DEBUG - aneris.control.simulation - Checking mask status for input \"device.turbine_diameter\".\n",
      "2016-09-06 13:34:13,315 - DEBUG - aneris.control.simulation - Retrieving data with identity \"device.system_type\".\n",
      "2016-09-06 13:34:13,315 - DEBUG - aneris.control.simulation - Checking mask status for input \"device.turbine_interdistance\".\n",
      "2016-09-06 13:34:13,316 - DEBUG - aneris.control.simulation - Retrieving data with identity \"device.system_type\".\n",
      "2016-09-06 13:34:13,318 - DEBUG - aneris.control.simulation - Checking mask status for input \"device.turbine_performance\".\n",
      "2016-09-06 13:34:13,319 - DEBUG - aneris.control.simulation - Retrieving data with identity \"device.system_type\".\n",
      "2016-09-06 13:34:13,319 - DEBUG - aneris.control.simulation - Checking mask status for input \"device.wave_data_directory\".\n",
      "2016-09-06 13:34:13,319 - DEBUG - aneris.control.simulation - Retrieving data with identity \"device.system_type\".\n",
      "2016-09-06 13:34:13,321 - DEBUG - aneris.control.simulation - Checking mask status for input \"farm.point_sea_surface_height\".\n",
      "2016-09-06 13:34:13,322 - DEBUG - aneris.control.simulation - Retrieving data with identity \"device.system_type\".\n",
      "2016-09-06 13:34:13,322 - DEBUG - aneris.control.simulation - Checking mask status for input \"farm.spectrum_name\".\n",
      "2016-09-06 13:34:13,322 - DEBUG - aneris.control.simulation - Retrieving data with identity \"device.system_type\".\n",
      "2016-09-06 13:34:13,323 - DEBUG - aneris.control.simulation - Checking mask status for input \"farm.spec_gamma\".\n",
      "2016-09-06 13:34:13,325 - DEBUG - aneris.control.simulation - Retrieving data with identity \"device.system_type\".\n",
      "2016-09-06 13:34:13,325 - DEBUG - aneris.control.simulation - Checking mask status for input \"farm.spec_spread\".\n",
      "2016-09-06 13:34:13,325 - DEBUG - aneris.control.simulation - Retrieving data with identity \"device.system_type\".\n",
      "2016-09-06 13:34:13,326 - DEBUG - aneris.control.simulation - Checking mask status for input \"farm.tidal_occurrence_nbins\".\n",
      "2016-09-06 13:34:13,328 - DEBUG - aneris.control.simulation - Retrieving data with identity \"device.system_type\".\n",
      "2016-09-06 13:34:13,328 - DEBUG - aneris.control.simulation - Checking mask status for input \"farm.tidal_occurrence_point\".\n",
      "2016-09-06 13:34:13,328 - DEBUG - aneris.control.simulation - Retrieving data with identity \"device.system_type\".\n",
      "2016-09-06 13:34:13,329 - DEBUG - aneris.control.simulation - Checking mask status for input \"farm.tidal_series\".\n",
      "2016-09-06 13:34:13,331 - DEBUG - aneris.control.simulation - Retrieving data with identity \"device.system_type\".\n",
      "2016-09-06 13:34:13,331 - DEBUG - aneris.control.simulation - Checking mask status for input \"farm.wave_series\".\n",
      "2016-09-06 13:34:13,332 - DEBUG - aneris.control.simulation - Retrieving data with identity \"device.system_type\".\n",
      "2016-09-06 13:34:13,332 - DEBUG - aneris.control.simulation - Checking mask status for input \"options.tidal_data_directory\".\n",
      "2016-09-06 13:34:13,332 - DEBUG - aneris.control.simulation - Retrieving data with identity \"device.system_type\".\n",
      "2016-09-06 13:34:13,335 - DEBUG - aneris.control.simulation - Getting input status for interface \"Environmental Impact Assessment\".\n"
     ]
    }
   ],
   "source": [
    "plant_rated_power = 100.\n",
    "variable_id = \"farm.rated_power\"\n",
    "my_var = hydro_branch.get_input_variable(new_core, new_project, variable_id)\n",
    "\n",
    "my_var.set_raw_interface(new_core, plant_rated_power)\n",
    "my_var.read(new_core, new_project)"
   ]
  },
  {
   "cell_type": "markdown",
   "metadata": {},
   "source": [
    "## Check if the module can be executed"
   ]
  },
  {
   "cell_type": "code",
   "execution_count": 23,
   "metadata": {
    "collapsed": false
   },
   "outputs": [
    {
     "data": {
      "text/plain": [
       "True"
      ]
     },
     "metadata": {},
     "output_type": "display_data"
    }
   ],
   "source": [
    "can_execute = module_menu.is_executable(new_core, new_project, module_name)\n",
    "display(can_execute)"
   ]
  },
  {
   "cell_type": "code",
   "execution_count": 24,
   "metadata": {
    "collapsed": false
   },
   "outputs": [
    {
     "data": {
      "text/plain": [
       "False"
      ]
     },
     "metadata": {},
     "output_type": "display_data"
    }
   ],
   "source": [
    "can_execute_theme = theme_menu.is_executable(new_core, new_project, theme_name)\n",
    "display(can_execute_theme)"
   ]
  },
  {
   "cell_type": "code",
   "execution_count": 25,
   "metadata": {
    "collapsed": false
   },
   "outputs": [
    {
     "data": {
      "text/html": [
       "<ul><li>options.user_array_option: <b>satisfied</b></li><li>device.power_rating: <b>satisfied</b></li><li>farm.wave_series: <b>satisfied</b></li><li>farm.nogo_areas: <b>satisfied</b></li><li>farm.point_sea_surface_height: <b>satisfied</b></li><li>farm.spectrum_name: <b>satisfied</b></li><li>farm.spec_spread: <b>satisfied</b></li><li>device.installation_depth_max: <b>satisfied</b></li><li>farm.power_law_exponent: <b>satisfied</b></li><li>device.yaw: <b>satisfied</b></li><li>device.system_type: <b>satisfied</b></li><li>device.coordinate_system: <b>satisfied</b></li><li>corridor.landing_point: <b>satisfied</b></li><li>farm.blockage_ratio: <b>satisfied</b></li><li>farm.main_direction: <b>optional</b></li><li>bathymetry.layers: <b>satisfied</b></li><li>options.power_bin_width: <b>optional</b></li><li>farm.spec_gamma: <b>satisfied</b></li><li>device.minimum_distance_x: <b>satisfied</b></li><li>device.minimum_distance_y: <b>satisfied</b></li><li>farm.mannings: <b>satisfied</b></li><li>device.installation_depth_min: <b>satisfied</b></li><li>device.wave_data_directory: <b>satisfied</b></li><li>options.user_array_layout: <b>satisfied</b></li><li>farm.rated_power: <b>satisfied</b></li><li>site.lease_boundary: <b>satisfied</b></li><li>options.optimisation_threshold: <b>satisfied</b></li></ul>"
      ],
      "text/plain": [
       "<IPython.core.display.HTML object>"
      ]
     },
     "execution_count": 25,
     "metadata": {},
     "output_type": "execute_result"
    }
   ],
   "source": [
    "input_status = hydro_branch.get_input_status(new_core, new_project)\n",
    "message = html_dict(input_status)\n",
    "HTML(message)"
   ]
  },
  {
   "cell_type": "code",
   "execution_count": 26,
   "metadata": {
    "collapsed": false
   },
   "outputs": [
    {
     "data": {
      "text/html": [
       "<ul><li>farm.hydro_measured_turbidity: <b>satisfied</b></li><li>farm.elec_measured_magnetic_field: <b>optional</b></li><li>farm.elec_footprint_weight: <b>optional</b></li><li>farm.elec_measured_noise: <b>optional</b></li><li>device.system_height: <b>satisfied</b></li><li>farm.substation_props: <b>optional</b></li><li>farm.initial_magnetic_field: <b>optional</b></li><li>farm.hydro_turbidity_risk_weight: <b>optional</b></li><li>farm.direction_of_max_surface_current: <b>satisfied</b></li><li>farm.elec_magnetic_field_weight: <b>optional</b></li><li>farm.hydro_reserve_effect_weight: <b>satisfied</b></li><li>farm.hydro_measured_noise: <b>satisfied</b></li><li>farm.moor_footprint_weight: <b>optional</b></li><li>farm.substation_layout: <b>optional</b></li><li>farm.moor_measured_noise: <b>optional</b></li><li>farm.layout: <b>unavailable</b></li><li>farm.protected_table: <b>satisfied</b></li><li>farm.fishery_restricted_area: <b>satisfied</b></li><li>farm.hydro_underwater_noise_risk_weight: <b>satisfied</b></li><li>farm.moor_reef_effect_weight: <b>optional</b></li><li>farm.resource_reduction: <b>unavailable</b></li><li>farm.elec_measured_elec_field: <b>optional</b></li><li>site.lease_boundary: <b>satisfied</b></li><li>farm.elec_elec_field_weight: <b>optional</b></li><li>farm.elec_collision_risk_weight: <b>optional</b></li><li>device.dry_frontal_area: <b>satisfied</b></li><li>farm.elec_reserve_effect_weight: <b>optional</b></li><li>farm.hydro_collision_risk_weight: <b>satisfied</b></li><li>farm.initial_noise: <b>satisfied</b></li><li>device.system_draft: <b>satisfied</b></li><li>farm.receptors_table: <b>satisfied</b></li><li>device.system_type: <b>satisfied</b></li><li>farm.elec_reef_effect_weight: <b>optional</b></li><li>farm.moor_underwater_noise_risk_weight: <b>optional</b></li><li>farm.initial_turbidity: <b>satisfied</b></li><li>farm.elec_measured_temperature: <b>optional</b></li><li>farm.hydro_reef_effect_weight: <b>satisfied</b></li><li>farm.initial_temperature: <b>optional</b></li><li>farm.hydro_resting_place_weight: <b>satisfied</b></li><li>bathymetry.layers: <b>satisfied</b></li><li>farm.number_of_devices: <b>unavailable_option</b></li><li>device.system_length: <b>satisfied</b></li><li>farm.hydro_energy_modif_weight: <b>satisfied</b></li><li>device.wet_frontal_area: <b>satisfied</b></li><li>device.system_width: <b>satisfied</b></li><li>farm.elec_resting_place_weight: <b>optional</b></li><li>farm.moor_collision_risk_weight: <b>optional</b></li><li>farm.initial_elec_field: <b>optional</b></li><li>farm.elec_underwater_noise_risk_weight: <b>optional</b></li><li>farm.elec_temp_modif_weight: <b>optional</b></li></ul>"
      ],
      "text/plain": [
       "<IPython.core.display.HTML object>"
      ]
     },
     "execution_count": 26,
     "metadata": {},
     "output_type": "execute_result"
    }
   ],
   "source": [
    "input_status = environmental_branch.get_input_status(new_core, new_project)\n",
    "message = html_dict(input_status)\n",
    "HTML(message)"
   ]
  },
  {
   "cell_type": "markdown",
   "metadata": {},
   "source": [
    "## Execute the current module\n",
    "\n",
    "The \"current\" module refers to the next module to be executed in the chain (pipeline) of modules. This command will only execute that module and another will be used for executing all of the modules at once.\n",
    "\n",
    "Note, any data supplied by the module will be automatically copied into the active data state."
   ]
  },
  {
   "cell_type": "code",
   "execution_count": 27,
   "metadata": {
    "collapsed": false
   },
   "outputs": [
    {
     "name": "stdout",
     "output_type": "stream",
     "text": [
      "2016-09-06 13:34:13,398 - DEBUG - aneris.control.data - DataState with level \"hydrodynamics start\" created\n",
      "2016-09-06 13:34:13,398 - INFO - aneris.control.simulation - Datastate with level \"hydrodynamics start\" stored\n",
      "2016-09-06 13:34:13,401 - DEBUG - aneris.control.simulation - Merging active DataStates.\n",
      "2016-09-06 13:34:13,404 - DEBUG - aneris.control.simulation - Checking mask status for input \"device.bidirection\".\n",
      "2016-09-06 13:34:13,404 - DEBUG - aneris.control.simulation - Retrieving data with identity \"device.system_type\".\n",
      "2016-09-06 13:34:13,405 - DEBUG - aneris.control.simulation - Checking mask status for input \"device.cut_in_velocity\".\n",
      "2016-09-06 13:34:13,407 - DEBUG - aneris.control.simulation - Retrieving data with identity \"device.system_type\".\n",
      "2016-09-06 13:34:13,407 - DEBUG - aneris.control.simulation - Checking mask status for input \"device.cut_out_velocity\".\n",
      "2016-09-06 13:34:13,408 - DEBUG - aneris.control.simulation - Retrieving data with identity \"device.system_type\".\n",
      "2016-09-06 13:34:13,410 - DEBUG - aneris.control.simulation - Checking mask status for input \"device.turbine_diameter\".\n",
      "2016-09-06 13:34:13,411 - DEBUG - aneris.control.simulation - Retrieving data with identity \"device.system_type\".\n",
      "2016-09-06 13:34:13,411 - DEBUG - aneris.control.simulation - Checking mask status for input \"device.turbine_interdistance\".\n",
      "2016-09-06 13:34:13,413 - DEBUG - aneris.control.simulation - Retrieving data with identity \"device.system_type\".\n",
      "2016-09-06 13:34:13,414 - DEBUG - aneris.control.simulation - Checking mask status for input \"device.turbine_performance\".\n",
      "2016-09-06 13:34:13,414 - DEBUG - aneris.control.simulation - Retrieving data with identity \"device.system_type\".\n",
      "2016-09-06 13:34:13,415 - DEBUG - aneris.control.simulation - Checking mask status for input \"device.wave_data_directory\".\n",
      "2016-09-06 13:34:13,417 - DEBUG - aneris.control.simulation - Retrieving data with identity \"device.system_type\".\n",
      "2016-09-06 13:34:13,417 - DEBUG - aneris.control.simulation - Checking mask status for input \"farm.point_sea_surface_height\".\n",
      "2016-09-06 13:34:13,420 - DEBUG - aneris.control.simulation - Retrieving data with identity \"device.system_type\".\n",
      "2016-09-06 13:34:13,421 - DEBUG - aneris.control.simulation - Checking mask status for input \"farm.spectrum_name\".\n",
      "2016-09-06 13:34:13,421 - DEBUG - aneris.control.simulation - Retrieving data with identity \"device.system_type\".\n",
      "2016-09-06 13:34:13,421 - DEBUG - aneris.control.simulation - Checking mask status for input \"farm.spec_gamma\".\n",
      "2016-09-06 13:34:13,423 - DEBUG - aneris.control.simulation - Retrieving data with identity \"device.system_type\".\n",
      "2016-09-06 13:34:13,424 - DEBUG - aneris.control.simulation - Checking mask status for input \"farm.spec_spread\".\n",
      "2016-09-06 13:34:13,424 - DEBUG - aneris.control.simulation - Retrieving data with identity \"device.system_type\".\n",
      "2016-09-06 13:34:13,426 - DEBUG - aneris.control.simulation - Checking mask status for input \"farm.tidal_occurrence_nbins\".\n",
      "2016-09-06 13:34:13,426 - DEBUG - aneris.control.simulation - Retrieving data with identity \"device.system_type\".\n",
      "2016-09-06 13:34:13,427 - DEBUG - aneris.control.simulation - Checking mask status for input \"farm.tidal_occurrence_point\".\n",
      "2016-09-06 13:34:13,427 - DEBUG - aneris.control.simulation - Retrieving data with identity \"device.system_type\".\n",
      "2016-09-06 13:34:13,428 - DEBUG - aneris.control.simulation - Checking mask status for input \"farm.tidal_series\".\n",
      "2016-09-06 13:34:13,430 - DEBUG - aneris.control.simulation - Retrieving data with identity \"device.system_type\".\n",
      "2016-09-06 13:34:13,430 - DEBUG - aneris.control.simulation - Checking mask status for input \"farm.wave_series\".\n",
      "2016-09-06 13:34:13,431 - DEBUG - aneris.control.simulation - Retrieving data with identity \"device.system_type\".\n",
      "2016-09-06 13:34:13,433 - DEBUG - aneris.control.simulation - Checking mask status for input \"options.tidal_data_directory\".\n",
      "2016-09-06 13:34:13,434 - DEBUG - aneris.control.simulation - Retrieving data with identity \"device.system_type\".\n",
      "2016-09-06 13:34:13,436 - DEBUG - aneris.control.simulation - Retrieving data with identity \"farm.wave_series\".\n",
      "2016-09-06 13:34:13,437 - DEBUG - aneris.control.simulation - Retrieving data with identity \"device.installation_depth_max\".\n",
      "2016-09-06 13:34:13,437 - DEBUG - aneris.control.simulation - Retrieving data with identity \"device.coordinate_system\".\n",
      "2016-09-06 13:34:13,438 - DEBUG - aneris.control.simulation - Retrieving data with identity \"device.minimum_distance_x\".\n",
      "2016-09-06 13:34:13,440 - DEBUG - aneris.control.simulation - Retrieving data with identity \"device.minimum_distance_y\".\n",
      "2016-09-06 13:34:13,440 - DEBUG - aneris.control.simulation - Retrieving data with identity \"device.installation_depth_min\".\n",
      "2016-09-06 13:34:13,440 - DEBUG - aneris.control.simulation - Retrieving data with identity \"device.wave_data_directory\".\n",
      "2016-09-06 13:34:13,441 - DEBUG - aneris.control.simulation - Retrieving data with identity \"farm.blockage_ratio\".\n",
      "2016-09-06 13:34:13,443 - DEBUG - aneris.control.simulation - Retrieving data with identity \"site.lease_boundary\".\n",
      "2016-09-06 13:34:13,444 - DEBUG - aneris.control.simulation - Retrieving data with identity \"options.optimisation_threshold\".\n",
      "2016-09-06 13:34:13,444 - DEBUG - aneris.control.simulation - Retrieving data with identity \"options.user_array_option\".\n",
      "2016-09-06 13:34:13,446 - DEBUG - aneris.control.simulation - Retrieving data with identity \"device.power_rating\".\n",
      "2016-09-06 13:34:13,447 - DEBUG - aneris.control.simulation - Retrieving data with identity \"farm.nogo_areas\".\n",
      "2016-09-06 13:34:13,447 - DEBUG - aneris.control.simulation - Retrieving data with identity \"farm.point_sea_surface_height\".\n",
      "2016-09-06 13:34:13,447 - DEBUG - aneris.control.simulation - Retrieving data with identity \"farm.spectrum_name\".\n",
      "2016-09-06 13:34:13,448 - DEBUG - aneris.control.simulation - Retrieving data with identity \"farm.power_law_exponent\".\n",
      "2016-09-06 13:34:13,450 - DEBUG - aneris.control.simulation - Retrieving data with identity \"device.yaw\".\n",
      "2016-09-06 13:34:13,450 - DEBUG - aneris.control.simulation - Retrieving data with identity \"device.system_type\".\n",
      "2016-09-06 13:34:13,451 - DEBUG - aneris.control.simulation - Retrieving data with identity \"farm.mannings\".\n",
      "2016-09-06 13:34:13,453 - DEBUG - aneris.control.simulation - Retrieving data with identity \"corridor.landing_point\".\n",
      "2016-09-06 13:34:13,453 - DEBUG - aneris.control.simulation - Retrieving data with identity \"options.user_array_layout\".\n",
      "2016-09-06 13:34:13,454 - DEBUG - aneris.control.simulation - Retrieving data with identity \"farm.spec_spread\".\n",
      "2016-09-06 13:34:13,456 - DEBUG - aneris.control.simulation - Retrieving data with identity \"bathymetry.layers\".\n",
      "2016-09-06 13:34:13,457 - DEBUG - aneris.control.simulation - Retrieving data with identity \"farm.spec_gamma\".\n",
      "2016-09-06 13:34:13,457 - DEBUG - aneris.control.simulation - Retrieving data with identity \"farm.rated_power\".\n",
      "No NOGO areas related to the machine depthinstallation constraints have been found.\n",
      "2016-09-06 13:34:13,480 - WARNING - dtocean_hydro.input - [Warning] The wave module cannot run with variable bathymetry\n",
      "The bathymetry is reduced to its average value.\n",
      "2016-09-06 13:34:13,482 - INFO - dtocean_hydro.input - The averge bathymetry value is -51.0 m\n",
      "2016-09-06 13:34:13,515 - INFO - dtocean_hydro.input - --> MACHINE INPUT SUMMARY:\n",
      "\n",
      "{   'Clen': None,\n",
      "    'Floatflag': True,\n",
      "    'InstalDepth': (-inf, 0.0),\n",
      "    'MaxNumDevices': 100,\n",
      "    'MinDist': (40.0, 40.0),\n",
      "    'OptThreshold': 0,\n",
      "    'RatedPowerArray': 100.0,\n",
      "    'RatedPowerDevice': 1.0,\n",
      "    'Type': 'Wave',\n",
      "    'UserArray': {   'Option': 2,\n",
      "                     'Value': array([[ 450.,  100.],\n",
      "       [ 550.,  100.],\n",
      "       [ 450.,  150.],\n",
      "       [ 550.,  150.]])},\n",
      "    'UserOutputTable': None,\n",
      "    'YawAngle': 0.0,\n",
      "    'lCS': array([ 0.,  0.,  0.]),\n",
      "    'tidalFlag': False,\n",
      "    'tidal_bidirectional': None,\n",
      "    'tidal_cutinout': None,\n",
      "    'tidal_data_folder': None,\n",
      "    'tidal_power_curve': None,\n",
      "    'tidal_thrust_curve': None,\n",
      "    'tidal_velocity_curve': None,\n",
      "    'wave_data_folder': 'd:\\\\Users\\\\108386\\\\Desktop\\\\notebooks\\\\nemoh'}\n",
      "2016-09-06 13:34:13,538 - INFO - dtocean_hydro.input - --> SITE INPUT SUMMARY:\n",
      "\n",
      "{   'BR': 1.0,\n",
      "    'Bathymetry': array([[    0.        ,     0.        ,    -1.        ],\n",
      "       [   52.63157895,     0.        ,    -1.        ],\n",
      "       [  105.26315789,     0.        ,    -1.        ],\n",
      "       ..., \n",
      "       [  894.73684211,   300.        ,  -101.        ],\n",
      "       [  947.36842105,   300.        ,  -101.        ],\n",
      "       [ 1000.        ,   300.        ,  -101.        ]]),\n",
      "    'Geophysics': array([[  0.00000000e+00,   0.00000000e+00,   3.00000000e-01],\n",
      "       [  5.26315789e+01,   0.00000000e+00,   3.00000000e-01],\n",
      "       [  1.05263158e+02,   0.00000000e+00,   3.00000000e-01],\n",
      "       ..., \n",
      "       [  8.94736842e+02,   3.00000000e+02,   3.00000000e-01],\n",
      "       [  9.47368421e+02,   3.00000000e+02,   3.00000000e-01],\n",
      "       [  1.00000000e+03,   3.00000000e+02,   3.00000000e-01]]),\n",
      "    'LeaseArea': array([[  50.,   50.],\n",
      "       [  50.,  250.],\n",
      "       [ 950.,  250.],\n",
      "       [ 950.,   50.],\n",
      "       [  50.,   50.]]),\n",
      "    'Main_Direction': array([-0.08836869,  0.99608784]),\n",
      "    'MeteoceanConditions': {   'B': array([ 4.71238898,  3.69468613,  2.67698328,  1.65928043,  0.64157758,\n",
      "        5.90706004,  4.88935719,  3.87165434]),\n",
      "                               'Hs': array([  0.25,   1.25,   2.25,   3.25,   4.25,   5.25,   6.25,   7.25,\n",
      "         8.25,   9.25,  10.25,  11.25,  12.25,  13.25,  14.25]),\n",
      "                               'SSH': 0.0,\n",
      "                               'Tp': array([ 0.55278611,  1.10557223,  1.65835834,  2.21114446,  2.76393057,\n",
      "        3.31671668,  3.8695028 ,  4.42228891,  4.97507502,  5.52786114,\n",
      "        6.08064725,  6.63343337,  7.18621948,  7.73900559,  8.29179171,\n",
      "        8.84457782,  9.39736393,  9.95015005]),\n",
      "                               'p': array([[[ 0.   ,  0.   ,  0.001, ...,  0.001,  0.   ,  0.   ],\n",
      "        [ 0.001,  0.   ,  0.002, ...,  0.   ,  0.001,  0.   ],\n",
      "        [ 0.   ,  0.   ,  0.002, ...,  0.001,  0.   ,  0.001],\n",
      "        ..., \n",
      "        [ 0.   ,  0.   ,  0.001, ...,  0.001,  0.   ,  0.   ],\n",
      "        [ 0.   ,  0.001,  0.   , ...,  0.   ,  0.   ,  0.   ],\n",
      "        [ 0.001,  0.   ,  0.   , ...,  0.001,  0.   ,  0.001]],\n",
      "\n",
      "       [[ 0.   ,  0.   ,  0.002, ...,  0.   ,  0.001,  0.001],\n",
      "        [ 0.001,  0.   ,  0.001, ...,  0.   ,  0.   ,  0.001],\n",
      "        [ 0.   ,  0.001,  0.   , ...,  0.001,  0.   ,  0.002],\n",
      "        ..., \n",
      "        [ 0.001,  0.   ,  0.   , ...,  0.001,  0.   ,  0.001],\n",
      "        [ 0.001,  0.002,  0.   , ...,  0.   ,  0.   ,  0.001],\n",
      "        [ 0.001,  0.001,  0.   , ...,  0.   ,  0.   ,  0.001]],\n",
      "\n",
      "       [[ 0.   ,  0.   ,  0.001, ...,  0.   ,  0.   ,  0.   ],\n",
      "        [ 0.001,  0.001,  0.   , ...,  0.   ,  0.001,  0.002],\n",
      "        [ 0.   ,  0.   ,  0.   , ...,  0.   ,  0.001,  0.   ],\n",
      "        ..., \n",
      "        [ 0.   ,  0.001,  0.001, ...,  0.001,  0.   ,  0.   ],\n",
      "        [ 0.001,  0.   ,  0.   , ...,  0.   ,  0.   ,  0.   ],\n",
      "        [ 0.001,  0.   ,  0.001, ...,  0.   ,  0.   ,  0.   ]],\n",
      "\n",
      "       ..., \n",
      "       [[ 0.   ,  0.001,  0.   , ...,  0.   ,  0.002,  0.001],\n",
      "        [ 0.   ,  0.001,  0.   , ...,  0.   ,  0.   ,  0.   ],\n",
      "        [ 0.   ,  0.001,  0.001, ...,  0.   ,  0.001,  0.   ],\n",
      "        ..., \n",
      "        [ 0.   ,  0.001,  0.   , ...,  0.   ,  0.   ,  0.   ],\n",
      "        [ 0.   ,  0.001,  0.002, ...,  0.   ,  0.   ,  0.   ],\n",
      "        [ 0.   ,  0.001,  0.   , ...,  0.   ,  0.   ,  0.   ]],\n",
      "\n",
      "       [[ 0.001,  0.   ,  0.   , ...,  0.001,  0.001,  0.   ],\n",
      "        [ 0.   ,  0.   ,  0.001, ...,  0.   ,  0.   ,  0.   ],\n",
      "        [ 0.   ,  0.001,  0.   , ...,  0.   ,  0.001,  0.   ],\n",
      "        ..., \n",
      "        [ 0.   ,  0.   ,  0.001, ...,  0.   ,  0.   ,  0.   ],\n",
      "        [ 0.001,  0.002,  0.   , ...,  0.   ,  0.   ,  0.   ],\n",
      "        [ 0.   ,  0.   ,  0.001, ...,  0.   ,  0.001,  0.   ]],\n",
      "\n",
      "       [[ 0.   ,  0.   ,  0.   , ...,  0.   ,  0.001,  0.   ],\n",
      "        [ 0.   ,  0.001,  0.   , ...,  0.001,  0.   ,  0.001],\n",
      "        [ 0.002,  0.002,  0.   , ...,  0.001,  0.001,  0.001],\n",
      "        ..., \n",
      "        [ 0.   ,  0.   ,  0.   , ...,  0.   ,  0.   ,  0.   ],\n",
      "        [ 0.   ,  0.   ,  0.001, ...,  0.001,  0.   ,  0.   ],\n",
      "        [ 0.001,  0.001,  0.   , ...,  0.   ,  0.   ,  0.   ]]]),\n",
      "                               'specType': ('Jonswap', 3.3, 0.0)},\n",
      "    'NogoAreas': [   array([[ 0. ,  0. ],\n",
      "       [ 0.1,  0. ],\n",
      "       [ 0.1,  0.1],\n",
      "       [ 0. ,  0.1]])],\n",
      "    'NogoAreas_bathymetry': None,\n",
      "    'VelocityShear': 7.0,\n",
      "    '_LeaseArea': array([[  50.,   50.],\n",
      "       [ 950.,   50.],\n",
      "       [ 950.,  250.],\n",
      "       [  50.,  250.],\n",
      "       [  50.,   50.]]),\n",
      "    '_average_water_depth': -51.0,\n",
      "    'boundary_padding': None,\n",
      "    'electrical_connection_point': array([ 0.,  0.]),\n",
      "    'mainAngle': 1.6592804311560101}\n",
      "2016-09-06 13:34:13,575 - INFO - dtocean_hydro.main - Finishing the WP2 task: Evaluation of the final array layout interaction\n",
      "2016-09-06 13:34:13,576 - WARNING - dtocean_hydro.main - ('The given BEM solution for the isolated device is calculated at a water depth of 50.0m ', 'while the average bathymetry of the lease area minus the input nogo-zones is 51.0m\\n', 'and the average installation depth of the different machines with the given array layout is 40.4736842105m.\\n ', 'The BEM software should be run with a water depth close to the average water depth of ', 'the lease area to minimise the errors itroduced with the flat bathymetry approximation.\\n ', 'With the actual hydrodynamic model the accuracy of the results is reduced. \\n', 'Consider to re-evaluate the hydrodynamic model of the isolated device for the actual average bathymetry [51.0m]\\n', 'This value is calculated by averaging the bathymetry gridpoints that satify the following three conditions:\\n', '\\t --> point inside the lease area\\n', '\\t --> point outside the user-given nogo-zones\\n', '\\t --> point below the considered water level datum.')\n",
      "2016-09-06 13:34:16,736 - INFO - dtocean_hydro.output - \n",
      "\n",
      "2016-09-06 13:34:16,739 - INFO - dtocean_hydro.output - Results Summary\n",
      "2016-09-06 13:34:16,740 - INFO - dtocean_hydro.output - -----------------------------------\n",
      "\n",
      "2016-09-06 13:34:16,740 - INFO - dtocean_hydro.output - Annual Energy Production of the Array\n",
      "2016-09-06 13:34:16,742 - INFO - dtocean_hydro.output - 29255.5473887\n",
      "2016-09-06 13:34:16,743 - INFO - dtocean_hydro.output - Annual Energy Production of each device\n",
      "2016-09-06 13:34:16,743 - INFO - dtocean_hydro.output - Device listed with ascending ID from 0 to Nbody-1\n",
      "2016-09-06 13:34:16,743 - INFO - dtocean_hydro.output - [ 7101.04363412  7363.02047686  7500.33156029  7291.15171739]\n",
      "2016-09-06 13:34:16,744 - INFO - dtocean_hydro.output - Array Layout\n",
      "2016-09-06 13:34:16,746 - INFO - dtocean_hydro.output - {'Device001': [450.0, 100.0],\n",
      " 'Device002': [450.0, 150.0],\n",
      " 'Device003': [550.0, 150.0],\n",
      " 'Device004': [550.0, 100.0]}\n",
      "2016-09-06 13:34:16,746 - INFO - dtocean_hydro.output - q-factor of the array\n",
      "2016-09-06 13:34:16,746 - INFO - dtocean_hydro.output - 1.04392992864\n",
      "2016-09-06 13:34:16,746 - INFO - dtocean_hydro.output - q-factor of each device\n",
      "2016-09-06 13:34:16,747 - INFO - dtocean_hydro.output - Device listed with ascending ID from 0 to Nbody-1\n",
      "2016-09-06 13:34:16,747 - INFO - dtocean_hydro.output - [ 1.01355027  1.0509429   1.07054166  1.04068488]\n",
      "2016-09-06 13:34:16,749 - INFO - dtocean_hydro.output - Max (normalised) resource reduction\n",
      "2016-09-06 13:34:16,750 - INFO - dtocean_hydro.output - 6.83361617655e-07\n",
      "2016-09-06 13:34:16,750 - INFO - dtocean_hydro.output - Mean power production of each device for each sea state\n",
      "2016-09-06 13:34:16,753 - INFO - dtocean_hydro.output - Device listed with ascending ID from 0 to Nbody-1\n",
      "2016-09-06 13:34:16,755 - INFO - dtocean_hydro.output - For an array of WECs the sea state are flattened in this order wave period, wave height and wave direction\n",
      "2016-09-06 13:34:16,756 - INFO - dtocean_hydro.output - [[ 0.  0.  0. ...,  0.  0.  0.]\n",
      " [ 0.  0.  0. ...,  0.  0.  0.]\n",
      " [ 0.  0.  0. ...,  0.  0.  0.]\n",
      " [ 0.  0.  0. ...,  0.  0.  0.]]\n",
      "2016-09-06 13:34:16,756 - INFO - dtocean_hydro.output - f_ex dictionary\n",
      "2016-09-06 13:34:16,757 - INFO - dtocean_hydro.output - {'fex': [[],\n",
      "         [],\n",
      "         [[(563508.3284168441+10422.240735553165j),\n",
      "           (563507.4284270304+10422.284195320522j),\n",
      "           (563508.4243751004+10421.657135032052j),\n",
      "           (563508.9170327479+10421.55073556141j),\n",
      "           (563508.4764061077+10421.736284855522j),\n",
      "           (563508.5555952287+10421.477071313535j),\n",
      "           (563507.5580836177+10422.240946860824j),\n",
      "           (563508.3975299514+10421.815661119335j)],\n",
      "          [(90899.04655185553+32181.806440560264j),\n",
      "           (90898.96838745326+32181.923615655807j),\n",
      "           (90901.80177787955+32179.131188014406j),\n",
      "           (90904.34835593883+32179.938655458933j),\n",
      "           (90901.27244117456+32179.301684264276j),\n",
      "           (90904.74451853108+32179.757249777478j),\n",
      "           (90899.19618295608+32181.707486985593j),\n",
      "           (90900.64253690085+32179.553465786255j)],\n",
      "          [(457.124297290545+5086.625411056243j),\n",
      "           (457.20327887756366+5086.838924211294j),\n",
      "           (457.667969335964+5084.274522704379j),\n",
      "           (460.8841546615633+5084.81314569455j),\n",
      "           (457.04566286979235+5084.414867487389j),\n",
      "           (461.4555835259574+5084.942184518182j),\n",
      "           (456.82091295141703+5086.32491483006j),\n",
      "           (456.79291983890937+5084.624712798552j)],\n",
      "          [(-180.59618770765508+5.116074224649389j),\n",
      "           (-180.99588343390727+5.200321671388313j),\n",
      "           (-179.4173801171508+4.610288686952673j),\n",
      "           (-180.54996421529862+5.032459864985737j),\n",
      "           (-179.51167567810694+4.580563691710522j),\n",
      "           (-181.04987354328213+5.126658796296606j),\n",
      "           (-180.39877692005803+5.010943337762642j),\n",
      "           (-179.3395876016666+4.611721967413749j)],\n",
      "          [(241.696229182621+108.27646612705841j),\n",
      "           (241.4874095606693+108.15599978669j),\n",
      "           (241.63326341615596+108.38940961364698j),\n",
      "           (241.46397249502235+108.24337056323893j),\n",
      "           (241.43136131844233+108.28680065862783j),\n",
      "           (241.4649747958079+108.25173015223665j),\n",
      "           (241.5787237865365+108.22087213615467j),\n",
      "           (241.6868480438756+108.39555826506985j)],\n",
      "          [(4737.753802148622+1050.5783126673741j),\n",
      "           (4751.242274651711+1056.3356923529798j),\n",
      "           (4781.655170194435+1060.3731420770828j),\n",
      "           (4760.642222255098+1059.070318241993j),\n",
      "           (4785.396643364819+1058.832974104499j),\n",
      "           (4742.162930271688+1053.3795765942805j),\n",
      "           (4764.000496771447+1059.3533739040704j),\n",
      "           (4781.666364872308+1060.3541223898599j)],\n",
      "          [(-1617.6994082235867+130.16943836611048j),\n",
      "           (-1614.2964151039876+120.78004564584381j),\n",
      "           (-1629.070851260508+130.81622031284041j),\n",
      "           (-1626.8564537441289+121.40265213906143j),\n",
      "           (-1643.1374977911819+123.16045196303642j),\n",
      "           (-1613.1119258013298+129.50566147805358j),\n",
      "           (-1621.4954196879494+121.27299072008218j),\n",
      "           (-1629.0838968008738+130.44759938992613j)],\n",
      "          [(298.7899676703704-68.93695974077245j),\n",
      "           (299.84016530926266-69.17942944679147j),\n",
      "           (296.5633631543572-69.41391645517275j),\n",
      "           (300.7269797656434-68.46914533995593j),\n",
      "           (307.7103833226285-70.1638812561975j),\n",
      "           (298.197899863461-69.72696293428925j),\n",
      "           (299.7191813515538-69.07371665892451j),\n",
      "           (295.64299047726774-69.15939139542365j)],\n",
      "          [(30.20507974931632+2.949284389718706j),\n",
      "           (28.57766310778238+3.271034084540096j),\n",
      "           (29.65378344458759+3.0288883189824416j),\n",
      "           (27.240431205509157+3.387641374389539j),\n",
      "           (25.87237714249673+3.0575382419434485j),\n",
      "           (28.829430680135893+2.9014247609710937j),\n",
      "           (28.694037098866314+3.324024340319769j),\n",
      "           (30.241750547036606+3.1074394505828136j)],\n",
      "          [(37.759434881981264-0.6055192070202088j),\n",
      "           (36.34497547580026-0.556406261212109j),\n",
      "           (38.220604182325566-0.5889962797547524j),\n",
      "           (36.945595801217074-0.5999391149372659j),\n",
      "           (36.48851809045079-0.5922164060178192j),\n",
      "           (37.66799115127232-0.599064900496899j),\n",
      "           (37.01817791259898-0.5694508185352349j),\n",
      "           (38.394708538917875-0.5929733121935815j)]]],\n",
      " 'mode_def': [0, 0, 1],\n",
      " 'wave_dir': (1.6592804311560101,\n",
      "              4.7123889803846897,\n",
      "              3.6946861306417884,\n",
      "              2.6769832808989031,\n",
      "              0.64157758141311683,\n",
      "              5.907060038849826,\n",
      "              4.8893571891069172,\n",
      "              3.871654339363944),\n",
      " 'wave_fr': array([ 0.07957747,  0.19452271,  0.30946794,  0.42441318,  0.53935842,\n",
      "        0.65430365,  0.76924889,  0.88419413,  0.99913936,  1.1140846 ])}\n",
      "2016-09-06 13:34:16,759 - INFO - dtocean_hydro.output - Power matrix\n",
      "2016-09-06 13:34:16,760 - INFO - dtocean_hydro.output - [[[ 0.]]]\n",
      "2016-09-06 13:34:16,762 - INFO - dtocean_hydro.output - Main Direction\n",
      "2016-09-06 13:34:16,763 - INFO - dtocean_hydro.output - [-0.08836869  0.99608784]\n",
      "2016-09-06 13:34:17,138 - DEBUG - aneris.control.data - DataState with level \"hydrodynamics output\" created\n",
      "2016-09-06 13:34:17,140 - INFO - aneris.control.data - New \"farm.annual_energy\" data stored with index QQAVYZ\n",
      "2016-09-06 13:34:17,141 - INFO - aneris.control.data - New \"farm.annual_energy_per_device\" data stored with index 7QAZGN\n",
      "2016-09-06 13:34:17,141 - INFO - aneris.control.data - New \"device.external_forces\" data stored with index QWCAT6\n",
      "2016-09-06 13:34:17,142 - INFO - aneris.control.data - New \"farm.layout\" data stored with index BOQFGL\n",
      "2016-09-06 13:34:17,144 - INFO - aneris.control.data - New \"farm.main_direction\" data stored with index AXDUWF\n",
      "2016-09-06 13:34:17,145 - INFO - aneris.control.data - New \"farm.mean_power_per_device\" data stored with index NMHCF5\n",
      "2016-09-06 13:34:17,147 - INFO - aneris.control.data - New \"farm.mean_power_pmf_per_device\" data stored with index 92J0QY\n",
      "2016-09-06 13:34:17,148 - INFO - aneris.control.data - New \"farm.mean_power_hist_per_device\" data stored with index VHELI8\n",
      "2016-09-06 13:34:17,150 - INFO - aneris.control.data - New \"farm.number_of_devices\" data stored with index U1NMUA\n",
      "2016-09-06 13:34:17,151 - INFO - aneris.control.data - New \"farm.q_factor\" data stored with index 1LR4O7\n",
      "2016-09-06 13:34:17,153 - INFO - aneris.control.data - New \"farm.q_factor_per_device\" data stored with index G7DQI0\n",
      "2016-09-06 13:34:17,154 - INFO - aneris.control.data - New \"farm.resource_reduction\" data stored with index YNDJ12\n",
      "2016-09-06 13:34:17,155 - INFO - aneris.control.data - New \"farm.wave_occurrence\" data stored with index TG1JS0\n",
      "2016-09-06 13:34:17,157 - INFO - aneris.control.simulation - Datastate with level \"hydrodynamics output\" stored\n",
      "2016-09-06 13:34:17,158 - DEBUG - aneris.control.simulation - Merging active DataStates.\n",
      "2016-09-06 13:34:17,160 - DEBUG - aneris.control.simulation - Getting output status for interface \"System Type Selection\".\n",
      "2016-09-06 13:34:17,161 - DEBUG - aneris.control.simulation - Getting output status for interface \"Hydrodynamics\".\n",
      "2016-09-06 13:34:17,161 - DEBUG - aneris.control.simulation - Getting output status for interface \"Environmental Impact Assessment\".\n",
      "2016-09-06 13:34:17,163 - DEBUG - aneris.control.simulation - Getting input status for interface \"System Type Selection\".\n",
      "2016-09-06 13:34:17,164 - DEBUG - aneris.control.simulation - Getting input status for interface \"Hydrodynamics\".\n",
      "2016-09-06 13:34:17,164 - DEBUG - aneris.control.simulation - Checking mask status for input \"device.bidirection\".\n",
      "2016-09-06 13:34:17,165 - DEBUG - aneris.control.simulation - Retrieving data with identity \"device.system_type\".\n",
      "2016-09-06 13:34:17,167 - DEBUG - aneris.control.simulation - Checking mask status for input \"device.cut_in_velocity\".\n",
      "2016-09-06 13:34:17,167 - DEBUG - aneris.control.simulation - Retrieving data with identity \"device.system_type\".\n",
      "2016-09-06 13:34:17,168 - DEBUG - aneris.control.simulation - Checking mask status for input \"device.cut_out_velocity\".\n",
      "2016-09-06 13:34:17,168 - DEBUG - aneris.control.simulation - Retrieving data with identity \"device.system_type\".\n",
      "2016-09-06 13:34:17,170 - DEBUG - aneris.control.simulation - Checking mask status for input \"device.turbine_diameter\".\n",
      "2016-09-06 13:34:17,171 - DEBUG - aneris.control.simulation - Retrieving data with identity \"device.system_type\".\n",
      "2016-09-06 13:34:17,171 - DEBUG - aneris.control.simulation - Checking mask status for input \"device.turbine_interdistance\".\n",
      "2016-09-06 13:34:17,173 - DEBUG - aneris.control.simulation - Retrieving data with identity \"device.system_type\".\n",
      "2016-09-06 13:34:17,173 - DEBUG - aneris.control.simulation - Checking mask status for input \"device.turbine_performance\".\n",
      "2016-09-06 13:34:17,174 - DEBUG - aneris.control.simulation - Retrieving data with identity \"device.system_type\".\n",
      "2016-09-06 13:34:17,174 - DEBUG - aneris.control.simulation - Checking mask status for input \"device.wave_data_directory\".\n",
      "2016-09-06 13:34:17,174 - DEBUG - aneris.control.simulation - Retrieving data with identity \"device.system_type\".\n",
      "2016-09-06 13:34:17,176 - DEBUG - aneris.control.simulation - Checking mask status for input \"farm.point_sea_surface_height\".\n",
      "2016-09-06 13:34:17,177 - DEBUG - aneris.control.simulation - Retrieving data with identity \"device.system_type\".\n",
      "2016-09-06 13:34:17,177 - DEBUG - aneris.control.simulation - Checking mask status for input \"farm.spectrum_name\".\n",
      "2016-09-06 13:34:17,177 - DEBUG - aneris.control.simulation - Retrieving data with identity \"device.system_type\".\n",
      "2016-09-06 13:34:17,177 - DEBUG - aneris.control.simulation - Checking mask status for input \"farm.spec_gamma\".\n",
      "2016-09-06 13:34:17,178 - DEBUG - aneris.control.simulation - Retrieving data with identity \"device.system_type\".\n",
      "2016-09-06 13:34:17,180 - DEBUG - aneris.control.simulation - Checking mask status for input \"farm.spec_spread\".\n",
      "2016-09-06 13:34:17,180 - DEBUG - aneris.control.simulation - Retrieving data with identity \"device.system_type\".\n",
      "2016-09-06 13:34:17,180 - DEBUG - aneris.control.simulation - Checking mask status for input \"farm.tidal_occurrence_nbins\".\n",
      "2016-09-06 13:34:17,181 - DEBUG - aneris.control.simulation - Retrieving data with identity \"device.system_type\".\n",
      "2016-09-06 13:34:17,181 - DEBUG - aneris.control.simulation - Checking mask status for input \"farm.tidal_occurrence_point\".\n",
      "2016-09-06 13:34:17,183 - DEBUG - aneris.control.simulation - Retrieving data with identity \"device.system_type\".\n",
      "2016-09-06 13:34:17,183 - DEBUG - aneris.control.simulation - Checking mask status for input \"farm.tidal_series\".\n",
      "2016-09-06 13:34:17,184 - DEBUG - aneris.control.simulation - Retrieving data with identity \"device.system_type\".\n",
      "2016-09-06 13:34:17,184 - DEBUG - aneris.control.simulation - Checking mask status for input \"farm.wave_series\".\n",
      "2016-09-06 13:34:17,184 - DEBUG - aneris.control.simulation - Retrieving data with identity \"device.system_type\".\n",
      "2016-09-06 13:34:17,186 - DEBUG - aneris.control.simulation - Checking mask status for input \"options.tidal_data_directory\".\n",
      "2016-09-06 13:34:17,187 - DEBUG - aneris.control.simulation - Retrieving data with identity \"device.system_type\".\n",
      "2016-09-06 13:34:17,187 - DEBUG - aneris.control.simulation - Getting input status for interface \"Environmental Impact Assessment\".\n",
      "2016-09-06 13:34:17,190 - DEBUG - aneris.entity.simulation - Masking DataState at level \"system type selection output\".\n",
      "2016-09-06 13:34:17,190 - DEBUG - aneris.entity.simulation - Masking DataState at level \"hydrodynamics output\".\n",
      "2016-09-06 13:34:17,191 - DEBUG - aneris.control.simulation - Merging active DataStates.\n",
      "2016-09-06 13:34:17,193 - DEBUG - aneris.control.simulation - Getting output status for interface \"System Type Selection\".\n",
      "2016-09-06 13:34:17,194 - DEBUG - aneris.control.simulation - Getting output status for interface \"Hydrodynamics\".\n",
      "2016-09-06 13:34:17,194 - DEBUG - aneris.control.simulation - Getting output status for interface \"Environmental Impact Assessment\".\n",
      "2016-09-06 13:34:17,197 - DEBUG - aneris.control.simulation - Getting input status for interface \"System Type Selection\".\n",
      "2016-09-06 13:34:17,197 - DEBUG - aneris.control.simulation - Getting input status for interface \"Hydrodynamics\".\n",
      "2016-09-06 13:34:17,200 - DEBUG - aneris.control.simulation - Checking mask status for input \"device.bidirection\".\n",
      "2016-09-06 13:34:17,200 - DEBUG - aneris.control.simulation - Retrieving data with identity \"device.system_type\".\n",
      "2016-09-06 13:34:17,201 - DEBUG - aneris.control.simulation - Checking mask status for input \"device.cut_in_velocity\".\n",
      "2016-09-06 13:34:17,201 - DEBUG - aneris.control.simulation - Retrieving data with identity \"device.system_type\".\n",
      "2016-09-06 13:34:17,203 - DEBUG - aneris.control.simulation - Checking mask status for input \"device.cut_out_velocity\".\n",
      "2016-09-06 13:34:17,203 - DEBUG - aneris.control.simulation - Retrieving data with identity \"device.system_type\".\n",
      "2016-09-06 13:34:17,204 - DEBUG - aneris.control.simulation - Checking mask status for input \"device.turbine_diameter\".\n",
      "2016-09-06 13:34:17,206 - DEBUG - aneris.control.simulation - Retrieving data with identity \"device.system_type\".\n",
      "2016-09-06 13:34:17,207 - DEBUG - aneris.control.simulation - Checking mask status for input \"device.turbine_interdistance\".\n",
      "2016-09-06 13:34:17,207 - DEBUG - aneris.control.simulation - Retrieving data with identity \"device.system_type\".\n",
      "2016-09-06 13:34:17,209 - DEBUG - aneris.control.simulation - Checking mask status for input \"device.turbine_performance\".\n",
      "2016-09-06 13:34:17,209 - DEBUG - aneris.control.simulation - Retrieving data with identity \"device.system_type\".\n",
      "2016-09-06 13:34:17,210 - DEBUG - aneris.control.simulation - Checking mask status for input \"device.wave_data_directory\".\n",
      "2016-09-06 13:34:17,210 - DEBUG - aneris.control.simulation - Retrieving data with identity \"device.system_type\".\n",
      "2016-09-06 13:34:17,211 - DEBUG - aneris.control.simulation - Checking mask status for input \"farm.point_sea_surface_height\".\n",
      "2016-09-06 13:34:17,213 - DEBUG - aneris.control.simulation - Retrieving data with identity \"device.system_type\".\n",
      "2016-09-06 13:34:17,213 - DEBUG - aneris.control.simulation - Checking mask status for input \"farm.spectrum_name\".\n",
      "2016-09-06 13:34:17,214 - DEBUG - aneris.control.simulation - Retrieving data with identity \"device.system_type\".\n",
      "2016-09-06 13:34:17,214 - DEBUG - aneris.control.simulation - Checking mask status for input \"farm.spec_gamma\".\n",
      "2016-09-06 13:34:17,216 - DEBUG - aneris.control.simulation - Retrieving data with identity \"device.system_type\".\n",
      "2016-09-06 13:34:17,217 - DEBUG - aneris.control.simulation - Checking mask status for input \"farm.spec_spread\".\n",
      "2016-09-06 13:34:17,217 - DEBUG - aneris.control.simulation - Retrieving data with identity \"device.system_type\".\n",
      "2016-09-06 13:34:17,219 - DEBUG - aneris.control.simulation - Checking mask status for input \"farm.tidal_occurrence_nbins\".\n",
      "2016-09-06 13:34:17,220 - DEBUG - aneris.control.simulation - Retrieving data with identity \"device.system_type\".\n",
      "2016-09-06 13:34:17,220 - DEBUG - aneris.control.simulation - Checking mask status for input \"farm.tidal_occurrence_point\".\n",
      "2016-09-06 13:34:17,221 - DEBUG - aneris.control.simulation - Retrieving data with identity \"device.system_type\".\n",
      "2016-09-06 13:34:17,223 - DEBUG - aneris.control.simulation - Checking mask status for input \"farm.tidal_series\".\n",
      "2016-09-06 13:34:17,223 - DEBUG - aneris.control.simulation - Retrieving data with identity \"device.system_type\".\n",
      "2016-09-06 13:34:17,224 - DEBUG - aneris.control.simulation - Checking mask status for input \"farm.wave_series\".\n",
      "2016-09-06 13:34:17,224 - DEBUG - aneris.control.simulation - Retrieving data with identity \"device.system_type\".\n",
      "2016-09-06 13:34:17,226 - DEBUG - aneris.control.simulation - Checking mask status for input \"options.tidal_data_directory\".\n",
      "2016-09-06 13:34:17,226 - DEBUG - aneris.control.simulation - Retrieving data with identity \"device.system_type\".\n",
      "2016-09-06 13:34:17,227 - DEBUG - aneris.control.simulation - Getting input status for interface \"Environmental Impact Assessment\".\n",
      "2016-09-06 13:34:17,229 - INFO - dtocean_core.core - Auto executing interface Environmental Impact Assessment\n",
      "2016-09-06 13:34:17,230 - DEBUG - aneris.control.simulation - Retrieving data with identity \"farm.hydro_measured_turbidity\".\n",
      "2016-09-06 13:34:17,230 - DEBUG - aneris.control.simulation - Retrieving data with identity \"device.system_height\".\n",
      "2016-09-06 13:34:17,232 - DEBUG - aneris.control.simulation - Retrieving data with identity \"farm.initial_turbidity\".\n",
      "2016-09-06 13:34:17,232 - DEBUG - aneris.control.simulation - Retrieving data with identity \"farm.hydro_reserve_effect_weight\".\n",
      "2016-09-06 13:34:17,233 - DEBUG - aneris.control.simulation - Retrieving data with identity \"farm.hydro_measured_noise\".\n",
      "2016-09-06 13:34:17,233 - DEBUG - aneris.control.simulation - Retrieving data with identity \"farm.direction_of_max_surface_current\".\n",
      "2016-09-06 13:34:17,234 - DEBUG - aneris.control.simulation - Retrieving data with identity \"farm.layout\".\n",
      "2016-09-06 13:34:17,236 - DEBUG - aneris.control.simulation - Retrieving data with identity \"farm.protected_table\".\n",
      "2016-09-06 13:34:17,237 - DEBUG - aneris.control.simulation - Retrieving data with identity \"farm.fishery_restricted_area\".\n",
      "2016-09-06 13:34:17,237 - DEBUG - aneris.control.simulation - Retrieving data with identity \"farm.resource_reduction\".\n",
      "2016-09-06 13:34:17,239 - DEBUG - aneris.control.simulation - Retrieving data with identity \"device.system_width\".\n",
      "2016-09-06 13:34:17,240 - DEBUG - aneris.control.simulation - Retrieving data with identity \"device.dry_frontal_area\".\n",
      "2016-09-06 13:34:17,240 - DEBUG - aneris.control.simulation - Retrieving data with identity \"farm.hydro_collision_risk_weight\".\n",
      "2016-09-06 13:34:17,240 - DEBUG - aneris.control.simulation - Retrieving data with identity \"farm.initial_noise\".\n",
      "2016-09-06 13:34:17,242 - DEBUG - aneris.control.simulation - Retrieving data with identity \"device.system_draft\".\n",
      "2016-09-06 13:34:17,243 - DEBUG - aneris.control.simulation - Retrieving data with identity \"farm.receptors_table\".\n",
      "2016-09-06 13:34:17,243 - DEBUG - aneris.control.simulation - Retrieving data with identity \"device.system_type\".\n",
      "2016-09-06 13:34:17,243 - DEBUG - aneris.control.simulation - Retrieving data with identity \"farm.number_of_devices\".\n",
      "2016-09-06 13:34:17,244 - DEBUG - aneris.control.simulation - Retrieving data with identity \"farm.hydro_reef_effect_weight\".\n",
      "2016-09-06 13:34:17,246 - DEBUG - aneris.control.simulation - Retrieving data with identity \"farm.hydro_underwater_noise_risk_weight\".\n",
      "2016-09-06 13:34:17,246 - DEBUG - aneris.control.simulation - Retrieving data with identity \"farm.hydro_resting_place_weight\".\n",
      "2016-09-06 13:34:17,247 - DEBUG - aneris.control.simulation - Retrieving data with identity \"bathymetry.layers\".\n",
      "2016-09-06 13:34:17,249 - DEBUG - aneris.control.simulation - Retrieving data with identity \"device.system_length\".\n",
      "2016-09-06 13:34:17,249 - DEBUG - aneris.control.simulation - Retrieving data with identity \"farm.hydro_energy_modif_weight\".\n",
      "2016-09-06 13:34:17,250 - DEBUG - aneris.control.simulation - Retrieving data with identity \"device.wet_frontal_area\".\n",
      "2016-09-06 13:34:17,250 - DEBUG - aneris.control.simulation - Retrieving data with identity \"site.lease_boundary\".\n",
      "2016-09-06 13:34:17,368 - DEBUG - aneris.control.data - DataState with level \"hydrodynamics local output\" created\n",
      "2016-09-06 13:34:17,368 - INFO - aneris.control.data - New \"farm.hydro_confidence\" data stored with index X2KB9Z\n",
      "2016-09-06 13:34:17,369 - INFO - aneris.control.data - New \"farm.hydro_eis\" data stored with index BCARSI\n",
      "2016-09-06 13:34:17,371 - INFO - aneris.control.data - New \"farm.hydro_season\" data stored with index 8O5RHE\n",
      "2016-09-06 13:34:17,372 - INFO - aneris.control.data - New \"farm.hydro_recommendation_dict\" data stored with index OOE87H\n",
      "2016-09-06 13:34:17,374 - INFO - aneris.control.data - New \"farm.global_eis\" data stored with index 0MJC3A\n",
      "2016-09-06 13:34:17,375 - INFO - aneris.control.simulation - Datastate with level \"hydrodynamics local output\" stored\n",
      "2016-09-06 13:34:17,377 - DEBUG - aneris.control.simulation - Merging active DataStates.\n",
      "2016-09-06 13:34:17,378 - DEBUG - aneris.control.simulation - Getting output status for interface \"System Type Selection\".\n",
      "2016-09-06 13:34:17,380 - DEBUG - aneris.control.simulation - Getting output status for interface \"Hydrodynamics\".\n",
      "2016-09-06 13:34:17,381 - DEBUG - aneris.control.simulation - Getting output status for interface \"Environmental Impact Assessment\".\n",
      "2016-09-06 13:34:17,384 - DEBUG - aneris.control.simulation - Getting input status for interface \"System Type Selection\".\n",
      "2016-09-06 13:34:17,385 - DEBUG - aneris.control.simulation - Getting input status for interface \"Hydrodynamics\".\n",
      "2016-09-06 13:34:17,388 - DEBUG - aneris.control.simulation - Checking mask status for input \"device.bidirection\".\n",
      "2016-09-06 13:34:17,388 - DEBUG - aneris.control.simulation - Retrieving data with identity \"device.system_type\".\n",
      "2016-09-06 13:34:17,388 - DEBUG - aneris.control.simulation - Checking mask status for input \"device.cut_in_velocity\".\n",
      "2016-09-06 13:34:17,390 - DEBUG - aneris.control.simulation - Retrieving data with identity \"device.system_type\".\n",
      "2016-09-06 13:34:17,391 - DEBUG - aneris.control.simulation - Checking mask status for input \"device.cut_out_velocity\".\n",
      "2016-09-06 13:34:17,391 - DEBUG - aneris.control.simulation - Retrieving data with identity \"device.system_type\".\n",
      "2016-09-06 13:34:17,391 - DEBUG - aneris.control.simulation - Checking mask status for input \"device.turbine_diameter\".\n",
      "2016-09-06 13:34:17,392 - DEBUG - aneris.control.simulation - Retrieving data with identity \"device.system_type\".\n",
      "2016-09-06 13:34:17,394 - DEBUG - aneris.control.simulation - Checking mask status for input \"device.turbine_interdistance\".\n",
      "2016-09-06 13:34:17,394 - DEBUG - aneris.control.simulation - Retrieving data with identity \"device.system_type\".\n",
      "2016-09-06 13:34:17,394 - DEBUG - aneris.control.simulation - Checking mask status for input \"device.turbine_performance\".\n",
      "2016-09-06 13:34:17,395 - DEBUG - aneris.control.simulation - Retrieving data with identity \"device.system_type\".\n",
      "2016-09-06 13:34:17,397 - DEBUG - aneris.control.simulation - Checking mask status for input \"device.wave_data_directory\".\n",
      "2016-09-06 13:34:17,398 - DEBUG - aneris.control.simulation - Retrieving data with identity \"device.system_type\".\n",
      "2016-09-06 13:34:17,398 - DEBUG - aneris.control.simulation - Checking mask status for input \"farm.point_sea_surface_height\".\n",
      "2016-09-06 13:34:17,398 - DEBUG - aneris.control.simulation - Retrieving data with identity \"device.system_type\".\n",
      "2016-09-06 13:34:17,400 - DEBUG - aneris.control.simulation - Checking mask status for input \"farm.spectrum_name\".\n",
      "2016-09-06 13:34:17,401 - DEBUG - aneris.control.simulation - Retrieving data with identity \"device.system_type\".\n",
      "2016-09-06 13:34:17,401 - DEBUG - aneris.control.simulation - Checking mask status for input \"farm.spec_gamma\".\n",
      "2016-09-06 13:34:17,403 - DEBUG - aneris.control.simulation - Retrieving data with identity \"device.system_type\".\n",
      "2016-09-06 13:34:17,404 - DEBUG - aneris.control.simulation - Checking mask status for input \"farm.spec_spread\".\n",
      "2016-09-06 13:34:17,405 - DEBUG - aneris.control.simulation - Retrieving data with identity \"device.system_type\".\n",
      "2016-09-06 13:34:17,407 - DEBUG - aneris.control.simulation - Checking mask status for input \"farm.tidal_occurrence_nbins\".\n",
      "2016-09-06 13:34:17,407 - DEBUG - aneris.control.simulation - Retrieving data with identity \"device.system_type\".\n",
      "2016-09-06 13:34:17,407 - DEBUG - aneris.control.simulation - Checking mask status for input \"farm.tidal_occurrence_point\".\n",
      "2016-09-06 13:34:17,408 - DEBUG - aneris.control.simulation - Retrieving data with identity \"device.system_type\".\n",
      "2016-09-06 13:34:17,410 - DEBUG - aneris.control.simulation - Checking mask status for input \"farm.tidal_series\".\n",
      "2016-09-06 13:34:17,411 - DEBUG - aneris.control.simulation - Retrieving data with identity \"device.system_type\".\n",
      "2016-09-06 13:34:17,411 - DEBUG - aneris.control.simulation - Checking mask status for input \"farm.wave_series\".\n",
      "2016-09-06 13:34:17,413 - DEBUG - aneris.control.simulation - Retrieving data with identity \"device.system_type\".\n",
      "2016-09-06 13:34:17,413 - DEBUG - aneris.control.simulation - Checking mask status for input \"options.tidal_data_directory\".\n",
      "2016-09-06 13:34:17,414 - DEBUG - aneris.control.simulation - Retrieving data with identity \"device.system_type\".\n",
      "2016-09-06 13:34:17,414 - DEBUG - aneris.control.simulation - Getting input status for interface \"Environmental Impact Assessment\".\n",
      "2016-09-06 13:34:17,417 - DEBUG - aneris.control.simulation - Merging active DataStates.\n",
      "2016-09-06 13:34:17,418 - DEBUG - aneris.control.simulation - Getting output status for interface \"System Type Selection\".\n",
      "2016-09-06 13:34:17,421 - DEBUG - aneris.control.simulation - Getting output status for interface \"Hydrodynamics\".\n",
      "2016-09-06 13:34:17,423 - DEBUG - aneris.control.simulation - Getting output status for interface \"Environmental Impact Assessment\".\n",
      "2016-09-06 13:34:17,424 - DEBUG - aneris.control.simulation - Getting input status for interface \"System Type Selection\".\n",
      "2016-09-06 13:34:17,426 - DEBUG - aneris.control.simulation - Getting input status for interface \"Hydrodynamics\".\n",
      "2016-09-06 13:34:17,427 - DEBUG - aneris.control.simulation - Checking mask status for input \"device.bidirection\".\n",
      "2016-09-06 13:34:17,428 - DEBUG - aneris.control.simulation - Retrieving data with identity \"device.system_type\".\n",
      "2016-09-06 13:34:17,428 - DEBUG - aneris.control.simulation - Checking mask status for input \"device.cut_in_velocity\".\n",
      "2016-09-06 13:34:17,430 - DEBUG - aneris.control.simulation - Retrieving data with identity \"device.system_type\".\n",
      "2016-09-06 13:34:17,430 - DEBUG - aneris.control.simulation - Checking mask status for input \"device.cut_out_velocity\".\n",
      "2016-09-06 13:34:17,431 - DEBUG - aneris.control.simulation - Retrieving data with identity \"device.system_type\".\n",
      "2016-09-06 13:34:17,433 - DEBUG - aneris.control.simulation - Checking mask status for input \"device.turbine_diameter\".\n",
      "2016-09-06 13:34:17,433 - DEBUG - aneris.control.simulation - Retrieving data with identity \"device.system_type\".\n",
      "2016-09-06 13:34:17,434 - DEBUG - aneris.control.simulation - Checking mask status for input \"device.turbine_interdistance\".\n",
      "2016-09-06 13:34:17,434 - DEBUG - aneris.control.simulation - Retrieving data with identity \"device.system_type\".\n",
      "2016-09-06 13:34:17,436 - DEBUG - aneris.control.simulation - Checking mask status for input \"device.turbine_performance\".\n",
      "2016-09-06 13:34:17,437 - DEBUG - aneris.control.simulation - Retrieving data with identity \"device.system_type\".\n",
      "2016-09-06 13:34:17,437 - DEBUG - aneris.control.simulation - Checking mask status for input \"device.wave_data_directory\".\n",
      "2016-09-06 13:34:17,437 - DEBUG - aneris.control.simulation - Retrieving data with identity \"device.system_type\".\n",
      "2016-09-06 13:34:17,438 - DEBUG - aneris.control.simulation - Checking mask status for input \"farm.point_sea_surface_height\".\n",
      "2016-09-06 13:34:17,440 - DEBUG - aneris.control.simulation - Retrieving data with identity \"device.system_type\".\n",
      "2016-09-06 13:34:17,440 - DEBUG - aneris.control.simulation - Checking mask status for input \"farm.spectrum_name\".\n",
      "2016-09-06 13:34:17,440 - DEBUG - aneris.control.simulation - Retrieving data with identity \"device.system_type\".\n",
      "2016-09-06 13:34:17,441 - DEBUG - aneris.control.simulation - Checking mask status for input \"farm.spec_gamma\".\n",
      "2016-09-06 13:34:17,443 - DEBUG - aneris.control.simulation - Retrieving data with identity \"device.system_type\".\n",
      "2016-09-06 13:34:17,443 - DEBUG - aneris.control.simulation - Checking mask status for input \"farm.spec_spread\".\n",
      "2016-09-06 13:34:17,444 - DEBUG - aneris.control.simulation - Retrieving data with identity \"device.system_type\".\n",
      "2016-09-06 13:34:17,444 - DEBUG - aneris.control.simulation - Checking mask status for input \"farm.tidal_occurrence_nbins\".\n",
      "2016-09-06 13:34:17,447 - DEBUG - aneris.control.simulation - Retrieving data with identity \"device.system_type\".\n",
      "2016-09-06 13:34:17,447 - DEBUG - aneris.control.simulation - Checking mask status for input \"farm.tidal_occurrence_point\".\n",
      "2016-09-06 13:34:17,450 - DEBUG - aneris.control.simulation - Retrieving data with identity \"device.system_type\".\n",
      "2016-09-06 13:34:17,450 - DEBUG - aneris.control.simulation - Checking mask status for input \"farm.tidal_series\".\n",
      "2016-09-06 13:34:17,451 - DEBUG - aneris.control.simulation - Retrieving data with identity \"device.system_type\".\n",
      "2016-09-06 13:34:17,453 - DEBUG - aneris.control.simulation - Checking mask status for input \"farm.wave_series\".\n",
      "2016-09-06 13:34:17,453 - DEBUG - aneris.control.simulation - Retrieving data with identity \"device.system_type\".\n",
      "2016-09-06 13:34:17,453 - DEBUG - aneris.control.simulation - Checking mask status for input \"options.tidal_data_directory\".\n",
      "2016-09-06 13:34:17,454 - DEBUG - aneris.control.simulation - Retrieving data with identity \"device.system_type\".\n",
      "2016-09-06 13:34:17,456 - DEBUG - aneris.control.simulation - Getting input status for interface \"Environmental Impact Assessment\".\n",
      "2016-09-06 13:34:17,457 - INFO - dtocean_core.core - Auto executing interface Environmental Impact Assessment\n",
      "2016-09-06 13:34:17,459 - DEBUG - aneris.control.simulation - Retrieving data with identity \"farm.hydro_measured_turbidity\".\n",
      "2016-09-06 13:34:17,460 - DEBUG - aneris.control.simulation - Retrieving data with identity \"device.system_height\".\n",
      "2016-09-06 13:34:17,460 - DEBUG - aneris.control.simulation - Retrieving data with identity \"farm.initial_turbidity\".\n",
      "2016-09-06 13:34:17,460 - DEBUG - aneris.control.simulation - Retrieving data with identity \"farm.hydro_reserve_effect_weight\".\n",
      "2016-09-06 13:34:17,461 - DEBUG - aneris.control.simulation - Retrieving data with identity \"farm.hydro_measured_noise\".\n",
      "2016-09-06 13:34:17,463 - DEBUG - aneris.control.simulation - Retrieving data with identity \"farm.direction_of_max_surface_current\".\n",
      "2016-09-06 13:34:17,463 - DEBUG - aneris.control.simulation - Retrieving data with identity \"farm.layout\".\n",
      "2016-09-06 13:34:17,463 - DEBUG - aneris.control.simulation - Retrieving data with identity \"farm.protected_table\".\n",
      "2016-09-06 13:34:17,464 - DEBUG - aneris.control.simulation - Retrieving data with identity \"farm.fishery_restricted_area\".\n",
      "2016-09-06 13:34:17,466 - DEBUG - aneris.control.simulation - Retrieving data with identity \"farm.resource_reduction\".\n",
      "2016-09-06 13:34:17,467 - DEBUG - aneris.control.simulation - Retrieving data with identity \"device.system_width\".\n",
      "2016-09-06 13:34:17,467 - DEBUG - aneris.control.simulation - Retrieving data with identity \"device.dry_frontal_area\".\n",
      "2016-09-06 13:34:17,469 - DEBUG - aneris.control.simulation - Retrieving data with identity \"farm.hydro_collision_risk_weight\".\n",
      "2016-09-06 13:34:17,469 - DEBUG - aneris.control.simulation - Retrieving data with identity \"farm.initial_noise\".\n",
      "2016-09-06 13:34:17,470 - DEBUG - aneris.control.simulation - Retrieving data with identity \"device.system_draft\".\n",
      "2016-09-06 13:34:17,470 - DEBUG - aneris.control.simulation - Retrieving data with identity \"farm.receptors_table\".\n",
      "2016-09-06 13:34:17,471 - DEBUG - aneris.control.simulation - Retrieving data with identity \"device.system_type\".\n",
      "2016-09-06 13:34:17,473 - DEBUG - aneris.control.simulation - Retrieving data with identity \"farm.number_of_devices\".\n",
      "2016-09-06 13:34:17,473 - DEBUG - aneris.control.simulation - Retrieving data with identity \"farm.hydro_reef_effect_weight\".\n",
      "2016-09-06 13:34:17,474 - DEBUG - aneris.control.simulation - Retrieving data with identity \"farm.hydro_underwater_noise_risk_weight\".\n",
      "2016-09-06 13:34:17,474 - DEBUG - aneris.control.simulation - Retrieving data with identity \"farm.hydro_resting_place_weight\".\n",
      "2016-09-06 13:34:17,476 - DEBUG - aneris.control.simulation - Retrieving data with identity \"bathymetry.layers\".\n",
      "2016-09-06 13:34:17,476 - DEBUG - aneris.control.simulation - Retrieving data with identity \"device.system_length\".\n",
      "2016-09-06 13:34:17,477 - DEBUG - aneris.control.simulation - Retrieving data with identity \"farm.hydro_energy_modif_weight\".\n",
      "2016-09-06 13:34:17,479 - DEBUG - aneris.control.simulation - Retrieving data with identity \"device.wet_frontal_area\".\n",
      "2016-09-06 13:34:17,480 - DEBUG - aneris.control.simulation - Retrieving data with identity \"site.lease_boundary\".\n",
      "2016-09-06 13:34:17,585 - DEBUG - aneris.control.data - DataState with level \"hydrodynamics global output\" created\n",
      "2016-09-06 13:34:17,586 - INFO - aneris.control.data - New \"farm.hydro_confidence\" data stored with index LYRHBQ\n",
      "2016-09-06 13:34:17,588 - INFO - aneris.control.data - New \"farm.hydro_eis\" data stored with index B2XPS3\n",
      "2016-09-06 13:34:17,589 - INFO - aneris.control.data - New \"farm.hydro_season\" data stored with index SUBC59\n",
      "2016-09-06 13:34:17,591 - INFO - aneris.control.data - New \"farm.hydro_recommendation_dict\" data stored with index 710K63\n",
      "2016-09-06 13:34:17,592 - INFO - aneris.control.data - New \"farm.global_eis\" data stored with index IV0WCM\n",
      "2016-09-06 13:34:17,592 - INFO - aneris.control.simulation - Datastate with level \"hydrodynamics global output\" stored\n",
      "2016-09-06 13:34:17,595 - DEBUG - aneris.control.simulation - Merging active DataStates.\n",
      "2016-09-06 13:34:17,596 - DEBUG - aneris.control.simulation - Getting output status for interface \"System Type Selection\".\n",
      "2016-09-06 13:34:17,598 - DEBUG - aneris.control.simulation - Getting output status for interface \"Hydrodynamics\".\n",
      "2016-09-06 13:34:17,598 - DEBUG - aneris.control.simulation - Getting output status for interface \"Environmental Impact Assessment\".\n",
      "2016-09-06 13:34:17,601 - DEBUG - aneris.control.simulation - Getting input status for interface \"System Type Selection\".\n",
      "2016-09-06 13:34:17,602 - DEBUG - aneris.control.simulation - Getting input status for interface \"Hydrodynamics\".\n",
      "2016-09-06 13:34:17,605 - DEBUG - aneris.control.simulation - Checking mask status for input \"device.bidirection\".\n",
      "2016-09-06 13:34:17,605 - DEBUG - aneris.control.simulation - Retrieving data with identity \"device.system_type\".\n",
      "2016-09-06 13:34:17,605 - DEBUG - aneris.control.simulation - Checking mask status for input \"device.cut_in_velocity\".\n",
      "2016-09-06 13:34:17,607 - DEBUG - aneris.control.simulation - Retrieving data with identity \"device.system_type\".\n",
      "2016-09-06 13:34:17,608 - DEBUG - aneris.control.simulation - Checking mask status for input \"device.cut_out_velocity\".\n",
      "2016-09-06 13:34:17,608 - DEBUG - aneris.control.simulation - Retrieving data with identity \"device.system_type\".\n",
      "2016-09-06 13:34:17,608 - DEBUG - aneris.control.simulation - Checking mask status for input \"device.turbine_diameter\".\n",
      "2016-09-06 13:34:17,609 - DEBUG - aneris.control.simulation - Retrieving data with identity \"device.system_type\".\n",
      "2016-09-06 13:34:17,611 - DEBUG - aneris.control.simulation - Checking mask status for input \"device.turbine_interdistance\".\n",
      "2016-09-06 13:34:17,611 - DEBUG - aneris.control.simulation - Retrieving data with identity \"device.system_type\".\n",
      "2016-09-06 13:34:17,611 - DEBUG - aneris.control.simulation - Checking mask status for input \"device.turbine_performance\".\n",
      "2016-09-06 13:34:17,612 - DEBUG - aneris.control.simulation - Retrieving data with identity \"device.system_type\".\n",
      "2016-09-06 13:34:17,614 - DEBUG - aneris.control.simulation - Checking mask status for input \"device.wave_data_directory\".\n",
      "2016-09-06 13:34:17,615 - DEBUG - aneris.control.simulation - Retrieving data with identity \"device.system_type\".\n",
      "2016-09-06 13:34:17,615 - DEBUG - aneris.control.simulation - Checking mask status for input \"farm.point_sea_surface_height\".\n",
      "2016-09-06 13:34:17,615 - DEBUG - aneris.control.simulation - Retrieving data with identity \"device.system_type\".\n",
      "2016-09-06 13:34:17,617 - DEBUG - aneris.control.simulation - Checking mask status for input \"farm.spectrum_name\".\n",
      "2016-09-06 13:34:17,618 - DEBUG - aneris.control.simulation - Retrieving data with identity \"device.system_type\".\n",
      "2016-09-06 13:34:17,618 - DEBUG - aneris.control.simulation - Checking mask status for input \"farm.spec_gamma\".\n",
      "2016-09-06 13:34:17,618 - DEBUG - aneris.control.simulation - Retrieving data with identity \"device.system_type\".\n",
      "2016-09-06 13:34:17,619 - DEBUG - aneris.control.simulation - Checking mask status for input \"farm.spec_spread\".\n",
      "2016-09-06 13:34:17,621 - DEBUG - aneris.control.simulation - Retrieving data with identity \"device.system_type\".\n",
      "2016-09-06 13:34:17,621 - DEBUG - aneris.control.simulation - Checking mask status for input \"farm.tidal_occurrence_nbins\".\n",
      "2016-09-06 13:34:17,621 - DEBUG - aneris.control.simulation - Retrieving data with identity \"device.system_type\".\n",
      "2016-09-06 13:34:17,622 - DEBUG - aneris.control.simulation - Checking mask status for input \"farm.tidal_occurrence_point\".\n",
      "2016-09-06 13:34:17,624 - DEBUG - aneris.control.simulation - Retrieving data with identity \"device.system_type\".\n",
      "2016-09-06 13:34:17,624 - DEBUG - aneris.control.simulation - Checking mask status for input \"farm.tidal_series\".\n",
      "2016-09-06 13:34:17,625 - DEBUG - aneris.control.simulation - Retrieving data with identity \"device.system_type\".\n",
      "2016-09-06 13:34:17,625 - DEBUG - aneris.control.simulation - Checking mask status for input \"farm.wave_series\".\n",
      "2016-09-06 13:34:17,627 - DEBUG - aneris.control.simulation - Retrieving data with identity \"device.system_type\".\n",
      "2016-09-06 13:34:17,627 - DEBUG - aneris.control.simulation - Checking mask status for input \"options.tidal_data_directory\".\n",
      "2016-09-06 13:34:17,628 - DEBUG - aneris.control.simulation - Retrieving data with identity \"device.system_type\".\n",
      "2016-09-06 13:34:17,628 - DEBUG - aneris.control.simulation - Getting input status for interface \"Environmental Impact Assessment\".\n",
      "2016-09-06 13:34:17,631 - DEBUG - aneris.entity.simulation - Masking DataState at level \"hydrodynamics local output\".\n",
      "2016-09-06 13:34:17,631 - DEBUG - aneris.entity.simulation - Masking DataState at level \"hydrodynamics global output\".\n",
      "2016-09-06 13:34:17,634 - DEBUG - aneris.control.simulation - Merging active DataStates.\n",
      "2016-09-06 13:34:17,635 - DEBUG - aneris.control.simulation - Getting output status for interface \"System Type Selection\".\n",
      "2016-09-06 13:34:17,637 - DEBUG - aneris.control.simulation - Getting output status for interface \"Hydrodynamics\".\n",
      "2016-09-06 13:34:17,638 - DEBUG - aneris.control.simulation - Getting output status for interface \"Environmental Impact Assessment\".\n",
      "2016-09-06 13:34:17,641 - DEBUG - aneris.control.simulation - Getting input status for interface \"System Type Selection\".\n",
      "2016-09-06 13:34:17,641 - DEBUG - aneris.control.simulation - Getting input status for interface \"Hydrodynamics\".\n",
      "2016-09-06 13:34:17,644 - DEBUG - aneris.control.simulation - Checking mask status for input \"device.bidirection\".\n",
      "2016-09-06 13:34:17,644 - DEBUG - aneris.control.simulation - Retrieving data with identity \"device.system_type\".\n",
      "2016-09-06 13:34:17,644 - DEBUG - aneris.control.simulation - Checking mask status for input \"device.cut_in_velocity\".\n",
      "2016-09-06 13:34:17,645 - DEBUG - aneris.control.simulation - Retrieving data with identity \"device.system_type\".\n",
      "2016-09-06 13:34:17,647 - DEBUG - aneris.control.simulation - Checking mask status for input \"device.cut_out_velocity\".\n",
      "2016-09-06 13:34:17,648 - DEBUG - aneris.control.simulation - Retrieving data with identity \"device.system_type\".\n",
      "2016-09-06 13:34:17,648 - DEBUG - aneris.control.simulation - Checking mask status for input \"device.turbine_diameter\".\n",
      "2016-09-06 13:34:17,648 - DEBUG - aneris.control.simulation - Retrieving data with identity \"device.system_type\".\n",
      "2016-09-06 13:34:17,650 - DEBUG - aneris.control.simulation - Checking mask status for input \"device.turbine_interdistance\".\n",
      "2016-09-06 13:34:17,651 - DEBUG - aneris.control.simulation - Retrieving data with identity \"device.system_type\".\n",
      "2016-09-06 13:34:17,651 - DEBUG - aneris.control.simulation - Checking mask status for input \"device.turbine_performance\".\n",
      "2016-09-06 13:34:17,653 - DEBUG - aneris.control.simulation - Retrieving data with identity \"device.system_type\".\n",
      "2016-09-06 13:34:17,654 - DEBUG - aneris.control.simulation - Checking mask status for input \"device.wave_data_directory\".\n",
      "2016-09-06 13:34:17,654 - DEBUG - aneris.control.simulation - Retrieving data with identity \"device.system_type\".\n",
      "2016-09-06 13:34:17,654 - DEBUG - aneris.control.simulation - Checking mask status for input \"farm.point_sea_surface_height\".\n",
      "2016-09-06 13:34:17,655 - DEBUG - aneris.control.simulation - Retrieving data with identity \"device.system_type\".\n",
      "2016-09-06 13:34:17,657 - DEBUG - aneris.control.simulation - Checking mask status for input \"farm.spectrum_name\".\n",
      "2016-09-06 13:34:17,657 - DEBUG - aneris.control.simulation - Retrieving data with identity \"device.system_type\".\n",
      "2016-09-06 13:34:17,657 - DEBUG - aneris.control.simulation - Checking mask status for input \"farm.spec_gamma\".\n",
      "2016-09-06 13:34:17,658 - DEBUG - aneris.control.simulation - Retrieving data with identity \"device.system_type\".\n",
      "2016-09-06 13:34:17,660 - DEBUG - aneris.control.simulation - Checking mask status for input \"farm.spec_spread\".\n",
      "2016-09-06 13:34:17,660 - DEBUG - aneris.control.simulation - Retrieving data with identity \"device.system_type\".\n",
      "2016-09-06 13:34:17,661 - DEBUG - aneris.control.simulation - Checking mask status for input \"farm.tidal_occurrence_nbins\".\n",
      "2016-09-06 13:34:17,661 - DEBUG - aneris.control.simulation - Retrieving data with identity \"device.system_type\".\n",
      "2016-09-06 13:34:17,663 - DEBUG - aneris.control.simulation - Checking mask status for input \"farm.tidal_occurrence_point\".\n",
      "2016-09-06 13:34:17,664 - DEBUG - aneris.control.simulation - Retrieving data with identity \"device.system_type\".\n",
      "2016-09-06 13:34:17,664 - DEBUG - aneris.control.simulation - Checking mask status for input \"farm.tidal_series\".\n",
      "2016-09-06 13:34:17,664 - DEBUG - aneris.control.simulation - Retrieving data with identity \"device.system_type\".\n",
      "2016-09-06 13:34:17,665 - DEBUG - aneris.control.simulation - Checking mask status for input \"farm.wave_series\".\n",
      "2016-09-06 13:34:17,667 - DEBUG - aneris.control.simulation - Retrieving data with identity \"device.system_type\".\n",
      "2016-09-06 13:34:17,667 - DEBUG - aneris.control.simulation - Checking mask status for input \"options.tidal_data_directory\".\n",
      "2016-09-06 13:34:17,668 - DEBUG - aneris.control.simulation - Retrieving data with identity \"device.system_type\".\n",
      "2016-09-06 13:34:17,668 - DEBUG - aneris.control.simulation - Getting input status for interface \"Environmental Impact Assessment\".\n"
     ]
    }
   ],
   "source": [
    "module_menu.execute_current(new_core, new_project)"
   ]
  },
  {
   "cell_type": "markdown",
   "metadata": {},
   "source": [
    "## Examine the results\n",
    "\n",
    "Currently, there is no robustness built into the core, so the assumption is that the module executed successfully. This will have to be improved towards deployment of the final software.\n",
    "\n",
    "Let's check the number of devices and annual output of the farm, using just information in the data object."
   ]
  },
  {
   "cell_type": "code",
   "execution_count": 28,
   "metadata": {
    "collapsed": false
   },
   "outputs": [
    {
     "name": "stdout",
     "output_type": "stream",
     "text": [
      "2016-09-06 13:34:30,700 - DEBUG - aneris.control.simulation - Retrieving data with identity \"farm.global_eis\".\n"
     ]
    },
    {
     "data": {
      "text/html": [
       "<p><b>Global EIS :</b> {'Max Positive Impact': 10.064, 'Min Negative Impact': -10.000022829744923, 'Max Negative Impact': -90.0, 'Positive Impact': 10.023411999999999, 'Negative Impact': -62.00000570743623, 'Min Positive Impact': 10.0016}</p>"
      ],
      "text/plain": [
       "<IPython.core.display.HTML object>"
      ]
     },
     "execution_count": 28,
     "metadata": {},
     "output_type": "execute_result"
    }
   ],
   "source": [
    "global_eis = new_core.get_data_value(new_project, \"farm.global_eis\")\n",
    "meta = new_core.get_metadata(\"farm.global_eis\")\n",
    "name = meta.title\n",
    "message_one = \"<p><b>{}:</b> {}</p>\".format(name, global_eis)\n",
    "\n",
    "\n",
    "HTML(message_one)"
   ]
  },
  {
   "cell_type": "markdown",
   "metadata": {},
   "source": [
    "## Plotting some graphs\n",
    "\n",
    "By having data objects with set formats it should be possible to create automated plot generation. However, some plots may be too complex and some special cases may need defined."
   ]
  },
  {
   "cell_type": "code",
   "execution_count": null,
   "metadata": {
    "collapsed": false
   },
   "outputs": [],
   "source": [
    "annual_energy_per_dev_value = new_core.get_data_value(new_project, \n",
    "                                                     \"farm.annual_energy_per_device\")\n",
    "meta = new_core.get_metadata(\"farm.annual_energy_per_device\")\n",
    "\n",
    "chart_values = np.array(annual_energy_per_dev_value.values())"
   ]
  },
  {
   "cell_type": "code",
   "execution_count": null,
   "metadata": {
    "collapsed": false
   },
   "outputs": [],
   "source": [
    "plt.bar(range(len(annual_energy_per_dev_value)),\n",
    "        chart_values,\n",
    "        align='center')\n",
    "            \n",
    "plt.xticks(range(len(annual_energy_per_dev_value)),\n",
    "           annual_energy_per_dev_value.keys())\n",
    "plt.title(meta.title)\n",
    "\n",
    "plt.ylabel(meta.units[0])\n",
    "\n",
    "plt.tight_layout()\n",
    "# plt.savefig('annual_energy_per_device.png')\n",
    "plt.show()"
   ]
  },
  {
   "cell_type": "markdown",
   "metadata": {},
   "source": [
    "## Plotting the Layout\n",
    "\n",
    "This may require such a special case. It is not clear is a new data type is required or just special plots associated to variable IDs."
   ]
  },
  {
   "cell_type": "code",
   "execution_count": null,
   "metadata": {
    "collapsed": true
   },
   "outputs": [],
   "source": [
    "layout_value = new_core.get_data_value(new_project, \"farm.layout\")\n",
    "layout_meta = new_core.get_metadata(\"farm.layout\")"
   ]
  },
  {
   "cell_type": "code",
   "execution_count": null,
   "metadata": {
    "collapsed": false,
    "scrolled": false
   },
   "outputs": [],
   "source": [
    "x = []\n",
    "y = []\n",
    "\n",
    "for coords in layout_value.itervalues():\n",
    "    \n",
    "    x.append(coords.x)\n",
    "    y.append(coords.y)\n",
    "\n",
    "fig = plt.figure()\n",
    "ax1 = fig.add_subplot(1,1,1, axisbg='lightskyblue')\n",
    "ax1.plot(x,y,'k+', mew=2, markersize=10)\n",
    "plt.title(layout_meta.title)\n",
    "plt.axis('equal')\n",
    "plt.show()"
   ]
  },
  {
   "cell_type": "code",
   "execution_count": null,
   "metadata": {
    "collapsed": true
   },
   "outputs": [],
   "source": []
  }
 ],
 "metadata": {
  "kernelspec": {
   "display_name": "Python 2",
   "language": "python",
   "name": "python2"
  },
  "language_info": {
   "codemirror_mode": {
    "name": "ipython",
    "version": 2
   },
   "file_extension": ".py",
   "mimetype": "text/x-python",
   "name": "python",
   "nbconvert_exporter": "python",
   "pygments_lexer": "ipython2",
   "version": "2.7.12"
  }
 },
 "nbformat": 4,
 "nbformat_minor": 0
}
