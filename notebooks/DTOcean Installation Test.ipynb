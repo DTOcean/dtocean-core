{
 "cells": [
  {
   "cell_type": "markdown",
   "metadata": {},
   "source": [
    "# DTOcean Installation Module Test"
   ]
  },
  {
   "cell_type": "code",
   "execution_count": 25,
   "metadata": {
    "collapsed": true
   },
   "outputs": [],
   "source": [
    "%matplotlib inline"
   ]
  },
  {
   "cell_type": "code",
   "execution_count": 26,
   "metadata": {
    "collapsed": true
   },
   "outputs": [],
   "source": [
    "from IPython.display import display, HTML"
   ]
  },
  {
   "cell_type": "code",
   "execution_count": 27,
   "metadata": {
    "collapsed": false
   },
   "outputs": [],
   "source": [
    "import matplotlib.pyplot as plt\n",
    "plt.rcParams['figure.figsize'] = (14.0, 8.0)"
   ]
  },
  {
   "cell_type": "code",
   "execution_count": 28,
   "metadata": {
    "collapsed": true
   },
   "outputs": [],
   "source": [
    "import numpy as np"
   ]
  },
  {
   "cell_type": "code",
   "execution_count": 29,
   "metadata": {
    "collapsed": false
   },
   "outputs": [],
   "source": [
    "from dtocean_core import start_logging\n",
    "from dtocean_core.core import Core\n",
    "from dtocean_core.menu import ModuleMenu, ProjectMenu, ThemeMenu\n",
    "from dtocean_core.pipeline import Tree"
   ]
  },
  {
   "cell_type": "code",
   "execution_count": 30,
   "metadata": {
    "collapsed": true
   },
   "outputs": [],
   "source": [
    "def html_list(x):\n",
    "    message = \"<ul>\"\n",
    "    for name in x:\n",
    "        message += \"<li>{}</li>\".format(name)\n",
    "    message += \"</ul>\"\n",
    "    return message\n",
    "def html_dict(x):\n",
    "    message = \"<ul>\"\n",
    "    for name, status in x.iteritems():\n",
    "        message += \"<li>{}: <b>{}</b></li>\".format(name, status)\n",
    "    message += \"</ul>\"\n",
    "    return message"
   ]
  },
  {
   "cell_type": "code",
   "execution_count": 31,
   "metadata": {
    "collapsed": false
   },
   "outputs": [
    {
     "name": "stdout",
     "output_type": "stream",
     "text": [
      "2016-12-18 14:54:45,071 - INFO - dtocean_core - Begin logging for dtocean_core.\n"
     ]
    }
   ],
   "source": [
    "# Bring up the logger\n",
    "start_logging()"
   ]
  },
  {
   "cell_type": "markdown",
   "metadata": {},
   "source": [
    "## Create the core, menus and pipeline tree\n",
    "\n",
    "The core object carrys all the system information and is operated on by the other classes"
   ]
  },
  {
   "cell_type": "code",
   "execution_count": 32,
   "metadata": {
    "collapsed": false
   },
   "outputs": [],
   "source": [
    "new_core = Core()\n",
    "project_menu = ProjectMenu()\n",
    "module_menu = ModuleMenu()\n",
    "theme_menu = ThemeMenu()\n",
    "pipe_tree = Tree()"
   ]
  },
  {
   "cell_type": "markdown",
   "metadata": {},
   "source": [
    "## Create a new project"
   ]
  },
  {
   "cell_type": "code",
   "execution_count": 33,
   "metadata": {
    "collapsed": false
   },
   "outputs": [
    {
     "name": "stdout",
     "output_type": "stream",
     "text": [
      "2016-12-18 14:54:46,461 - INFO - aneris.entity.simulation - Created new Simulation with title \"Default\"\n",
      "2016-12-18 14:54:46,463 - INFO - aneris.control.simulation - Datastate with level \"initial\" stored\n",
      "2016-12-18 14:54:46,463 - INFO - aneris.control.pipeline - New Hub created for interface ProjectInterface.\n"
     ]
    }
   ],
   "source": [
    "project_title = \"DTOcean\"  \n",
    "new_project = project_menu.new_project(new_core, project_title)"
   ]
  },
  {
   "cell_type": "markdown",
   "metadata": {},
   "source": [
    "## Set the device type"
   ]
  },
  {
   "cell_type": "code",
   "execution_count": 34,
   "metadata": {
    "collapsed": false
   },
   "outputs": [
    {
     "name": "stdout",
     "output_type": "stream",
     "text": [
      "2016-12-18 14:54:46,490 - INFO - aneris.control.data - New \"device.system_type\" data stored with index N8UU6P\n",
      "2016-12-18 14:54:46,492 - INFO - aneris.control.simulation - Datastate stored\n"
     ]
    }
   ],
   "source": [
    "options_branch = pipe_tree.get_branch(new_core, new_project, \"System Type Selection\")\n",
    "variable_id = \"device.system_type\"\n",
    "my_var = options_branch.get_input_variable(new_core, new_project, variable_id)\n",
    "my_var.set_raw_interface(new_core, \"Wave Floating\")\n",
    "my_var.read(new_core, new_project)"
   ]
  },
  {
   "cell_type": "markdown",
   "metadata": {},
   "source": [
    "## Initiate the pipeline\n",
    "This step will be important when the database is incorporated into the system as it will effect the operation of the pipeline."
   ]
  },
  {
   "cell_type": "code",
   "execution_count": 35,
   "metadata": {
    "collapsed": false
   },
   "outputs": [
    {
     "name": "stdout",
     "output_type": "stream",
     "text": [
      "2016-12-18 14:54:46,509 - INFO - aneris.control.simulation - Datastate with level \"system type selection start\" stored\n",
      "2016-12-18 14:54:46,512 - INFO - aneris.control.data - New \"hidden.pipeline_active\" data stored with index DN2B8X\n",
      "2016-12-18 14:54:46,513 - INFO - aneris.control.simulation - Datastate with level \"system type selection output\" stored\n",
      "2016-12-18 14:54:46,516 - INFO - aneris.control.pipeline - New Pipeline created for interface ModuleInterface.\n",
      "2016-12-18 14:54:46,516 - INFO - aneris.control.pipeline - New Hub created for interface ThemeInterface.\n"
     ]
    }
   ],
   "source": [
    "project_menu.initiate_pipeline(new_core, new_project)"
   ]
  },
  {
   "cell_type": "markdown",
   "metadata": {},
   "source": [
    "## Discover available modules"
   ]
  },
  {
   "cell_type": "code",
   "execution_count": 36,
   "metadata": {
    "collapsed": false
   },
   "outputs": [
    {
     "data": {
      "text/html": [
       "<ul><li>Hydrodynamics</li><li>Electrical Sub Systems</li><li>Mooring and Foundations</li><li>Installation</li><li>Operations and Maintenance</li></ul>"
      ],
      "text/plain": [
       "<IPython.core.display.HTML object>"
      ]
     },
     "execution_count": 36,
     "metadata": {},
     "output_type": "execute_result"
    }
   ],
   "source": [
    "names = module_menu.get_available(new_core, new_project)\n",
    "message = html_list(names)\n",
    "HTML(message)"
   ]
  },
  {
   "cell_type": "markdown",
   "metadata": {},
   "source": [
    "## Activate a module\n",
    "\n",
    "Note that the order of activation is important and that we can't deactivate yet!"
   ]
  },
  {
   "cell_type": "code",
   "execution_count": 37,
   "metadata": {
    "collapsed": false
   },
   "outputs": [],
   "source": [
    "module_name = 'Installation'\n",
    "module_menu.activate(new_core, new_project, module_name)"
   ]
  },
  {
   "cell_type": "markdown",
   "metadata": {},
   "source": [
    "## Activate the Economics themes"
   ]
  },
  {
   "cell_type": "code",
   "execution_count": 38,
   "metadata": {
    "collapsed": false
   },
   "outputs": [
    {
     "data": {
      "text/html": [
       "<ul><li>Economics</li><li>Reliability</li><li>Environmental Impact Assessment</li></ul>"
      ],
      "text/plain": [
       "<IPython.core.display.HTML object>"
      ]
     },
     "execution_count": 38,
     "metadata": {},
     "output_type": "execute_result"
    }
   ],
   "source": [
    "names = theme_menu.get_available(new_core, new_project)\n",
    "message = html_list(names)\n",
    "HTML(message)"
   ]
  },
  {
   "cell_type": "code",
   "execution_count": 39,
   "metadata": {
    "collapsed": true
   },
   "outputs": [],
   "source": [
    "theme_menu.activate(new_core, new_project, \"Economics\")"
   ]
  },
  {
   "cell_type": "markdown",
   "metadata": {},
   "source": [
    "## Check the status of the module inputs"
   ]
  },
  {
   "cell_type": "code",
   "execution_count": 40,
   "metadata": {
    "collapsed": false
   },
   "outputs": [
    {
     "data": {
      "text/html": [
       "<ul><li>device.transportation_method: <b>required</b></li><li>component.collection_points: <b>optional</b></li><li>component.rov: <b>required</b></li><li>farm.wind_series_installation: <b>required</b></li><li>device.disconnect_duration: <b>required</b></li><li>component.ports: <b>required</b></li><li>component.split_pipe_safety_factors: <b>required</b></li><li>device.system_height: <b>required</b></li><li>farm.substation_props: <b>optional</b></li><li>component.port_locations: <b>required</b></li><li>component.split_pipes_installation: <b>required</b></li><li>device.bollard_pull: <b>optional</b></li><li>project.start_date: <b>required</b></li><li>component.static_cable: <b>optional</b></li><li>farm.umbilical_seabed_connection: <b>optional</b></li><li>device.connect_duration: <b>required</b></li><li>device.system_mass: <b>required</b></li><li>component.transformers: <b>optional</b></li><li>device.load_out_method: <b>required</b></li><li>component.drilling_rigs: <b>required</b></li><li>device.system_width: <b>required</b></li><li>site.projection: <b>required</b></li><li>component.vibro_driver_safety_factors: <b>required</b></li><li>component.divers_safety_factors: <b>required</b></li><li>component.vessel_safety_factors: <b>required</b></li><li>device.control_system_installation: <b>optional</b></li><li>device.installation_limit_Ws: <b>required</b></li><li>farm.cable_routes: <b>optional</b></li><li>device.installation_limit_Cs: <b>required</b></li><li>farm.foundations_component_data: <b>optional</b></li><li>farm.entry_point: <b>required</b></li><li>component.loading_rate: <b>required</b></li><li>farm.moorings_component_data: <b>optional</b></li><li>options.skip_phase: <b>optional</b></li><li>device.installation_limit_Hs: <b>required</b></li><li>device.system_length: <b>required</b></li><li>component.installation_soil_compatibility: <b>required</b></li><li>farm.foundations_soil_data: <b>optional</b></li><li>component.hammer: <b>required</b></li><li>component.equipment_penetration_rates: <b>required</b></li><li>corridor.layers: <b>optional</b></li><li>component.grout_rate: <b>required</b></li><li>farm.tidal_series_installation: <b>required</b></li><li>component.excavating: <b>required</b></li><li>device.installation_limit_Tp: <b>required</b></li><li>component.power_quality: <b>optional</b></li><li>component.surface_laying_rate: <b>required</b></li><li>component.switchgear: <b>optional</b></li><li>project.port_percentage_cost: <b>required</b></li><li>component.fuel_cost_rate: <b>required</b></li><li>device.sub_systems_installation: <b>required</b></li><li>component.port_safety_factors: <b>required</b></li><li>component.vessels: <b>required</b></li><li>project.cost_contingency: <b>required</b></li><li>farm.moorings_foundations_network: <b>optional</b></li><li>project.comissioning_time: <b>required</b></li><li>component.split_pipe_laying_rate: <b>required</b></li><li>farm.layout: <b>required</b></li><li>farm.electrical_network: <b>optional</b></li><li>component.dynamic_cable: <b>optional</b></li><li>component.mattress_installation: <b>required</b></li><li>farm.electrical_component_data: <b>optional</b></li><li>component.vibro_driver: <b>required</b></li><li>component.dry_mate_connectors: <b>optional</b></li><li>device.assembly_duration: <b>required</b></li><li>component.rov_safety_factors: <b>required</b></li><li>farm.line_data: <b>optional</b></li><li>device.system_type: <b>satisfied</b></li><li>component.hammer_safety_factors: <b>required</b></li><li>component.cable_burial: <b>required</b></li><li>component.wet_mate_connectors: <b>optional</b></li><li>bathymetry.layers: <b>required</b></li><li>component.rock_bags_installation: <b>required</b></li><li>farm.wave_series_installation: <b>required</b></li><li>component.divers: <b>required</b></li><li>corridor.landfall_contruction_technique: <b>optional</b></li><li>farm.umbilical_cable_data: <b>optional</b></li><li>farm.selected_installation_tool: <b>required</b></li><li>component.cable_burial_safety_factors: <b>required</b></li></ul>"
      ],
      "text/plain": [
       "<IPython.core.display.HTML object>"
      ]
     },
     "execution_count": 40,
     "metadata": {},
     "output_type": "execute_result"
    }
   ],
   "source": [
    "installation_branch = pipe_tree.get_branch(new_core, new_project, 'Installation')\n",
    "input_status = installation_branch.get_input_status(new_core, new_project)\n",
    "message = html_dict(input_status)\n",
    "HTML(message)"
   ]
  },
  {
   "cell_type": "markdown",
   "metadata": {},
   "source": [
    "## Initiate the dataflow\n",
    "This indicates that the filtering and module / theme selections are complete"
   ]
  },
  {
   "cell_type": "code",
   "execution_count": 41,
   "metadata": {
    "collapsed": false
   },
   "outputs": [
    {
     "name": "stdout",
     "output_type": "stream",
     "text": [
      "2016-12-18 14:54:46,667 - INFO - aneris.control.data - New \"hidden.dataflow_active\" data stored with index 6YMGA2\n",
      "2016-12-18 14:54:46,667 - INFO - aneris.control.simulation - Datastate stored\n",
      "2016-12-18 14:54:46,674 - INFO - aneris.control.simulation - Datastate with level \"modules initial\" stored\n"
     ]
    }
   ],
   "source": [
    "project_menu.initiate_dataflow(new_core, new_project)"
   ]
  },
  {
   "cell_type": "markdown",
   "metadata": {},
   "source": [
    "## Load test data"
   ]
  },
  {
   "cell_type": "markdown",
   "metadata": {},
   "source": [
    "Prepare the test data for loading. The files required can be found in the test_data directory of the source code and should be copied to the directory that the notebook is running. When the python file is run a pickle file is generated containing a dictionary of inputs."
   ]
  },
  {
   "cell_type": "code",
   "execution_count": 42,
   "metadata": {
    "collapsed": false
   },
   "outputs": [
    {
     "name": "stdout",
     "output_type": "stream",
     "text": [
      "generate test data: D:\\Usuarios\\108630\\Programming\\Python\\notebooks\\inputs_wp5.pkl\n"
     ]
    }
   ],
   "source": [
    "%run inputs_wp5.py"
   ]
  },
  {
   "cell_type": "code",
   "execution_count": 43,
   "metadata": {
    "collapsed": false
   },
   "outputs": [
    {
     "name": "stdout",
     "output_type": "stream",
     "text": [
      "2016-12-18 14:55:05,825 - INFO - aneris.control.data - New \"component.power_quality\" data stored with index RINPEV\n",
      "2016-12-18 14:55:05,828 - INFO - aneris.control.data - New \"farm.electrical_component_data\" data stored with index X6K9I3\n",
      "2016-12-18 14:55:05,829 - INFO - aneris.control.data - New \"device.bollard_pull\" data stored with index EI8CAJ\n",
      "2016-12-18 14:55:05,831 - INFO - aneris.control.data - New \"device.transportation_method\" data stored with index KT2BC6\n",
      "2016-12-18 14:55:05,832 - INFO - aneris.control.data - New \"component.switchgear\" data stored with index IUTUZK\n",
      "2016-12-18 14:55:05,835 - INFO - aneris.control.data - New \"component.collection_points\" data stored with index C4ONGB\n",
      "2016-12-18 14:55:05,838 - INFO - aneris.control.data - New \"project.port_percentage_cost\" data stored with index SAPEGK\n",
      "2016-12-18 14:55:06,329 - INFO - aneris.control.data - New \"farm.wind_series_installation\" data stored with index 48ROFJ\n",
      "2016-12-18 14:55:06,332 - INFO - aneris.control.data - New \"device.disconnect_duration\" data stored with index 7E6VCG\n",
      "2016-12-18 14:55:06,335 - INFO - aneris.control.data - New \"component.ports\" data stored with index 3YJ1QY\n",
      "2016-12-18 14:55:06,338 - INFO - aneris.control.data - New \"component.split_pipe_safety_factors\" data stored with index 4LQ3KX\n",
      "2016-12-18 14:55:06,918 - INFO - aneris.control.data - New \"farm.tidal_series_installation\" data stored with index N1A7UT\n",
      "2016-12-18 14:55:06,920 - INFO - aneris.control.data - New \"component.fuel_cost_rate\" data stored with index OUYRFE\n",
      "2016-12-18 14:55:06,921 - INFO - aneris.control.data - New \"device.connect_duration\" data stored with index WXME7W\n",
      "2016-12-18 14:55:06,923 - INFO - aneris.control.data - New \"component.port_locations\" data stored with index JCFF9Y\n",
      "2016-12-18 14:55:06,926 - INFO - aneris.control.data - New \"component.transformers\" data stored with index 1YLO2M\n",
      "2016-12-18 14:55:06,927 - INFO - aneris.control.data - New \"farm.foundations_soil_data\" data stored with index ZQ14BA\n",
      "2016-12-18 14:55:06,933 - INFO - aneris.control.data - New \"component.hammer_safety_factors\" data stored with index R90TFE\n",
      "2016-12-18 14:55:06,936 - INFO - aneris.control.data - New \"farm.entry_point\" data stored with index RPWWCW\n",
      "2016-12-18 14:55:06,938 - INFO - aneris.control.data - New \"component.surface_laying_rate\" data stored with index M9ONAN\n",
      "2016-12-18 14:55:06,940 - INFO - aneris.control.data - New \"component.split_pipe_laying_rate\" data stored with index MUBD8D\n",
      "2016-12-18 14:55:06,944 - INFO - aneris.control.data - New \"project.start_date\" data stored with index 25481W\n",
      "2016-12-18 14:55:06,947 - INFO - aneris.control.data - New \"component.static_cable\" data stored with index L57UPX\n",
      "2016-12-18 14:55:06,950 - INFO - aneris.control.data - New \"component.vessels\" data stored with index DGE93W\n",
      "2016-12-18 14:55:06,953 - INFO - aneris.control.data - New \"project.cost_contingency\" data stored with index JKCEVR\n",
      "2016-12-18 14:55:06,953 - INFO - aneris.control.data - New \"farm.moorings_foundations_network\" data stored with index LPXXSJ\n",
      "2016-12-18 14:55:06,956 - INFO - aneris.control.data - New \"project.comissioning_time\" data stored with index KHSYGC\n",
      "2016-12-18 14:55:06,957 - INFO - aneris.control.data - New \"device.system_mass\" data stored with index CK1QTB\n",
      "2016-12-18 14:55:06,960 - INFO - aneris.control.data - New \"component.dynamic_cable\" data stored with index W2FMI5\n",
      "2016-12-18 14:55:06,963 - INFO - aneris.control.data - New \"farm.layout\" data stored with index 1E4LA1\n",
      "2016-12-18 14:55:06,963 - INFO - aneris.control.data - New \"farm.electrical_network\" data stored with index HLS1KO\n",
      "2016-12-18 14:55:06,964 - INFO - aneris.control.data - New \"device.load_out_method\" data stored with index DXHL1V\n",
      "2016-12-18 14:55:06,966 - INFO - aneris.control.data - New \"device.installation_limit_Ws\" data stored with index 6EHBGB\n",
      "2016-12-18 14:55:06,969 - INFO - aneris.control.data - New \"component.mattress_installation\" data stored with index DS6F2V\n",
      "2016-12-18 14:55:06,973 - INFO - aneris.control.data - New \"device.sub_systems_installation\" data stored with index TQ265A\n",
      "2016-12-18 14:55:06,976 - INFO - aneris.control.data - New \"device.system_width\" data stored with index LE4CXN\n",
      "2016-12-18 14:55:06,983 - INFO - aneris.control.data - New \"corridor.layers\" data stored with index V7T22T\n",
      "2016-12-18 14:55:06,986 - INFO - aneris.control.data - New \"component.vibro_driver\" data stored with index 49UPZ8\n",
      "2016-12-18 14:55:06,987 - INFO - aneris.control.data - New \"site.projection\" data stored with index BVNHBO\n",
      "2016-12-18 14:55:06,990 - INFO - aneris.control.data - New \"component.dry_mate_connectors\" data stored with index DA9KHK\n",
      "2016-12-18 14:55:06,993 - INFO - aneris.control.data - New \"farm.umbilical_seabed_connection\" data stored with index U83L61\n",
      "2016-12-18 14:55:06,996 - INFO - aneris.control.data - New \"device.assembly_duration\" data stored with index B599KN\n",
      "2016-12-18 14:55:06,997 - INFO - aneris.control.data - New \"device.system_height\" data stored with index 6V0X1K\n",
      "2016-12-18 14:55:07,000 - INFO - aneris.control.data - New \"component.vibro_driver_safety_factors\" data stored with index R2180O\n",
      "2016-12-18 14:55:07,003 - INFO - aneris.control.data - New \"component.vessel_safety_factors\" data stored with index REW2DT\n",
      "2016-12-18 14:55:07,007 - INFO - aneris.control.data - New \"component.divers_safety_factors\" data stored with index JRT8JR\n",
      "2016-12-18 14:55:07,013 - INFO - aneris.control.data - New \"component.rov_safety_factors\" data stored with index T0QN3G\n",
      "2016-12-18 14:55:07,016 - INFO - aneris.control.data - New \"component.port_safety_factors\" data stored with index SBZ8ZJ\n",
      "2016-12-18 14:55:07,019 - INFO - aneris.control.data - New \"farm.substation_props\" data stored with index 0TBAS2\n",
      "2016-12-18 14:55:07,023 - INFO - aneris.control.data - New \"farm.line_data\" data stored with index W3R9XM\n",
      "2016-12-18 14:55:07,269 - INFO - aneris.control.data - New \"farm.wave_series_installation\" data stored with index LZWKE5\n",
      "2016-12-18 14:55:07,272 - INFO - aneris.control.data - New \"component.split_pipes_installation\" data stored with index ILE8UH\n",
      "2016-12-18 14:55:07,273 - INFO - aneris.control.data - New \"farm.cable_routes\" data stored with index VO63CW\n",
      "2016-12-18 14:55:07,276 - INFO - aneris.control.data - New \"device.installation_limit_Cs\" data stored with index 0FHYEH\n",
      "2016-12-18 14:55:07,279 - INFO - aneris.control.data - New \"component.cable_burial\" data stored with index WTRNTT\n",
      "2016-12-18 14:55:07,282 - INFO - aneris.control.data - New \"farm.foundations_component_data\" data stored with index LWV6E6\n",
      "2016-12-18 14:55:07,285 - INFO - aneris.control.data - New \"component.wet_mate_connectors\" data stored with index 3GQ847\n",
      "2016-12-18 14:55:07,288 - INFO - aneris.control.data - New \"component.loading_rate\" data stored with index 4VQ4U5\n",
      "2016-12-18 14:55:07,292 - INFO - aneris.control.data - New \"farm.moorings_component_data\" data stored with index JCQPNL\n",
      "2016-12-18 14:55:07,296 - INFO - aneris.control.data - New \"bathymetry.layers\" data stored with index DRZI4Y\n",
      "2016-12-18 14:55:07,298 - INFO - aneris.control.data - New \"options.skip_phase\" data stored with index V8H8P0\n",
      "2016-12-18 14:55:07,301 - INFO - aneris.control.data - New \"device.installation_limit_Hs\" data stored with index L6UM8H\n",
      "2016-12-18 14:55:07,303 - INFO - aneris.control.data - New \"device.system_length\" data stored with index A7KLBF\n",
      "2016-12-18 14:55:07,308 - INFO - aneris.control.data - New \"component.rock_bags_installation\" data stored with index 2BLUDI\n",
      "2016-12-18 14:55:07,313 - INFO - aneris.control.data - New \"component.installation_soil_compatibility\" data stored with index BS4HLY\n",
      "2016-12-18 14:55:07,315 - INFO - aneris.control.data - New \"component.rov\" data stored with index IUNGPB\n",
      "2016-12-18 14:55:07,319 - INFO - aneris.control.data - New \"component.divers\" data stored with index RGEATH\n",
      "2016-12-18 14:55:07,321 - INFO - aneris.control.data - New \"component.hammer\" data stored with index PWPEHR\n",
      "2016-12-18 14:55:07,323 - INFO - aneris.control.data - New \"component.equipment_penetration_rates\" data stored with index ZBMCMC\n",
      "2016-12-18 14:55:07,326 - INFO - aneris.control.data - New \"corridor.landfall_contruction_technique\" data stored with index 7JVPKF\n",
      "2016-12-18 14:55:07,329 - INFO - aneris.control.data - New \"farm.umbilical_cable_data\" data stored with index W700JQ\n",
      "2016-12-18 14:55:07,331 - INFO - aneris.control.data - New \"component.grout_rate\" data stored with index NVMJVP\n",
      "2016-12-18 14:55:07,332 - INFO - aneris.control.data - New \"component.excavating\" data stored with index 3UGBAB\n",
      "2016-12-18 14:55:07,335 - INFO - aneris.control.data - New \"farm.selected_installation_tool\" data stored with index FMSZYC\n",
      "2016-12-18 14:55:07,338 - INFO - aneris.control.data - New \"component.cable_burial_safety_factors\" data stored with index 1SI8HZ\n",
      "2016-12-18 14:55:07,341 - INFO - aneris.control.data - New \"component.drilling_rigs\" data stored with index 5I3HEA\n",
      "2016-12-18 14:55:07,342 - INFO - aneris.control.data - New \"device.installation_limit_Tp\" data stored with index LT1AZG\n",
      "2016-12-18 14:55:07,342 - INFO - aneris.control.simulation - Datastate stored\n"
     ]
    }
   ],
   "source": [
    "installation_branch.read_test_data(new_core,\n",
    "                            new_project,\n",
    "                            \"inputs_wp5.pkl\")"
   ]
  },
  {
   "cell_type": "markdown",
   "metadata": {},
   "source": [
    "## Prepare the Economics Theme"
   ]
  },
  {
   "cell_type": "code",
   "execution_count": 44,
   "metadata": {
    "collapsed": false
   },
   "outputs": [
    {
     "data": {
      "text/html": [
       "<ul><li>farm.installation_economics_data: <b>unavailable_option</b></li><li>device.power_rating: <b>optional</b></li><li>project.moorings_cost_estimate: <b>optional</b></li><li>farm.energy_per_year: <b>optional</b></li><li>project.annual_repair_cost_estimate: <b>optional</b></li><li>farm.moorings_foundations_economics_data: <b>optional</b></li><li>project.annual_array_mttf_estimate: <b>optional</b></li><li>device.system_cost: <b>optional</b></li><li>project.installation_cost_estimate: <b>optional</b></li><li>farm.number_of_devices: <b>optional</b></li><li>farm.opex_per_year: <b>optional</b></li><li>farm.electrical_network_efficiency: <b>optional</b></li><li>farm.capex_oandm: <b>optional</b></li><li>project.electrical_cost_estimate: <b>optional</b></li><li>project.lifetime: <b>optional</b></li><li>farm.electrical_economics_data: <b>optional</b></li><li>farm.annual_energy: <b>optional</b></li><li>project.discount_rate: <b>optional</b></li><li>project.opex_estimate: <b>optional</b></li></ul>"
      ],
      "text/plain": [
       "<IPython.core.display.HTML object>"
      ]
     },
     "execution_count": 44,
     "metadata": {},
     "output_type": "execute_result"
    }
   ],
   "source": [
    "theme_name = \"Economics\"\n",
    "eco_branch = pipe_tree.get_branch(new_core, new_project, \"Economics\")\n",
    "\n",
    "input_status = eco_branch.get_input_status(new_core, new_project)\n",
    "message = html_dict(input_status)\n",
    "HTML(message)"
   ]
  },
  {
   "cell_type": "markdown",
   "metadata": {},
   "source": [
    "## Set the discount rate and cost estimates and project lifetime"
   ]
  },
  {
   "cell_type": "code",
   "execution_count": 45,
   "metadata": {
    "collapsed": false
   },
   "outputs": [
    {
     "name": "stdout",
     "output_type": "stream",
     "text": [
      "2016-12-18 14:55:07,401 - INFO - aneris.control.data - New \"project.discount_rate\" data stored with index M2HPY0\n",
      "2016-12-18 14:55:07,401 - INFO - aneris.control.simulation - Datastate stored\n",
      "2016-12-18 14:55:07,417 - INFO - aneris.control.data - New \"device.system_cost\" data stored with index EXKO7R\n",
      "2016-12-18 14:55:07,417 - INFO - aneris.control.simulation - Datastate stored\n",
      "2016-12-18 14:55:07,430 - INFO - aneris.control.data - New \"farm.number_of_devices\" data stored with index Y4CU6X\n",
      "2016-12-18 14:55:07,430 - INFO - aneris.control.simulation - Datastate stored\n",
      "2016-12-18 14:55:07,441 - INFO - aneris.control.data - New \"project.lifetime\" data stored with index 1Z99GP\n",
      "2016-12-18 14:55:07,443 - INFO - aneris.control.simulation - Datastate stored\n"
     ]
    }
   ],
   "source": [
    "discount_rate = 0.05\n",
    "device_cost = 1000000\n",
    "n_devices = 2\n",
    "project_lifetime = 20\n",
    "\n",
    "new_var = eco_branch.get_input_variable(new_core, new_project,\n",
    "                                        \"project.discount_rate\")\n",
    "new_var.set_raw_interface(new_core, discount_rate)\n",
    "new_var.read(new_core, new_project)\n",
    "\n",
    "new_var = eco_branch.get_input_variable(new_core, new_project,\n",
    "                                        \"device.system_cost\")\n",
    "new_var.set_raw_interface(new_core, device_cost)\n",
    "new_var.read(new_core, new_project)\n",
    "\n",
    "new_var = eco_branch.get_input_variable(new_core, new_project,\n",
    "                                        \"farm.number_of_devices\")\n",
    "new_var.set_raw_interface(new_core, n_devices)\n",
    "new_var.read(new_core, new_project)\n",
    "\n",
    "new_var = eco_branch.get_input_variable(new_core, new_project,\n",
    "                                        \"project.lifetime\")\n",
    "new_var.set_raw_interface(new_core, project_lifetime)\n",
    "new_var.read(new_core, new_project)"
   ]
  },
  {
   "cell_type": "markdown",
   "metadata": {},
   "source": [
    "## Check if the module can be executed"
   ]
  },
  {
   "cell_type": "code",
   "execution_count": 46,
   "metadata": {
    "collapsed": false
   },
   "outputs": [
    {
     "data": {
      "text/plain": [
       "True"
      ]
     },
     "metadata": {},
     "output_type": "display_data"
    }
   ],
   "source": [
    "can_execute = module_menu.is_executable(new_core, new_project, module_name)\n",
    "display(can_execute)"
   ]
  },
  {
   "cell_type": "code",
   "execution_count": 47,
   "metadata": {
    "collapsed": false
   },
   "outputs": [
    {
     "data": {
      "text/html": [
       "<ul><li>device.transportation_method: <b>satisfied</b></li><li>component.collection_points: <b>satisfied</b></li><li>component.rov: <b>satisfied</b></li><li>farm.wind_series_installation: <b>satisfied</b></li><li>device.disconnect_duration: <b>satisfied</b></li><li>component.ports: <b>satisfied</b></li><li>component.split_pipe_safety_factors: <b>satisfied</b></li><li>device.system_height: <b>satisfied</b></li><li>farm.substation_props: <b>satisfied</b></li><li>component.port_locations: <b>satisfied</b></li><li>component.split_pipes_installation: <b>satisfied</b></li><li>device.bollard_pull: <b>satisfied</b></li><li>project.start_date: <b>satisfied</b></li><li>component.static_cable: <b>satisfied</b></li><li>farm.umbilical_seabed_connection: <b>satisfied</b></li><li>device.connect_duration: <b>satisfied</b></li><li>device.system_mass: <b>satisfied</b></li><li>component.transformers: <b>satisfied</b></li><li>device.load_out_method: <b>satisfied</b></li><li>component.drilling_rigs: <b>satisfied</b></li><li>device.system_width: <b>satisfied</b></li><li>site.projection: <b>satisfied</b></li><li>component.vibro_driver_safety_factors: <b>satisfied</b></li><li>component.divers_safety_factors: <b>satisfied</b></li><li>component.vessel_safety_factors: <b>satisfied</b></li><li>device.control_system_installation: <b>optional</b></li><li>device.installation_limit_Ws: <b>satisfied</b></li><li>farm.cable_routes: <b>satisfied</b></li><li>device.installation_limit_Cs: <b>satisfied</b></li><li>farm.foundations_component_data: <b>satisfied</b></li><li>farm.entry_point: <b>satisfied</b></li><li>component.loading_rate: <b>satisfied</b></li><li>farm.moorings_component_data: <b>satisfied</b></li><li>options.skip_phase: <b>satisfied</b></li><li>device.installation_limit_Hs: <b>satisfied</b></li><li>device.system_length: <b>satisfied</b></li><li>component.installation_soil_compatibility: <b>satisfied</b></li><li>farm.foundations_soil_data: <b>satisfied</b></li><li>component.hammer: <b>satisfied</b></li><li>component.equipment_penetration_rates: <b>satisfied</b></li><li>corridor.layers: <b>satisfied</b></li><li>component.grout_rate: <b>satisfied</b></li><li>farm.tidal_series_installation: <b>satisfied</b></li><li>component.excavating: <b>satisfied</b></li><li>device.installation_limit_Tp: <b>satisfied</b></li><li>component.power_quality: <b>satisfied</b></li><li>component.surface_laying_rate: <b>satisfied</b></li><li>component.switchgear: <b>satisfied</b></li><li>project.port_percentage_cost: <b>satisfied</b></li><li>component.fuel_cost_rate: <b>satisfied</b></li><li>device.sub_systems_installation: <b>satisfied</b></li><li>component.port_safety_factors: <b>satisfied</b></li><li>component.vessels: <b>satisfied</b></li><li>project.cost_contingency: <b>satisfied</b></li><li>farm.moorings_foundations_network: <b>satisfied</b></li><li>project.comissioning_time: <b>satisfied</b></li><li>component.split_pipe_laying_rate: <b>satisfied</b></li><li>farm.layout: <b>satisfied</b></li><li>farm.electrical_network: <b>satisfied</b></li><li>component.dynamic_cable: <b>satisfied</b></li><li>component.mattress_installation: <b>satisfied</b></li><li>farm.electrical_component_data: <b>satisfied</b></li><li>component.vibro_driver: <b>satisfied</b></li><li>component.dry_mate_connectors: <b>satisfied</b></li><li>device.assembly_duration: <b>satisfied</b></li><li>component.rov_safety_factors: <b>satisfied</b></li><li>farm.line_data: <b>satisfied</b></li><li>device.system_type: <b>satisfied</b></li><li>component.hammer_safety_factors: <b>satisfied</b></li><li>component.cable_burial: <b>satisfied</b></li><li>component.wet_mate_connectors: <b>satisfied</b></li><li>bathymetry.layers: <b>satisfied</b></li><li>component.rock_bags_installation: <b>satisfied</b></li><li>farm.wave_series_installation: <b>satisfied</b></li><li>component.divers: <b>satisfied</b></li><li>corridor.landfall_contruction_technique: <b>satisfied</b></li><li>farm.umbilical_cable_data: <b>satisfied</b></li><li>farm.selected_installation_tool: <b>satisfied</b></li><li>component.cable_burial_safety_factors: <b>satisfied</b></li></ul>"
      ],
      "text/plain": [
       "<IPython.core.display.HTML object>"
      ]
     },
     "execution_count": 47,
     "metadata": {},
     "output_type": "execute_result"
    }
   ],
   "source": [
    "input_status = installation_branch.get_input_status(new_core, new_project)\n",
    "message = html_dict(input_status)\n",
    "HTML(message)"
   ]
  },
  {
   "cell_type": "markdown",
   "metadata": {},
   "source": [
    "## Execute the current module\n",
    "\n",
    "The \"current\" module refers to the next module to be executed in the chain (pipeline) of modules. This command will only execute that module and another will be used for executing all of the modules at once.\n",
    "\n",
    "Note, any data supplied by the module will be automatically copied into the active data state."
   ]
  },
  {
   "cell_type": "code",
   "execution_count": 48,
   "metadata": {
    "collapsed": false
   },
   "outputs": [
    {
     "name": "stdout",
     "output_type": "stream",
     "text": [
      "2016-12-18 14:55:07,487 - INFO - aneris.control.simulation - Datastate with level \"installation start\" stored\n",
      "2016-12-18 14:55:08,111 - INFO - dtocean_installation.main - Installation port selected...\n",
      "2016-12-18 14:55:08,118 - WARNING - dtocean_logistics.phases.install.e_export - Export cable trenching technique not valid. A plough is assumed.\n",
      "2016-12-18 14:55:08,141 - WARNING - dtocean_logistics.phases.install.e_array - Array cable trenching technique not valid.A plough is assumed.\n",
      "2016-12-18 14:55:08,207 - WARNING - dtocean_logistics.phases.install.Driven - Drilling technique inadequate for site soil types.\n",
      "2016-12-18 14:55:08,227 - INFO - dtocean_installation.main - Checking installation requirements for phase: Installation of driven piles anchors/foundations.\n",
      "2016-12-18 14:55:08,331 - INFO - dtocean_installation.main - 7 possible solutions found.\n",
      "2016-12-18 14:55:09,000 - WARNING - dtocean_installation.main - Lack of information on vessel fuel consumption. Fuel cost not considered for this installation phase.\n",
      "2016-12-18 14:55:09,000 - INFO - dtocean_installation.main - Final solution found.\n",
      "2016-12-18 14:55:09,013 - INFO - dtocean_installation.main - Checking installation requirements for phase: Installation of mooring systems with pile anchors.\n",
      "2016-12-18 14:55:09,078 - INFO - dtocean_installation.main - 5 possible solutions found.\n",
      "2016-12-18 14:55:09,365 - INFO - dtocean_installation.main - Final solution found.\n",
      "2016-12-18 14:55:09,378 - INFO - dtocean_installation.main - Checking installation requirements for phase: Installation of collection point (seabed).\n",
      "2016-12-18 14:55:09,532 - WARNING - dtocean_logistics.selection.match - Some vessels being considerde are too wide for the entrance  of the selected port.\n",
      "2016-12-18 14:55:09,536 - INFO - dtocean_installation.main - 8 possible solutions found.\n",
      "2016-12-18 14:55:09,753 - INFO - dtocean_installation.main - Final solution found.\n",
      "2016-12-18 14:55:09,766 - INFO - dtocean_installation.main - Checking installation requirements for phase: Installation of static export cables.\n",
      "2016-12-18 14:55:09,811 - INFO - dtocean_installation.main - 0 possible solutions found.\n",
      "2016-12-18 14:55:09,812 - WARNING - dtocean_installation.main - Cannot complete installation phase: Installation of static export cables. No solution found in vessel database. Vessel deck requirements calculated as: area 0.0 m^2, cargo 8.7 T, loading 0.0 T/m^2\n",
      "2016-12-18 14:55:09,828 - INFO - dtocean_installation.main - Checking installation requirements for phase: Installation of static array cables.\n",
      "2016-12-18 14:55:09,880 - INFO - dtocean_installation.main - 0 possible solutions found.\n",
      "2016-12-18 14:55:09,881 - WARNING - dtocean_installation.main - Cannot complete installation phase: Installation of static array cables. No solution found in vessel database. Vessel deck requirements calculated as: area 0.0 m^2, cargo 8.7 T, loading 0.0 T/m^2\n",
      "2016-12-18 14:55:09,892 - INFO - dtocean_installation.main - Checking installation requirements for phase: Installation of dynamic cables.\n",
      "2016-12-18 14:55:09,963 - INFO - dtocean_installation.main - 4 possible solutions found.\n",
      "2016-12-18 14:55:10,344 - WARNING - dtocean_installation.main - Lack of information on vessel fuel consumption. Fuel cost not considered for this installation phase.\n",
      "2016-12-18 14:55:10,345 - INFO - dtocean_installation.main - Final solution found.\n",
      "2016-12-18 14:55:10,355 - INFO - dtocean_installation.main - Checking installation requirements for phase: Installation of support structure.\n",
      "2016-12-18 14:55:10,493 - WARNING - dtocean_logistics.selection.match - Some vessels being considerde are too wide for the entrance  of the selected port.\n",
      "2016-12-18 14:55:10,496 - INFO - dtocean_installation.main - 5 possible solutions found.\n",
      "2016-12-18 14:55:10,744 - INFO - dtocean_installation.main - Final solution found.\n",
      "2016-12-18 14:55:10,756 - INFO - dtocean_installation.main - Checking installation requirements for phase: Installation of devices.\n",
      "2016-12-18 14:55:10,921 - WARNING - dtocean_logistics.selection.match - Some vessels being considerde are too wide for the entrance  of the selected port.\n",
      "2016-12-18 14:55:10,923 - INFO - dtocean_installation.main - 5 possible solutions found.\n",
      "2016-12-18 14:55:11,119 - INFO - dtocean_installation.main - Final solution found.\n",
      "2016-12-18 14:55:11,121 - INFO - dtocean_installation.main - The following phases could not be installed: Installation of static export cables, Installation of static array cables\n",
      "2016-12-18 14:55:11,121 - INFO - dtocean_installation.main - Planning of project installation complete...\n",
      "2016-12-18 14:55:11,154 - INFO - aneris.control.data - New \"project.installation_completion_date\" data stored with index OGW8K5\n",
      "2016-12-18 14:55:11,155 - INFO - aneris.control.data - New \"project.commissioning_date\" data stored with index T3OEFI\n",
      "2016-12-18 14:55:11,157 - INFO - aneris.control.data - New \"farm.port\" data stored with index 57QSH1\n",
      "2016-12-18 14:55:11,158 - INFO - aneris.control.data - New \"farm.port_distance\" data stored with index PNDXOE\n",
      "2016-12-18 14:55:11,161 - INFO - aneris.control.data - New \"farm.installation_journeys\" data stored with index LAJ0IN\n",
      "2016-12-18 14:55:11,163 - INFO - aneris.control.data - New \"farm.installation_vessel_average_size\" data stored with index COE2YX\n",
      "2016-12-18 14:55:11,164 - INFO - aneris.control.data - New \"farm.device_phase_installation_costs\" data stored with index 36DAFX\n",
      "2016-12-18 14:55:11,165 - INFO - aneris.control.data - New \"farm.device_phase_installation_cost_breakdown\" data stored with index JOXUBE\n",
      "2016-12-18 14:55:11,167 - INFO - aneris.control.data - New \"farm.device_phase_cost_class_breakdown\" data stored with index 0O98IK\n",
      "2016-12-18 14:55:11,170 - INFO - aneris.control.data - New \"farm.device_phase_installation_times\" data stored with index HF2X81\n",
      "2016-12-18 14:55:11,171 - INFO - aneris.control.data - New \"farm.device_phase_installation_time_breakdown\" data stored with index DU5R2W\n",
      "2016-12-18 14:55:11,173 - INFO - aneris.control.data - New \"farm.device_phase_time_class_breakdown\" data stored with index IOTLCL\n",
      "2016-12-18 14:55:11,177 - INFO - aneris.control.data - New \"farm.electrical_phase_installation_costs\" data stored with index 9S1DEO\n",
      "2016-12-18 14:55:11,178 - INFO - aneris.control.data - New \"farm.electrical_phase_installation_cost_breakdown\" data stored with index 1UCWFW\n",
      "2016-12-18 14:55:11,180 - INFO - aneris.control.data - New \"farm.electrical_phase_cost_class_breakdown\" data stored with index V8M250\n",
      "2016-12-18 14:55:11,184 - INFO - aneris.control.data - New \"farm.electrical_phase_installation_times\" data stored with index 7IY1RW\n",
      "2016-12-18 14:55:11,184 - INFO - aneris.control.data - New \"farm.electrical_phase_installation_time_breakdown\" data stored with index O4WUW9\n",
      "2016-12-18 14:55:11,186 - INFO - aneris.control.data - New \"farm.electrical_phase_time_class_breakdown\" data stored with index MSJNJ0\n",
      "2016-12-18 14:55:11,188 - INFO - aneris.control.data - New \"farm.mooring_phase_installation_costs\" data stored with index ZN73TT\n",
      "2016-12-18 14:55:11,190 - INFO - aneris.control.data - New \"farm.mooring_phase_installation_cost_breakdown\" data stored with index YLO2CZ\n",
      "2016-12-18 14:55:11,193 - INFO - aneris.control.data - New \"farm.mooring_phase_cost_class_breakdown\" data stored with index YBNCSG\n",
      "2016-12-18 14:55:11,196 - INFO - aneris.control.data - New \"farm.mooring_phase_installation_times\" data stored with index 2E88Y7\n",
      "2016-12-18 14:55:11,197 - INFO - aneris.control.data - New \"farm.mooring_phase_installation_time_breakdown\" data stored with index KELH3B\n",
      "2016-12-18 14:55:11,198 - INFO - aneris.control.data - New \"farm.mooring_phase_time_class_breakdown\" data stored with index CJPCIA\n",
      "2016-12-18 14:55:11,200 - INFO - aneris.control.data - New \"farm.installation_phase_cost_breakdown\" data stored with index 226B5E\n",
      "2016-12-18 14:55:11,203 - INFO - aneris.control.data - New \"farm.installation_cost_class_breakdown\" data stored with index F6M4PR\n",
      "2016-12-18 14:55:11,203 - INFO - aneris.control.data - New \"farm.total_installation_cost\" data stored with index U5JIVL\n",
      "2016-12-18 14:55:11,204 - INFO - aneris.control.data - New \"farm.installation_phase_time_breakdown\" data stored with index LDDJXB\n",
      "2016-12-18 14:55:11,207 - INFO - aneris.control.data - New \"farm.installation_time_class_breakdown\" data stored with index Z8VRMM\n",
      "2016-12-18 14:55:11,209 - INFO - aneris.control.data - New \"farm.total_installation_time\" data stored with index YP8FIT\n",
      "2016-12-18 14:55:11,211 - INFO - aneris.control.data - New \"farm.installation_economics_data\" data stored with index CO7X1X\n",
      "2016-12-18 14:55:11,213 - INFO - aneris.control.data - New \"project.install_support_structure_dates\" data stored with index HN5I1E\n",
      "2016-12-18 14:55:11,216 - INFO - aneris.control.data - New \"project.install_devices_dates\" data stored with index QDPIZQ\n",
      "2016-12-18 14:55:11,217 - INFO - aneris.control.data - New \"project.install_dynamic_cable_dates\" data stored with index JOLUAX\n",
      "2016-12-18 14:55:11,220 - INFO - aneris.control.data - New \"project.install_subsea_collection_point_dates\" data stored with index LKFE7F\n",
      "2016-12-18 14:55:11,223 - INFO - aneris.control.data - New \"project.install_driven_piles_dates\" data stored with index TH6FFR\n",
      "2016-12-18 14:55:11,226 - INFO - aneris.control.data - New \"project.install_pile_anchor_dates\" data stored with index I9FOSQ\n",
      "2016-12-18 14:55:11,227 - INFO - aneris.control.data - New \"project.install_support_structure_prep_time\" data stored with index MPZQDX\n",
      "2016-12-18 14:55:11,229 - INFO - aneris.control.data - New \"project.install_devices_prep_time\" data stored with index CW1JJ8\n",
      "2016-12-18 14:55:11,230 - INFO - aneris.control.data - New \"project.install_dynamic_cable_prep_time\" data stored with index 15G4U5\n",
      "2016-12-18 14:55:11,232 - INFO - aneris.control.data - New \"project.install_subsea_collection_point_prep_time\" data stored with index 1DEO5M\n",
      "2016-12-18 14:55:11,233 - INFO - aneris.control.data - New \"project.install_driven_piles_prep_time\" data stored with index ULLFKL\n",
      "2016-12-18 14:55:11,236 - INFO - aneris.control.data - New \"project.install_pile_anchor_prep_time\" data stored with index CFFIN7\n",
      "2016-12-18 14:55:11,237 - INFO - aneris.control.data - New \"project.installation_plan\" data stored with index 3MO4E2\n",
      "2016-12-18 14:55:11,237 - INFO - aneris.control.simulation - Datastate with level \"installation output\" stored\n",
      "2016-12-18 14:55:11,246 - INFO - dtocean_core.core - Auto executing interface Economics\n",
      "2016-12-18 14:55:11,278 - INFO - aneris.control.data - New \"project.cost_breakdown\" data stored with index MVZSS1\n",
      "2016-12-18 14:55:11,279 - INFO - aneris.control.data - New \"project.capex_total\" data stored with index PX400B\n",
      "2016-12-18 14:55:11,279 - INFO - aneris.control.data - New \"project.discounted_capex\" data stored with index K00ASE\n",
      "2016-12-18 14:55:11,282 - INFO - aneris.control.data - New \"project.capex_breakdown\" data stored with index VE4L32\n",
      "2016-12-18 14:55:11,282 - INFO - aneris.control.data - New \"project.opex_total\" data stored with index 7W9TUW\n",
      "2016-12-18 14:55:11,283 - INFO - aneris.control.data - New \"project.discounted_opex\" data stored with index FNCL0W\n",
      "2016-12-18 14:55:11,285 - INFO - aneris.control.simulation - Datastate with level \"installation local output\" stored\n",
      "2016-12-18 14:55:11,298 - INFO - dtocean_core.core - Auto executing interface Economics\n",
      "2016-12-18 14:55:11,309 - INFO - aneris.control.data - New \"project.cost_breakdown\" data stored with index WZGW6M\n",
      "2016-12-18 14:55:11,312 - INFO - aneris.control.data - New \"project.capex_total\" data stored with index TL1XUB\n",
      "2016-12-18 14:55:11,312 - INFO - aneris.control.data - New \"project.discounted_capex\" data stored with index JO7M28\n",
      "2016-12-18 14:55:11,315 - INFO - aneris.control.data - New \"project.capex_breakdown\" data stored with index ZJC0C8\n",
      "2016-12-18 14:55:11,315 - INFO - aneris.control.data - New \"project.opex_total\" data stored with index OWEF0S\n",
      "2016-12-18 14:55:11,316 - INFO - aneris.control.data - New \"project.discounted_opex\" data stored with index DQ2ERI\n",
      "2016-12-18 14:55:11,318 - INFO - aneris.control.simulation - Datastate with level \"installation global output\" stored\n"
     ]
    }
   ],
   "source": [
    "module_menu.execute_current(new_core, new_project)"
   ]
  },
  {
   "cell_type": "markdown",
   "metadata": {},
   "source": [
    "## Examine the results"
   ]
  },
  {
   "cell_type": "code",
   "execution_count": 49,
   "metadata": {
    "collapsed": false
   },
   "outputs": [
    {
     "data": {
      "text/html": [
       "<ul><li>farm.installation_economics_data: <b>satisfied</b></li><li>farm.installation_cost_class_breakdown: <b>satisfied</b></li><li>farm.electrical_phase_installation_times: <b>satisfied</b></li><li>farm.total_installation_cost: <b>satisfied</b></li><li>project.install_drag_embedment_dates: <b>unavailable</b></li><li>project.install_support_structure_prep_time: <b>satisfied</b></li><li>farm.total_installation_time: <b>satisfied</b></li><li>farm.electrical_phase_installation_time_breakdown: <b>satisfied</b></li><li>farm.electrical_phase_installation_costs: <b>satisfied</b></li><li>project.install_cable_protection_dates: <b>unavailable</b></li><li>farm.mooring_phase_cost_class_breakdown: <b>satisfied</b></li><li>project.installation_completion_date: <b>satisfied</b></li><li>farm.installation_vessel_average_size: <b>satisfied</b></li><li>project.install_devices_dates: <b>satisfied</b></li><li>farm.electrical_phase_installation_cost_breakdown: <b>satisfied</b></li><li>project.install_devices_prep_time: <b>satisfied</b></li><li>farm.device_phase_installation_costs: <b>satisfied</b></li><li>project.install_dynamic_cable_prep_time: <b>satisfied</b></li><li>project.install_array_cable_dates: <b>unavailable</b></li><li>farm.device_phase_installation_time_breakdown: <b>satisfied</b></li><li>project.install_gravity_based_prep_time: <b>unavailable</b></li><li>farm.electrical_phase_cost_class_breakdown: <b>satisfied</b></li><li>farm.device_phase_installation_times: <b>satisfied</b></li><li>project.install_surface_piercing_substation_dates: <b>unavailable</b></li><li>farm.device_phase_time_class_breakdown: <b>satisfied</b></li><li>project.commissioning_date: <b>satisfied</b></li><li>project.install_gravity_based_dates: <b>unavailable</b></li><li>farm.device_phase_cost_class_breakdown: <b>satisfied</b></li><li>project.install_surface_piercing_substation_prep_time: <b>unavailable</b></li><li>farm.electrical_phase_time_class_breakdown: <b>satisfied</b></li><li>farm.installation_journeys: <b>satisfied</b></li><li>project.install_drag_embedment_prep_time: <b>unavailable</b></li><li>farm.mooring_phase_installation_times: <b>satisfied</b></li><li>farm.mooring_phase_installation_time_breakdown: <b>satisfied</b></li><li>project.install_export_cable_prep_time: <b>unavailable</b></li><li>farm.installation_phase_time_breakdown: <b>satisfied</b></li><li>project.install_direct_embedment_prep_time: <b>unavailable</b></li><li>project.install_suction_embedment_dates: <b>unavailable</b></li><li>farm.mooring_phase_installation_cost_breakdown: <b>satisfied</b></li><li>project.install_pile_anchor_prep_time: <b>satisfied</b></li><li>farm.installation_phase_cost_breakdown: <b>satisfied</b></li><li>project.installation_plan: <b>satisfied</b></li><li>project.install_driven_piles_prep_time: <b>satisfied</b></li><li>farm.device_phase_installation_cost_breakdown: <b>satisfied</b></li><li>project.install_subsea_collection_point_dates: <b>satisfied</b></li><li>project.install_subsea_collection_point_prep_time: <b>satisfied</b></li><li>project.install_cable_protection_prep_time: <b>unavailable</b></li><li>project.install_pile_anchor_dates: <b>satisfied</b></li><li>project.install_direct_embedment_dates: <b>unavailable</b></li><li>project.install_suction_embedment_prep_time: <b>unavailable</b></li><li>farm.installation_time_class_breakdown: <b>satisfied</b></li><li>project.install_driven_piles_dates: <b>satisfied</b></li><li>farm.mooring_phase_installation_costs: <b>satisfied</b></li><li>farm.port_distance: <b>satisfied</b></li><li>project.install_dynamic_cable_dates: <b>satisfied</b></li><li>project.install_support_structure_dates: <b>satisfied</b></li><li>project.install_array_cable_prep_time: <b>unavailable</b></li><li>farm.mooring_phase_time_class_breakdown: <b>satisfied</b></li><li>farm.port: <b>satisfied</b></li><li>project.install_export_cable_dates: <b>unavailable</b></li></ul>"
      ],
      "text/plain": [
       "<IPython.core.display.HTML object>"
      ]
     },
     "execution_count": 49,
     "metadata": {},
     "output_type": "execute_result"
    }
   ],
   "source": [
    "output_status = installation_branch.get_output_status(new_core, new_project)\n",
    "message = html_dict(output_status)\n",
    "HTML(message)"
   ]
  },
  {
   "cell_type": "code",
   "execution_count": 50,
   "metadata": {
    "collapsed": false
   },
   "outputs": [
    {
     "data": {
      "text/html": [
       "<div>\n",
       "<table border=\"1\" class=\"dataframe\">\n",
       "  <thead>\n",
       "    <tr style=\"text-align: right;\">\n",
       "      <th></th>\n",
       "      <th>Equipment</th>\n",
       "      <th>Port</th>\n",
       "      <th>Vessel</th>\n",
       "    </tr>\n",
       "    <tr>\n",
       "      <th>Component</th>\n",
       "      <th></th>\n",
       "      <th></th>\n",
       "      <th></th>\n",
       "    </tr>\n",
       "  </thead>\n",
       "  <tbody>\n",
       "    <tr>\n",
       "      <th>Support Structure</th>\n",
       "      <td>148631.412213</td>\n",
       "      <td>258096.511544</td>\n",
       "      <td>2.174237e+06</td>\n",
       "    </tr>\n",
       "    <tr>\n",
       "      <th>Device</th>\n",
       "      <td>189500.768173</td>\n",
       "      <td>274935.732219</td>\n",
       "      <td>2.284921e+06</td>\n",
       "    </tr>\n",
       "  </tbody>\n",
       "</table>\n",
       "</div>"
      ],
      "text/plain": [
       "                       Equipment           Port        Vessel\n",
       "Component                                                    \n",
       "Support Structure  148631.412213  258096.511544  2.174237e+06\n",
       "Device             189500.768173  274935.732219  2.284921e+06"
      ]
     },
     "execution_count": 50,
     "metadata": {},
     "output_type": "execute_result"
    }
   ],
   "source": [
    "economics_data = new_core.get_data_value(new_project, \"farm.device_phase_installation_costs\")\n",
    "economics_data"
   ]
  },
  {
   "cell_type": "code",
   "execution_count": 51,
   "metadata": {
    "collapsed": false
   },
   "outputs": [
    {
     "data": {
      "text/plain": [
       "{'Device': 2749357.3221885865, 'Support Structure': 2580965.115444631}"
      ]
     },
     "execution_count": 51,
     "metadata": {},
     "output_type": "execute_result"
    }
   ],
   "source": [
    "economics_data_breakdown = new_core.get_data_value(new_project, \"farm.device_phase_installation_cost_breakdown\")\n",
    "economics_data_breakdown"
   ]
  },
  {
   "cell_type": "code",
   "execution_count": 52,
   "metadata": {
    "collapsed": false
   },
   "outputs": [
    {
     "data": {
      "text/plain": [
       "'Portland port'"
      ]
     },
     "execution_count": 52,
     "metadata": {},
     "output_type": "execute_result"
    }
   ],
   "source": [
    "port = new_core.get_data_value(new_project, \"farm.port\")\n",
    "port"
   ]
  },
  {
   "cell_type": "code",
   "execution_count": 53,
   "metadata": {
    "collapsed": false
   },
   "outputs": [
    {
     "data": {
      "text/html": [
       "<div>\n",
       "<table border=\"1\" class=\"dataframe\">\n",
       "  <thead>\n",
       "    <tr style=\"text-align: right;\">\n",
       "      <th></th>\n",
       "      <th>Equipment</th>\n",
       "      <th>Port</th>\n",
       "      <th>Vessel</th>\n",
       "    </tr>\n",
       "    <tr>\n",
       "      <th>Component</th>\n",
       "      <th></th>\n",
       "      <th></th>\n",
       "      <th></th>\n",
       "    </tr>\n",
       "  </thead>\n",
       "  <tbody>\n",
       "    <tr>\n",
       "      <th>Dynamic Cables</th>\n",
       "      <td>313483.352648</td>\n",
       "      <td>373882.627449</td>\n",
       "      <td>3.051460e+06</td>\n",
       "    </tr>\n",
       "    <tr>\n",
       "      <th>Collection Points</th>\n",
       "      <td>191099.862796</td>\n",
       "      <td>92625.343431</td>\n",
       "      <td>6.425282e+05</td>\n",
       "    </tr>\n",
       "  </tbody>\n",
       "</table>\n",
       "</div>"
      ],
      "text/plain": [
       "                       Equipment           Port        Vessel\n",
       "Component                                                    \n",
       "Dynamic Cables     313483.352648  373882.627449  3.051460e+06\n",
       "Collection Points  191099.862796   92625.343431  6.425282e+05"
      ]
     },
     "execution_count": 53,
     "metadata": {},
     "output_type": "execute_result"
    }
   ],
   "source": [
    "comp_cost = new_core.get_data_value(new_project, \"farm.electrical_phase_installation_costs\")\n",
    "comp_cost"
   ]
  },
  {
   "cell_type": "code",
   "execution_count": 54,
   "metadata": {
    "collapsed": false
   },
   "outputs": [
    {
     "data": {
      "text/html": [
       "<div>\n",
       "<table border=\"1\" class=\"dataframe\">\n",
       "  <thead>\n",
       "    <tr style=\"text-align: right;\">\n",
       "      <th></th>\n",
       "      <th>Preparation</th>\n",
       "      <th>Operations</th>\n",
       "      <th>Transit</th>\n",
       "      <th>Waiting</th>\n",
       "    </tr>\n",
       "    <tr>\n",
       "      <th>Component</th>\n",
       "      <th></th>\n",
       "      <th></th>\n",
       "      <th></th>\n",
       "      <th></th>\n",
       "    </tr>\n",
       "  </thead>\n",
       "  <tbody>\n",
       "    <tr>\n",
       "      <th>Dynamic Cables</th>\n",
       "      <td>50.004444</td>\n",
       "      <td>17.549848</td>\n",
       "      <td>177.118894</td>\n",
       "      <td>605.714286</td>\n",
       "    </tr>\n",
       "    <tr>\n",
       "      <th>Collection Points</th>\n",
       "      <td>97.000000</td>\n",
       "      <td>12.889265</td>\n",
       "      <td>104.168136</td>\n",
       "      <td>370.857143</td>\n",
       "    </tr>\n",
       "  </tbody>\n",
       "</table>\n",
       "</div>"
      ],
      "text/plain": [
       "                   Preparation  Operations     Transit     Waiting\n",
       "Component                                                         \n",
       "Dynamic Cables       50.004444   17.549848  177.118894  605.714286\n",
       "Collection Points    97.000000   12.889265  104.168136  370.857143"
      ]
     },
     "execution_count": 54,
     "metadata": {},
     "output_type": "execute_result"
    }
   ],
   "source": [
    "comp_time = new_core.get_data_value(new_project, \"farm.electrical_phase_installation_times\")\n",
    "comp_time"
   ]
  },
  {
   "cell_type": "code",
   "execution_count": 55,
   "metadata": {
    "collapsed": false
   },
   "outputs": [
    {
     "data": {
      "text/plain": [
       "{'Collection Points': 584.9145433099629, 'Dynamic Cables': 850.3874724828206}"
      ]
     },
     "execution_count": 55,
     "metadata": {},
     "output_type": "execute_result"
    }
   ],
   "source": [
    "economics_data_breakdown = new_core.get_data_value(new_project, \"farm.electrical_phase_installation_time_breakdown\")\n",
    "economics_data_breakdown"
   ]
  },
  {
   "cell_type": "code",
   "execution_count": 56,
   "metadata": {
    "collapsed": false
   },
   "outputs": [
    {
     "data": {
      "text/html": [
       "<div>\n",
       "<table border=\"1\" class=\"dataframe\">\n",
       "  <thead>\n",
       "    <tr style=\"text-align: right;\">\n",
       "      <th></th>\n",
       "      <th>Equipment</th>\n",
       "      <th>Port</th>\n",
       "      <th>Vessel</th>\n",
       "    </tr>\n",
       "    <tr>\n",
       "      <th>Component</th>\n",
       "      <th></th>\n",
       "      <th></th>\n",
       "      <th></th>\n",
       "    </tr>\n",
       "  </thead>\n",
       "  <tbody>\n",
       "    <tr>\n",
       "      <th>Driven Piles</th>\n",
       "      <td>256950.510366</td>\n",
       "      <td>126864.705994</td>\n",
       "      <td>884831.843581</td>\n",
       "    </tr>\n",
       "    <tr>\n",
       "      <th>Pile Anchors</th>\n",
       "      <td>30454.877497</td>\n",
       "      <td>23183.145518</td>\n",
       "      <td>178193.432161</td>\n",
       "    </tr>\n",
       "  </tbody>\n",
       "</table>\n",
       "</div>"
      ],
      "text/plain": [
       "                  Equipment           Port         Vessel\n",
       "Component                                                \n",
       "Driven Piles  256950.510366  126864.705994  884831.843581\n",
       "Pile Anchors   30454.877497   23183.145518  178193.432161"
      ]
     },
     "execution_count": 56,
     "metadata": {},
     "output_type": "execute_result"
    }
   ],
   "source": [
    "comp_cost = new_core.get_data_value(new_project, \"farm.mooring_phase_installation_costs\")\n",
    "comp_cost"
   ]
  },
  {
   "cell_type": "code",
   "execution_count": 57,
   "metadata": {
    "collapsed": false
   },
   "outputs": [
    {
     "data": {
      "text/html": [
       "<div>\n",
       "<table border=\"1\" class=\"dataframe\">\n",
       "  <thead>\n",
       "    <tr style=\"text-align: right;\">\n",
       "      <th></th>\n",
       "      <th>Preparation</th>\n",
       "      <th>Operations</th>\n",
       "      <th>Transit</th>\n",
       "      <th>Waiting</th>\n",
       "    </tr>\n",
       "    <tr>\n",
       "      <th>Component</th>\n",
       "      <th></th>\n",
       "      <th></th>\n",
       "      <th></th>\n",
       "      <th></th>\n",
       "    </tr>\n",
       "  </thead>\n",
       "  <tbody>\n",
       "    <tr>\n",
       "      <th>Driven Piles</th>\n",
       "      <td>78.0</td>\n",
       "      <td>42.6949</td>\n",
       "      <td>236.725683</td>\n",
       "      <td>0.0</td>\n",
       "    </tr>\n",
       "    <tr>\n",
       "      <th>Pile Anchors</th>\n",
       "      <td>78.0</td>\n",
       "      <td>12.0000</td>\n",
       "      <td>65.757134</td>\n",
       "      <td>0.0</td>\n",
       "    </tr>\n",
       "  </tbody>\n",
       "</table>\n",
       "</div>"
      ],
      "text/plain": [
       "              Preparation  Operations     Transit  Waiting\n",
       "Component                                                 \n",
       "Driven Piles         78.0     42.6949  236.725683      0.0\n",
       "Pile Anchors         78.0     12.0000   65.757134      0.0"
      ]
     },
     "execution_count": 57,
     "metadata": {},
     "output_type": "execute_result"
    }
   ],
   "source": [
    "comp_time = new_core.get_data_value(new_project, \"farm.mooring_phase_installation_times\")\n",
    "comp_time"
   ]
  },
  {
   "cell_type": "code",
   "execution_count": 58,
   "metadata": {
    "collapsed": false
   },
   "outputs": [
    {
     "data": {
      "text/plain": [
       "{'Driven Piles': 357.4205821833392, 'Pile Anchors': 155.75713403401136}"
      ]
     },
     "execution_count": 58,
     "metadata": {},
     "output_type": "execute_result"
    }
   ],
   "source": [
    "economics_data_breakdown = new_core.get_data_value(new_project, \"farm.mooring_phase_installation_time_breakdown\")\n",
    "economics_data_breakdown"
   ]
  },
  {
   "cell_type": "code",
   "execution_count": 59,
   "metadata": {
    "collapsed": true
   },
   "outputs": [],
   "source": [
    "device_cost_breakdown = new_core.get_data_value(new_project, \"farm.device_phase_cost_class_breakdown\")\n",
    "electrical_cost_breakdown = new_core.get_data_value(new_project, \"farm.electrical_phase_installation_cost_breakdown\")\n",
    "mooring_cost_breakdown = new_core.get_data_value(new_project, \"farm.mooring_phase_installation_cost_breakdown\")"
   ]
  },
  {
   "cell_type": "code",
   "execution_count": 60,
   "metadata": {
    "collapsed": false
   },
   "outputs": [
    {
     "data": {
      "text/plain": [
       "{'Contingency': 1149588.0661553591,\n",
       " 'Devices': 5330322.437633217,\n",
       " 'Electrical Sub Systems': 4665079.708804152,\n",
       " 'Mooring and Foundations': 1500478.5151162227}"
      ]
     },
     "execution_count": 60,
     "metadata": {},
     "output_type": "execute_result"
    }
   ],
   "source": [
    "economics_data_breakdown = new_core.get_data_value(new_project, \"farm.installation_phase_cost_breakdown\")\n",
    "economics_data_breakdown"
   ]
  },
  {
   "cell_type": "code",
   "execution_count": 61,
   "metadata": {
    "collapsed": false
   },
   "outputs": [
    {
     "data": {
      "text/plain": [
       "{'Contingency': 1149588.0661553591,\n",
       " 'Equipment': 1130120.7836942,\n",
       " 'Port': 1149588.0661553594,\n",
       " 'Vessel': 9216171.811704032}"
      ]
     },
     "execution_count": 61,
     "metadata": {},
     "output_type": "execute_result"
    }
   ],
   "source": [
    "economics_data_breakdown = new_core.get_data_value(new_project, \"farm.installation_cost_class_breakdown\")\n",
    "economics_data_breakdown"
   ]
  },
  {
   "cell_type": "code",
   "execution_count": 62,
   "metadata": {
    "collapsed": false
   },
   "outputs": [
    {
     "data": {
      "text/plain": [
       "{'Operations': 30.0,\n",
       " 'Preparation': 148.0,\n",
       " 'Transit': 236.31620524259668,\n",
       " 'Waiting': 597.0}"
      ]
     },
     "execution_count": 62,
     "metadata": {},
     "output_type": "execute_result"
    }
   ],
   "source": [
    "device_time_breakdown = new_core.get_data_value(new_project, \"farm.device_phase_time_class_breakdown\")\n",
    "device_time_breakdown"
   ]
  },
  {
   "cell_type": "code",
   "execution_count": 63,
   "metadata": {
    "collapsed": false
   },
   "outputs": [
    {
     "data": {
      "text/plain": [
       "{'Devices': 1011.3162052425967,\n",
       " 'Electrical Sub Systems': 1435.3020157927835,\n",
       " 'Mooring and Foundations': 513.1777162173505}"
      ]
     },
     "execution_count": 63,
     "metadata": {},
     "output_type": "execute_result"
    }
   ],
   "source": [
    "economics_data_breakdown = new_core.get_data_value(new_project, \"farm.installation_phase_time_breakdown\")\n",
    "economics_data_breakdown"
   ]
  },
  {
   "cell_type": "code",
   "execution_count": 64,
   "metadata": {
    "collapsed": false
   },
   "outputs": [
    {
     "data": {
      "text/plain": [
       "{'Operations': 115.13401206139258,\n",
       " 'Preparation': 451.00444444444446,\n",
       " 'Transit': 820.0860521754653,\n",
       " 'Waiting': 1573.5714285714284}"
      ]
     },
     "execution_count": 64,
     "metadata": {},
     "output_type": "execute_result"
    }
   ],
   "source": [
    "economics_data_breakdown = new_core.get_data_value(new_project, \"farm.installation_time_class_breakdown\")\n",
    "economics_data_breakdown"
   ]
  },
  {
   "cell_type": "code",
   "execution_count": 65,
   "metadata": {
    "collapsed": false
   },
   "outputs": [
    {
     "data": {
      "text/html": [
       "<div>\n",
       "<table border=\"1\" class=\"dataframe\">\n",
       "  <thead>\n",
       "    <tr style=\"text-align: right;\">\n",
       "      <th></th>\n",
       "      <th>Key Identifier</th>\n",
       "      <th>Cost</th>\n",
       "      <th>Quantity</th>\n",
       "      <th>Year</th>\n",
       "    </tr>\n",
       "  </thead>\n",
       "  <tbody>\n",
       "    <tr>\n",
       "      <th>0</th>\n",
       "      <td>Electrical Sub Systems</td>\n",
       "      <td>4.665080e+06</td>\n",
       "      <td>1</td>\n",
       "      <td>0</td>\n",
       "    </tr>\n",
       "    <tr>\n",
       "      <th>1</th>\n",
       "      <td>Contingency</td>\n",
       "      <td>1.149588e+06</td>\n",
       "      <td>1</td>\n",
       "      <td>0</td>\n",
       "    </tr>\n",
       "    <tr>\n",
       "      <th>2</th>\n",
       "      <td>Devices</td>\n",
       "      <td>5.330322e+06</td>\n",
       "      <td>1</td>\n",
       "      <td>0</td>\n",
       "    </tr>\n",
       "    <tr>\n",
       "      <th>3</th>\n",
       "      <td>Mooring and Foundations</td>\n",
       "      <td>1.500479e+06</td>\n",
       "      <td>1</td>\n",
       "      <td>0</td>\n",
       "    </tr>\n",
       "  </tbody>\n",
       "</table>\n",
       "</div>"
      ],
      "text/plain": [
       "            Key Identifier          Cost  Quantity  Year\n",
       "0   Electrical Sub Systems  4.665080e+06         1     0\n",
       "1              Contingency  1.149588e+06         1     0\n",
       "2                  Devices  5.330322e+06         1     0\n",
       "3  Mooring and Foundations  1.500479e+06         1     0"
      ]
     },
     "execution_count": 65,
     "metadata": {},
     "output_type": "execute_result"
    }
   ],
   "source": [
    "economics_data_breakdown = new_core.get_data_value(new_project, \"farm.installation_economics_data\")\n",
    "economics_data_breakdown"
   ]
  },
  {
   "cell_type": "code",
   "execution_count": 66,
   "metadata": {
    "collapsed": false
   },
   "outputs": [
    {
     "data": {
      "text/html": [
       "<ul><li>project.lcoe: <b>unavailable</b></li><li>project.discounted_energy: <b>unavailable</b></li><li>project.capex_total: <b>satisfied</b></li><li>project.opex_total: <b>satisfied</b></li><li>project.capex_lcoe: <b>unavailable</b></li><li>project.capex_breakdown: <b>satisfied</b></li><li>project.cost_breakdown: <b>satisfied</b></li><li>project.discounted_capex: <b>satisfied</b></li><li>project.opex_lcoe: <b>unavailable</b></li><li>project.discounted_opex: <b>satisfied</b></li></ul>"
      ],
      "text/plain": [
       "<IPython.core.display.HTML object>"
      ]
     },
     "execution_count": 66,
     "metadata": {},
     "output_type": "execute_result"
    }
   ],
   "source": [
    "output_status = eco_branch.get_output_status(new_core, new_project)\n",
    "message = html_dict(output_status)\n",
    "HTML(message)"
   ]
  },
  {
   "cell_type": "code",
   "execution_count": 67,
   "metadata": {
    "collapsed": false
   },
   "outputs": [
    {
     "data": {
      "text/plain": [
       "{'Devices': 2000000.0, 'Installation': 12645468.72770895}"
      ]
     },
     "execution_count": 67,
     "metadata": {},
     "output_type": "execute_result"
    }
   ],
   "source": [
    "economics_data_breakdown = new_core.get_data_value(new_project, \"project.capex_breakdown\")\n",
    "economics_data_breakdown"
   ]
  },
  {
   "cell_type": "code",
   "execution_count": 68,
   "metadata": {
    "collapsed": false
   },
   "outputs": [
    {
     "data": {
      "text/plain": [
       "14645468.72770895"
      ]
     },
     "execution_count": 68,
     "metadata": {},
     "output_type": "execute_result"
    }
   ],
   "source": [
    "economics_data_breakdown = new_core.get_data_value(new_project, \"project.capex_total\")\n",
    "economics_data_breakdown"
   ]
  },
  {
   "cell_type": "code",
   "execution_count": null,
   "metadata": {
    "collapsed": true
   },
   "outputs": [],
   "source": []
  }
 ],
 "metadata": {
  "kernelspec": {
   "display_name": "Python 2",
   "language": "python",
   "name": "python2"
  },
  "language_info": {
   "codemirror_mode": {
    "name": "ipython",
    "version": 2
   },
   "file_extension": ".py",
   "mimetype": "text/x-python",
   "name": "python",
   "nbconvert_exporter": "python",
   "pygments_lexer": "ipython2",
   "version": "2.7.12"
  }
 },
 "nbformat": 4,
 "nbformat_minor": 0
}
