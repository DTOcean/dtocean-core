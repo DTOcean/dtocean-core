{
 "cells": [
  {
   "cell_type": "markdown",
   "metadata": {},
   "source": [
    "# DTOcean Installation Module Test"
   ]
  },
  {
   "cell_type": "code",
   "execution_count": 1,
   "metadata": {
    "collapsed": true
   },
   "outputs": [],
   "source": [
    "%matplotlib inline"
   ]
  },
  {
   "cell_type": "code",
   "execution_count": 2,
   "metadata": {
    "collapsed": true
   },
   "outputs": [],
   "source": [
    "from IPython.display import display, HTML"
   ]
  },
  {
   "cell_type": "code",
   "execution_count": 3,
   "metadata": {
    "collapsed": false
   },
   "outputs": [],
   "source": [
    "import matplotlib.pyplot as plt\n",
    "plt.rcParams['figure.figsize'] = (14.0, 8.0)"
   ]
  },
  {
   "cell_type": "code",
   "execution_count": 4,
   "metadata": {
    "collapsed": true
   },
   "outputs": [],
   "source": [
    "import numpy as np"
   ]
  },
  {
   "cell_type": "code",
   "execution_count": 5,
   "metadata": {
    "collapsed": false
   },
   "outputs": [],
   "source": [
    "from dtocean_core import start_logging\n",
    "from dtocean_core.core import Core\n",
    "from dtocean_core.menu import ModuleMenu, ProjectMenu, ThemeMenu\n",
    "from dtocean_core.pipeline import Tree"
   ]
  },
  {
   "cell_type": "code",
   "execution_count": 6,
   "metadata": {
    "collapsed": true
   },
   "outputs": [],
   "source": [
    "def html_list(x):\n",
    "    message = \"<ul>\"\n",
    "    for name in x:\n",
    "        message += \"<li>{}</li>\".format(name)\n",
    "    message += \"</ul>\"\n",
    "    return message\n",
    "def html_dict(x):\n",
    "    message = \"<ul>\"\n",
    "    for name, status in x.iteritems():\n",
    "        message += \"<li>{}: <b>{}</b></li>\".format(name, status)\n",
    "    message += \"</ul>\"\n",
    "    return message"
   ]
  },
  {
   "cell_type": "code",
   "execution_count": 7,
   "metadata": {
    "collapsed": false
   },
   "outputs": [
    {
     "name": "stdout",
     "output_type": "stream",
     "text": [
      "2017-05-11 11:16:54,243 - INFO - dtocean_core - Begin logging for dtocean_core.\n"
     ]
    }
   ],
   "source": [
    "# Bring up the logger\n",
    "start_logging()"
   ]
  },
  {
   "cell_type": "markdown",
   "metadata": {},
   "source": [
    "## Create the core, menus and pipeline tree\n",
    "\n",
    "The core object carrys all the system information and is operated on by the other classes"
   ]
  },
  {
   "cell_type": "code",
   "execution_count": 8,
   "metadata": {
    "collapsed": false
   },
   "outputs": [],
   "source": [
    "new_core = Core()\n",
    "project_menu = ProjectMenu()\n",
    "module_menu = ModuleMenu()\n",
    "theme_menu = ThemeMenu()\n",
    "pipe_tree = Tree()"
   ]
  },
  {
   "cell_type": "markdown",
   "metadata": {},
   "source": [
    "## Create a new project"
   ]
  },
  {
   "cell_type": "code",
   "execution_count": 9,
   "metadata": {
    "collapsed": false
   },
   "outputs": [
    {
     "name": "stdout",
     "output_type": "stream",
     "text": [
      "2017-05-11 11:16:58,851 - INFO - aneris.entity.simulation - Created new Simulation with title \"Default\"\n",
      "2017-05-11 11:16:58,855 - INFO - aneris.control.simulation - Datastate with level \"initial\" stored\n",
      "2017-05-11 11:16:58,861 - INFO - aneris.control.pipeline - New Hub created for interface ProjectInterface.\n"
     ]
    }
   ],
   "source": [
    "project_title = \"DTOcean\"  \n",
    "new_project = project_menu.new_project(new_core, project_title)"
   ]
  },
  {
   "cell_type": "markdown",
   "metadata": {},
   "source": [
    "## Set the device type"
   ]
  },
  {
   "cell_type": "code",
   "execution_count": 10,
   "metadata": {
    "collapsed": false
   },
   "outputs": [
    {
     "name": "stdout",
     "output_type": "stream",
     "text": [
      "2017-05-11 11:16:58,887 - INFO - aneris.control.data - New \"device.system_type\" data stored with index 8HJI6R\n",
      "2017-05-11 11:16:58,890 - INFO - aneris.control.simulation - Datastate stored\n"
     ]
    }
   ],
   "source": [
    "options_branch = pipe_tree.get_branch(new_core, new_project, \"System Type Selection\")\n",
    "variable_id = \"device.system_type\"\n",
    "my_var = options_branch.get_input_variable(new_core, new_project, variable_id)\n",
    "my_var.set_raw_interface(new_core, \"Wave Floating\")\n",
    "my_var.read(new_core, new_project)"
   ]
  },
  {
   "cell_type": "markdown",
   "metadata": {},
   "source": [
    "## Initiate the pipeline\n",
    "This step will be important when the database is incorporated into the system as it will effect the operation of the pipeline."
   ]
  },
  {
   "cell_type": "code",
   "execution_count": 11,
   "metadata": {
    "collapsed": false
   },
   "outputs": [
    {
     "name": "stdout",
     "output_type": "stream",
     "text": [
      "2017-05-11 11:16:58,908 - INFO - aneris.control.simulation - Datastate with level \"system type selection start\" stored\n",
      "2017-05-11 11:16:58,936 - INFO - aneris.control.data - New \"hidden.pipeline_active\" data stored with index I584LO\n",
      "2017-05-11 11:16:58,937 - INFO - aneris.control.simulation - Datastate with level \"system type selection output\" stored\n",
      "2017-05-11 11:16:58,941 - INFO - aneris.control.pipeline - New Pipeline created for interface ModuleInterface.\n",
      "2017-05-11 11:16:58,944 - INFO - aneris.control.pipeline - New Hub created for interface ThemeInterface.\n"
     ]
    }
   ],
   "source": [
    "project_menu.initiate_pipeline(new_core, new_project)"
   ]
  },
  {
   "cell_type": "markdown",
   "metadata": {},
   "source": [
    "## Discover available modules"
   ]
  },
  {
   "cell_type": "code",
   "execution_count": 12,
   "metadata": {
    "collapsed": false
   },
   "outputs": [
    {
     "data": {
      "text/html": [
       "<ul><li>Hydrodynamics</li><li>Electrical Sub-Systems</li><li>Mooring and Foundations</li><li>Installation</li><li>Operations and Maintenance</li></ul>"
      ],
      "text/plain": [
       "<IPython.core.display.HTML object>"
      ]
     },
     "execution_count": 12,
     "metadata": {},
     "output_type": "execute_result"
    }
   ],
   "source": [
    "names = module_menu.get_available(new_core, new_project)\n",
    "message = html_list(names)\n",
    "HTML(message)"
   ]
  },
  {
   "cell_type": "markdown",
   "metadata": {},
   "source": [
    "## Activate a module\n",
    "\n",
    "Note that the order of activation is important and that we can't deactivate yet!"
   ]
  },
  {
   "cell_type": "code",
   "execution_count": 13,
   "metadata": {
    "collapsed": false
   },
   "outputs": [],
   "source": [
    "module_name = 'Installation'\n",
    "module_menu.activate(new_core, new_project, module_name)"
   ]
  },
  {
   "cell_type": "markdown",
   "metadata": {},
   "source": [
    "## Activate the Economics themes"
   ]
  },
  {
   "cell_type": "code",
   "execution_count": 14,
   "metadata": {
    "collapsed": false
   },
   "outputs": [
    {
     "data": {
      "text/html": [
       "<ul><li>Economics</li><li>Reliability</li><li>Environmental Impact Assessment</li></ul>"
      ],
      "text/plain": [
       "<IPython.core.display.HTML object>"
      ]
     },
     "execution_count": 14,
     "metadata": {},
     "output_type": "execute_result"
    }
   ],
   "source": [
    "names = theme_menu.get_available(new_core, new_project)\n",
    "message = html_list(names)\n",
    "HTML(message)"
   ]
  },
  {
   "cell_type": "code",
   "execution_count": 15,
   "metadata": {
    "collapsed": true
   },
   "outputs": [],
   "source": [
    "theme_menu.activate(new_core, new_project, \"Economics\")"
   ]
  },
  {
   "cell_type": "markdown",
   "metadata": {},
   "source": [
    "## Check the status of the module inputs"
   ]
  },
  {
   "cell_type": "code",
   "execution_count": 16,
   "metadata": {
    "collapsed": false
   },
   "outputs": [
    {
     "data": {
      "text/html": [
       "<ul><li>component.vehicle_vessel_clv: <b>required</b></li><li>device.transportation_method: <b>required</b></li><li>project.vibro_driver_safety_factors: <b>required</b></li><li>farm.wind_series_installation: <b>required</b></li><li>device.disconnect_duration: <b>required</b></li><li>component.ports: <b>required</b></li><li>device.system_type: <b>satisfied</b></li><li>device.system_height: <b>required</b></li><li>component.vehicle_vessel_clb: <b>required</b></li><li>device.connect_duration: <b>required</b></li><li>component.port_locations: <b>required</b></li><li>project.hammer_safety_factors: <b>required</b></li><li>device.bollard_pull: <b>optional</b></li><li>project.start_date: <b>required</b></li><li>component.static_cable: <b>optional</b></li><li>project.divers_safety_factors: <b>required</b></li><li>device.two_stage_assembly: <b>optional</b></li><li>device.system_mass: <b>required</b></li><li>component.transformers: <b>optional</b></li><li>device.load_out_method: <b>required</b></li><li>component.drilling_rigs: <b>required</b></li><li>device.system_width: <b>required</b></li><li>site.projection: <b>required</b></li><li>project.foundations_soil_data: <b>optional</b></li><li>project.fuel_cost_rate: <b>required</b></li><li>project.electrical_component_data: <b>optional</b></li><li>project.substation_props: <b>optional</b></li><li>project.cable_routes: <b>optional</b></li><li>farm.wave_series_installation: <b>required</b></li><li>component.vehicle_vessel_csv: <b>required</b></li><li>project.umbilical_cable_data: <b>optional</b></li><li>project.grout_rate: <b>required</b></li><li>options.skip_phase: <b>optional</b></li><li>device.system_length: <b>required</b></li><li>component.vehicle_vessel_barge: <b>required</b></li><li>component.installation_soil_compatibility: <b>required</b></li><li>component.rov: <b>required</b></li><li>component.vehicle_vessel_crane_barge: <b>required</b></li><li>component.hammer: <b>required</b></li><li>component.equipment_penetration_rates: <b>required</b></li><li>corridor.layers: <b>optional</b></li><li>farm.tidal_series_installation: <b>required</b></li><li>component.excavating: <b>required</b></li><li>project.cable_burial_safety_factors: <b>required</b></li><li>component.vehicle_vessel_ahts: <b>required</b></li><li>project.layout: <b>required</b></li><li>project.port_percentage_cost: <b>required</b></li><li>project.foundations_component_data: <b>optional</b></li><li>project.surface_laying_rate: <b>required</b></li><li>device.subsystem_installation: <b>required</b></li><li>project.loading_rate: <b>required</b></li><li>component.vehicle_helicopter: <b>required</b></li><li>component.vehicle_vessel_jackup_vessel: <b>required</b></li><li>project.moorings_component_data: <b>optional</b></li><li>project.split_pipe_safety_factors: <b>required</b></li><li>project.cost_contingency: <b>required</b></li><li>project.landfall_contruction_technique: <b>optional</b></li><li>project.moorings_foundations_network: <b>optional</b></li><li>component.dynamic_cable: <b>optional</b></li><li>project.rov_safety_factors: <b>required</b></li><li>component.mattress_installation: <b>required</b></li><li>component.vibro_driver: <b>required</b></li><li>component.dry_mate_connectors: <b>optional</b></li><li>device.assembly_duration: <b>required</b></li><li>component.vehicle_vessel_crane_vessel: <b>required</b></li><li>project.commissioning_time: <b>required</b></li><li>project.vessel_safety_factors: <b>required</b></li><li>project.split_pipe_laying_rate: <b>required</b></li><li>component.split_pipes_installation: <b>required</b></li><li>device.control_subsystem_installation: <b>optional</b></li><li>component.cable_burial: <b>required</b></li><li>project.port_safety_factors: <b>required</b></li><li>project.electrical_network: <b>optional</b></li><li>component.wet_mate_connectors: <b>optional</b></li><li>project.umbilical_seabed_connection: <b>optional</b></li><li>component.vehicle_vessel_multicat: <b>required</b></li><li>project.moorings_line_data: <b>optional</b></li><li>bathymetry.layers: <b>required</b></li><li>component.vehicle_vessel_ctv: <b>required</b></li><li>project.selected_installation_tool: <b>required</b></li><li>component.rock_bags_installation: <b>required</b></li><li>component.divers: <b>required</b></li><li>project.lease_area_entry_point: <b>required</b></li><li>component.vehicle_vessel_jackup_barge: <b>required</b></li><li>component.vehicle_vessel_tugboat: <b>required</b></li></ul>"
      ],
      "text/plain": [
       "<IPython.core.display.HTML object>"
      ]
     },
     "execution_count": 16,
     "metadata": {},
     "output_type": "execute_result"
    }
   ],
   "source": [
    "installation_branch = pipe_tree.get_branch(new_core, new_project, 'Installation')\n",
    "input_status = installation_branch.get_input_status(new_core, new_project)\n",
    "message = html_dict(input_status)\n",
    "HTML(message)"
   ]
  },
  {
   "cell_type": "markdown",
   "metadata": {},
   "source": [
    "## Initiate the dataflow\n",
    "This indicates that the filtering and module / theme selections are complete"
   ]
  },
  {
   "cell_type": "code",
   "execution_count": 17,
   "metadata": {
    "collapsed": false
   },
   "outputs": [
    {
     "name": "stdout",
     "output_type": "stream",
     "text": [
      "2017-05-11 11:16:59,088 - INFO - aneris.control.data - New \"hidden.dataflow_active\" data stored with index W9MJ0K\n",
      "2017-05-11 11:16:59,089 - INFO - aneris.control.simulation - Datastate stored\n",
      "2017-05-11 11:16:59,101 - INFO - aneris.control.simulation - Datastate with level \"modules initial\" stored\n"
     ]
    }
   ],
   "source": [
    "project_menu.initiate_dataflow(new_core, new_project)"
   ]
  },
  {
   "cell_type": "markdown",
   "metadata": {},
   "source": [
    "## Load test data"
   ]
  },
  {
   "cell_type": "markdown",
   "metadata": {},
   "source": [
    "Prepare the test data for loading. The files required can be found in the test_data directory of the source code and should be copied to the directory that the notebook is running. When the python file is run a pickle file is generated containing a dictionary of inputs."
   ]
  },
  {
   "cell_type": "code",
   "execution_count": 18,
   "metadata": {
    "collapsed": false
   },
   "outputs": [
    {
     "name": "stdout",
     "output_type": "stream",
     "text": [
      "generate test data: C:\\Users\\mtopper\\Programming\\Python\\notebooks\\inputs_wp5.pkl\n"
     ]
    }
   ],
   "source": [
    "%run inputs_wp5.py"
   ]
  },
  {
   "cell_type": "code",
   "execution_count": 19,
   "metadata": {
    "collapsed": false
   },
   "outputs": [
    {
     "name": "stdout",
     "output_type": "stream",
     "text": [
      "2017-05-11 11:17:20,489 - INFO - aneris.control.data - New \"component.vehicle_vessel_clv\" data stored with index 3ZM2RZ\n",
      "2017-05-11 11:17:20,489 - INFO - aneris.control.data - New \"project.split_pipe_safety_factors\" data stored with index O3KGQZ\n",
      "2017-05-11 11:17:20,489 - INFO - aneris.control.data - New \"project.landfall_contruction_technique\" data stored with index 7J9FC8\n",
      "2017-05-11 11:17:20,489 - INFO - aneris.control.data - New \"device.bollard_pull\" data stored with index 4Y93LJ\n",
      "2017-05-11 11:17:20,505 - INFO - aneris.control.data - New \"device.transportation_method\" data stored with index ZNA9S5\n",
      "2017-05-11 11:17:20,505 - INFO - aneris.control.data - New \"project.loading_rate\" data stored with index RWEZ7U\n",
      "2017-05-11 11:17:20,505 - INFO - aneris.control.data - New \"project.port_percentage_cost\" data stored with index CLSSX8\n",
      "2017-05-11 11:17:20,505 - INFO - aneris.control.data - New \"project.foundations_component_data\" data stored with index D949DN\n",
      "2017-05-11 11:17:21,197 - INFO - aneris.control.data - New \"farm.wind_series_installation\" data stored with index 03LM9D\n",
      "2017-05-11 11:17:21,197 - INFO - aneris.control.data - New \"device.disconnect_duration\" data stored with index TFYIEH\n",
      "2017-05-11 11:17:21,197 - INFO - aneris.control.data - New \"component.ports\" data stored with index QIFF5K\n",
      "2017-05-11 11:17:21,197 - INFO - aneris.control.data - New \"project.surface_laying_rate\" data stored with index RVYA2V\n",
      "2017-05-11 11:17:21,822 - INFO - aneris.control.data - New \"farm.tidal_series_installation\" data stored with index 3BU5KP\n",
      "2017-05-11 11:17:21,838 - INFO - aneris.control.data - New \"component.vehicle_vessel_clb\" data stored with index 3CWRAH\n",
      "2017-05-11 11:17:21,838 - INFO - aneris.control.data - New \"device.subsystem_installation\" data stored with index HGQ5BA\n",
      "2017-05-11 11:17:21,838 - INFO - aneris.control.data - New \"device.connect_duration\" data stored with index 7LZE5Q\n",
      "2017-05-11 11:17:21,838 - INFO - aneris.control.data - New \"component.port_locations\" data stored with index AXFS8D\n",
      "2017-05-11 11:17:21,852 - INFO - aneris.control.data - New \"component.vehicle_helicopter\" data stored with index 5B9CLT\n",
      "2017-05-11 11:17:21,852 - INFO - aneris.control.data - New \"component.rov\" data stored with index HQ7DC4\n",
      "2017-05-11 11:17:21,852 - INFO - aneris.control.data - New \"project.start_date\" data stored with index J1QBW0\n",
      "2017-05-11 11:17:21,868 - INFO - aneris.control.data - New \"project.hammer_safety_factors\" data stored with index S3TI5A\n",
      "2017-05-11 11:17:21,868 - INFO - aneris.control.data - New \"component.vehicle_vessel_jackup_vessel\" data stored with index BZN71S\n",
      "2017-05-11 11:17:21,868 - INFO - aneris.control.data - New \"device.system_length\" data stored with index 9D69BB\n",
      "2017-05-11 11:17:21,884 - INFO - aneris.control.data - New \"project.commissioning_time\" data stored with index Y7D8MQ\n",
      "2017-05-11 11:17:21,884 - INFO - aneris.control.data - New \"component.static_cable\" data stored with index O13K7T\n",
      "2017-05-11 11:17:21,884 - INFO - aneris.control.data - New \"project.port_safety_factors\" data stored with index 6QVT9T\n",
      "2017-05-11 11:17:21,884 - INFO - aneris.control.data - New \"device.system_mass\" data stored with index H4AWZZ\n",
      "2017-05-11 11:17:21,900 - INFO - aneris.control.data - New \"project.cost_contingency\" data stored with index L36674\n",
      "2017-05-11 11:17:21,900 - INFO - aneris.control.data - New \"device.assembly_duration\" data stored with index ZI1H3V\n",
      "2017-05-11 11:17:21,900 - INFO - aneris.control.data - New \"project.layout\" data stored with index A16YCW\n",
      "2017-05-11 11:17:21,900 - INFO - aneris.control.data - New \"project.moorings_foundations_network\" data stored with index 4I28U2\n",
      "2017-05-11 11:17:21,915 - INFO - aneris.control.data - New \"project.cable_routes\" data stored with index KU4858\n",
      "2017-05-11 11:17:21,915 - INFO - aneris.control.data - New \"component.transformers\" data stored with index MW2NHJ\n",
      "2017-05-11 11:17:21,930 - INFO - aneris.control.data - New \"component.dynamic_cable\" data stored with index 05X1LV\n",
      "2017-05-11 11:17:21,930 - INFO - aneris.control.data - New \"project.rov_safety_factors\" data stored with index 6274YT\n",
      "2017-05-11 11:17:21,930 - INFO - aneris.control.data - New \"component.drilling_rigs\" data stored with index O7BZNB\n",
      "2017-05-11 11:17:21,947 - INFO - aneris.control.data - New \"component.mattress_installation\" data stored with index OMPAEL\n",
      "2017-05-11 11:17:21,947 - INFO - aneris.control.data - New \"device.system_width\" data stored with index HZDS68\n",
      "2017-05-11 11:17:21,947 - INFO - aneris.control.data - New \"project.moorings_component_data\" data stored with index 719DDR\n",
      "2017-05-11 11:17:21,947 - INFO - aneris.control.data - New \"device.load_out_method\" data stored with index JCN1Q5\n",
      "2017-05-11 11:17:21,947 - INFO - aneris.control.data - New \"component.vibro_driver\" data stored with index UJCOVQ\n",
      "2017-05-11 11:17:21,963 - INFO - aneris.control.data - New \"site.projection\" data stored with index 2KVR2R\n",
      "2017-05-11 11:17:21,963 - INFO - aneris.control.data - New \"component.dry_mate_connectors\" data stored with index 1SZBHE\n",
      "2017-05-11 11:17:21,963 - INFO - aneris.control.data - New \"project.foundations_soil_data\" data stored with index P953OW\n",
      "2017-05-11 11:17:21,963 - INFO - aneris.control.data - New \"project.fuel_cost_rate\" data stored with index BNN5FY\n",
      "2017-05-11 11:17:21,977 - INFO - aneris.control.data - New \"component.wet_mate_connectors\" data stored with index 511K8W\n",
      "2017-05-11 11:17:21,977 - INFO - aneris.control.data - New \"device.system_height\" data stored with index 68OCQQ\n",
      "2017-05-11 11:17:21,977 - INFO - aneris.control.data - New \"component.vehicle_vessel_crane_vessel\" data stored with index PKQ4EQ\n",
      "2017-05-11 11:17:21,993 - INFO - aneris.control.data - New \"project.umbilical_cable_data\" data stored with index 4GJVC1\n",
      "2017-05-11 11:17:21,993 - INFO - aneris.control.data - New \"project.umbilical_seabed_connection\" data stored with index JPJKKA\n",
      "2017-05-11 11:17:22,009 - INFO - aneris.control.data - New \"project.vessel_safety_factors\" data stored with index K601J9\n",
      "2017-05-11 11:17:22,009 - INFO - aneris.control.data - New \"project.grout_rate\" data stored with index JCQMMD\n",
      "2017-05-11 11:17:22,338 - INFO - aneris.control.data - New \"farm.wave_series_installation\" data stored with index H28XHD\n",
      "2017-05-11 11:17:22,338 - INFO - aneris.control.data - New \"project.split_pipe_laying_rate\" data stored with index S1ZJSQ\n",
      "2017-05-11 11:17:22,354 - INFO - aneris.control.data - New \"component.vehicle_vessel_csv\" data stored with index ZORI6U\n",
      "2017-05-11 11:17:22,354 - INFO - aneris.control.data - New \"component.split_pipes_installation\" data stored with index UBG22X\n",
      "2017-05-11 11:17:22,354 - INFO - aneris.control.data - New \"component.cable_burial\" data stored with index NUH08G\n",
      "2017-05-11 11:17:22,369 - INFO - aneris.control.data - New \"project.divers_safety_factors\" data stored with index 9HPMQI\n",
      "2017-05-11 11:17:22,369 - INFO - aneris.control.data - New \"project.electrical_network\" data stored with index III3V8\n",
      "2017-05-11 11:17:22,369 - INFO - aneris.control.data - New \"project.electrical_component_data\" data stored with index TBA8P2\n",
      "2017-05-11 11:17:22,369 - INFO - aneris.control.data - New \"project.substation_props\" data stored with index MD2KUF\n",
      "2017-05-11 11:17:22,385 - INFO - aneris.control.data - New \"component.vehicle_vessel_multicat\" data stored with index RP1Z0D\n",
      "2017-05-11 11:17:22,385 - INFO - aneris.control.data - New \"project.vibro_driver_safety_factors\" data stored with index 8GKJRX\n",
      "2017-05-11 11:17:22,385 - INFO - aneris.control.data - New \"project.moorings_line_data\" data stored with index 49FJQG\n",
      "2017-05-11 11:17:22,510 - INFO - aneris.control.data - New \"bathymetry.layers\" data stored with index WNEEN5\n",
      "2017-05-11 11:17:22,510 - INFO - aneris.control.data - New \"options.skip_phase\" data stored with index MLWKOT\n",
      "2017-05-11 11:17:22,510 - INFO - aneris.control.data - New \"component.vehicle_vessel_ctv\" data stored with index RFPMG0\n",
      "2017-05-11 11:17:22,510 - INFO - aneris.control.data - New \"project.selected_installation_tool\" data stored with index VSAI1J\n",
      "2017-05-11 11:17:22,526 - INFO - aneris.control.data - New \"component.rock_bags_installation\" data stored with index 4KH8AR\n",
      "2017-05-11 11:17:22,526 - INFO - aneris.control.data - New \"component.vehicle_vessel_barge\" data stored with index TSZHO8\n",
      "2017-05-11 11:17:22,542 - INFO - aneris.control.data - New \"component.installation_soil_compatibility\" data stored with index L8K1XZ\n",
      "2017-05-11 11:17:22,542 - INFO - aneris.control.data - New \"project.cable_burial_safety_factors\" data stored with index URR431\n",
      "2017-05-11 11:17:22,542 - INFO - aneris.control.data - New \"component.vehicle_vessel_crane_barge\" data stored with index VEYBBQ\n",
      "2017-05-11 11:17:22,558 - INFO - aneris.control.data - New \"component.divers\" data stored with index XKTHFR\n",
      "2017-05-11 11:17:22,558 - INFO - aneris.control.data - New \"component.hammer\" data stored with index DL3XH6\n",
      "2017-05-11 11:17:22,572 - INFO - aneris.control.data - New \"component.equipment_penetration_rates\" data stored with index EO9HV3\n",
      "2017-05-11 11:17:22,572 - INFO - aneris.control.data - New \"corridor.layers\" data stored with index 0B3B9F\n",
      "2017-05-11 11:17:22,588 - INFO - aneris.control.data - New \"component.vehicle_vessel_ahts\" data stored with index UB7VVL\n",
      "2017-05-11 11:17:22,588 - INFO - aneris.control.data - New \"component.excavating\" data stored with index 9L3TBW\n",
      "2017-05-11 11:17:22,588 - INFO - aneris.control.data - New \"project.lease_area_entry_point\" data stored with index MJVAD4\n",
      "2017-05-11 11:17:22,604 - INFO - aneris.control.data - New \"component.vehicle_vessel_jackup_barge\" data stored with index EBG7XN\n",
      "2017-05-11 11:17:22,604 - INFO - aneris.control.data - New \"component.vehicle_vessel_tugboat\" data stored with index VPK3KW\n",
      "2017-05-11 11:17:22,604 - INFO - aneris.control.simulation - Datastate stored\n"
     ]
    }
   ],
   "source": [
    "installation_branch.read_test_data(new_core,\n",
    "                            new_project,\n",
    "                            \"inputs_wp5.pkl\")"
   ]
  },
  {
   "cell_type": "markdown",
   "metadata": {},
   "source": [
    "## Prepare the Economics Theme"
   ]
  },
  {
   "cell_type": "code",
   "execution_count": 20,
   "metadata": {
    "collapsed": false
   },
   "outputs": [
    {
     "data": {
      "text/html": [
       "<ul><li>project.electrical_network_efficiency: <b>optional</b></li><li>device.power_rating: <b>optional</b></li><li>project.moorings_cost_estimate: <b>optional</b></li><li>device.system_cost: <b>optional</b></li><li>project.energy_per_year: <b>optional</b></li><li>project.annual_repair_cost_estimate: <b>optional</b></li><li>project.annual_array_mttf_estimate: <b>optional</b></li><li>project.annual_energy: <b>optional</b></li><li>project.installation_cost_estimate: <b>optional</b></li><li>project.number_of_devices: <b>optional</b></li><li>project.opex_per_year: <b>optional</b></li><li>project.electrical_economics_data: <b>optional</b></li><li>project.lifetime: <b>optional</b></li><li>project.moorings_foundations_economics_data: <b>optional</b></li><li>project.electrical_cost_estimate: <b>optional</b></li><li>project.installation_economics_data: <b>unavailable_option</b></li><li>project.discount_rate: <b>optional</b></li><li>project.opex_estimate: <b>optional</b></li><li>project.capex_oandm: <b>optional</b></li></ul>"
      ],
      "text/plain": [
       "<IPython.core.display.HTML object>"
      ]
     },
     "execution_count": 20,
     "metadata": {},
     "output_type": "execute_result"
    }
   ],
   "source": [
    "theme_name = \"Economics\"\n",
    "eco_branch = pipe_tree.get_branch(new_core, new_project, \"Economics\")\n",
    "\n",
    "input_status = eco_branch.get_input_status(new_core, new_project)\n",
    "message = html_dict(input_status)\n",
    "HTML(message)"
   ]
  },
  {
   "cell_type": "markdown",
   "metadata": {},
   "source": [
    "## Set the discount rate and cost estimates and project lifetime"
   ]
  },
  {
   "cell_type": "code",
   "execution_count": 21,
   "metadata": {
    "collapsed": false
   },
   "outputs": [
    {
     "name": "stdout",
     "output_type": "stream",
     "text": [
      "2017-05-11 11:17:22,683 - INFO - aneris.control.data - New \"project.discount_rate\" data stored with index IXVJ4S\n",
      "2017-05-11 11:17:22,683 - INFO - aneris.control.simulation - Datastate stored\n",
      "2017-05-11 11:17:22,713 - INFO - aneris.control.data - New \"device.system_cost\" data stored with index 3Z1BKO\n",
      "2017-05-11 11:17:22,713 - INFO - aneris.control.simulation - Datastate stored\n",
      "2017-05-11 11:17:22,744 - INFO - aneris.control.data - New \"project.lifetime\" data stored with index 3RV30Z\n",
      "2017-05-11 11:17:22,744 - INFO - aneris.control.simulation - Datastate stored\n"
     ]
    }
   ],
   "source": [
    "discount_rate = 0.05\n",
    "device_cost = 1000000\n",
    "project_lifetime = 20\n",
    "\n",
    "new_var = eco_branch.get_input_variable(new_core, new_project,\n",
    "                                        \"project.discount_rate\")\n",
    "new_var.set_raw_interface(new_core, discount_rate)\n",
    "new_var.read(new_core, new_project)\n",
    "\n",
    "new_var = eco_branch.get_input_variable(new_core, new_project,\n",
    "                                        \"device.system_cost\")\n",
    "new_var.set_raw_interface(new_core, device_cost)\n",
    "new_var.read(new_core, new_project)\n",
    "\n",
    "new_var = eco_branch.get_input_variable(new_core, new_project,\n",
    "                                        \"project.lifetime\")\n",
    "new_var.set_raw_interface(new_core, project_lifetime)\n",
    "new_var.read(new_core, new_project)"
   ]
  },
  {
   "cell_type": "markdown",
   "metadata": {},
   "source": [
    "## Check if the module can be executed"
   ]
  },
  {
   "cell_type": "code",
   "execution_count": 22,
   "metadata": {
    "collapsed": false
   },
   "outputs": [
    {
     "data": {
      "text/plain": [
       "True"
      ]
     },
     "metadata": {},
     "output_type": "display_data"
    }
   ],
   "source": [
    "can_execute = module_menu.is_executable(new_core, new_project, module_name)\n",
    "display(can_execute)"
   ]
  },
  {
   "cell_type": "code",
   "execution_count": 23,
   "metadata": {
    "collapsed": false
   },
   "outputs": [
    {
     "data": {
      "text/html": [
       "<ul><li>component.vehicle_vessel_clv: <b>satisfied</b></li><li>device.transportation_method: <b>satisfied</b></li><li>project.vibro_driver_safety_factors: <b>satisfied</b></li><li>farm.wind_series_installation: <b>satisfied</b></li><li>device.disconnect_duration: <b>satisfied</b></li><li>component.ports: <b>satisfied</b></li><li>device.system_type: <b>satisfied</b></li><li>device.system_height: <b>satisfied</b></li><li>component.vehicle_vessel_clb: <b>satisfied</b></li><li>device.connect_duration: <b>satisfied</b></li><li>component.port_locations: <b>satisfied</b></li><li>project.hammer_safety_factors: <b>satisfied</b></li><li>device.bollard_pull: <b>satisfied</b></li><li>project.start_date: <b>satisfied</b></li><li>component.static_cable: <b>satisfied</b></li><li>project.divers_safety_factors: <b>satisfied</b></li><li>device.two_stage_assembly: <b>optional</b></li><li>device.system_mass: <b>satisfied</b></li><li>component.transformers: <b>satisfied</b></li><li>device.load_out_method: <b>satisfied</b></li><li>component.drilling_rigs: <b>satisfied</b></li><li>device.system_width: <b>satisfied</b></li><li>site.projection: <b>satisfied</b></li><li>project.foundations_soil_data: <b>satisfied</b></li><li>project.fuel_cost_rate: <b>satisfied</b></li><li>project.electrical_component_data: <b>satisfied</b></li><li>project.substation_props: <b>satisfied</b></li><li>project.cable_routes: <b>satisfied</b></li><li>farm.wave_series_installation: <b>satisfied</b></li><li>component.vehicle_vessel_csv: <b>satisfied</b></li><li>project.umbilical_cable_data: <b>satisfied</b></li><li>project.grout_rate: <b>satisfied</b></li><li>options.skip_phase: <b>satisfied</b></li><li>device.system_length: <b>satisfied</b></li><li>component.vehicle_vessel_barge: <b>satisfied</b></li><li>component.installation_soil_compatibility: <b>satisfied</b></li><li>component.rov: <b>satisfied</b></li><li>component.vehicle_vessel_crane_barge: <b>satisfied</b></li><li>component.hammer: <b>satisfied</b></li><li>component.equipment_penetration_rates: <b>satisfied</b></li><li>corridor.layers: <b>satisfied</b></li><li>farm.tidal_series_installation: <b>satisfied</b></li><li>component.excavating: <b>satisfied</b></li><li>project.cable_burial_safety_factors: <b>satisfied</b></li><li>component.vehicle_vessel_ahts: <b>satisfied</b></li><li>project.layout: <b>satisfied</b></li><li>project.port_percentage_cost: <b>satisfied</b></li><li>project.foundations_component_data: <b>satisfied</b></li><li>project.surface_laying_rate: <b>satisfied</b></li><li>device.subsystem_installation: <b>satisfied</b></li><li>project.loading_rate: <b>satisfied</b></li><li>component.vehicle_helicopter: <b>satisfied</b></li><li>component.vehicle_vessel_jackup_vessel: <b>satisfied</b></li><li>project.moorings_component_data: <b>satisfied</b></li><li>project.split_pipe_safety_factors: <b>satisfied</b></li><li>project.cost_contingency: <b>satisfied</b></li><li>project.landfall_contruction_technique: <b>satisfied</b></li><li>project.moorings_foundations_network: <b>satisfied</b></li><li>component.dynamic_cable: <b>satisfied</b></li><li>project.rov_safety_factors: <b>satisfied</b></li><li>component.mattress_installation: <b>satisfied</b></li><li>component.vibro_driver: <b>satisfied</b></li><li>component.dry_mate_connectors: <b>satisfied</b></li><li>device.assembly_duration: <b>satisfied</b></li><li>component.vehicle_vessel_crane_vessel: <b>satisfied</b></li><li>project.commissioning_time: <b>satisfied</b></li><li>project.vessel_safety_factors: <b>satisfied</b></li><li>project.split_pipe_laying_rate: <b>satisfied</b></li><li>component.split_pipes_installation: <b>satisfied</b></li><li>device.control_subsystem_installation: <b>optional</b></li><li>component.cable_burial: <b>satisfied</b></li><li>project.port_safety_factors: <b>satisfied</b></li><li>project.electrical_network: <b>satisfied</b></li><li>component.wet_mate_connectors: <b>satisfied</b></li><li>project.umbilical_seabed_connection: <b>satisfied</b></li><li>component.vehicle_vessel_multicat: <b>satisfied</b></li><li>project.moorings_line_data: <b>satisfied</b></li><li>bathymetry.layers: <b>satisfied</b></li><li>component.vehicle_vessel_ctv: <b>satisfied</b></li><li>project.selected_installation_tool: <b>satisfied</b></li><li>component.rock_bags_installation: <b>satisfied</b></li><li>component.divers: <b>satisfied</b></li><li>project.lease_area_entry_point: <b>satisfied</b></li><li>component.vehicle_vessel_jackup_barge: <b>satisfied</b></li><li>component.vehicle_vessel_tugboat: <b>satisfied</b></li></ul>"
      ],
      "text/plain": [
       "<IPython.core.display.HTML object>"
      ]
     },
     "execution_count": 23,
     "metadata": {},
     "output_type": "execute_result"
    }
   ],
   "source": [
    "input_status = installation_branch.get_input_status(new_core, new_project)\n",
    "message = html_dict(input_status)\n",
    "HTML(message)"
   ]
  },
  {
   "cell_type": "markdown",
   "metadata": {},
   "source": [
    "## Execute the current module\n",
    "\n",
    "The \"current\" module refers to the next module to be executed in the chain (pipeline) of modules. This command will only execute that module and another will be used for executing all of the modules at once.\n",
    "\n",
    "Note, any data supplied by the module will be automatically copied into the active data state."
   ]
  },
  {
   "cell_type": "code",
   "execution_count": 24,
   "metadata": {
    "collapsed": false
   },
   "outputs": [
    {
     "name": "stdout",
     "output_type": "stream",
     "text": [
      "2017-05-11 11:17:22,822 - INFO - aneris.control.simulation - Datastate with level \"installation start\" stored\n",
      "2017-05-11 11:17:23,683 - INFO - dtocean_installation.main - Installation port selected...\n",
      "2017-05-11 11:17:23,792 - WARNING - dtocean_logistics.phases.install.Driven - Drilling technique inadequate for site soil types.\n",
      "2017-05-11 11:17:23,822 - INFO - dtocean_installation.main - Checking installation requirements for phase: Installation of driven piles anchors/foundations.\n",
      "2017-05-11 11:17:23,933 - INFO - dtocean_installation.main - 7 possible solutions found.\n",
      "2017-05-11 11:17:24,598 - INFO - dtocean_installation.main - Final solution found.\n",
      "2017-05-11 11:17:24,614 - INFO - dtocean_installation.main - Checking installation requirements for phase: Installation of mooring systems with pile anchors.\n",
      "2017-05-11 11:17:24,707 - INFO - dtocean_installation.main - 5 possible solutions found.\n",
      "2017-05-11 11:17:25,036 - INFO - dtocean_installation.main - Final solution found.\n",
      "2017-05-11 11:17:25,051 - INFO - dtocean_installation.main - Checking installation requirements for phase: Installation of collection point (seabed).\n",
      "2017-05-11 11:17:25,239 - INFO - dtocean_installation.main - 3 possible solutions found.\n",
      "2017-05-11 11:17:25,394 - INFO - dtocean_installation.main - Final solution found.\n",
      "2017-05-11 11:17:25,411 - INFO - dtocean_installation.main - Checking installation requirements for phase: Installation of static export cables.\n",
      "2017-05-11 11:17:25,503 - INFO - dtocean_installation.main - 5 possible solutions found.\n",
      "2017-05-11 11:17:26,144 - INFO - dtocean_installation.main - Final solution found.\n",
      "2017-05-11 11:17:26,161 - INFO - dtocean_installation.main - Checking installation requirements for phase: Installation of static array cables.\n",
      "2017-05-11 11:17:26,259 - INFO - dtocean_installation.main - 5 possible solutions found.\n",
      "2017-05-11 11:17:26,686 - INFO - dtocean_installation.main - Final solution found.\n",
      "2017-05-11 11:17:26,717 - INFO - dtocean_installation.main - Checking installation requirements for phase: Installation of dynamic cables.\n",
      "2017-05-11 11:17:26,811 - INFO - dtocean_installation.main - 1 possible solutions found.\n",
      "2017-05-11 11:17:26,950 - INFO - dtocean_installation.main - Final solution found.\n",
      "2017-05-11 11:17:26,967 - INFO - dtocean_installation.main - Checking installation requirements for phase: Installation of devices.\n",
      "2017-05-11 11:17:27,138 - INFO - dtocean_installation.main - 1 possible solutions found.\n",
      "2017-05-11 11:17:27,154 - WARNING - dtocean_logistics.performance.schedule.schedule_ins - Restrictive operational limit found in journey 0: Peak period < 8.0 s\n",
      "2017-05-11 11:17:27,295 - INFO - dtocean_installation.main - Final solution found.\n",
      "2017-05-11 11:17:27,311 - INFO - dtocean_installation.main - Planning of project installation complete...\n",
      "{'Start': datetime.datetime(2018, 1, 9, 12, 28, 33, 892933), 'End': datetime.datetime(2018, 2, 25, 15, 23, 20, 794254), 'Depart': datetime.datetime(2018, 2, 19, 17, 37, 8, 178647)}\n",
      "2017-05-11 11:17:27,358 - INFO - aneris.control.data - New \"project.installation_completion_date\" data stored with index Z4TIXJ\n",
      "2017-05-11 11:17:27,358 - INFO - aneris.control.data - New \"project.commissioning_date\" data stored with index HT0X7F\n",
      "2017-05-11 11:17:27,358 - INFO - aneris.control.data - New \"project.port\" data stored with index NCN71R\n",
      "2017-05-11 11:17:27,372 - INFO - aneris.control.data - New \"project.port_distance\" data stored with index Q1Y0IP\n",
      "2017-05-11 11:17:27,372 - INFO - aneris.control.data - New \"project.installation_journeys\" data stored with index JJFV7K\n",
      "2017-05-11 11:17:27,372 - INFO - aneris.control.data - New \"project.installation_vessel_average_size\" data stored with index RONVNZ\n",
      "2017-05-11 11:17:27,388 - INFO - aneris.control.data - New \"project.device_phase_installation_costs\" data stored with index PQ0FE6\n",
      "2017-05-11 11:17:27,388 - INFO - aneris.control.data - New \"project.device_phase_installation_cost_breakdown\" data stored with index GE14C8\n",
      "2017-05-11 11:17:27,388 - INFO - aneris.control.data - New \"project.device_phase_cost_class_breakdown\" data stored with index IESR0D\n",
      "2017-05-11 11:17:27,404 - INFO - aneris.control.data - New \"project.device_phase_installation_times\" data stored with index YKYQV4\n",
      "2017-05-11 11:17:27,404 - INFO - aneris.control.data - New \"project.device_phase_installation_time_breakdown\" data stored with index ICNFR8\n",
      "2017-05-11 11:17:27,404 - INFO - aneris.control.data - New \"project.device_phase_time_class_breakdown\" data stored with index BLO4FZ\n",
      "2017-05-11 11:17:27,420 - INFO - aneris.control.data - New \"project.electrical_phase_installation_costs\" data stored with index NTH3EQ\n",
      "2017-05-11 11:17:27,420 - INFO - aneris.control.data - New \"project.electrical_phase_installation_cost_breakdown\" data stored with index XKU2LM\n",
      "2017-05-11 11:17:27,420 - INFO - aneris.control.data - New \"project.electrical_phase_cost_class_breakdown\" data stored with index DIW29F\n",
      "2017-05-11 11:17:27,436 - INFO - aneris.control.data - New \"project.electrical_phase_installation_times\" data stored with index U8EVK6\n",
      "2017-05-11 11:17:27,436 - INFO - aneris.control.data - New \"project.electrical_phase_installation_time_breakdown\" data stored with index 914CFF\n",
      "2017-05-11 11:17:27,436 - INFO - aneris.control.data - New \"project.electrical_phase_time_class_breakdown\" data stored with index 9HPIWA\n",
      "2017-05-11 11:17:27,436 - INFO - aneris.control.data - New \"project.mooring_phase_installation_costs\" data stored with index P1FBR7\n",
      "2017-05-11 11:17:27,450 - INFO - aneris.control.data - New \"project.mooring_phase_installation_cost_breakdown\" data stored with index 0216BF\n",
      "2017-05-11 11:17:27,450 - INFO - aneris.control.data - New \"project.mooring_phase_cost_class_breakdown\" data stored with index 1J98KF\n",
      "2017-05-11 11:17:27,450 - INFO - aneris.control.data - New \"project.mooring_phase_installation_times\" data stored with index KLNYL2\n",
      "2017-05-11 11:17:27,467 - INFO - aneris.control.data - New \"project.mooring_phase_installation_time_breakdown\" data stored with index WB11J2\n",
      "2017-05-11 11:17:27,467 - INFO - aneris.control.data - New \"project.mooring_phase_time_class_breakdown\" data stored with index YRJT6K\n",
      "2017-05-11 11:17:27,467 - INFO - aneris.control.data - New \"project.installation_phase_cost_breakdown\" data stored with index CNKVSC\n",
      "2017-05-11 11:17:27,483 - INFO - aneris.control.data - New \"project.installation_cost_class_breakdown\" data stored with index 3NR898\n",
      "2017-05-11 11:17:27,483 - INFO - aneris.control.data - New \"project.total_installation_cost\" data stored with index ML8668\n",
      "2017-05-11 11:17:27,483 - INFO - aneris.control.data - New \"project.installation_phase_time_breakdown\" data stored with index F0CZK7\n",
      "2017-05-11 11:17:27,483 - INFO - aneris.control.data - New \"project.installation_time_class_breakdown\" data stored with index BY0462\n",
      "2017-05-11 11:17:27,483 - INFO - aneris.control.data - New \"project.total_installation_time\" data stored with index 9TB8AT\n",
      "2017-05-11 11:17:27,497 - INFO - aneris.control.data - New \"project.installation_economics_data\" data stored with index W8JXE0\n",
      "2017-05-11 11:17:27,497 - INFO - aneris.control.data - New \"project.install_devices_dates\" data stored with index 70BJIF\n",
      "2017-05-11 11:17:27,497 - INFO - aneris.control.data - New \"project.install_dynamic_cable_dates\" data stored with index J3I5SO\n",
      "2017-05-11 11:17:27,497 - INFO - aneris.control.data - New \"project.install_export_cable_dates\" data stored with index HUDRK4\n",
      "2017-05-11 11:17:27,513 - INFO - aneris.control.data - New \"project.install_array_cable_dates\" data stored with index RPRNQX\n",
      "2017-05-11 11:17:27,513 - INFO - aneris.control.data - New \"project.install_subsea_collection_point_dates\" data stored with index L3NPQ2\n",
      "2017-05-11 11:17:27,513 - INFO - aneris.control.data - New \"project.install_driven_piles_dates\" data stored with index 1DDWPD\n",
      "2017-05-11 11:17:27,529 - INFO - aneris.control.data - New \"project.install_pile_anchor_dates\" data stored with index M8CFBB\n",
      "2017-05-11 11:17:27,529 - INFO - aneris.control.data - New \"project.install_devices_prep_time\" data stored with index 45PIBA\n",
      "2017-05-11 11:17:27,529 - INFO - aneris.control.data - New \"project.install_dynamic_cable_prep_time\" data stored with index QF9TL3\n",
      "2017-05-11 11:17:27,529 - INFO - aneris.control.data - New \"project.install_export_cable_prep_time\" data stored with index AVVSJ0\n",
      "2017-05-11 11:17:27,545 - INFO - aneris.control.data - New \"project.install_array_cable_prep_time\" data stored with index H6D577\n",
      "2017-05-11 11:17:27,545 - INFO - aneris.control.data - New \"project.install_subsea_collection_point_prep_time\" data stored with index I25V68\n",
      "2017-05-11 11:17:27,545 - INFO - aneris.control.data - New \"project.install_driven_piles_prep_time\" data stored with index 4DNSGC\n",
      "2017-05-11 11:17:27,561 - INFO - aneris.control.data - New \"project.install_pile_anchor_prep_time\" data stored with index BOWS5G\n",
      "2017-05-11 11:17:27,561 - INFO - aneris.control.data - New \"project.installation_plan\" data stored with index MRGY02\n",
      "2017-05-11 11:17:27,561 - INFO - aneris.control.simulation - Datastate with level \"installation output\" stored\n",
      "2017-05-11 11:17:27,575 - INFO - dtocean_core.core - Auto executing interface Economics\n",
      "2017-05-11 11:17:27,608 - INFO - aneris.control.data - New \"project.cost_breakdown\" data stored with index LSYR30\n",
      "2017-05-11 11:17:27,608 - INFO - aneris.control.data - New \"project.capex_total\" data stored with index VE910Y\n",
      "2017-05-11 11:17:27,608 - INFO - aneris.control.data - New \"project.discounted_capex\" data stored with index 5KZEI5\n",
      "2017-05-11 11:17:27,608 - INFO - aneris.control.data - New \"project.capex_breakdown\" data stored with index RVI4YS\n",
      "2017-05-11 11:17:27,608 - INFO - aneris.control.data - New \"project.opex_total\" data stored with index MF2NRG\n",
      "2017-05-11 11:17:27,608 - INFO - aneris.control.data - New \"project.discounted_opex\" data stored with index 9MIUDI\n",
      "2017-05-11 11:17:27,622 - INFO - aneris.control.simulation - Datastate with level \"installation local output\" stored\n",
      "2017-05-11 11:17:27,638 - INFO - dtocean_core.core - Auto executing interface Economics\n",
      "2017-05-11 11:17:27,654 - INFO - aneris.control.data - New \"project.cost_breakdown\" data stored with index K1681J\n",
      "2017-05-11 11:17:27,654 - INFO - aneris.control.data - New \"project.capex_total\" data stored with index 83PMUT\n",
      "2017-05-11 11:17:27,654 - INFO - aneris.control.data - New \"project.discounted_capex\" data stored with index WCKN1L\n",
      "2017-05-11 11:17:27,654 - INFO - aneris.control.data - New \"project.capex_breakdown\" data stored with index 8QGWB9\n",
      "2017-05-11 11:17:27,670 - INFO - aneris.control.data - New \"project.opex_total\" data stored with index BG1XWB\n",
      "2017-05-11 11:17:27,670 - INFO - aneris.control.data - New \"project.discounted_opex\" data stored with index ZJUUJO\n",
      "2017-05-11 11:17:27,670 - INFO - aneris.control.simulation - Datastate with level \"installation global output\" stored\n"
     ]
    }
   ],
   "source": [
    "module_menu.execute_current(new_core, new_project)"
   ]
  },
  {
   "cell_type": "markdown",
   "metadata": {},
   "source": [
    "## Examine the results"
   ]
  },
  {
   "cell_type": "code",
   "execution_count": 25,
   "metadata": {
    "collapsed": false
   },
   "outputs": [
    {
     "data": {
      "text/html": [
       "<ul><li>project.electrical_phase_cost_class_breakdown: <b>satisfied</b></li><li>project.install_surface_piercing_substation_dates: <b>unavailable</b></li><li>project.port: <b>satisfied</b></li><li>project.mooring_phase_cost_class_breakdown: <b>satisfied</b></li><li>project.electrical_phase_installation_times: <b>satisfied</b></li><li>project.install_drag_embedment_dates: <b>unavailable</b></li><li>project.install_array_cable_dates: <b>satisfied</b></li><li>project.install_support_structure_prep_time: <b>unavailable</b></li><li>project.device_phase_installation_cost_breakdown: <b>satisfied</b></li><li>project.total_installation_cost: <b>satisfied</b></li><li>project.device_phase_installation_costs: <b>satisfied</b></li><li>project.install_array_cable_prep_time: <b>satisfied</b></li><li>project.installation_plan: <b>satisfied</b></li><li>project.installation_completion_date: <b>satisfied</b></li><li>project.installation_time_class_breakdown: <b>satisfied</b></li><li>project.install_devices_dates: <b>satisfied</b></li><li>project.install_devices_prep_time: <b>satisfied</b></li><li>project.electrical_phase_installation_cost_breakdown: <b>satisfied</b></li><li>project.install_dynamic_cable_prep_time: <b>satisfied</b></li><li>project.device_phase_time_class_breakdown: <b>satisfied</b></li><li>project.install_gravity_based_prep_time: <b>unavailable</b></li><li>project.mooring_phase_time_class_breakdown: <b>satisfied</b></li><li>project.installation_phase_cost_breakdown: <b>satisfied</b></li><li>project.install_drag_embedment_prep_time: <b>unavailable</b></li><li>project.install_gravity_based_dates: <b>unavailable</b></li><li>project.device_phase_installation_time_breakdown: <b>satisfied</b></li><li>project.port_distance: <b>satisfied</b></li><li>project.mooring_phase_installation_time_breakdown: <b>satisfied</b></li><li>project.electrical_phase_installation_costs: <b>satisfied</b></li><li>project.electrical_phase_time_class_breakdown: <b>satisfied</b></li><li>project.install_cable_protection_dates: <b>unavailable</b></li><li>project.install_export_cable_prep_time: <b>satisfied</b></li><li>project.mooring_phase_installation_cost_breakdown: <b>satisfied</b></li><li>project.installation_cost_class_breakdown: <b>satisfied</b></li><li>project.install_direct_embedment_prep_time: <b>unavailable</b></li><li>project.device_phase_cost_class_breakdown: <b>satisfied</b></li><li>project.commissioning_date: <b>satisfied</b></li><li>project.install_pile_anchor_prep_time: <b>satisfied</b></li><li>project.install_surface_piercing_substation_prep_time: <b>unavailable</b></li><li>project.install_suction_embedment_dates: <b>unavailable</b></li><li>project.installation_phase_time_breakdown: <b>satisfied</b></li><li>project.install_driven_piles_prep_time: <b>satisfied</b></li><li>project.install_subsea_collection_point_dates: <b>satisfied</b></li><li>project.installation_vessel_average_size: <b>satisfied</b></li><li>project.total_installation_time: <b>satisfied</b></li><li>project.mooring_phase_installation_times: <b>satisfied</b></li><li>project.install_subsea_collection_point_prep_time: <b>satisfied</b></li><li>project.install_cable_protection_prep_time: <b>unavailable</b></li><li>project.install_pile_anchor_dates: <b>satisfied</b></li><li>project.electrical_phase_installation_time_breakdown: <b>satisfied</b></li><li>project.device_phase_installation_times: <b>satisfied</b></li><li>project.install_direct_embedment_dates: <b>unavailable</b></li><li>project.install_suction_embedment_prep_time: <b>unavailable</b></li><li>project.installation_journeys: <b>satisfied</b></li><li>project.install_driven_piles_dates: <b>satisfied</b></li><li>project.install_dynamic_cable_dates: <b>satisfied</b></li><li>project.install_support_structure_dates: <b>unavailable</b></li><li>project.installation_economics_data: <b>satisfied</b></li><li>project.mooring_phase_installation_costs: <b>satisfied</b></li><li>project.install_export_cable_dates: <b>satisfied</b></li></ul>"
      ],
      "text/plain": [
       "<IPython.core.display.HTML object>"
      ]
     },
     "execution_count": 25,
     "metadata": {},
     "output_type": "execute_result"
    }
   ],
   "source": [
    "output_status = installation_branch.get_output_status(new_core, new_project)\n",
    "message = html_dict(output_status)\n",
    "HTML(message)"
   ]
  },
  {
   "cell_type": "code",
   "execution_count": 27,
   "metadata": {
    "collapsed": false
   },
   "outputs": [
    {
     "data": {
      "text/html": [
       "<div>\n",
       "<table border=\"1\" class=\"dataframe\">\n",
       "  <thead>\n",
       "    <tr style=\"text-align: right;\">\n",
       "      <th></th>\n",
       "      <th>Equipment</th>\n",
       "      <th>Port</th>\n",
       "      <th>Vessel</th>\n",
       "    </tr>\n",
       "    <tr>\n",
       "      <th>Component</th>\n",
       "      <th></th>\n",
       "      <th></th>\n",
       "      <th></th>\n",
       "    </tr>\n",
       "  </thead>\n",
       "  <tbody>\n",
       "    <tr>\n",
       "      <th>Device</th>\n",
       "      <td>268591.844184</td>\n",
       "      <td>618392.379649</td>\n",
       "      <td>5.296940e+06</td>\n",
       "    </tr>\n",
       "  </tbody>\n",
       "</table>\n",
       "</div>"
      ],
      "text/plain": [
       "               Equipment           Port        Vessel\n",
       "Component                                            \n",
       "Device     268591.844184  618392.379649  5.296940e+06"
      ]
     },
     "execution_count": 27,
     "metadata": {},
     "output_type": "execute_result"
    }
   ],
   "source": [
    "economics_data = new_core.get_data_value(new_project, \"project.device_phase_installation_costs\")\n",
    "economics_data"
   ]
  },
  {
   "cell_type": "code",
   "execution_count": 28,
   "metadata": {
    "collapsed": false
   },
   "outputs": [
    {
     "data": {
      "text/plain": [
       "{'Device': 6183923.796485089}"
      ]
     },
     "execution_count": 28,
     "metadata": {},
     "output_type": "execute_result"
    }
   ],
   "source": [
    "economics_data_breakdown = new_core.get_data_value(new_project, \"project.device_phase_installation_cost_breakdown\")\n",
    "economics_data_breakdown"
   ]
  },
  {
   "cell_type": "code",
   "execution_count": 30,
   "metadata": {
    "collapsed": false
   },
   "outputs": [
    {
     "data": {
      "text/plain": [
       "'Portland port'"
      ]
     },
     "execution_count": 30,
     "metadata": {},
     "output_type": "execute_result"
    }
   ],
   "source": [
    "port = new_core.get_data_value(new_project, \"project.port\")\n",
    "port"
   ]
  },
  {
   "cell_type": "code",
   "execution_count": 31,
   "metadata": {
    "collapsed": false
   },
   "outputs": [
    {
     "data": {
      "text/html": [
       "<div>\n",
       "<table border=\"1\" class=\"dataframe\">\n",
       "  <thead>\n",
       "    <tr style=\"text-align: right;\">\n",
       "      <th></th>\n",
       "      <th>Equipment</th>\n",
       "      <th>Port</th>\n",
       "      <th>Vessel</th>\n",
       "    </tr>\n",
       "    <tr>\n",
       "      <th>Component</th>\n",
       "      <th></th>\n",
       "      <th></th>\n",
       "      <th></th>\n",
       "    </tr>\n",
       "  </thead>\n",
       "  <tbody>\n",
       "    <tr>\n",
       "      <th>Dynamic Cables</th>\n",
       "      <td>4.623383e+04</td>\n",
       "      <td>9.763611e+04</td>\n",
       "      <td>8.324911e+05</td>\n",
       "    </tr>\n",
       "    <tr>\n",
       "      <th>Export Cables</th>\n",
       "      <td>2.976529e+06</td>\n",
       "      <td>2.420907e+06</td>\n",
       "      <td>1.881163e+07</td>\n",
       "    </tr>\n",
       "    <tr>\n",
       "      <th>Inter-Array Cables</th>\n",
       "      <td>1.792494e+05</td>\n",
       "      <td>1.548217e+05</td>\n",
       "      <td>1.214146e+06</td>\n",
       "    </tr>\n",
       "    <tr>\n",
       "      <th>Collection Points</th>\n",
       "      <td>3.959992e+04</td>\n",
       "      <td>5.079692e+04</td>\n",
       "      <td>4.175723e+05</td>\n",
       "    </tr>\n",
       "  </tbody>\n",
       "</table>\n",
       "</div>"
      ],
      "text/plain": [
       "                       Equipment          Port        Vessel\n",
       "Component                                                   \n",
       "Dynamic Cables      4.623383e+04  9.763611e+04  8.324911e+05\n",
       "Export Cables       2.976529e+06  2.420907e+06  1.881163e+07\n",
       "Inter-Array Cables  1.792494e+05  1.548217e+05  1.214146e+06\n",
       "Collection Points   3.959992e+04  5.079692e+04  4.175723e+05"
      ]
     },
     "execution_count": 31,
     "metadata": {},
     "output_type": "execute_result"
    }
   ],
   "source": [
    "comp_cost = new_core.get_data_value(new_project, \"project.electrical_phase_installation_costs\")\n",
    "comp_cost"
   ]
  },
  {
   "cell_type": "code",
   "execution_count": 32,
   "metadata": {
    "collapsed": false
   },
   "outputs": [
    {
     "data": {
      "text/html": [
       "<div>\n",
       "<table border=\"1\" class=\"dataframe\">\n",
       "  <thead>\n",
       "    <tr style=\"text-align: right;\">\n",
       "      <th></th>\n",
       "      <th>Preparation</th>\n",
       "      <th>Operations</th>\n",
       "      <th>Transit</th>\n",
       "      <th>Waiting</th>\n",
       "    </tr>\n",
       "    <tr>\n",
       "      <th>Component</th>\n",
       "      <th></th>\n",
       "      <th></th>\n",
       "      <th></th>\n",
       "      <th></th>\n",
       "    </tr>\n",
       "  </thead>\n",
       "  <tbody>\n",
       "    <tr>\n",
       "      <th>Dynamic Cables</th>\n",
       "      <td>50.004444</td>\n",
       "      <td>17.549848</td>\n",
       "      <td>177.118894</td>\n",
       "      <td>0.000000</td>\n",
       "    </tr>\n",
       "    <tr>\n",
       "      <th>Export Cables</th>\n",
       "      <td>49.002222</td>\n",
       "      <td>9.946996</td>\n",
       "      <td>177.193148</td>\n",
       "      <td>4724.285714</td>\n",
       "    </tr>\n",
       "    <tr>\n",
       "      <th>Inter-Array Cables</th>\n",
       "      <td>50.004444</td>\n",
       "      <td>9.380188</td>\n",
       "      <td>177.104906</td>\n",
       "      <td>109.285714</td>\n",
       "    </tr>\n",
       "    <tr>\n",
       "      <th>Collection Points</th>\n",
       "      <td>97.000000</td>\n",
       "      <td>14.320314</td>\n",
       "      <td>138.130497</td>\n",
       "      <td>14.285714</td>\n",
       "    </tr>\n",
       "  </tbody>\n",
       "</table>\n",
       "</div>"
      ],
      "text/plain": [
       "                    Preparation  Operations     Transit      Waiting\n",
       "Component                                                           \n",
       "Dynamic Cables        50.004444   17.549848  177.118894     0.000000\n",
       "Export Cables         49.002222    9.946996  177.193148  4724.285714\n",
       "Inter-Array Cables    50.004444    9.380188  177.104906   109.285714\n",
       "Collection Points     97.000000   14.320314  138.130497    14.285714"
      ]
     },
     "execution_count": 32,
     "metadata": {},
     "output_type": "execute_result"
    }
   ],
   "source": [
    "comp_time = new_core.get_data_value(new_project, \"project.electrical_phase_installation_times\")\n",
    "comp_time"
   ]
  },
  {
   "cell_type": "code",
   "execution_count": 33,
   "metadata": {
    "collapsed": false
   },
   "outputs": [
    {
     "data": {
      "text/plain": [
       "{'Collection Points': 263.7365251068964,\n",
       " 'Dynamic Cables': 244.67318677068744,\n",
       " 'Export Cables': 4960.428080599214,\n",
       " 'Inter-Array Cables': 345.77525203803776}"
      ]
     },
     "execution_count": 33,
     "metadata": {},
     "output_type": "execute_result"
    }
   ],
   "source": [
    "economics_data_breakdown = new_core.get_data_value(new_project, \"project.electrical_phase_installation_time_breakdown\")\n",
    "economics_data_breakdown"
   ]
  },
  {
   "cell_type": "code",
   "execution_count": 34,
   "metadata": {
    "collapsed": false
   },
   "outputs": [
    {
     "data": {
      "text/html": [
       "<div>\n",
       "<table border=\"1\" class=\"dataframe\">\n",
       "  <thead>\n",
       "    <tr style=\"text-align: right;\">\n",
       "      <th></th>\n",
       "      <th>Equipment</th>\n",
       "      <th>Port</th>\n",
       "      <th>Vessel</th>\n",
       "    </tr>\n",
       "    <tr>\n",
       "      <th>Component</th>\n",
       "      <th></th>\n",
       "      <th></th>\n",
       "      <th></th>\n",
       "    </tr>\n",
       "  </thead>\n",
       "  <tbody>\n",
       "    <tr>\n",
       "      <th>Driven Piles</th>\n",
       "      <td>120524.773243</td>\n",
       "      <td>85369.075152</td>\n",
       "      <td>647796.903125</td>\n",
       "    </tr>\n",
       "    <tr>\n",
       "      <th>Pile Anchors</th>\n",
       "      <td>28640.068624</td>\n",
       "      <td>13789.662671</td>\n",
       "      <td>95466.895412</td>\n",
       "    </tr>\n",
       "  </tbody>\n",
       "</table>\n",
       "</div>"
      ],
      "text/plain": [
       "                  Equipment          Port         Vessel\n",
       "Component                                               \n",
       "Driven Piles  120524.773243  85369.075152  647796.903125\n",
       "Pile Anchors   28640.068624  13789.662671   95466.895412"
      ]
     },
     "execution_count": 34,
     "metadata": {},
     "output_type": "execute_result"
    }
   ],
   "source": [
    "comp_cost = new_core.get_data_value(new_project, \"project.mooring_phase_installation_costs\")\n",
    "comp_cost"
   ]
  },
  {
   "cell_type": "code",
   "execution_count": 35,
   "metadata": {
    "collapsed": false
   },
   "outputs": [
    {
     "data": {
      "text/html": [
       "<div>\n",
       "<table border=\"1\" class=\"dataframe\">\n",
       "  <thead>\n",
       "    <tr style=\"text-align: right;\">\n",
       "      <th></th>\n",
       "      <th>Preparation</th>\n",
       "      <th>Operations</th>\n",
       "      <th>Transit</th>\n",
       "      <th>Waiting</th>\n",
       "    </tr>\n",
       "    <tr>\n",
       "      <th>Component</th>\n",
       "      <th></th>\n",
       "      <th></th>\n",
       "      <th></th>\n",
       "      <th></th>\n",
       "    </tr>\n",
       "  </thead>\n",
       "  <tbody>\n",
       "    <tr>\n",
       "      <th>Driven Piles</th>\n",
       "      <td>78.0</td>\n",
       "      <td>42.048516</td>\n",
       "      <td>169.089773</td>\n",
       "      <td>0.0</td>\n",
       "    </tr>\n",
       "    <tr>\n",
       "      <th>Pile Anchors</th>\n",
       "      <td>78.0</td>\n",
       "      <td>12.000000</td>\n",
       "      <td>108.589763</td>\n",
       "      <td>0.0</td>\n",
       "    </tr>\n",
       "  </tbody>\n",
       "</table>\n",
       "</div>"
      ],
      "text/plain": [
       "              Preparation  Operations     Transit  Waiting\n",
       "Component                                                 \n",
       "Driven Piles         78.0   42.048516  169.089773      0.0\n",
       "Pile Anchors         78.0   12.000000  108.589763      0.0"
      ]
     },
     "execution_count": 35,
     "metadata": {},
     "output_type": "execute_result"
    }
   ],
   "source": [
    "comp_time = new_core.get_data_value(new_project, \"project.mooring_phase_installation_times\")\n",
    "comp_time"
   ]
  },
  {
   "cell_type": "code",
   "execution_count": 36,
   "metadata": {
    "collapsed": false
   },
   "outputs": [
    {
     "data": {
      "text/plain": [
       "{'Driven Piles': 289.1382888932672, 'Pile Anchors': 198.58976262629199}"
      ]
     },
     "execution_count": 36,
     "metadata": {},
     "output_type": "execute_result"
    }
   ],
   "source": [
    "economics_data_breakdown = new_core.get_data_value(new_project, \"project.mooring_phase_installation_time_breakdown\")\n",
    "economics_data_breakdown"
   ]
  },
  {
   "cell_type": "code",
   "execution_count": 37,
   "metadata": {
    "collapsed": true
   },
   "outputs": [],
   "source": [
    "device_cost_breakdown = new_core.get_data_value(new_project, \"project.device_phase_cost_class_breakdown\")\n",
    "electrical_cost_breakdown = new_core.get_data_value(new_project, \"project.electrical_phase_installation_cost_breakdown\")\n",
    "mooring_cost_breakdown = new_core.get_data_value(new_project, \"project.mooring_phase_installation_cost_breakdown\")"
   ]
  },
  {
   "cell_type": "code",
   "execution_count": 38,
   "metadata": {
    "collapsed": false
   },
   "outputs": [
    {
     "data": {
      "text/plain": [
       "{'Contingency': 3441712.9045441514,\n",
       " 'Devices': 6183923.796485089,\n",
       " 'Electrical Sub-Systems': 27241617.87072934,\n",
       " 'Mooring and Foundations': 991587.3782270891}"
      ]
     },
     "execution_count": 38,
     "metadata": {},
     "output_type": "execute_result"
    }
   ],
   "source": [
    "economics_data_breakdown = new_core.get_data_value(new_project, \"project.installation_phase_cost_breakdown\")\n",
    "economics_data_breakdown"
   ]
  },
  {
   "cell_type": "code",
   "execution_count": 39,
   "metadata": {
    "collapsed": false
   },
   "outputs": [
    {
     "data": {
      "text/plain": [
       "{'Contingency': 3441712.9045441514,\n",
       " 'Equipment': 3659368.5831726454,\n",
       " 'Port': 3441712.9045441523,\n",
       " 'Vessel': 27316047.55772472}"
      ]
     },
     "execution_count": 39,
     "metadata": {},
     "output_type": "execute_result"
    }
   ],
   "source": [
    "economics_data_breakdown = new_core.get_data_value(new_project, \"project.installation_cost_class_breakdown\")\n",
    "economics_data_breakdown"
   ]
  },
  {
   "cell_type": "code",
   "execution_count": 40,
   "metadata": {
    "collapsed": false
   },
   "outputs": [
    {
     "data": {
      "text/plain": [
       "{'Operations': 14.0,\n",
       " 'Preparation': 74.0,\n",
       " 'Transit': 127.77017100184622,\n",
       " 'Waiting': 989.1428571428571}"
      ]
     },
     "execution_count": 40,
     "metadata": {},
     "output_type": "execute_result"
    }
   ],
   "source": [
    "device_time_breakdown = new_core.get_data_value(new_project, \"project.device_phase_time_class_breakdown\")\n",
    "device_time_breakdown"
   ]
  },
  {
   "cell_type": "code",
   "execution_count": 41,
   "metadata": {
    "collapsed": false
   },
   "outputs": [
    {
     "data": {
      "text/plain": [
       "{'Devices': 1204.9130281447033,\n",
       " 'Electrical Sub-Systems': 5814.6130445148365,\n",
       " 'Mooring and Foundations': 487.7280515195592}"
      ]
     },
     "execution_count": 41,
     "metadata": {},
     "output_type": "execute_result"
    }
   ],
   "source": [
    "economics_data_breakdown = new_core.get_data_value(new_project, \"project.installation_phase_time_breakdown\")\n",
    "economics_data_breakdown"
   ]
  },
  {
   "cell_type": "code",
   "execution_count": 42,
   "metadata": {
    "collapsed": false
   },
   "outputs": [
    {
     "data": {
      "text/plain": [
       "{'Operations': 119.24586136347982,\n",
       " 'Preparation': 476.0111111111111,\n",
       " 'Transit': 1074.997151704507,\n",
       " 'Waiting': 5837.000000000001}"
      ]
     },
     "execution_count": 42,
     "metadata": {},
     "output_type": "execute_result"
    }
   ],
   "source": [
    "economics_data_breakdown = new_core.get_data_value(new_project, \"project.installation_time_class_breakdown\")\n",
    "economics_data_breakdown"
   ]
  },
  {
   "cell_type": "code",
   "execution_count": 43,
   "metadata": {
    "collapsed": false
   },
   "outputs": [
    {
     "data": {
      "text/html": [
       "<div>\n",
       "<table border=\"1\" class=\"dataframe\">\n",
       "  <thead>\n",
       "    <tr style=\"text-align: right;\">\n",
       "      <th></th>\n",
       "      <th>Key Identifier</th>\n",
       "      <th>Cost</th>\n",
       "      <th>Quantity</th>\n",
       "      <th>Year</th>\n",
       "    </tr>\n",
       "  </thead>\n",
       "  <tbody>\n",
       "    <tr>\n",
       "      <th>0</th>\n",
       "      <td>Contingency</td>\n",
       "      <td>3.441713e+06</td>\n",
       "      <td>1</td>\n",
       "      <td>0</td>\n",
       "    </tr>\n",
       "    <tr>\n",
       "      <th>1</th>\n",
       "      <td>Mooring and Foundations</td>\n",
       "      <td>9.915874e+05</td>\n",
       "      <td>1</td>\n",
       "      <td>0</td>\n",
       "    </tr>\n",
       "    <tr>\n",
       "      <th>2</th>\n",
       "      <td>Devices</td>\n",
       "      <td>6.183924e+06</td>\n",
       "      <td>1</td>\n",
       "      <td>0</td>\n",
       "    </tr>\n",
       "    <tr>\n",
       "      <th>3</th>\n",
       "      <td>Electrical Sub-Systems</td>\n",
       "      <td>2.724162e+07</td>\n",
       "      <td>1</td>\n",
       "      <td>0</td>\n",
       "    </tr>\n",
       "  </tbody>\n",
       "</table>\n",
       "</div>"
      ],
      "text/plain": [
       "            Key Identifier          Cost  Quantity  Year\n",
       "0              Contingency  3.441713e+06         1     0\n",
       "1  Mooring and Foundations  9.915874e+05         1     0\n",
       "2                  Devices  6.183924e+06         1     0\n",
       "3   Electrical Sub-Systems  2.724162e+07         1     0"
      ]
     },
     "execution_count": 43,
     "metadata": {},
     "output_type": "execute_result"
    }
   ],
   "source": [
    "economics_data_breakdown = new_core.get_data_value(new_project, \"project.installation_economics_data\")\n",
    "economics_data_breakdown"
   ]
  },
  {
   "cell_type": "code",
   "execution_count": 44,
   "metadata": {
    "collapsed": false
   },
   "outputs": [
    {
     "data": {
      "text/html": [
       "<ul><li>project.lcoe: <b>unavailable</b></li><li>project.discounted_energy: <b>unavailable</b></li><li>project.capex_total: <b>satisfied</b></li><li>project.opex_total: <b>satisfied</b></li><li>project.capex_lcoe: <b>unavailable</b></li><li>project.capex_breakdown: <b>satisfied</b></li><li>project.cost_breakdown: <b>satisfied</b></li><li>project.discounted_capex: <b>satisfied</b></li><li>project.opex_lcoe: <b>unavailable</b></li><li>project.discounted_opex: <b>satisfied</b></li></ul>"
      ],
      "text/plain": [
       "<IPython.core.display.HTML object>"
      ]
     },
     "execution_count": 44,
     "metadata": {},
     "output_type": "execute_result"
    }
   ],
   "source": [
    "output_status = eco_branch.get_output_status(new_core, new_project)\n",
    "message = html_dict(output_status)\n",
    "HTML(message)"
   ]
  },
  {
   "cell_type": "code",
   "execution_count": 45,
   "metadata": {
    "collapsed": false
   },
   "outputs": [
    {
     "data": {
      "text/plain": [
       "{'Installation': 37858841.94998567}"
      ]
     },
     "execution_count": 45,
     "metadata": {},
     "output_type": "execute_result"
    }
   ],
   "source": [
    "economics_data_breakdown = new_core.get_data_value(new_project, \"project.capex_breakdown\")\n",
    "economics_data_breakdown"
   ]
  },
  {
   "cell_type": "code",
   "execution_count": 46,
   "metadata": {
    "collapsed": false
   },
   "outputs": [
    {
     "data": {
      "text/plain": [
       "37858841.94998567"
      ]
     },
     "execution_count": 46,
     "metadata": {},
     "output_type": "execute_result"
    }
   ],
   "source": [
    "economics_data_breakdown = new_core.get_data_value(new_project, \"project.capex_total\")\n",
    "economics_data_breakdown"
   ]
  },
  {
   "cell_type": "code",
   "execution_count": null,
   "metadata": {
    "collapsed": true
   },
   "outputs": [],
   "source": []
  }
 ],
 "metadata": {
  "kernelspec": {
   "display_name": "Python 2",
   "language": "python",
   "name": "python2"
  },
  "language_info": {
   "codemirror_mode": {
    "name": "ipython",
    "version": 2
   },
   "file_extension": ".py",
   "mimetype": "text/x-python",
   "name": "python",
   "nbconvert_exporter": "python",
   "pygments_lexer": "ipython2",
   "version": "2.7.13"
  }
 },
 "nbformat": 4,
 "nbformat_minor": 0
}
