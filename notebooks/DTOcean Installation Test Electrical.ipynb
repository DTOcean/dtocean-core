{
 "cells": [
  {
   "cell_type": "markdown",
   "metadata": {},
   "source": [
    "# DTOcean Installation Module Test"
   ]
  },
  {
   "cell_type": "code",
   "execution_count": 1,
   "metadata": {
    "collapsed": true
   },
   "outputs": [],
   "source": [
    "%matplotlib inline"
   ]
  },
  {
   "cell_type": "code",
   "execution_count": 2,
   "metadata": {
    "collapsed": true
   },
   "outputs": [],
   "source": [
    "from IPython.display import display, HTML"
   ]
  },
  {
   "cell_type": "code",
   "execution_count": 3,
   "metadata": {
    "collapsed": false
   },
   "outputs": [],
   "source": [
    "import matplotlib.pyplot as plt\n",
    "plt.rcParams['figure.figsize'] = (14.0, 8.0)"
   ]
  },
  {
   "cell_type": "code",
   "execution_count": 4,
   "metadata": {
    "collapsed": true
   },
   "outputs": [],
   "source": [
    "import numpy as np"
   ]
  },
  {
   "cell_type": "code",
   "execution_count": 5,
   "metadata": {
    "collapsed": false
   },
   "outputs": [],
   "source": [
    "from dtocean_core import start_logging\n",
    "from dtocean_core.core import Core\n",
    "from dtocean_core.menu import ModuleMenu, ProjectMenu\n",
    "from dtocean_core.pipeline import Tree"
   ]
  },
  {
   "cell_type": "code",
   "execution_count": 6,
   "metadata": {
    "collapsed": true
   },
   "outputs": [],
   "source": [
    "def html_list(x):\n",
    "    message = \"<ul>\"\n",
    "    for name in x:\n",
    "        message += \"<li>{}</li>\".format(name)\n",
    "    message += \"</ul>\"\n",
    "    return message\n",
    "def html_dict(x):\n",
    "    message = \"<ul>\"\n",
    "    for name, status in x.iteritems():\n",
    "        message += \"<li>{}: <b>{}</b></li>\".format(name, status)\n",
    "    message += \"</ul>\"\n",
    "    return message"
   ]
  },
  {
   "cell_type": "code",
   "execution_count": 7,
   "metadata": {
    "collapsed": false
   },
   "outputs": [
    {
     "name": "stdout",
     "output_type": "stream",
     "text": [
      "2016-11-18 03:16:45,525 - INFO - dtocean_core - Begin logging for dtocean_core.\n"
     ]
    }
   ],
   "source": [
    "# Bring up the logger\n",
    "start_logging()"
   ]
  },
  {
   "cell_type": "markdown",
   "metadata": {},
   "source": [
    "## Create the core, menus and pipeline tree\n",
    "\n",
    "The core object carrys all the system information and is operated on by the other classes"
   ]
  },
  {
   "cell_type": "code",
   "execution_count": 8,
   "metadata": {
    "collapsed": false
   },
   "outputs": [
    {
     "name": "stdout",
     "output_type": "stream",
     "text": [
      "2016-11-18 03:16:52,632 - DEBUG - aneris.control.data - Searching for Structure classes\n",
      "2016-11-18 03:16:53,572 - DEBUG - aneris.control.sockets - Searching for ProjectInterface classes\n",
      "2016-11-18 03:16:54,075 - DEBUG - aneris.control.sockets - Searching for ModuleInterface classes\n",
      "2016-11-18 03:16:56,546 - DEBUG - aneris.control.sockets - Searching for ThemeInterface classes\n",
      "2016-11-18 03:16:56,642 - DEBUG - aneris.control.sockets - Searching for FileInputInterface classes\n",
      "2016-11-18 03:16:56,645 - DEBUG - aneris.control.sockets - Searching for FileOutputInterface classes\n",
      "2016-11-18 03:16:56,650 - DEBUG - aneris.control.sockets - Searching for QueryInterface classes\n",
      "2016-11-18 03:16:56,664 - DEBUG - aneris.control.sockets - Searching for RawInterface classes\n",
      "2016-11-18 03:16:56,668 - DEBUG - aneris.control.sockets - Searching for PlotInterface classes\n"
     ]
    }
   ],
   "source": [
    "new_core = Core()\n",
    "project_menu = ProjectMenu()\n",
    "module_menu = ModuleMenu()\n",
    "pipe_tree = Tree()"
   ]
  },
  {
   "cell_type": "markdown",
   "metadata": {},
   "source": [
    "## Create a new project"
   ]
  },
  {
   "cell_type": "code",
   "execution_count": 9,
   "metadata": {
    "collapsed": false
   },
   "outputs": [
    {
     "name": "stdout",
     "output_type": "stream",
     "text": [
      "2016-11-18 03:16:57,290 - INFO - aneris.entity.simulation - Created new Simulation with title \"Default\"\n",
      "2016-11-18 03:16:57,293 - DEBUG - dtocean_core.core - Setting execution level to initial\n",
      "2016-11-18 03:16:57,296 - DEBUG - dtocean_core.core - Setting inspection level to initial\n",
      "2016-11-18 03:16:57,299 - DEBUG - aneris.control.data - DataState with level \"initial\" created\n",
      "2016-11-18 03:16:57,299 - INFO - aneris.control.simulation - Datastate with level \"initial\" stored\n",
      "2016-11-18 03:16:57,301 - DEBUG - aneris.control.simulation - Merging active DataStates.\n",
      "2016-11-18 03:16:57,302 - INFO - aneris.control.pipeline - New Hub created for interface ProjectInterface.\n",
      "2016-11-18 03:16:57,308 - DEBUG - aneris.control.simulation - Getting output status for interface \"System Type Selection\".\n",
      "2016-11-18 03:16:57,309 - DEBUG - aneris.control.simulation - Getting input status for interface \"System Type Selection\".\n"
     ]
    }
   ],
   "source": [
    "project_title = \"DTOcean\"  \n",
    "new_project = project_menu.new_project(new_core, project_title)"
   ]
  },
  {
   "cell_type": "markdown",
   "metadata": {},
   "source": [
    "## Set the device type"
   ]
  },
  {
   "cell_type": "code",
   "execution_count": 10,
   "metadata": {
    "collapsed": false
   },
   "outputs": [
    {
     "name": "stdout",
     "output_type": "stream",
     "text": [
      "2016-11-18 03:16:57,358 - DEBUG - dtocean_core.pipeline - Reading variables device.system_type\n",
      "2016-11-18 03:16:57,365 - DEBUG - aneris.control.data - DataState created\n",
      "2016-11-18 03:16:57,368 - INFO - aneris.control.data - New \"device.system_type\" data stored with index 56T5CB\n",
      "2016-11-18 03:16:57,368 - INFO - aneris.control.simulation - Datastate stored\n",
      "2016-11-18 03:16:57,372 - DEBUG - aneris.control.simulation - Merging active DataStates.\n",
      "2016-11-18 03:16:57,374 - DEBUG - aneris.control.simulation - Getting output status for interface \"System Type Selection\".\n",
      "2016-11-18 03:16:57,377 - DEBUG - aneris.control.simulation - Getting input status for interface \"System Type Selection\".\n"
     ]
    }
   ],
   "source": [
    "options_branch = pipe_tree.get_branch(new_core, new_project, \"System Type Selection\")\n",
    "variable_id = \"device.system_type\"\n",
    "my_var = options_branch.get_input_variable(new_core, new_project, variable_id)\n",
    "my_var.set_raw_interface(new_core, \"Wave Floating\")\n",
    "my_var.read(new_core, new_project)"
   ]
  },
  {
   "cell_type": "markdown",
   "metadata": {},
   "source": [
    "## Initiate the pipeline\n",
    "This step will be important when the database is incorporated into the system as it will effect the operation of the pipeline."
   ]
  },
  {
   "cell_type": "code",
   "execution_count": 11,
   "metadata": {
    "collapsed": false
   },
   "outputs": [
    {
     "name": "stdout",
     "output_type": "stream",
     "text": [
      "2016-11-18 03:16:57,391 - DEBUG - dtocean_core.core - Setting inspection level to system type selection start\n",
      "2016-11-18 03:16:57,392 - DEBUG - aneris.control.data - DataState with level \"system type selection start\" created\n",
      "2016-11-18 03:16:57,394 - INFO - aneris.control.simulation - Datastate with level \"system type selection start\" stored\n",
      "2016-11-18 03:16:57,397 - DEBUG - aneris.control.simulation - Merging active DataStates.\n",
      "2016-11-18 03:16:57,398 - DEBUG - aneris.control.simulation - Retrieving data with identity \"device.system_type\".\n",
      "2016-11-18 03:16:57,400 - DEBUG - aneris.control.data - Retrieving \"device.system_type\" data stored with index 56T5CB from pool\n",
      "2016-11-18 03:16:57,417 - DEBUG - aneris.control.data - DataState with level \"system type selection output\" created\n",
      "2016-11-18 03:16:57,417 - INFO - aneris.control.data - New \"hidden.pipeline_active\" data stored with index AROQA7\n",
      "2016-11-18 03:16:57,418 - INFO - aneris.control.simulation - Datastate with level \"system type selection output\" stored\n",
      "2016-11-18 03:16:57,421 - DEBUG - aneris.control.simulation - Merging active DataStates.\n",
      "2016-11-18 03:16:57,421 - DEBUG - aneris.control.simulation - Getting output status for interface \"System Type Selection\".\n",
      "2016-11-18 03:16:57,423 - DEBUG - aneris.control.simulation - Getting input status for interface \"System Type Selection\".\n",
      "2016-11-18 03:16:57,424 - DEBUG - dtocean_core.core - Setting execution level to system type selection output\n",
      "2016-11-18 03:16:57,427 - INFO - aneris.control.pipeline - New Pipeline created for interface ModuleInterface.\n",
      "2016-11-18 03:16:57,427 - INFO - aneris.control.pipeline - New Hub created for interface ThemeInterface.\n"
     ]
    }
   ],
   "source": [
    "project_menu.initiate_pipeline(new_core, new_project)"
   ]
  },
  {
   "cell_type": "markdown",
   "metadata": {},
   "source": [
    "## Discover available modules"
   ]
  },
  {
   "cell_type": "code",
   "execution_count": 12,
   "metadata": {
    "collapsed": false
   },
   "outputs": [
    {
     "data": {
      "text/html": [
       "<ul><li>Hydrodynamics</li><li>Electrical Sub-Systems</li><li>Mooring and Foundations</li><li>Installation</li></ul>"
      ],
      "text/plain": [
       "<IPython.core.display.HTML object>"
      ]
     },
     "execution_count": 12,
     "metadata": {},
     "output_type": "execute_result"
    }
   ],
   "source": [
    "names = module_menu.get_available(new_core, new_project)\n",
    "message = html_list(names)\n",
    "HTML(message)"
   ]
  },
  {
   "cell_type": "markdown",
   "metadata": {},
   "source": [
    "## Activate a module\n",
    "\n",
    "Note that the order of activation is important and that we can't deactivate yet!"
   ]
  },
  {
   "cell_type": "code",
   "execution_count": 13,
   "metadata": {
    "collapsed": false
   },
   "outputs": [
    {
     "name": "stdout",
     "output_type": "stream",
     "text": [
      "2016-11-18 03:16:57,464 - DEBUG - aneris.control.simulation - Getting output status for interface \"System Type Selection\".\n",
      "2016-11-18 03:16:57,467 - DEBUG - aneris.control.simulation - Getting output status for interface \"Installation\".\n",
      "2016-11-18 03:16:57,471 - DEBUG - aneris.control.simulation - Getting input status for interface \"System Type Selection\".\n",
      "2016-11-18 03:16:57,473 - DEBUG - aneris.control.simulation - Getting input status for interface \"Installation\".\n"
     ]
    }
   ],
   "source": [
    "module_name = 'Installation'\n",
    "module_menu.activate(new_core, new_project, module_name)"
   ]
  },
  {
   "cell_type": "markdown",
   "metadata": {},
   "source": [
    "## Check the status of the module inputs"
   ]
  },
  {
   "cell_type": "code",
   "execution_count": 14,
   "metadata": {
    "collapsed": false
   },
   "outputs": [
    {
     "data": {
      "text/html": [
       "<ul><li>device.transportation_method: <b>required</b></li><li>component.collection_points: <b>optional</b></li><li>component.rov: <b>required</b></li><li>farm.wind_series_installation: <b>required</b></li><li>device.disconnect_duration: <b>required</b></li><li>component.ports: <b>required</b></li><li>component.split_pipe_safety_factors: <b>required</b></li><li>device.system_height: <b>required</b></li><li>farm.substation_props: <b>optional</b></li><li>component.port_locations: <b>required</b></li><li>component.split_pipes_installation: <b>required</b></li><li>device.bollard_pull: <b>optional</b></li><li>project.start_date: <b>required</b></li><li>component.static_cable: <b>optional</b></li><li>farm.umbilical_seabed_connection: <b>optional</b></li><li>device.connect_duration: <b>required</b></li><li>device.system_mass: <b>required</b></li><li>component.transformers: <b>optional</b></li><li>device.load_out_method: <b>required</b></li><li>component.drilling_rigs: <b>required</b></li><li>device.system_width: <b>required</b></li><li>site.projection: <b>required</b></li><li>component.vibro_driver_safety_factors: <b>required</b></li><li>component.divers_safety_factors: <b>required</b></li><li>component.vessel_safety_factors: <b>required</b></li><li>device.control_system_installation: <b>optional</b></li><li>device.installation_limit_Ws: <b>required</b></li><li>farm.cable_routes: <b>optional</b></li><li>device.installation_limit_Cs: <b>required</b></li><li>farm.foundations_component_data: <b>optional</b></li><li>farm.entry_point: <b>required</b></li><li>component.loading_rate: <b>required</b></li><li>farm.moorings_component_data: <b>optional</b></li><li>device.installation_limit_Hs: <b>required</b></li><li>device.system_length: <b>required</b></li><li>component.installation_soil_compatibility: <b>required</b></li><li>farm.foundations_soil_data: <b>optional</b></li><li>component.hammer: <b>required</b></li><li>component.equipment_penetration_rates: <b>required</b></li><li>corridor.layers: <b>optional</b></li><li>component.grout_rate: <b>required</b></li><li>farm.tidal_series_installation: <b>required</b></li><li>component.excavating: <b>required</b></li><li>device.installation_limit_Tp: <b>required</b></li><li>component.power_quality: <b>optional</b></li><li>component.surface_laying_rate: <b>required</b></li><li>component.switchgear: <b>optional</b></li><li>project.port_percentage_cost: <b>required</b></li><li>component.fuel_cost_rate: <b>required</b></li><li>device.sub_systems_installation: <b>required</b></li><li>component.port_safety_factors: <b>required</b></li><li>component.vessels: <b>required</b></li><li>project.cost_contingency: <b>required</b></li><li>farm.moorings_foundations_network: <b>optional</b></li><li>project.comissioning_time: <b>required</b></li><li>component.split_pipe_laying_rate: <b>required</b></li><li>farm.layout: <b>required</b></li><li>farm.electrical_network: <b>optional</b></li><li>component.dynamic_cable: <b>optional</b></li><li>component.mattress_installation: <b>required</b></li><li>farm.electrical_component_data: <b>optional</b></li><li>component.vibro_driver: <b>required</b></li><li>component.dry_mate_connectors: <b>optional</b></li><li>device.assembly_duration: <b>required</b></li><li>component.rov_safety_factors: <b>required</b></li><li>farm.line_data: <b>optional</b></li><li>device.system_type: <b>satisfied</b></li><li>component.hammer_safety_factors: <b>required</b></li><li>component.cable_burial: <b>required</b></li><li>component.wet_mate_connectors: <b>optional</b></li><li>bathymetry.layers: <b>required</b></li><li>component.rock_bags_installation: <b>required</b></li><li>farm.wave_series_installation: <b>required</b></li><li>component.divers: <b>required</b></li><li>corridor.landfall_contruction_technique: <b>optional</b></li><li>farm.umbilical_cable_data: <b>optional</b></li><li>component.cable_burial_safety_factors: <b>required</b></li></ul>"
      ],
      "text/plain": [
       "<IPython.core.display.HTML object>"
      ]
     },
     "execution_count": 14,
     "metadata": {},
     "output_type": "execute_result"
    }
   ],
   "source": [
    "installation_branch = pipe_tree.get_branch(new_core, new_project, 'Installation')\n",
    "input_status = installation_branch.get_input_status(new_core, new_project)\n",
    "message = html_dict(input_status)\n",
    "HTML(message)"
   ]
  },
  {
   "cell_type": "markdown",
   "metadata": {},
   "source": [
    "## Initiate the dataflow\n",
    "This indicates that the filtering and module / theme selections are complete"
   ]
  },
  {
   "cell_type": "code",
   "execution_count": 15,
   "metadata": {
    "collapsed": false
   },
   "outputs": [
    {
     "name": "stdout",
     "output_type": "stream",
     "text": [
      "2016-11-18 03:16:57,528 - DEBUG - aneris.control.data - DataState created\n",
      "2016-11-18 03:16:57,529 - INFO - aneris.control.data - New \"hidden.dataflow_active\" data stored with index V0P63Y\n",
      "2016-11-18 03:16:57,532 - INFO - aneris.control.simulation - Datastate stored\n",
      "2016-11-18 03:16:57,535 - DEBUG - aneris.control.simulation - Merging active DataStates.\n",
      "2016-11-18 03:16:57,536 - DEBUG - aneris.control.simulation - Getting output status for interface \"System Type Selection\".\n",
      "2016-11-18 03:16:57,542 - DEBUG - aneris.control.simulation - Getting output status for interface \"Installation\".\n",
      "2016-11-18 03:16:57,546 - DEBUG - aneris.control.simulation - Getting input status for interface \"System Type Selection\".\n",
      "2016-11-18 03:16:57,549 - DEBUG - aneris.control.simulation - Getting input status for interface \"Installation\".\n",
      "2016-11-18 03:16:57,553 - DEBUG - aneris.control.data - DataState with level \"modules initial\" created\n",
      "2016-11-18 03:16:57,555 - INFO - aneris.control.simulation - Datastate with level \"modules initial\" stored\n",
      "2016-11-18 03:16:57,558 - DEBUG - aneris.control.simulation - Merging active DataStates.\n"
     ]
    }
   ],
   "source": [
    "project_menu.initiate_dataflow(new_core, new_project)"
   ]
  },
  {
   "cell_type": "markdown",
   "metadata": {},
   "source": [
    "## Load test data"
   ]
  },
  {
   "cell_type": "markdown",
   "metadata": {},
   "source": [
    "Prepare the test data for loading. The files required can be found in the test_data directory of the source code and should be copied to the directory that the notebook is running. When the python file is run a pickle file is generated containing a dictionary of inputs."
   ]
  },
  {
   "cell_type": "code",
   "execution_count": 16,
   "metadata": {
    "collapsed": false
   },
   "outputs": [
    {
     "name": "stdout",
     "output_type": "stream",
     "text": [
      "generate test data: C:\\Users\\acollin\\Desktop\\DTOCEAN\\Code\\IntegrationCode\\dtocean-core\\notebooks_AJC\\inputs_wp5_electrical_star_floating.pkl\n"
     ]
    }
   ],
   "source": [
    "%run inputs_wp5_electrical_star_floating.py"
   ]
  },
  {
   "cell_type": "code",
   "execution_count": 17,
   "metadata": {
    "collapsed": false
   },
   "outputs": [
    {
     "name": "stdout",
     "output_type": "stream",
     "text": [
      "2016-11-18 03:17:31,707 - DEBUG - dtocean_core.pipeline - Reading variables farm.line_data\n",
      "2016-11-18 03:17:31,710 - DEBUG - dtocean_core.pipeline - Reading variables component.cable_burial_safety_factors\n",
      "2016-11-18 03:17:31,716 - DEBUG - dtocean_core.pipeline - Reading variables device.installation_limit_Tp\n",
      "2016-11-18 03:17:31,720 - DEBUG - dtocean_core.pipeline - Reading variables component.excavating\n",
      "2016-11-18 03:17:31,726 - DEBUG - dtocean_core.pipeline - Reading variables farm.tidal_series_installation\n",
      "2016-11-18 03:17:31,730 - DEBUG - dtocean_core.pipeline - Reading variables component.grout_rate\n",
      "2016-11-18 03:17:31,736 - DEBUG - dtocean_core.pipeline - Reading variables farm.umbilical_cable_data\n",
      "2016-11-18 03:17:31,740 - DEBUG - dtocean_core.pipeline - Reading variables corridor.landfall_contruction_technique\n",
      "2016-11-18 03:17:31,746 - DEBUG - dtocean_core.pipeline - Reading variables component.equipment_penetration_rates\n",
      "2016-11-18 03:17:31,752 - DEBUG - dtocean_core.pipeline - Reading variables component.hammer\n",
      "2016-11-18 03:17:31,756 - DEBUG - dtocean_core.pipeline - Reading variables component.rov\n",
      "2016-11-18 03:17:31,759 - DEBUG - dtocean_core.pipeline - Reading variables farm.wave_series_installation\n",
      "2016-11-18 03:17:31,762 - DEBUG - dtocean_core.pipeline - Reading variables farm.foundations_soil_data\n",
      "2016-11-18 03:17:31,765 - DEBUG - dtocean_core.pipeline - Reading variables component.installation_soil_compatibility\n",
      "2016-11-18 03:17:31,767 - DEBUG - dtocean_core.pipeline - Reading variables component.rock_bags_installation\n",
      "2016-11-18 03:17:31,772 - DEBUG - dtocean_core.pipeline - Reading variables device.system_length\n",
      "2016-11-18 03:17:31,776 - DEBUG - dtocean_core.pipeline - Reading variables device.installation_limit_Hs\n",
      "2016-11-18 03:17:31,779 - DEBUG - dtocean_core.pipeline - Reading variables bathymetry.layers\n",
      "2016-11-18 03:17:31,782 - DEBUG - dtocean_core.pipeline - Reading variables farm.moorings_component_data\n",
      "2016-11-18 03:17:31,786 - DEBUG - dtocean_core.pipeline - Reading variables component.wet_mate_connectors\n",
      "2016-11-18 03:17:31,789 - DEBUG - dtocean_core.pipeline - Reading variables component.loading_rate\n",
      "2016-11-18 03:17:31,793 - DEBUG - dtocean_core.pipeline - Reading variables component.split_pipes_installation\n",
      "2016-11-18 03:17:31,798 - DEBUG - dtocean_core.pipeline - Reading variables farm.foundations_component_data\n",
      "2016-11-18 03:17:31,801 - DEBUG - dtocean_core.pipeline - Reading variables component.cable_burial\n",
      "2016-11-18 03:17:31,805 - DEBUG - dtocean_core.pipeline - Reading variables device.installation_limit_Cs\n",
      "2016-11-18 03:17:31,808 - DEBUG - dtocean_core.pipeline - Reading variables farm.cable_routes\n",
      "2016-11-18 03:17:31,811 - DEBUG - dtocean_core.pipeline - Reading variables component.hammer_safety_factors\n",
      "2016-11-18 03:17:31,813 - DEBUG - dtocean_core.pipeline - Reading variables device.installation_limit_Ws\n",
      "2016-11-18 03:17:31,818 - DEBUG - dtocean_core.pipeline - Reading variables component.rov_safety_factors\n",
      "2016-11-18 03:17:31,822 - DEBUG - dtocean_core.pipeline - Reading variables corridor.layers\n",
      "2016-11-18 03:17:31,828 - DEBUG - dtocean_core.pipeline - Reading variables component.vessel_safety_factors\n",
      "2016-11-18 03:17:31,832 - DEBUG - dtocean_core.pipeline - Reading variables component.divers_safety_factors\n",
      "2016-11-18 03:17:31,838 - DEBUG - dtocean_core.pipeline - Reading variables device.system_mass\n",
      "2016-11-18 03:17:31,844 - DEBUG - dtocean_core.pipeline - Reading variables component.vibro_driver_safety_factors\n",
      "2016-11-18 03:17:31,849 - DEBUG - dtocean_core.pipeline - Reading variables device.assembly_duration\n",
      "2016-11-18 03:17:31,854 - DEBUG - dtocean_core.pipeline - Reading variables farm.layout\n",
      "2016-11-18 03:17:31,858 - DEBUG - dtocean_core.pipeline - Reading variables component.dry_mate_connectors\n",
      "2016-11-18 03:17:31,864 - DEBUG - dtocean_core.pipeline - Reading variables site.projection\n",
      "2016-11-18 03:17:31,868 - DEBUG - dtocean_core.pipeline - Reading variables component.vibro_driver\n",
      "2016-11-18 03:17:31,875 - DEBUG - dtocean_core.pipeline - Reading variables device.load_out_method\n",
      "2016-11-18 03:17:31,880 - DEBUG - dtocean_core.pipeline - Reading variables device.system_width\n",
      "2016-11-18 03:17:31,884 - DEBUG - dtocean_core.pipeline - Reading variables component.mattress_installation\n",
      "2016-11-18 03:17:31,891 - DEBUG - dtocean_core.pipeline - Reading variables component.drilling_rigs\n",
      "2016-11-18 03:17:31,894 - DEBUG - dtocean_core.pipeline - Reading variables component.dynamic_cable\n",
      "2016-11-18 03:17:31,900 - DEBUG - dtocean_core.pipeline - Reading variables farm.electrical_network\n",
      "2016-11-18 03:17:31,904 - DEBUG - dtocean_core.pipeline - Reading variables component.transformers\n",
      "2016-11-18 03:17:31,910 - DEBUG - dtocean_core.pipeline - Reading variables component.split_pipe_laying_rate\n",
      "2016-11-18 03:17:31,915 - DEBUG - dtocean_core.pipeline - Reading variables component.divers\n",
      "2016-11-18 03:17:31,921 - DEBUG - dtocean_core.pipeline - Reading variables project.comissioning_time\n",
      "2016-11-18 03:17:31,926 - DEBUG - dtocean_core.pipeline - Reading variables farm.moorings_foundations_network\n",
      "2016-11-18 03:17:31,930 - DEBUG - dtocean_core.pipeline - Reading variables device.connect_duration\n",
      "2016-11-18 03:17:31,933 - DEBUG - dtocean_core.pipeline - Reading variables project.cost_contingency\n",
      "2016-11-18 03:17:31,936 - DEBUG - dtocean_core.pipeline - Reading variables component.vessels\n",
      "2016-11-18 03:17:31,940 - DEBUG - dtocean_core.pipeline - Reading variables component.static_cable\n",
      "2016-11-18 03:17:31,946 - DEBUG - dtocean_core.pipeline - Reading variables project.start_date\n",
      "2016-11-18 03:17:31,950 - DEBUG - dtocean_core.pipeline - Reading variables component.port_safety_factors\n",
      "2016-11-18 03:17:31,953 - DEBUG - dtocean_core.pipeline - Reading variables device.bollard_pull\n",
      "2016-11-18 03:17:31,956 - DEBUG - dtocean_core.pipeline - Reading variables farm.entry_point\n",
      "2016-11-18 03:17:31,960 - DEBUG - dtocean_core.pipeline - Reading variables farm.umbilical_seabed_connection\n",
      "2016-11-18 03:17:31,964 - DEBUG - dtocean_core.pipeline - Reading variables device.sub_systems_installation\n",
      "2016-11-18 03:17:31,967 - DEBUG - dtocean_core.pipeline - Reading variables component.port_locations\n",
      "2016-11-18 03:17:31,970 - DEBUG - dtocean_core.pipeline - Reading variables farm.substation_props\n",
      "2016-11-18 03:17:31,974 - DEBUG - dtocean_core.pipeline - Reading variables component.fuel_cost_rate\n",
      "2016-11-18 03:17:31,979 - DEBUG - dtocean_core.pipeline - Reading variables device.system_height\n",
      "2016-11-18 03:17:31,982 - DEBUG - dtocean_core.pipeline - Reading variables component.split_pipe_safety_factors\n",
      "2016-11-18 03:17:31,984 - DEBUG - dtocean_core.pipeline - Reading variables component.ports\n",
      "2016-11-18 03:17:31,989 - DEBUG - dtocean_core.pipeline - Reading variables device.disconnect_duration\n",
      "2016-11-18 03:17:31,993 - DEBUG - dtocean_core.pipeline - Reading variables farm.wind_series_installation\n",
      "2016-11-18 03:17:31,999 - DEBUG - dtocean_core.pipeline - Reading variables project.port_percentage_cost\n",
      "2016-11-18 03:17:32,003 - DEBUG - dtocean_core.pipeline - Reading variables component.collection_points\n",
      "2016-11-18 03:17:32,009 - DEBUG - dtocean_core.pipeline - Reading variables component.switchgear\n",
      "2016-11-18 03:17:32,015 - DEBUG - dtocean_core.pipeline - Reading variables device.transportation_method\n",
      "2016-11-18 03:17:32,019 - DEBUG - dtocean_core.pipeline - Reading variables component.surface_laying_rate\n",
      "2016-11-18 03:17:32,029 - DEBUG - dtocean_core.pipeline - Reading variables farm.electrical_component_data\n",
      "2016-11-18 03:17:32,032 - DEBUG - dtocean_core.pipeline - Reading variables component.power_quality\n",
      "2016-11-18 03:17:32,038 - DEBUG - aneris.control.data - DataState created\n",
      "2016-11-18 03:17:32,042 - INFO - aneris.control.data - New \"component.power_quality\" data stored with index 2E08GR\n",
      "2016-11-18 03:17:32,046 - INFO - aneris.control.data - New \"farm.electrical_component_data\" data stored with index ZLEE0C\n",
      "2016-11-18 03:17:32,049 - INFO - aneris.control.data - New \"device.bollard_pull\" data stored with index 4FCE3O\n",
      "2016-11-18 03:17:32,052 - INFO - aneris.control.data - New \"device.transportation_method\" data stored with index C4DG9A\n",
      "2016-11-18 03:17:32,056 - INFO - aneris.control.data - New \"component.switchgear\" data stored with index G7L4QR\n",
      "2016-11-18 03:17:32,062 - INFO - aneris.control.data - New \"component.collection_points\" data stored with index EZWO6O\n",
      "2016-11-18 03:17:32,063 - INFO - aneris.control.data - New \"project.port_percentage_cost\" data stored with index 8BDHOT\n",
      "2016-11-18 03:17:33,009 - INFO - aneris.control.data - New \"farm.wind_series_installation\" data stored with index INBDG6\n",
      "2016-11-18 03:17:33,012 - INFO - aneris.control.data - New \"device.disconnect_duration\" data stored with index IMQYNY\n",
      "2016-11-18 03:17:33,015 - INFO - aneris.control.data - New \"component.ports\" data stored with index LDQWE4\n",
      "2016-11-18 03:17:33,017 - INFO - aneris.control.data - New \"component.split_pipe_safety_factors\" data stored with index 036S72\n",
      "2016-11-18 03:17:33,884 - INFO - aneris.control.data - New \"farm.tidal_series_installation\" data stored with index BGL08R\n",
      "2016-11-18 03:17:33,887 - INFO - aneris.control.data - New \"component.fuel_cost_rate\" data stored with index OXYRCF\n",
      "2016-11-18 03:17:33,888 - INFO - aneris.control.data - New \"device.connect_duration\" data stored with index BZEDQJ\n",
      "2016-11-18 03:17:33,891 - INFO - aneris.control.data - New \"component.port_locations\" data stored with index 6AXC8P\n",
      "2016-11-18 03:17:33,894 - INFO - aneris.control.data - New \"component.transformers\" data stored with index D3007Z\n",
      "2016-11-18 03:17:33,900 - INFO - aneris.control.data - New \"farm.foundations_soil_data\" data stored with index DPRGDC\n",
      "2016-11-18 03:17:33,907 - INFO - aneris.control.data - New \"component.hammer_safety_factors\" data stored with index M7BE5F\n",
      "2016-11-18 03:17:33,920 - INFO - aneris.control.data - New \"farm.entry_point\" data stored with index GM23R9\n",
      "2016-11-18 03:17:33,921 - INFO - aneris.control.data - New \"component.surface_laying_rate\" data stored with index AX2GJW\n",
      "2016-11-18 03:17:33,924 - INFO - aneris.control.data - New \"component.split_pipe_laying_rate\" data stored with index B41HD6\n",
      "2016-11-18 03:17:33,927 - INFO - aneris.control.data - New \"project.start_date\" data stored with index 5LGN06\n",
      "2016-11-18 03:17:33,933 - INFO - aneris.control.data - New \"component.static_cable\" data stored with index DIT123\n",
      "2016-11-18 03:17:33,937 - INFO - aneris.control.data - New \"component.vessels\" data stored with index SATF9L\n",
      "2016-11-18 03:17:33,940 - INFO - aneris.control.data - New \"project.cost_contingency\" data stored with index KF4WHP\n",
      "2016-11-18 03:17:33,943 - INFO - aneris.control.data - New \"farm.moorings_foundations_network\" data stored with index SFGB86\n",
      "2016-11-18 03:17:33,946 - INFO - aneris.control.data - New \"project.comissioning_time\" data stored with index PLM6IJ\n",
      "2016-11-18 03:17:33,948 - INFO - aneris.control.data - New \"device.system_mass\" data stored with index EXZZUD\n",
      "2016-11-18 03:17:33,953 - INFO - aneris.control.data - New \"component.dynamic_cable\" data stored with index BH03R3\n",
      "2016-11-18 03:17:33,956 - INFO - aneris.control.data - New \"farm.layout\" data stored with index RWWPW5\n",
      "2016-11-18 03:17:33,960 - INFO - aneris.control.data - New \"farm.electrical_network\" data stored with index CTHLXF\n",
      "2016-11-18 03:17:33,963 - INFO - aneris.control.data - New \"device.load_out_method\" data stored with index KKF2KL\n",
      "2016-11-18 03:17:33,964 - INFO - aneris.control.data - New \"device.installation_limit_Ws\" data stored with index AVJKKW\n",
      "2016-11-18 03:17:33,970 - INFO - aneris.control.data - New \"component.mattress_installation\" data stored with index A5UBNA\n",
      "2016-11-18 03:17:33,976 - INFO - aneris.control.data - New \"device.sub_systems_installation\" data stored with index JHDTUK\n",
      "2016-11-18 03:17:33,979 - INFO - aneris.control.data - New \"device.system_width\" data stored with index I286OJ\n",
      "2016-11-18 03:17:33,986 - INFO - aneris.control.data - New \"corridor.layers\" data stored with index 16SD8B\n",
      "2016-11-18 03:17:33,989 - INFO - aneris.control.data - New \"component.vibro_driver\" data stored with index UX6XSI\n",
      "2016-11-18 03:17:33,990 - INFO - aneris.control.data - New \"site.projection\" data stored with index Y8HF9T\n",
      "2016-11-18 03:17:33,993 - INFO - aneris.control.data - New \"component.dry_mate_connectors\" data stored with index OLG1QJ\n",
      "2016-11-18 03:17:33,993 - INFO - aneris.control.data - New \"farm.umbilical_seabed_connection\" data stored with index PWWX6C\n",
      "2016-11-18 03:17:33,996 - INFO - aneris.control.data - New \"device.assembly_duration\" data stored with index BHG2OG\n",
      "2016-11-18 03:17:33,996 - INFO - aneris.control.data - New \"device.system_height\" data stored with index IF0DF4\n",
      "2016-11-18 03:17:34,000 - INFO - aneris.control.data - New \"component.vibro_driver_safety_factors\" data stored with index P8LJG2\n",
      "2016-11-18 03:17:34,005 - INFO - aneris.control.data - New \"component.vessel_safety_factors\" data stored with index 9RQJLJ\n",
      "2016-11-18 03:17:34,009 - INFO - aneris.control.data - New \"component.divers_safety_factors\" data stored with index R9YKGC\n",
      "2016-11-18 03:17:34,012 - INFO - aneris.control.data - New \"component.rov_safety_factors\" data stored with index 5Q673L\n",
      "2016-11-18 03:17:34,016 - INFO - aneris.control.data - New \"component.port_safety_factors\" data stored with index XGFBMU\n",
      "2016-11-18 03:17:34,019 - INFO - aneris.control.data - New \"farm.substation_props\" data stored with index D5WB8X\n",
      "2016-11-18 03:17:34,020 - INFO - aneris.control.data - New \"farm.line_data\" data stored with index DFSOX1\n",
      "2016-11-18 03:17:34,490 - INFO - aneris.control.data - New \"farm.wave_series_installation\" data stored with index Q8U1EB\n",
      "2016-11-18 03:17:34,494 - INFO - aneris.control.data - New \"component.split_pipes_installation\" data stored with index 26H24M\n",
      "2016-11-18 03:17:34,497 - INFO - aneris.control.data - New \"farm.cable_routes\" data stored with index M1P68D\n",
      "2016-11-18 03:17:34,500 - INFO - aneris.control.data - New \"device.installation_limit_Cs\" data stored with index DDOP7I\n",
      "2016-11-18 03:17:34,502 - INFO - aneris.control.data - New \"component.cable_burial\" data stored with index NWKVTZ\n",
      "2016-11-18 03:17:34,505 - INFO - aneris.control.data - New \"farm.foundations_component_data\" data stored with index NT7596\n",
      "2016-11-18 03:17:34,509 - INFO - aneris.control.data - New \"component.wet_mate_connectors\" data stored with index WGKXZI\n",
      "2016-11-18 03:17:34,509 - INFO - aneris.control.data - New \"component.loading_rate\" data stored with index HV1MC7\n",
      "2016-11-18 03:17:34,513 - INFO - aneris.control.data - New \"farm.moorings_component_data\" data stored with index OIYWPY\n",
      "2016-11-18 03:17:34,519 - INFO - aneris.control.data - New \"bathymetry.layers\" data stored with index FBYMBG\n",
      "2016-11-18 03:17:34,519 - INFO - aneris.control.data - New \"device.installation_limit_Hs\" data stored with index U9GCJM\n",
      "2016-11-18 03:17:34,522 - INFO - aneris.control.data - New \"device.system_length\" data stored with index EF55NN\n",
      "2016-11-18 03:17:34,523 - INFO - aneris.control.data - New \"component.rock_bags_installation\" data stored with index BJXZQE\n",
      "2016-11-18 03:17:34,528 - INFO - aneris.control.data - New \"component.installation_soil_compatibility\" data stored with index TLI8WV\n",
      "2016-11-18 03:17:34,530 - INFO - aneris.control.data - New \"component.rov\" data stored with index WBJZT3\n",
      "2016-11-18 03:17:34,533 - INFO - aneris.control.data - New \"component.divers\" data stored with index SYMBTT\n",
      "2016-11-18 03:17:34,536 - INFO - aneris.control.data - New \"component.hammer\" data stored with index N4KGDL\n",
      "2016-11-18 03:17:34,542 - INFO - aneris.control.data - New \"component.equipment_penetration_rates\" data stored with index J2T0X6\n",
      "2016-11-18 03:17:34,546 - INFO - aneris.control.data - New \"corridor.landfall_contruction_technique\" data stored with index PWNHRU\n",
      "2016-11-18 03:17:34,549 - INFO - aneris.control.data - New \"farm.umbilical_cable_data\" data stored with index AUBRU4\n",
      "2016-11-18 03:17:34,551 - INFO - aneris.control.data - New \"component.grout_rate\" data stored with index PR87V9\n",
      "2016-11-18 03:17:34,553 - INFO - aneris.control.data - New \"component.excavating\" data stored with index MCM2H9\n",
      "2016-11-18 03:17:34,559 - INFO - aneris.control.data - New \"component.cable_burial_safety_factors\" data stored with index QJ6EY4\n",
      "2016-11-18 03:17:34,561 - INFO - aneris.control.data - New \"component.drilling_rigs\" data stored with index QJ6O4B\n",
      "2016-11-18 03:17:34,562 - INFO - aneris.control.data - New \"device.installation_limit_Tp\" data stored with index AUC9RO\n",
      "2016-11-18 03:17:34,563 - INFO - aneris.control.simulation - Datastate stored\n",
      "2016-11-18 03:17:34,565 - DEBUG - aneris.control.simulation - Merging active DataStates.\n",
      "2016-11-18 03:17:34,568 - DEBUG - aneris.control.simulation - Getting output status for interface \"System Type Selection\".\n",
      "2016-11-18 03:17:34,569 - DEBUG - aneris.control.simulation - Getting output status for interface \"Installation\".\n",
      "2016-11-18 03:17:34,573 - DEBUG - aneris.control.simulation - Getting input status for interface \"System Type Selection\".\n",
      "2016-11-18 03:17:34,576 - DEBUG - aneris.control.simulation - Getting input status for interface \"Installation\".\n"
     ]
    }
   ],
   "source": [
    "installation_branch.read_test_data(new_core,\n",
    "                                    new_project,\n",
    "                                    \"inputs_wp5_electrical_star_floating.pkl\")"
   ]
  },
  {
   "cell_type": "markdown",
   "metadata": {},
   "source": [
    "## Check if the module can be executed"
   ]
  },
  {
   "cell_type": "code",
   "execution_count": 18,
   "metadata": {
    "collapsed": false
   },
   "outputs": [
    {
     "data": {
      "text/plain": [
       "True"
      ]
     },
     "metadata": {},
     "output_type": "display_data"
    }
   ],
   "source": [
    "can_execute = module_menu.is_executable(new_core, new_project, module_name)\n",
    "display(can_execute)"
   ]
  },
  {
   "cell_type": "code",
   "execution_count": 19,
   "metadata": {
    "collapsed": false
   },
   "outputs": [
    {
     "data": {
      "text/html": [
       "<ul><li>device.transportation_method: <b>satisfied</b></li><li>component.collection_points: <b>satisfied</b></li><li>component.rov: <b>satisfied</b></li><li>farm.wind_series_installation: <b>satisfied</b></li><li>device.disconnect_duration: <b>satisfied</b></li><li>component.ports: <b>satisfied</b></li><li>component.split_pipe_safety_factors: <b>satisfied</b></li><li>device.system_height: <b>satisfied</b></li><li>farm.substation_props: <b>satisfied</b></li><li>component.port_locations: <b>satisfied</b></li><li>component.split_pipes_installation: <b>satisfied</b></li><li>device.bollard_pull: <b>satisfied</b></li><li>project.start_date: <b>satisfied</b></li><li>component.static_cable: <b>satisfied</b></li><li>farm.umbilical_seabed_connection: <b>satisfied</b></li><li>device.connect_duration: <b>satisfied</b></li><li>device.system_mass: <b>satisfied</b></li><li>component.transformers: <b>satisfied</b></li><li>device.load_out_method: <b>satisfied</b></li><li>component.drilling_rigs: <b>satisfied</b></li><li>device.system_width: <b>satisfied</b></li><li>site.projection: <b>satisfied</b></li><li>component.vibro_driver_safety_factors: <b>satisfied</b></li><li>component.divers_safety_factors: <b>satisfied</b></li><li>component.vessel_safety_factors: <b>satisfied</b></li><li>device.control_system_installation: <b>optional</b></li><li>device.installation_limit_Ws: <b>satisfied</b></li><li>farm.cable_routes: <b>satisfied</b></li><li>device.installation_limit_Cs: <b>satisfied</b></li><li>farm.foundations_component_data: <b>satisfied</b></li><li>farm.entry_point: <b>satisfied</b></li><li>component.loading_rate: <b>satisfied</b></li><li>farm.moorings_component_data: <b>satisfied</b></li><li>device.installation_limit_Hs: <b>satisfied</b></li><li>device.system_length: <b>satisfied</b></li><li>component.installation_soil_compatibility: <b>satisfied</b></li><li>farm.foundations_soil_data: <b>satisfied</b></li><li>component.hammer: <b>satisfied</b></li><li>component.equipment_penetration_rates: <b>satisfied</b></li><li>corridor.layers: <b>satisfied</b></li><li>component.grout_rate: <b>satisfied</b></li><li>farm.tidal_series_installation: <b>satisfied</b></li><li>component.excavating: <b>satisfied</b></li><li>device.installation_limit_Tp: <b>satisfied</b></li><li>component.power_quality: <b>satisfied</b></li><li>component.surface_laying_rate: <b>satisfied</b></li><li>component.switchgear: <b>satisfied</b></li><li>project.port_percentage_cost: <b>satisfied</b></li><li>component.fuel_cost_rate: <b>satisfied</b></li><li>device.sub_systems_installation: <b>satisfied</b></li><li>component.port_safety_factors: <b>satisfied</b></li><li>component.vessels: <b>satisfied</b></li><li>project.cost_contingency: <b>satisfied</b></li><li>farm.moorings_foundations_network: <b>satisfied</b></li><li>project.comissioning_time: <b>satisfied</b></li><li>component.split_pipe_laying_rate: <b>satisfied</b></li><li>farm.layout: <b>satisfied</b></li><li>farm.electrical_network: <b>satisfied</b></li><li>component.dynamic_cable: <b>satisfied</b></li><li>component.mattress_installation: <b>satisfied</b></li><li>farm.electrical_component_data: <b>satisfied</b></li><li>component.vibro_driver: <b>satisfied</b></li><li>component.dry_mate_connectors: <b>satisfied</b></li><li>device.assembly_duration: <b>satisfied</b></li><li>component.rov_safety_factors: <b>satisfied</b></li><li>farm.line_data: <b>satisfied</b></li><li>device.system_type: <b>satisfied</b></li><li>component.hammer_safety_factors: <b>satisfied</b></li><li>component.cable_burial: <b>satisfied</b></li><li>component.wet_mate_connectors: <b>satisfied</b></li><li>bathymetry.layers: <b>satisfied</b></li><li>component.rock_bags_installation: <b>satisfied</b></li><li>farm.wave_series_installation: <b>satisfied</b></li><li>component.divers: <b>satisfied</b></li><li>corridor.landfall_contruction_technique: <b>satisfied</b></li><li>farm.umbilical_cable_data: <b>satisfied</b></li><li>component.cable_burial_safety_factors: <b>satisfied</b></li></ul>"
      ],
      "text/plain": [
       "<IPython.core.display.HTML object>"
      ]
     },
     "execution_count": 19,
     "metadata": {},
     "output_type": "execute_result"
    }
   ],
   "source": [
    "input_status = installation_branch.get_input_status(new_core, new_project)\n",
    "message = html_dict(input_status)\n",
    "HTML(message)"
   ]
  },
  {
   "cell_type": "markdown",
   "metadata": {},
   "source": [
    "## Execute the current module\n",
    "\n",
    "The \"current\" module refers to the next module to be executed in the chain (pipeline) of modules. This command will only execute that module and another will be used for executing all of the modules at once.\n",
    "\n",
    "Note, any data supplied by the module will be automatically copied into the active data state."
   ]
  },
  {
   "cell_type": "code",
   "execution_count": 20,
   "metadata": {
    "collapsed": false,
    "scrolled": false
   },
   "outputs": [
    {
     "name": "stdout",
     "output_type": "stream",
     "text": [
      "2016-11-18 03:17:34,697 - DEBUG - dtocean_core.core - Setting inspection level to installation start\n",
      "2016-11-18 03:17:34,700 - DEBUG - aneris.control.data - DataState with level \"installation start\" created\n",
      "2016-11-18 03:17:34,700 - INFO - aneris.control.simulation - Datastate with level \"installation start\" stored\n",
      "2016-11-18 03:17:34,703 - DEBUG - aneris.control.simulation - Merging active DataStates.\n",
      "2016-11-18 03:17:34,707 - DEBUG - aneris.control.simulation - Retrieving data with identity \"component.power_quality\".\n",
      "2016-11-18 03:17:34,709 - DEBUG - aneris.control.data - Retrieving \"component.power_quality\" data stored with index 2E08GR from pool\n",
      "2016-11-18 03:17:34,710 - DEBUG - aneris.control.simulation - Retrieving data with identity \"component.surface_laying_rate\".\n",
      "2016-11-18 03:17:34,711 - DEBUG - aneris.control.data - Retrieving \"component.surface_laying_rate\" data stored with index AX2GJW from pool\n",
      "2016-11-18 03:17:34,713 - DEBUG - aneris.control.simulation - Retrieving data with identity \"device.transportation_method\".\n",
      "2016-11-18 03:17:34,713 - DEBUG - aneris.control.data - Retrieving \"device.transportation_method\" data stored with index C4DG9A from pool\n",
      "2016-11-18 03:17:34,716 - DEBUG - aneris.control.simulation - Retrieving data with identity \"component.switchgear\".\n",
      "2016-11-18 03:17:34,717 - DEBUG - aneris.control.data - Retrieving \"component.switchgear\" data stored with index G7L4QR from pool\n",
      "2016-11-18 03:17:34,717 - DEBUG - aneris.control.simulation - Retrieving data with identity \"component.collection_points\".\n",
      "2016-11-18 03:17:34,720 - DEBUG - aneris.control.data - Retrieving \"component.collection_points\" data stored with index EZWO6O from pool\n",
      "2016-11-18 03:17:34,723 - DEBUG - aneris.control.simulation - Retrieving data with identity \"project.port_percentage_cost\".\n",
      "2016-11-18 03:17:34,724 - DEBUG - aneris.control.data - Retrieving \"project.port_percentage_cost\" data stored with index 8BDHOT from pool\n",
      "2016-11-18 03:17:34,726 - DEBUG - aneris.control.simulation - Retrieving data with identity \"farm.wind_series_installation\".\n",
      "2016-11-18 03:17:34,726 - DEBUG - aneris.control.data - Retrieving \"farm.wind_series_installation\" data stored with index INBDG6 from pool\n",
      "2016-11-18 03:17:34,729 - DEBUG - aneris.control.simulation - Retrieving data with identity \"device.disconnect_duration\".\n",
      "2016-11-18 03:17:34,730 - DEBUG - aneris.control.data - Retrieving \"device.disconnect_duration\" data stored with index IMQYNY from pool\n",
      "2016-11-18 03:17:34,730 - DEBUG - aneris.control.simulation - Retrieving data with identity \"component.ports\".\n",
      "2016-11-18 03:17:34,732 - DEBUG - aneris.control.data - Retrieving \"component.ports\" data stored with index LDQWE4 from pool\n",
      "2016-11-18 03:17:34,733 - DEBUG - aneris.control.simulation - Retrieving data with identity \"component.split_pipe_safety_factors\".\n",
      "2016-11-18 03:17:34,733 - DEBUG - aneris.control.data - Retrieving \"component.split_pipe_safety_factors\" data stored with index 036S72 from pool\n",
      "2016-11-18 03:17:34,734 - DEBUG - aneris.control.simulation - Retrieving data with identity \"device.system_height\".\n",
      "2016-11-18 03:17:34,734 - DEBUG - aneris.control.data - Retrieving \"device.system_height\" data stored with index IF0DF4 from pool\n",
      "2016-11-18 03:17:34,736 - DEBUG - aneris.control.simulation - Retrieving data with identity \"component.fuel_cost_rate\".\n",
      "2016-11-18 03:17:34,736 - DEBUG - aneris.control.data - Retrieving \"component.fuel_cost_rate\" data stored with index OXYRCF from pool\n",
      "2016-11-18 03:17:34,737 - DEBUG - aneris.control.simulation - Retrieving data with identity \"farm.substation_props\".\n",
      "2016-11-18 03:17:34,740 - DEBUG - aneris.control.data - Retrieving \"farm.substation_props\" data stored with index D5WB8X from pool\n",
      "2016-11-18 03:17:34,740 - DEBUG - aneris.control.simulation - Retrieving data with identity \"component.port_locations\".\n",
      "2016-11-18 03:17:34,743 - DEBUG - aneris.control.data - Retrieving \"component.port_locations\" data stored with index 6AXC8P from pool\n",
      "2016-11-18 03:17:34,746 - DEBUG - aneris.control.simulation - Retrieving data with identity \"device.sub_systems_installation\".\n",
      "2016-11-18 03:17:34,750 - DEBUG - aneris.control.data - Retrieving \"device.sub_systems_installation\" data stored with index JHDTUK from pool\n",
      "2016-11-18 03:17:34,753 - DEBUG - aneris.control.simulation - Retrieving data with identity \"component.split_pipes_installation\".\n",
      "2016-11-18 03:17:34,755 - DEBUG - aneris.control.data - Retrieving \"component.split_pipes_installation\" data stored with index 26H24M from pool\n",
      "2016-11-18 03:17:34,759 - DEBUG - aneris.control.simulation - Retrieving data with identity \"device.bollard_pull\".\n",
      "2016-11-18 03:17:34,759 - DEBUG - aneris.control.data - Retrieving \"device.bollard_pull\" data stored with index 4FCE3O from pool\n",
      "2016-11-18 03:17:34,762 - DEBUG - aneris.control.simulation - Retrieving data with identity \"component.port_safety_factors\".\n",
      "2016-11-18 03:17:34,763 - DEBUG - aneris.control.data - Retrieving \"component.port_safety_factors\" data stored with index XGFBMU from pool\n",
      "2016-11-18 03:17:34,766 - DEBUG - aneris.control.simulation - Retrieving data with identity \"project.start_date\".\n",
      "2016-11-18 03:17:34,767 - DEBUG - aneris.control.data - Retrieving \"project.start_date\" data stored with index 5LGN06 from pool\n",
      "2016-11-18 03:17:34,770 - DEBUG - aneris.control.simulation - Retrieving data with identity \"component.static_cable\".\n",
      "2016-11-18 03:17:34,773 - DEBUG - aneris.control.data - Retrieving \"component.static_cable\" data stored with index DIT123 from pool\n",
      "2016-11-18 03:17:34,775 - DEBUG - aneris.control.simulation - Retrieving data with identity \"component.vessels\".\n",
      "2016-11-18 03:17:34,778 - DEBUG - aneris.control.data - Retrieving \"component.vessels\" data stored with index SATF9L from pool\n",
      "2016-11-18 03:17:34,779 - DEBUG - aneris.control.simulation - Retrieving data with identity \"project.cost_contingency\".\n",
      "2016-11-18 03:17:34,779 - DEBUG - aneris.control.data - Retrieving \"project.cost_contingency\" data stored with index KF4WHP from pool\n",
      "2016-11-18 03:17:34,782 - DEBUG - aneris.control.simulation - Retrieving data with identity \"device.connect_duration\".\n",
      "2016-11-18 03:17:34,782 - DEBUG - aneris.control.data - Retrieving \"device.connect_duration\" data stored with index BZEDQJ from pool\n",
      "2016-11-18 03:17:34,783 - DEBUG - aneris.control.simulation - Retrieving data with identity \"farm.moorings_foundations_network\".\n",
      "2016-11-18 03:17:34,786 - DEBUG - aneris.control.data - Retrieving \"farm.moorings_foundations_network\" data stored with index SFGB86 from pool\n",
      "2016-11-18 03:17:34,786 - DEBUG - aneris.control.simulation - Retrieving data with identity \"project.comissioning_time\".\n",
      "2016-11-18 03:17:34,788 - DEBUG - aneris.control.data - Retrieving \"project.comissioning_time\" data stored with index PLM6IJ from pool\n",
      "2016-11-18 03:17:34,789 - DEBUG - aneris.control.simulation - Retrieving data with identity \"component.divers\".\n",
      "2016-11-18 03:17:34,790 - DEBUG - aneris.control.data - Retrieving \"component.divers\" data stored with index SYMBTT from pool\n",
      "2016-11-18 03:17:34,792 - DEBUG - aneris.control.simulation - Retrieving data with identity \"device.installation_limit_Cs\".\n",
      "2016-11-18 03:17:34,793 - DEBUG - aneris.control.data - Retrieving \"device.installation_limit_Cs\" data stored with index DDOP7I from pool\n",
      "2016-11-18 03:17:34,796 - DEBUG - aneris.control.simulation - Retrieving data with identity \"component.split_pipe_laying_rate\".\n",
      "2016-11-18 03:17:34,799 - DEBUG - aneris.control.data - Retrieving \"component.split_pipe_laying_rate\" data stored with index B41HD6 from pool\n",
      "2016-11-18 03:17:34,802 - DEBUG - aneris.control.simulation - Retrieving data with identity \"component.transformers\".\n",
      "2016-11-18 03:17:34,802 - DEBUG - aneris.control.data - Retrieving \"component.transformers\" data stored with index D3007Z from pool\n",
      "2016-11-18 03:17:34,805 - DEBUG - aneris.control.simulation - Retrieving data with identity \"farm.electrical_network\".\n",
      "2016-11-18 03:17:34,808 - DEBUG - aneris.control.data - Retrieving \"farm.electrical_network\" data stored with index CTHLXF from pool\n",
      "2016-11-18 03:17:34,812 - DEBUG - aneris.control.simulation - Retrieving data with identity \"component.dynamic_cable\".\n",
      "2016-11-18 03:17:34,813 - DEBUG - aneris.control.data - Retrieving \"component.dynamic_cable\" data stored with index BH03R3 from pool\n",
      "2016-11-18 03:17:34,816 - DEBUG - aneris.control.simulation - Retrieving data with identity \"component.drilling_rigs\".\n",
      "2016-11-18 03:17:34,819 - DEBUG - aneris.control.data - Retrieving \"component.drilling_rigs\" data stored with index QJ6O4B from pool\n",
      "2016-11-18 03:17:34,821 - DEBUG - aneris.control.simulation - Retrieving data with identity \"component.mattress_installation\".\n",
      "2016-11-18 03:17:34,825 - DEBUG - aneris.control.data - Retrieving \"component.mattress_installation\" data stored with index A5UBNA from pool\n",
      "2016-11-18 03:17:34,832 - DEBUG - aneris.control.simulation - Retrieving data with identity \"device.system_width\".\n",
      "2016-11-18 03:17:34,835 - DEBUG - aneris.control.data - Retrieving \"device.system_width\" data stored with index I286OJ from pool\n",
      "2016-11-18 03:17:34,838 - DEBUG - aneris.control.simulation - Retrieving data with identity \"device.load_out_method\".\n",
      "2016-11-18 03:17:34,839 - DEBUG - aneris.control.data - Retrieving \"device.load_out_method\" data stored with index KKF2KL from pool\n",
      "2016-11-18 03:17:34,842 - DEBUG - aneris.control.simulation - Retrieving data with identity \"component.vibro_driver\".\n",
      "2016-11-18 03:17:34,844 - DEBUG - aneris.control.data - Retrieving \"component.vibro_driver\" data stored with index UX6XSI from pool\n",
      "2016-11-18 03:17:34,845 - DEBUG - aneris.control.simulation - Retrieving data with identity \"site.projection\".\n",
      "2016-11-18 03:17:34,845 - DEBUG - aneris.control.data - Retrieving \"site.projection\" data stored with index Y8HF9T from pool\n",
      "2016-11-18 03:17:34,849 - DEBUG - aneris.control.simulation - Retrieving data with identity \"component.dry_mate_connectors\".\n",
      "2016-11-18 03:17:34,851 - DEBUG - aneris.control.data - Retrieving \"component.dry_mate_connectors\" data stored with index OLG1QJ from pool\n",
      "2016-11-18 03:17:34,851 - DEBUG - aneris.control.simulation - Retrieving data with identity \"component.vibro_driver_safety_factors\".\n",
      "2016-11-18 03:17:34,852 - DEBUG - aneris.control.data - Retrieving \"component.vibro_driver_safety_factors\" data stored with index P8LJG2 from pool\n",
      "2016-11-18 03:17:34,854 - DEBUG - aneris.control.simulation - Retrieving data with identity \"farm.layout\".\n",
      "2016-11-18 03:17:34,855 - DEBUG - aneris.control.data - Retrieving \"farm.layout\" data stored with index RWWPW5 from pool\n",
      "2016-11-18 03:17:34,855 - DEBUG - aneris.control.simulation - Retrieving data with identity \"device.assembly_duration\".\n",
      "2016-11-18 03:17:34,857 - DEBUG - aneris.control.data - Retrieving \"device.assembly_duration\" data stored with index BHG2OG from pool\n",
      "2016-11-18 03:17:34,858 - DEBUG - aneris.control.simulation - Retrieving data with identity \"farm.electrical_component_data\".\n",
      "2016-11-18 03:17:34,859 - DEBUG - aneris.control.data - Retrieving \"farm.electrical_component_data\" data stored with index ZLEE0C from pool\n",
      "2016-11-18 03:17:34,861 - DEBUG - aneris.control.simulation - Retrieving data with identity \"device.system_mass\".\n",
      "2016-11-18 03:17:34,861 - DEBUG - aneris.control.data - Retrieving \"device.system_mass\" data stored with index EXZZUD from pool\n",
      "2016-11-18 03:17:34,864 - DEBUG - aneris.control.simulation - Retrieving data with identity \"component.divers_safety_factors\".\n",
      "2016-11-18 03:17:34,865 - DEBUG - aneris.control.data - Retrieving \"component.divers_safety_factors\" data stored with index R9YKGC from pool\n",
      "2016-11-18 03:17:34,865 - DEBUG - aneris.control.simulation - Retrieving data with identity \"component.vessel_safety_factors\".\n",
      "2016-11-18 03:17:34,867 - DEBUG - aneris.control.data - Retrieving \"component.vessel_safety_factors\" data stored with index 9RQJLJ from pool\n",
      "2016-11-18 03:17:34,868 - DEBUG - aneris.control.simulation - Retrieving data with identity \"corridor.layers\".\n",
      "2016-11-18 03:17:34,868 - DEBUG - aneris.control.data - Retrieving \"corridor.layers\" data stored with index 16SD8B from pool\n",
      "2016-11-18 03:17:34,871 - DEBUG - aneris.control.simulation - Retrieving data with identity \"component.rov_safety_factors\".\n",
      "2016-11-18 03:17:34,871 - DEBUG - aneris.control.data - Retrieving \"component.rov_safety_factors\" data stored with index 5Q673L from pool\n",
      "2016-11-18 03:17:34,872 - DEBUG - aneris.control.simulation - Retrieving data with identity \"device.installation_limit_Ws\".\n",
      "2016-11-18 03:17:34,874 - DEBUG - aneris.control.data - Retrieving \"device.installation_limit_Ws\" data stored with index AVJKKW from pool\n",
      "2016-11-18 03:17:34,875 - DEBUG - aneris.control.simulation - Retrieving data with identity \"device.system_type\".\n",
      "2016-11-18 03:17:34,877 - DEBUG - aneris.control.data - Retrieving \"device.system_type\" data stored with index 56T5CB from pool\n",
      "2016-11-18 03:17:34,878 - DEBUG - aneris.control.simulation - Retrieving data with identity \"component.hammer_safety_factors\".\n",
      "2016-11-18 03:17:34,878 - DEBUG - aneris.control.data - Retrieving \"component.hammer_safety_factors\" data stored with index M7BE5F from pool\n",
      "2016-11-18 03:17:34,881 - DEBUG - aneris.control.simulation - Retrieving data with identity \"farm.cable_routes\".\n",
      "2016-11-18 03:17:34,881 - DEBUG - aneris.control.data - Retrieving \"farm.cable_routes\" data stored with index M1P68D from pool\n",
      "2016-11-18 03:17:34,884 - DEBUG - aneris.control.simulation - Retrieving data with identity \"farm.umbilical_seabed_connection\".\n",
      "2016-11-18 03:17:34,884 - DEBUG - aneris.control.data - Retrieving \"farm.umbilical_seabed_connection\" data stored with index PWWX6C from pool\n",
      "2016-11-18 03:17:34,885 - DEBUG - aneris.control.simulation - Retrieving data with identity \"component.cable_burial\".\n",
      "2016-11-18 03:17:34,888 - DEBUG - aneris.control.data - Retrieving \"component.cable_burial\" data stored with index NWKVTZ from pool\n",
      "2016-11-18 03:17:34,888 - DEBUG - aneris.control.simulation - Retrieving data with identity \"farm.foundations_component_data\".\n",
      "2016-11-18 03:17:34,890 - DEBUG - aneris.control.data - Retrieving \"farm.foundations_component_data\" data stored with index NT7596 from pool\n",
      "2016-11-18 03:17:34,891 - DEBUG - aneris.control.simulation - Retrieving data with identity \"farm.entry_point\".\n",
      "2016-11-18 03:17:34,892 - DEBUG - aneris.control.data - Retrieving \"farm.entry_point\" data stored with index GM23R9 from pool\n",
      "2016-11-18 03:17:34,894 - DEBUG - aneris.control.simulation - Retrieving data with identity \"component.loading_rate\".\n",
      "2016-11-18 03:17:34,894 - DEBUG - aneris.control.data - Retrieving \"component.loading_rate\" data stored with index HV1MC7 from pool\n",
      "2016-11-18 03:17:34,894 - DEBUG - aneris.control.simulation - Retrieving data with identity \"component.wet_mate_connectors\".\n",
      "2016-11-18 03:17:34,897 - DEBUG - aneris.control.data - Retrieving \"component.wet_mate_connectors\" data stored with index WGKXZI from pool\n",
      "2016-11-18 03:17:34,898 - DEBUG - aneris.control.simulation - Retrieving data with identity \"farm.moorings_component_data\".\n",
      "2016-11-18 03:17:34,898 - DEBUG - aneris.control.data - Retrieving \"farm.moorings_component_data\" data stored with index OIYWPY from pool\n",
      "2016-11-18 03:17:34,900 - DEBUG - aneris.control.simulation - Retrieving data with identity \"bathymetry.layers\".\n",
      "2016-11-18 03:17:34,901 - DEBUG - aneris.control.data - Retrieving \"bathymetry.layers\" data stored with index FBYMBG from pool\n",
      "2016-11-18 03:17:34,903 - DEBUG - aneris.control.simulation - Retrieving data with identity \"device.installation_limit_Hs\".\n",
      "2016-11-18 03:17:34,904 - DEBUG - aneris.control.data - Retrieving \"device.installation_limit_Hs\" data stored with index U9GCJM from pool\n",
      "2016-11-18 03:17:34,904 - DEBUG - aneris.control.simulation - Retrieving data with identity \"device.system_length\".\n",
      "2016-11-18 03:17:34,905 - DEBUG - aneris.control.data - Retrieving \"device.system_length\" data stored with index EF55NN from pool\n",
      "2016-11-18 03:17:34,907 - DEBUG - aneris.control.simulation - Retrieving data with identity \"component.rock_bags_installation\".\n",
      "2016-11-18 03:17:34,907 - DEBUG - aneris.control.data - Retrieving \"component.rock_bags_installation\" data stored with index BJXZQE from pool\n",
      "2016-11-18 03:17:34,910 - DEBUG - aneris.control.simulation - Retrieving data with identity \"component.installation_soil_compatibility\".\n",
      "2016-11-18 03:17:34,911 - DEBUG - aneris.control.data - Retrieving \"component.installation_soil_compatibility\" data stored with index TLI8WV from pool\n",
      "2016-11-18 03:17:34,913 - DEBUG - aneris.control.simulation - Retrieving data with identity \"farm.foundations_soil_data\".\n",
      "2016-11-18 03:17:34,914 - DEBUG - aneris.control.data - Retrieving \"farm.foundations_soil_data\" data stored with index DPRGDC from pool\n",
      "2016-11-18 03:17:34,917 - DEBUG - aneris.control.simulation - Retrieving data with identity \"farm.wave_series_installation\".\n",
      "2016-11-18 03:17:34,917 - DEBUG - aneris.control.data - Retrieving \"farm.wave_series_installation\" data stored with index Q8U1EB from pool\n",
      "2016-11-18 03:17:34,921 - DEBUG - aneris.control.simulation - Retrieving data with identity \"component.rov\".\n",
      "2016-11-18 03:17:34,921 - DEBUG - aneris.control.data - Retrieving \"component.rov\" data stored with index WBJZT3 from pool\n",
      "2016-11-18 03:17:34,927 - DEBUG - aneris.control.simulation - Retrieving data with identity \"component.hammer\".\n",
      "2016-11-18 03:17:34,928 - DEBUG - aneris.control.data - Retrieving \"component.hammer\" data stored with index N4KGDL from pool\n",
      "2016-11-18 03:17:34,930 - DEBUG - aneris.control.simulation - Retrieving data with identity \"component.equipment_penetration_rates\".\n",
      "2016-11-18 03:17:34,934 - DEBUG - aneris.control.data - Retrieving \"component.equipment_penetration_rates\" data stored with index J2T0X6 from pool\n",
      "2016-11-18 03:17:34,937 - DEBUG - aneris.control.simulation - Retrieving data with identity \"corridor.landfall_contruction_technique\".\n",
      "2016-11-18 03:17:34,938 - DEBUG - aneris.control.data - Retrieving \"corridor.landfall_contruction_technique\" data stored with index PWNHRU from pool\n",
      "2016-11-18 03:17:34,951 - DEBUG - aneris.control.simulation - Retrieving data with identity \"farm.umbilical_cable_data\".\n",
      "2016-11-18 03:17:34,953 - DEBUG - aneris.control.data - Retrieving \"farm.umbilical_cable_data\" data stored with index AUBRU4 from pool\n",
      "2016-11-18 03:17:34,957 - DEBUG - aneris.control.simulation - Retrieving data with identity \"component.grout_rate\".\n",
      "2016-11-18 03:17:34,959 - DEBUG - aneris.control.data - Retrieving \"component.grout_rate\" data stored with index PR87V9 from pool\n",
      "2016-11-18 03:17:34,961 - DEBUG - aneris.control.simulation - Retrieving data with identity \"farm.tidal_series_installation\".\n",
      "2016-11-18 03:17:34,963 - DEBUG - aneris.control.data - Retrieving \"farm.tidal_series_installation\" data stored with index BGL08R from pool\n",
      "2016-11-18 03:17:34,964 - DEBUG - aneris.control.simulation - Retrieving data with identity \"component.excavating\".\n",
      "2016-11-18 03:17:34,967 - DEBUG - aneris.control.data - Retrieving \"component.excavating\" data stored with index MCM2H9 from pool\n",
      "2016-11-18 03:17:34,967 - DEBUG - aneris.control.simulation - Retrieving data with identity \"device.installation_limit_Tp\".\n",
      "2016-11-18 03:17:34,970 - DEBUG - aneris.control.data - Retrieving \"device.installation_limit_Tp\" data stored with index AUC9RO from pool\n",
      "2016-11-18 03:17:34,970 - DEBUG - aneris.control.simulation - Retrieving data with identity \"component.cable_burial_safety_factors\".\n",
      "2016-11-18 03:17:34,973 - DEBUG - aneris.control.data - Retrieving \"component.cable_burial_safety_factors\" data stored with index QJ6EY4 from pool\n",
      "2016-11-18 03:17:34,974 - DEBUG - aneris.control.simulation - Retrieving data with identity \"farm.line_data\".\n",
      "2016-11-18 03:17:34,979 - DEBUG - aneris.control.data - Retrieving \"farm.line_data\" data stored with index DFSOX1 from pool\n",
      "umbilical_ends \n",
      "\n",
      "{'device003': <shapely.geometry.point.Point object at 0x00000000116F8278>, 'device002': <shapely.geometry.point.Point object at 0x00000000116F81D0>, 'device001': <shapely.geometry.point.Point object at 0x00000000116F8B70>, 'device007': <shapely.geometry.point.Point object at 0x00000000116F87F0>, 'device006': <shapely.geometry.point.Point object at 0x00000000116F8B38>, 'device005': <shapely.geometry.point.Point object at 0x00000000116F8358>, 'device004': <shapely.geometry.point.Point object at 0x00000000116F8898>, 'device008': <shapely.geometry.point.Point object at 0x00000000116FB7B8>}\n",
      "\n",
      "layout \n",
      "\n",
      "   device [-]  x coord [m]  y coord [m] zone [-]\n",
      "d0  Device003     587700.0    6650550.0     30 U\n",
      "d1  Device002     587850.0    6650700.0     30 U\n",
      "d2  Device001     587850.0    6650550.0     30 U\n",
      "d3  Device007     587750.0    6651750.0     30 U\n",
      "d4  Device006     587900.0    6651500.0     30 U\n",
      "d5  Device005     587750.0    6651500.0     30 U\n",
      "d6  Device004     587700.0    6650700.0     30 U\n",
      "d7  Device008     587900.0    6651750.0     30 U\n",
      "\n",
      "layout lower\n",
      "\n",
      "   device [-]  x coord [m]  y coord [m] zone [-]\n",
      "d0  device003     587700.0    6650550.0     30 U\n",
      "d1  device002     587850.0    6650700.0     30 U\n",
      "d2  device001     587850.0    6650550.0     30 U\n",
      "d3  device007     587750.0    6651750.0     30 U\n",
      "d4  device006     587900.0    6651500.0     30 U\n",
      "d5  device005     587750.0    6651500.0     30 U\n",
      "d6  device004     587700.0    6650700.0     30 U\n",
      "d7  device008     587900.0    6651750.0     30 U\n",
      "device005\n",
      "\n",
      " upstream \n",
      "\n",
      "   device [-]  x coord [m]  y coord [m] zone [-]\n",
      "d5  device005     587750.0    6651500.0     30 U\n",
      "\n",
      " layout \n",
      "\n",
      "   device [-]  x coord [m]  y coord [m] zone [-]\n",
      "d0  device003     587700.0    6650550.0     30 U\n",
      "d1  device002     587850.0    6650700.0     30 U\n",
      "d2  device001     587850.0    6650550.0     30 U\n",
      "d3  device007     587750.0    6651750.0     30 U\n",
      "d4  device006     587900.0    6651500.0     30 U\n",
      "d5  device005     587750.0    6651500.0     30 U\n",
      "d6  device004     587700.0    6650700.0     30 U\n",
      "d7  device008     587900.0    6651750.0     30 U\n",
      "\n",
      " downstream \n",
      "\n",
      "POINT Z (587800 6651550 -50)\n",
      "device006\n",
      "\n",
      " upstream \n",
      "\n",
      "   device [-]  x coord [m]  y coord [m] zone [-]\n",
      "d4  device006     587900.0    6651500.0     30 U\n",
      "\n",
      " layout \n",
      "\n",
      "   device [-]  x coord [m]  y coord [m] zone [-]\n",
      "d0  device003     587700.0    6650550.0     30 U\n",
      "d1  device002     587850.0    6650700.0     30 U\n",
      "d2  device001     587850.0    6650550.0     30 U\n",
      "d3  device007     587750.0    6651750.0     30 U\n",
      "d4  device006     587900.0    6651500.0     30 U\n",
      "d5  device005     587750.0    6651500.0     30 U\n",
      "d6  device004     587700.0    6650700.0     30 U\n",
      "d7  device008     587900.0    6651750.0     30 U\n",
      "\n",
      " downstream \n",
      "\n",
      "POINT Z (587850 6651550 -50)\n",
      "device007\n",
      "\n",
      " upstream \n",
      "\n",
      "   device [-]  x coord [m]  y coord [m] zone [-]\n",
      "d3  device007     587750.0    6651750.0     30 U\n",
      "\n",
      " layout \n",
      "\n",
      "   device [-]  x coord [m]  y coord [m] zone [-]\n",
      "d0  device003     587700.0    6650550.0     30 U\n",
      "d1  device002     587850.0    6650700.0     30 U\n",
      "d2  device001     587850.0    6650550.0     30 U\n",
      "d3  device007     587750.0    6651750.0     30 U\n",
      "d4  device006     587900.0    6651500.0     30 U\n",
      "d5  device005     587750.0    6651500.0     30 U\n",
      "d6  device004     587700.0    6650700.0     30 U\n",
      "d7  device008     587900.0    6651750.0     30 U\n",
      "\n",
      " downstream \n",
      "\n",
      "POINT Z (587800 6651700 -50)\n",
      "device008\n",
      "\n",
      " upstream \n",
      "\n",
      "   device [-]  x coord [m]  y coord [m] zone [-]\n",
      "d7  device008     587900.0    6651750.0     30 U\n",
      "\n",
      " layout \n",
      "\n",
      "   device [-]  x coord [m]  y coord [m] zone [-]\n",
      "d0  device003     587700.0    6650550.0     30 U\n",
      "d1  device002     587850.0    6650700.0     30 U\n",
      "d2  device001     587850.0    6650550.0     30 U\n",
      "d3  device007     587750.0    6651750.0     30 U\n",
      "d4  device006     587900.0    6651500.0     30 U\n",
      "d5  device005     587750.0    6651500.0     30 U\n",
      "d6  device004     587700.0    6650700.0     30 U\n",
      "d7  device008     587900.0    6651750.0     30 U\n",
      "\n",
      " downstream \n",
      "\n",
      "POINT Z (587850 6651700 -50)\n",
      "device001\n",
      "\n",
      " upstream \n",
      "\n",
      "   device [-]  x coord [m]  y coord [m] zone [-]\n",
      "d2  device001     587850.0    6650550.0     30 U\n",
      "\n",
      " layout \n",
      "\n",
      "   device [-]  x coord [m]  y coord [m] zone [-]\n",
      "d0  device003     587700.0    6650550.0     30 U\n",
      "d1  device002     587850.0    6650700.0     30 U\n",
      "d2  device001     587850.0    6650550.0     30 U\n",
      "d3  device007     587750.0    6651750.0     30 U\n",
      "d4  device006     587900.0    6651500.0     30 U\n",
      "d5  device005     587750.0    6651500.0     30 U\n",
      "d6  device004     587700.0    6650700.0     30 U\n",
      "d7  device008     587900.0    6651750.0     30 U\n",
      "\n",
      " downstream \n",
      "\n",
      "POINT Z (587700 6650630 -50)\n",
      "device002\n",
      "\n",
      " upstream \n",
      "\n",
      "   device [-]  x coord [m]  y coord [m] zone [-]\n",
      "d1  device002     587850.0    6650700.0     30 U\n",
      "\n",
      " layout \n",
      "\n",
      "   device [-]  x coord [m]  y coord [m] zone [-]\n",
      "d0  device003     587700.0    6650550.0     30 U\n",
      "d1  device002     587850.0    6650700.0     30 U\n",
      "d2  device001     587850.0    6650550.0     30 U\n",
      "d3  device007     587750.0    6651750.0     30 U\n",
      "d4  device006     587900.0    6651500.0     30 U\n",
      "d5  device005     587750.0    6651500.0     30 U\n",
      "d6  device004     587700.0    6650700.0     30 U\n",
      "d7  device008     587900.0    6651750.0     30 U\n",
      "\n",
      " downstream \n",
      "\n",
      "POINT Z (587700 6650730 -50)\n",
      "device003\n",
      "\n",
      " upstream \n",
      "\n",
      "   device [-]  x coord [m]  y coord [m] zone [-]\n",
      "d0  device003     587700.0    6650550.0     30 U\n",
      "\n",
      " layout \n",
      "\n",
      "   device [-]  x coord [m]  y coord [m] zone [-]\n",
      "d0  device003     587700.0    6650550.0     30 U\n",
      "d1  device002     587850.0    6650700.0     30 U\n",
      "d2  device001     587850.0    6650550.0     30 U\n",
      "d3  device007     587750.0    6651750.0     30 U\n",
      "d4  device006     587900.0    6651500.0     30 U\n",
      "d5  device005     587750.0    6651500.0     30 U\n",
      "d6  device004     587700.0    6650700.0     30 U\n",
      "d7  device008     587900.0    6651750.0     30 U\n",
      "\n",
      " downstream \n",
      "\n",
      "POINT Z (587600 6650630 -50)\n",
      "device004\n",
      "\n",
      " upstream \n",
      "\n",
      "   device [-]  x coord [m]  y coord [m] zone [-]\n",
      "d6  device004     587700.0    6650700.0     30 U\n",
      "\n",
      " layout \n",
      "\n",
      "   device [-]  x coord [m]  y coord [m] zone [-]\n",
      "d0  device003     587700.0    6650550.0     30 U\n",
      "d1  device002     587850.0    6650700.0     30 U\n",
      "d2  device001     587850.0    6650550.0     30 U\n",
      "d3  device007     587750.0    6651750.0     30 U\n",
      "d4  device006     587900.0    6651500.0     30 U\n",
      "d5  device005     587750.0    6651500.0     30 U\n",
      "d6  device004     587700.0    6650700.0     30 U\n",
      "d7  device008     587900.0    6651750.0     30 U\n",
      "\n",
      " downstream \n",
      "\n",
      "POINT Z (587600 6650730 -50)\n"
     ]
    },
    {
     "name": "stderr",
     "output_type": "stream",
     "text": [
      "C:\\Users\\acollin\\AppData\\Local\\Continuum\\Anaconda\\envs\\dtocean_int\\lib\\site-packages\\dtocean_logistics-0.2.1.dev0-py2.7.egg\\dtocean_logistics\\performance\\schedule\\schedule_ins.py:211: UserWarning: Be aware that the maximum peak period to be satisfied for this marine operation is very restrictive (Tp < 8 s)\n",
      "  wn.warn('Be aware that the maximum peak period to be satisfied for this marine operation is very restrictive (Tp < 8 s)')\n",
      "C:\\Users\\acollin\\AppData\\Local\\Continuum\\Anaconda\\envs\\dtocean_int\\lib\\site-packages\\dtocean_logistics-0.2.1.dev0-py2.7.egg\\dtocean_logistics\\performance\\schedule\\schedule_ins.py:213: UserWarning: Be aware that the maximum wind speed to be satisfied for this marine operation is very restrictive (Ws < 5 m/s)\n",
      "  wn.warn('Be aware that the maximum wind speed to be satisfied for this marine operation is very restrictive (Ws < 5 m/s)')\n",
      "C:\\Users\\acollin\\AppData\\Local\\Continuum\\Anaconda\\envs\\dtocean_int\\lib\\site-packages\\dtocean_logistics-0.2.1.dev0-py2.7.egg\\dtocean_logistics\\performance\\economic\\eco.py:138: UserWarning: Lack of information on vessel fuel consumption, fuel cost not considered!\n",
      "  wn.warn('Lack of information on vessel fuel consumption, fuel cost not considered!')\n"
     ]
    },
    {
     "name": "stdout",
     "output_type": "stream",
     "text": [
      "['Installation of static array cables', 'Installation of support structure', 'Installation of collection point (seabed)', 'Installation of dynamic cables', 'Installation of devices', 'Installation of static export cables']\n",
      "2016-11-18 03:17:59,788 - DEBUG - aneris.control.data - DataState with level \"installation output\" created\n",
      "2016-11-18 03:17:59,789 - INFO - aneris.control.data - New \"project.installation_completion_date\" data stored with index ZBHSH8\n",
      "2016-11-18 03:17:59,790 - INFO - aneris.control.data - New \"farm.port\" data stored with index PA2C3M\n",
      "2016-11-18 03:17:59,793 - INFO - aneris.control.data - New \"farm.port_distance\" data stored with index TC6JUI\n",
      "2016-11-18 03:17:59,795 - INFO - aneris.control.data - New \"farm.installation_journeys\" data stored with index MJCBEL\n",
      "2016-11-18 03:17:59,798 - INFO - aneris.control.data - New \"farm.installation_vessel_average_size\" data stored with index PNDS3P\n",
      "2016-11-18 03:17:59,801 - INFO - aneris.control.data - New \"farm.device_phase_installation_costs\" data stored with index 250GND\n",
      "2016-11-18 03:17:59,802 - INFO - aneris.control.data - New \"farm.device_phase_installation_cost_breakdown\" data stored with index 1F7RWU\n",
      "2016-11-18 03:17:59,802 - INFO - aneris.control.data - New \"farm.device_phase_cost_class_breakdown\" data stored with index 2YL5HI\n",
      "2016-11-18 03:17:59,805 - INFO - aneris.control.data - New \"farm.device_phase_installation_times\" data stored with index KA6MKI\n",
      "2016-11-18 03:17:59,808 - INFO - aneris.control.data - New \"farm.device_phase_installation_time_breakdown\" data stored with index T90X56\n",
      "2016-11-18 03:17:59,809 - INFO - aneris.control.data - New \"farm.device_phase_time_class_breakdown\" data stored with index 5V9N8M\n",
      "2016-11-18 03:17:59,812 - INFO - aneris.control.data - New \"farm.electrical_phase_installation_costs\" data stored with index SV1HYT\n",
      "2016-11-18 03:17:59,812 - INFO - aneris.control.data - New \"farm.electrical_phase_installation_cost_breakdown\" data stored with index BV8PNP\n",
      "2016-11-18 03:17:59,813 - INFO - aneris.control.data - New \"farm.electrical_phase_cost_class_breakdown\" data stored with index 66LNUN\n",
      "2016-11-18 03:17:59,816 - INFO - aneris.control.data - New \"farm.electrical_phase_installation_times\" data stored with index Q6S1AR\n",
      "2016-11-18 03:17:59,819 - INFO - aneris.control.data - New \"farm.electrical_phase_installation_time_breakdown\" data stored with index 9HG6GH\n",
      "2016-11-18 03:17:59,819 - INFO - aneris.control.data - New \"farm.electrical_phase_time_class_breakdown\" data stored with index XOPWJN\n",
      "2016-11-18 03:17:59,822 - INFO - aneris.control.data - New \"farm.installation_phase_cost_breakdown\" data stored with index R5BOLR\n",
      "2016-11-18 03:17:59,823 - INFO - aneris.control.data - New \"farm.installation_cost_class_breakdown\" data stored with index UKCKJ9\n",
      "2016-11-18 03:17:59,825 - INFO - aneris.control.data - New \"farm.total_installation_cost\" data stored with index CTR3SE\n",
      "2016-11-18 03:17:59,826 - INFO - aneris.control.data - New \"farm.installation_phase_time_breakdown\" data stored with index QFK1X2\n",
      "2016-11-18 03:17:59,828 - INFO - aneris.control.data - New \"farm.installation_time_class_breakdown\" data stored with index X0QX3V\n",
      "2016-11-18 03:17:59,829 - INFO - aneris.control.data - New \"farm.total_installation_time\" data stored with index DVA8H5\n",
      "2016-11-18 03:17:59,832 - INFO - aneris.control.data - New \"farm.installation_economics_data\" data stored with index E6UL27\n",
      "2016-11-18 03:17:59,834 - INFO - aneris.control.simulation - Datastate with level \"installation output\" stored\n",
      "2016-11-18 03:17:59,835 - DEBUG - aneris.control.simulation - Merging active DataStates.\n",
      "2016-11-18 03:17:59,836 - DEBUG - aneris.control.simulation - Getting output status for interface \"System Type Selection\".\n",
      "2016-11-18 03:17:59,838 - DEBUG - aneris.control.simulation - Getting output status for interface \"Installation\".\n",
      "2016-11-18 03:17:59,841 - DEBUG - aneris.control.simulation - Getting input status for interface \"System Type Selection\".\n",
      "2016-11-18 03:17:59,842 - DEBUG - aneris.control.simulation - Getting input status for interface \"Installation\".\n",
      "2016-11-18 03:17:59,845 - DEBUG - dtocean_core.core - Setting execution level to installation output\n"
     ]
    }
   ],
   "source": [
    "module_menu.execute_current(new_core, new_project)"
   ]
  },
  {
   "cell_type": "markdown",
   "metadata": {},
   "source": [
    "## Examine the results"
   ]
  },
  {
   "cell_type": "code",
   "execution_count": 21,
   "metadata": {
    "collapsed": false
   },
   "outputs": [
    {
     "name": "stdout",
     "output_type": "stream",
     "text": [
      "2016-11-18 03:17:59,854 - DEBUG - aneris.control.simulation - Retrieving data with identity \"farm.installation_economics_data\".\n",
      "2016-11-18 03:17:59,855 - DEBUG - aneris.control.data - Retrieving \"farm.installation_economics_data\" data stored with index E6UL27 from pool\n"
     ]
    },
    {
     "data": {
      "text/html": [
       "<p><b>Installation Bill of Materials:</b> <i>           Key Identifier          Cost  Quantity  Year\n",
       "0  Electrical Sub-Systems  1.117414e+07         1     0\n",
       "1             Contingency  1.829023e+06         1     0\n",
       "2                 Devices  7.116089e+06         1     0</i> (None)</p>"
      ],
      "text/plain": [
       "<IPython.core.display.HTML object>"
      ]
     },
     "execution_count": 21,
     "metadata": {},
     "output_type": "execute_result"
    }
   ],
   "source": [
    "farm_annual_energy = new_core.get_data_value(new_project, \"farm.installation_economics_data\")\n",
    "meta = new_core.get_metadata(\"farm.installation_economics_data\")\n",
    "name = meta.title\n",
    "value = farm_annual_energy\n",
    "units = meta.units[0]\n",
    "message = \"<p><b>{}:</b> <i>{}</i> ({})</p>\".format(name, value, units)\n",
    "\n",
    "HTML(message)"
   ]
  },
  {
   "cell_type": "code",
   "execution_count": 22,
   "metadata": {
    "collapsed": false
   },
   "outputs": [
    {
     "name": "stdout",
     "output_type": "stream",
     "text": [
      "2016-11-18 03:17:59,924 - DEBUG - aneris.control.simulation - Retrieving data with identity \"farm.electrical_phase_installation_costs\".\n",
      "2016-11-18 03:17:59,927 - DEBUG - aneris.control.data - Retrieving \"farm.electrical_phase_installation_costs\" data stored with index SV1HYT from pool\n"
     ]
    },
    {
     "data": {
      "text/html": [
       "<div>\n",
       "<table border=\"1\" class=\"dataframe\">\n",
       "  <thead>\n",
       "    <tr style=\"text-align: right;\">\n",
       "      <th></th>\n",
       "      <th>Equipment</th>\n",
       "      <th>Port</th>\n",
       "      <th>Vessel</th>\n",
       "    </tr>\n",
       "    <tr>\n",
       "      <th>Component</th>\n",
       "      <th></th>\n",
       "      <th></th>\n",
       "      <th></th>\n",
       "    </tr>\n",
       "  </thead>\n",
       "  <tbody>\n",
       "    <tr>\n",
       "      <th>Dynamic Cables</th>\n",
       "      <td>947037.842102</td>\n",
       "      <td>661133.668067</td>\n",
       "      <td>5.003165e+06</td>\n",
       "    </tr>\n",
       "    <tr>\n",
       "      <th>Export Cables</th>\n",
       "      <td>324886.874539</td>\n",
       "      <td>175630.787093</td>\n",
       "      <td>1.255790e+06</td>\n",
       "    </tr>\n",
       "    <tr>\n",
       "      <th>Inter-Array Cables</th>\n",
       "      <td>385295.675487</td>\n",
       "      <td>211769.197911</td>\n",
       "      <td>1.520627e+06</td>\n",
       "    </tr>\n",
       "    <tr>\n",
       "      <th>Collection Points</th>\n",
       "      <td>97643.330165</td>\n",
       "      <td>68880.187901</td>\n",
       "      <td>5.222784e+05</td>\n",
       "    </tr>\n",
       "  </tbody>\n",
       "</table>\n",
       "</div>"
      ],
      "text/plain": [
       "                        Equipment           Port        Vessel\n",
       "Component                                                     \n",
       "Dynamic Cables      947037.842102  661133.668067  5.003165e+06\n",
       "Export Cables       324886.874539  175630.787093  1.255790e+06\n",
       "Inter-Array Cables  385295.675487  211769.197911  1.520627e+06\n",
       "Collection Points    97643.330165   68880.187901  5.222784e+05"
      ]
     },
     "execution_count": 22,
     "metadata": {},
     "output_type": "execute_result"
    }
   ],
   "source": [
    "number_of_journeys = new_core.get_data_value(new_project, \"farm.electrical_phase_installation_costs\")\n",
    "number_of_journeys"
   ]
  },
  {
   "cell_type": "code",
   "execution_count": null,
   "metadata": {
    "collapsed": true
   },
   "outputs": [],
   "source": []
  }
 ],
 "metadata": {
  "kernelspec": {
   "display_name": "Python 2",
   "language": "python",
   "name": "python2"
  },
  "language_info": {
   "codemirror_mode": {
    "name": "ipython",
    "version": 2
   },
   "file_extension": ".py",
   "mimetype": "text/x-python",
   "name": "python",
   "nbconvert_exporter": "python",
   "pygments_lexer": "ipython2",
   "version": "2.7.12"
  }
 },
 "nbformat": 4,
 "nbformat_minor": 0
}
