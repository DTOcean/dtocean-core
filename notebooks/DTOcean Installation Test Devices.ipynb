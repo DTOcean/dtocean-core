{
 "cells": [
  {
   "cell_type": "markdown",
   "metadata": {},
   "source": [
    "# DTOcean Installation Module Test"
   ]
  },
  {
   "cell_type": "code",
   "execution_count": 1,
   "metadata": {
    "collapsed": true
   },
   "outputs": [],
   "source": [
    "%matplotlib inline"
   ]
  },
  {
   "cell_type": "code",
   "execution_count": 2,
   "metadata": {
    "collapsed": true
   },
   "outputs": [],
   "source": [
    "from IPython.display import display, HTML"
   ]
  },
  {
   "cell_type": "code",
   "execution_count": 3,
   "metadata": {
    "collapsed": false
   },
   "outputs": [],
   "source": [
    "import matplotlib.pyplot as plt\n",
    "plt.rcParams['figure.figsize'] = (14.0, 8.0)"
   ]
  },
  {
   "cell_type": "code",
   "execution_count": 4,
   "metadata": {
    "collapsed": true
   },
   "outputs": [],
   "source": [
    "import numpy as np"
   ]
  },
  {
   "cell_type": "code",
   "execution_count": 5,
   "metadata": {
    "collapsed": false
   },
   "outputs": [],
   "source": [
    "from dtocean_core import start_logging\n",
    "from dtocean_core.core import Core\n",
    "from dtocean_core.menu import ModuleMenu, ProjectMenu\n",
    "from dtocean_core.pipeline import Tree"
   ]
  },
  {
   "cell_type": "code",
   "execution_count": 6,
   "metadata": {
    "collapsed": true
   },
   "outputs": [],
   "source": [
    "def html_list(x):\n",
    "    message = \"<ul>\"\n",
    "    for name in x:\n",
    "        message += \"<li>{}</li>\".format(name)\n",
    "    message += \"</ul>\"\n",
    "    return message\n",
    "def html_dict(x):\n",
    "    message = \"<ul>\"\n",
    "    for name, status in x.iteritems():\n",
    "        message += \"<li>{}: <b>{}</b></li>\".format(name, status)\n",
    "    message += \"</ul>\"\n",
    "    return message"
   ]
  },
  {
   "cell_type": "code",
   "execution_count": 7,
   "metadata": {
    "collapsed": false
   },
   "outputs": [
    {
     "name": "stdout",
     "output_type": "stream",
     "text": [
      "2016-11-08 08:01:08,028 - INFO - dtocean_core - Begin logging for dtocean_core.\n"
     ]
    }
   ],
   "source": [
    "# Bring up the logger\n",
    "start_logging()"
   ]
  },
  {
   "cell_type": "markdown",
   "metadata": {},
   "source": [
    "## Create the core, menus and pipeline tree\n",
    "\n",
    "The core object carrys all the system information and is operated on by the other classes"
   ]
  },
  {
   "cell_type": "code",
   "execution_count": 8,
   "metadata": {
    "collapsed": false
   },
   "outputs": [
    {
     "name": "stdout",
     "output_type": "stream",
     "text": [
      "2016-11-08 08:01:13,696 - DEBUG - aneris.control.data - Searching for Structure classes\n",
      "2016-11-08 08:01:14,177 - DEBUG - aneris.control.sockets - Searching for ProjectInterface classes\n",
      "2016-11-08 08:01:14,611 - DEBUG - aneris.control.sockets - Searching for ModuleInterface classes\n",
      "2016-11-08 08:01:17,252 - DEBUG - aneris.control.sockets - Searching for ThemeInterface classes\n",
      "2016-11-08 08:01:17,342 - DEBUG - aneris.control.sockets - Searching for FileInputInterface classes\n",
      "2016-11-08 08:01:17,344 - DEBUG - aneris.control.sockets - Searching for FileOutputInterface classes\n",
      "2016-11-08 08:01:17,346 - DEBUG - aneris.control.sockets - Searching for QueryInterface classes\n",
      "2016-11-08 08:01:17,359 - DEBUG - aneris.control.sockets - Searching for RawInterface classes\n",
      "2016-11-08 08:01:17,361 - DEBUG - aneris.control.sockets - Searching for PlotInterface classes\n"
     ]
    }
   ],
   "source": [
    "new_core = Core()\n",
    "project_menu = ProjectMenu()\n",
    "module_menu = ModuleMenu()\n",
    "pipe_tree = Tree()"
   ]
  },
  {
   "cell_type": "markdown",
   "metadata": {},
   "source": [
    "## Create a new project"
   ]
  },
  {
   "cell_type": "code",
   "execution_count": 9,
   "metadata": {
    "collapsed": false
   },
   "outputs": [
    {
     "name": "stdout",
     "output_type": "stream",
     "text": [
      "2016-11-08 08:01:18,098 - INFO - aneris.entity.simulation - Created new Simulation with title \"Default\"\n",
      "2016-11-08 08:01:18,099 - DEBUG - dtocean_core.core - Setting execution level to initial\n",
      "2016-11-08 08:01:18,101 - DEBUG - dtocean_core.core - Setting inspection level to initial\n",
      "2016-11-08 08:01:18,101 - DEBUG - aneris.control.data - DataState with level \"initial\" created\n",
      "2016-11-08 08:01:18,104 - INFO - aneris.control.simulation - Datastate with level \"initial\" stored\n",
      "2016-11-08 08:01:18,105 - DEBUG - aneris.control.simulation - Merging active DataStates.\n",
      "2016-11-08 08:01:18,105 - INFO - aneris.control.pipeline - New Hub created for interface ProjectInterface.\n",
      "2016-11-08 08:01:18,108 - DEBUG - aneris.control.simulation - Getting output status for interface \"System Type Selection\".\n",
      "2016-11-08 08:01:18,111 - DEBUG - aneris.control.simulation - Getting input status for interface \"System Type Selection\".\n"
     ]
    }
   ],
   "source": [
    "project_title = \"DTOcean\"  \n",
    "new_project = project_menu.new_project(new_core, project_title)"
   ]
  },
  {
   "cell_type": "markdown",
   "metadata": {},
   "source": [
    "## Set the device type"
   ]
  },
  {
   "cell_type": "code",
   "execution_count": 10,
   "metadata": {
    "collapsed": false
   },
   "outputs": [
    {
     "name": "stdout",
     "output_type": "stream",
     "text": [
      "2016-11-08 08:01:18,134 - DEBUG - dtocean_core.pipeline - Reading variables device.system_type\n",
      "2016-11-08 08:01:18,138 - DEBUG - aneris.control.data - DataState created\n",
      "2016-11-08 08:01:18,141 - INFO - aneris.control.data - New \"device.system_type\" data stored with index QQLAUX\n",
      "2016-11-08 08:01:18,141 - INFO - aneris.control.simulation - Datastate stored\n",
      "2016-11-08 08:01:18,142 - DEBUG - aneris.control.simulation - Merging active DataStates.\n",
      "2016-11-08 08:01:18,145 - DEBUG - aneris.control.simulation - Getting output status for interface \"System Type Selection\".\n",
      "2016-11-08 08:01:18,148 - DEBUG - aneris.control.simulation - Getting input status for interface \"System Type Selection\".\n"
     ]
    }
   ],
   "source": [
    "options_branch = pipe_tree.get_branch(new_core, new_project, \"System Type Selection\")\n",
    "variable_id = \"device.system_type\"\n",
    "my_var = options_branch.get_input_variable(new_core, new_project, variable_id)\n",
    "my_var.set_raw_interface(new_core, \"Tidal Fixed\")\n",
    "my_var.read(new_core, new_project)"
   ]
  },
  {
   "cell_type": "markdown",
   "metadata": {},
   "source": [
    "## Initiate the pipeline\n",
    "This step will be important when the database is incorporated into the system as it will effect the operation of the pipeline."
   ]
  },
  {
   "cell_type": "code",
   "execution_count": 11,
   "metadata": {
    "collapsed": false
   },
   "outputs": [
    {
     "name": "stdout",
     "output_type": "stream",
     "text": [
      "2016-11-08 08:01:18,161 - DEBUG - dtocean_core.core - Setting inspection level to system type selection start\n",
      "2016-11-08 08:01:18,164 - DEBUG - aneris.control.data - DataState with level \"system type selection start\" created\n",
      "2016-11-08 08:01:18,164 - INFO - aneris.control.simulation - Datastate with level \"system type selection start\" stored\n",
      "2016-11-08 08:01:18,167 - DEBUG - aneris.control.simulation - Merging active DataStates.\n",
      "2016-11-08 08:01:18,171 - DEBUG - aneris.control.simulation - Retrieving data with identity \"device.system_type\".\n",
      "2016-11-08 08:01:18,171 - DEBUG - aneris.control.data - Retrieving \"device.system_type\" data stored with index QQLAUX from pool\n",
      "2016-11-08 08:01:18,196 - DEBUG - aneris.control.data - DataState with level \"system type selection output\" created\n",
      "2016-11-08 08:01:18,198 - INFO - aneris.control.data - New \"hidden.pipeline_active\" data stored with index ERPX0S\n",
      "2016-11-08 08:01:18,200 - INFO - aneris.control.simulation - Datastate with level \"system type selection output\" stored\n",
      "2016-11-08 08:01:18,206 - DEBUG - aneris.control.simulation - Merging active DataStates.\n",
      "2016-11-08 08:01:18,207 - DEBUG - aneris.control.simulation - Getting output status for interface \"System Type Selection\".\n",
      "2016-11-08 08:01:18,210 - DEBUG - aneris.control.simulation - Getting input status for interface \"System Type Selection\".\n",
      "2016-11-08 08:01:18,211 - DEBUG - dtocean_core.core - Setting execution level to system type selection output\n",
      "2016-11-08 08:01:18,213 - INFO - aneris.control.pipeline - New Pipeline created for interface ModuleInterface.\n",
      "2016-11-08 08:01:18,213 - INFO - aneris.control.pipeline - New Hub created for interface ThemeInterface.\n"
     ]
    }
   ],
   "source": [
    "project_menu.initiate_pipeline(new_core, new_project)"
   ]
  },
  {
   "cell_type": "markdown",
   "metadata": {},
   "source": [
    "## Discover available modules"
   ]
  },
  {
   "cell_type": "code",
   "execution_count": 12,
   "metadata": {
    "collapsed": false
   },
   "outputs": [
    {
     "data": {
      "text/html": [
       "<ul><li>Hydrodynamics</li><li>Electrical Sub-Systems</li><li>Mooring and Foundations</li><li>Installation</li></ul>"
      ],
      "text/plain": [
       "<IPython.core.display.HTML object>"
      ]
     },
     "execution_count": 12,
     "metadata": {},
     "output_type": "execute_result"
    }
   ],
   "source": [
    "names = module_menu.get_available(new_core, new_project)\n",
    "message = html_list(names)\n",
    "HTML(message)"
   ]
  },
  {
   "cell_type": "markdown",
   "metadata": {},
   "source": [
    "## Activate a module\n",
    "\n",
    "Note that the order of activation is important and that we can't deactivate yet!"
   ]
  },
  {
   "cell_type": "code",
   "execution_count": 13,
   "metadata": {
    "collapsed": false
   },
   "outputs": [
    {
     "name": "stdout",
     "output_type": "stream",
     "text": [
      "2016-11-08 08:01:18,262 - DEBUG - aneris.control.simulation - Getting output status for interface \"System Type Selection\".\n",
      "2016-11-08 08:01:18,263 - DEBUG - aneris.control.simulation - Getting output status for interface \"Installation\".\n",
      "2016-11-08 08:01:18,266 - DEBUG - aneris.control.simulation - Getting input status for interface \"System Type Selection\".\n",
      "2016-11-08 08:01:18,269 - DEBUG - aneris.control.simulation - Getting input status for interface \"Installation\".\n"
     ]
    }
   ],
   "source": [
    "module_name = 'Installation'\n",
    "module_menu.activate(new_core, new_project, module_name)"
   ]
  },
  {
   "cell_type": "markdown",
   "metadata": {},
   "source": [
    "## Check the status of the module inputs"
   ]
  },
  {
   "cell_type": "code",
   "execution_count": 14,
   "metadata": {
    "collapsed": false
   },
   "outputs": [
    {
     "data": {
      "text/html": [
       "<ul><li>device.transportation_method: <b>required</b></li><li>component.collection_points: <b>optional</b></li><li>component.rov: <b>required</b></li><li>farm.comissioning_time: <b>required</b></li><li>farm.wind_series_installation: <b>required</b></li><li>device.disconnect_duration: <b>required</b></li><li>component.ports: <b>required</b></li><li>device.system_height: <b>required</b></li><li>farm.substation_props: <b>optional</b></li><li>farm.umbilical_seabed_connection: <b>optional</b></li><li>device.bollard_pull: <b>required</b></li><li>project.start_date: <b>required</b></li><li>component.static_cable: <b>optional</b></li><li>device.connect_duration: <b>required</b></li><li>device.system_mass: <b>required</b></li><li>component.transformers: <b>optional</b></li><li>device.load_out_method: <b>required</b></li><li>component.drilling_rigs: <b>required</b></li><li>component.equipment_safety_factors: <b>required</b></li><li>device.system_width: <b>required</b></li><li>site.projection: <b>required</b></li><li>component.vessel_safety_factors: <b>required</b></li><li>farm.wave_series_installation: <b>required</b></li><li>farm.cable_routes: <b>optional</b></li><li>device.installation_limit_Cs: <b>required</b></li><li>farm.foundations_component_data: <b>optional</b></li><li>farm.entry_point: <b>required</b></li><li>component.loading_rate: <b>required</b></li><li>farm.moorings_component_data: <b>optional</b></li><li>device.installation_limit_Hs: <b>required</b></li><li>device.system_length: <b>required</b></li><li>component.installation_soil_compatibility: <b>required</b></li><li>farm.foundations_soil_data: <b>optional</b></li><li>installation_delete.landfall: <b>required</b></li><li>component.hammer: <b>required</b></li><li>farm.cost_contingency: <b>required</b></li><li>component.grout_rate: <b>required</b></li><li>farm.tidal_series_installation: <b>required</b></li><li>component.excavating: <b>required</b></li><li>device.installation_limit_Tp: <b>required</b></li><li>component.power_quality: <b>optional</b></li><li>component.surface_laying_rate: <b>required</b></li><li>component.switchgear: <b>optional</b></li><li>component.fuel_cost_rate: <b>required</b></li><li>device.sub_systems_installation: <b>required</b></li><li>component.port_safety_factors: <b>required</b></li><li>farm.port_percentage_cost: <b>required</b></li><li>component.vessels: <b>required</b></li><li>farm.moorings_foundations_network: <b>optional</b></li><li>component.split_pipe_laying_rate: <b>required</b></li><li>farm.layout: <b>required</b></li><li>farm.electrical_network: <b>optional</b></li><li>component.dynamic_cable: <b>optional</b></li><li>component.equipment_penetration_rates: <b>required</b></li><li>component.mattress_installation: <b>required</b></li><li>component.vibro_driver: <b>required</b></li><li>component.dry_mate_connectors: <b>optional</b></li><li>device.assembly_duration: <b>required</b></li><li>device.installation_limit_Ws: <b>required</b></li><li>farm.installation_order: <b>required</b></li><li>farm.line_data: <b>optional</b></li><li>device.system_type: <b>satisfied</b></li><li>component.split_pipes_installation: <b>required</b></li><li>component.cable_burial: <b>required</b></li><li>component.wet_mate_connectors: <b>optional</b></li><li>bathymetry.layers: <b>required</b></li><li>component.rock_bags_installation: <b>required</b></li><li>component.divers: <b>required</b></li><li>farm.electrical_component_data: <b>optional</b></li><li>farm.umbilical_cable_data: <b>optional</b></li></ul>"
      ],
      "text/plain": [
       "<IPython.core.display.HTML object>"
      ]
     },
     "execution_count": 14,
     "metadata": {},
     "output_type": "execute_result"
    }
   ],
   "source": [
    "installation_branch = pipe_tree.get_branch(new_core, new_project, 'Installation')\n",
    "input_status = installation_branch.get_input_status(new_core, new_project)\n",
    "message = html_dict(input_status)\n",
    "HTML(message)"
   ]
  },
  {
   "cell_type": "markdown",
   "metadata": {},
   "source": [
    "## Initiate the dataflow\n",
    "This indicates that the filtering and module / theme selections are complete"
   ]
  },
  {
   "cell_type": "code",
   "execution_count": null,
   "metadata": {
    "collapsed": false
   },
   "outputs": [
    {
     "name": "stdout",
     "output_type": "stream",
     "text": [
      "2016-11-08 08:01:18,335 - DEBUG - aneris.control.data - DataState created\n",
      "2016-11-08 08:01:18,338 - INFO - aneris.control.data - New \"hidden.dataflow_active\" data stored with index 73UP6J\n",
      "2016-11-08 08:01:18,338 - INFO - aneris.control.simulation - Datastate stored\n",
      "2016-11-08 08:01:18,342 - DEBUG - aneris.control.simulation - Merging active DataStates.\n",
      "2016-11-08 08:01:18,344 - DEBUG - aneris.control.simulation - Getting output status for interface \"System Type Selection\".\n",
      "2016-11-08 08:01:18,345 - DEBUG - aneris.control.simulation - Getting output status for interface \"Installation\".\n",
      "2016-11-08 08:01:18,348 - DEBUG - aneris.control.simulation - Getting input status for interface \"System Type Selection\".\n",
      "2016-11-08 08:01:18,349 - DEBUG - aneris.control.simulation - Getting input status for interface \"Installation\".\n",
      "2016-11-08 08:01:18,355 - DEBUG - aneris.control.data - DataState with level \"modules initial\" created\n",
      "2016-11-08 08:01:18,357 - INFO - aneris.control.simulation - Datastate with level \"modules initial\" stored\n",
      "2016-11-08 08:01:18,358 - DEBUG - aneris.control.simulation - Merging active DataStates.\n"
     ]
    }
   ],
   "source": [
    "project_menu.initiate_dataflow(new_core, new_project)"
   ]
  },
  {
   "cell_type": "markdown",
   "metadata": {},
   "source": [
    "## Load test data"
   ]
  },
  {
   "cell_type": "markdown",
   "metadata": {},
   "source": [
    "Prepare the test data for loading. The files required can be found in the test_data directory of the source code and should be copied to the directory that the notebook is running. When the python file is run a pickle file is generated containing a dictionary of inputs."
   ]
  },
  {
   "cell_type": "code",
   "execution_count": null,
   "metadata": {
    "collapsed": false
   },
   "outputs": [],
   "source": [
    "%run inputs_wp5_device_aegir.py"
   ]
  },
  {
   "cell_type": "code",
   "execution_count": null,
   "metadata": {
    "collapsed": false
   },
   "outputs": [],
   "source": [
    "installation_branch.read_test_data(new_core,\n",
    "                                    new_project,\n",
    "                                    \"inputs_wp5_device_aegir.pkl\")"
   ]
  },
  {
   "cell_type": "markdown",
   "metadata": {},
   "source": [
    "## Check if the module can be executed"
   ]
  },
  {
   "cell_type": "code",
   "execution_count": null,
   "metadata": {
    "collapsed": false
   },
   "outputs": [],
   "source": [
    "can_execute = module_menu.is_executable(new_core, new_project, module_name)\n",
    "display(can_execute)"
   ]
  },
  {
   "cell_type": "code",
   "execution_count": null,
   "metadata": {
    "collapsed": false
   },
   "outputs": [],
   "source": [
    "input_status = installation_branch.get_input_status(new_core, new_project)\n",
    "message = html_dict(input_status)\n",
    "HTML(message)"
   ]
  },
  {
   "cell_type": "markdown",
   "metadata": {},
   "source": [
    "## Execute the current module\n",
    "\n",
    "The \"current\" module refers to the next module to be executed in the chain (pipeline) of modules. This command will only execute that module and another will be used for executing all of the modules at once.\n",
    "\n",
    "Note, any data supplied by the module will be automatically copied into the active data state."
   ]
  },
  {
   "cell_type": "code",
   "execution_count": null,
   "metadata": {
    "collapsed": false,
    "scrolled": true
   },
   "outputs": [],
   "source": [
    "module_menu.execute_current(new_core, new_project)"
   ]
  },
  {
   "cell_type": "markdown",
   "metadata": {},
   "source": [
    "## Examine the results\n",
    "\n",
    "Currently, there is no robustness built into the core, so the assumption is that the module executed successfully. This will have to be improved towards deployment of the final software.\n",
    "\n",
    "Let's check the updated annual output of the farm, using just information in the data object."
   ]
  },
  {
   "cell_type": "code",
   "execution_count": null,
   "metadata": {
    "collapsed": false
   },
   "outputs": [],
   "source": [
    "farm_annual_energy = new_core.get_data_value(new_project, \"farm.installation_economics_data\")\n",
    "meta = new_core.get_metadata(\"farm.installation_economics_data\")\n",
    "name = meta.title\n",
    "value = farm_annual_energy\n",
    "units = meta.units[0]\n",
    "message = \"<p><b>{}:</b> <i>{}</i> ({})</p>\".format(name, value, units)\n",
    "\n",
    "HTML(message)"
   ]
  },
  {
   "cell_type": "code",
   "execution_count": null,
   "metadata": {
    "collapsed": false
   },
   "outputs": [],
   "source": [
    "port = new_core.get_data_value(new_project, \"farm.port\")\n",
    "meta = new_core.get_metadata(\"farm.port\")\n",
    "name = meta.title\n",
    "value = port\n",
    "units = meta.units[0]\n",
    "message = \"<p><b>{}:</b> <i>{}</i> ({})</p>\".format(name, value, units)\n",
    "\n",
    "HTML(message)"
   ]
  },
  {
   "cell_type": "code",
   "execution_count": null,
   "metadata": {
    "collapsed": false
   },
   "outputs": [],
   "source": [
    "number_of_journeys = new_core.get_data_value(new_project, \"farm.installation_journeys\")\n",
    "number_of_journeys"
   ]
  },
  {
   "cell_type": "code",
   "execution_count": null,
   "metadata": {
    "collapsed": false
   },
   "outputs": [],
   "source": [
    "f = installation_branch.get_output_variable(new_core, new_project, \"farm.install_device_cost\")\n",
    "f.plot(new_core,new_project)"
   ]
  },
  {
   "cell_type": "code",
   "execution_count": null,
   "metadata": {
    "collapsed": false
   },
   "outputs": [],
   "source": [
    "support_structure = new_core.get_data_value(new_project, \"farm.install_device_time\")\n",
    "support_structure"
   ]
  },
  {
   "cell_type": "code",
   "execution_count": null,
   "metadata": {
    "collapsed": false
   },
   "outputs": [],
   "source": [
    "f = installation_branch.get_output_variable(new_core, new_project, \"farm.install_collection_point_cost\")\n",
    "f.plot(new_core,new_project)"
   ]
  },
  {
   "cell_type": "code",
   "execution_count": null,
   "metadata": {
    "collapsed": false
   },
   "outputs": [],
   "source": [
    "f = installation_branch.get_output_variable(new_core, new_project, \"farm.install_pile_anchor_cost\")\n",
    "f.plot(new_core,new_project)"
   ]
  },
  {
   "cell_type": "code",
   "execution_count": null,
   "metadata": {
    "collapsed": false
   },
   "outputs": [],
   "source": [
    "support_structure = new_core.get_data_value(new_project, \"farm.install_collection_point_cost\")\n",
    "support_structure"
   ]
  },
  {
   "cell_type": "code",
   "execution_count": null,
   "metadata": {
    "collapsed": true
   },
   "outputs": [],
   "source": []
  }
 ],
 "metadata": {
  "kernelspec": {
   "display_name": "Python 2",
   "language": "python",
   "name": "python2"
  },
  "language_info": {
   "codemirror_mode": {
    "name": "ipython",
    "version": 2
   },
   "file_extension": ".py",
   "mimetype": "text/x-python",
   "name": "python",
   "nbconvert_exporter": "python",
   "pygments_lexer": "ipython2",
   "version": "2.7.12"
  }
 },
 "nbformat": 4,
 "nbformat_minor": 0
}
